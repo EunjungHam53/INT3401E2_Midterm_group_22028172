{
 "cells": [
  {
   "cell_type": "code",
   "execution_count": 1,
   "id": "4dfb1484",
   "metadata": {
    "_cell_guid": "0d428d71-24a7-41ca-b8ef-91a62c6351bb",
    "_uuid": "777f311e-aaab-4cbf-8427-94523806e0a8",
    "collapsed": false,
    "execution": {
     "iopub.execute_input": "2025-05-06T17:09:14.799255Z",
     "iopub.status.busy": "2025-05-06T17:09:14.798933Z",
     "iopub.status.idle": "2025-05-06T17:09:20.759582Z",
     "shell.execute_reply": "2025-05-06T17:09:20.758872Z"
    },
    "jupyter": {
     "outputs_hidden": false
    },
    "papermill": {
     "duration": 5.966778,
     "end_time": "2025-05-06T17:09:20.761120",
     "exception": false,
     "start_time": "2025-05-06T17:09:14.794342",
     "status": "completed"
    },
    "tags": []
   },
   "outputs": [],
   "source": [
    "import os\n",
    "import pandas as pd\n",
    "import torch\n",
    "import torch.nn as nn\n",
    "from torch.utils.data import DataLoader, TensorDataset\n",
    "import numpy as np\n",
    "from sklearn.metrics import mean_squared_error, r2_score\n",
    "import json\n",
    "import optuna\n",
    "from functools import partial\n",
    "from joblib import Memory\n",
    "\n",
    "# Setup memory cache\n",
    "cache_dir = './joblib_cache'\n",
    "memory = Memory(cache_dir, verbose=0)\n",
    "\n",
    "class Config:\n",
    "    TARGET = 'AWS'\n",
    "    USE_LAG_FEATURES = True\n",
    "    USE_ROLLING_STATISTICS = True\n",
    "\n",
    "# Paths\n",
    "base_path = \"/kaggle/input/ai-dataimputedataset-k-fold\"\n",
    "months = [\"2019-04\", \"2019-10\", \"2020-04\", \"2020-10\"]\n",
    "folds = [f\"fold_{i}\" for i in range(1, 6)]\n",
    "\n",
    "# Define selected features\n",
    "selected_features = [\n",
    "    'TCW', 'TCLW', 'R250', 'R500', 'R850', 'U850', 'V850', 'EWSS', 'KX', 'CAPE', 'SSHF', 'PEV'\n",
    "]\n",
    "\n",
    "# Device configuration\n",
    "DEVICE = torch.device(\"cuda\" if torch.cuda.is_available() else \"cpu\")\n",
    "\n",
    "# Model parameters - now configurable via Optuna\n",
    "MODEL_CONFIG = {\n",
    "    \"04\": {\"BATCH_SIZE\": 64, \"EPOCHS\": 10},\n",
    "    \"10\": {\"BATCH_SIZE\": 128, \"EPOCHS\": 15},\n",
    "}\n",
    "\n",
    "# Create lag features\n",
    "@memory.cache\n",
    "def create_lag_features(train_df, test_df, target_column, lag_steps, groupby_cols):\n",
    "    \"\"\"Create lag features for the target column\"\"\"\n",
    "    result_df = test_df.copy()\n",
    "    \n",
    "    # Combine train and test for continuous time series\n",
    "    combined_df = pd.concat([train_df, test_df]).sort_values('DATETIME').reset_index(drop=True)\n",
    "    \n",
    "    # Create lag features\n",
    "    for lag in lag_steps:\n",
    "        combined_df[f'{target_column}_lag{lag}'] = combined_df.groupby(groupby_cols)[target_column].shift(lag)\n",
    "    \n",
    "    # Extract only the test portion with lag features\n",
    "    result_df = combined_df.iloc[len(train_df):].reset_index(drop=True)\n",
    "\n",
    "    return result_df\n",
    "\n",
    "# Create rolling statistics\n",
    "@memory.cache\n",
    "def create_rolling_statistics(train_df, test_df, target_column, window_sizes, groupby_cols):\n",
    "    \"\"\"Create rolling statistics features for the target column\"\"\"\n",
    "    result_df = test_df.copy()\n",
    "    \n",
    "    # Combine train and test for continuous rolling stats\n",
    "    combined_df = pd.concat([train_df, test_df]).sort_values('DATETIME').reset_index(drop=True)\n",
    "    \n",
    "    # Create rolling features\n",
    "    for window in window_sizes:\n",
    "        # Rolling mean\n",
    "        combined_df[f'{target_column}_rollmean_{window}'] = combined_df.groupby(groupby_cols)[target_column].transform(\n",
    "            lambda x: x.rolling(window, min_periods=1).mean())\n",
    "        # Rolling std\n",
    "        combined_df[f'{target_column}_rollstd_{window}'] = combined_df.groupby(groupby_cols)[target_column].transform(\n",
    "            lambda x: x.rolling(window, min_periods=1).std())\n",
    "    \n",
    "    # Extract only the test portion with rolling features\n",
    "    result_df = combined_df.iloc[len(train_df):].reset_index(drop=True)\n",
    "    \n",
    "    return result_df\n",
    "\n",
    "# Handle missing values\n",
    "@memory.cache\n",
    "def handle_missing_values(df, lag_steps, window_sizes):\n",
    "    \"\"\"Handle missing values in the dataframe\"\"\"\n",
    "    result_df = df.copy()\n",
    "    \n",
    "    # Fill NaN values in lag features with 0\n",
    "    for lag in lag_steps:\n",
    "        lag_col = f'{Config.TARGET}_lag{lag}'\n",
    "        if lag_col in result_df.columns:\n",
    "            result_df[lag_col] = result_df[lag_col].fillna(0)\n",
    "    \n",
    "    # Fill NaN values in rolling features with 0\n",
    "    for window in window_sizes:\n",
    "        mean_col = f'{Config.TARGET}_rollmean_{window}'\n",
    "        std_col = f'{Config.TARGET}_rollstd_{window}'\n",
    "        \n",
    "        if mean_col in result_df.columns:\n",
    "            result_df[mean_col] = result_df[mean_col].fillna(0)\n",
    "        \n",
    "        if std_col in result_df.columns:\n",
    "            result_df[std_col] = result_df[std_col].fillna(0)\n",
    "    \n",
    "    # Fill remaining NaNs with 0\n",
    "    result_df = result_df.fillna(0)\n",
    "    \n",
    "    return result_df\n",
    "\n",
    "\n",
    "\n",
    "# Modified load_and_process_data function to filter features\n",
    "@memory.cache\n",
    "def load_and_process_data(file_path, train_file_path=None, lag_steps=None, window_sizes=None):\n",
    "    \"\"\"\n",
    "    Load and process data from file_path with optional lag features and rolling statistics\n",
    "    If train_file_path is provided, use it for creating lag and rolling features\n",
    "    \"\"\"\n",
    "    \n",
    "    try:\n",
    "        raw_df = pd.read_csv(file_path)\n",
    "        \n",
    "        # Filter to keep only selected features plus essential columns\n",
    "        essential_cols = ['DATETIME', 'ROW', 'COL', Config.TARGET]\n",
    "        feature_cols = [col for col in selected_features if col in raw_df.columns]\n",
    "        filtered_cols = essential_cols + feature_cols\n",
    "        \n",
    "        # Keep only needed columns\n",
    "        raw_df = raw_df[filtered_cols]\n",
    "        \n",
    "        # Convert target to numeric and handle NaN/inf values\n",
    "        raw_df[Config.TARGET] = pd.to_numeric(raw_df[Config.TARGET], errors='coerce')\n",
    "        raw_df = raw_df.replace([np.inf, -np.inf], np.nan)\n",
    "        df = raw_df.dropna(subset=[Config.TARGET]).copy()\n",
    "        \n",
    "        # Sort by datetime for proper sequence handling\n",
    "        if 'DATETIME' in df.columns:\n",
    "            df = df.sort_values(\"DATETIME\").reset_index(drop=True)\n",
    "        \n",
    "        # If we're in train mode or not creating lag/rolling features\n",
    "        if train_file_path is None or (lag_steps is None and window_sizes is None):\n",
    "            return df\n",
    "        \n",
    "        # Otherwise, we're in eval mode and need to carefully create features\n",
    "        train_df = pd.read_csv(train_file_path)\n",
    "        \n",
    "        # Filter training data to keep only selected features\n",
    "        train_df = train_df[filtered_cols]\n",
    "        \n",
    "        train_df[Config.TARGET] = pd.to_numeric(train_df[Config.TARGET], errors='coerce')\n",
    "        train_df = train_df.replace([np.inf, -np.inf], np.nan)\n",
    "        train_df = train_df.dropna(subset=[Config.TARGET]).copy()\n",
    "        \n",
    "        if 'DATETIME' in train_df.columns:\n",
    "            train_df = train_df.sort_values(\"DATETIME\").reset_index(drop=True)\n",
    "        \n",
    "        # Create lag features if needed\n",
    "        if Config.USE_LAG_FEATURES and lag_steps:\n",
    "            df = create_lag_features(train_df, df, Config.TARGET, lag_steps, ['ROW', 'COL'])\n",
    "        \n",
    "        # Create rolling statistics if needed\n",
    "        if Config.USE_ROLLING_STATISTICS and window_sizes:\n",
    "            df = create_rolling_statistics(train_df, df, Config.TARGET, window_sizes, ['ROW', 'COL'])\n",
    "        \n",
    "        # Handle missing values\n",
    "        if lag_steps or window_sizes:\n",
    "            df = handle_missing_values(df, lag_steps or [], window_sizes or [])\n",
    "     \n",
    "        return df\n",
    "        \n",
    "    except Exception as e:\n",
    "        print(f\" Error loading or processing data: {str(e)}\")\n",
    "        return pd.DataFrame()\n",
    "\n",
    "# # Enhanced LSTM Model\n",
    "# class LSTMModel(nn.Module):\n",
    "#     def __init__(self, input_size, hidden_size=64, num_layers=2, dropout=0.0, time_step_out=1):\n",
    "#         super(LSTMModel, self).__init__()\n",
    "#         self.lstm = nn.LSTM(input_size, hidden_size, num_layers, batch_first=True, dropout=dropout)\n",
    "#         self.fc = nn.Linear(hidden_size, time_step_out)\n",
    "#         self.time_step_out = time_step_out\n",
    "\n",
    "#     def forward(self, x):\n",
    "#         out, _ = self.lstm(x)\n",
    "#         return self.fc(out[:, -1, :])\n",
    "\n",
    "# Create sequences with configurable input and output time steps\n",
    "def create_sequences(df, input_cols, target_col, time_step_in, time_step_out=1, stride=1):\n",
    "    \"\"\"\n",
    "    Create sequences from dataframe with configurable input and output time steps\n",
    "    - time_step_in: number of time steps for input\n",
    "    - time_step_out: number of future steps to predict\n",
    "    - stride: step size for sliding window\n",
    "    \"\"\"\n",
    "    sequences, targets = [], []\n",
    "    grouped = df.groupby(['ROW', 'COL'])\n",
    "    \n",
    "    for _, group in grouped:\n",
    "        # Make sure group is sorted by time\n",
    "        if 'DATETIME' in group.columns:\n",
    "            group = group.sort_values(\"DATETIME\")\n",
    "            \n",
    "        data = group[input_cols].values\n",
    "        target_data = group[target_col].values\n",
    "        \n",
    "        if len(data) < time_step_in + time_step_out:\n",
    "            continue\n",
    "        \n",
    "        for i in range(0, len(data) - time_step_in - time_step_out + 1, stride):\n",
    "            seq = data[i:i+time_step_in]\n",
    "            if time_step_out == 1:\n",
    "                target = target_data[i+time_step_in]\n",
    "                targets.append(target)\n",
    "            else:\n",
    "                target = target_data[i+time_step_in:i+time_step_in+time_step_out]\n",
    "                targets.append(target)\n",
    "            sequences.append(seq)\n",
    "            \n",
    "    if not sequences:\n",
    "        return torch.tensor([]), torch.tensor([])\n",
    "    \n",
    "    if time_step_out == 1:\n",
    "        return torch.tensor(sequences, dtype=torch.float32), torch.tensor(targets, dtype=torch.float32).unsqueeze(1)\n",
    "    else:\n",
    "        return torch.tensor(sequences, dtype=torch.float32), torch.tensor(targets, dtype=torch.float32)\n",
    "\n",
    "# Prepare data loaders\n",
    "# Modified prepare_data_loaders function\n",
    "def prepare_data_loaders(month, fold, lag_steps, window_sizes, time_step_in, time_step_out, batch_size, stride=1):\n",
    "    \"\"\"Prepare data loaders with specific time steps and features\"\"\"\n",
    "    folder = os.path.join(base_path, month, fold)\n",
    "    \n",
    "    # Load train data\n",
    "    train_df = load_and_process_data(os.path.join(folder, \"processed_train.csv\"))\n",
    "    \n",
    "    # Load validation data\n",
    "    val_df = load_and_process_data(os.path.join(folder, \"processed_val.csv\"))\n",
    "    \n",
    "    # Load test data\n",
    "    test_df = load_and_process_data(os.path.join(folder, \"merged_test.csv\"))\n",
    "    \n",
    "    if train_df.empty or val_df.empty or test_df.empty:\n",
    "        print(\" One or more datasets are empty\")\n",
    "        return None, None, None, 0\n",
    "    \n",
    "    # Sort data by time\n",
    "    if 'DATETIME' in train_df.columns:\n",
    "        train_df = train_df.sort_values(\"DATETIME\").reset_index(drop=True)\n",
    "    if 'DATETIME' in val_df.columns:\n",
    "        val_df = val_df.sort_values(\"DATETIME\").reset_index(drop=True)\n",
    "    if 'DATETIME' in test_df.columns:\n",
    "        test_df = test_df.sort_values(\"DATETIME\").reset_index(drop=True)\n",
    "    \n",
    "    # Create features before further processing\n",
    "    # 1. Create lag features separately for each dataset\n",
    "    if Config.USE_LAG_FEATURES and lag_steps:\n",
    "        # Create lag features for train set using itself\n",
    "        for lag in lag_steps:\n",
    "            train_df[f'{Config.TARGET}_lag{lag}'] = train_df.groupby(['ROW', 'COL'])[Config.TARGET].shift(lag)\n",
    "        \n",
    "        # Create lag features for validation set using train + val\n",
    "        train_val_df = pd.concat([train_df, val_df]).sort_values('DATETIME').reset_index(drop=True)\n",
    "        for lag in lag_steps:\n",
    "            train_val_df[f'{Config.TARGET}_lag{lag}'] = train_val_df.groupby(['ROW', 'COL'])[Config.TARGET].shift(lag)\n",
    "        val_df = train_val_df.iloc[len(train_df):].reset_index(drop=True)\n",
    "        \n",
    "        # Create lag features for test set using train + val + test\n",
    "        full_df = pd.concat([train_df, val_df, test_df]).sort_values('DATETIME').reset_index(drop=True)\n",
    "        for lag in lag_steps:\n",
    "            full_df[f'{Config.TARGET}_lag{lag}'] = full_df.groupby(['ROW', 'COL'])[Config.TARGET].shift(lag)\n",
    "        test_df = full_df.iloc[len(train_df) + len(val_df):].reset_index(drop=True)\n",
    "    \n",
    "    # 2. Create rolling statistics separately for each dataset\n",
    "    if Config.USE_ROLLING_STATISTICS and window_sizes:\n",
    "        # Create rolling stats for train set\n",
    "        for window in window_sizes:\n",
    "            train_df[f'{Config.TARGET}_rollmean_{window}'] = train_df.groupby(['ROW', 'COL'])[Config.TARGET].transform(\n",
    "                lambda x: x.rolling(window, min_periods=1).mean())\n",
    "            train_df[f'{Config.TARGET}_rollstd_{window}'] = train_df.groupby(['ROW', 'COL'])[Config.TARGET].transform(\n",
    "                lambda x: x.rolling(window, min_periods=1).std())\n",
    "        \n",
    "        # Create rolling stats for validation set\n",
    "        train_val_df = pd.concat([train_df, val_df]).sort_values('DATETIME').reset_index(drop=True)\n",
    "        for window in window_sizes:\n",
    "            train_val_df[f'{Config.TARGET}_rollmean_{window}'] = train_val_df.groupby(['ROW', 'COL'])[Config.TARGET].transform(\n",
    "                lambda x: x.rolling(window, min_periods=1).mean())\n",
    "            train_val_df[f'{Config.TARGET}_rollstd_{window}'] = train_val_df.groupby(['ROW', 'COL'])[Config.TARGET].transform(\n",
    "                lambda x: x.rolling(window, min_periods=1).std())\n",
    "        val_df = train_val_df.iloc[len(train_df):].reset_index(drop=True)\n",
    "        \n",
    "        # Create rolling stats for test set\n",
    "        full_df = pd.concat([train_df, val_df, test_df]).sort_values('DATETIME').reset_index(drop=True)\n",
    "        for window in window_sizes:\n",
    "            full_df[f'{Config.TARGET}_rollmean_{window}'] = full_df.groupby(['ROW', 'COL'])[Config.TARGET].transform(\n",
    "                lambda x: x.rolling(window, min_periods=1).mean())\n",
    "            full_df[f'{Config.TARGET}_rollstd_{window}'] = full_df.groupby(['ROW', 'COL'])[Config.TARGET].transform(\n",
    "                lambda x: x.rolling(window, min_periods=1).std())\n",
    "        test_df = full_df.iloc[len(train_df) + len(val_df):].reset_index(drop=True)\n",
    "    \n",
    "    # Handle missing values\n",
    "    train_df = train_df.fillna(0)\n",
    "    val_df = val_df.fillna(0)\n",
    "    test_df = test_df.fillna(0)\n",
    "    \n",
    "    # Prepare feature columns - exclude DATETIME, ROW, COL and target column\n",
    "    # Include selected_features that are in the DataFrame\n",
    "    basic_cols = [col for col in selected_features if col in train_df.columns]\n",
    "    lag_cols = [f'{Config.TARGET}_lag{lag}' for lag in lag_steps if f'{Config.TARGET}_lag{lag}' in train_df.columns]\n",
    "    roll_cols = []\n",
    "    \n",
    "    for window in window_sizes:\n",
    "        mean_col = f'{Config.TARGET}_rollmean_{window}'\n",
    "        std_col = f'{Config.TARGET}_rollstd_{window}'\n",
    "        if mean_col in train_df.columns:\n",
    "            roll_cols.append(mean_col)\n",
    "        if std_col in train_df.columns:\n",
    "            roll_cols.append(std_col)\n",
    "    \n",
    "    feature_cols = basic_cols + lag_cols + roll_cols\n",
    "    \n",
    "    # Check if we have any features\n",
    "    if not feature_cols:\n",
    "        print(\" No features detected! Creating default lag feature.\")\n",
    "        # Create at least one default lag feature\n",
    "        default_lag = 1\n",
    "        for df in [train_df, val_df, test_df]:\n",
    "            df[f'{Config.TARGET}_lag{default_lag}'] = df.groupby(['ROW', 'COL'])[Config.TARGET].shift(default_lag)\n",
    "            df = df.fillna(0)\n",
    "        \n",
    "        feature_cols = [f'{Config.TARGET}_lag{default_lag}']\n",
    "    \n",
    "    print(f\"Using {len(feature_cols)} features: {feature_cols}\")\n",
    "    \n",
    "    # Create sequences\n",
    "    train_x, train_y = create_sequences(train_df, feature_cols, Config.TARGET, time_step_in, time_step_out, stride)\n",
    "    val_x, val_y = create_sequences(val_df, feature_cols, Config.TARGET, time_step_in, time_step_out, stride)\n",
    "    test_x, test_y = create_sequences(test_df, feature_cols, Config.TARGET, time_step_in, time_step_out, stride)\n",
    "    \n",
    "    if train_x.numel() == 0 or val_x.numel() == 0 or test_x.numel() == 0:\n",
    "        print(\" One or more sequence sets are empty\")\n",
    "        return None, None, None, 0\n",
    "    \n",
    "    print(f\" Data shapes - Train: {train_x.shape}, Val: {val_x.shape}, Test: {test_x.shape}\")\n",
    "    \n",
    "    # Create data loaders\n",
    "    train_loader = DataLoader(TensorDataset(train_x, train_y), batch_size=batch_size, shuffle=True)\n",
    "    val_loader = DataLoader(TensorDataset(val_x, val_y), batch_size=batch_size)\n",
    "    test_loader = DataLoader(TensorDataset(test_x, test_y), batch_size=batch_size)\n",
    "    \n",
    "    return train_loader, val_loader, test_loader, train_x.shape[2]"
   ]
  },
  {
   "cell_type": "code",
   "execution_count": 2,
   "id": "4f8c0a21",
   "metadata": {
    "execution": {
     "iopub.execute_input": "2025-05-06T17:09:20.767616Z",
     "iopub.status.busy": "2025-05-06T17:09:20.767274Z",
     "iopub.status.idle": "2025-05-06T17:09:20.779605Z",
     "shell.execute_reply": "2025-05-06T17:09:20.779040Z"
    },
    "papermill": {
     "duration": 0.016712,
     "end_time": "2025-05-06T17:09:20.780858",
     "exception": false,
     "start_time": "2025-05-06T17:09:20.764146",
     "status": "completed"
    },
    "tags": []
   },
   "outputs": [],
   "source": [
    "# Hybrid LSTM Classification-Regression Model\n",
    "import torch\n",
    "import torch.nn as nn\n",
    "import torch.nn.functional as F\n",
    "\n",
    "class HybridLSTMModel(nn.Module):\n",
    "    def __init__(self, input_size, hidden_size=64, num_layers=2, dropout=0.0, time_step_out=1):\n",
    "        super(HybridLSTMModel, self).__init__()\n",
    "        self.lstm = nn.LSTM(input_size, hidden_size, num_layers, batch_first=True, dropout=dropout)\n",
    "        \n",
    "        # Shared feature extraction\n",
    "        self.feature_layer = nn.Linear(hidden_size, hidden_size // 2)\n",
    "        \n",
    "        # Binary classification: rain or no rain\n",
    "        self.rain_classifier = nn.Linear(hidden_size // 2, 1)  # Binary output (0=no rain, 1=rain)\n",
    "        \n",
    "        # Rain intensity classifier (conditionally used)\n",
    "        self.intensity_classifier = nn.Linear(hidden_size // 2, 3)  # 3 classes: small, medium, heavy\n",
    "        \n",
    "        # Regression head for rain volume (conditionally used)\n",
    "        self.regressor = nn.Linear(hidden_size // 2, time_step_out)\n",
    "        \n",
    "        self.time_step_out = time_step_out\n",
    "        self.hidden_size = hidden_size\n",
    "\n",
    "    def forward(self, x):\n",
    "        # LSTM feature extraction\n",
    "        lstm_out, _ = self.lstm(x)\n",
    "        last_out = lstm_out[:, -1, :]  # Get the last time step output\n",
    "        \n",
    "        # Extract shared features\n",
    "        features = F.relu(self.feature_layer(last_out))\n",
    "        \n",
    "        # Binary classification: rain or no rain\n",
    "        rain_logits = self.rain_classifier(features)\n",
    "        rain_prob = torch.sigmoid(rain_logits)  # Probability of rain\n",
    "        \n",
    "        # Rain intensity classification (3 classes)\n",
    "        intensity_logits = self.intensity_classifier(features)\n",
    "        intensity_probs = F.softmax(intensity_logits, dim=1)  # Probabilities for each intensity class\n",
    "        \n",
    "        # Regression for rain amount\n",
    "        regression_out = self.regressor(features)\n",
    "        \n",
    "        return {\n",
    "            'rain_logits': rain_logits,\n",
    "            'rain_prob': rain_prob,\n",
    "            'intensity_logits': intensity_logits,\n",
    "            'intensity_probs': intensity_probs,\n",
    "            'regression': regression_out\n",
    "        }\n",
    "\n",
    "# Custom loss function that combines binary classification, multiclass classification, and regression\n",
    "class HybridRainfallLoss(nn.Module):\n",
    "    def __init__(self, rain_threshold=0.1, class_boundaries=[0.0, 2.5, 6.0], \n",
    "                 binary_weight=1.0, intensity_weight=1.0, regression_weight=1.0):\n",
    "        super(HybridRainfallLoss, self).__init__()\n",
    "        self.rain_threshold = rain_threshold\n",
    "        self.class_boundaries = class_boundaries\n",
    "        \n",
    "        # Loss weights\n",
    "        self.binary_weight = binary_weight\n",
    "        self.intensity_weight = intensity_weight\n",
    "        self.regression_weight = regression_weight\n",
    "        \n",
    "        # Individual loss functions\n",
    "        self.binary_loss_fn = nn.BCEWithLogitsLoss(reduction='mean')\n",
    "        self.intensity_loss_fn = nn.CrossEntropyLoss(reduction='mean')\n",
    "        self.regression_loss_fn = nn.MSELoss(reduction='mean')\n",
    "    \n",
    "    def forward(self, outputs, targets):\n",
    "        # Extract model outputs\n",
    "        rain_logits = outputs['rain_logits']\n",
    "        intensity_logits = outputs['intensity_logits']\n",
    "        regression = outputs['regression']\n",
    "        \n",
    "        # Prepare target values\n",
    "        # Binary rain targets (1 if rain > threshold, 0 otherwise)\n",
    "        binary_targets = (targets > self.rain_threshold).float()\n",
    "        \n",
    "        # Intensity class targets (0=small, 1=medium, 2=heavy)\n",
    "        # Create class masks\n",
    "        small_mask = (targets > self.class_boundaries[0]) & (targets <= self.class_boundaries[1])\n",
    "        medium_mask = (targets > self.class_boundaries[1]) & (targets <= self.class_boundaries[2])\n",
    "        heavy_mask = (targets > self.class_boundaries[2])\n",
    "        \n",
    "        # Convert to class indices (0, 1, or 2)\n",
    "        intensity_targets = torch.zeros_like(targets, dtype=torch.long)\n",
    "        intensity_targets[medium_mask] = 1\n",
    "        intensity_targets[heavy_mask] = 2\n",
    "        \n",
    "        # Only consider intensity loss for samples where rain exists\n",
    "        valid_intensity_mask = binary_targets.bool().squeeze()\n",
    "        \n",
    "        # Calculate losses\n",
    "        binary_loss = self.binary_loss_fn(rain_logits, binary_targets)\n",
    "        \n",
    "        # Only calculate intensity loss on rainy samples (if any exist)\n",
    "        if valid_intensity_mask.sum() > 0:\n",
    "            intensity_loss = self.intensity_loss_fn(\n",
    "                intensity_logits[valid_intensity_mask], \n",
    "                intensity_targets[valid_intensity_mask].squeeze()\n",
    "            )\n",
    "        else:\n",
    "            intensity_loss = torch.tensor(0.0, device=rain_logits.device)\n",
    "        \n",
    "        # For regression, we can either:\n",
    "        # 1. Apply regression loss to all samples\n",
    "        # 2. Apply regression loss only to rainy samples\n",
    "        # Let's use option 2 for better focus on rain prediction\n",
    "        if valid_intensity_mask.sum() > 0:\n",
    "            regression_loss = self.regression_loss_fn(\n",
    "                regression[valid_intensity_mask], \n",
    "                targets[valid_intensity_mask]\n",
    "            )\n",
    "        else:\n",
    "            regression_loss = torch.tensor(0.0, device=rain_logits.device)\n",
    "        \n",
    "        # Combine losses with weights\n",
    "        total_loss = (\n",
    "            self.binary_weight * binary_loss +\n",
    "            self.intensity_weight * intensity_loss +\n",
    "            self.regression_weight * regression_loss\n",
    "        )\n",
    "        \n",
    "        return {\n",
    "            'total_loss': total_loss,\n",
    "            'binary_loss': binary_loss.item(),\n",
    "            'intensity_loss': intensity_loss.item() if isinstance(intensity_loss, torch.Tensor) else intensity_loss,\n",
    "            'regression_loss': regression_loss.item() if isinstance(regression_loss, torch.Tensor) else regression_loss\n",
    "        }\n",
    "\n",
    "# Function to get final predictions combining classification and regression\n",
    "def get_hybrid_predictions(outputs):\n",
    "    rain_prob = outputs['rain_prob']\n",
    "    intensity_probs = outputs['intensity_probs']\n",
    "    regression = outputs['regression']\n",
    "    \n",
    "    # Binary decision: rain or no rain\n",
    "    is_rain = rain_prob > 0.5\n",
    "    \n",
    "    # Get the most likely intensity class\n",
    "    _, intensity_class = torch.max(intensity_probs, dim=1)\n",
    "    \n",
    "    # Initialize predictions with zeros (no rain)\n",
    "    final_predictions = torch.zeros_like(regression)\n",
    "    \n",
    "    # Where rain is predicted, use regression values\n",
    "    final_predictions[is_rain] = regression[is_rain]\n",
    "    \n",
    "    return {\n",
    "        'is_rain': is_rain,\n",
    "        'intensity_class': intensity_class,\n",
    "        'regression': regression,\n",
    "        'final_predictions': final_predictions\n",
    "    }"
   ]
  },
  {
   "cell_type": "code",
   "execution_count": 3,
   "id": "eb86b080",
   "metadata": {
    "execution": {
     "iopub.execute_input": "2025-05-06T17:09:20.786607Z",
     "iopub.status.busy": "2025-05-06T17:09:20.786397Z",
     "iopub.status.idle": "2025-05-06T17:09:20.798251Z",
     "shell.execute_reply": "2025-05-06T17:09:20.797613Z"
    },
    "papermill": {
     "duration": 0.016033,
     "end_time": "2025-05-06T17:09:20.799400",
     "exception": false,
     "start_time": "2025-05-06T17:09:20.783367",
     "status": "completed"
    },
    "tags": []
   },
   "outputs": [],
   "source": [
    "# Modified train_model function for hybrid model\n",
    "def train_hybrid_model(model, loader, optimizer, loss_fn, epochs, patience=3):\n",
    "    \"\"\"Train hybrid model with early stopping\"\"\"\n",
    "    model.train()\n",
    "    best_loss = float('inf')\n",
    "    patience_counter = 0\n",
    "    \n",
    "    for epoch in range(epochs):\n",
    "        running_loss = 0.0\n",
    "        running_binary_loss = 0.0\n",
    "        running_intensity_loss = 0.0\n",
    "        running_regression_loss = 0.0\n",
    "        \n",
    "        for xb, yb in loader:\n",
    "            xb, yb = xb.to(DEVICE), yb.to(DEVICE)\n",
    "            optimizer.zero_grad()\n",
    "            \n",
    "            # Get model outputs\n",
    "            outputs = model(xb)\n",
    "            \n",
    "            # Calculate loss\n",
    "            loss_dict = loss_fn(outputs, yb)\n",
    "            total_loss = loss_dict['total_loss']\n",
    "            \n",
    "            # Backpropagation\n",
    "            total_loss.backward()\n",
    "            optimizer.step()\n",
    "            \n",
    "            # Track losses\n",
    "            running_loss += total_loss.item() * xb.size(0)\n",
    "            running_binary_loss += loss_dict['binary_loss'] * xb.size(0)\n",
    "            running_intensity_loss += loss_dict['intensity_loss'] * xb.size(0)\n",
    "            running_regression_loss += loss_dict['regression_loss'] * xb.size(0)\n",
    "        \n",
    "        # Calculate average losses\n",
    "        avg_loss = running_loss / len(loader.dataset)\n",
    "        avg_binary_loss = running_binary_loss / len(loader.dataset)\n",
    "        avg_intensity_loss = running_intensity_loss / len(loader.dataset)\n",
    "        avg_regression_loss = running_regression_loss / len(loader.dataset)\n",
    "        \n",
    "        print(f\"   Epoch {epoch+1}/{epochs}, Total Loss: {avg_loss:.4f}, \"\n",
    "              f\"Binary: {avg_binary_loss:.4f}, Intensity: {avg_intensity_loss:.4f}, \"\n",
    "              f\"Regression: {avg_regression_loss:.4f}\")\n",
    "        \n",
    "        # Early stopping check\n",
    "        if avg_loss < best_loss:\n",
    "            best_loss = avg_loss\n",
    "            patience_counter = 0\n",
    "        else:\n",
    "            patience_counter += 1\n",
    "            if patience_counter >= patience:\n",
    "                print(f\"   Early stopping at epoch {epoch+1}\")\n",
    "                break\n",
    "    \n",
    "    return best_loss\n",
    "\n",
    "# Modified evaluate_model function for hybrid model\n",
    "def evaluate_hybrid_model(model, loader, rain_threshold=0.1):\n",
    "    \"\"\"Evaluate hybrid model and return metrics\"\"\"\n",
    "    model.eval()\n",
    "    all_preds = []\n",
    "    all_targets = []\n",
    "    all_binary_preds = []\n",
    "    all_binary_targets = []\n",
    "    all_intensity_preds = []\n",
    "    all_intensity_targets = []\n",
    "    \n",
    "    # Classification thresholds for defining rain intensity classes\n",
    "    class_boundaries = [0.0, 2.5, 6.0]\n",
    "    \n",
    "    with torch.no_grad():\n",
    "        for xb, yb in loader:\n",
    "            xb = xb.to(DEVICE)\n",
    "            outputs = model(xb)\n",
    "            \n",
    "            # Get predictions\n",
    "            pred_dict = get_hybrid_predictions(outputs)\n",
    "            final_preds = pred_dict['final_predictions'].cpu()\n",
    "            is_rain = pred_dict['is_rain'].cpu()\n",
    "            intensity_class = pred_dict['intensity_class'].cpu()\n",
    "            \n",
    "            # Get binary targets (rain/no rain)\n",
    "            binary_targets = (yb > rain_threshold).float()\n",
    "            \n",
    "            # Get intensity class targets\n",
    "            intensity_targets = torch.zeros_like(yb, dtype=torch.long)\n",
    "            intensity_targets[(yb > class_boundaries[0]) & (yb <= class_boundaries[1])] = 0  # Small rain\n",
    "            intensity_targets[(yb > class_boundaries[1]) & (yb <= class_boundaries[2])] = 1  # Medium rain\n",
    "            intensity_targets[yb > class_boundaries[2]] = 2  # Heavy rain\n",
    "            \n",
    "            # Store predictions and targets\n",
    "            all_preds.append(final_preds)\n",
    "            all_targets.append(yb)\n",
    "            all_binary_preds.append(is_rain)\n",
    "            all_binary_targets.append(binary_targets)\n",
    "            all_intensity_preds.append(intensity_class)\n",
    "            all_intensity_targets.append(intensity_targets)\n",
    "    \n",
    "    # Concatenate results\n",
    "    all_preds = torch.cat(all_preds).squeeze().numpy()\n",
    "    all_targets = torch.cat(all_targets).squeeze().numpy()\n",
    "    all_binary_preds = torch.cat(all_binary_preds).squeeze().numpy()\n",
    "    all_binary_targets = torch.cat(all_binary_targets).squeeze().numpy()\n",
    "    all_intensity_preds = torch.cat(all_intensity_preds).squeeze().numpy()\n",
    "    all_intensity_targets = torch.cat(all_intensity_targets).squeeze().numpy()\n",
    "    \n",
    "    # Calculate regression metrics\n",
    "    rmse = mean_squared_error(all_targets, all_preds, squared=False)\n",
    "    bias = np.mean(all_preds - all_targets)\n",
    "    r2 = r2_score(all_targets, all_preds)\n",
    "    \n",
    "    # Calculate classification metrics\n",
    "    binary_accuracy = np.mean(all_binary_preds == all_binary_targets)\n",
    "    \n",
    "    # Calculate Critical Success Index (CSI) for rain detection\n",
    "    tp = np.sum((all_binary_preds == 1) & (all_binary_targets == 1))\n",
    "    fp = np.sum((all_binary_preds == 1) & (all_binary_targets == 0))\n",
    "    fn = np.sum((all_binary_preds == 0) & (all_binary_targets == 1))\n",
    "    csi = tp / (tp + fp + fn + 1e-9)\n",
    "    \n",
    "    # Calculate intensity classification accuracy (only for actual rain samples)\n",
    "    rain_mask = all_binary_targets == 1\n",
    "    if np.sum(rain_mask) > 0:\n",
    "        intensity_accuracy = np.mean(all_intensity_preds[rain_mask] == all_intensity_targets[rain_mask])\n",
    "    else:\n",
    "        intensity_accuracy = np.nan\n",
    "    \n",
    "    # Return all metrics\n",
    "    metrics = {\n",
    "        'rmse': rmse,\n",
    "        'bias': bias,\n",
    "        'r2': r2,\n",
    "        'csi': csi,\n",
    "        'binary_accuracy': binary_accuracy,\n",
    "        'intensity_accuracy': intensity_accuracy\n",
    "    }\n",
    "    \n",
    "    return metrics"
   ]
  },
  {
   "cell_type": "code",
   "execution_count": 4,
   "id": "8d0d3aea",
   "metadata": {
    "execution": {
     "iopub.execute_input": "2025-05-06T17:09:20.805355Z",
     "iopub.status.busy": "2025-05-06T17:09:20.805149Z",
     "iopub.status.idle": "2025-05-06T17:09:20.833308Z",
     "shell.execute_reply": "2025-05-06T17:09:20.832639Z"
    },
    "papermill": {
     "duration": 0.03273,
     "end_time": "2025-05-06T17:09:20.834600",
     "exception": false,
     "start_time": "2025-05-06T17:09:20.801870",
     "status": "completed"
    },
    "tags": []
   },
   "outputs": [],
   "source": [
    "# Modified objective function for Optuna optimization with hybrid model\n",
    "def hybrid_objective(trial, month):\n",
    "    \"\"\"Optuna objective function for hybrid model using cross-validation across folds\"\"\"\n",
    "    # Hyperparameters to tune\n",
    "    hidden_size = trial.suggest_int(\"hidden_size\", 32, 256)\n",
    "    num_layers = trial.suggest_int(\"num_layers\", 1, 3)\n",
    "    dropout = trial.suggest_float(\"dropout\", 0.0, 0.5)\n",
    "    lr = trial.suggest_float(\"lr\", 1e-4, 1e-2, log=True)\n",
    "    time_step_in = trial.suggest_int(\"time_step_in\", 12, 48)\n",
    "    time_step_out = trial.suggest_int(\"time_step_out\", 1, 6)\n",
    "    stride = trial.suggest_int(\"stride\", 1, 6)\n",
    "    \n",
    "    # Loss weights\n",
    "    binary_weight = trial.suggest_float(\"binary_weight\", 0.5, 2.0)\n",
    "    intensity_weight = trial.suggest_float(\"intensity_weight\", 0.5, 2.0) \n",
    "    regression_weight = trial.suggest_float(\"regression_weight\", 0.5, 2.0)\n",
    "    \n",
    "    # Rain threshold (for binary classification)\n",
    "    rain_threshold = trial.suggest_float(\"rain_threshold\", 0.05, 0.2)\n",
    "    \n",
    "    # Lag steps and window sizes\n",
    "    num_lags = trial.suggest_int(\"num_lags\", 1, 3)\n",
    "    lag_steps = [trial.suggest_int(f\"lag_{i}\", 1, 12) for i in range(num_lags)]\n",
    "    \n",
    "    num_windows = trial.suggest_int(\"num_windows\", 1, 3)\n",
    "    window_sizes = [trial.suggest_int(f\"window_{i}\", 3, 24) for i in range(num_windows)]\n",
    "    \n",
    "    # Get batch size from config\n",
    "    config_key = month.split(\"-\")[1]\n",
    "    config = MODEL_CONFIG[config_key]\n",
    "    batch_size = config[\"BATCH_SIZE\"]\n",
    "    \n",
    "    # Cross-validation across folds\n",
    "    fold_val_rmses = []\n",
    "    \n",
    "    for fold in folds:\n",
    "        try:\n",
    "            # Prepare data loaders\n",
    "            train_loader, val_loader, _, input_size = prepare_data_loaders(\n",
    "                month, fold, lag_steps, window_sizes, time_step_in, time_step_out, batch_size, stride\n",
    "            )\n",
    "            \n",
    "            if train_loader is None or val_loader is None:\n",
    "                # Skip this fold if data preparation failed\n",
    "                continue\n",
    "            \n",
    "            # Create hybrid model with trial parameters\n",
    "            model = HybridLSTMModel(\n",
    "                input_size=input_size, \n",
    "                hidden_size=hidden_size, \n",
    "                num_layers=num_layers, \n",
    "                dropout=dropout,\n",
    "                time_step_out=time_step_out\n",
    "            ).to(DEVICE)\n",
    "            \n",
    "            # Class boundaries for rainfall intensity\n",
    "            class_boundaries = [0.0, 2.5, 6.0]\n",
    "            \n",
    "            # Create hybrid loss function\n",
    "            loss_fn = HybridRainfallLoss(\n",
    "                rain_threshold=rain_threshold,\n",
    "                class_boundaries=class_boundaries,\n",
    "                binary_weight=binary_weight,\n",
    "                intensity_weight=intensity_weight,\n",
    "                regression_weight=regression_weight\n",
    "            )\n",
    "            \n",
    "            optimizer = torch.optim.Adam(model.parameters(), lr=lr)\n",
    "            \n",
    "            # Train for a small number of epochs during hyperparameter search\n",
    "            train_hybrid_model(model, train_loader, optimizer, loss_fn, epochs=5, patience=2)\n",
    "            \n",
    "            # Evaluate on validation set\n",
    "            val_metrics = evaluate_hybrid_model(model, val_loader, rain_threshold=rain_threshold)\n",
    "            val_rmse = val_metrics['rmse']\n",
    "            fold_val_rmses.append(val_rmse)\n",
    "            \n",
    "        except Exception as e:\n",
    "            print(f\"Error in fold {fold}: {str(e)}\")\n",
    "            continue\n",
    "    \n",
    "    # Return mean validation RMSE across folds\n",
    "    if fold_val_rmses:\n",
    "        mean_val_rmse = sum(fold_val_rmses) / len(fold_val_rmses)\n",
    "        return mean_val_rmse\n",
    "    else:\n",
    "        return float('inf')\n",
    "\n",
    "# Function for final evaluation on test set with hybrid model\n",
    "def evaluate_hybrid_on_test(month, fold, best_params):\n",
    "    \"\"\"Train and evaluate hybrid model with best parameters on test set\"\"\"\n",
    "    print(f\"\\n Training hybrid model for {month}, {fold} with best parameters\")\n",
    "    \n",
    "    # Extract parameters\n",
    "    hidden_size = best_params[\"hidden_size\"]\n",
    "    num_layers = best_params[\"num_layers\"]\n",
    "    dropout = best_params[\"dropout\"]\n",
    "    lr = best_params[\"lr\"]\n",
    "    time_step_in = best_params[\"time_step_in\"]\n",
    "    time_step_out = best_params[\"time_step_out\"]\n",
    "    stride = best_params[\"stride\"]\n",
    "    \n",
    "    # Loss weights\n",
    "    binary_weight = best_params[\"binary_weight\"]\n",
    "    intensity_weight = best_params[\"intensity_weight\"] \n",
    "    regression_weight = best_params[\"regression_weight\"]\n",
    "    \n",
    "    # Rain threshold\n",
    "    rain_threshold = best_params[\"rain_threshold\"]\n",
    "    \n",
    "    # Class boundaries for rainfall intensity\n",
    "    class_boundaries = [0.0, 2.5, 6.0]\n",
    "    \n",
    "    # Extract lag steps and window sizes\n",
    "    num_lags = best_params[\"num_lags\"]\n",
    "    lag_steps = [best_params[f\"lag_{i}\"] for i in range(num_lags)]\n",
    "    \n",
    "    num_windows = best_params[\"num_windows\"]\n",
    "    window_sizes = [best_params[f\"window_{i}\"] for i in range(num_windows)]\n",
    "    \n",
    "    # Get config\n",
    "    config_key = month.split(\"-\")[1]\n",
    "    config = MODEL_CONFIG[config_key]\n",
    "    batch_size = config[\"BATCH_SIZE\"]\n",
    "    epochs = config[\"EPOCHS\"]\n",
    "    \n",
    "    # Prepare data\n",
    "    train_loader, val_loader, test_loader, input_size = prepare_data_loaders(\n",
    "        month, fold, lag_steps, window_sizes, time_step_in, time_step_out, batch_size, stride\n",
    "    )\n",
    "    \n",
    "    if train_loader is None or val_loader is None or test_loader is None:\n",
    "        print(\" Failed to prepare data\")\n",
    "        return None\n",
    "    \n",
    "    # Create hybrid model\n",
    "    model = HybridLSTMModel(\n",
    "        input_size=input_size,\n",
    "        hidden_size=hidden_size,\n",
    "        num_layers=num_layers,\n",
    "        dropout=dropout,\n",
    "        time_step_out=time_step_out\n",
    "    ).to(DEVICE)\n",
    "    \n",
    "    # Create hybrid loss function\n",
    "    loss_fn = HybridRainfallLoss(\n",
    "        rain_threshold=rain_threshold,\n",
    "        class_boundaries=class_boundaries,\n",
    "        binary_weight=binary_weight,\n",
    "        intensity_weight=intensity_weight,\n",
    "        regression_weight=regression_weight\n",
    "    )\n",
    "    \n",
    "    optimizer = torch.optim.Adam(model.parameters(), lr=lr)\n",
    "    \n",
    "    # Train model on train set\n",
    "    print(f\"====== Training hybrid model on train set...\")\n",
    "    train_hybrid_model(model, train_loader, optimizer, loss_fn, epochs=epochs, patience=5)\n",
    "    \n",
    "    # Evaluate on validation set\n",
    "    print(\"====== Evaluating on validation set...\")\n",
    "    val_metrics = evaluate_hybrid_model(model, val_loader, rain_threshold=rain_threshold)\n",
    "    print(f\"  Val RMSE: {val_metrics['rmse']:.4f}, Bias: {val_metrics['bias']:.4f}, \"\n",
    "          f\"R²: {val_metrics['r2']:.4f}, CSI: {val_metrics['csi']:.4f}\")\n",
    "    print(f\"  Binary Accuracy: {val_metrics['binary_accuracy']:.4f}, \"\n",
    "          f\"Intensity Accuracy: {val_metrics['intensity_accuracy']:.4f}\")\n",
    "    \n",
    "    # Evaluate on test set\n",
    "    print(\"====== Evaluating on test set...\")\n",
    "    test_metrics = evaluate_hybrid_model(model, test_loader, rain_threshold=rain_threshold)\n",
    "    print(f\"  Test RMSE: {test_metrics['rmse']:.4f}, Bias: {test_metrics['bias']:.4f}, \"\n",
    "          f\"R²: {test_metrics['r2']:.4f}, CSI: {test_metrics['csi']:.4f}\")\n",
    "    print(f\"  Binary Accuracy: {test_metrics['binary_accuracy']:.4f}, \"\n",
    "          f\"Intensity Accuracy: {test_metrics['intensity_accuracy']:.4f}\")\n",
    "    \n",
    "    # Save model for this fold\n",
    "    model_path = f\"hybrid_model_{month}_{fold}.pt\"\n",
    "    torch.save(model.state_dict(), model_path)\n",
    "    print(f\" Model saved to {model_path}\")\n",
    "    \n",
    "    # Return results\n",
    "    return {\n",
    "        \"month\": month,\n",
    "        \"fold\": fold,\n",
    "        \"test_rmse\": round(test_metrics['rmse'], 4),\n",
    "        \"test_bias\": round(test_metrics['bias'], 4),\n",
    "        \"test_r2\": round(test_metrics['r2'], 4),\n",
    "        \"test_csi\": round(test_metrics['csi'], 4),\n",
    "        \"test_binary_acc\": round(test_metrics['binary_accuracy'], 4),\n",
    "        \"test_intensity_acc\": round(test_metrics['intensity_accuracy'], 4) if not np.isnan(test_metrics['intensity_accuracy']) else None,\n",
    "        \"val_rmse\": round(val_metrics['rmse'], 4),\n",
    "        \"val_bias\": round(val_metrics['bias'], 4),\n",
    "        \"val_r2\": round(val_metrics['r2'], 4),\n",
    "        \"val_csi\": round(val_metrics['csi'], 4),\n",
    "        \"val_binary_acc\": round(val_metrics['binary_accuracy'], 4),\n",
    "        \"val_intensity_acc\": round(val_metrics['intensity_accuracy'], 4) if not np.isnan(val_metrics['intensity_accuracy']) else None,\n",
    "        \"model\": model\n",
    "    }\n",
    "\n",
    "# Updated main execution function for hybrid model\n",
    "def run_hybrid_optuna_optimization():\n",
    "    \"\"\"Run Optuna optimization for hybrid model with cross-validation and final test evaluation\"\"\"\n",
    "    month_results = {}\n",
    "    \n",
    "    for month in months:\n",
    "        print(f\"\\n###### Processing month: {month}\")\n",
    "        \n",
    "        # Step 1: Find the best hyperparameters using cross-validation\n",
    "        study_name = f\"hybrid_{month}_study\"\n",
    "        study = optuna.create_study(direction=\"minimize\", study_name=study_name)\n",
    "        \n",
    "        # Create a partial function with fixed month\n",
    "        objective_func = partial(hybrid_objective, month=month)\n",
    "        \n",
    "        # Run optimization with cross-validation\n",
    "        try:\n",
    "            print(f\" Finding optimal hyperparameters for hybrid model on {month} using cross-validation...\")\n",
    "            study.optimize(objective_func, n_trials=20, timeout=3600)  # 1 hour timeout\n",
    "            \n",
    "            best_params = study.best_params\n",
    "            print(f\" Best parameters for {month}:\")\n",
    "            for key, value in best_params.items():\n",
    "                print(f\"  {key}: {value}\")\n",
    "            \n",
    "            # Save best parameters for the month\n",
    "            best_params_path = f\"hybrid_best_params_{month}.json\"\n",
    "            with open(best_params_path, \"w\") as f:\n",
    "                json.dump(best_params, f, indent=2)\n",
    "            \n",
    "            print(f\" Best parameters saved to {best_params_path}\")\n",
    "            \n",
    "            # Step 2: Final evaluation on test set for each fold\n",
    "            fold_test_results = []\n",
    "            for fold in folds:\n",
    "                print(f\"\\n Final evaluation on {month}, {fold} test set\")\n",
    "                result = evaluate_hybrid_on_test(month, fold, best_params)\n",
    "                if result:\n",
    "                    fold_test_results.append(result)\n",
    "            \n",
    "            # Calculate mean performance across folds\n",
    "            if fold_test_results:\n",
    "                mean_rmse = sum(r[\"test_rmse\"] for r in fold_test_results) / len(fold_test_results)\n",
    "                mean_bias = sum(r[\"test_bias\"] for r in fold_test_results) / len(fold_test_results)\n",
    "                mean_r2 = sum(r[\"test_r2\"] for r in fold_test_results) / len(fold_test_results)\n",
    "                mean_csi = sum(r[\"test_csi\"] for r in fold_test_results) / len(fold_test_results)\n",
    "                \n",
    "                # Calculate mean classification accuracies\n",
    "                mean_binary_acc = sum(r[\"test_binary_acc\"] for r in fold_test_results) / len(fold_test_results)\n",
    "                \n",
    "                # Handle potential None values for intensity accuracy\n",
    "                intensity_accuracies = [r[\"test_intensity_acc\"] for r in fold_test_results if r[\"test_intensity_acc\"] is not None]\n",
    "                mean_intensity_acc = sum(intensity_accuracies) / len(intensity_accuracies) if intensity_accuracies else None\n",
    "                \n",
    "                # Save best fold result (lowest RMSE)\n",
    "                best_fold_result = min(fold_test_results, key=lambda x: x[\"test_rmse\"])\n",
    "                best_model = best_fold_result[\"model\"]\n",
    "                best_model_path = f\"hybrid_best_model_{month}.pt\"\n",
    "                torch.save(best_model.state_dict(), best_model_path)\n",
    "                \n",
    "                # Store results for this month\n",
    "                month_results[month] = {\n",
    "                    \"month\": month,\n",
    "                    \"best_fold\": best_fold_result[\"fold\"],\n",
    "                    \"best_test_rmse\": best_fold_result[\"test_rmse\"],\n",
    "                    \"best_test_bias\": best_fold_result[\"test_bias\"],\n",
    "                    \"best_test_r2\": best_fold_result[\"test_r2\"],\n",
    "                    \"best_test_csi\": best_fold_result[\"test_csi\"],\n",
    "                    \"best_test_binary_acc\": best_fold_result[\"test_binary_acc\"],\n",
    "                    \"best_test_intensity_acc\": best_fold_result[\"test_intensity_acc\"],\n",
    "                    \"mean_test_rmse\": round(mean_rmse, 4),\n",
    "                    \"mean_test_bias\": round(mean_bias, 4),\n",
    "                    \"mean_test_r2\": round(mean_r2, 4),\n",
    "                    \"mean_test_csi\": round(mean_csi, 4),\n",
    "                    \"mean_test_binary_acc\": round(mean_binary_acc, 4),\n",
    "                    \"mean_test_intensity_acc\": round(mean_intensity_acc, 4) if mean_intensity_acc is not None else None,\n",
    "                    \"best_params\": best_params,\n",
    "                    \"fold_results\": fold_test_results\n",
    "                }\n",
    "                \n",
    "                print(f\"\\n Mean test performance for {month}:\")\n",
    "                print(f\"  RMSE: {mean_rmse:.4f}, Bias: {mean_bias:.4f}, R²: {mean_r2:.4f}, CSI: {mean_csi:.4f}\")\n",
    "                print(f\"  Binary Acc: {mean_binary_acc:.4f}, Intensity Acc: {mean_intensity_acc:.4f if mean_intensity_acc is not None else 'N/A'}\")\n",
    "                print(f\" Best fold test performance for {month} (fold {best_fold_result['fold']}):\")\n",
    "                print(f\"  RMSE: {best_fold_result['test_rmse']:.4f}, Bias: {best_fold_result['test_bias']:.4f}, \"\n",
    "                      f\"R²: {best_fold_result['test_r2']:.4f}, CSI: {best_fold_result['test_csi']:.4f}\")\n",
    "                print(f\" Best hybrid model for {month} saved to {best_model_path}\")\n",
    "            \n",
    "        except Exception as e:\n",
    "            print(f\" Error during optimization for {month}: {str(e)}\")\n",
    "            continue\n",
    "    \n",
    "    # Calculate overall mean performance across months\n",
    "    if month_results:\n",
    "        overall_mean_rmse = sum(r[\"best_test_rmse\"] for r in month_results.values()) / len(month_results)\n",
    "        overall_mean_bias = sum(r[\"best_test_bias\"] for r in month_results.values()) / len(month_results)\n",
    "        overall_mean_r2 = sum(r[\"best_test_r2\"] for r in month_results.values()) / len(month_results)\n",
    "        overall_mean_csi = sum(r[\"best_test_csi\"] for r in month_results.values()) / len(month_results)\n",
    "        overall_mean_binary_acc = sum(r[\"best_test_binary_acc\"] for r in month_results.values()) / len(month_results)\n",
    "        \n",
    "        # Handle potential None values for intensity accuracy\n",
    "        intensity_accuracies = [r[\"best_test_intensity_acc\"] for r in month_results.values() if r[\"best_test_intensity_acc\"] is not None]\n",
    "        overall_mean_intensity_acc = sum(intensity_accuracies) / len(intensity_accuracies) if intensity_accuracies else None\n",
    "        \n",
    "        print(\"\\n Overall mean performance of hybrid model across all months:\")\n",
    "        print(f\"  RMSE: {overall_mean_rmse:.4f}, Bias: {overall_mean_bias:.4f}, R²: {overall_mean_r2:.4f}, CSI: {overall_mean_csi:.4f}\")\n",
    "        intensity_acc_str = format(overall_mean_intensity_acc, '.4f') if overall_mean_intensity_acc is not None else 'N/A'\n",
    "        print(f\"  Binary Accuracy: {overall_mean_binary_acc:.4f}, Intensity Accuracy: {intensity_acc_str}\")\n",
    "    \n",
    "    # Create a dataframe with month results\n",
    "    month_results_df = pd.DataFrame([\n",
    "        {\n",
    "            \"month\": month,\n",
    "            \"best_fold\": data[\"best_fold\"],\n",
    "            \"best_test_rmse\": data[\"best_test_rmse\"],\n",
    "            \"best_test_bias\": data[\"best_test_bias\"],\n",
    "            \"best_test_r2\": data[\"best_test_r2\"],\n",
    "            \"best_test_csi\": data[\"best_test_csi\"],\n",
    "            \"best_test_binary_acc\": data[\"best_test_binary_acc\"],\n",
    "            \"best_test_intensity_acc\": data[\"best_test_intensity_acc\"],\n",
    "            \"mean_test_rmse\": data[\"mean_test_rmse\"],\n",
    "            \"mean_test_bias\": data[\"mean_test_bias\"],\n",
    "            \"mean_test_r2\": data[\"mean_test_r2\"],\n",
    "            \"mean_test_csi\": data[\"mean_test_csi\"],\n",
    "            \"mean_test_binary_acc\": data[\"mean_test_binary_acc\"],\n",
    "            \"mean_test_intensity_acc\": data[\"mean_test_intensity_acc\"],\n",
    "        } for month, data in month_results.items()\n",
    "    ])\n",
    "    \n",
    "    # Display month-wise results\n",
    "    print(\"\\n Results by Month:\")\n",
    "    print(month_results_df)\n",
    "    \n",
    "    # Save results\n",
    "    month_results_df.to_csv(\"hybrid_month_results.csv\", index=False)\n",
    "    \n",
    "    # Save detailed results\n",
    "    all_fold_results = []\n",
    "    for month, data in month_results.items():\n",
    "        for fold_result in data[\"fold_results\"]:\n",
    "            all_fold_results.append({\n",
    "                \"month\": month,\n",
    "                \"fold\": fold_result[\"fold\"],\n",
    "                \"test_rmse\": fold_result[\"test_rmse\"],\n",
    "                \"test_bias\": fold_result[\"test_bias\"],\n",
    "                \"test_r2\": fold_result[\"test_r2\"],\n",
    "                \"test_csi\": fold_result[\"test_csi\"],\n",
    "                \"test_binary_acc\": fold_result[\"test_binary_acc\"],\n",
    "                \"test_intensity_acc\": fold_result[\"test_intensity_acc\"],\n",
    "                \"val_rmse\": fold_result[\"val_rmse\"],\n",
    "                \"val_bias\": fold_result[\"val_bias\"],\n",
    "                \"val_r2\": fold_result[\"val_r2\"],\n",
    "                \"val_csi\": fold_result[\"val_csi\"],\n",
    "                \"val_binary_acc\": fold_result[\"val_binary_acc\"],\n",
    "                \"val_intensity_acc\": fold_result[\"val_intensity_acc\"] if \"val_intensity_acc\" in fold_result else None,\n",
    "            })\n",
    "    \n",
    "    all_fold_results_df = pd.DataFrame(all_fold_results)\n",
    "    all_fold_results_df.to_csv(\"hybrid_all_fold_results.csv\", index=False)\n",
    "    \n",
    "    print(\" Results saved to hybrid_month_results.csv and hybrid_all_fold_results.csv\")\n",
    "    \n",
    "    return month_results"
   ]
  },
  {
   "cell_type": "code",
   "execution_count": 5,
   "id": "86c3323e",
   "metadata": {
    "_cell_guid": "38e66a54-7a7f-4e7a-b9ab-fcfb79033a41",
    "_uuid": "7922e199-526e-4772-b295-c9433b89ab77",
    "collapsed": false,
    "execution": {
     "iopub.execute_input": "2025-05-06T17:09:20.840466Z",
     "iopub.status.busy": "2025-05-06T17:09:20.840259Z",
     "iopub.status.idle": "2025-05-06T18:30:16.056577Z",
     "shell.execute_reply": "2025-05-06T18:30:16.055598Z"
    },
    "jupyter": {
     "outputs_hidden": false
    },
    "papermill": {
     "duration": 4855.220759,
     "end_time": "2025-05-06T18:30:16.057992",
     "exception": false,
     "start_time": "2025-05-06T17:09:20.837233",
     "status": "completed"
    },
    "tags": []
   },
   "outputs": [
    {
     "name": "stderr",
     "output_type": "stream",
     "text": [
      "[I 2025-05-06 17:09:20,841] A new study created in memory with name: hybrid_2019-04_study\n"
     ]
    },
    {
     "name": "stdout",
     "output_type": "stream",
     "text": [
      "Running on device: cuda\n",
      "\n",
      "###### Processing month: 2019-04\n",
      " Finding optimal hyperparameters for hybrid model on 2019-04 using cross-validation...\n",
      "Using 19 features: ['TCW', 'TCLW', 'R250', 'R500', 'R850', 'U850', 'V850', 'EWSS', 'KX', 'CAPE', 'SSHF', 'PEV', 'AWS_lag10', 'AWS_rollmean_5', 'AWS_rollstd_5', 'AWS_rollmean_22', 'AWS_rollstd_22', 'AWS_rollmean_13', 'AWS_rollstd_13']\n"
     ]
    },
    {
     "name": "stderr",
     "output_type": "stream",
     "text": [
      "<ipython-input-1-11e4944e1896>:225: UserWarning: Creating a tensor from a list of numpy.ndarrays is extremely slow. Please consider converting the list to a single numpy.ndarray with numpy.array() before converting to a tensor. (Triggered internally at ../torch/csrc/utils/tensor_new.cpp:278.)\n",
      "  return torch.tensor(sequences, dtype=torch.float32), torch.tensor(targets, dtype=torch.float32)\n"
     ]
    },
    {
     "name": "stdout",
     "output_type": "stream",
     "text": [
      " Data shapes - Train: torch.Size([3340, 36, 19]), Val: torch.Size([3340, 36, 19]), Test: torch.Size([4003, 36, 19])\n"
     ]
    },
    {
     "name": "stderr",
     "output_type": "stream",
     "text": [
      "/usr/local/lib/python3.10/dist-packages/torch/nn/modules/rnn.py:123: UserWarning: dropout option adds dropout after all but last recurrent layer, so non-zero dropout expects num_layers greater than 1, but got dropout=0.2337600464482837 and num_layers=1\n",
      "  warnings.warn(\n"
     ]
    },
    {
     "name": "stdout",
     "output_type": "stream",
     "text": [
      "Error in fold fold_1: Target size (torch.Size([64, 5])) must be the same as input size (torch.Size([64, 1]))\n",
      "Using 19 features: ['TCW', 'TCLW', 'R250', 'R500', 'R850', 'U850', 'V850', 'EWSS', 'KX', 'CAPE', 'SSHF', 'PEV', 'AWS_lag10', 'AWS_rollmean_5', 'AWS_rollstd_5', 'AWS_rollmean_22', 'AWS_rollstd_22', 'AWS_rollmean_13', 'AWS_rollstd_13']\n",
      " Data shapes - Train: torch.Size([8684, 36, 19]), Val: torch.Size([3340, 36, 19]), Test: torch.Size([4003, 36, 19])\n",
      "Error in fold fold_2: Target size (torch.Size([64, 5])) must be the same as input size (torch.Size([64, 1]))\n"
     ]
    },
    {
     "name": "stderr",
     "output_type": "stream",
     "text": [
      "/usr/local/lib/python3.10/dist-packages/torch/nn/modules/rnn.py:123: UserWarning: dropout option adds dropout after all but last recurrent layer, so non-zero dropout expects num_layers greater than 1, but got dropout=0.2337600464482837 and num_layers=1\n",
      "  warnings.warn(\n"
     ]
    },
    {
     "name": "stdout",
     "output_type": "stream",
     "text": [
      "Using 19 features: ['TCW', 'TCLW', 'R250', 'R500', 'R850', 'U850', 'V850', 'EWSS', 'KX', 'CAPE', 'SSHF', 'PEV', 'AWS_lag10', 'AWS_rollmean_5', 'AWS_rollstd_5', 'AWS_rollmean_22', 'AWS_rollstd_22', 'AWS_rollmean_13', 'AWS_rollstd_13']\n",
      " Data shapes - Train: torch.Size([14028, 36, 19]), Val: torch.Size([3340, 36, 19]), Test: torch.Size([4003, 36, 19])\n",
      "Error in fold fold_3: Target size (torch.Size([64, 5])) must be the same as input size (torch.Size([64, 1]))\n"
     ]
    },
    {
     "name": "stderr",
     "output_type": "stream",
     "text": [
      "/usr/local/lib/python3.10/dist-packages/torch/nn/modules/rnn.py:123: UserWarning: dropout option adds dropout after all but last recurrent layer, so non-zero dropout expects num_layers greater than 1, but got dropout=0.2337600464482837 and num_layers=1\n",
      "  warnings.warn(\n"
     ]
    },
    {
     "name": "stdout",
     "output_type": "stream",
     "text": [
      "Using 19 features: ['TCW', 'TCLW', 'R250', 'R500', 'R850', 'U850', 'V850', 'EWSS', 'KX', 'CAPE', 'SSHF', 'PEV', 'AWS_lag10', 'AWS_rollmean_5', 'AWS_rollstd_5', 'AWS_rollmean_22', 'AWS_rollstd_22', 'AWS_rollmean_13', 'AWS_rollstd_13']\n",
      " Data shapes - Train: torch.Size([19372, 36, 19]), Val: torch.Size([3340, 36, 19]), Test: torch.Size([4003, 36, 19])\n",
      "Error in fold fold_4: Target size (torch.Size([64, 5])) must be the same as input size (torch.Size([64, 1]))\n"
     ]
    },
    {
     "name": "stderr",
     "output_type": "stream",
     "text": [
      "/usr/local/lib/python3.10/dist-packages/torch/nn/modules/rnn.py:123: UserWarning: dropout option adds dropout after all but last recurrent layer, so non-zero dropout expects num_layers greater than 1, but got dropout=0.2337600464482837 and num_layers=1\n",
      "  warnings.warn(\n"
     ]
    },
    {
     "name": "stdout",
     "output_type": "stream",
     "text": [
      "Using 19 features: ['TCW', 'TCLW', 'R250', 'R500', 'R850', 'U850', 'V850', 'EWSS', 'KX', 'CAPE', 'SSHF', 'PEV', 'AWS_lag10', 'AWS_rollmean_5', 'AWS_rollstd_5', 'AWS_rollmean_22', 'AWS_rollstd_22', 'AWS_rollmean_13', 'AWS_rollstd_13']\n"
     ]
    },
    {
     "name": "stderr",
     "output_type": "stream",
     "text": [
      "/usr/local/lib/python3.10/dist-packages/torch/nn/modules/rnn.py:123: UserWarning: dropout option adds dropout after all but last recurrent layer, so non-zero dropout expects num_layers greater than 1, but got dropout=0.2337600464482837 and num_layers=1\n",
      "  warnings.warn(\n",
      "[I 2025-05-06 17:10:04,080] Trial 0 finished with value: inf and parameters: {'hidden_size': 220, 'num_layers': 1, 'dropout': 0.2337600464482837, 'lr': 0.0012361483751355234, 'time_step_in': 36, 'time_step_out': 5, 'stride': 6, 'binary_weight': 1.7725591057667287, 'intensity_weight': 1.0133679501722475, 'regression_weight': 0.9082681286820855, 'rain_threshold': 0.17693921407629987, 'num_lags': 1, 'lag_0': 10, 'num_windows': 3, 'window_0': 5, 'window_1': 22, 'window_2': 13}. Best is trial 0 with value: inf.\n"
     ]
    },
    {
     "name": "stdout",
     "output_type": "stream",
     "text": [
      " Data shapes - Train: torch.Size([24716, 36, 19]), Val: torch.Size([3340, 36, 19]), Test: torch.Size([4003, 36, 19])\n",
      "Error in fold fold_5: Target size (torch.Size([64, 5])) must be the same as input size (torch.Size([64, 1]))\n",
      "Using 17 features: ['TCW', 'TCLW', 'R250', 'R500', 'R850', 'U850', 'V850', 'EWSS', 'KX', 'CAPE', 'SSHF', 'PEV', 'AWS_lag12', 'AWS_rollmean_5', 'AWS_rollstd_5', 'AWS_rollmean_22', 'AWS_rollstd_22']\n",
      " Data shapes - Train: torch.Size([26386, 17, 17]), Val: torch.Size([26386, 17, 17]), Test: torch.Size([28819, 17, 17])\n",
      "   Epoch 1/5, Total Loss: 3.5024, Binary: 0.4992, Intensity: 0.3399, Regression: 2.9668\n",
      "   Epoch 2/5, Total Loss: 3.3585, Binary: 0.4536, Intensity: 0.2618, Regression: 2.9337\n",
      "Error in fold fold_1: Expected input batch_size (1) to match target batch_size (0).\n",
      "Using 17 features: ['TCW', 'TCLW', 'R250', 'R500', 'R850', 'U850', 'V850', 'EWSS', 'KX', 'CAPE', 'SSHF', 'PEV', 'AWS_lag12', 'AWS_rollmean_5', 'AWS_rollstd_5', 'AWS_rollmean_22', 'AWS_rollstd_22']\n",
      " Data shapes - Train: torch.Size([58450, 17, 17]), Val: torch.Size([26386, 17, 17]), Test: torch.Size([28819, 17, 17])\n",
      "Error in fold fold_2: Expected input batch_size (1) to match target batch_size (0).\n",
      "Using 17 features: ['TCW', 'TCLW', 'R250', 'R500', 'R850', 'U850', 'V850', 'EWSS', 'KX', 'CAPE', 'SSHF', 'PEV', 'AWS_lag12', 'AWS_rollmean_5', 'AWS_rollstd_5', 'AWS_rollmean_22', 'AWS_rollstd_22']\n",
      " Data shapes - Train: torch.Size([90514, 17, 17]), Val: torch.Size([26386, 17, 17]), Test: torch.Size([28819, 17, 17])\n",
      "Error in fold fold_3: Expected input batch_size (1) to match target batch_size (0).\n",
      "Using 17 features: ['TCW', 'TCLW', 'R250', 'R500', 'R850', 'U850', 'V850', 'EWSS', 'KX', 'CAPE', 'SSHF', 'PEV', 'AWS_lag12', 'AWS_rollmean_5', 'AWS_rollstd_5', 'AWS_rollmean_22', 'AWS_rollstd_22']\n",
      " Data shapes - Train: torch.Size([122578, 17, 17]), Val: torch.Size([26386, 17, 17]), Test: torch.Size([28819, 17, 17])\n",
      "Error in fold fold_4: Expected input batch_size (1) to match target batch_size (0).\n",
      "Using 17 features: ['TCW', 'TCLW', 'R250', 'R500', 'R850', 'U850', 'V850', 'EWSS', 'KX', 'CAPE', 'SSHF', 'PEV', 'AWS_lag12', 'AWS_rollmean_5', 'AWS_rollstd_5', 'AWS_rollmean_22', 'AWS_rollstd_22']\n",
      " Data shapes - Train: torch.Size([154642, 17, 17]), Val: torch.Size([26386, 17, 17]), Test: torch.Size([28819, 17, 17])\n",
      "   Epoch 1/5, Total Loss: 1.5810, Binary: 0.4309, Intensity: 0.1303, Regression: 1.2362\n",
      "   Epoch 2/5, Total Loss: 1.2220, Binary: 0.2487, Intensity: 0.0799, Regression: 1.0323\n",
      "   Epoch 3/5, Total Loss: 1.1414, Binary: 0.2252, Intensity: 0.0762, Regression: 0.9669\n",
      "   Epoch 4/5, Total Loss: 1.0925, Binary: 0.2131, Intensity: 0.0724, Regression: 0.9276\n",
      "   Epoch 5/5, Total Loss: 1.0826, Binary: 0.2020, Intensity: 0.0706, Regression: 0.9263\n"
     ]
    },
    {
     "name": "stderr",
     "output_type": "stream",
     "text": [
      "[I 2025-05-06 17:12:34,909] Trial 1 finished with value: 0.32380443811416626 and parameters: {'hidden_size': 235, 'num_layers': 3, 'dropout': 0.13481954837955085, 'lr': 0.0001071753800599473, 'time_step_in': 17, 'time_step_out': 1, 'stride': 1, 'binary_weight': 0.6007463715986066, 'intensity_weight': 1.0895435472451163, 'regression_weight': 0.9546741894984316, 'rain_threshold': 0.12065201226890497, 'num_lags': 1, 'lag_0': 12, 'num_windows': 2, 'window_0': 5, 'window_1': 22}. Best is trial 1 with value: 0.32380443811416626.\n"
     ]
    },
    {
     "name": "stdout",
     "output_type": "stream",
     "text": [
      "Using 19 features: ['TCW', 'TCLW', 'R250', 'R500', 'R850', 'U850', 'V850', 'EWSS', 'KX', 'CAPE', 'SSHF', 'PEV', 'AWS_lag7', 'AWS_lag3', 'AWS_lag6', 'AWS_rollmean_19', 'AWS_rollstd_19', 'AWS_rollmean_11', 'AWS_rollstd_11']\n",
      " Data shapes - Train: torch.Size([16366, 42, 19]), Val: torch.Size([16366, 42, 19]), Test: torch.Size([21417, 42, 19])\n",
      "Error in fold fold_1: Target size (torch.Size([64, 6])) must be the same as input size (torch.Size([64, 1]))\n",
      "Using 19 features: ['TCW', 'TCLW', 'R250', 'R500', 'R850', 'U850', 'V850', 'EWSS', 'KX', 'CAPE', 'SSHF', 'PEV', 'AWS_lag7', 'AWS_lag3', 'AWS_lag6', 'AWS_rollmean_19', 'AWS_rollstd_19', 'AWS_rollmean_11', 'AWS_rollstd_11']\n",
      " Data shapes - Train: torch.Size([48430, 42, 19]), Val: torch.Size([16366, 42, 19]), Test: torch.Size([21417, 42, 19])\n",
      "Error in fold fold_2: Target size (torch.Size([64, 6])) must be the same as input size (torch.Size([64, 1]))\n",
      "Using 19 features: ['TCW', 'TCLW', 'R250', 'R500', 'R850', 'U850', 'V850', 'EWSS', 'KX', 'CAPE', 'SSHF', 'PEV', 'AWS_lag7', 'AWS_lag3', 'AWS_lag6', 'AWS_rollmean_19', 'AWS_rollstd_19', 'AWS_rollmean_11', 'AWS_rollstd_11']\n",
      " Data shapes - Train: torch.Size([80494, 42, 19]), Val: torch.Size([16366, 42, 19]), Test: torch.Size([21417, 42, 19])\n",
      "Error in fold fold_3: Target size (torch.Size([64, 6])) must be the same as input size (torch.Size([64, 1]))\n",
      "Using 19 features: ['TCW', 'TCLW', 'R250', 'R500', 'R850', 'U850', 'V850', 'EWSS', 'KX', 'CAPE', 'SSHF', 'PEV', 'AWS_lag7', 'AWS_lag3', 'AWS_lag6', 'AWS_rollmean_19', 'AWS_rollstd_19', 'AWS_rollmean_11', 'AWS_rollstd_11']\n",
      " Data shapes - Train: torch.Size([112558, 42, 19]), Val: torch.Size([16366, 42, 19]), Test: torch.Size([21417, 42, 19])\n",
      "Error in fold fold_4: Target size (torch.Size([64, 6])) must be the same as input size (torch.Size([64, 1]))\n",
      "Using 19 features: ['TCW', 'TCLW', 'R250', 'R500', 'R850', 'U850', 'V850', 'EWSS', 'KX', 'CAPE', 'SSHF', 'PEV', 'AWS_lag7', 'AWS_lag3', 'AWS_lag6', 'AWS_rollmean_19', 'AWS_rollstd_19', 'AWS_rollmean_11', 'AWS_rollstd_11']\n"
     ]
    },
    {
     "name": "stderr",
     "output_type": "stream",
     "text": [
      "[I 2025-05-06 17:14:16,612] Trial 2 finished with value: inf and parameters: {'hidden_size': 245, 'num_layers': 3, 'dropout': 0.006434331969249529, 'lr': 0.002657204138247596, 'time_step_in': 42, 'time_step_out': 6, 'stride': 1, 'binary_weight': 1.0561048606289964, 'intensity_weight': 1.9847654562617523, 'regression_weight': 1.6212249970069572, 'rain_threshold': 0.07236466447520526, 'num_lags': 3, 'lag_0': 7, 'lag_1': 3, 'lag_2': 6, 'num_windows': 2, 'window_0': 19, 'window_1': 11}. Best is trial 1 with value: 0.32380443811416626.\n"
     ]
    },
    {
     "name": "stdout",
     "output_type": "stream",
     "text": [
      " Data shapes - Train: torch.Size([144622, 42, 19]), Val: torch.Size([16366, 42, 19]), Test: torch.Size([21417, 42, 19])\n",
      "Error in fold fold_5: Target size (torch.Size([64, 6])) must be the same as input size (torch.Size([64, 1]))\n",
      "Using 17 features: ['TCW', 'TCLW', 'R250', 'R500', 'R850', 'U850', 'V850', 'EWSS', 'KX', 'CAPE', 'SSHF', 'PEV', 'AWS_lag10', 'AWS_lag4', 'AWS_lag8', 'AWS_rollmean_4', 'AWS_rollstd_4']\n",
      " Data shapes - Train: torch.Size([5344, 45, 17]), Val: torch.Size([5344, 45, 17]), Test: torch.Size([7069, 45, 17])\n",
      "Error in fold fold_1: Target size (torch.Size([64, 5])) must be the same as input size (torch.Size([64, 1]))\n"
     ]
    },
    {
     "name": "stderr",
     "output_type": "stream",
     "text": [
      "/usr/local/lib/python3.10/dist-packages/torch/nn/modules/rnn.py:123: UserWarning: dropout option adds dropout after all but last recurrent layer, so non-zero dropout expects num_layers greater than 1, but got dropout=0.2315826253075916 and num_layers=1\n",
      "  warnings.warn(\n"
     ]
    },
    {
     "name": "stdout",
     "output_type": "stream",
     "text": [
      "Using 17 features: ['TCW', 'TCLW', 'R250', 'R500', 'R850', 'U850', 'V850', 'EWSS', 'KX', 'CAPE', 'SSHF', 'PEV', 'AWS_lag10', 'AWS_lag4', 'AWS_lag8', 'AWS_rollmean_4', 'AWS_rollstd_4']\n",
      " Data shapes - Train: torch.Size([16032, 45, 17]), Val: torch.Size([5344, 45, 17]), Test: torch.Size([7069, 45, 17])\n",
      "Error in fold fold_2: Target size (torch.Size([64, 5])) must be the same as input size (torch.Size([64, 1]))\n"
     ]
    },
    {
     "name": "stderr",
     "output_type": "stream",
     "text": [
      "/usr/local/lib/python3.10/dist-packages/torch/nn/modules/rnn.py:123: UserWarning: dropout option adds dropout after all but last recurrent layer, so non-zero dropout expects num_layers greater than 1, but got dropout=0.2315826253075916 and num_layers=1\n",
      "  warnings.warn(\n"
     ]
    },
    {
     "name": "stdout",
     "output_type": "stream",
     "text": [
      "Using 17 features: ['TCW', 'TCLW', 'R250', 'R500', 'R850', 'U850', 'V850', 'EWSS', 'KX', 'CAPE', 'SSHF', 'PEV', 'AWS_lag10', 'AWS_lag4', 'AWS_lag8', 'AWS_rollmean_4', 'AWS_rollstd_4']\n",
      " Data shapes - Train: torch.Size([26720, 45, 17]), Val: torch.Size([5344, 45, 17]), Test: torch.Size([7069, 45, 17])\n",
      "Error in fold fold_3: Target size (torch.Size([64, 5])) must be the same as input size (torch.Size([64, 1]))\n"
     ]
    },
    {
     "name": "stderr",
     "output_type": "stream",
     "text": [
      "/usr/local/lib/python3.10/dist-packages/torch/nn/modules/rnn.py:123: UserWarning: dropout option adds dropout after all but last recurrent layer, so non-zero dropout expects num_layers greater than 1, but got dropout=0.2315826253075916 and num_layers=1\n",
      "  warnings.warn(\n"
     ]
    },
    {
     "name": "stdout",
     "output_type": "stream",
     "text": [
      "Using 17 features: ['TCW', 'TCLW', 'R250', 'R500', 'R850', 'U850', 'V850', 'EWSS', 'KX', 'CAPE', 'SSHF', 'PEV', 'AWS_lag10', 'AWS_lag4', 'AWS_lag8', 'AWS_rollmean_4', 'AWS_rollstd_4']\n",
      " Data shapes - Train: torch.Size([37408, 45, 17]), Val: torch.Size([5344, 45, 17]), Test: torch.Size([7069, 45, 17])\n",
      "Error in fold fold_4: Target size (torch.Size([64, 5])) must be the same as input size (torch.Size([64, 1]))\n"
     ]
    },
    {
     "name": "stderr",
     "output_type": "stream",
     "text": [
      "/usr/local/lib/python3.10/dist-packages/torch/nn/modules/rnn.py:123: UserWarning: dropout option adds dropout after all but last recurrent layer, so non-zero dropout expects num_layers greater than 1, but got dropout=0.2315826253075916 and num_layers=1\n",
      "  warnings.warn(\n"
     ]
    },
    {
     "name": "stdout",
     "output_type": "stream",
     "text": [
      "Using 17 features: ['TCW', 'TCLW', 'R250', 'R500', 'R850', 'U850', 'V850', 'EWSS', 'KX', 'CAPE', 'SSHF', 'PEV', 'AWS_lag10', 'AWS_lag4', 'AWS_lag8', 'AWS_rollmean_4', 'AWS_rollstd_4']\n"
     ]
    },
    {
     "name": "stderr",
     "output_type": "stream",
     "text": [
      "/usr/local/lib/python3.10/dist-packages/torch/nn/modules/rnn.py:123: UserWarning: dropout option adds dropout after all but last recurrent layer, so non-zero dropout expects num_layers greater than 1, but got dropout=0.2315826253075916 and num_layers=1\n",
      "  warnings.warn(\n",
      "[I 2025-05-06 17:14:54,797] Trial 3 finished with value: inf and parameters: {'hidden_size': 167, 'num_layers': 1, 'dropout': 0.2315826253075916, 'lr': 0.00026354203993916343, 'time_step_in': 45, 'time_step_out': 5, 'stride': 3, 'binary_weight': 1.207702510156086, 'intensity_weight': 1.5064189612605716, 'regression_weight': 0.6284372309167696, 'rain_threshold': 0.05985111352800159, 'num_lags': 3, 'lag_0': 10, 'lag_1': 4, 'lag_2': 8, 'num_windows': 1, 'window_0': 4}. Best is trial 1 with value: 0.32380443811416626.\n"
     ]
    },
    {
     "name": "stdout",
     "output_type": "stream",
     "text": [
      " Data shapes - Train: torch.Size([48096, 45, 17]), Val: torch.Size([5344, 45, 17]), Test: torch.Size([7069, 45, 17])\n",
      "Error in fold fold_5: Target size (torch.Size([64, 5])) must be the same as input size (torch.Size([64, 1]))\n",
      "Using 20 features: ['TCW', 'TCLW', 'R250', 'R500', 'R850', 'U850', 'V850', 'EWSS', 'KX', 'CAPE', 'SSHF', 'PEV', 'AWS_lag12', 'AWS_lag4', 'AWS_rollmean_12', 'AWS_rollstd_12', 'AWS_rollmean_13', 'AWS_rollstd_13', 'AWS_rollmean_6', 'AWS_rollstd_6']\n",
      " Data shapes - Train: torch.Size([4342, 32, 20]), Val: torch.Size([4342, 32, 20]), Test: torch.Size([5156, 32, 20])\n"
     ]
    },
    {
     "name": "stderr",
     "output_type": "stream",
     "text": [
      "/usr/local/lib/python3.10/dist-packages/torch/nn/modules/rnn.py:123: UserWarning: dropout option adds dropout after all but last recurrent layer, so non-zero dropout expects num_layers greater than 1, but got dropout=0.27748151966818646 and num_layers=1\n",
      "  warnings.warn(\n"
     ]
    },
    {
     "name": "stdout",
     "output_type": "stream",
     "text": [
      "   Epoch 1/5, Total Loss: 7.5629, Binary: 0.6584, Intensity: 1.0184, Regression: 4.5986\n",
      "   Epoch 2/5, Total Loss: 6.3758, Binary: 0.4265, Intensity: 0.4851, Regression: 4.2022\n",
      "   Epoch 3/5, Total Loss: 6.2639, Binary: 0.4152, Intensity: 0.4190, Regression: 4.1610\n",
      "   Epoch 4/5, Total Loss: 5.5646, Binary: 0.4120, Intensity: 0.3901, Regression: 3.6401\n",
      "   Epoch 5/5, Total Loss: 5.6733, Binary: 0.4076, Intensity: 0.3883, Regression: 3.7295\n",
      "Using 20 features: ['TCW', 'TCLW', 'R250', 'R500', 'R850', 'U850', 'V850', 'EWSS', 'KX', 'CAPE', 'SSHF', 'PEV', 'AWS_lag12', 'AWS_lag4', 'AWS_rollmean_12', 'AWS_rollstd_12', 'AWS_rollmean_13', 'AWS_rollstd_13', 'AWS_rollmean_6', 'AWS_rollstd_6']\n",
      " Data shapes - Train: torch.Size([10688, 32, 20]), Val: torch.Size([4342, 32, 20]), Test: torch.Size([5156, 32, 20])\n",
      "Error in fold fold_2: Expected input batch_size (1) to match target batch_size (0).\n"
     ]
    },
    {
     "name": "stderr",
     "output_type": "stream",
     "text": [
      "/usr/local/lib/python3.10/dist-packages/torch/nn/modules/rnn.py:123: UserWarning: dropout option adds dropout after all but last recurrent layer, so non-zero dropout expects num_layers greater than 1, but got dropout=0.27748151966818646 and num_layers=1\n",
      "  warnings.warn(\n"
     ]
    },
    {
     "name": "stdout",
     "output_type": "stream",
     "text": [
      "Using 20 features: ['TCW', 'TCLW', 'R250', 'R500', 'R850', 'U850', 'V850', 'EWSS', 'KX', 'CAPE', 'SSHF', 'PEV', 'AWS_lag12', 'AWS_lag4', 'AWS_rollmean_12', 'AWS_rollstd_12', 'AWS_rollmean_13', 'AWS_rollstd_13', 'AWS_rollmean_6', 'AWS_rollstd_6']\n",
      " Data shapes - Train: torch.Size([17368, 32, 20]), Val: torch.Size([4342, 32, 20]), Test: torch.Size([5156, 32, 20])\n",
      "Error in fold fold_3: Expected input batch_size (1) to match target batch_size (0).\n"
     ]
    },
    {
     "name": "stderr",
     "output_type": "stream",
     "text": [
      "/usr/local/lib/python3.10/dist-packages/torch/nn/modules/rnn.py:123: UserWarning: dropout option adds dropout after all but last recurrent layer, so non-zero dropout expects num_layers greater than 1, but got dropout=0.27748151966818646 and num_layers=1\n",
      "  warnings.warn(\n"
     ]
    },
    {
     "name": "stdout",
     "output_type": "stream",
     "text": [
      "Using 20 features: ['TCW', 'TCLW', 'R250', 'R500', 'R850', 'U850', 'V850', 'EWSS', 'KX', 'CAPE', 'SSHF', 'PEV', 'AWS_lag12', 'AWS_lag4', 'AWS_rollmean_12', 'AWS_rollstd_12', 'AWS_rollmean_13', 'AWS_rollstd_13', 'AWS_rollmean_6', 'AWS_rollstd_6']\n",
      " Data shapes - Train: torch.Size([23714, 32, 20]), Val: torch.Size([4342, 32, 20]), Test: torch.Size([5156, 32, 20])\n",
      "Error in fold fold_4: Expected input batch_size (1) to match target batch_size (0).\n"
     ]
    },
    {
     "name": "stderr",
     "output_type": "stream",
     "text": [
      "/usr/local/lib/python3.10/dist-packages/torch/nn/modules/rnn.py:123: UserWarning: dropout option adds dropout after all but last recurrent layer, so non-zero dropout expects num_layers greater than 1, but got dropout=0.27748151966818646 and num_layers=1\n",
      "  warnings.warn(\n"
     ]
    },
    {
     "name": "stdout",
     "output_type": "stream",
     "text": [
      "Using 20 features: ['TCW', 'TCLW', 'R250', 'R500', 'R850', 'U850', 'V850', 'EWSS', 'KX', 'CAPE', 'SSHF', 'PEV', 'AWS_lag12', 'AWS_lag4', 'AWS_rollmean_12', 'AWS_rollstd_12', 'AWS_rollmean_13', 'AWS_rollstd_13', 'AWS_rollmean_6', 'AWS_rollstd_6']\n",
      " Data shapes - Train: torch.Size([30060, 32, 20]), Val: torch.Size([4342, 32, 20]), Test: torch.Size([5156, 32, 20])\n"
     ]
    },
    {
     "name": "stderr",
     "output_type": "stream",
     "text": [
      "/usr/local/lib/python3.10/dist-packages/torch/nn/modules/rnn.py:123: UserWarning: dropout option adds dropout after all but last recurrent layer, so non-zero dropout expects num_layers greater than 1, but got dropout=0.27748151966818646 and num_layers=1\n",
      "  warnings.warn(\n"
     ]
    },
    {
     "name": "stdout",
     "output_type": "stream",
     "text": [
      "   Epoch 1/5, Total Loss: 2.6905, Binary: 0.4494, Intensity: 0.2484, Regression: 1.4546\n",
      "   Epoch 2/5, Total Loss: 2.2126, Binary: 0.2979, Intensity: 0.1301, Regression: 1.3118\n",
      "   Epoch 3/5, Total Loss: 1.9609, Binary: 0.2366, Intensity: 0.1011, Regression: 1.1998\n",
      "   Epoch 4/5, Total Loss: 1.9745, Binary: 0.2370, Intensity: 0.0997, Regression: 1.2105\n"
     ]
    },
    {
     "name": "stderr",
     "output_type": "stream",
     "text": [
      "[I 2025-05-06 17:15:40,068] Trial 4 finished with value: 0.22384402435272932 and parameters: {'hidden_size': 240, 'num_layers': 1, 'dropout': 0.27748151966818646, 'lr': 0.00014994748053928433, 'time_step_in': 32, 'time_step_out': 1, 'stride': 5, 'binary_weight': 1.431654842765001, 'intensity_weight': 0.6386191930257591, 'regression_weight': 1.2982158902018033, 'rain_threshold': 0.12981188082127484, 'num_lags': 2, 'lag_0': 12, 'lag_1': 4, 'num_windows': 3, 'window_0': 12, 'window_1': 13, 'window_2': 6}. Best is trial 4 with value: 0.22384402435272932.\n"
     ]
    },
    {
     "name": "stdout",
     "output_type": "stream",
     "text": [
      "   Epoch 5/5, Total Loss: 1.9468, Binary: 0.2269, Intensity: 0.0983, Regression: 1.2011\n",
      "Using 19 features: ['TCW', 'TCLW', 'R250', 'R500', 'R850', 'U850', 'V850', 'EWSS', 'KX', 'CAPE', 'SSHF', 'PEV', 'AWS_lag3', 'AWS_lag2', 'AWS_lag6', 'AWS_rollmean_23', 'AWS_rollstd_23', 'AWS_rollmean_9', 'AWS_rollstd_9']\n",
      " Data shapes - Train: torch.Size([3340, 44, 19]), Val: torch.Size([3340, 44, 19]), Test: torch.Size([4434, 44, 19])\n",
      "Error in fold fold_1: Target size (torch.Size([64, 3])) must be the same as input size (torch.Size([64, 1]))\n"
     ]
    },
    {
     "name": "stderr",
     "output_type": "stream",
     "text": [
      "/usr/local/lib/python3.10/dist-packages/torch/nn/modules/rnn.py:123: UserWarning: dropout option adds dropout after all but last recurrent layer, so non-zero dropout expects num_layers greater than 1, but got dropout=0.43187979878102756 and num_layers=1\n",
      "  warnings.warn(\n"
     ]
    },
    {
     "name": "stdout",
     "output_type": "stream",
     "text": [
      "Using 19 features: ['TCW', 'TCLW', 'R250', 'R500', 'R850', 'U850', 'V850', 'EWSS', 'KX', 'CAPE', 'SSHF', 'PEV', 'AWS_lag3', 'AWS_lag2', 'AWS_lag6', 'AWS_rollmean_23', 'AWS_rollstd_23', 'AWS_rollmean_9', 'AWS_rollstd_9']\n",
      " Data shapes - Train: torch.Size([10020, 44, 19]), Val: torch.Size([3340, 44, 19]), Test: torch.Size([4434, 44, 19])\n",
      "Error in fold fold_2: Target size (torch.Size([64, 3])) must be the same as input size (torch.Size([64, 1]))\n"
     ]
    },
    {
     "name": "stderr",
     "output_type": "stream",
     "text": [
      "/usr/local/lib/python3.10/dist-packages/torch/nn/modules/rnn.py:123: UserWarning: dropout option adds dropout after all but last recurrent layer, so non-zero dropout expects num_layers greater than 1, but got dropout=0.43187979878102756 and num_layers=1\n",
      "  warnings.warn(\n"
     ]
    },
    {
     "name": "stdout",
     "output_type": "stream",
     "text": [
      "Using 19 features: ['TCW', 'TCLW', 'R250', 'R500', 'R850', 'U850', 'V850', 'EWSS', 'KX', 'CAPE', 'SSHF', 'PEV', 'AWS_lag3', 'AWS_lag2', 'AWS_lag6', 'AWS_rollmean_23', 'AWS_rollstd_23', 'AWS_rollmean_9', 'AWS_rollstd_9']\n",
      " Data shapes - Train: torch.Size([16366, 44, 19]), Val: torch.Size([3340, 44, 19]), Test: torch.Size([4434, 44, 19])\n",
      "Error in fold fold_3: Target size (torch.Size([64, 3])) must be the same as input size (torch.Size([64, 1]))\n"
     ]
    },
    {
     "name": "stderr",
     "output_type": "stream",
     "text": [
      "/usr/local/lib/python3.10/dist-packages/torch/nn/modules/rnn.py:123: UserWarning: dropout option adds dropout after all but last recurrent layer, so non-zero dropout expects num_layers greater than 1, but got dropout=0.43187979878102756 and num_layers=1\n",
      "  warnings.warn(\n"
     ]
    },
    {
     "name": "stdout",
     "output_type": "stream",
     "text": [
      "Using 19 features: ['TCW', 'TCLW', 'R250', 'R500', 'R850', 'U850', 'V850', 'EWSS', 'KX', 'CAPE', 'SSHF', 'PEV', 'AWS_lag3', 'AWS_lag2', 'AWS_lag6', 'AWS_rollmean_23', 'AWS_rollstd_23', 'AWS_rollmean_9', 'AWS_rollstd_9']\n",
      " Data shapes - Train: torch.Size([22712, 44, 19]), Val: torch.Size([3340, 44, 19]), Test: torch.Size([4434, 44, 19])\n",
      "Error in fold fold_4: Target size (torch.Size([64, 3])) must be the same as input size (torch.Size([64, 1]))\n"
     ]
    },
    {
     "name": "stderr",
     "output_type": "stream",
     "text": [
      "/usr/local/lib/python3.10/dist-packages/torch/nn/modules/rnn.py:123: UserWarning: dropout option adds dropout after all but last recurrent layer, so non-zero dropout expects num_layers greater than 1, but got dropout=0.43187979878102756 and num_layers=1\n",
      "  warnings.warn(\n"
     ]
    },
    {
     "name": "stdout",
     "output_type": "stream",
     "text": [
      "Using 19 features: ['TCW', 'TCLW', 'R250', 'R500', 'R850', 'U850', 'V850', 'EWSS', 'KX', 'CAPE', 'SSHF', 'PEV', 'AWS_lag3', 'AWS_lag2', 'AWS_lag6', 'AWS_rollmean_23', 'AWS_rollstd_23', 'AWS_rollmean_9', 'AWS_rollstd_9']\n"
     ]
    },
    {
     "name": "stderr",
     "output_type": "stream",
     "text": [
      "/usr/local/lib/python3.10/dist-packages/torch/nn/modules/rnn.py:123: UserWarning: dropout option adds dropout after all but last recurrent layer, so non-zero dropout expects num_layers greater than 1, but got dropout=0.43187979878102756 and num_layers=1\n",
      "  warnings.warn(\n",
      "[I 2025-05-06 17:16:10,930] Trial 5 finished with value: inf and parameters: {'hidden_size': 43, 'num_layers': 1, 'dropout': 0.43187979878102756, 'lr': 0.0015240184853162512, 'time_step_in': 44, 'time_step_out': 3, 'stride': 5, 'binary_weight': 0.5785822059451233, 'intensity_weight': 1.3984199641839934, 'regression_weight': 1.0005179495027035, 'rain_threshold': 0.15411656324682654, 'num_lags': 3, 'lag_0': 3, 'lag_1': 2, 'lag_2': 6, 'num_windows': 2, 'window_0': 23, 'window_1': 9}. Best is trial 4 with value: 0.22384402435272932.\n"
     ]
    },
    {
     "name": "stdout",
     "output_type": "stream",
     "text": [
      " Data shapes - Train: torch.Size([29058, 44, 19]), Val: torch.Size([3340, 44, 19]), Test: torch.Size([4434, 44, 19])\n",
      "Error in fold fold_5: Target size (torch.Size([64, 3])) must be the same as input size (torch.Size([64, 1]))\n",
      "Using 17 features: ['TCW', 'TCLW', 'R250', 'R500', 'R850', 'U850', 'V850', 'EWSS', 'KX', 'CAPE', 'SSHF', 'PEV', 'AWS_lag6', 'AWS_rollmean_19', 'AWS_rollstd_19', 'AWS_rollmean_12', 'AWS_rollstd_12']\n",
      " Data shapes - Train: torch.Size([3006, 46, 17]), Val: torch.Size([3006, 46, 17]), Test: torch.Size([3759, 46, 17])\n"
     ]
    },
    {
     "name": "stderr",
     "output_type": "stream",
     "text": [
      "/usr/local/lib/python3.10/dist-packages/torch/nn/modules/rnn.py:123: UserWarning: dropout option adds dropout after all but last recurrent layer, so non-zero dropout expects num_layers greater than 1, but got dropout=0.0421916630843589 and num_layers=1\n",
      "  warnings.warn(\n"
     ]
    },
    {
     "name": "stdout",
     "output_type": "stream",
     "text": [
      "   Epoch 1/5, Total Loss: 5.6503, Binary: 0.4880, Intensity: 0.3349, Regression: 3.9630\n",
      "   Epoch 2/5, Total Loss: 4.8227, Binary: 0.4604, Intensity: 0.3051, Regression: 3.3539\n",
      "   Epoch 3/5, Total Loss: 4.7892, Binary: 0.4739, Intensity: 0.3017, Regression: 3.3249\n",
      "   Epoch 4/5, Total Loss: 4.5181, Binary: 0.4597, Intensity: 0.2555, Regression: 3.1488\n",
      "   Epoch 5/5, Total Loss: 4.3727, Binary: 0.4624, Intensity: 0.2522, Regression: 3.0377\n",
      "Using 17 features: ['TCW', 'TCLW', 'R250', 'R500', 'R850', 'U850', 'V850', 'EWSS', 'KX', 'CAPE', 'SSHF', 'PEV', 'AWS_lag6', 'AWS_rollmean_19', 'AWS_rollstd_19', 'AWS_rollmean_12', 'AWS_rollstd_12']\n",
      " Data shapes - Train: torch.Size([8350, 46, 17]), Val: torch.Size([3006, 46, 17]), Test: torch.Size([3759, 46, 17])\n"
     ]
    },
    {
     "name": "stderr",
     "output_type": "stream",
     "text": [
      "/usr/local/lib/python3.10/dist-packages/torch/nn/modules/rnn.py:123: UserWarning: dropout option adds dropout after all but last recurrent layer, so non-zero dropout expects num_layers greater than 1, but got dropout=0.0421916630843589 and num_layers=1\n",
      "  warnings.warn(\n"
     ]
    },
    {
     "name": "stdout",
     "output_type": "stream",
     "text": [
      "Error in fold fold_2: Expected input batch_size (1) to match target batch_size (0).\n",
      "Using 17 features: ['TCW', 'TCLW', 'R250', 'R500', 'R850', 'U850', 'V850', 'EWSS', 'KX', 'CAPE', 'SSHF', 'PEV', 'AWS_lag6', 'AWS_rollmean_19', 'AWS_rollstd_19', 'AWS_rollmean_12', 'AWS_rollstd_12']\n",
      " Data shapes - Train: torch.Size([13694, 46, 17]), Val: torch.Size([3006, 46, 17]), Test: torch.Size([3759, 46, 17])\n",
      "Error in fold fold_3: Expected input batch_size (1) to match target batch_size (0).\n"
     ]
    },
    {
     "name": "stderr",
     "output_type": "stream",
     "text": [
      "/usr/local/lib/python3.10/dist-packages/torch/nn/modules/rnn.py:123: UserWarning: dropout option adds dropout after all but last recurrent layer, so non-zero dropout expects num_layers greater than 1, but got dropout=0.0421916630843589 and num_layers=1\n",
      "  warnings.warn(\n"
     ]
    },
    {
     "name": "stdout",
     "output_type": "stream",
     "text": [
      "Using 17 features: ['TCW', 'TCLW', 'R250', 'R500', 'R850', 'U850', 'V850', 'EWSS', 'KX', 'CAPE', 'SSHF', 'PEV', 'AWS_lag6', 'AWS_rollmean_19', 'AWS_rollstd_19', 'AWS_rollmean_12', 'AWS_rollstd_12']\n",
      " Data shapes - Train: torch.Size([19038, 46, 17]), Val: torch.Size([3006, 46, 17]), Test: torch.Size([3759, 46, 17])\n",
      "Error in fold fold_4: Expected input batch_size (1) to match target batch_size (0).\n"
     ]
    },
    {
     "name": "stderr",
     "output_type": "stream",
     "text": [
      "/usr/local/lib/python3.10/dist-packages/torch/nn/modules/rnn.py:123: UserWarning: dropout option adds dropout after all but last recurrent layer, so non-zero dropout expects num_layers greater than 1, but got dropout=0.0421916630843589 and num_layers=1\n",
      "  warnings.warn(\n"
     ]
    },
    {
     "name": "stdout",
     "output_type": "stream",
     "text": [
      "Using 17 features: ['TCW', 'TCLW', 'R250', 'R500', 'R850', 'U850', 'V850', 'EWSS', 'KX', 'CAPE', 'SSHF', 'PEV', 'AWS_lag6', 'AWS_rollmean_19', 'AWS_rollstd_19', 'AWS_rollmean_12', 'AWS_rollstd_12']\n",
      " Data shapes - Train: torch.Size([24382, 46, 17]), Val: torch.Size([3006, 46, 17]), Test: torch.Size([3759, 46, 17])\n"
     ]
    },
    {
     "name": "stderr",
     "output_type": "stream",
     "text": [
      "/usr/local/lib/python3.10/dist-packages/torch/nn/modules/rnn.py:123: UserWarning: dropout option adds dropout after all but last recurrent layer, so non-zero dropout expects num_layers greater than 1, but got dropout=0.0421916630843589 and num_layers=1\n",
      "  warnings.warn(\n"
     ]
    },
    {
     "name": "stdout",
     "output_type": "stream",
     "text": [
      "   Epoch 1/5, Total Loss: 1.8500, Binary: 0.4400, Intensity: 0.1562, Regression: 1.1601\n",
      "   Epoch 2/5, Total Loss: 1.7053, Binary: 0.3589, Intensity: 0.1031, Regression: 1.1117\n",
      "   Epoch 3/5, Total Loss: 1.4111, Binary: 0.2741, Intensity: 0.0796, Regression: 0.9322\n",
      "   Epoch 4/5, Total Loss: 1.4832, Binary: 0.2694, Intensity: 0.0963, Regression: 0.9798\n"
     ]
    },
    {
     "name": "stderr",
     "output_type": "stream",
     "text": [
      "[I 2025-05-06 17:16:50,985] Trial 6 finished with value: 0.32431378960609436 and parameters: {'hidden_size': 228, 'num_layers': 1, 'dropout': 0.0421916630843589, 'lr': 0.0036194896421349538, 'time_step_in': 46, 'time_step_out': 1, 'stride': 6, 'binary_weight': 0.5105390992034181, 'intensity_weight': 0.7604442847625368, 'regression_weight': 1.298649560429132, 'rain_threshold': 0.1285753053197055, 'num_lags': 1, 'lag_0': 6, 'num_windows': 2, 'window_0': 19, 'window_1': 12}. Best is trial 4 with value: 0.22384402435272932.\n"
     ]
    },
    {
     "name": "stdout",
     "output_type": "stream",
     "text": [
      "   Epoch 5/5, Total Loss: 1.4232, Binary: 0.2568, Intensity: 0.0860, Regression: 0.9446\n",
      "   Early stopping at epoch 5\n",
      "Using 16 features: ['TCW', 'TCLW', 'R250', 'R500', 'R850', 'U850', 'V850', 'EWSS', 'KX', 'CAPE', 'SSHF', 'PEV', 'AWS_lag5', 'AWS_lag3', 'AWS_rollmean_6', 'AWS_rollstd_6']\n",
      " Data shapes - Train: torch.Size([4676, 25, 16]), Val: torch.Size([4676, 25, 16]), Test: torch.Size([5405, 25, 16])\n",
      "Error in fold fold_1: Target size (torch.Size([64, 3])) must be the same as input size (torch.Size([64, 1]))\n",
      "Using 16 features: ['TCW', 'TCLW', 'R250', 'R500', 'R850', 'U850', 'V850', 'EWSS', 'KX', 'CAPE', 'SSHF', 'PEV', 'AWS_lag5', 'AWS_lag3', 'AWS_rollmean_6', 'AWS_rollstd_6']\n",
      " Data shapes - Train: torch.Size([11022, 25, 16]), Val: torch.Size([4676, 25, 16]), Test: torch.Size([5405, 25, 16])\n",
      "Error in fold fold_2: Target size (torch.Size([64, 3])) must be the same as input size (torch.Size([64, 1]))\n",
      "Using 16 features: ['TCW', 'TCLW', 'R250', 'R500', 'R850', 'U850', 'V850', 'EWSS', 'KX', 'CAPE', 'SSHF', 'PEV', 'AWS_lag5', 'AWS_lag3', 'AWS_rollmean_6', 'AWS_rollstd_6']\n",
      " Data shapes - Train: torch.Size([17702, 25, 16]), Val: torch.Size([4676, 25, 16]), Test: torch.Size([5405, 25, 16])\n",
      "Error in fold fold_3: Target size (torch.Size([64, 3])) must be the same as input size (torch.Size([64, 1]))\n",
      "Using 16 features: ['TCW', 'TCLW', 'R250', 'R500', 'R850', 'U850', 'V850', 'EWSS', 'KX', 'CAPE', 'SSHF', 'PEV', 'AWS_lag5', 'AWS_lag3', 'AWS_rollmean_6', 'AWS_rollstd_6']\n",
      " Data shapes - Train: torch.Size([24048, 25, 16]), Val: torch.Size([4676, 25, 16]), Test: torch.Size([5405, 25, 16])\n",
      "Error in fold fold_4: Target size (torch.Size([64, 3])) must be the same as input size (torch.Size([64, 1]))\n",
      "Using 16 features: ['TCW', 'TCLW', 'R250', 'R500', 'R850', 'U850', 'V850', 'EWSS', 'KX', 'CAPE', 'SSHF', 'PEV', 'AWS_lag5', 'AWS_lag3', 'AWS_rollmean_6', 'AWS_rollstd_6']\n"
     ]
    },
    {
     "name": "stderr",
     "output_type": "stream",
     "text": [
      "[I 2025-05-06 17:17:10,932] Trial 7 finished with value: inf and parameters: {'hidden_size': 73, 'num_layers': 2, 'dropout': 0.38662761235093357, 'lr': 0.0014469214522719416, 'time_step_in': 25, 'time_step_out': 3, 'stride': 5, 'binary_weight': 1.9868276562739235, 'intensity_weight': 1.6598429336649199, 'regression_weight': 0.7241957198927307, 'rain_threshold': 0.13026201484681454, 'num_lags': 2, 'lag_0': 5, 'lag_1': 3, 'num_windows': 1, 'window_0': 6}. Best is trial 4 with value: 0.22384402435272932.\n"
     ]
    },
    {
     "name": "stdout",
     "output_type": "stream",
     "text": [
      " Data shapes - Train: torch.Size([30394, 25, 16]), Val: torch.Size([4676, 25, 16]), Test: torch.Size([5405, 25, 16])\n",
      "Error in fold fold_5: Target size (torch.Size([64, 3])) must be the same as input size (torch.Size([64, 1]))\n",
      "Using 16 features: ['TCW', 'TCLW', 'R250', 'R500', 'R850', 'U850', 'V850', 'EWSS', 'KX', 'CAPE', 'SSHF', 'PEV', 'AWS_lag2', 'AWS_lag9', 'AWS_rollmean_4', 'AWS_rollstd_4']\n",
      " Data shapes - Train: torch.Size([6346, 18, 16]), Val: torch.Size([6346, 18, 16]), Test: torch.Size([7048, 18, 16])\n",
      "Error in fold fold_1: Target size (torch.Size([64, 3])) must be the same as input size (torch.Size([64, 1]))\n",
      "Using 16 features: ['TCW', 'TCLW', 'R250', 'R500', 'R850', 'U850', 'V850', 'EWSS', 'KX', 'CAPE', 'SSHF', 'PEV', 'AWS_lag2', 'AWS_lag9', 'AWS_rollmean_4', 'AWS_rollstd_4']\n",
      " Data shapes - Train: torch.Size([14362, 18, 16]), Val: torch.Size([6346, 18, 16]), Test: torch.Size([7048, 18, 16])\n",
      "Error in fold fold_2: Target size (torch.Size([64, 3])) must be the same as input size (torch.Size([64, 1]))\n",
      "Using 16 features: ['TCW', 'TCLW', 'R250', 'R500', 'R850', 'U850', 'V850', 'EWSS', 'KX', 'CAPE', 'SSHF', 'PEV', 'AWS_lag2', 'AWS_lag9', 'AWS_rollmean_4', 'AWS_rollstd_4']\n",
      " Data shapes - Train: torch.Size([22378, 18, 16]), Val: torch.Size([6346, 18, 16]), Test: torch.Size([7048, 18, 16])\n",
      "Error in fold fold_3: Target size (torch.Size([64, 3])) must be the same as input size (torch.Size([64, 1]))\n",
      "Using 16 features: ['TCW', 'TCLW', 'R250', 'R500', 'R850', 'U850', 'V850', 'EWSS', 'KX', 'CAPE', 'SSHF', 'PEV', 'AWS_lag2', 'AWS_lag9', 'AWS_rollmean_4', 'AWS_rollstd_4']\n",
      " Data shapes - Train: torch.Size([30394, 18, 16]), Val: torch.Size([6346, 18, 16]), Test: torch.Size([7048, 18, 16])\n",
      "Error in fold fold_4: Target size (torch.Size([64, 3])) must be the same as input size (torch.Size([64, 1]))\n",
      "Using 16 features: ['TCW', 'TCLW', 'R250', 'R500', 'R850', 'U850', 'V850', 'EWSS', 'KX', 'CAPE', 'SSHF', 'PEV', 'AWS_lag2', 'AWS_lag9', 'AWS_rollmean_4', 'AWS_rollstd_4']\n"
     ]
    },
    {
     "name": "stderr",
     "output_type": "stream",
     "text": [
      "[I 2025-05-06 17:17:30,317] Trial 8 finished with value: inf and parameters: {'hidden_size': 191, 'num_layers': 2, 'dropout': 0.41785510061455977, 'lr': 0.002559025727724323, 'time_step_in': 18, 'time_step_out': 3, 'stride': 4, 'binary_weight': 1.226715250644014, 'intensity_weight': 0.5251276401441387, 'regression_weight': 0.8317140448919218, 'rain_threshold': 0.18095112713934564, 'num_lags': 2, 'lag_0': 2, 'lag_1': 9, 'num_windows': 1, 'window_0': 4}. Best is trial 4 with value: 0.22384402435272932.\n"
     ]
    },
    {
     "name": "stdout",
     "output_type": "stream",
     "text": [
      " Data shapes - Train: torch.Size([38410, 18, 16]), Val: torch.Size([6346, 18, 16]), Test: torch.Size([7048, 18, 16])\n",
      "Error in fold fold_5: Target size (torch.Size([64, 3])) must be the same as input size (torch.Size([64, 1]))\n",
      "Using 17 features: ['TCW', 'TCLW', 'R250', 'R500', 'R850', 'U850', 'V850', 'EWSS', 'KX', 'CAPE', 'SSHF', 'PEV', 'AWS_lag12', 'AWS_rollmean_6', 'AWS_rollstd_6', 'AWS_rollmean_23', 'AWS_rollstd_23']\n",
      " Data shapes - Train: torch.Size([4676, 29, 17]), Val: torch.Size([4676, 29, 17]), Test: torch.Size([5198, 29, 17])\n",
      "Error in fold fold_1: Expected input batch_size (1) to match target batch_size (0).\n",
      "Using 17 features: ['TCW', 'TCLW', 'R250', 'R500', 'R850', 'U850', 'V850', 'EWSS', 'KX', 'CAPE', 'SSHF', 'PEV', 'AWS_lag12', 'AWS_rollmean_6', 'AWS_rollstd_6', 'AWS_rollmean_23', 'AWS_rollstd_23']\n",
      " Data shapes - Train: torch.Size([11022, 29, 17]), Val: torch.Size([4676, 29, 17]), Test: torch.Size([5198, 29, 17])\n",
      "Error in fold fold_2: Expected input batch_size (1) to match target batch_size (0).\n",
      "Using 17 features: ['TCW', 'TCLW', 'R250', 'R500', 'R850', 'U850', 'V850', 'EWSS', 'KX', 'CAPE', 'SSHF', 'PEV', 'AWS_lag12', 'AWS_rollmean_6', 'AWS_rollstd_6', 'AWS_rollmean_23', 'AWS_rollstd_23']\n",
      " Data shapes - Train: torch.Size([17368, 29, 17]), Val: torch.Size([4676, 29, 17]), Test: torch.Size([5198, 29, 17])\n",
      "Error in fold fold_3: Expected input batch_size (1) to match target batch_size (0).\n",
      "Using 17 features: ['TCW', 'TCLW', 'R250', 'R500', 'R850', 'U850', 'V850', 'EWSS', 'KX', 'CAPE', 'SSHF', 'PEV', 'AWS_lag12', 'AWS_rollmean_6', 'AWS_rollstd_6', 'AWS_rollmean_23', 'AWS_rollstd_23']\n",
      " Data shapes - Train: torch.Size([23714, 29, 17]), Val: torch.Size([4676, 29, 17]), Test: torch.Size([5198, 29, 17])\n",
      "Error in fold fold_4: Expected input batch_size (1) to match target batch_size (0).\n",
      "Using 17 features: ['TCW', 'TCLW', 'R250', 'R500', 'R850', 'U850', 'V850', 'EWSS', 'KX', 'CAPE', 'SSHF', 'PEV', 'AWS_lag12', 'AWS_rollmean_6', 'AWS_rollstd_6', 'AWS_rollmean_23', 'AWS_rollstd_23']\n",
      " Data shapes - Train: torch.Size([30394, 29, 17]), Val: torch.Size([4676, 29, 17]), Test: torch.Size([5198, 29, 17])\n",
      "   Epoch 1/5, Total Loss: 2.9378, Binary: 0.5310, Intensity: 0.1798, Regression: 1.1311\n",
      "   Epoch 2/5, Total Loss: 2.6897, Binary: 0.5232, Intensity: 0.1119, Regression: 1.0559\n",
      "   Epoch 3/5, Total Loss: 2.5416, Binary: 0.5094, Intensity: 0.1016, Regression: 0.9926\n",
      "   Epoch 4/5, Total Loss: 2.2040, Binary: 0.2988, Intensity: 0.0833, Regression: 0.9445\n"
     ]
    },
    {
     "name": "stderr",
     "output_type": "stream",
     "text": [
      "[I 2025-05-06 17:18:07,225] Trial 9 finished with value: 0.15259088575839996 and parameters: {'hidden_size': 97, 'num_layers': 2, 'dropout': 0.47312792006744303, 'lr': 0.0004741917322974995, 'time_step_in': 29, 'time_step_out': 1, 'stride': 5, 'binary_weight': 1.048021924722862, 'intensity_weight': 1.4581279645729655, 'regression_weight': 1.8734558093413478, 'rain_threshold': 0.0845142367928742, 'num_lags': 1, 'lag_0': 12, 'num_windows': 2, 'window_0': 6, 'window_1': 23}. Best is trial 9 with value: 0.15259088575839996.\n"
     ]
    },
    {
     "name": "stdout",
     "output_type": "stream",
     "text": [
      "   Epoch 5/5, Total Loss: 1.9914, Binary: 0.2449, Intensity: 0.0737, Regression: 0.8686\n",
      "Using 19 features: ['TCW', 'TCLW', 'R250', 'R500', 'R850', 'U850', 'V850', 'EWSS', 'KX', 'CAPE', 'SSHF', 'PEV', 'AWS_lag9', 'AWS_rollmean_11', 'AWS_rollstd_11', 'AWS_rollmean_4', 'AWS_rollstd_4', 'AWS_rollmean_23', 'AWS_rollstd_23']\n",
      " Data shapes - Train: torch.Size([8016, 25, 19]), Val: torch.Size([8016, 25, 19]), Test: torch.Size([8978, 25, 19])\n",
      "Error in fold fold_1: Target size (torch.Size([64, 2])) must be the same as input size (torch.Size([64, 1]))\n",
      "Using 19 features: ['TCW', 'TCLW', 'R250', 'R500', 'R850', 'U850', 'V850', 'EWSS', 'KX', 'CAPE', 'SSHF', 'PEV', 'AWS_lag9', 'AWS_rollmean_11', 'AWS_rollstd_11', 'AWS_rollmean_4', 'AWS_rollstd_4', 'AWS_rollmean_23', 'AWS_rollstd_23']\n",
      " Data shapes - Train: torch.Size([18704, 25, 19]), Val: torch.Size([8016, 25, 19]), Test: torch.Size([8978, 25, 19])\n",
      "Error in fold fold_2: Target size (torch.Size([64, 2])) must be the same as input size (torch.Size([64, 1]))\n",
      "Using 19 features: ['TCW', 'TCLW', 'R250', 'R500', 'R850', 'U850', 'V850', 'EWSS', 'KX', 'CAPE', 'SSHF', 'PEV', 'AWS_lag9', 'AWS_rollmean_11', 'AWS_rollstd_11', 'AWS_rollmean_4', 'AWS_rollstd_4', 'AWS_rollmean_23', 'AWS_rollstd_23']\n",
      " Data shapes - Train: torch.Size([29392, 25, 19]), Val: torch.Size([8016, 25, 19]), Test: torch.Size([8978, 25, 19])\n",
      "Error in fold fold_3: Target size (torch.Size([64, 2])) must be the same as input size (torch.Size([64, 1]))\n",
      "Using 19 features: ['TCW', 'TCLW', 'R250', 'R500', 'R850', 'U850', 'V850', 'EWSS', 'KX', 'CAPE', 'SSHF', 'PEV', 'AWS_lag9', 'AWS_rollmean_11', 'AWS_rollstd_11', 'AWS_rollmean_4', 'AWS_rollstd_4', 'AWS_rollmean_23', 'AWS_rollstd_23']\n",
      " Data shapes - Train: torch.Size([40080, 25, 19]), Val: torch.Size([8016, 25, 19]), Test: torch.Size([8978, 25, 19])\n",
      "Error in fold fold_4: Target size (torch.Size([64, 2])) must be the same as input size (torch.Size([64, 1]))\n",
      "Using 19 features: ['TCW', 'TCLW', 'R250', 'R500', 'R850', 'U850', 'V850', 'EWSS', 'KX', 'CAPE', 'SSHF', 'PEV', 'AWS_lag9', 'AWS_rollmean_11', 'AWS_rollstd_11', 'AWS_rollmean_4', 'AWS_rollstd_4', 'AWS_rollmean_23', 'AWS_rollstd_23']\n"
     ]
    },
    {
     "name": "stderr",
     "output_type": "stream",
     "text": [
      "[I 2025-05-06 17:18:43,101] Trial 10 finished with value: inf and parameters: {'hidden_size': 108, 'num_layers': 2, 'dropout': 0.4746783531567493, 'lr': 0.0004440049202744458, 'time_step_in': 25, 'time_step_out': 2, 'stride': 3, 'binary_weight': 0.8590691112848667, 'intensity_weight': 1.8863212131890008, 'regression_weight': 1.9517028151772302, 'rain_threshold': 0.09050425655942868, 'num_lags': 1, 'lag_0': 9, 'num_windows': 3, 'window_0': 11, 'window_1': 4, 'window_2': 23}. Best is trial 9 with value: 0.15259088575839996.\n"
     ]
    },
    {
     "name": "stdout",
     "output_type": "stream",
     "text": [
      " Data shapes - Train: torch.Size([50768, 25, 19]), Val: torch.Size([8016, 25, 19]), Test: torch.Size([8978, 25, 19])\n",
      "Error in fold fold_5: Target size (torch.Size([64, 2])) must be the same as input size (torch.Size([64, 1]))\n",
      "Using 20 features: ['TCW', 'TCLW', 'R250', 'R500', 'R850', 'U850', 'V850', 'EWSS', 'KX', 'CAPE', 'SSHF', 'PEV', 'AWS_lag12', 'AWS_lag7', 'AWS_rollmean_11', 'AWS_rollstd_11', 'AWS_rollmean_16', 'AWS_rollstd_16', 'AWS_rollmean_3', 'AWS_rollstd_3']\n",
      " Data shapes - Train: torch.Size([5344, 33, 20]), Val: torch.Size([5344, 33, 20]), Test: torch.Size([6279, 33, 20])\n",
      "   Epoch 1/5, Total Loss: 11.0011, Binary: 0.5042, Intensity: 0.6734, Regression: 4.7592\n",
      "   Epoch 2/5, Total Loss: 10.9324, Binary: 0.4194, Intensity: 0.3731, Regression: 4.9751\n",
      "   Epoch 3/5, Total Loss: 9.5958, Binary: 0.4172, Intensity: 0.3684, Regression: 4.3026\n",
      "   Epoch 4/5, Total Loss: 9.8261, Binary: 0.4134, Intensity: 0.4070, Regression: 4.3988\n",
      "   Epoch 5/5, Total Loss: 9.6963, Binary: 0.4037, Intensity: 0.3876, Regression: 4.3527\n",
      "   Early stopping at epoch 5\n",
      "Using 20 features: ['TCW', 'TCLW', 'R250', 'R500', 'R850', 'U850', 'V850', 'EWSS', 'KX', 'CAPE', 'SSHF', 'PEV', 'AWS_lag12', 'AWS_lag7', 'AWS_rollmean_11', 'AWS_rollstd_11', 'AWS_rollmean_16', 'AWS_rollstd_16', 'AWS_rollmean_3', 'AWS_rollstd_3']\n",
      " Data shapes - Train: torch.Size([13360, 33, 20]), Val: torch.Size([5344, 33, 20]), Test: torch.Size([6279, 33, 20])\n",
      "Error in fold fold_2: Expected input batch_size (1) to match target batch_size (0).\n",
      "Using 20 features: ['TCW', 'TCLW', 'R250', 'R500', 'R850', 'U850', 'V850', 'EWSS', 'KX', 'CAPE', 'SSHF', 'PEV', 'AWS_lag12', 'AWS_lag7', 'AWS_rollmean_11', 'AWS_rollstd_11', 'AWS_rollmean_16', 'AWS_rollstd_16', 'AWS_rollmean_3', 'AWS_rollstd_3']\n",
      " Data shapes - Train: torch.Size([21376, 33, 20]), Val: torch.Size([5344, 33, 20]), Test: torch.Size([6279, 33, 20])\n",
      "Error in fold fold_3: Expected input batch_size (1) to match target batch_size (0).\n",
      "Using 20 features: ['TCW', 'TCLW', 'R250', 'R500', 'R850', 'U850', 'V850', 'EWSS', 'KX', 'CAPE', 'SSHF', 'PEV', 'AWS_lag12', 'AWS_lag7', 'AWS_rollmean_11', 'AWS_rollstd_11', 'AWS_rollmean_16', 'AWS_rollstd_16', 'AWS_rollmean_3', 'AWS_rollstd_3']\n",
      " Data shapes - Train: torch.Size([29392, 33, 20]), Val: torch.Size([5344, 33, 20]), Test: torch.Size([6279, 33, 20])\n",
      "Error in fold fold_4: Expected input batch_size (1) to match target batch_size (0).\n",
      "Using 20 features: ['TCW', 'TCLW', 'R250', 'R500', 'R850', 'U850', 'V850', 'EWSS', 'KX', 'CAPE', 'SSHF', 'PEV', 'AWS_lag12', 'AWS_lag7', 'AWS_rollmean_11', 'AWS_rollstd_11', 'AWS_rollmean_16', 'AWS_rollstd_16', 'AWS_rollmean_3', 'AWS_rollstd_3']\n",
      " Data shapes - Train: torch.Size([37408, 33, 20]), Val: torch.Size([5344, 33, 20]), Test: torch.Size([6279, 33, 20])\n",
      "   Epoch 1/5, Total Loss: 3.7383, Binary: 0.4519, Intensity: 0.1950, Regression: 1.4126\n",
      "   Epoch 2/5, Total Loss: 2.9932, Binary: 0.2663, Intensity: 0.0966, Regression: 1.2439\n",
      "   Epoch 3/5, Total Loss: 2.8336, Binary: 0.2433, Intensity: 0.0891, Regression: 1.1861\n",
      "   Epoch 4/5, Total Loss: 2.7271, Binary: 0.2386, Intensity: 0.0897, Regression: 1.1355\n",
      "   Epoch 5/5, Total Loss: 2.7549, Binary: 0.2248, Intensity: 0.0873, Regression: 1.1621\n"
     ]
    },
    {
     "name": "stderr",
     "output_type": "stream",
     "text": [
      "[I 2025-05-06 17:19:49,122] Trial 11 finished with value: 0.2679000496864319 and parameters: {'hidden_size': 132, 'num_layers': 2, 'dropout': 0.3322078886906962, 'lr': 0.0003587435661293148, 'time_step_in': 33, 'time_step_out': 1, 'stride': 4, 'binary_weight': 1.584429896250724, 'intensity_weight': 1.201047474743575, 'regression_weight': 1.973757239830718, 'rain_threshold': 0.09631537054437565, 'num_lags': 2, 'lag_0': 12, 'lag_1': 7, 'num_windows': 3, 'window_0': 11, 'window_1': 16, 'window_2': 3}. Best is trial 9 with value: 0.15259088575839996.\n"
     ]
    },
    {
     "name": "stdout",
     "output_type": "stream",
     "text": [
      "Using 20 features: ['TCW', 'TCLW', 'R250', 'R500', 'R850', 'U850', 'V850', 'EWSS', 'KX', 'CAPE', 'SSHF', 'PEV', 'AWS_lag12', 'AWS_lag12', 'AWS_rollmean_10', 'AWS_rollstd_10', 'AWS_rollmean_17', 'AWS_rollstd_17', 'AWS_rollmean_4', 'AWS_rollstd_4']\n",
      " Data shapes - Train: torch.Size([4676, 29, 20]), Val: torch.Size([4676, 29, 20]), Test: torch.Size([5183, 29, 20])\n",
      "Error in fold fold_1: Target size (torch.Size([64, 2])) must be the same as input size (torch.Size([64, 1]))\n",
      "Using 20 features: ['TCW', 'TCLW', 'R250', 'R500', 'R850', 'U850', 'V850', 'EWSS', 'KX', 'CAPE', 'SSHF', 'PEV', 'AWS_lag12', 'AWS_lag12', 'AWS_rollmean_10', 'AWS_rollstd_10', 'AWS_rollmean_17', 'AWS_rollstd_17', 'AWS_rollmean_4', 'AWS_rollstd_4']\n",
      " Data shapes - Train: torch.Size([11022, 29, 20]), Val: torch.Size([4676, 29, 20]), Test: torch.Size([5183, 29, 20])\n",
      "Error in fold fold_2: Target size (torch.Size([64, 2])) must be the same as input size (torch.Size([64, 1]))\n",
      "Using 20 features: ['TCW', 'TCLW', 'R250', 'R500', 'R850', 'U850', 'V850', 'EWSS', 'KX', 'CAPE', 'SSHF', 'PEV', 'AWS_lag12', 'AWS_lag12', 'AWS_rollmean_10', 'AWS_rollstd_10', 'AWS_rollmean_17', 'AWS_rollstd_17', 'AWS_rollmean_4', 'AWS_rollstd_4']\n",
      " Data shapes - Train: torch.Size([17368, 29, 20]), Val: torch.Size([4676, 29, 20]), Test: torch.Size([5183, 29, 20])\n",
      "Error in fold fold_3: Target size (torch.Size([64, 2])) must be the same as input size (torch.Size([64, 1]))\n",
      "Using 20 features: ['TCW', 'TCLW', 'R250', 'R500', 'R850', 'U850', 'V850', 'EWSS', 'KX', 'CAPE', 'SSHF', 'PEV', 'AWS_lag12', 'AWS_lag12', 'AWS_rollmean_10', 'AWS_rollstd_10', 'AWS_rollmean_17', 'AWS_rollstd_17', 'AWS_rollmean_4', 'AWS_rollstd_4']\n",
      " Data shapes - Train: torch.Size([23714, 29, 20]), Val: torch.Size([4676, 29, 20]), Test: torch.Size([5183, 29, 20])\n",
      "Error in fold fold_4: Target size (torch.Size([64, 2])) must be the same as input size (torch.Size([64, 1]))\n",
      "Using 20 features: ['TCW', 'TCLW', 'R250', 'R500', 'R850', 'U850', 'V850', 'EWSS', 'KX', 'CAPE', 'SSHF', 'PEV', 'AWS_lag12', 'AWS_lag12', 'AWS_rollmean_10', 'AWS_rollstd_10', 'AWS_rollmean_17', 'AWS_rollstd_17', 'AWS_rollmean_4', 'AWS_rollstd_4']\n"
     ]
    },
    {
     "name": "stderr",
     "output_type": "stream",
     "text": [
      "[I 2025-05-06 17:20:18,087] Trial 12 finished with value: inf and parameters: {'hidden_size': 98, 'num_layers': 3, 'dropout': 0.30590047865107006, 'lr': 0.00013972932037831747, 'time_step_in': 29, 'time_step_out': 2, 'stride': 5, 'binary_weight': 1.4930632449512962, 'intensity_weight': 0.8384023346079457, 'regression_weight': 1.5110644052845528, 'rain_threshold': 0.10206630551345618, 'num_lags': 2, 'lag_0': 12, 'lag_1': 12, 'num_windows': 3, 'window_0': 10, 'window_1': 17, 'window_2': 4}. Best is trial 9 with value: 0.15259088575839996.\n"
     ]
    },
    {
     "name": "stdout",
     "output_type": "stream",
     "text": [
      " Data shapes - Train: torch.Size([30060, 29, 20]), Val: torch.Size([4676, 29, 20]), Test: torch.Size([5183, 29, 20])\n",
      "Error in fold fold_5: Target size (torch.Size([64, 2])) must be the same as input size (torch.Size([64, 1]))\n",
      "Using 17 features: ['TCW', 'TCLW', 'R250', 'R500', 'R850', 'U850', 'V850', 'EWSS', 'KX', 'CAPE', 'SSHF', 'PEV', 'AWS_lag8', 'AWS_rollmean_15', 'AWS_rollstd_15', 'AWS_rollmean_17', 'AWS_rollstd_17']\n",
      " Data shapes - Train: torch.Size([4008, 36, 17]), Val: torch.Size([4008, 36, 17]), Test: torch.Size([4909, 36, 17])\n",
      "Error in fold fold_1: Target size (torch.Size([64, 2])) must be the same as input size (torch.Size([64, 1]))\n"
     ]
    },
    {
     "name": "stderr",
     "output_type": "stream",
     "text": [
      "/usr/local/lib/python3.10/dist-packages/torch/nn/modules/rnn.py:123: UserWarning: dropout option adds dropout after all but last recurrent layer, so non-zero dropout expects num_layers greater than 1, but got dropout=0.15038033716163351 and num_layers=1\n",
      "  warnings.warn(\n"
     ]
    },
    {
     "name": "stdout",
     "output_type": "stream",
     "text": [
      "Using 17 features: ['TCW', 'TCLW', 'R250', 'R500', 'R850', 'U850', 'V850', 'EWSS', 'KX', 'CAPE', 'SSHF', 'PEV', 'AWS_lag8', 'AWS_rollmean_15', 'AWS_rollstd_15', 'AWS_rollmean_17', 'AWS_rollstd_17']\n",
      " Data shapes - Train: torch.Size([10354, 36, 17]), Val: torch.Size([4008, 36, 17]), Test: torch.Size([4909, 36, 17])\n",
      "Error in fold fold_2: Target size (torch.Size([64, 2])) must be the same as input size (torch.Size([64, 1]))\n"
     ]
    },
    {
     "name": "stderr",
     "output_type": "stream",
     "text": [
      "/usr/local/lib/python3.10/dist-packages/torch/nn/modules/rnn.py:123: UserWarning: dropout option adds dropout after all but last recurrent layer, so non-zero dropout expects num_layers greater than 1, but got dropout=0.15038033716163351 and num_layers=1\n",
      "  warnings.warn(\n"
     ]
    },
    {
     "name": "stdout",
     "output_type": "stream",
     "text": [
      "Using 17 features: ['TCW', 'TCLW', 'R250', 'R500', 'R850', 'U850', 'V850', 'EWSS', 'KX', 'CAPE', 'SSHF', 'PEV', 'AWS_lag8', 'AWS_rollmean_15', 'AWS_rollstd_15', 'AWS_rollmean_17', 'AWS_rollstd_17']\n",
      " Data shapes - Train: torch.Size([17034, 36, 17]), Val: torch.Size([4008, 36, 17]), Test: torch.Size([4909, 36, 17])\n",
      "Error in fold fold_3: Target size (torch.Size([64, 2])) must be the same as input size (torch.Size([64, 1]))\n"
     ]
    },
    {
     "name": "stderr",
     "output_type": "stream",
     "text": [
      "/usr/local/lib/python3.10/dist-packages/torch/nn/modules/rnn.py:123: UserWarning: dropout option adds dropout after all but last recurrent layer, so non-zero dropout expects num_layers greater than 1, but got dropout=0.15038033716163351 and num_layers=1\n",
      "  warnings.warn(\n"
     ]
    },
    {
     "name": "stdout",
     "output_type": "stream",
     "text": [
      "Using 17 features: ['TCW', 'TCLW', 'R250', 'R500', 'R850', 'U850', 'V850', 'EWSS', 'KX', 'CAPE', 'SSHF', 'PEV', 'AWS_lag8', 'AWS_rollmean_15', 'AWS_rollstd_15', 'AWS_rollmean_17', 'AWS_rollstd_17']\n",
      " Data shapes - Train: torch.Size([23380, 36, 17]), Val: torch.Size([4008, 36, 17]), Test: torch.Size([4909, 36, 17])\n",
      "Error in fold fold_4: Target size (torch.Size([64, 2])) must be the same as input size (torch.Size([64, 1]))\n"
     ]
    },
    {
     "name": "stderr",
     "output_type": "stream",
     "text": [
      "/usr/local/lib/python3.10/dist-packages/torch/nn/modules/rnn.py:123: UserWarning: dropout option adds dropout after all but last recurrent layer, so non-zero dropout expects num_layers greater than 1, but got dropout=0.15038033716163351 and num_layers=1\n",
      "  warnings.warn(\n"
     ]
    },
    {
     "name": "stdout",
     "output_type": "stream",
     "text": [
      "Using 17 features: ['TCW', 'TCLW', 'R250', 'R500', 'R850', 'U850', 'V850', 'EWSS', 'KX', 'CAPE', 'SSHF', 'PEV', 'AWS_lag8', 'AWS_rollmean_15', 'AWS_rollstd_15', 'AWS_rollmean_17', 'AWS_rollstd_17']\n"
     ]
    },
    {
     "name": "stderr",
     "output_type": "stream",
     "text": [
      "/usr/local/lib/python3.10/dist-packages/torch/nn/modules/rnn.py:123: UserWarning: dropout option adds dropout after all but last recurrent layer, so non-zero dropout expects num_layers greater than 1, but got dropout=0.15038033716163351 and num_layers=1\n",
      "  warnings.warn(\n",
      "[I 2025-05-06 17:20:45,208] Trial 13 finished with value: inf and parameters: {'hidden_size': 153, 'num_layers': 1, 'dropout': 0.15038033716163351, 'lr': 0.0005865004163007341, 'time_step_in': 36, 'time_step_out': 2, 'stride': 5, 'binary_weight': 1.4393320132799534, 'intensity_weight': 0.5477778167037737, 'regression_weight': 1.6675208854911143, 'rain_threshold': 0.15649216575026803, 'num_lags': 1, 'lag_0': 8, 'num_windows': 2, 'window_0': 15, 'window_1': 17}. Best is trial 9 with value: 0.15259088575839996.\n"
     ]
    },
    {
     "name": "stdout",
     "output_type": "stream",
     "text": [
      " Data shapes - Train: torch.Size([29726, 36, 17]), Val: torch.Size([4008, 36, 17]), Test: torch.Size([4909, 36, 17])\n",
      "Error in fold fold_5: Target size (torch.Size([64, 2])) must be the same as input size (torch.Size([64, 1]))\n",
      "Using 20 features: ['TCW', 'TCLW', 'R250', 'R500', 'R850', 'U850', 'V850', 'EWSS', 'KX', 'CAPE', 'SSHF', 'PEV', 'AWS_lag10', 'AWS_lag6', 'AWS_rollmean_9', 'AWS_rollstd_9', 'AWS_rollmean_24', 'AWS_rollstd_24', 'AWS_rollmean_11', 'AWS_rollstd_11']\n",
      " Data shapes - Train: torch.Size([4008, 25, 20]), Val: torch.Size([4008, 25, 20]), Test: torch.Size([4534, 25, 20])\n",
      "   Epoch 1/5, Total Loss: 6.2349, Binary: 0.5304, Intensity: 0.3770, Regression: 4.1821\n",
      "   Epoch 2/5, Total Loss: 6.5719, Binary: 0.5266, Intensity: 0.3709, Regression: 4.4692\n",
      "   Epoch 3/5, Total Loss: 5.8589, Binary: 0.5159, Intensity: 0.3540, Regression: 3.9164\n",
      "   Epoch 4/5, Total Loss: 5.7907, Binary: 0.5105, Intensity: 0.3226, Regression: 3.9068\n",
      "   Epoch 5/5, Total Loss: 5.8153, Binary: 0.5101, Intensity: 0.3098, Regression: 3.9444\n",
      "Using 20 features: ['TCW', 'TCLW', 'R250', 'R500', 'R850', 'U850', 'V850', 'EWSS', 'KX', 'CAPE', 'SSHF', 'PEV', 'AWS_lag10', 'AWS_lag6', 'AWS_rollmean_9', 'AWS_rollstd_9', 'AWS_rollmean_24', 'AWS_rollstd_24', 'AWS_rollmean_11', 'AWS_rollstd_11']\n",
      " Data shapes - Train: torch.Size([9352, 25, 20]), Val: torch.Size([4008, 25, 20]), Test: torch.Size([4534, 25, 20])\n",
      "Error in fold fold_2: Expected input batch_size (1) to match target batch_size (0).\n",
      "Using 20 features: ['TCW', 'TCLW', 'R250', 'R500', 'R850', 'U850', 'V850', 'EWSS', 'KX', 'CAPE', 'SSHF', 'PEV', 'AWS_lag10', 'AWS_lag6', 'AWS_rollmean_9', 'AWS_rollstd_9', 'AWS_rollmean_24', 'AWS_rollstd_24', 'AWS_rollmean_11', 'AWS_rollstd_11']\n",
      " Data shapes - Train: torch.Size([14696, 25, 20]), Val: torch.Size([4008, 25, 20]), Test: torch.Size([4534, 25, 20])\n",
      "Error in fold fold_3: Expected input batch_size (1) to match target batch_size (0).\n",
      "Using 20 features: ['TCW', 'TCLW', 'R250', 'R500', 'R850', 'U850', 'V850', 'EWSS', 'KX', 'CAPE', 'SSHF', 'PEV', 'AWS_lag10', 'AWS_lag6', 'AWS_rollmean_9', 'AWS_rollstd_9', 'AWS_rollmean_24', 'AWS_rollstd_24', 'AWS_rollmean_11', 'AWS_rollstd_11']\n",
      " Data shapes - Train: torch.Size([20040, 25, 20]), Val: torch.Size([4008, 25, 20]), Test: torch.Size([4534, 25, 20])\n",
      "Error in fold fold_4: Expected input batch_size (1) to match target batch_size (0).\n",
      "Using 20 features: ['TCW', 'TCLW', 'R250', 'R500', 'R850', 'U850', 'V850', 'EWSS', 'KX', 'CAPE', 'SSHF', 'PEV', 'AWS_lag10', 'AWS_lag6', 'AWS_rollmean_9', 'AWS_rollstd_9', 'AWS_rollmean_24', 'AWS_rollstd_24', 'AWS_rollmean_11', 'AWS_rollstd_11']\n",
      " Data shapes - Train: torch.Size([25384, 25, 20]), Val: torch.Size([4008, 25, 20]), Test: torch.Size([4534, 25, 20])\n",
      "   Epoch 1/5, Total Loss: 2.3668, Binary: 0.4749, Intensity: 0.1315, Regression: 1.3869\n",
      "   Epoch 2/5, Total Loss: 1.9695, Binary: 0.3232, Intensity: 0.1042, Regression: 1.2181\n",
      "   Epoch 3/5, Total Loss: 1.9306, Binary: 0.3345, Intensity: 0.1050, Regression: 1.1762\n",
      "   Epoch 4/5, Total Loss: 1.9219, Binary: 0.2825, Intensity: 0.0945, Regression: 1.2241\n"
     ]
    },
    {
     "name": "stderr",
     "output_type": "stream",
     "text": [
      "[I 2025-05-06 17:21:25,129] Trial 14 finished with value: 0.2341400757431984 and parameters: {'hidden_size': 195, 'num_layers': 2, 'dropout': 0.4901604840194285, 'lr': 0.009058426184169865, 'time_step_in': 25, 'time_step_out': 1, 'stride': 6, 'binary_weight': 0.9652428292559507, 'intensity_weight': 1.6313688455208806, 'regression_weight': 1.2213656342142631, 'rain_threshold': 0.05255132123487343, 'num_lags': 2, 'lag_0': 10, 'lag_1': 6, 'num_windows': 3, 'window_0': 9, 'window_1': 24, 'window_2': 11}. Best is trial 9 with value: 0.15259088575839996.\n"
     ]
    },
    {
     "name": "stdout",
     "output_type": "stream",
     "text": [
      "   Epoch 5/5, Total Loss: 1.7918, Binary: 0.2692, Intensity: 0.0917, Regression: 1.1318\n",
      "Using 18 features: ['TCW', 'TCLW', 'R250', 'R500', 'R850', 'U850', 'V850', 'EWSS', 'KX', 'CAPE', 'SSHF', 'PEV', 'AWS_lag11', 'AWS_lag1', 'AWS_rollmean_15', 'AWS_rollstd_15', 'AWS_rollmean_7', 'AWS_rollstd_7']\n",
      " Data shapes - Train: torch.Size([5344, 30, 18]), Val: torch.Size([5344, 30, 18]), Test: torch.Size([6279, 30, 18])\n",
      "Error in fold fold_1: Target size (torch.Size([64, 4])) must be the same as input size (torch.Size([64, 1]))\n",
      "Using 18 features: ['TCW', 'TCLW', 'R250', 'R500', 'R850', 'U850', 'V850', 'EWSS', 'KX', 'CAPE', 'SSHF', 'PEV', 'AWS_lag11', 'AWS_lag1', 'AWS_rollmean_15', 'AWS_rollstd_15', 'AWS_rollmean_7', 'AWS_rollstd_7']\n",
      " Data shapes - Train: torch.Size([13360, 30, 18]), Val: torch.Size([5344, 30, 18]), Test: torch.Size([6279, 30, 18])\n",
      "Error in fold fold_2: Target size (torch.Size([64, 4])) must be the same as input size (torch.Size([64, 1]))\n",
      "Using 18 features: ['TCW', 'TCLW', 'R250', 'R500', 'R850', 'U850', 'V850', 'EWSS', 'KX', 'CAPE', 'SSHF', 'PEV', 'AWS_lag11', 'AWS_lag1', 'AWS_rollmean_15', 'AWS_rollstd_15', 'AWS_rollmean_7', 'AWS_rollstd_7']\n",
      " Data shapes - Train: torch.Size([21376, 30, 18]), Val: torch.Size([5344, 30, 18]), Test: torch.Size([6279, 30, 18])\n",
      "Error in fold fold_3: Target size (torch.Size([64, 4])) must be the same as input size (torch.Size([64, 1]))\n",
      "Using 18 features: ['TCW', 'TCLW', 'R250', 'R500', 'R850', 'U850', 'V850', 'EWSS', 'KX', 'CAPE', 'SSHF', 'PEV', 'AWS_lag11', 'AWS_lag1', 'AWS_rollmean_15', 'AWS_rollstd_15', 'AWS_rollmean_7', 'AWS_rollstd_7']\n",
      " Data shapes - Train: torch.Size([29392, 30, 18]), Val: torch.Size([5344, 30, 18]), Test: torch.Size([6279, 30, 18])\n",
      "Error in fold fold_4: Target size (torch.Size([64, 4])) must be the same as input size (torch.Size([64, 1]))\n",
      "Using 18 features: ['TCW', 'TCLW', 'R250', 'R500', 'R850', 'U850', 'V850', 'EWSS', 'KX', 'CAPE', 'SSHF', 'PEV', 'AWS_lag11', 'AWS_lag1', 'AWS_rollmean_15', 'AWS_rollstd_15', 'AWS_rollmean_7', 'AWS_rollstd_7']\n"
     ]
    },
    {
     "name": "stderr",
     "output_type": "stream",
     "text": [
      "[I 2025-05-06 17:21:53,956] Trial 15 finished with value: inf and parameters: {'hidden_size': 42, 'num_layers': 2, 'dropout': 0.3259350382446129, 'lr': 0.00018509287949143523, 'time_step_in': 30, 'time_step_out': 4, 'stride': 4, 'binary_weight': 1.3642332634412755, 'intensity_weight': 1.3234321620736798, 'regression_weight': 1.7828444207662848, 'rain_threshold': 0.11032962674616682, 'num_lags': 2, 'lag_0': 11, 'lag_1': 1, 'num_windows': 2, 'window_0': 15, 'window_1': 7}. Best is trial 9 with value: 0.15259088575839996.\n"
     ]
    },
    {
     "name": "stdout",
     "output_type": "stream",
     "text": [
      " Data shapes - Train: torch.Size([37408, 30, 18]), Val: torch.Size([5344, 30, 18]), Test: torch.Size([6279, 30, 18])\n",
      "Error in fold fold_5: Target size (torch.Size([64, 4])) must be the same as input size (torch.Size([64, 1]))\n",
      "Using 17 features: ['TCW', 'TCLW', 'R250', 'R500', 'R850', 'U850', 'V850', 'EWSS', 'KX', 'CAPE', 'SSHF', 'PEV', 'AWS_lag4', 'AWS_rollmean_8', 'AWS_rollstd_8', 'AWS_rollmean_15', 'AWS_rollstd_15']\n",
      " Data shapes - Train: torch.Size([9352, 12, 17]), Val: torch.Size([9352, 12, 17]), Test: torch.Size([10034, 12, 17])\n",
      "Error in fold fold_1: Target size (torch.Size([64, 2])) must be the same as input size (torch.Size([64, 1]))\n"
     ]
    },
    {
     "name": "stderr",
     "output_type": "stream",
     "text": [
      "/usr/local/lib/python3.10/dist-packages/torch/nn/modules/rnn.py:123: UserWarning: dropout option adds dropout after all but last recurrent layer, so non-zero dropout expects num_layers greater than 1, but got dropout=0.16110338262548912 and num_layers=1\n",
      "  warnings.warn(\n"
     ]
    },
    {
     "name": "stdout",
     "output_type": "stream",
     "text": [
      "Using 17 features: ['TCW', 'TCLW', 'R250', 'R500', 'R850', 'U850', 'V850', 'EWSS', 'KX', 'CAPE', 'SSHF', 'PEV', 'AWS_lag4', 'AWS_rollmean_8', 'AWS_rollstd_8', 'AWS_rollmean_15', 'AWS_rollstd_15']\n",
      " Data shapes - Train: torch.Size([20040, 12, 17]), Val: torch.Size([9352, 12, 17]), Test: torch.Size([10034, 12, 17])\n",
      "Error in fold fold_2: Target size (torch.Size([64, 2])) must be the same as input size (torch.Size([64, 1]))\n"
     ]
    },
    {
     "name": "stderr",
     "output_type": "stream",
     "text": [
      "/usr/local/lib/python3.10/dist-packages/torch/nn/modules/rnn.py:123: UserWarning: dropout option adds dropout after all but last recurrent layer, so non-zero dropout expects num_layers greater than 1, but got dropout=0.16110338262548912 and num_layers=1\n",
      "  warnings.warn(\n"
     ]
    },
    {
     "name": "stdout",
     "output_type": "stream",
     "text": [
      "Using 17 features: ['TCW', 'TCLW', 'R250', 'R500', 'R850', 'U850', 'V850', 'EWSS', 'KX', 'CAPE', 'SSHF', 'PEV', 'AWS_lag4', 'AWS_rollmean_8', 'AWS_rollstd_8', 'AWS_rollmean_15', 'AWS_rollstd_15']\n",
      " Data shapes - Train: torch.Size([30728, 12, 17]), Val: torch.Size([9352, 12, 17]), Test: torch.Size([10034, 12, 17])\n",
      "Error in fold fold_3: Target size (torch.Size([64, 2])) must be the same as input size (torch.Size([64, 1]))\n"
     ]
    },
    {
     "name": "stderr",
     "output_type": "stream",
     "text": [
      "/usr/local/lib/python3.10/dist-packages/torch/nn/modules/rnn.py:123: UserWarning: dropout option adds dropout after all but last recurrent layer, so non-zero dropout expects num_layers greater than 1, but got dropout=0.16110338262548912 and num_layers=1\n",
      "  warnings.warn(\n"
     ]
    },
    {
     "name": "stdout",
     "output_type": "stream",
     "text": [
      "Using 17 features: ['TCW', 'TCLW', 'R250', 'R500', 'R850', 'U850', 'V850', 'EWSS', 'KX', 'CAPE', 'SSHF', 'PEV', 'AWS_lag4', 'AWS_rollmean_8', 'AWS_rollstd_8', 'AWS_rollmean_15', 'AWS_rollstd_15']\n",
      " Data shapes - Train: torch.Size([41416, 12, 17]), Val: torch.Size([9352, 12, 17]), Test: torch.Size([10034, 12, 17])\n",
      "Error in fold fold_4: Target size (torch.Size([64, 2])) must be the same as input size (torch.Size([64, 1]))\n"
     ]
    },
    {
     "name": "stderr",
     "output_type": "stream",
     "text": [
      "/usr/local/lib/python3.10/dist-packages/torch/nn/modules/rnn.py:123: UserWarning: dropout option adds dropout after all but last recurrent layer, so non-zero dropout expects num_layers greater than 1, but got dropout=0.16110338262548912 and num_layers=1\n",
      "  warnings.warn(\n"
     ]
    },
    {
     "name": "stdout",
     "output_type": "stream",
     "text": [
      "Using 17 features: ['TCW', 'TCLW', 'R250', 'R500', 'R850', 'U850', 'V850', 'EWSS', 'KX', 'CAPE', 'SSHF', 'PEV', 'AWS_lag4', 'AWS_rollmean_8', 'AWS_rollstd_8', 'AWS_rollmean_15', 'AWS_rollstd_15']\n"
     ]
    },
    {
     "name": "stderr",
     "output_type": "stream",
     "text": [
      "/usr/local/lib/python3.10/dist-packages/torch/nn/modules/rnn.py:123: UserWarning: dropout option adds dropout after all but last recurrent layer, so non-zero dropout expects num_layers greater than 1, but got dropout=0.16110338262548912 and num_layers=1\n",
      "  warnings.warn(\n",
      "[I 2025-05-06 17:22:15,595] Trial 16 finished with value: inf and parameters: {'hidden_size': 119, 'num_layers': 1, 'dropout': 0.16110338262548912, 'lr': 0.0007260400352294819, 'time_step_in': 12, 'time_step_out': 2, 'stride': 3, 'binary_weight': 0.8516689123532714, 'intensity_weight': 0.8544470448112697, 'regression_weight': 1.3063846277178546, 'rain_threshold': 0.07625970800414222, 'num_lags': 1, 'lag_0': 4, 'num_windows': 2, 'window_0': 8, 'window_1': 15}. Best is trial 9 with value: 0.15259088575839996.\n"
     ]
    },
    {
     "name": "stdout",
     "output_type": "stream",
     "text": [
      " Data shapes - Train: torch.Size([52104, 12, 17]), Val: torch.Size([9352, 12, 17]), Test: torch.Size([10034, 12, 17])\n",
      "Error in fold fold_5: Target size (torch.Size([64, 2])) must be the same as input size (torch.Size([64, 1]))\n",
      "Using 21 features: ['TCW', 'TCLW', 'R250', 'R500', 'R850', 'U850', 'V850', 'EWSS', 'KX', 'CAPE', 'SSHF', 'PEV', 'AWS_lag8', 'AWS_lag6', 'AWS_lag1', 'AWS_rollmean_13', 'AWS_rollstd_13', 'AWS_rollmean_19', 'AWS_rollstd_19', 'AWS_rollmean_8', 'AWS_rollstd_8']\n",
      " Data shapes - Train: torch.Size([9018, 39, 21]), Val: torch.Size([9018, 39, 21]), Test: torch.Size([11342, 39, 21])\n",
      "Error in fold fold_1: Target size (torch.Size([64, 4])) must be the same as input size (torch.Size([64, 1]))\n",
      "Using 21 features: ['TCW', 'TCLW', 'R250', 'R500', 'R850', 'U850', 'V850', 'EWSS', 'KX', 'CAPE', 'SSHF', 'PEV', 'AWS_lag8', 'AWS_lag6', 'AWS_lag1', 'AWS_rollmean_13', 'AWS_rollstd_13', 'AWS_rollmean_19', 'AWS_rollstd_19', 'AWS_rollmean_8', 'AWS_rollstd_8']\n",
      " Data shapes - Train: torch.Size([25050, 39, 21]), Val: torch.Size([9018, 39, 21]), Test: torch.Size([11342, 39, 21])\n",
      "Error in fold fold_2: Target size (torch.Size([64, 4])) must be the same as input size (torch.Size([64, 1]))\n",
      "Using 21 features: ['TCW', 'TCLW', 'R250', 'R500', 'R850', 'U850', 'V850', 'EWSS', 'KX', 'CAPE', 'SSHF', 'PEV', 'AWS_lag8', 'AWS_lag6', 'AWS_lag1', 'AWS_rollmean_13', 'AWS_rollstd_13', 'AWS_rollmean_19', 'AWS_rollstd_19', 'AWS_rollmean_8', 'AWS_rollstd_8']\n",
      " Data shapes - Train: torch.Size([41082, 39, 21]), Val: torch.Size([9018, 39, 21]), Test: torch.Size([11342, 39, 21])\n",
      "Error in fold fold_3: Target size (torch.Size([64, 4])) must be the same as input size (torch.Size([64, 1]))\n",
      "Using 21 features: ['TCW', 'TCLW', 'R250', 'R500', 'R850', 'U850', 'V850', 'EWSS', 'KX', 'CAPE', 'SSHF', 'PEV', 'AWS_lag8', 'AWS_lag6', 'AWS_lag1', 'AWS_rollmean_13', 'AWS_rollstd_13', 'AWS_rollmean_19', 'AWS_rollstd_19', 'AWS_rollmean_8', 'AWS_rollstd_8']\n",
      " Data shapes - Train: torch.Size([57114, 39, 21]), Val: torch.Size([9018, 39, 21]), Test: torch.Size([11342, 39, 21])\n",
      "Error in fold fold_4: Target size (torch.Size([64, 4])) must be the same as input size (torch.Size([64, 1]))\n",
      "Using 21 features: ['TCW', 'TCLW', 'R250', 'R500', 'R850', 'U850', 'V850', 'EWSS', 'KX', 'CAPE', 'SSHF', 'PEV', 'AWS_lag8', 'AWS_lag6', 'AWS_lag1', 'AWS_rollmean_13', 'AWS_rollstd_13', 'AWS_rollmean_19', 'AWS_rollstd_19', 'AWS_rollmean_8', 'AWS_rollstd_8']\n"
     ]
    },
    {
     "name": "stderr",
     "output_type": "stream",
     "text": [
      "[I 2025-05-06 17:23:16,066] Trial 17 finished with value: inf and parameters: {'hidden_size': 79, 'num_layers': 3, 'dropout': 0.3769633929191557, 'lr': 0.00024909695139645286, 'time_step_in': 39, 'time_step_out': 4, 'stride': 2, 'binary_weight': 1.7246877420507147, 'intensity_weight': 1.7390258905366098, 'regression_weight': 0.5119253551975842, 'rain_threshold': 0.14734873618829833, 'num_lags': 3, 'lag_0': 8, 'lag_1': 6, 'lag_2': 1, 'num_windows': 3, 'window_0': 13, 'window_1': 19, 'window_2': 8}. Best is trial 9 with value: 0.15259088575839996.\n"
     ]
    },
    {
     "name": "stdout",
     "output_type": "stream",
     "text": [
      " Data shapes - Train: torch.Size([73146, 39, 21]), Val: torch.Size([9018, 39, 21]), Test: torch.Size([11342, 39, 21])\n",
      "Error in fold fold_5: Target size (torch.Size([64, 4])) must be the same as input size (torch.Size([64, 1]))\n",
      "Using 15 features: ['TCW', 'TCLW', 'R250', 'R500', 'R850', 'U850', 'V850', 'EWSS', 'KX', 'CAPE', 'SSHF', 'PEV', 'AWS_lag1', 'AWS_rollmean_7', 'AWS_rollstd_7']\n",
      " Data shapes - Train: torch.Size([4342, 33, 15]), Val: torch.Size([4342, 33, 15]), Test: torch.Size([5115, 33, 15])\n"
     ]
    },
    {
     "name": "stderr",
     "output_type": "stream",
     "text": [
      "/usr/local/lib/python3.10/dist-packages/torch/nn/modules/rnn.py:123: UserWarning: dropout option adds dropout after all but last recurrent layer, so non-zero dropout expects num_layers greater than 1, but got dropout=0.2782316606545916 and num_layers=1\n",
      "  warnings.warn(\n"
     ]
    },
    {
     "name": "stdout",
     "output_type": "stream",
     "text": [
      "   Epoch 1/5, Total Loss: 6.1301, Binary: 0.6337, Intensity: 0.7607, Regression: 3.1038\n",
      "   Epoch 2/5, Total Loss: 5.0761, Binary: 0.5147, Intensity: 0.2604, Regression: 2.8732\n",
      "   Epoch 3/5, Total Loss: 5.0135, Binary: 0.5101, Intensity: 0.2562, Regression: 2.8372\n",
      "   Epoch 4/5, Total Loss: 4.9596, Binary: 0.5019, Intensity: 0.2708, Regression: 2.7950\n",
      "   Epoch 5/5, Total Loss: 4.8899, Binary: 0.4893, Intensity: 0.2884, Regression: 2.7429\n",
      "Using 15 features: ['TCW', 'TCLW', 'R250', 'R500', 'R850', 'U850', 'V850', 'EWSS', 'KX', 'CAPE', 'SSHF', 'PEV', 'AWS_lag1', 'AWS_rollmean_7', 'AWS_rollstd_7']\n",
      " Data shapes - Train: torch.Size([10688, 33, 15]), Val: torch.Size([4342, 33, 15]), Test: torch.Size([5115, 33, 15])\n"
     ]
    },
    {
     "name": "stderr",
     "output_type": "stream",
     "text": [
      "/usr/local/lib/python3.10/dist-packages/torch/nn/modules/rnn.py:123: UserWarning: dropout option adds dropout after all but last recurrent layer, so non-zero dropout expects num_layers greater than 1, but got dropout=0.2782316606545916 and num_layers=1\n",
      "  warnings.warn(\n"
     ]
    },
    {
     "name": "stdout",
     "output_type": "stream",
     "text": [
      "Error in fold fold_2: Expected input batch_size (1) to match target batch_size (0).\n",
      "Using 15 features: ['TCW', 'TCLW', 'R250', 'R500', 'R850', 'U850', 'V850', 'EWSS', 'KX', 'CAPE', 'SSHF', 'PEV', 'AWS_lag1', 'AWS_rollmean_7', 'AWS_rollstd_7']\n",
      " Data shapes - Train: torch.Size([17034, 33, 15]), Val: torch.Size([4342, 33, 15]), Test: torch.Size([5115, 33, 15])\n",
      "Error in fold fold_3: Expected input batch_size (1) to match target batch_size (0).\n"
     ]
    },
    {
     "name": "stderr",
     "output_type": "stream",
     "text": [
      "/usr/local/lib/python3.10/dist-packages/torch/nn/modules/rnn.py:123: UserWarning: dropout option adds dropout after all but last recurrent layer, so non-zero dropout expects num_layers greater than 1, but got dropout=0.2782316606545916 and num_layers=1\n",
      "  warnings.warn(\n"
     ]
    },
    {
     "name": "stdout",
     "output_type": "stream",
     "text": [
      "Using 15 features: ['TCW', 'TCLW', 'R250', 'R500', 'R850', 'U850', 'V850', 'EWSS', 'KX', 'CAPE', 'SSHF', 'PEV', 'AWS_lag1', 'AWS_rollmean_7', 'AWS_rollstd_7']\n",
      " Data shapes - Train: torch.Size([23714, 33, 15]), Val: torch.Size([4342, 33, 15]), Test: torch.Size([5115, 33, 15])\n",
      "Error in fold fold_4: Expected input batch_size (1) to match target batch_size (0).\n"
     ]
    },
    {
     "name": "stderr",
     "output_type": "stream",
     "text": [
      "/usr/local/lib/python3.10/dist-packages/torch/nn/modules/rnn.py:123: UserWarning: dropout option adds dropout after all but last recurrent layer, so non-zero dropout expects num_layers greater than 1, but got dropout=0.2782316606545916 and num_layers=1\n",
      "  warnings.warn(\n"
     ]
    },
    {
     "name": "stdout",
     "output_type": "stream",
     "text": [
      "Using 15 features: ['TCW', 'TCLW', 'R250', 'R500', 'R850', 'U850', 'V850', 'EWSS', 'KX', 'CAPE', 'SSHF', 'PEV', 'AWS_lag1', 'AWS_rollmean_7', 'AWS_rollstd_7']\n",
      " Data shapes - Train: torch.Size([30060, 33, 15]), Val: torch.Size([4342, 33, 15]), Test: torch.Size([5115, 33, 15])\n"
     ]
    },
    {
     "name": "stderr",
     "output_type": "stream",
     "text": [
      "/usr/local/lib/python3.10/dist-packages/torch/nn/modules/rnn.py:123: UserWarning: dropout option adds dropout after all but last recurrent layer, so non-zero dropout expects num_layers greater than 1, but got dropout=0.2782316606545916 and num_layers=1\n",
      "  warnings.warn(\n"
     ]
    },
    {
     "name": "stdout",
     "output_type": "stream",
     "text": [
      "   Epoch 1/5, Total Loss: 2.6360, Binary: 0.5428, Intensity: 0.2081, Regression: 1.2185\n",
      "   Epoch 2/5, Total Loss: 2.2389, Binary: 0.4349, Intensity: 0.1209, Regression: 1.1000\n",
      "   Epoch 3/5, Total Loss: 1.9739, Binary: 0.2980, Intensity: 0.0968, Regression: 1.0443\n",
      "   Epoch 4/5, Total Loss: 1.8646, Binary: 0.2678, Intensity: 0.0959, Regression: 0.9937\n",
      "   Epoch 5/5, Total Loss: 1.8593, Binary: 0.2431, Intensity: 0.0868, Regression: 1.0166\n"
     ]
    },
    {
     "name": "stderr",
     "output_type": "stream",
     "text": [
      "[I 2025-05-06 17:23:58,822] Trial 18 finished with value: 0.2302727773785591 and parameters: {'hidden_size': 182, 'num_layers': 1, 'dropout': 0.2782316606545916, 'lr': 0.00018996223290851068, 'time_step_in': 33, 'time_step_out': 1, 'stride': 5, 'binary_weight': 1.138974389279959, 'intensity_weight': 1.1639208029124002, 'regression_weight': 1.4571793625751763, 'rain_threshold': 0.08213802328606297, 'num_lags': 1, 'lag_0': 1, 'num_windows': 1, 'window_0': 7}. Best is trial 9 with value: 0.15259088575839996.\n"
     ]
    },
    {
     "name": "stdout",
     "output_type": "stream",
     "text": [
      "Using 18 features: ['TCW', 'TCLW', 'R250', 'R500', 'R850', 'U850', 'V850', 'EWSS', 'KX', 'CAPE', 'SSHF', 'PEV', 'AWS_lag11', 'AWS_lag11', 'AWS_rollmean_19', 'AWS_rollstd_19', 'AWS_rollmean_20', 'AWS_rollstd_20']\n",
      " Data shapes - Train: torch.Size([4342, 21, 18]), Val: torch.Size([4342, 21, 18]), Test: torch.Size([4749, 21, 18])\n",
      "Error in fold fold_1: Target size (torch.Size([64, 2])) must be the same as input size (torch.Size([64, 1]))\n",
      "Using 18 features: ['TCW', 'TCLW', 'R250', 'R500', 'R850', 'U850', 'V850', 'EWSS', 'KX', 'CAPE', 'SSHF', 'PEV', 'AWS_lag11', 'AWS_lag11', 'AWS_rollmean_19', 'AWS_rollstd_19', 'AWS_rollmean_20', 'AWS_rollstd_20']\n",
      " Data shapes - Train: torch.Size([9686, 21, 18]), Val: torch.Size([4342, 21, 18]), Test: torch.Size([4749, 21, 18])\n",
      "Error in fold fold_2: Target size (torch.Size([64, 2])) must be the same as input size (torch.Size([64, 1]))\n",
      "Using 18 features: ['TCW', 'TCLW', 'R250', 'R500', 'R850', 'U850', 'V850', 'EWSS', 'KX', 'CAPE', 'SSHF', 'PEV', 'AWS_lag11', 'AWS_lag11', 'AWS_rollmean_19', 'AWS_rollstd_19', 'AWS_rollmean_20', 'AWS_rollstd_20']\n",
      " Data shapes - Train: torch.Size([15030, 21, 18]), Val: torch.Size([4342, 21, 18]), Test: torch.Size([4749, 21, 18])\n",
      "Error in fold fold_3: Target size (torch.Size([64, 2])) must be the same as input size (torch.Size([64, 1]))\n",
      "Using 18 features: ['TCW', 'TCLW', 'R250', 'R500', 'R850', 'U850', 'V850', 'EWSS', 'KX', 'CAPE', 'SSHF', 'PEV', 'AWS_lag11', 'AWS_lag11', 'AWS_rollmean_19', 'AWS_rollstd_19', 'AWS_rollmean_20', 'AWS_rollstd_20']\n",
      " Data shapes - Train: torch.Size([20374, 21, 18]), Val: torch.Size([4342, 21, 18]), Test: torch.Size([4749, 21, 18])\n",
      "Error in fold fold_4: Target size (torch.Size([64, 2])) must be the same as input size (torch.Size([64, 1]))\n",
      "Using 18 features: ['TCW', 'TCLW', 'R250', 'R500', 'R850', 'U850', 'V850', 'EWSS', 'KX', 'CAPE', 'SSHF', 'PEV', 'AWS_lag11', 'AWS_lag11', 'AWS_rollmean_19', 'AWS_rollstd_19', 'AWS_rollmean_20', 'AWS_rollstd_20']\n"
     ]
    },
    {
     "name": "stderr",
     "output_type": "stream",
     "text": [
      "[I 2025-05-06 17:24:19,336] Trial 19 finished with value: inf and parameters: {'hidden_size': 255, 'num_layers': 2, 'dropout': 0.09832875690284004, 'lr': 0.00010113155608309197, 'time_step_in': 21, 'time_step_out': 2, 'stride': 6, 'binary_weight': 0.789417978997123, 'intensity_weight': 1.4304659679074516, 'regression_weight': 1.0922752052062483, 'rain_threshold': 0.1400976238338033, 'num_lags': 2, 'lag_0': 11, 'lag_1': 11, 'num_windows': 2, 'window_0': 19, 'window_1': 20}. Best is trial 9 with value: 0.15259088575839996.\n"
     ]
    },
    {
     "name": "stdout",
     "output_type": "stream",
     "text": [
      " Data shapes - Train: torch.Size([25718, 21, 18]), Val: torch.Size([4342, 21, 18]), Test: torch.Size([4749, 21, 18])\n",
      "Error in fold fold_5: Target size (torch.Size([64, 2])) must be the same as input size (torch.Size([64, 1]))\n",
      " Best parameters for 2019-04:\n",
      "  hidden_size: 97\n",
      "  num_layers: 2\n",
      "  dropout: 0.47312792006744303\n",
      "  lr: 0.0004741917322974995\n",
      "  time_step_in: 29\n",
      "  time_step_out: 1\n",
      "  stride: 5\n",
      "  binary_weight: 1.048021924722862\n",
      "  intensity_weight: 1.4581279645729655\n",
      "  regression_weight: 1.8734558093413478\n",
      "  rain_threshold: 0.0845142367928742\n",
      "  num_lags: 1\n",
      "  lag_0: 12\n",
      "  num_windows: 2\n",
      "  window_0: 6\n",
      "  window_1: 23\n",
      " Best parameters saved to hybrid_best_params_2019-04.json\n",
      "\n",
      " Final evaluation on 2019-04, fold_1 test set\n",
      "\n",
      " Training hybrid model for 2019-04, fold_1 with best parameters\n",
      "Using 17 features: ['TCW', 'TCLW', 'R250', 'R500', 'R850', 'U850', 'V850', 'EWSS', 'KX', 'CAPE', 'SSHF', 'PEV', 'AWS_lag12', 'AWS_rollmean_6', 'AWS_rollstd_6', 'AWS_rollmean_23', 'AWS_rollstd_23']\n",
      " Data shapes - Train: torch.Size([4676, 29, 17]), Val: torch.Size([4676, 29, 17]), Test: torch.Size([5198, 29, 17])\n",
      "====== Training hybrid model on train set...\n",
      "   Epoch 1/10, Total Loss: 7.7009, Binary: 0.7177, Intensity: 0.6805, Regression: 3.1794\n",
      "   Epoch 2/10, Total Loss: 6.1285, Binary: 0.4826, Intensity: 0.2352, Regression: 2.8182\n",
      "   Epoch 3/10, Total Loss: 6.4277, Binary: 0.4458, Intensity: 0.2518, Regression: 2.9855\n",
      "   Epoch 4/10, Total Loss: 6.5832, Binary: 0.4376, Intensity: 0.2715, Regression: 3.0578\n"
     ]
    },
    {
     "name": "stderr",
     "output_type": "stream",
     "text": [
      "[I 2025-05-06 17:24:24,495] A new study created in memory with name: hybrid_2019-10_study\n"
     ]
    },
    {
     "name": "stdout",
     "output_type": "stream",
     "text": [
      " Error during optimization for 2019-04: Expected input batch_size (1) to match target batch_size (0).\n",
      "\n",
      "###### Processing month: 2019-10\n",
      " Finding optimal hyperparameters for hybrid model on 2019-10 using cross-validation...\n",
      "Using 20 features: ['TCW', 'TCLW', 'R250', 'R500', 'R850', 'U850', 'V850', 'EWSS', 'KX', 'CAPE', 'SSHF', 'PEV', 'AWS_lag6', 'AWS_lag11', 'AWS_rollmean_13', 'AWS_rollstd_13', 'AWS_rollmean_16', 'AWS_rollstd_16', 'AWS_rollmean_7', 'AWS_rollstd_7']\n",
      " Data shapes - Train: torch.Size([3851, 32, 20]), Val: torch.Size([4323, 32, 20]), Test: torch.Size([3679, 32, 20])\n",
      "Error in fold fold_1: Target size (torch.Size([128, 4])) must be the same as input size (torch.Size([128, 1]))\n",
      "Using 20 features: ['TCW', 'TCLW', 'R250', 'R500', 'R850', 'U850', 'V850', 'EWSS', 'KX', 'CAPE', 'SSHF', 'PEV', 'AWS_lag6', 'AWS_lag11', 'AWS_rollmean_13', 'AWS_rollstd_13', 'AWS_rollmean_16', 'AWS_rollstd_16', 'AWS_rollmean_7', 'AWS_rollstd_7']\n",
      " Data shapes - Train: torch.Size([9370, 32, 20]), Val: torch.Size([4290, 32, 20]), Test: torch.Size([3538, 32, 20])\n",
      "Error in fold fold_2: Target size (torch.Size([128, 4])) must be the same as input size (torch.Size([128, 1]))\n",
      "Using 20 features: ['TCW', 'TCLW', 'R250', 'R500', 'R850', 'U850', 'V850', 'EWSS', 'KX', 'CAPE', 'SSHF', 'PEV', 'AWS_lag6', 'AWS_lag11', 'AWS_rollmean_13', 'AWS_rollstd_13', 'AWS_rollmean_16', 'AWS_rollstd_16', 'AWS_rollmean_7', 'AWS_rollstd_7']\n",
      " Data shapes - Train: torch.Size([14890, 32, 20]), Val: torch.Size([4270, 32, 20]), Test: torch.Size([3380, 32, 20])\n",
      "Error in fold fold_3: Target size (torch.Size([128, 4])) must be the same as input size (torch.Size([128, 1]))\n",
      "Using 20 features: ['TCW', 'TCLW', 'R250', 'R500', 'R850', 'U850', 'V850', 'EWSS', 'KX', 'CAPE', 'SSHF', 'PEV', 'AWS_lag6', 'AWS_lag11', 'AWS_rollmean_13', 'AWS_rollstd_13', 'AWS_rollmean_16', 'AWS_rollstd_16', 'AWS_rollmean_7', 'AWS_rollstd_7']\n",
      " Data shapes - Train: torch.Size([20410, 32, 20]), Val: torch.Size([4038, 32, 20]), Test: torch.Size([3178, 32, 20])\n",
      "Error in fold fold_4: Target size (torch.Size([128, 4])) must be the same as input size (torch.Size([128, 1]))\n",
      "Using 20 features: ['TCW', 'TCLW', 'R250', 'R500', 'R850', 'U850', 'V850', 'EWSS', 'KX', 'CAPE', 'SSHF', 'PEV', 'AWS_lag6', 'AWS_lag11', 'AWS_rollmean_13', 'AWS_rollstd_13', 'AWS_rollmean_16', 'AWS_rollstd_16', 'AWS_rollmean_7', 'AWS_rollstd_7']\n"
     ]
    },
    {
     "name": "stderr",
     "output_type": "stream",
     "text": [
      "[I 2025-05-06 17:25:00,367] Trial 0 finished with value: inf and parameters: {'hidden_size': 213, 'num_layers': 2, 'dropout': 0.15097359875627014, 'lr': 0.007247566762218518, 'time_step_in': 32, 'time_step_out': 4, 'stride': 6, 'binary_weight': 1.968912613205406, 'intensity_weight': 1.4460265933284346, 'regression_weight': 1.986035718167286, 'rain_threshold': 0.16286909845188957, 'num_lags': 2, 'lag_0': 6, 'lag_1': 11, 'num_windows': 3, 'window_0': 13, 'window_1': 16, 'window_2': 7}. Best is trial 0 with value: inf.\n"
     ]
    },
    {
     "name": "stdout",
     "output_type": "stream",
     "text": [
      " Data shapes - Train: torch.Size([25930, 32, 20]), Val: torch.Size([3815, 32, 20]), Test: torch.Size([2932, 32, 20])\n",
      "Error in fold fold_5: Target size (torch.Size([128, 4])) must be the same as input size (torch.Size([128, 1]))\n",
      "Using 18 features: ['TCW', 'TCLW', 'R250', 'R500', 'R850', 'U850', 'V850', 'EWSS', 'KX', 'CAPE', 'SSHF', 'PEV', 'AWS_lag11', 'AWS_lag3', 'AWS_rollmean_22', 'AWS_rollstd_22', 'AWS_rollmean_3', 'AWS_rollstd_3']\n",
      " Data shapes - Train: torch.Size([4897, 23, 18]), Val: torch.Size([5470, 23, 18]), Test: torch.Size([4672, 23, 18])\n",
      "Error in fold fold_1: Target size (torch.Size([128, 5])) must be the same as input size (torch.Size([128, 1]))\n",
      "Using 18 features: ['TCW', 'TCLW', 'R250', 'R500', 'R850', 'U850', 'V850', 'EWSS', 'KX', 'CAPE', 'SSHF', 'PEV', 'AWS_lag11', 'AWS_lag3', 'AWS_rollmean_22', 'AWS_rollstd_22', 'AWS_rollmean_3', 'AWS_rollstd_3']\n",
      " Data shapes - Train: torch.Size([11463, 23, 18]), Val: torch.Size([5493, 23, 18]), Test: torch.Size([4527, 23, 18])\n",
      "Error in fold fold_2: Target size (torch.Size([128, 5])) must be the same as input size (torch.Size([128, 1]))\n",
      "Using 18 features: ['TCW', 'TCLW', 'R250', 'R500', 'R850', 'U850', 'V850', 'EWSS', 'KX', 'CAPE', 'SSHF', 'PEV', 'AWS_lag11', 'AWS_lag3', 'AWS_rollmean_22', 'AWS_rollstd_22', 'AWS_rollmean_3', 'AWS_rollstd_3']\n",
      " Data shapes - Train: torch.Size([18227, 23, 18]), Val: torch.Size([5433, 23, 18]), Test: torch.Size([4366, 23, 18])\n",
      "Error in fold fold_3: Target size (torch.Size([128, 5])) must be the same as input size (torch.Size([128, 1]))\n",
      "Using 18 features: ['TCW', 'TCLW', 'R250', 'R500', 'R850', 'U850', 'V850', 'EWSS', 'KX', 'CAPE', 'SSHF', 'PEV', 'AWS_lag11', 'AWS_lag3', 'AWS_rollmean_22', 'AWS_rollstd_22', 'AWS_rollmean_3', 'AWS_rollstd_3']\n",
      " Data shapes - Train: torch.Size([24928, 23, 18]), Val: torch.Size([5226, 23, 18]), Test: torch.Size([4154, 23, 18])\n",
      "Error in fold fold_4: Target size (torch.Size([128, 5])) must be the same as input size (torch.Size([128, 1]))\n",
      "Using 18 features: ['TCW', 'TCLW', 'R250', 'R500', 'R850', 'U850', 'V850', 'EWSS', 'KX', 'CAPE', 'SSHF', 'PEV', 'AWS_lag11', 'AWS_lag3', 'AWS_rollmean_22', 'AWS_rollstd_22', 'AWS_rollmean_3', 'AWS_rollstd_3']\n"
     ]
    },
    {
     "name": "stderr",
     "output_type": "stream",
     "text": [
      "[I 2025-05-06 17:25:23,498] Trial 1 finished with value: inf and parameters: {'hidden_size': 85, 'num_layers': 2, 'dropout': 0.4313594815570168, 'lr': 0.001128552217294873, 'time_step_in': 23, 'time_step_out': 5, 'stride': 5, 'binary_weight': 0.7578334967215641, 'intensity_weight': 1.238968385311692, 'regression_weight': 0.9066427162187991, 'rain_threshold': 0.0877909793248216, 'num_lags': 2, 'lag_0': 11, 'lag_1': 3, 'num_windows': 2, 'window_0': 22, 'window_1': 3}. Best is trial 0 with value: inf.\n"
     ]
    },
    {
     "name": "stdout",
     "output_type": "stream",
     "text": [
      " Data shapes - Train: torch.Size([31495, 23, 18]), Val: torch.Size([5032, 23, 18]), Test: torch.Size([3985, 23, 18])\n",
      "Error in fold fold_5: Target size (torch.Size([128, 5])) must be the same as input size (torch.Size([128, 1]))\n",
      "Using 15 features: ['TCW', 'TCLW', 'R250', 'R500', 'R850', 'U850', 'V850', 'EWSS', 'KX', 'CAPE', 'SSHF', 'PEV', 'AWS_lag6', 'AWS_rollmean_13', 'AWS_rollstd_13']\n",
      " Data shapes - Train: torch.Size([10554, 36, 15]), Val: torch.Size([12628, 36, 15]), Test: torch.Size([10797, 36, 15])\n",
      "   Epoch 1/5, Total Loss: 3.0175, Binary: 0.6931, Intensity: 0.2286, Regression: 1.2588\n",
      "   Epoch 2/5, Total Loss: 2.8227, Binary: 0.6879, Intensity: 0.1265, Regression: 1.1917\n",
      "   Epoch 3/5, Total Loss: 2.3290, Binary: 0.4893, Intensity: 0.1075, Regression: 1.1090\n",
      "   Epoch 4/5, Total Loss: 2.0786, Binary: 0.3906, Intensity: 0.0991, Regression: 1.0625\n",
      "   Epoch 5/5, Total Loss: 1.9881, Binary: 0.3738, Intensity: 0.0963, Regression: 1.0145\n",
      "Using 15 features: ['TCW', 'TCLW', 'R250', 'R500', 'R850', 'U850', 'V850', 'EWSS', 'KX', 'CAPE', 'SSHF', 'PEV', 'AWS_lag6', 'AWS_rollmean_13', 'AWS_rollstd_13']\n",
      " Data shapes - Train: torch.Size([27108, 36, 15]), Val: torch.Size([12687, 36, 15]), Test: torch.Size([10323, 36, 15])\n",
      "   Epoch 1/5, Total Loss: 2.7851, Binary: 0.6177, Intensity: 0.1847, Regression: 1.2218\n",
      "   Epoch 2/5, Total Loss: 2.1229, Binary: 0.4092, Intensity: 0.1087, Regression: 1.0616\n",
      "   Epoch 3/5, Total Loss: 2.0105, Binary: 0.3839, Intensity: 0.1026, Regression: 1.0116\n",
      "   Epoch 4/5, Total Loss: 1.9620, Binary: 0.3722, Intensity: 0.1006, Regression: 0.9907\n",
      "   Epoch 5/5, Total Loss: 1.9009, Binary: 0.3602, Intensity: 0.0987, Regression: 0.9595\n",
      "Using 15 features: ['TCW', 'TCLW', 'R250', 'R500', 'R850', 'U850', 'V850', 'EWSS', 'KX', 'CAPE', 'SSHF', 'PEV', 'AWS_lag6', 'AWS_rollmean_13', 'AWS_rollstd_13']\n",
      " Data shapes - Train: torch.Size([43668, 36, 15]), Val: torch.Size([12485, 36, 15]), Test: torch.Size([9770, 36, 15])\n",
      "   Epoch 1/5, Total Loss: 2.5295, Binary: 0.5544, Intensity: 0.1540, Regression: 1.1330\n",
      "   Epoch 2/5, Total Loss: 2.0223, Binary: 0.3901, Intensity: 0.1069, Regression: 1.0077\n",
      "   Epoch 3/5, Total Loss: 1.9275, Binary: 0.3710, Intensity: 0.1012, Regression: 0.9625\n",
      "   Epoch 4/5, Total Loss: 1.8831, Binary: 0.3555, Intensity: 0.1006, Regression: 0.9501\n",
      "   Epoch 5/5, Total Loss: 1.8333, Binary: 0.3442, Intensity: 0.0976, Regression: 0.9284\n",
      "Using 15 features: ['TCW', 'TCLW', 'R250', 'R500', 'R850', 'U850', 'V850', 'EWSS', 'KX', 'CAPE', 'SSHF', 'PEV', 'AWS_lag6', 'AWS_rollmean_13', 'AWS_rollstd_13']\n",
      " Data shapes - Train: torch.Size([60228, 36, 15]), Val: torch.Size([11934, 36, 15]), Test: torch.Size([9238, 36, 15])\n",
      "   Epoch 1/5, Total Loss: 2.4867, Binary: 0.5297, Intensity: 0.1482, Regression: 1.1419\n",
      "   Epoch 2/5, Total Loss: 2.0775, Binary: 0.4081, Intensity: 0.1076, Regression: 1.0252\n",
      "   Epoch 3/5, Total Loss: 1.9983, Binary: 0.3823, Intensity: 0.1043, Regression: 1.0021\n",
      "   Epoch 4/5, Total Loss: 1.9605, Binary: 0.3681, Intensity: 0.1022, Regression: 0.9948\n",
      "   Epoch 5/5, Total Loss: 1.9089, Binary: 0.3535, Intensity: 0.1011, Regression: 0.9753\n",
      "Using 15 features: ['TCW', 'TCLW', 'R250', 'R500', 'R850', 'U850', 'V850', 'EWSS', 'KX', 'CAPE', 'SSHF', 'PEV', 'AWS_lag6', 'AWS_rollmean_13', 'AWS_rollstd_13']\n",
      " Data shapes - Train: torch.Size([76788, 36, 15]), Val: torch.Size([11221, 36, 15]), Test: torch.Size([8571, 36, 15])\n",
      "   Epoch 1/5, Total Loss: 2.8363, Binary: 0.4830, Intensity: 0.1819, Regression: 1.4897\n",
      "   Epoch 2/5, Total Loss: 2.4850, Binary: 0.4009, Intensity: 0.1478, Regression: 1.3521\n",
      "   Epoch 3/5, Total Loss: 2.3757, Binary: 0.3634, Intensity: 0.1431, Regression: 1.3237\n",
      "   Epoch 4/5, Total Loss: 2.3173, Binary: 0.3384, Intensity: 0.1406, Regression: 1.3167\n",
      "   Epoch 5/5, Total Loss: 2.2675, Binary: 0.3301, Intensity: 0.1379, Regression: 1.2897\n"
     ]
    },
    {
     "name": "stderr",
     "output_type": "stream",
     "text": [
      "[I 2025-05-06 17:27:39,858] Trial 2 finished with value: 0.5525891065597535 and parameters: {'hidden_size': 202, 'num_layers': 2, 'dropout': 0.3130540178861347, 'lr': 0.0011426006686266216, 'time_step_in': 36, 'time_step_out': 1, 'stride': 2, 'binary_weight': 1.9030089352361503, 'intensity_weight': 1.0489874770675092, 'regression_weight': 1.1588645625164453, 'rain_threshold': 0.18941102048499142, 'num_lags': 1, 'lag_0': 6, 'num_windows': 1, 'window_0': 13}. Best is trial 2 with value: 0.5525891065597535.\n"
     ]
    },
    {
     "name": "stdout",
     "output_type": "stream",
     "text": [
      "Using 20 features: ['TCW', 'TCLW', 'R250', 'R500', 'R850', 'U850', 'V850', 'EWSS', 'KX', 'CAPE', 'SSHF', 'PEV', 'AWS_lag12', 'AWS_lag2', 'AWS_rollmean_7', 'AWS_rollstd_7', 'AWS_rollmean_6', 'AWS_rollstd_6', 'AWS_rollmean_18', 'AWS_rollstd_18']\n",
      " Data shapes - Train: torch.Size([5231, 19, 20]), Val: torch.Size([5692, 19, 20]), Test: torch.Size([4844, 19, 20])\n",
      "Error in fold fold_1: Target size (torch.Size([128, 4])) must be the same as input size (torch.Size([128, 1]))\n"
     ]
    },
    {
     "name": "stderr",
     "output_type": "stream",
     "text": [
      "/usr/local/lib/python3.10/dist-packages/torch/nn/modules/rnn.py:123: UserWarning: dropout option adds dropout after all but last recurrent layer, so non-zero dropout expects num_layers greater than 1, but got dropout=0.4014233783929709 and num_layers=1\n",
      "  warnings.warn(\n"
     ]
    },
    {
     "name": "stdout",
     "output_type": "stream",
     "text": [
      "Using 20 features: ['TCW', 'TCLW', 'R250', 'R500', 'R850', 'U850', 'V850', 'EWSS', 'KX', 'CAPE', 'SSHF', 'PEV', 'AWS_lag12', 'AWS_lag2', 'AWS_rollmean_7', 'AWS_rollstd_7', 'AWS_rollmean_6', 'AWS_rollstd_6', 'AWS_rollmean_18', 'AWS_rollstd_18']\n",
      " Data shapes - Train: torch.Size([11797, 19, 20]), Val: torch.Size([5715, 19, 20]), Test: torch.Size([4727, 19, 20])\n",
      "Error in fold fold_2: Target size (torch.Size([128, 4])) must be the same as input size (torch.Size([128, 1]))\n"
     ]
    },
    {
     "name": "stderr",
     "output_type": "stream",
     "text": [
      "/usr/local/lib/python3.10/dist-packages/torch/nn/modules/rnn.py:123: UserWarning: dropout option adds dropout after all but last recurrent layer, so non-zero dropout expects num_layers greater than 1, but got dropout=0.4014233783929709 and num_layers=1\n",
      "  warnings.warn(\n"
     ]
    },
    {
     "name": "stdout",
     "output_type": "stream",
     "text": [
      "Using 20 features: ['TCW', 'TCLW', 'R250', 'R500', 'R850', 'U850', 'V850', 'EWSS', 'KX', 'CAPE', 'SSHF', 'PEV', 'AWS_lag12', 'AWS_lag2', 'AWS_rollmean_7', 'AWS_rollstd_7', 'AWS_rollmean_6', 'AWS_rollstd_6', 'AWS_rollmean_18', 'AWS_rollstd_18']\n",
      " Data shapes - Train: torch.Size([18561, 19, 20]), Val: torch.Size([5642, 19, 20]), Test: torch.Size([4591, 19, 20])\n",
      "Error in fold fold_3: Target size (torch.Size([128, 4])) must be the same as input size (torch.Size([128, 1]))\n"
     ]
    },
    {
     "name": "stderr",
     "output_type": "stream",
     "text": [
      "/usr/local/lib/python3.10/dist-packages/torch/nn/modules/rnn.py:123: UserWarning: dropout option adds dropout after all but last recurrent layer, so non-zero dropout expects num_layers greater than 1, but got dropout=0.4014233783929709 and num_layers=1\n",
      "  warnings.warn(\n"
     ]
    },
    {
     "name": "stdout",
     "output_type": "stream",
     "text": [
      "Using 20 features: ['TCW', 'TCLW', 'R250', 'R500', 'R850', 'U850', 'V850', 'EWSS', 'KX', 'CAPE', 'SSHF', 'PEV', 'AWS_lag12', 'AWS_lag2', 'AWS_rollmean_7', 'AWS_rollstd_7', 'AWS_rollmean_6', 'AWS_rollstd_6', 'AWS_rollmean_18', 'AWS_rollstd_18']\n",
      " Data shapes - Train: torch.Size([25262, 19, 20]), Val: torch.Size([5468, 19, 20]), Test: torch.Size([4411, 19, 20])\n",
      "Error in fold fold_4: Target size (torch.Size([128, 4])) must be the same as input size (torch.Size([128, 1]))\n"
     ]
    },
    {
     "name": "stderr",
     "output_type": "stream",
     "text": [
      "/usr/local/lib/python3.10/dist-packages/torch/nn/modules/rnn.py:123: UserWarning: dropout option adds dropout after all but last recurrent layer, so non-zero dropout expects num_layers greater than 1, but got dropout=0.4014233783929709 and num_layers=1\n",
      "  warnings.warn(\n"
     ]
    },
    {
     "name": "stdout",
     "output_type": "stream",
     "text": [
      "Using 20 features: ['TCW', 'TCLW', 'R250', 'R500', 'R850', 'U850', 'V850', 'EWSS', 'KX', 'CAPE', 'SSHF', 'PEV', 'AWS_lag12', 'AWS_lag2', 'AWS_rollmean_7', 'AWS_rollstd_7', 'AWS_rollmean_6', 'AWS_rollstd_6', 'AWS_rollmean_18', 'AWS_rollstd_18']\n"
     ]
    },
    {
     "name": "stderr",
     "output_type": "stream",
     "text": [
      "/usr/local/lib/python3.10/dist-packages/torch/nn/modules/rnn.py:123: UserWarning: dropout option adds dropout after all but last recurrent layer, so non-zero dropout expects num_layers greater than 1, but got dropout=0.4014233783929709 and num_layers=1\n",
      "  warnings.warn(\n",
      "[I 2025-05-06 17:28:04,757] Trial 3 finished with value: inf and parameters: {'hidden_size': 255, 'num_layers': 1, 'dropout': 0.4014233783929709, 'lr': 0.0005078989012297537, 'time_step_in': 19, 'time_step_out': 4, 'stride': 5, 'binary_weight': 0.975133083485631, 'intensity_weight': 0.7144226901489571, 'regression_weight': 0.7400741964533138, 'rain_threshold': 0.108618620759577, 'num_lags': 2, 'lag_0': 12, 'lag_1': 2, 'num_windows': 3, 'window_0': 7, 'window_1': 6, 'window_2': 18}. Best is trial 2 with value: 0.5525891065597535.\n"
     ]
    },
    {
     "name": "stdout",
     "output_type": "stream",
     "text": [
      " Data shapes - Train: torch.Size([31829, 19, 20]), Val: torch.Size([5307, 19, 20]), Test: torch.Size([4280, 19, 20])\n",
      "Error in fold fold_5: Target size (torch.Size([128, 4])) must be the same as input size (torch.Size([128, 1]))\n",
      "Using 17 features: ['TCW', 'TCLW', 'R250', 'R500', 'R850', 'U850', 'V850', 'EWSS', 'KX', 'CAPE', 'SSHF', 'PEV', 'AWS_lag5', 'AWS_rollmean_20', 'AWS_rollstd_20', 'AWS_rollmean_24', 'AWS_rollstd_24']\n",
      " Data shapes - Train: torch.Size([8368, 21, 17]), Val: torch.Size([9279, 21, 17]), Test: torch.Size([7898, 21, 17])\n",
      "Error in fold fold_1: Target size (torch.Size([128, 4])) must be the same as input size (torch.Size([128, 1]))\n",
      "Using 17 features: ['TCW', 'TCLW', 'R250', 'R500', 'R850', 'U850', 'V850', 'EWSS', 'KX', 'CAPE', 'SSHF', 'PEV', 'AWS_lag5', 'AWS_rollmean_20', 'AWS_rollstd_20', 'AWS_rollmean_24', 'AWS_rollstd_24']\n",
      " Data shapes - Train: torch.Size([19408, 21, 17]), Val: torch.Size([9295, 21, 17]), Test: torch.Size([7685, 21, 17])\n",
      "Error in fold fold_2: Target size (torch.Size([128, 4])) must be the same as input size (torch.Size([128, 1]))\n",
      "Using 17 features: ['TCW', 'TCLW', 'R250', 'R500', 'R850', 'U850', 'V850', 'EWSS', 'KX', 'CAPE', 'SSHF', 'PEV', 'AWS_lag5', 'AWS_rollmean_20', 'AWS_rollstd_20', 'AWS_rollmean_24', 'AWS_rollstd_24']\n",
      " Data shapes - Train: torch.Size([30448, 21, 17]), Val: torch.Size([9176, 21, 17]), Test: torch.Size([7372, 21, 17])\n",
      "Error in fold fold_3: Target size (torch.Size([128, 4])) must be the same as input size (torch.Size([128, 1]))\n",
      "Using 17 features: ['TCW', 'TCLW', 'R250', 'R500', 'R850', 'U850', 'V850', 'EWSS', 'KX', 'CAPE', 'SSHF', 'PEV', 'AWS_lag5', 'AWS_rollmean_20', 'AWS_rollstd_20', 'AWS_rollmean_24', 'AWS_rollstd_24']\n",
      " Data shapes - Train: torch.Size([41488, 21, 17]), Val: torch.Size([8932, 21, 17]), Test: torch.Size([7125, 21, 17])\n",
      "Error in fold fold_4: Target size (torch.Size([128, 4])) must be the same as input size (torch.Size([128, 1]))\n",
      "Using 17 features: ['TCW', 'TCLW', 'R250', 'R500', 'R850', 'U850', 'V850', 'EWSS', 'KX', 'CAPE', 'SSHF', 'PEV', 'AWS_lag5', 'AWS_rollmean_20', 'AWS_rollstd_20', 'AWS_rollmean_24', 'AWS_rollstd_24']\n"
     ]
    },
    {
     "name": "stderr",
     "output_type": "stream",
     "text": [
      "[I 2025-05-06 17:28:33,295] Trial 4 finished with value: inf and parameters: {'hidden_size': 188, 'num_layers': 3, 'dropout': 0.3194121377538766, 'lr': 0.0025341709939022683, 'time_step_in': 21, 'time_step_out': 4, 'stride': 3, 'binary_weight': 0.7324905149291152, 'intensity_weight': 0.6911906257110075, 'regression_weight': 0.8285595738200732, 'rain_threshold': 0.05974457945246435, 'num_lags': 1, 'lag_0': 5, 'num_windows': 2, 'window_0': 20, 'window_1': 24}. Best is trial 2 with value: 0.5525891065597535.\n"
     ]
    },
    {
     "name": "stdout",
     "output_type": "stream",
     "text": [
      " Data shapes - Train: torch.Size([52528, 21, 17]), Val: torch.Size([8663, 21, 17]), Test: torch.Size([6840, 21, 17])\n",
      "Error in fold fold_5: Target size (torch.Size([128, 4])) must be the same as input size (torch.Size([128, 1]))\n",
      "Using 17 features: ['TCW', 'TCLW', 'R250', 'R500', 'R850', 'U850', 'V850', 'EWSS', 'KX', 'CAPE', 'SSHF', 'PEV', 'AWS_lag1', 'AWS_rollmean_10', 'AWS_rollstd_10', 'AWS_rollmean_20', 'AWS_rollstd_20']\n",
      " Data shapes - Train: torch.Size([6703, 36, 17]), Val: torch.Size([8261, 36, 17]), Test: torch.Size([7071, 36, 17])\n",
      "Error in fold fold_1: Target size (torch.Size([128, 4])) must be the same as input size (torch.Size([128, 1]))\n",
      "Using 17 features: ['TCW', 'TCLW', 'R250', 'R500', 'R850', 'U850', 'V850', 'EWSS', 'KX', 'CAPE', 'SSHF', 'PEV', 'AWS_lag1', 'AWS_rollmean_10', 'AWS_rollstd_10', 'AWS_rollmean_20', 'AWS_rollstd_20']\n",
      " Data shapes - Train: torch.Size([17738, 36, 17]), Val: torch.Size([8326, 36, 17]), Test: torch.Size([6754, 36, 17])\n",
      "Error in fold fold_2: Target size (torch.Size([128, 4])) must be the same as input size (torch.Size([128, 1]))\n",
      "Using 17 features: ['TCW', 'TCLW', 'R250', 'R500', 'R850', 'U850', 'V850', 'EWSS', 'KX', 'CAPE', 'SSHF', 'PEV', 'AWS_lag1', 'AWS_rollmean_10', 'AWS_rollstd_10', 'AWS_rollmean_20', 'AWS_rollstd_20']\n",
      " Data shapes - Train: torch.Size([28778, 36, 17]), Val: torch.Size([8184, 36, 17]), Test: torch.Size([6360, 36, 17])\n",
      "Error in fold fold_3: Target size (torch.Size([128, 4])) must be the same as input size (torch.Size([128, 1]))\n",
      "Using 17 features: ['TCW', 'TCLW', 'R250', 'R500', 'R850', 'U850', 'V850', 'EWSS', 'KX', 'CAPE', 'SSHF', 'PEV', 'AWS_lag1', 'AWS_rollmean_10', 'AWS_rollstd_10', 'AWS_rollmean_20', 'AWS_rollstd_20']\n",
      " Data shapes - Train: torch.Size([39818, 36, 17]), Val: torch.Size([7766, 36, 17]), Test: torch.Size([5965, 36, 17])\n",
      "Error in fold fold_4: Target size (torch.Size([128, 4])) must be the same as input size (torch.Size([128, 1]))\n",
      "Using 17 features: ['TCW', 'TCLW', 'R250', 'R500', 'R850', 'U850', 'V850', 'EWSS', 'KX', 'CAPE', 'SSHF', 'PEV', 'AWS_lag1', 'AWS_rollmean_10', 'AWS_rollstd_10', 'AWS_rollmean_20', 'AWS_rollstd_20']\n"
     ]
    },
    {
     "name": "stderr",
     "output_type": "stream",
     "text": [
      "[I 2025-05-06 17:29:10,880] Trial 5 finished with value: inf and parameters: {'hidden_size': 245, 'num_layers': 3, 'dropout': 0.40933852899569706, 'lr': 0.000865663139256909, 'time_step_in': 36, 'time_step_out': 4, 'stride': 3, 'binary_weight': 0.6892389855188148, 'intensity_weight': 1.2685262462176852, 'regression_weight': 0.6426078998553184, 'rain_threshold': 0.05771801718648173, 'num_lags': 1, 'lag_0': 1, 'num_windows': 2, 'window_0': 10, 'window_1': 20}. Best is trial 2 with value: 0.5525891065597535.\n"
     ]
    },
    {
     "name": "stdout",
     "output_type": "stream",
     "text": [
      " Data shapes - Train: torch.Size([50858, 36, 17]), Val: torch.Size([7299, 36, 17]), Test: torch.Size([5497, 36, 17])\n",
      "Error in fold fold_5: Target size (torch.Size([128, 4])) must be the same as input size (torch.Size([128, 1]))\n",
      "Using 19 features: ['TCW', 'TCLW', 'R250', 'R500', 'R850', 'U850', 'V850', 'EWSS', 'KX', 'CAPE', 'SSHF', 'PEV', 'AWS_lag10', 'AWS_lag7', 'AWS_lag10', 'AWS_rollmean_9', 'AWS_rollstd_9', 'AWS_rollmean_23', 'AWS_rollstd_23']\n",
      " Data shapes - Train: torch.Size([3851, 32, 19]), Val: torch.Size([4334, 32, 19]), Test: torch.Size([3695, 32, 19])\n",
      "Error in fold fold_1: Target size (torch.Size([128, 3])) must be the same as input size (torch.Size([128, 1]))\n",
      "Using 19 features: ['TCW', 'TCLW', 'R250', 'R500', 'R850', 'U850', 'V850', 'EWSS', 'KX', 'CAPE', 'SSHF', 'PEV', 'AWS_lag10', 'AWS_lag7', 'AWS_lag10', 'AWS_rollmean_9', 'AWS_rollstd_9', 'AWS_rollmean_23', 'AWS_rollstd_23']\n",
      " Data shapes - Train: torch.Size([9370, 32, 19]), Val: torch.Size([4344, 32, 19]), Test: torch.Size([3550, 32, 19])\n",
      "Error in fold fold_2: Target size (torch.Size([128, 3])) must be the same as input size (torch.Size([128, 1]))\n",
      "Using 19 features: ['TCW', 'TCLW', 'R250', 'R500', 'R850', 'U850', 'V850', 'EWSS', 'KX', 'CAPE', 'SSHF', 'PEV', 'AWS_lag10', 'AWS_lag7', 'AWS_lag10', 'AWS_rollmean_9', 'AWS_rollstd_9', 'AWS_rollmean_23', 'AWS_rollstd_23']\n",
      " Data shapes - Train: torch.Size([14890, 32, 19]), Val: torch.Size([4282, 32, 19]), Test: torch.Size([3391, 32, 19])\n",
      "Error in fold fold_3: Target size (torch.Size([128, 3])) must be the same as input size (torch.Size([128, 1]))\n",
      "Using 19 features: ['TCW', 'TCLW', 'R250', 'R500', 'R850', 'U850', 'V850', 'EWSS', 'KX', 'CAPE', 'SSHF', 'PEV', 'AWS_lag10', 'AWS_lag7', 'AWS_lag10', 'AWS_rollmean_9', 'AWS_rollstd_9', 'AWS_rollmean_23', 'AWS_rollstd_23']\n",
      " Data shapes - Train: torch.Size([20410, 32, 19]), Val: torch.Size([4146, 32, 19]), Test: torch.Size([3234, 32, 19])\n",
      "Error in fold fold_4: Target size (torch.Size([128, 3])) must be the same as input size (torch.Size([128, 1]))\n",
      "Using 19 features: ['TCW', 'TCLW', 'R250', 'R500', 'R850', 'U850', 'V850', 'EWSS', 'KX', 'CAPE', 'SSHF', 'PEV', 'AWS_lag10', 'AWS_lag7', 'AWS_lag10', 'AWS_rollmean_9', 'AWS_rollstd_9', 'AWS_rollmean_23', 'AWS_rollstd_23']\n"
     ]
    },
    {
     "name": "stderr",
     "output_type": "stream",
     "text": [
      "[I 2025-05-06 17:29:35,802] Trial 6 finished with value: inf and parameters: {'hidden_size': 184, 'num_layers': 3, 'dropout': 0.05016009563384505, 'lr': 0.00014019913564054028, 'time_step_in': 32, 'time_step_out': 3, 'stride': 6, 'binary_weight': 1.470860924004629, 'intensity_weight': 1.1308512055009934, 'regression_weight': 1.9894541709104925, 'rain_threshold': 0.10080655033810143, 'num_lags': 3, 'lag_0': 10, 'lag_1': 7, 'lag_2': 10, 'num_windows': 2, 'window_0': 9, 'window_1': 23}. Best is trial 2 with value: 0.5525891065597535.\n"
     ]
    },
    {
     "name": "stdout",
     "output_type": "stream",
     "text": [
      " Data shapes - Train: torch.Size([25930, 32, 19]), Val: torch.Size([3908, 32, 19]), Test: torch.Size([3022, 32, 19])\n",
      "Error in fold fold_5: Target size (torch.Size([128, 3])) must be the same as input size (torch.Size([128, 1]))\n",
      "Using 17 features: ['TCW', 'TCLW', 'R250', 'R500', 'R850', 'U850', 'V850', 'EWSS', 'KX', 'CAPE', 'SSHF', 'PEV', 'AWS_lag9', 'AWS_rollmean_15', 'AWS_rollstd_15', 'AWS_rollmean_15', 'AWS_rollstd_15']\n",
      " Data shapes - Train: torch.Size([4278, 47, 17]), Val: torch.Size([5643, 47, 17]), Test: torch.Size([4874, 47, 17])\n",
      "Error in fold fold_1: Target size (torch.Size([128, 5])) must be the same as input size (torch.Size([128, 1]))\n",
      "Using 17 features: ['TCW', 'TCLW', 'R250', 'R500', 'R850', 'U850', 'V850', 'EWSS', 'KX', 'CAPE', 'SSHF', 'PEV', 'AWS_lag9', 'AWS_rollmean_15', 'AWS_rollstd_15', 'AWS_rollmean_15', 'AWS_rollstd_15']\n",
      " Data shapes - Train: torch.Size([12552, 47, 17]), Val: torch.Size([5751, 47, 17]), Test: torch.Size([4607, 47, 17])\n",
      "Error in fold fold_2: Target size (torch.Size([128, 5])) must be the same as input size (torch.Size([128, 1]))\n",
      "Using 17 features: ['TCW', 'TCLW', 'R250', 'R500', 'R850', 'U850', 'V850', 'EWSS', 'KX', 'CAPE', 'SSHF', 'PEV', 'AWS_lag9', 'AWS_rollmean_15', 'AWS_rollstd_15', 'AWS_rollmean_15', 'AWS_rollstd_15']\n",
      " Data shapes - Train: torch.Size([20832, 47, 17]), Val: torch.Size([5568, 47, 17]), Test: torch.Size([4249, 47, 17])\n",
      "Error in fold fold_3: Target size (torch.Size([128, 5])) must be the same as input size (torch.Size([128, 1]))\n",
      "Using 17 features: ['TCW', 'TCLW', 'R250', 'R500', 'R850', 'U850', 'V850', 'EWSS', 'KX', 'CAPE', 'SSHF', 'PEV', 'AWS_lag9', 'AWS_rollmean_15', 'AWS_rollstd_15', 'AWS_rollmean_15', 'AWS_rollstd_15']\n",
      " Data shapes - Train: torch.Size([29112, 47, 17]), Val: torch.Size([5127, 47, 17]), Test: torch.Size([3851, 47, 17])\n",
      "Error in fold fold_4: Target size (torch.Size([128, 5])) must be the same as input size (torch.Size([128, 1]))\n",
      "Using 17 features: ['TCW', 'TCLW', 'R250', 'R500', 'R850', 'U850', 'V850', 'EWSS', 'KX', 'CAPE', 'SSHF', 'PEV', 'AWS_lag9', 'AWS_rollmean_15', 'AWS_rollstd_15', 'AWS_rollmean_15', 'AWS_rollstd_15']\n"
     ]
    },
    {
     "name": "stderr",
     "output_type": "stream",
     "text": [
      "[I 2025-05-06 17:30:10,987] Trial 7 finished with value: inf and parameters: {'hidden_size': 48, 'num_layers': 3, 'dropout': 0.3377066583372693, 'lr': 0.002072587008247253, 'time_step_in': 47, 'time_step_out': 5, 'stride': 4, 'binary_weight': 0.6880412662494839, 'intensity_weight': 0.9269709271124873, 'regression_weight': 0.5485292939824133, 'rain_threshold': 0.17875426847791265, 'num_lags': 1, 'lag_0': 9, 'num_windows': 2, 'window_0': 15, 'window_1': 15}. Best is trial 2 with value: 0.5525891065597535.\n"
     ]
    },
    {
     "name": "stdout",
     "output_type": "stream",
     "text": [
      " Data shapes - Train: torch.Size([37392, 47, 17]), Val: torch.Size([4717, 47, 17]), Test: torch.Size([3451, 47, 17])\n",
      "Error in fold fold_5: Target size (torch.Size([128, 5])) must be the same as input size (torch.Size([128, 1]))\n",
      "Using 20 features: ['TCW', 'TCLW', 'R250', 'R500', 'R850', 'U850', 'V850', 'EWSS', 'KX', 'CAPE', 'SSHF', 'PEV', 'AWS_lag7', 'AWS_lag2', 'AWS_rollmean_20', 'AWS_rollstd_20', 'AWS_rollmean_7', 'AWS_rollstd_7', 'AWS_rollmean_18', 'AWS_rollstd_18']\n",
      " Data shapes - Train: torch.Size([6370, 40, 20]), Val: torch.Size([8074, 40, 20]), Test: torch.Size([6914, 40, 20])\n",
      "Error in fold fold_1: Target size (torch.Size([128, 3])) must be the same as input size (torch.Size([128, 1]))\n",
      "Using 20 features: ['TCW', 'TCLW', 'R250', 'R500', 'R850', 'U850', 'V850', 'EWSS', 'KX', 'CAPE', 'SSHF', 'PEV', 'AWS_lag7', 'AWS_lag2', 'AWS_rollmean_20', 'AWS_rollstd_20', 'AWS_rollmean_7', 'AWS_rollstd_7', 'AWS_rollmean_18', 'AWS_rollstd_18']\n",
      " Data shapes - Train: torch.Size([17404, 40, 20]), Val: torch.Size([8150, 40, 20]), Test: torch.Size([6580, 40, 20])\n",
      "Error in fold fold_2: Target size (torch.Size([128, 3])) must be the same as input size (torch.Size([128, 1]))\n",
      "Using 20 features: ['TCW', 'TCLW', 'R250', 'R500', 'R850', 'U850', 'V850', 'EWSS', 'KX', 'CAPE', 'SSHF', 'PEV', 'AWS_lag7', 'AWS_lag2', 'AWS_rollmean_20', 'AWS_rollstd_20', 'AWS_rollmean_7', 'AWS_rollstd_7', 'AWS_rollmean_18', 'AWS_rollstd_18']\n",
      " Data shapes - Train: torch.Size([28444, 40, 20]), Val: torch.Size([7986, 40, 20]), Test: torch.Size([6179, 40, 20])\n",
      "Error in fold fold_3: Target size (torch.Size([128, 3])) must be the same as input size (torch.Size([128, 1]))\n",
      "Using 20 features: ['TCW', 'TCLW', 'R250', 'R500', 'R850', 'U850', 'V850', 'EWSS', 'KX', 'CAPE', 'SSHF', 'PEV', 'AWS_lag7', 'AWS_lag2', 'AWS_rollmean_20', 'AWS_rollstd_20', 'AWS_rollmean_7', 'AWS_rollstd_7', 'AWS_rollmean_18', 'AWS_rollstd_18']\n",
      " Data shapes - Train: torch.Size([39484, 40, 20]), Val: torch.Size([7535, 40, 20]), Test: torch.Size([5745, 40, 20])\n",
      "Error in fold fold_4: Target size (torch.Size([128, 3])) must be the same as input size (torch.Size([128, 1]))\n",
      "Using 20 features: ['TCW', 'TCLW', 'R250', 'R500', 'R850', 'U850', 'V850', 'EWSS', 'KX', 'CAPE', 'SSHF', 'PEV', 'AWS_lag7', 'AWS_lag2', 'AWS_rollmean_20', 'AWS_rollstd_20', 'AWS_rollmean_7', 'AWS_rollstd_7', 'AWS_rollmean_18', 'AWS_rollstd_18']\n"
     ]
    },
    {
     "name": "stderr",
     "output_type": "stream",
     "text": [
      "[I 2025-05-06 17:30:57,129] Trial 8 finished with value: inf and parameters: {'hidden_size': 41, 'num_layers': 3, 'dropout': 0.33179610594780884, 'lr': 0.00013367273332742576, 'time_step_in': 40, 'time_step_out': 3, 'stride': 3, 'binary_weight': 1.1283356002948186, 'intensity_weight': 1.2070107148792397, 'regression_weight': 0.5471380787070674, 'rain_threshold': 0.14319389884866113, 'num_lags': 2, 'lag_0': 7, 'lag_1': 2, 'num_windows': 3, 'window_0': 20, 'window_1': 7, 'window_2': 18}. Best is trial 2 with value: 0.5525891065597535.\n"
     ]
    },
    {
     "name": "stdout",
     "output_type": "stream",
     "text": [
      " Data shapes - Train: torch.Size([50524, 40, 20]), Val: torch.Size([7035, 40, 20]), Test: torch.Size([5236, 40, 20])\n",
      "Error in fold fold_5: Target size (torch.Size([128, 3])) must be the same as input size (torch.Size([128, 1]))\n",
      "Using 15 features: ['TCW', 'TCLW', 'R250', 'R500', 'R850', 'U850', 'V850', 'EWSS', 'KX', 'CAPE', 'SSHF', 'PEV', 'AWS_lag7', 'AWS_rollmean_12', 'AWS_rollstd_12']\n",
      " Data shapes - Train: torch.Size([4944, 40, 15]), Val: torch.Size([6105, 40, 15]), Test: torch.Size([5206, 40, 15])\n",
      "Error in fold fold_1: Target size (torch.Size([128, 3])) must be the same as input size (torch.Size([128, 1]))\n"
     ]
    },
    {
     "name": "stderr",
     "output_type": "stream",
     "text": [
      "/usr/local/lib/python3.10/dist-packages/torch/nn/modules/rnn.py:123: UserWarning: dropout option adds dropout after all but last recurrent layer, so non-zero dropout expects num_layers greater than 1, but got dropout=0.13124603058822354 and num_layers=1\n",
      "  warnings.warn(\n"
     ]
    },
    {
     "name": "stdout",
     "output_type": "stream",
     "text": [
      "Using 15 features: ['TCW', 'TCLW', 'R250', 'R500', 'R850', 'U850', 'V850', 'EWSS', 'KX', 'CAPE', 'SSHF', 'PEV', 'AWS_lag7', 'AWS_rollmean_12', 'AWS_rollstd_12']\n",
      " Data shapes - Train: torch.Size([13220, 40, 15]), Val: torch.Size([6133, 40, 15]), Test: torch.Size([4936, 40, 15])\n",
      "Error in fold fold_2: Target size (torch.Size([128, 3])) must be the same as input size (torch.Size([128, 1]))\n"
     ]
    },
    {
     "name": "stderr",
     "output_type": "stream",
     "text": [
      "/usr/local/lib/python3.10/dist-packages/torch/nn/modules/rnn.py:123: UserWarning: dropout option adds dropout after all but last recurrent layer, so non-zero dropout expects num_layers greater than 1, but got dropout=0.13124603058822354 and num_layers=1\n",
      "  warnings.warn(\n"
     ]
    },
    {
     "name": "stdout",
     "output_type": "stream",
     "text": [
      "Using 15 features: ['TCW', 'TCLW', 'R250', 'R500', 'R850', 'U850', 'V850', 'EWSS', 'KX', 'CAPE', 'SSHF', 'PEV', 'AWS_lag7', 'AWS_rollmean_12', 'AWS_rollstd_12']\n",
      " Data shapes - Train: torch.Size([21500, 40, 15]), Val: torch.Size([5990, 40, 15]), Test: torch.Size([4634, 40, 15])\n",
      "Error in fold fold_3: Target size (torch.Size([128, 3])) must be the same as input size (torch.Size([128, 1]))\n"
     ]
    },
    {
     "name": "stderr",
     "output_type": "stream",
     "text": [
      "/usr/local/lib/python3.10/dist-packages/torch/nn/modules/rnn.py:123: UserWarning: dropout option adds dropout after all but last recurrent layer, so non-zero dropout expects num_layers greater than 1, but got dropout=0.13124603058822354 and num_layers=1\n",
      "  warnings.warn(\n"
     ]
    },
    {
     "name": "stdout",
     "output_type": "stream",
     "text": [
      "Using 15 features: ['TCW', 'TCLW', 'R250', 'R500', 'R850', 'U850', 'V850', 'EWSS', 'KX', 'CAPE', 'SSHF', 'PEV', 'AWS_lag7', 'AWS_rollmean_12', 'AWS_rollstd_12']\n",
      " Data shapes - Train: torch.Size([29780, 40, 15]), Val: torch.Size([5686, 40, 15]), Test: torch.Size([4337, 40, 15])\n",
      "Error in fold fold_4: Target size (torch.Size([128, 3])) must be the same as input size (torch.Size([128, 1]))\n"
     ]
    },
    {
     "name": "stderr",
     "output_type": "stream",
     "text": [
      "/usr/local/lib/python3.10/dist-packages/torch/nn/modules/rnn.py:123: UserWarning: dropout option adds dropout after all but last recurrent layer, so non-zero dropout expects num_layers greater than 1, but got dropout=0.13124603058822354 and num_layers=1\n",
      "  warnings.warn(\n"
     ]
    },
    {
     "name": "stdout",
     "output_type": "stream",
     "text": [
      "Using 15 features: ['TCW', 'TCLW', 'R250', 'R500', 'R850', 'U850', 'V850', 'EWSS', 'KX', 'CAPE', 'SSHF', 'PEV', 'AWS_lag7', 'AWS_rollmean_12', 'AWS_rollstd_12']\n"
     ]
    },
    {
     "name": "stderr",
     "output_type": "stream",
     "text": [
      "/usr/local/lib/python3.10/dist-packages/torch/nn/modules/rnn.py:123: UserWarning: dropout option adds dropout after all but last recurrent layer, so non-zero dropout expects num_layers greater than 1, but got dropout=0.13124603058822354 and num_layers=1\n",
      "  warnings.warn(\n",
      "[I 2025-05-06 17:31:25,533] Trial 9 finished with value: inf and parameters: {'hidden_size': 78, 'num_layers': 1, 'dropout': 0.13124603058822354, 'lr': 0.0018884844078603507, 'time_step_in': 40, 'time_step_out': 3, 'stride': 4, 'binary_weight': 1.42941333337774, 'intensity_weight': 1.774956543146019, 'regression_weight': 1.8800870324197918, 'rain_threshold': 0.14512848317053942, 'num_lags': 1, 'lag_0': 7, 'num_windows': 1, 'window_0': 12}. Best is trial 2 with value: 0.5525891065597535.\n"
     ]
    },
    {
     "name": "stdout",
     "output_type": "stream",
     "text": [
      " Data shapes - Train: torch.Size([38060, 40, 15]), Val: torch.Size([5265, 40, 15]), Test: torch.Size([3967, 40, 15])\n",
      "Error in fold fold_5: Target size (torch.Size([128, 3])) must be the same as input size (torch.Size([128, 1]))\n",
      "Using 17 features: ['TCW', 'TCLW', 'R250', 'R500', 'R850', 'U850', 'V850', 'EWSS', 'KX', 'CAPE', 'SSHF', 'PEV', 'AWS_lag3', 'AWS_lag10', 'AWS_lag2', 'AWS_rollmean_3', 'AWS_rollstd_3']\n",
      " Data shapes - Train: torch.Size([28444, 14, 17]), Val: torch.Size([29835, 14, 17]), Test: torch.Size([25258, 14, 17])\n",
      "   Epoch 1/5, Total Loss: 3.0638, Binary: 0.6945, Intensity: 0.1303, Regression: 1.0196\n",
      "   Epoch 2/5, Total Loss: 2.5720, Binary: 0.5198, Intensity: 0.1022, Regression: 0.9544\n",
      "   Epoch 3/5, Total Loss: 2.1961, Binary: 0.3426, Intensity: 0.0961, Regression: 0.9457\n",
      "   Epoch 4/5, Total Loss: 2.1545, Binary: 0.3276, Intensity: 0.0943, Regression: 0.9397\n",
      "   Epoch 5/5, Total Loss: 2.0967, Binary: 0.3183, Intensity: 0.0909, Regression: 0.9165\n",
      "Using 17 features: ['TCW', 'TCLW', 'R250', 'R500', 'R850', 'U850', 'V850', 'EWSS', 'KX', 'CAPE', 'SSHF', 'PEV', 'AWS_lag3', 'AWS_lag10', 'AWS_lag2', 'AWS_rollmean_3', 'AWS_rollstd_3']\n",
      " Data shapes - Train: torch.Size([61564, 14, 17]), Val: torch.Size([29843, 14, 17]), Test: torch.Size([24882, 14, 17])\n",
      "   Epoch 1/5, Total Loss: 2.6660, Binary: 0.4203, Intensity: 0.1322, Regression: 1.1212\n",
      "   Epoch 2/5, Total Loss: 2.2495, Binary: 0.3300, Intensity: 0.1034, Regression: 0.9917\n",
      "   Epoch 3/5, Total Loss: 2.1871, Binary: 0.3206, Intensity: 0.1006, Regression: 0.9643\n",
      "   Epoch 4/5, Total Loss: 2.1590, Binary: 0.3143, Intensity: 0.0992, Regression: 0.9552\n",
      "   Epoch 5/5, Total Loss: 2.0902, Binary: 0.3092, Intensity: 0.0950, Regression: 0.9193\n",
      "Using 17 features: ['TCW', 'TCLW', 'R250', 'R500', 'R850', 'U850', 'V850', 'EWSS', 'KX', 'CAPE', 'SSHF', 'PEV', 'AWS_lag3', 'AWS_lag10', 'AWS_lag2', 'AWS_rollmean_3', 'AWS_rollstd_3']\n",
      " Data shapes - Train: torch.Size([94684, 14, 17]), Val: torch.Size([29500, 14, 17]), Test: torch.Size([24276, 14, 17])\n",
      "   Epoch 1/5, Total Loss: 2.4268, Binary: 0.3890, Intensity: 0.1163, Regression: 1.0169\n",
      "   Epoch 2/5, Total Loss: 2.2067, Binary: 0.3335, Intensity: 0.1010, Regression: 0.9595\n",
      "   Epoch 3/5, Total Loss: 2.1575, Binary: 0.3270, Intensity: 0.0982, Regression: 0.9376\n",
      "   Epoch 4/5, Total Loss: 2.1333, Binary: 0.3241, Intensity: 0.0976, Regression: 0.9252\n",
      "   Epoch 5/5, Total Loss: 2.1049, Binary: 0.3216, Intensity: 0.0956, Regression: 0.9113\n",
      "Using 17 features: ['TCW', 'TCLW', 'R250', 'R500', 'R850', 'U850', 'V850', 'EWSS', 'KX', 'CAPE', 'SSHF', 'PEV', 'AWS_lag3', 'AWS_lag10', 'AWS_lag2', 'AWS_rollmean_3', 'AWS_rollstd_3']\n",
      " Data shapes - Train: torch.Size([127804, 14, 17]), Val: torch.Size([29029, 14, 17]), Test: torch.Size([23814, 14, 17])\n",
      "   Epoch 1/5, Total Loss: 2.5733, Binary: 0.4135, Intensity: 0.1186, Regression: 1.0832\n",
      "   Epoch 2/5, Total Loss: 2.3444, Binary: 0.3475, Intensity: 0.1062, Regression: 1.0305\n",
      "   Epoch 3/5, Total Loss: 2.2918, Binary: 0.3405, Intensity: 0.1034, Regression: 1.0068\n",
      "   Epoch 4/5, Total Loss: 2.3396, Binary: 0.3424, Intensity: 0.1043, Regression: 1.0368\n",
      "   Epoch 5/5, Total Loss: 2.2544, Binary: 0.3377, Intensity: 0.1010, Regression: 0.9874\n",
      "Using 17 features: ['TCW', 'TCLW', 'R250', 'R500', 'R850', 'U850', 'V850', 'EWSS', 'KX', 'CAPE', 'SSHF', 'PEV', 'AWS_lag3', 'AWS_lag10', 'AWS_lag2', 'AWS_rollmean_3', 'AWS_rollstd_3']\n",
      " Data shapes - Train: torch.Size([160924, 14, 17]), Val: torch.Size([28482, 14, 17]), Test: torch.Size([23236, 14, 17])\n",
      "   Epoch 1/5, Total Loss: 3.1182, Binary: 0.3969, Intensity: 0.1598, Regression: 1.4377\n",
      "   Epoch 2/5, Total Loss: 2.8388, Binary: 0.3271, Intensity: 0.1447, Regression: 1.3581\n",
      "   Epoch 3/5, Total Loss: 2.7619, Binary: 0.3150, Intensity: 0.1414, Regression: 1.3252\n",
      "   Epoch 4/5, Total Loss: 2.7544, Binary: 0.3104, Intensity: 0.1411, Regression: 1.3267\n",
      "   Epoch 5/5, Total Loss: 2.6948, Binary: 0.3049, Intensity: 0.1375, Regression: 1.2970\n"
     ]
    },
    {
     "name": "stderr",
     "output_type": "stream",
     "text": [
      "[I 2025-05-06 17:34:53,189] Trial 10 finished with value: 0.5049721539020539 and parameters: {'hidden_size': 138, 'num_layers': 2, 'dropout': 0.2068806560885842, 'lr': 0.007581170297223678, 'time_step_in': 14, 'time_step_out': 1, 'stride': 1, 'binary_weight': 1.9866906687608146, 'intensity_weight': 1.8846691177008739, 'regression_weight': 1.4108262076050648, 'rain_threshold': 0.1972097089816166, 'num_lags': 3, 'lag_0': 3, 'lag_1': 10, 'lag_2': 2, 'num_windows': 1, 'window_0': 3}. Best is trial 10 with value: 0.5049721539020539.\n"
     ]
    },
    {
     "name": "stdout",
     "output_type": "stream",
     "text": [
      "Using 17 features: ['TCW', 'TCLW', 'R250', 'R500', 'R850', 'U850', 'V850', 'EWSS', 'KX', 'CAPE', 'SSHF', 'PEV', 'AWS_lag3', 'AWS_lag12', 'AWS_lag1', 'AWS_rollmean_3', 'AWS_rollstd_3']\n",
      " Data shapes - Train: torch.Size([29112, 12, 17]), Val: torch.Size([30279, 12, 17]), Test: torch.Size([25616, 12, 17])\n",
      "   Epoch 1/5, Total Loss: 2.8760, Binary: 0.6049, Intensity: 0.1293, Regression: 1.0762\n",
      "   Epoch 2/5, Total Loss: 2.0835, Binary: 0.3395, Intensity: 0.0919, Regression: 0.9278\n",
      "   Epoch 3/5, Total Loss: 2.0241, Binary: 0.3217, Intensity: 0.0883, Regression: 0.9147\n",
      "   Epoch 4/5, Total Loss: 2.0182, Binary: 0.3180, Intensity: 0.0893, Regression: 0.9145\n",
      "   Epoch 5/5, Total Loss: 2.0042, Binary: 0.3139, Intensity: 0.0892, Regression: 0.9103\n",
      "Using 17 features: ['TCW', 'TCLW', 'R250', 'R500', 'R850', 'U850', 'V850', 'EWSS', 'KX', 'CAPE', 'SSHF', 'PEV', 'AWS_lag3', 'AWS_lag12', 'AWS_lag1', 'AWS_rollmean_3', 'AWS_rollstd_3']\n",
      " Data shapes - Train: torch.Size([62232, 12, 17]), Val: torch.Size([30287, 12, 17]), Test: torch.Size([25292, 12, 17])\n",
      "   Epoch 1/5, Total Loss: 2.5018, Binary: 0.4187, Intensity: 0.1270, Regression: 1.0749\n",
      "   Epoch 2/5, Total Loss: 2.1347, Binary: 0.3243, Intensity: 0.1013, Regression: 0.9757\n",
      "   Epoch 3/5, Total Loss: 2.0847, Binary: 0.3144, Intensity: 0.0996, Regression: 0.9553\n",
      "   Epoch 4/5, Total Loss: 2.0410, Binary: 0.3098, Intensity: 0.0969, Regression: 0.9331\n",
      "   Epoch 5/5, Total Loss: 2.0292, Binary: 0.3040, Intensity: 0.0969, Regression: 0.9329\n",
      "Using 17 features: ['TCW', 'TCLW', 'R250', 'R500', 'R850', 'U850', 'V850', 'EWSS', 'KX', 'CAPE', 'SSHF', 'PEV', 'AWS_lag3', 'AWS_lag12', 'AWS_lag1', 'AWS_rollmean_3', 'AWS_rollstd_3']\n",
      " Data shapes - Train: torch.Size([95352, 12, 17]), Val: torch.Size([29986, 12, 17]), Test: torch.Size([24774, 12, 17])\n",
      "   Epoch 1/5, Total Loss: 2.3860, Binary: 0.4037, Intensity: 0.1182, Regression: 1.0226\n",
      "   Epoch 2/5, Total Loss: 2.1340, Binary: 0.3324, Intensity: 0.1011, Regression: 0.9634\n",
      "   Epoch 3/5, Total Loss: 2.0751, Binary: 0.3268, Intensity: 0.0982, Regression: 0.9317\n",
      "   Epoch 4/5, Total Loss: 2.0710, Binary: 0.3248, Intensity: 0.0978, Regression: 0.9322\n",
      "   Epoch 5/5, Total Loss: 2.0422, Binary: 0.3228, Intensity: 0.0963, Regression: 0.9156\n",
      "Using 17 features: ['TCW', 'TCLW', 'R250', 'R500', 'R850', 'U850', 'V850', 'EWSS', 'KX', 'CAPE', 'SSHF', 'PEV', 'AWS_lag3', 'AWS_lag12', 'AWS_lag1', 'AWS_rollmean_3', 'AWS_rollstd_3']\n",
      " Data shapes - Train: torch.Size([128472, 12, 17]), Val: torch.Size([29581, 12, 17]), Test: torch.Size([24376, 12, 17])\n",
      "   Epoch 1/5, Total Loss: 2.4251, Binary: 0.3890, Intensity: 0.1156, Regression: 1.0772\n",
      "   Epoch 2/5, Total Loss: 2.2336, Binary: 0.3434, Intensity: 0.1037, Regression: 1.0180\n",
      "   Epoch 3/5, Total Loss: 2.1997, Binary: 0.3394, Intensity: 0.1015, Regression: 1.0015\n",
      "   Epoch 4/5, Total Loss: 2.1611, Binary: 0.3354, Intensity: 0.1002, Regression: 0.9804\n",
      "   Epoch 5/5, Total Loss: 2.1440, Binary: 0.3320, Intensity: 0.0992, Regression: 0.9742\n",
      "Using 17 features: ['TCW', 'TCLW', 'R250', 'R500', 'R850', 'U850', 'V850', 'EWSS', 'KX', 'CAPE', 'SSHF', 'PEV', 'AWS_lag3', 'AWS_lag12', 'AWS_lag1', 'AWS_rollmean_3', 'AWS_rollstd_3']\n",
      " Data shapes - Train: torch.Size([161592, 12, 17]), Val: torch.Size([29124, 12, 17]), Test: torch.Size([23878, 12, 17])\n",
      "   Epoch 1/5, Total Loss: 2.9413, Binary: 0.3821, Intensity: 0.1578, Regression: 1.4149\n",
      "   Epoch 2/5, Total Loss: 2.6881, Binary: 0.3145, Intensity: 0.1421, Regression: 1.3473\n",
      "   Epoch 3/5, Total Loss: 2.6292, Binary: 0.3039, Intensity: 0.1383, Regression: 1.3242\n",
      "   Epoch 4/5, Total Loss: 2.5841, Binary: 0.2980, Intensity: 0.1378, Regression: 1.2998\n",
      "   Epoch 5/5, Total Loss: 2.5382, Binary: 0.2924, Intensity: 0.1340, Regression: 1.2791\n"
     ]
    },
    {
     "name": "stderr",
     "output_type": "stream",
     "text": [
      "[I 2025-05-06 17:38:08,559] Trial 11 finished with value: 0.487163245677948 and parameters: {'hidden_size': 137, 'num_layers': 2, 'dropout': 0.21899601855488443, 'lr': 0.0053016964010182445, 'time_step_in': 12, 'time_step_out': 1, 'stride': 1, 'binary_weight': 1.9784717420650746, 'intensity_weight': 1.8442010975316903, 'regression_weight': 1.3388887814642736, 'rain_threshold': 0.1982964237317818, 'num_lags': 3, 'lag_0': 3, 'lag_1': 12, 'lag_2': 1, 'num_windows': 1, 'window_0': 3}. Best is trial 11 with value: 0.487163245677948.\n"
     ]
    },
    {
     "name": "stdout",
     "output_type": "stream",
     "text": [
      "Using 17 features: ['TCW', 'TCLW', 'R250', 'R500', 'R850', 'U850', 'V850', 'EWSS', 'KX', 'CAPE', 'SSHF', 'PEV', 'AWS_lag2', 'AWS_lag12', 'AWS_lag1', 'AWS_rollmean_3', 'AWS_rollstd_3']\n",
      " Data shapes - Train: torch.Size([29112, 12, 17]), Val: torch.Size([30279, 12, 17]), Test: torch.Size([25616, 12, 17])\n",
      "   Epoch 1/5, Total Loss: 3.1045, Binary: 0.6937, Intensity: 0.1337, Regression: 1.0720\n",
      "   Epoch 2/5, Total Loss: 2.8822, Binary: 0.6715, Intensity: 0.1074, Regression: 0.9868\n",
      "   Epoch 3/5, Total Loss: 2.2925, Binary: 0.3642, Intensity: 0.0970, Regression: 0.9568\n",
      "   Epoch 4/5, Total Loss: 2.1824, Binary: 0.3373, Intensity: 0.0924, Regression: 0.9211\n",
      "   Epoch 5/5, Total Loss: 2.1448, Binary: 0.3301, Intensity: 0.0903, Regression: 0.9075\n",
      "Using 17 features: ['TCW', 'TCLW', 'R250', 'R500', 'R850', 'U850', 'V850', 'EWSS', 'KX', 'CAPE', 'SSHF', 'PEV', 'AWS_lag2', 'AWS_lag12', 'AWS_lag1', 'AWS_rollmean_3', 'AWS_rollstd_3']\n",
      " Data shapes - Train: torch.Size([62232, 12, 17]), Val: torch.Size([30287, 12, 17]), Test: torch.Size([25292, 12, 17])\n",
      "   Epoch 1/5, Total Loss: 2.6710, Binary: 0.4276, Intensity: 0.1288, Regression: 1.0908\n",
      "   Epoch 2/5, Total Loss: 2.3184, Binary: 0.3276, Intensity: 0.1040, Regression: 1.0049\n",
      "   Epoch 3/5, Total Loss: 2.2221, Binary: 0.3201, Intensity: 0.0993, Regression: 0.9569\n",
      "   Epoch 4/5, Total Loss: 2.2041, Binary: 0.3135, Intensity: 0.0983, Regression: 0.9537\n",
      "   Epoch 5/5, Total Loss: 2.1616, Binary: 0.3099, Intensity: 0.0972, Regression: 0.9316\n",
      "Using 17 features: ['TCW', 'TCLW', 'R250', 'R500', 'R850', 'U850', 'V850', 'EWSS', 'KX', 'CAPE', 'SSHF', 'PEV', 'AWS_lag2', 'AWS_lag12', 'AWS_lag1', 'AWS_rollmean_3', 'AWS_rollstd_3']\n",
      " Data shapes - Train: torch.Size([95352, 12, 17]), Val: torch.Size([29986, 12, 17]), Test: torch.Size([24774, 12, 17])\n",
      "   Epoch 1/5, Total Loss: 2.4887, Binary: 0.3879, Intensity: 0.1170, Regression: 1.0319\n",
      "   Epoch 2/5, Total Loss: 2.3240, Binary: 0.3462, Intensity: 0.1061, Regression: 0.9853\n",
      "   Epoch 3/5, Total Loss: 2.2652, Binary: 0.3363, Intensity: 0.1017, Regression: 0.9638\n",
      "   Epoch 4/5, Total Loss: 2.2028, Binary: 0.3290, Intensity: 0.0988, Regression: 0.9352\n",
      "   Epoch 5/5, Total Loss: 2.1999, Binary: 0.3298, Intensity: 0.0982, Regression: 0.9332\n",
      "Using 17 features: ['TCW', 'TCLW', 'R250', 'R500', 'R850', 'U850', 'V850', 'EWSS', 'KX', 'CAPE', 'SSHF', 'PEV', 'AWS_lag2', 'AWS_lag12', 'AWS_lag1', 'AWS_rollmean_3', 'AWS_rollstd_3']\n",
      " Data shapes - Train: torch.Size([128472, 12, 17]), Val: torch.Size([29581, 12, 17]), Test: torch.Size([24376, 12, 17])\n",
      "   Epoch 1/5, Total Loss: 2.6694, Binary: 0.4381, Intensity: 0.1222, Regression: 1.0866\n",
      "   Epoch 2/5, Total Loss: 2.4198, Binary: 0.3567, Intensity: 0.1073, Regression: 1.0342\n",
      "   Epoch 3/5, Total Loss: 2.3468, Binary: 0.3448, Intensity: 0.1031, Regression: 1.0054\n",
      "   Epoch 4/5, Total Loss: 2.3499, Binary: 0.3455, Intensity: 0.1027, Regression: 1.0071\n",
      "   Epoch 5/5, Total Loss: 2.3216, Binary: 0.3422, Intensity: 0.1013, Regression: 0.9942\n",
      "Using 17 features: ['TCW', 'TCLW', 'R250', 'R500', 'R850', 'U850', 'V850', 'EWSS', 'KX', 'CAPE', 'SSHF', 'PEV', 'AWS_lag2', 'AWS_lag12', 'AWS_lag1', 'AWS_rollmean_3', 'AWS_rollstd_3']\n",
      " Data shapes - Train: torch.Size([161592, 12, 17]), Val: torch.Size([29124, 12, 17]), Test: torch.Size([23878, 12, 17])\n",
      "   Epoch 1/5, Total Loss: 3.1878, Binary: 0.4059, Intensity: 0.1577, Regression: 1.4116\n",
      "   Epoch 2/5, Total Loss: 2.9516, Binary: 0.3350, Intensity: 0.1437, Regression: 1.3550\n",
      "   Epoch 3/5, Total Loss: 2.8869, Binary: 0.3216, Intensity: 0.1411, Regression: 1.3313\n",
      "   Epoch 4/5, Total Loss: 2.8444, Binary: 0.3179, Intensity: 0.1390, Regression: 1.3105\n",
      "   Epoch 5/5, Total Loss: 2.8665, Binary: 0.3229, Intensity: 0.1398, Regression: 1.3182\n"
     ]
    },
    {
     "name": "stderr",
     "output_type": "stream",
     "text": [
      "[I 2025-05-06 17:41:20,939] Trial 12 finished with value: 0.5046171605587005 and parameters: {'hidden_size': 136, 'num_layers': 2, 'dropout': 0.20665775146545096, 'lr': 0.00973174645509762, 'time_step_in': 12, 'time_step_out': 1, 'stride': 1, 'binary_weight': 1.7010306166910494, 'intensity_weight': 1.998248197355564, 'regression_weight': 1.5459058625377553, 'rain_threshold': 0.19384476085849864, 'num_lags': 3, 'lag_0': 2, 'lag_1': 12, 'lag_2': 1, 'num_windows': 1, 'window_0': 3}. Best is trial 11 with value: 0.487163245677948.\n"
     ]
    },
    {
     "name": "stdout",
     "output_type": "stream",
     "text": [
      "Using 17 features: ['TCW', 'TCLW', 'R250', 'R500', 'R850', 'U850', 'V850', 'EWSS', 'KX', 'CAPE', 'SSHF', 'PEV', 'AWS_lag1', 'AWS_lag12', 'AWS_lag1', 'AWS_rollmean_4', 'AWS_rollstd_4']\n",
      " Data shapes - Train: torch.Size([28778, 12, 17]), Val: torch.Size([30057, 12, 17]), Test: torch.Size([25437, 12, 17])\n",
      "Error in fold fold_1: Target size (torch.Size([128, 2])) must be the same as input size (torch.Size([128, 1]))\n",
      "Using 17 features: ['TCW', 'TCLW', 'R250', 'R500', 'R850', 'U850', 'V850', 'EWSS', 'KX', 'CAPE', 'SSHF', 'PEV', 'AWS_lag1', 'AWS_lag12', 'AWS_lag1', 'AWS_rollmean_4', 'AWS_rollstd_4']\n",
      " Data shapes - Train: torch.Size([61898, 12, 17]), Val: torch.Size([30065, 12, 17]), Test: torch.Size([25087, 12, 17])\n",
      "Error in fold fold_2: Target size (torch.Size([128, 2])) must be the same as input size (torch.Size([128, 1]))\n",
      "Using 17 features: ['TCW', 'TCLW', 'R250', 'R500', 'R850', 'U850', 'V850', 'EWSS', 'KX', 'CAPE', 'SSHF', 'PEV', 'AWS_lag1', 'AWS_lag12', 'AWS_lag1', 'AWS_rollmean_4', 'AWS_rollstd_4']\n",
      " Data shapes - Train: torch.Size([95018, 12, 17]), Val: torch.Size([29743, 12, 17]), Test: torch.Size([24525, 12, 17])\n",
      "Error in fold fold_3: Target size (torch.Size([128, 2])) must be the same as input size (torch.Size([128, 1]))\n",
      "Using 17 features: ['TCW', 'TCLW', 'R250', 'R500', 'R850', 'U850', 'V850', 'EWSS', 'KX', 'CAPE', 'SSHF', 'PEV', 'AWS_lag1', 'AWS_lag12', 'AWS_lag1', 'AWS_rollmean_4', 'AWS_rollstd_4']\n",
      " Data shapes - Train: torch.Size([128138, 12, 17]), Val: torch.Size([29305, 12, 17]), Test: torch.Size([24095, 12, 17])\n",
      "Error in fold fold_4: Target size (torch.Size([128, 2])) must be the same as input size (torch.Size([128, 1]))\n",
      "Using 17 features: ['TCW', 'TCLW', 'R250', 'R500', 'R850', 'U850', 'V850', 'EWSS', 'KX', 'CAPE', 'SSHF', 'PEV', 'AWS_lag1', 'AWS_lag12', 'AWS_lag1', 'AWS_rollmean_4', 'AWS_rollstd_4']\n"
     ]
    },
    {
     "name": "stderr",
     "output_type": "stream",
     "text": [
      "[I 2025-05-06 17:42:01,220] Trial 13 finished with value: inf and parameters: {'hidden_size': 135, 'num_layers': 2, 'dropout': 0.23794813361343042, 'lr': 0.004695658490247776, 'time_step_in': 12, 'time_step_out': 2, 'stride': 1, 'binary_weight': 1.655951958109287, 'intensity_weight': 1.7102901600199552, 'regression_weight': 1.5886460402208247, 'rain_threshold': 0.16805181798334826, 'num_lags': 3, 'lag_0': 1, 'lag_1': 12, 'lag_2': 1, 'num_windows': 1, 'window_0': 4}. Best is trial 11 with value: 0.487163245677948.\n"
     ]
    },
    {
     "name": "stdout",
     "output_type": "stream",
     "text": [
      " Data shapes - Train: torch.Size([161258, 12, 17]), Val: torch.Size([28803, 12, 17]), Test: torch.Size([23556, 12, 17])\n",
      "Error in fold fold_5: Target size (torch.Size([128, 2])) must be the same as input size (torch.Size([128, 1]))\n",
      "Using 17 features: ['TCW', 'TCLW', 'R250', 'R500', 'R850', 'U850', 'V850', 'EWSS', 'KX', 'CAPE', 'SSHF', 'PEV', 'AWS_lag3', 'AWS_lag8', 'AWS_lag4', 'AWS_rollmean_5', 'AWS_rollstd_5']\n",
      " Data shapes - Train: torch.Size([12219, 26, 17]), Val: torch.Size([13525, 26, 17]), Test: torch.Size([11549, 26, 17])\n",
      "Error in fold fold_1: Target size (torch.Size([128, 2])) must be the same as input size (torch.Size([128, 1]))\n"
     ]
    },
    {
     "name": "stderr",
     "output_type": "stream",
     "text": [
      "/usr/local/lib/python3.10/dist-packages/torch/nn/modules/rnn.py:123: UserWarning: dropout option adds dropout after all but last recurrent layer, so non-zero dropout expects num_layers greater than 1, but got dropout=0.004183819858477489 and num_layers=1\n",
      "  warnings.warn(\n"
     ]
    },
    {
     "name": "stdout",
     "output_type": "stream",
     "text": [
      "Using 17 features: ['TCW', 'TCLW', 'R250', 'R500', 'R850', 'U850', 'V850', 'EWSS', 'KX', 'CAPE', 'SSHF', 'PEV', 'AWS_lag3', 'AWS_lag8', 'AWS_lag4', 'AWS_rollmean_5', 'AWS_rollstd_5']\n",
      " Data shapes - Train: torch.Size([28778, 26, 17]), Val: torch.Size([13562, 26, 17]), Test: torch.Size([11193, 26, 17])\n",
      "Error in fold fold_2: Target size (torch.Size([128, 2])) must be the same as input size (torch.Size([128, 1]))\n"
     ]
    },
    {
     "name": "stderr",
     "output_type": "stream",
     "text": [
      "/usr/local/lib/python3.10/dist-packages/torch/nn/modules/rnn.py:123: UserWarning: dropout option adds dropout after all but last recurrent layer, so non-zero dropout expects num_layers greater than 1, but got dropout=0.004183819858477489 and num_layers=1\n",
      "  warnings.warn(\n"
     ]
    },
    {
     "name": "stdout",
     "output_type": "stream",
     "text": [
      "Using 17 features: ['TCW', 'TCLW', 'R250', 'R500', 'R850', 'U850', 'V850', 'EWSS', 'KX', 'CAPE', 'SSHF', 'PEV', 'AWS_lag3', 'AWS_lag8', 'AWS_lag4', 'AWS_rollmean_5', 'AWS_rollstd_5']\n",
      " Data shapes - Train: torch.Size([45338, 26, 17]), Val: torch.Size([13427, 26, 17]), Test: torch.Size([10717, 26, 17])\n",
      "Error in fold fold_3: Target size (torch.Size([128, 2])) must be the same as input size (torch.Size([128, 1]))\n"
     ]
    },
    {
     "name": "stderr",
     "output_type": "stream",
     "text": [
      "/usr/local/lib/python3.10/dist-packages/torch/nn/modules/rnn.py:123: UserWarning: dropout option adds dropout after all but last recurrent layer, so non-zero dropout expects num_layers greater than 1, but got dropout=0.004183819858477489 and num_layers=1\n",
      "  warnings.warn(\n"
     ]
    },
    {
     "name": "stdout",
     "output_type": "stream",
     "text": [
      "Using 17 features: ['TCW', 'TCLW', 'R250', 'R500', 'R850', 'U850', 'V850', 'EWSS', 'KX', 'CAPE', 'SSHF', 'PEV', 'AWS_lag3', 'AWS_lag8', 'AWS_lag4', 'AWS_rollmean_5', 'AWS_rollstd_5']\n",
      " Data shapes - Train: torch.Size([61898, 26, 17]), Val: torch.Size([12937, 26, 17]), Test: torch.Size([10250, 26, 17])\n",
      "Error in fold fold_4: Target size (torch.Size([128, 2])) must be the same as input size (torch.Size([128, 1]))\n"
     ]
    },
    {
     "name": "stderr",
     "output_type": "stream",
     "text": [
      "/usr/local/lib/python3.10/dist-packages/torch/nn/modules/rnn.py:123: UserWarning: dropout option adds dropout after all but last recurrent layer, so non-zero dropout expects num_layers greater than 1, but got dropout=0.004183819858477489 and num_layers=1\n",
      "  warnings.warn(\n"
     ]
    },
    {
     "name": "stdout",
     "output_type": "stream",
     "text": [
      "Using 17 features: ['TCW', 'TCLW', 'R250', 'R500', 'R850', 'U850', 'V850', 'EWSS', 'KX', 'CAPE', 'SSHF', 'PEV', 'AWS_lag3', 'AWS_lag8', 'AWS_lag4', 'AWS_rollmean_5', 'AWS_rollstd_5']\n"
     ]
    },
    {
     "name": "stderr",
     "output_type": "stream",
     "text": [
      "/usr/local/lib/python3.10/dist-packages/torch/nn/modules/rnn.py:123: UserWarning: dropout option adds dropout after all but last recurrent layer, so non-zero dropout expects num_layers greater than 1, but got dropout=0.004183819858477489 and num_layers=1\n",
      "  warnings.warn(\n",
      "[I 2025-05-06 17:42:40,624] Trial 14 finished with value: inf and parameters: {'hidden_size': 113, 'num_layers': 1, 'dropout': 0.004183819858477489, 'lr': 0.004029088183439236, 'time_step_in': 26, 'time_step_out': 2, 'stride': 2, 'binary_weight': 1.7189621050138268, 'intensity_weight': 1.5564809366037355, 'regression_weight': 1.6356396503766921, 'rain_threshold': 0.19667312166229656, 'num_lags': 3, 'lag_0': 3, 'lag_1': 8, 'lag_2': 4, 'num_windows': 1, 'window_0': 5}. Best is trial 11 with value: 0.487163245677948.\n"
     ]
    },
    {
     "name": "stdout",
     "output_type": "stream",
     "text": [
      " Data shapes - Train: torch.Size([78458, 26, 17]), Val: torch.Size([12463, 26, 17]), Test: torch.Size([9765, 26, 17])\n",
      "Error in fold fold_5: Target size (torch.Size([128, 2])) must be the same as input size (torch.Size([128, 1]))\n",
      "Using 17 features: ['TCW', 'TCLW', 'R250', 'R500', 'R850', 'U850', 'V850', 'EWSS', 'KX', 'CAPE', 'SSHF', 'PEV', 'AWS_lag3', 'AWS_lag9', 'AWS_lag6', 'AWS_rollmean_7', 'AWS_rollstd_7']\n",
      " Data shapes - Train: torch.Size([27776, 16, 17]), Val: torch.Size([29391, 16, 17]), Test: torch.Size([24904, 16, 17])\n",
      "   Epoch 1/5, Total Loss: 2.8747, Binary: 0.6962, Intensity: 0.1334, Regression: 1.1306\n",
      "   Epoch 2/5, Total Loss: 2.6536, Binary: 0.6930, Intensity: 0.1082, Regression: 0.9986\n",
      "   Epoch 3/5, Total Loss: 2.5885, Binary: 0.6852, Intensity: 0.1067, Regression: 0.9597\n",
      "   Epoch 4/5, Total Loss: 2.1664, Binary: 0.4384, Intensity: 0.1039, Regression: 0.9645\n",
      "   Epoch 5/5, Total Loss: 2.0106, Binary: 0.3729, Intensity: 0.0946, Regression: 0.9445\n",
      "Using 17 features: ['TCW', 'TCLW', 'R250', 'R500', 'R850', 'U850', 'V850', 'EWSS', 'KX', 'CAPE', 'SSHF', 'PEV', 'AWS_lag3', 'AWS_lag9', 'AWS_lag6', 'AWS_rollmean_7', 'AWS_rollstd_7']\n",
      " Data shapes - Train: torch.Size([60896, 16, 17]), Val: torch.Size([29399, 16, 17]), Test: torch.Size([24472, 16, 17])\n",
      "   Epoch 1/5, Total Loss: 2.3233, Binary: 0.4328, Intensity: 0.1208, Regression: 1.0706\n",
      "   Epoch 2/5, Total Loss: 2.0335, Binary: 0.3426, Intensity: 0.1021, Regression: 0.9922\n",
      "   Epoch 3/5, Total Loss: 1.9827, Binary: 0.3302, Intensity: 0.0999, Regression: 0.9723\n",
      "   Epoch 4/5, Total Loss: 1.9410, Binary: 0.3218, Intensity: 0.0985, Regression: 0.9526\n",
      "   Epoch 5/5, Total Loss: 1.9147, Binary: 0.3180, Intensity: 0.0966, Regression: 0.9398\n",
      "Using 17 features: ['TCW', 'TCLW', 'R250', 'R500', 'R850', 'U850', 'V850', 'EWSS', 'KX', 'CAPE', 'SSHF', 'PEV', 'AWS_lag3', 'AWS_lag9', 'AWS_lag6', 'AWS_rollmean_7', 'AWS_rollstd_7']\n",
      " Data shapes - Train: torch.Size([94016, 16, 17]), Val: torch.Size([29038, 16, 17]), Test: torch.Size([23784, 16, 17])\n",
      "   Epoch 1/5, Total Loss: 2.2185, Binary: 0.4052, Intensity: 0.1140, Regression: 1.0355\n",
      "   Epoch 2/5, Total Loss: 2.0515, Binary: 0.3563, Intensity: 0.1042, Regression: 0.9846\n",
      "   Epoch 3/5, Total Loss: 2.0295, Binary: 0.3539, Intensity: 0.1045, Regression: 0.9699\n",
      "   Epoch 4/5, Total Loss: 1.9854, Binary: 0.3402, Intensity: 0.1013, Regression: 0.9585\n",
      "   Epoch 5/5, Total Loss: 1.9603, Binary: 0.3337, Intensity: 0.0998, Regression: 0.9496\n",
      "Using 17 features: ['TCW', 'TCLW', 'R250', 'R500', 'R850', 'U850', 'V850', 'EWSS', 'KX', 'CAPE', 'SSHF', 'PEV', 'AWS_lag3', 'AWS_lag9', 'AWS_lag6', 'AWS_rollmean_7', 'AWS_rollstd_7']\n",
      " Data shapes - Train: torch.Size([127136, 16, 17]), Val: torch.Size([28501, 16, 17]), Test: torch.Size([23259, 16, 17])\n",
      "   Epoch 1/5, Total Loss: 2.3870, Binary: 0.4476, Intensity: 0.1191, Regression: 1.1039\n",
      "   Epoch 2/5, Total Loss: 2.1279, Binary: 0.3578, Intensity: 0.1059, Regression: 1.0408\n",
      "   Epoch 3/5, Total Loss: 2.0996, Binary: 0.3498, Intensity: 0.1043, Regression: 1.0318\n",
      "   Epoch 4/5, Total Loss: 2.0707, Binary: 0.3475, Intensity: 0.1025, Regression: 1.0146\n",
      "   Epoch 5/5, Total Loss: 2.0522, Binary: 0.3446, Intensity: 0.1025, Regression: 1.0039\n",
      "Using 17 features: ['TCW', 'TCLW', 'R250', 'R500', 'R850', 'U850', 'V850', 'EWSS', 'KX', 'CAPE', 'SSHF', 'PEV', 'AWS_lag3', 'AWS_lag9', 'AWS_lag6', 'AWS_rollmean_7', 'AWS_rollstd_7']\n",
      " Data shapes - Train: torch.Size([160256, 16, 17]), Val: torch.Size([27864, 16, 17]), Test: torch.Size([22611, 16, 17])\n",
      "   Epoch 1/5, Total Loss: 2.6511, Binary: 0.4177, Intensity: 0.1453, Regression: 1.3140\n",
      "   Epoch 2/5, Total Loss: 2.3877, Binary: 0.3393, Intensity: 0.1304, Regression: 1.2345\n",
      "   Epoch 3/5, Total Loss: 2.3574, Binary: 0.3289, Intensity: 0.1288, Regression: 1.2271\n",
      "   Epoch 4/5, Total Loss: 2.3132, Binary: 0.3197, Intensity: 0.1269, Regression: 1.2075\n",
      "   Epoch 5/5, Total Loss: 2.2848, Binary: 0.3136, Intensity: 0.1263, Regression: 1.1941\n"
     ]
    },
    {
     "name": "stderr",
     "output_type": "stream",
     "text": [
      "[I 2025-05-06 17:46:26,055] Trial 15 finished with value: 0.5174278676509857 and parameters: {'hidden_size': 156, 'num_layers': 2, 'dropout': 0.155823042868557, 'lr': 0.008115124167019283, 'time_step_in': 16, 'time_step_out': 1, 'stride': 1, 'binary_weight': 1.7124668002656045, 'intensity_weight': 1.9939561456027675, 'regression_weight': 1.2528426590562791, 'rain_threshold': 0.14962190014135401, 'num_lags': 3, 'lag_0': 3, 'lag_1': 9, 'lag_2': 6, 'num_windows': 1, 'window_0': 7}. Best is trial 11 with value: 0.487163245677948.\n"
     ]
    },
    {
     "name": "stdout",
     "output_type": "stream",
     "text": [
      "Using 17 features: ['TCW', 'TCLW', 'R250', 'R500', 'R850', 'U850', 'V850', 'EWSS', 'KX', 'CAPE', 'SSHF', 'PEV', 'AWS_lag4', 'AWS_lag12', 'AWS_lag1', 'AWS_rollmean_3', 'AWS_rollstd_3']\n",
      " Data shapes - Train: torch.Size([13554, 18, 17]), Val: torch.Size([14413, 18, 17]), Test: torch.Size([12240, 18, 17])\n",
      "Error in fold fold_1: Target size (torch.Size([128, 2])) must be the same as input size (torch.Size([128, 1]))\n",
      "Using 17 features: ['TCW', 'TCLW', 'R250', 'R500', 'R850', 'U850', 'V850', 'EWSS', 'KX', 'CAPE', 'SSHF', 'PEV', 'AWS_lag4', 'AWS_lag12', 'AWS_lag1', 'AWS_rollmean_3', 'AWS_rollstd_3']\n",
      " Data shapes - Train: torch.Size([30114, 18, 17]), Val: torch.Size([14438, 18, 17]), Test: torch.Size([11997, 18, 17])\n",
      "Error in fold fold_2: Target size (torch.Size([128, 2])) must be the same as input size (torch.Size([128, 1]))\n",
      "Using 17 features: ['TCW', 'TCLW', 'R250', 'R500', 'R850', 'U850', 'V850', 'EWSS', 'KX', 'CAPE', 'SSHF', 'PEV', 'AWS_lag4', 'AWS_lag12', 'AWS_lag1', 'AWS_rollmean_3', 'AWS_rollstd_3']\n",
      " Data shapes - Train: torch.Size([46674, 18, 17]), Val: torch.Size([14274, 18, 17]), Test: torch.Size([11616, 18, 17])\n",
      "Error in fold fold_3: Target size (torch.Size([128, 2])) must be the same as input size (torch.Size([128, 1]))\n",
      "Using 17 features: ['TCW', 'TCLW', 'R250', 'R500', 'R850', 'U850', 'V850', 'EWSS', 'KX', 'CAPE', 'SSHF', 'PEV', 'AWS_lag4', 'AWS_lag12', 'AWS_lag1', 'AWS_rollmean_3', 'AWS_rollstd_3']\n",
      " Data shapes - Train: torch.Size([63234, 18, 17]), Val: torch.Size([13916, 18, 17]), Test: torch.Size([11285, 18, 17])\n",
      "Error in fold fold_4: Target size (torch.Size([128, 2])) must be the same as input size (torch.Size([128, 1]))\n",
      "Using 17 features: ['TCW', 'TCLW', 'R250', 'R500', 'R850', 'U850', 'V850', 'EWSS', 'KX', 'CAPE', 'SSHF', 'PEV', 'AWS_lag4', 'AWS_lag12', 'AWS_lag1', 'AWS_rollmean_3', 'AWS_rollstd_3']\n"
     ]
    },
    {
     "name": "stderr",
     "output_type": "stream",
     "text": [
      "[I 2025-05-06 17:46:57,245] Trial 16 finished with value: inf and parameters: {'hidden_size': 106, 'num_layers': 2, 'dropout': 0.0889842834079008, 'lr': 0.0034550742488501786, 'time_step_in': 18, 'time_step_out': 2, 'stride': 2, 'binary_weight': 1.4610031579569769, 'intensity_weight': 1.5918565370938311, 'regression_weight': 1.0817084125323375, 'rain_threshold': 0.1288473035078038, 'num_lags': 3, 'lag_0': 4, 'lag_1': 12, 'lag_2': 1, 'num_windows': 1, 'window_0': 3}. Best is trial 11 with value: 0.487163245677948.\n"
     ]
    },
    {
     "name": "stdout",
     "output_type": "stream",
     "text": [
      " Data shapes - Train: torch.Size([79794, 18, 17]), Val: torch.Size([13585, 18, 17]), Test: torch.Size([10915, 18, 17])\n",
      "Error in fold fold_5: Target size (torch.Size([128, 2])) must be the same as input size (torch.Size([128, 1]))\n",
      "Using 16 features: ['TCW', 'TCLW', 'R250', 'R500', 'R850', 'U850', 'V850', 'EWSS', 'KX', 'CAPE', 'SSHF', 'PEV', 'AWS_lag2', 'AWS_lag5', 'AWS_rollmean_16', 'AWS_rollstd_16']\n",
      " Data shapes - Train: torch.Size([22440, 27, 16]), Val: torch.Size([25918, 27, 16]), Test: torch.Size([22178, 27, 16])\n",
      "Error in fold fold_1: Target size (torch.Size([128, 6])) must be the same as input size (torch.Size([128, 1]))\n"
     ]
    },
    {
     "name": "stderr",
     "output_type": "stream",
     "text": [
      "/usr/local/lib/python3.10/dist-packages/torch/nn/modules/rnn.py:123: UserWarning: dropout option adds dropout after all but last recurrent layer, so non-zero dropout expects num_layers greater than 1, but got dropout=0.22661409355552875 and num_layers=1\n",
      "  warnings.warn(\n"
     ]
    },
    {
     "name": "stdout",
     "output_type": "stream",
     "text": [
      "Using 16 features: ['TCW', 'TCLW', 'R250', 'R500', 'R850', 'U850', 'V850', 'EWSS', 'KX', 'CAPE', 'SSHF', 'PEV', 'AWS_lag2', 'AWS_lag5', 'AWS_rollmean_16', 'AWS_rollstd_16']\n",
      " Data shapes - Train: torch.Size([55552, 27, 16]), Val: torch.Size([26051, 27, 16]), Test: torch.Size([21315, 27, 16])\n",
      "Error in fold fold_2: Target size (torch.Size([128, 6])) must be the same as input size (torch.Size([128, 1]))\n"
     ]
    },
    {
     "name": "stderr",
     "output_type": "stream",
     "text": [
      "/usr/local/lib/python3.10/dist-packages/torch/nn/modules/rnn.py:123: UserWarning: dropout option adds dropout after all but last recurrent layer, so non-zero dropout expects num_layers greater than 1, but got dropout=0.22661409355552875 and num_layers=1\n",
      "  warnings.warn(\n"
     ]
    },
    {
     "name": "stdout",
     "output_type": "stream",
     "text": [
      "Using 16 features: ['TCW', 'TCLW', 'R250', 'R500', 'R850', 'U850', 'V850', 'EWSS', 'KX', 'CAPE', 'SSHF', 'PEV', 'AWS_lag2', 'AWS_lag5', 'AWS_rollmean_16', 'AWS_rollstd_16']\n",
      " Data shapes - Train: torch.Size([88672, 27, 16]), Val: torch.Size([25714, 27, 16]), Test: torch.Size([20263, 27, 16])\n",
      "Error in fold fold_3: Target size (torch.Size([128, 6])) must be the same as input size (torch.Size([128, 1]))\n"
     ]
    },
    {
     "name": "stderr",
     "output_type": "stream",
     "text": [
      "/usr/local/lib/python3.10/dist-packages/torch/nn/modules/rnn.py:123: UserWarning: dropout option adds dropout after all but last recurrent layer, so non-zero dropout expects num_layers greater than 1, but got dropout=0.22661409355552875 and num_layers=1\n",
      "  warnings.warn(\n"
     ]
    },
    {
     "name": "stdout",
     "output_type": "stream",
     "text": [
      "Using 16 features: ['TCW', 'TCLW', 'R250', 'R500', 'R850', 'U850', 'V850', 'EWSS', 'KX', 'CAPE', 'SSHF', 'PEV', 'AWS_lag2', 'AWS_lag5', 'AWS_rollmean_16', 'AWS_rollstd_16']\n",
      " Data shapes - Train: torch.Size([121792, 27, 16]), Val: torch.Size([24640, 27, 16]), Test: torch.Size([19255, 27, 16])\n",
      "Error in fold fold_4: Target size (torch.Size([128, 6])) must be the same as input size (torch.Size([128, 1]))\n"
     ]
    },
    {
     "name": "stderr",
     "output_type": "stream",
     "text": [
      "/usr/local/lib/python3.10/dist-packages/torch/nn/modules/rnn.py:123: UserWarning: dropout option adds dropout after all but last recurrent layer, so non-zero dropout expects num_layers greater than 1, but got dropout=0.22661409355552875 and num_layers=1\n",
      "  warnings.warn(\n"
     ]
    },
    {
     "name": "stdout",
     "output_type": "stream",
     "text": [
      "Using 16 features: ['TCW', 'TCLW', 'R250', 'R500', 'R850', 'U850', 'V850', 'EWSS', 'KX', 'CAPE', 'SSHF', 'PEV', 'AWS_lag2', 'AWS_lag5', 'AWS_rollmean_16', 'AWS_rollstd_16']\n"
     ]
    },
    {
     "name": "stderr",
     "output_type": "stream",
     "text": [
      "/usr/local/lib/python3.10/dist-packages/torch/nn/modules/rnn.py:123: UserWarning: dropout option adds dropout after all but last recurrent layer, so non-zero dropout expects num_layers greater than 1, but got dropout=0.22661409355552875 and num_layers=1\n",
      "  warnings.warn(\n",
      "[I 2025-05-06 17:48:04,712] Trial 17 finished with value: inf and parameters: {'hidden_size': 161, 'num_layers': 1, 'dropout': 0.22661409355552875, 'lr': 0.009180354240095523, 'time_step_in': 27, 'time_step_out': 6, 'stride': 1, 'binary_weight': 1.8252006134182985, 'intensity_weight': 1.9911803659200342, 'regression_weight': 1.5014498854391087, 'rain_threshold': 0.17531344764121315, 'num_lags': 2, 'lag_0': 2, 'lag_1': 5, 'num_windows': 1, 'window_0': 16}. Best is trial 11 with value: 0.487163245677948.\n"
     ]
    },
    {
     "name": "stdout",
     "output_type": "stream",
     "text": [
      " Data shapes - Train: torch.Size([154912, 27, 16]), Val: torch.Size([23398, 27, 16]), Test: torch.Size([18064, 27, 16])\n",
      "Error in fold fold_5: Target size (torch.Size([128, 6])) must be the same as input size (torch.Size([128, 1]))\n",
      "Using 17 features: ['TCW', 'TCLW', 'R250', 'R500', 'R850', 'U850', 'V850', 'EWSS', 'KX', 'CAPE', 'SSHF', 'PEV', 'AWS_lag4', 'AWS_lag10', 'AWS_lag4', 'AWS_rollmean_6', 'AWS_rollstd_6']\n",
      " Data shapes - Train: torch.Size([14556, 12, 17]), Val: torch.Size([15200, 12, 17]), Test: torch.Size([12847, 12, 17])\n"
     ]
    },
    {
     "name": "stderr",
     "output_type": "stream",
     "text": [
      "/usr/local/lib/python3.10/dist-packages/torch/nn/modules/rnn.py:123: UserWarning: dropout option adds dropout after all but last recurrent layer, so non-zero dropout expects num_layers greater than 1, but got dropout=0.47757323981011207 and num_layers=1\n",
      "  warnings.warn(\n"
     ]
    },
    {
     "name": "stdout",
     "output_type": "stream",
     "text": [
      "   Epoch 1/5, Total Loss: 3.7291, Binary: 0.6944, Intensity: 0.4145, Regression: 1.2415\n",
      "   Epoch 2/5, Total Loss: 2.9634, Binary: 0.6919, Intensity: 0.1262, Regression: 1.0885\n",
      "   Epoch 3/5, Total Loss: 2.8518, Binary: 0.6891, Intensity: 0.1147, Regression: 1.0373\n",
      "   Epoch 4/5, Total Loss: 2.7891, Binary: 0.6629, Intensity: 0.1083, Regression: 1.0265\n",
      "   Epoch 5/5, Total Loss: 2.4559, Binary: 0.4778, Intensity: 0.0975, Regression: 0.9794\n",
      "Using 17 features: ['TCW', 'TCLW', 'R250', 'R500', 'R850', 'U850', 'V850', 'EWSS', 'KX', 'CAPE', 'SSHF', 'PEV', 'AWS_lag4', 'AWS_lag10', 'AWS_lag4', 'AWS_rollmean_6', 'AWS_rollstd_6']\n",
      " Data shapes - Train: torch.Size([31116, 12, 17]), Val: torch.Size([15183, 12, 17]), Test: torch.Size([12680, 12, 17])\n"
     ]
    },
    {
     "name": "stderr",
     "output_type": "stream",
     "text": [
      "/usr/local/lib/python3.10/dist-packages/torch/nn/modules/rnn.py:123: UserWarning: dropout option adds dropout after all but last recurrent layer, so non-zero dropout expects num_layers greater than 1, but got dropout=0.47757323981011207 and num_layers=1\n",
      "  warnings.warn(\n"
     ]
    },
    {
     "name": "stdout",
     "output_type": "stream",
     "text": [
      "   Epoch 1/5, Total Loss: 3.4515, Binary: 0.6843, Intensity: 0.2610, Regression: 1.2422\n",
      "   Epoch 2/5, Total Loss: 2.6759, Binary: 0.4809, Intensity: 0.1176, Regression: 1.0850\n",
      "   Epoch 3/5, Total Loss: 2.4721, Binary: 0.4102, Intensity: 0.1085, Regression: 1.0275\n",
      "   Epoch 4/5, Total Loss: 2.4010, Binary: 0.3943, Intensity: 0.1050, Regression: 1.0013\n",
      "   Epoch 5/5, Total Loss: 2.3724, Binary: 0.3880, Intensity: 0.1028, Regression: 0.9915\n",
      "Using 17 features: ['TCW', 'TCLW', 'R250', 'R500', 'R850', 'U850', 'V850', 'EWSS', 'KX', 'CAPE', 'SSHF', 'PEV', 'AWS_lag4', 'AWS_lag10', 'AWS_lag4', 'AWS_rollmean_6', 'AWS_rollstd_6']\n",
      " Data shapes - Train: torch.Size([47676, 12, 17]), Val: torch.Size([15018, 12, 17]), Test: torch.Size([12430, 12, 17])\n"
     ]
    },
    {
     "name": "stderr",
     "output_type": "stream",
     "text": [
      "/usr/local/lib/python3.10/dist-packages/torch/nn/modules/rnn.py:123: UserWarning: dropout option adds dropout after all but last recurrent layer, so non-zero dropout expects num_layers greater than 1, but got dropout=0.47757323981011207 and num_layers=1\n",
      "  warnings.warn(\n"
     ]
    },
    {
     "name": "stdout",
     "output_type": "stream",
     "text": [
      "   Epoch 1/5, Total Loss: 3.0551, Binary: 0.6177, Intensity: 0.2023, Regression: 1.1196\n",
      "   Epoch 2/5, Total Loss: 2.4590, Binary: 0.4245, Intensity: 0.1085, Regression: 1.0094\n",
      "   Epoch 3/5, Total Loss: 2.3369, Binary: 0.4022, Intensity: 0.1043, Regression: 0.9589\n",
      "   Epoch 4/5, Total Loss: 2.2829, Binary: 0.3902, Intensity: 0.1010, Regression: 0.9397\n",
      "   Epoch 5/5, Total Loss: 2.2449, Binary: 0.3795, Intensity: 0.1000, Regression: 0.9264\n",
      "Using 17 features: ['TCW', 'TCLW', 'R250', 'R500', 'R850', 'U850', 'V850', 'EWSS', 'KX', 'CAPE', 'SSHF', 'PEV', 'AWS_lag4', 'AWS_lag10', 'AWS_lag4', 'AWS_rollmean_6', 'AWS_rollstd_6']\n",
      " Data shapes - Train: torch.Size([64236, 12, 17]), Val: torch.Size([14872, 12, 17]), Test: torch.Size([12264, 12, 17])\n"
     ]
    },
    {
     "name": "stderr",
     "output_type": "stream",
     "text": [
      "/usr/local/lib/python3.10/dist-packages/torch/nn/modules/rnn.py:123: UserWarning: dropout option adds dropout after all but last recurrent layer, so non-zero dropout expects num_layers greater than 1, but got dropout=0.47757323981011207 and num_layers=1\n",
      "  warnings.warn(\n"
     ]
    },
    {
     "name": "stdout",
     "output_type": "stream",
     "text": [
      "   Epoch 1/5, Total Loss: 3.1372, Binary: 0.6374, Intensity: 0.2038, Regression: 1.1514\n",
      "   Epoch 2/5, Total Loss: 2.5628, Binary: 0.4533, Intensity: 0.1123, Regression: 1.0448\n",
      "   Epoch 3/5, Total Loss: 2.4366, Binary: 0.4259, Intensity: 0.1070, Regression: 0.9968\n",
      "   Epoch 4/5, Total Loss: 2.3917, Binary: 0.4134, Intensity: 0.1052, Regression: 0.9817\n",
      "   Epoch 5/5, Total Loss: 2.3676, Binary: 0.4048, Intensity: 0.1037, Regression: 0.9756\n",
      "Using 17 features: ['TCW', 'TCLW', 'R250', 'R500', 'R850', 'U850', 'V850', 'EWSS', 'KX', 'CAPE', 'SSHF', 'PEV', 'AWS_lag4', 'AWS_lag10', 'AWS_lag4', 'AWS_rollmean_6', 'AWS_rollstd_6']\n",
      " Data shapes - Train: torch.Size([80796, 12, 17]), Val: torch.Size([14623, 12, 17]), Test: torch.Size([12031, 12, 17])\n"
     ]
    },
    {
     "name": "stderr",
     "output_type": "stream",
     "text": [
      "/usr/local/lib/python3.10/dist-packages/torch/nn/modules/rnn.py:123: UserWarning: dropout option adds dropout after all but last recurrent layer, so non-zero dropout expects num_layers greater than 1, but got dropout=0.47757323981011207 and num_layers=1\n",
      "  warnings.warn(\n"
     ]
    },
    {
     "name": "stdout",
     "output_type": "stream",
     "text": [
      "   Epoch 1/5, Total Loss: 3.5924, Binary: 0.5687, Intensity: 0.2235, Regression: 1.4468\n",
      "   Epoch 2/5, Total Loss: 3.0674, Binary: 0.4491, Intensity: 0.1444, Regression: 1.3091\n",
      "   Epoch 3/5, Total Loss: 2.9476, Binary: 0.4242, Intensity: 0.1394, Regression: 1.2627\n",
      "   Epoch 4/5, Total Loss: 2.8794, Binary: 0.4083, Intensity: 0.1369, Regression: 1.2373\n",
      "   Epoch 5/5, Total Loss: 2.8566, Binary: 0.3961, Intensity: 0.1354, Regression: 1.2345\n"
     ]
    },
    {
     "name": "stderr",
     "output_type": "stream",
     "text": [
      "[I 2025-05-06 17:49:12,729] Trial 18 finished with value: 0.5551138103008271 and parameters: {'hidden_size': 123, 'num_layers': 1, 'dropout': 0.47757323981011207, 'lr': 0.00035529521440937626, 'time_step_in': 12, 'time_step_out': 1, 'stride': 2, 'binary_weight': 1.2627909479862138, 'intensity_weight': 1.7326954971493573, 'regression_weight': 1.7188498000251977, 'rain_threshold': 0.18165187276486935, 'num_lags': 3, 'lag_0': 4, 'lag_1': 10, 'lag_2': 4, 'num_windows': 1, 'window_0': 6}. Best is trial 11 with value: 0.487163245677948.\n"
     ]
    },
    {
     "name": "stdout",
     "output_type": "stream",
     "text": [
      "Using 19 features: ['TCW', 'TCLW', 'R250', 'R500', 'R850', 'U850', 'V850', 'EWSS', 'KX', 'CAPE', 'SSHF', 'PEV', 'AWS_lag1', 'AWS_lag5', 'AWS_lag11', 'AWS_rollmean_9', 'AWS_rollstd_9', 'AWS_rollmean_11', 'AWS_rollstd_11']\n",
      " Data shapes - Train: torch.Size([24771, 24, 19]), Val: torch.Size([27393, 24, 19]), Test: torch.Size([23344, 24, 19])\n",
      "Error in fold fold_1: Target size (torch.Size([128, 2])) must be the same as input size (torch.Size([128, 1]))\n",
      "Using 19 features: ['TCW', 'TCLW', 'R250', 'R500', 'R850', 'U850', 'V850', 'EWSS', 'KX', 'CAPE', 'SSHF', 'PEV', 'AWS_lag1', 'AWS_lag5', 'AWS_lag11', 'AWS_rollmean_9', 'AWS_rollstd_9', 'AWS_rollmean_11', 'AWS_rollstd_11']\n",
      " Data shapes - Train: torch.Size([57890, 24, 19]), Val: torch.Size([27413, 24, 19]), Test: torch.Size([22651, 24, 19])\n",
      "Error in fold fold_2: Target size (torch.Size([128, 2])) must be the same as input size (torch.Size([128, 1]))\n",
      "Using 19 features: ['TCW', 'TCLW', 'R250', 'R500', 'R850', 'U850', 'V850', 'EWSS', 'KX', 'CAPE', 'SSHF', 'PEV', 'AWS_lag1', 'AWS_lag5', 'AWS_lag11', 'AWS_rollmean_9', 'AWS_rollstd_9', 'AWS_rollmean_11', 'AWS_rollstd_11']\n",
      " Data shapes - Train: torch.Size([91010, 24, 19]), Val: torch.Size([27100, 24, 19]), Test: torch.Size([21720, 24, 19])\n",
      "Error in fold fold_3: Target size (torch.Size([128, 2])) must be the same as input size (torch.Size([128, 1]))\n",
      "Using 19 features: ['TCW', 'TCLW', 'R250', 'R500', 'R850', 'U850', 'V850', 'EWSS', 'KX', 'CAPE', 'SSHF', 'PEV', 'AWS_lag1', 'AWS_lag5', 'AWS_lag11', 'AWS_rollmean_9', 'AWS_rollstd_9', 'AWS_rollmean_11', 'AWS_rollstd_11']\n",
      " Data shapes - Train: torch.Size([124130, 24, 19]), Val: torch.Size([26257, 24, 19]), Test: torch.Size([20900, 24, 19])\n",
      "Error in fold fold_4: Target size (torch.Size([128, 2])) must be the same as input size (torch.Size([128, 1]))\n",
      "Using 19 features: ['TCW', 'TCLW', 'R250', 'R500', 'R850', 'U850', 'V850', 'EWSS', 'KX', 'CAPE', 'SSHF', 'PEV', 'AWS_lag1', 'AWS_lag5', 'AWS_lag11', 'AWS_rollmean_9', 'AWS_rollstd_9', 'AWS_rollmean_11', 'AWS_rollstd_11']\n"
     ]
    },
    {
     "name": "stderr",
     "output_type": "stream",
     "text": [
      "[I 2025-05-06 17:50:25,087] Trial 19 finished with value: inf and parameters: {'hidden_size': 88, 'num_layers': 2, 'dropout': 0.2781154359374327, 'lr': 0.0051867347615023466, 'time_step_in': 24, 'time_step_out': 2, 'stride': 1, 'binary_weight': 1.5845857668101548, 'intensity_weight': 1.4070743210873489, 'regression_weight': 1.3972515564664847, 'rain_threshold': 0.1629277083506936, 'num_lags': 3, 'lag_0': 1, 'lag_1': 5, 'lag_2': 11, 'num_windows': 2, 'window_0': 9, 'window_1': 11}. Best is trial 11 with value: 0.487163245677948.\n"
     ]
    },
    {
     "name": "stdout",
     "output_type": "stream",
     "text": [
      " Data shapes - Train: torch.Size([157250, 24, 19]), Val: torch.Size([25323, 24, 19]), Test: torch.Size([19953, 24, 19])\n",
      "Error in fold fold_5: Target size (torch.Size([128, 2])) must be the same as input size (torch.Size([128, 1]))\n",
      " Best parameters for 2019-10:\n",
      "  hidden_size: 137\n",
      "  num_layers: 2\n",
      "  dropout: 0.21899601855488443\n",
      "  lr: 0.0053016964010182445\n",
      "  time_step_in: 12\n",
      "  time_step_out: 1\n",
      "  stride: 1\n",
      "  binary_weight: 1.9784717420650746\n",
      "  intensity_weight: 1.8442010975316903\n",
      "  regression_weight: 1.3388887814642736\n",
      "  rain_threshold: 0.1982964237317818\n",
      "  num_lags: 3\n",
      "  lag_0: 3\n",
      "  lag_1: 12\n",
      "  lag_2: 1\n",
      "  num_windows: 1\n",
      "  window_0: 3\n",
      " Best parameters saved to hybrid_best_params_2019-10.json\n",
      "\n",
      " Final evaluation on 2019-10, fold_1 test set\n",
      "\n",
      " Training hybrid model for 2019-10, fold_1 with best parameters\n",
      "Using 17 features: ['TCW', 'TCLW', 'R250', 'R500', 'R850', 'U850', 'V850', 'EWSS', 'KX', 'CAPE', 'SSHF', 'PEV', 'AWS_lag3', 'AWS_lag12', 'AWS_lag1', 'AWS_rollmean_3', 'AWS_rollstd_3']\n",
      " Data shapes - Train: torch.Size([29112, 12, 17]), Val: torch.Size([30279, 12, 17]), Test: torch.Size([25616, 12, 17])\n",
      "====== Training hybrid model on train set...\n",
      "   Epoch 1/15, Total Loss: 2.8224, Binary: 0.5850, Intensity: 0.1260, Regression: 1.0700\n",
      "   Epoch 2/15, Total Loss: 2.1090, Binary: 0.3377, Intensity: 0.0938, Regression: 0.9469\n",
      "   Epoch 3/15, Total Loss: 2.0568, Binary: 0.3227, Intensity: 0.0912, Regression: 0.9337\n",
      "   Epoch 4/15, Total Loss: 2.0241, Binary: 0.3185, Intensity: 0.0902, Regression: 0.9170\n",
      "   Epoch 5/15, Total Loss: 2.0039, Binary: 0.3153, Intensity: 0.0896, Regression: 0.9074\n",
      "   Epoch 6/15, Total Loss: 1.9612, Binary: 0.3106, Intensity: 0.0875, Regression: 0.8853\n",
      "   Epoch 7/15, Total Loss: 1.9366, Binary: 0.3060, Intensity: 0.0854, Regression: 0.8765\n",
      "   Epoch 8/15, Total Loss: 1.9192, Binary: 0.3047, Intensity: 0.0854, Regression: 0.8655\n",
      "   Epoch 9/15, Total Loss: 1.8721, Binary: 0.2997, Intensity: 0.0837, Regression: 0.8401\n",
      "   Epoch 10/15, Total Loss: 1.8478, Binary: 0.3013, Intensity: 0.0823, Regression: 0.8215\n",
      "   Epoch 11/15, Total Loss: 1.8318, Binary: 0.3022, Intensity: 0.0821, Regression: 0.8085\n",
      "   Epoch 12/15, Total Loss: 1.8329, Binary: 0.3001, Intensity: 0.0819, Regression: 0.8127\n",
      "   Epoch 13/15, Total Loss: 1.7973, Binary: 0.2989, Intensity: 0.0801, Regression: 0.7903\n",
      "   Epoch 14/15, Total Loss: 1.7556, Binary: 0.2988, Intensity: 0.0783, Regression: 0.7617\n",
      "   Epoch 15/15, Total Loss: 1.7596, Binary: 0.2976, Intensity: 0.0791, Regression: 0.7656\n",
      "====== Evaluating on validation set...\n",
      "  Val RMSE: 0.5706, Bias: -0.0230, R²: 0.3946, CSI: 0.7217\n",
      "  Binary Accuracy: 0.8761, Intensity Accuracy: 0.9770\n",
      "====== Evaluating on test set...\n",
      "  Test RMSE: 0.3880, Bias: -0.0218, R²: 0.7337, CSI: 0.7756\n",
      "  Binary Accuracy: 0.9097, Intensity Accuracy: 0.9834\n",
      " Model saved to hybrid_model_2019-10_fold_1.pt\n",
      "\n",
      " Final evaluation on 2019-10, fold_2 test set\n",
      "\n",
      " Training hybrid model for 2019-10, fold_2 with best parameters\n",
      "Using 17 features: ['TCW', 'TCLW', 'R250', 'R500', 'R850', 'U850', 'V850', 'EWSS', 'KX', 'CAPE', 'SSHF', 'PEV', 'AWS_lag3', 'AWS_lag12', 'AWS_lag1', 'AWS_rollmean_3', 'AWS_rollstd_3']\n",
      " Data shapes - Train: torch.Size([62232, 12, 17]), Val: torch.Size([30287, 12, 17]), Test: torch.Size([25292, 12, 17])\n",
      "====== Training hybrid model on train set...\n",
      "   Epoch 1/15, Total Loss: 2.4084, Binary: 0.3884, Intensity: 0.1197, Regression: 1.0599\n",
      "   Epoch 2/15, Total Loss: 2.1183, Binary: 0.3215, Intensity: 0.1009, Regression: 0.9680\n",
      "   Epoch 3/15, Total Loss: 2.1092, Binary: 0.3161, Intensity: 0.1006, Regression: 0.9696\n",
      "   Epoch 4/15, Total Loss: 2.0681, Binary: 0.3061, Intensity: 0.0980, Regression: 0.9573\n",
      "   Epoch 5/15, Total Loss: 2.0413, Binary: 0.3078, Intensity: 0.0976, Regression: 0.9353\n",
      "   Epoch 6/15, Total Loss: 2.0117, Binary: 0.3008, Intensity: 0.0958, Regression: 0.9261\n",
      "   Epoch 7/15, Total Loss: 2.0031, Binary: 0.3012, Intensity: 0.0955, Regression: 0.9195\n",
      "   Epoch 8/15, Total Loss: 1.9544, Binary: 0.3022, Intensity: 0.0935, Regression: 0.8844\n",
      "   Epoch 9/15, Total Loss: 1.9398, Binary: 0.2988, Intensity: 0.0927, Regression: 0.8796\n",
      "   Epoch 10/15, Total Loss: 1.9459, Binary: 0.2992, Intensity: 0.0927, Regression: 0.8836\n",
      "   Epoch 11/15, Total Loss: 1.9097, Binary: 0.2948, Intensity: 0.0920, Regression: 0.8640\n",
      "   Epoch 12/15, Total Loss: 1.8848, Binary: 0.2921, Intensity: 0.0903, Regression: 0.8517\n",
      "   Epoch 13/15, Total Loss: 1.8658, Binary: 0.2958, Intensity: 0.0906, Regression: 0.8317\n",
      "   Epoch 14/15, Total Loss: 1.8582, Binary: 0.2933, Intensity: 0.0894, Regression: 0.8312\n",
      "   Epoch 15/15, Total Loss: 1.8139, Binary: 0.2911, Intensity: 0.0874, Regression: 0.8042\n",
      "====== Evaluating on validation set...\n",
      "  Val RMSE: 0.5773, Bias: -0.0104, R²: 0.4260, CSI: 0.7423\n",
      "  Binary Accuracy: 0.8805, Intensity Accuracy: 0.9784\n",
      "====== Evaluating on test set...\n",
      "  Test RMSE: 0.5362, Bias: -0.0172, R²: 0.6775, CSI: 0.7481\n",
      "  Binary Accuracy: 0.9107, Intensity Accuracy: 0.9705\n",
      " Model saved to hybrid_model_2019-10_fold_2.pt\n",
      "\n",
      " Final evaluation on 2019-10, fold_3 test set\n",
      "\n",
      " Training hybrid model for 2019-10, fold_3 with best parameters\n",
      "Using 17 features: ['TCW', 'TCLW', 'R250', 'R500', 'R850', 'U850', 'V850', 'EWSS', 'KX', 'CAPE', 'SSHF', 'PEV', 'AWS_lag3', 'AWS_lag12', 'AWS_lag1', 'AWS_rollmean_3', 'AWS_rollstd_3']\n",
      " Data shapes - Train: torch.Size([95352, 12, 17]), Val: torch.Size([29986, 12, 17]), Test: torch.Size([24774, 12, 17])\n",
      "====== Training hybrid model on train set...\n",
      "   Epoch 1/15, Total Loss: 2.3148, Binary: 0.3803, Intensity: 0.1148, Regression: 1.0088\n",
      "   Epoch 2/15, Total Loss: 2.1152, Binary: 0.3307, Intensity: 0.1002, Regression: 0.9531\n",
      "   Epoch 3/15, Total Loss: 2.0738, Binary: 0.3245, Intensity: 0.0978, Regression: 0.9346\n",
      "   Epoch 4/15, Total Loss: 2.0448, Binary: 0.3214, Intensity: 0.0960, Regression: 0.9201\n",
      "   Epoch 5/15, Total Loss: 2.0322, Binary: 0.3203, Intensity: 0.0958, Regression: 0.9126\n",
      "   Epoch 6/15, Total Loss: 2.0088, Binary: 0.3170, Intensity: 0.0938, Regression: 0.9027\n",
      "   Epoch 7/15, Total Loss: 2.0031, Binary: 0.3158, Intensity: 0.0944, Regression: 0.8994\n",
      "   Epoch 8/15, Total Loss: 1.9827, Binary: 0.3147, Intensity: 0.0925, Regression: 0.8884\n",
      "   Epoch 9/15, Total Loss: 1.9723, Binary: 0.3139, Intensity: 0.0932, Regression: 0.8809\n",
      "   Epoch 10/15, Total Loss: 1.9353, Binary: 0.3112, Intensity: 0.0912, Regression: 0.8598\n",
      "   Epoch 11/15, Total Loss: 1.9328, Binary: 0.3108, Intensity: 0.0908, Regression: 0.8592\n",
      "   Epoch 12/15, Total Loss: 1.9195, Binary: 0.3073, Intensity: 0.0899, Regression: 0.8557\n",
      "   Epoch 13/15, Total Loss: 1.8953, Binary: 0.3079, Intensity: 0.0891, Regression: 0.8379\n",
      "   Epoch 14/15, Total Loss: 1.8811, Binary: 0.3080, Intensity: 0.0881, Regression: 0.8285\n",
      "   Epoch 15/15, Total Loss: 1.8555, Binary: 0.3036, Intensity: 0.0877, Regression: 0.8164\n",
      "====== Evaluating on validation set...\n",
      "  Val RMSE: 0.5001, Bias: 0.0068, R²: 0.5453, CSI: 0.7001\n",
      "  Binary Accuracy: 0.8717, Intensity Accuracy: 0.9819\n",
      "====== Evaluating on test set...\n",
      "  Test RMSE: 0.5063, Bias: -0.0043, R²: 0.7656, CSI: 0.7372\n",
      "  Binary Accuracy: 0.9001, Intensity Accuracy: 0.9672\n",
      " Model saved to hybrid_model_2019-10_fold_3.pt\n",
      "\n",
      " Final evaluation on 2019-10, fold_4 test set\n",
      "\n",
      " Training hybrid model for 2019-10, fold_4 with best parameters\n",
      "Using 17 features: ['TCW', 'TCLW', 'R250', 'R500', 'R850', 'U850', 'V850', 'EWSS', 'KX', 'CAPE', 'SSHF', 'PEV', 'AWS_lag3', 'AWS_lag12', 'AWS_lag1', 'AWS_rollmean_3', 'AWS_rollstd_3']\n",
      " Data shapes - Train: torch.Size([128472, 12, 17]), Val: torch.Size([29581, 12, 17]), Test: torch.Size([24376, 12, 17])\n",
      "====== Training hybrid model on train set...\n",
      "   Epoch 1/15, Total Loss: 2.4121, Binary: 0.3925, Intensity: 0.1143, Regression: 1.0640\n",
      "   Epoch 2/15, Total Loss: 2.2185, Binary: 0.3432, Intensity: 0.1028, Regression: 1.0083\n",
      "   Epoch 3/15, Total Loss: 2.1916, Binary: 0.3374, Intensity: 0.1015, Regression: 0.9985\n",
      "   Epoch 4/15, Total Loss: 2.1647, Binary: 0.3322, Intensity: 0.1005, Regression: 0.9875\n",
      "   Epoch 5/15, Total Loss: 2.1377, Binary: 0.3297, Intensity: 0.0993, Regression: 0.9727\n",
      "   Epoch 6/15, Total Loss: 2.1273, Binary: 0.3283, Intensity: 0.0983, Regression: 0.9683\n",
      "   Epoch 7/15, Total Loss: 2.1057, Binary: 0.3239, Intensity: 0.0975, Regression: 0.9598\n",
      "   Epoch 8/15, Total Loss: 2.0987, Binary: 0.3232, Intensity: 0.0974, Regression: 0.9557\n",
      "   Epoch 9/15, Total Loss: 2.0722, Binary: 0.3227, Intensity: 0.0959, Regression: 0.9388\n",
      "   Epoch 10/15, Total Loss: 2.0593, Binary: 0.3210, Intensity: 0.0957, Regression: 0.9319\n",
      "   Epoch 11/15, Total Loss: 2.0472, Binary: 0.3196, Intensity: 0.0953, Regression: 0.9255\n",
      "   Epoch 12/15, Total Loss: 2.0273, Binary: 0.3184, Intensity: 0.0945, Regression: 0.9135\n",
      "   Epoch 13/15, Total Loss: 2.0083, Binary: 0.3160, Intensity: 0.0944, Regression: 0.9030\n",
      "   Epoch 14/15, Total Loss: 1.9992, Binary: 0.3162, Intensity: 0.0933, Regression: 0.8974\n",
      "   Epoch 15/15, Total Loss: 1.9851, Binary: 0.3158, Intensity: 0.0930, Regression: 0.8879\n",
      "====== Evaluating on validation set...\n",
      "  Val RMSE: 0.3786, Bias: -0.0056, R²: 0.6300, CSI: 0.6979\n",
      "  Binary Accuracy: 0.8594, Intensity Accuracy: 0.9883\n",
      "====== Evaluating on test set...\n",
      "  Test RMSE: 0.5425, Bias: -0.0228, R²: 0.7328, CSI: 0.8047\n",
      "  Binary Accuracy: 0.9170, Intensity Accuracy: 0.9683\n",
      " Model saved to hybrid_model_2019-10_fold_4.pt\n",
      "\n",
      " Final evaluation on 2019-10, fold_5 test set\n",
      "\n",
      " Training hybrid model for 2019-10, fold_5 with best parameters\n",
      "Using 17 features: ['TCW', 'TCLW', 'R250', 'R500', 'R850', 'U850', 'V850', 'EWSS', 'KX', 'CAPE', 'SSHF', 'PEV', 'AWS_lag3', 'AWS_lag12', 'AWS_lag1', 'AWS_rollmean_3', 'AWS_rollstd_3']\n",
      " Data shapes - Train: torch.Size([161592, 12, 17]), Val: torch.Size([29124, 12, 17]), Test: torch.Size([23878, 12, 17])\n",
      "====== Training hybrid model on train set...\n",
      "   Epoch 1/15, Total Loss: 2.9345, Binary: 0.3807, Intensity: 0.1555, Regression: 1.4151\n",
      "   Epoch 2/15, Total Loss: 2.6828, Binary: 0.3167, Intensity: 0.1421, Regression: 1.3400\n",
      "   Epoch 3/15, Total Loss: 2.6303, Binary: 0.3051, Intensity: 0.1390, Regression: 1.3222\n",
      "   Epoch 4/15, Total Loss: 2.5872, Binary: 0.2993, Intensity: 0.1371, Regression: 1.3013\n",
      "   Epoch 5/15, Total Loss: 2.5566, Binary: 0.2928, Intensity: 0.1368, Regression: 1.2885\n",
      "   Epoch 6/15, Total Loss: 2.5262, Binary: 0.2891, Intensity: 0.1337, Regression: 1.2754\n",
      "   Epoch 7/15, Total Loss: 2.5030, Binary: 0.2848, Intensity: 0.1335, Regression: 1.2646\n",
      "   Epoch 8/15, Total Loss: 2.4599, Binary: 0.2836, Intensity: 0.1315, Regression: 1.2370\n",
      "   Epoch 9/15, Total Loss: 2.4405, Binary: 0.2818, Intensity: 0.1304, Regression: 1.2267\n",
      "   Epoch 10/15, Total Loss: 2.4191, Binary: 0.2810, Intensity: 0.1298, Regression: 1.2127\n",
      "   Epoch 11/15, Total Loss: 2.3784, Binary: 0.2773, Intensity: 0.1278, Regression: 1.1906\n",
      "   Epoch 12/15, Total Loss: 2.3578, Binary: 0.2755, Intensity: 0.1265, Regression: 1.1796\n",
      "   Epoch 13/15, Total Loss: 2.3583, Binary: 0.2782, Intensity: 0.1268, Regression: 1.1755\n",
      "   Epoch 14/15, Total Loss: 2.3143, Binary: 0.2737, Intensity: 0.1251, Regression: 1.1518\n",
      "   Epoch 15/15, Total Loss: 2.3187, Binary: 0.2761, Intensity: 0.1246, Regression: 1.1522\n",
      "====== Evaluating on validation set...\n",
      "  Val RMSE: 0.4566, Bias: 0.0017, R²: 0.5919, CSI: 0.6583\n",
      "  Binary Accuracy: 0.8271, Intensity Accuracy: 0.9847\n",
      "====== Evaluating on test set...\n"
     ]
    },
    {
     "name": "stderr",
     "output_type": "stream",
     "text": [
      "[I 2025-05-06 17:58:38,103] A new study created in memory with name: hybrid_2020-04_study\n"
     ]
    },
    {
     "name": "stdout",
     "output_type": "stream",
     "text": [
      "  Test RMSE: 0.6913, Bias: -0.0408, R²: 0.6370, CSI: 0.7977\n",
      "  Binary Accuracy: 0.9061, Intensity Accuracy: 0.9527\n",
      " Model saved to hybrid_model_2019-10_fold_5.pt\n",
      "\n",
      " Mean test performance for 2019-10:\n",
      "  RMSE: 0.5329, Bias: -0.0214, R²: 0.7093, CSI: 0.7727\n",
      " Error during optimization for 2019-10: Invalid format specifier\n",
      "\n",
      "###### Processing month: 2020-04\n",
      " Finding optimal hyperparameters for hybrid model on 2020-04 using cross-validation...\n",
      "Using 18 features: ['TCW', 'TCLW', 'R250', 'R500', 'R850', 'U850', 'V850', 'EWSS', 'KX', 'CAPE', 'SSHF', 'PEV', 'AWS_lag3', 'AWS_lag2', 'AWS_rollmean_15', 'AWS_rollstd_15', 'AWS_rollmean_7', 'AWS_rollstd_7']\n",
      " Data shapes - Train: torch.Size([23380, 21, 18]), Val: torch.Size([23380, 21, 18]), Test: torch.Size([21094, 21, 18])\n",
      "Error in fold fold_1: Target size (torch.Size([64, 6])) must be the same as input size (torch.Size([64, 1]))\n",
      "Using 18 features: ['TCW', 'TCLW', 'R250', 'R500', 'R850', 'U850', 'V850', 'EWSS', 'KX', 'CAPE', 'SSHF', 'PEV', 'AWS_lag3', 'AWS_lag2', 'AWS_rollmean_15', 'AWS_rollstd_15', 'AWS_rollmean_7', 'AWS_rollstd_7']\n",
      " Data shapes - Train: torch.Size([55444, 21, 18]), Val: torch.Size([23380, 21, 18]), Test: torch.Size([21094, 21, 18])\n",
      "Error in fold fold_2: Target size (torch.Size([64, 6])) must be the same as input size (torch.Size([64, 1]))\n",
      "Using 18 features: ['TCW', 'TCLW', 'R250', 'R500', 'R850', 'U850', 'V850', 'EWSS', 'KX', 'CAPE', 'SSHF', 'PEV', 'AWS_lag3', 'AWS_lag2', 'AWS_rollmean_15', 'AWS_rollstd_15', 'AWS_rollmean_7', 'AWS_rollstd_7']\n",
      " Data shapes - Train: torch.Size([87508, 21, 18]), Val: torch.Size([23380, 21, 18]), Test: torch.Size([21094, 21, 18])\n",
      "Error in fold fold_3: Target size (torch.Size([64, 6])) must be the same as input size (torch.Size([64, 1]))\n",
      "Using 18 features: ['TCW', 'TCLW', 'R250', 'R500', 'R850', 'U850', 'V850', 'EWSS', 'KX', 'CAPE', 'SSHF', 'PEV', 'AWS_lag3', 'AWS_lag2', 'AWS_rollmean_15', 'AWS_rollstd_15', 'AWS_rollmean_7', 'AWS_rollstd_7']\n",
      " Data shapes - Train: torch.Size([119572, 21, 18]), Val: torch.Size([23380, 21, 18]), Test: torch.Size([21094, 21, 18])\n",
      "Error in fold fold_4: Target size (torch.Size([64, 6])) must be the same as input size (torch.Size([64, 1]))\n",
      "Using 18 features: ['TCW', 'TCLW', 'R250', 'R500', 'R850', 'U850', 'V850', 'EWSS', 'KX', 'CAPE', 'SSHF', 'PEV', 'AWS_lag3', 'AWS_lag2', 'AWS_rollmean_15', 'AWS_rollstd_15', 'AWS_rollmean_7', 'AWS_rollstd_7']\n"
     ]
    },
    {
     "name": "stderr",
     "output_type": "stream",
     "text": [
      "[I 2025-05-06 17:59:45,442] Trial 0 finished with value: inf and parameters: {'hidden_size': 142, 'num_layers': 3, 'dropout': 0.09474152576418698, 'lr': 0.0021629818762299953, 'time_step_in': 21, 'time_step_out': 6, 'stride': 1, 'binary_weight': 0.7214195554085417, 'intensity_weight': 1.9309091546091146, 'regression_weight': 1.1110015056372005, 'rain_threshold': 0.11603292516492292, 'num_lags': 2, 'lag_0': 3, 'lag_1': 2, 'num_windows': 2, 'window_0': 15, 'window_1': 7}. Best is trial 0 with value: inf.\n"
     ]
    },
    {
     "name": "stdout",
     "output_type": "stream",
     "text": [
      " Data shapes - Train: torch.Size([151636, 21, 18]), Val: torch.Size([23380, 21, 18]), Test: torch.Size([21094, 21, 18])\n",
      "Error in fold fold_5: Target size (torch.Size([64, 6])) must be the same as input size (torch.Size([64, 1]))\n",
      "Using 21 features: ['TCW', 'TCLW', 'R250', 'R500', 'R850', 'U850', 'V850', 'EWSS', 'KX', 'CAPE', 'SSHF', 'PEV', 'AWS_lag12', 'AWS_lag8', 'AWS_lag6', 'AWS_rollmean_24', 'AWS_rollstd_24', 'AWS_rollmean_10', 'AWS_rollstd_10', 'AWS_rollmean_17', 'AWS_rollstd_17']\n",
      " Data shapes - Train: torch.Size([4008, 48, 21]), Val: torch.Size([4008, 48, 21]), Test: torch.Size([3741, 48, 21])\n",
      "Error in fold fold_1: Target size (torch.Size([64, 4])) must be the same as input size (torch.Size([64, 1]))\n",
      "Using 21 features: ['TCW', 'TCLW', 'R250', 'R500', 'R850', 'U850', 'V850', 'EWSS', 'KX', 'CAPE', 'SSHF', 'PEV', 'AWS_lag12', 'AWS_lag8', 'AWS_lag6', 'AWS_rollmean_24', 'AWS_rollstd_24', 'AWS_rollmean_10', 'AWS_rollstd_10', 'AWS_rollmean_17', 'AWS_rollstd_17']\n",
      " Data shapes - Train: torch.Size([12024, 48, 21]), Val: torch.Size([4008, 48, 21]), Test: torch.Size([3741, 48, 21])\n",
      "Error in fold fold_2: Target size (torch.Size([64, 4])) must be the same as input size (torch.Size([64, 1]))\n",
      "Using 21 features: ['TCW', 'TCLW', 'R250', 'R500', 'R850', 'U850', 'V850', 'EWSS', 'KX', 'CAPE', 'SSHF', 'PEV', 'AWS_lag12', 'AWS_lag8', 'AWS_lag6', 'AWS_rollmean_24', 'AWS_rollstd_24', 'AWS_rollmean_10', 'AWS_rollstd_10', 'AWS_rollmean_17', 'AWS_rollstd_17']\n",
      " Data shapes - Train: torch.Size([20040, 48, 21]), Val: torch.Size([4008, 48, 21]), Test: torch.Size([3741, 48, 21])\n",
      "Error in fold fold_3: Target size (torch.Size([64, 4])) must be the same as input size (torch.Size([64, 1]))\n",
      "Using 21 features: ['TCW', 'TCLW', 'R250', 'R500', 'R850', 'U850', 'V850', 'EWSS', 'KX', 'CAPE', 'SSHF', 'PEV', 'AWS_lag12', 'AWS_lag8', 'AWS_lag6', 'AWS_rollmean_24', 'AWS_rollstd_24', 'AWS_rollmean_10', 'AWS_rollstd_10', 'AWS_rollmean_17', 'AWS_rollstd_17']\n",
      " Data shapes - Train: torch.Size([28056, 48, 21]), Val: torch.Size([4008, 48, 21]), Test: torch.Size([3741, 48, 21])\n",
      "Error in fold fold_4: Target size (torch.Size([64, 4])) must be the same as input size (torch.Size([64, 1]))\n",
      "Using 21 features: ['TCW', 'TCLW', 'R250', 'R500', 'R850', 'U850', 'V850', 'EWSS', 'KX', 'CAPE', 'SSHF', 'PEV', 'AWS_lag12', 'AWS_lag8', 'AWS_lag6', 'AWS_rollmean_24', 'AWS_rollstd_24', 'AWS_rollmean_10', 'AWS_rollstd_10', 'AWS_rollmean_17', 'AWS_rollstd_17']\n"
     ]
    },
    {
     "name": "stderr",
     "output_type": "stream",
     "text": [
      "[I 2025-05-06 18:00:25,191] Trial 1 finished with value: inf and parameters: {'hidden_size': 250, 'num_layers': 3, 'dropout': 0.18729412281038343, 'lr': 0.002758193290202983, 'time_step_in': 48, 'time_step_out': 4, 'stride': 4, 'binary_weight': 1.3442742581209977, 'intensity_weight': 1.2526965505639434, 'regression_weight': 0.9014629939242251, 'rain_threshold': 0.17065691399751182, 'num_lags': 3, 'lag_0': 12, 'lag_1': 8, 'lag_2': 6, 'num_windows': 3, 'window_0': 24, 'window_1': 10, 'window_2': 17}. Best is trial 0 with value: inf.\n"
     ]
    },
    {
     "name": "stdout",
     "output_type": "stream",
     "text": [
      " Data shapes - Train: torch.Size([36072, 48, 21]), Val: torch.Size([4008, 48, 21]), Test: torch.Size([3741, 48, 21])\n",
      "Error in fold fold_5: Target size (torch.Size([64, 4])) must be the same as input size (torch.Size([64, 1]))\n",
      "Using 15 features: ['TCW', 'TCLW', 'R250', 'R500', 'R850', 'U850', 'V850', 'EWSS', 'KX', 'CAPE', 'SSHF', 'PEV', 'AWS_lag2', 'AWS_rollmean_20', 'AWS_rollstd_20']\n",
      " Data shapes - Train: torch.Size([6012, 40, 15]), Val: torch.Size([6012, 40, 15]), Test: torch.Size([5766, 40, 15])\n",
      "Error in fold fold_1: Target size (torch.Size([64, 3])) must be the same as input size (torch.Size([64, 1]))\n",
      "Using 15 features: ['TCW', 'TCLW', 'R250', 'R500', 'R850', 'U850', 'V850', 'EWSS', 'KX', 'CAPE', 'SSHF', 'PEV', 'AWS_lag2', 'AWS_rollmean_20', 'AWS_rollstd_20']\n",
      " Data shapes - Train: torch.Size([16700, 40, 15]), Val: torch.Size([6012, 40, 15]), Test: torch.Size([5766, 40, 15])\n",
      "Error in fold fold_2: Target size (torch.Size([64, 3])) must be the same as input size (torch.Size([64, 1]))\n",
      "Using 15 features: ['TCW', 'TCLW', 'R250', 'R500', 'R850', 'U850', 'V850', 'EWSS', 'KX', 'CAPE', 'SSHF', 'PEV', 'AWS_lag2', 'AWS_rollmean_20', 'AWS_rollstd_20']\n",
      " Data shapes - Train: torch.Size([27388, 40, 15]), Val: torch.Size([6012, 40, 15]), Test: torch.Size([5766, 40, 15])\n",
      "Error in fold fold_3: Target size (torch.Size([64, 3])) must be the same as input size (torch.Size([64, 1]))\n",
      "Using 15 features: ['TCW', 'TCLW', 'R250', 'R500', 'R850', 'U850', 'V850', 'EWSS', 'KX', 'CAPE', 'SSHF', 'PEV', 'AWS_lag2', 'AWS_rollmean_20', 'AWS_rollstd_20']\n",
      " Data shapes - Train: torch.Size([38076, 40, 15]), Val: torch.Size([6012, 40, 15]), Test: torch.Size([5766, 40, 15])\n",
      "Error in fold fold_4: Target size (torch.Size([64, 3])) must be the same as input size (torch.Size([64, 1]))\n",
      "Using 15 features: ['TCW', 'TCLW', 'R250', 'R500', 'R850', 'U850', 'V850', 'EWSS', 'KX', 'CAPE', 'SSHF', 'PEV', 'AWS_lag2', 'AWS_rollmean_20', 'AWS_rollstd_20']\n"
     ]
    },
    {
     "name": "stderr",
     "output_type": "stream",
     "text": [
      "[I 2025-05-06 18:00:57,726] Trial 2 finished with value: inf and parameters: {'hidden_size': 90, 'num_layers': 3, 'dropout': 0.4070819784010629, 'lr': 0.007971724005704964, 'time_step_in': 40, 'time_step_out': 3, 'stride': 3, 'binary_weight': 1.524101000973977, 'intensity_weight': 0.5173673488265871, 'regression_weight': 1.114704295009609, 'rain_threshold': 0.05044592144982057, 'num_lags': 1, 'lag_0': 2, 'num_windows': 1, 'window_0': 20}. Best is trial 0 with value: inf.\n"
     ]
    },
    {
     "name": "stdout",
     "output_type": "stream",
     "text": [
      " Data shapes - Train: torch.Size([48764, 40, 15]), Val: torch.Size([6012, 40, 15]), Test: torch.Size([5766, 40, 15])\n",
      "Error in fold fold_5: Target size (torch.Size([64, 3])) must be the same as input size (torch.Size([64, 1]))\n",
      "Using 17 features: ['TCW', 'TCLW', 'R250', 'R500', 'R850', 'U850', 'V850', 'EWSS', 'KX', 'CAPE', 'SSHF', 'PEV', 'AWS_lag11', 'AWS_lag6', 'AWS_lag8', 'AWS_rollmean_22', 'AWS_rollstd_22']\n",
      " Data shapes - Train: torch.Size([15364, 48, 17]), Val: torch.Size([15364, 48, 17]), Test: torch.Size([14860, 48, 17])\n",
      "Error in fold fold_1: Target size (torch.Size([64, 3])) must be the same as input size (torch.Size([64, 1]))\n"
     ]
    },
    {
     "name": "stderr",
     "output_type": "stream",
     "text": [
      "/usr/local/lib/python3.10/dist-packages/torch/nn/modules/rnn.py:123: UserWarning: dropout option adds dropout after all but last recurrent layer, so non-zero dropout expects num_layers greater than 1, but got dropout=0.35196219548208524 and num_layers=1\n",
      "  warnings.warn(\n"
     ]
    },
    {
     "name": "stdout",
     "output_type": "stream",
     "text": [
      "Using 17 features: ['TCW', 'TCLW', 'R250', 'R500', 'R850', 'U850', 'V850', 'EWSS', 'KX', 'CAPE', 'SSHF', 'PEV', 'AWS_lag11', 'AWS_lag6', 'AWS_lag8', 'AWS_rollmean_22', 'AWS_rollstd_22']\n",
      " Data shapes - Train: torch.Size([47428, 48, 17]), Val: torch.Size([15364, 48, 17]), Test: torch.Size([14860, 48, 17])\n",
      "Error in fold fold_2: Target size (torch.Size([64, 3])) must be the same as input size (torch.Size([64, 1]))\n"
     ]
    },
    {
     "name": "stderr",
     "output_type": "stream",
     "text": [
      "/usr/local/lib/python3.10/dist-packages/torch/nn/modules/rnn.py:123: UserWarning: dropout option adds dropout after all but last recurrent layer, so non-zero dropout expects num_layers greater than 1, but got dropout=0.35196219548208524 and num_layers=1\n",
      "  warnings.warn(\n"
     ]
    },
    {
     "name": "stdout",
     "output_type": "stream",
     "text": [
      "Using 17 features: ['TCW', 'TCLW', 'R250', 'R500', 'R850', 'U850', 'V850', 'EWSS', 'KX', 'CAPE', 'SSHF', 'PEV', 'AWS_lag11', 'AWS_lag6', 'AWS_lag8', 'AWS_rollmean_22', 'AWS_rollstd_22']\n",
      " Data shapes - Train: torch.Size([79492, 48, 17]), Val: torch.Size([15364, 48, 17]), Test: torch.Size([14860, 48, 17])\n",
      "Error in fold fold_3: Target size (torch.Size([64, 3])) must be the same as input size (torch.Size([64, 1]))\n"
     ]
    },
    {
     "name": "stderr",
     "output_type": "stream",
     "text": [
      "/usr/local/lib/python3.10/dist-packages/torch/nn/modules/rnn.py:123: UserWarning: dropout option adds dropout after all but last recurrent layer, so non-zero dropout expects num_layers greater than 1, but got dropout=0.35196219548208524 and num_layers=1\n",
      "  warnings.warn(\n"
     ]
    },
    {
     "name": "stdout",
     "output_type": "stream",
     "text": [
      "Using 17 features: ['TCW', 'TCLW', 'R250', 'R500', 'R850', 'U850', 'V850', 'EWSS', 'KX', 'CAPE', 'SSHF', 'PEV', 'AWS_lag11', 'AWS_lag6', 'AWS_lag8', 'AWS_rollmean_22', 'AWS_rollstd_22']\n",
      " Data shapes - Train: torch.Size([111556, 48, 17]), Val: torch.Size([15364, 48, 17]), Test: torch.Size([14860, 48, 17])\n",
      "Error in fold fold_4: Target size (torch.Size([64, 3])) must be the same as input size (torch.Size([64, 1]))\n"
     ]
    },
    {
     "name": "stderr",
     "output_type": "stream",
     "text": [
      "/usr/local/lib/python3.10/dist-packages/torch/nn/modules/rnn.py:123: UserWarning: dropout option adds dropout after all but last recurrent layer, so non-zero dropout expects num_layers greater than 1, but got dropout=0.35196219548208524 and num_layers=1\n",
      "  warnings.warn(\n"
     ]
    },
    {
     "name": "stdout",
     "output_type": "stream",
     "text": [
      "Using 17 features: ['TCW', 'TCLW', 'R250', 'R500', 'R850', 'U850', 'V850', 'EWSS', 'KX', 'CAPE', 'SSHF', 'PEV', 'AWS_lag11', 'AWS_lag6', 'AWS_lag8', 'AWS_rollmean_22', 'AWS_rollstd_22']\n"
     ]
    },
    {
     "name": "stderr",
     "output_type": "stream",
     "text": [
      "/usr/local/lib/python3.10/dist-packages/torch/nn/modules/rnn.py:123: UserWarning: dropout option adds dropout after all but last recurrent layer, so non-zero dropout expects num_layers greater than 1, but got dropout=0.35196219548208524 and num_layers=1\n",
      "  warnings.warn(\n",
      "[I 2025-05-06 18:02:35,386] Trial 3 finished with value: inf and parameters: {'hidden_size': 129, 'num_layers': 1, 'dropout': 0.35196219548208524, 'lr': 0.007233271513823423, 'time_step_in': 48, 'time_step_out': 3, 'stride': 1, 'binary_weight': 0.8444908871538557, 'intensity_weight': 1.9986509198841547, 'regression_weight': 0.9128958096316205, 'rain_threshold': 0.07261255628380234, 'num_lags': 3, 'lag_0': 11, 'lag_1': 6, 'lag_2': 8, 'num_windows': 1, 'window_0': 22}. Best is trial 0 with value: inf.\n"
     ]
    },
    {
     "name": "stdout",
     "output_type": "stream",
     "text": [
      " Data shapes - Train: torch.Size([143620, 48, 17]), Val: torch.Size([15364, 48, 17]), Test: torch.Size([14860, 48, 17])\n",
      "Error in fold fold_5: Target size (torch.Size([64, 3])) must be the same as input size (torch.Size([64, 1]))\n",
      "Using 21 features: ['TCW', 'TCLW', 'R250', 'R500', 'R850', 'U850', 'V850', 'EWSS', 'KX', 'CAPE', 'SSHF', 'PEV', 'AWS_lag12', 'AWS_lag4', 'AWS_lag8', 'AWS_rollmean_17', 'AWS_rollstd_17', 'AWS_rollmean_21', 'AWS_rollstd_21', 'AWS_rollmean_5', 'AWS_rollstd_5']\n",
      " Data shapes - Train: torch.Size([10354, 33, 21]), Val: torch.Size([10354, 33, 21]), Test: torch.Size([9549, 33, 21])\n",
      "Error in fold fold_1: Target size (torch.Size([64, 2])) must be the same as input size (torch.Size([64, 1]))\n",
      "Using 21 features: ['TCW', 'TCLW', 'R250', 'R500', 'R850', 'U850', 'V850', 'EWSS', 'KX', 'CAPE', 'SSHF', 'PEV', 'AWS_lag12', 'AWS_lag4', 'AWS_lag8', 'AWS_rollmean_17', 'AWS_rollstd_17', 'AWS_rollmean_21', 'AWS_rollstd_21', 'AWS_rollmean_5', 'AWS_rollstd_5']\n",
      " Data shapes - Train: torch.Size([26386, 33, 21]), Val: torch.Size([10354, 33, 21]), Test: torch.Size([9549, 33, 21])\n",
      "Error in fold fold_2: Target size (torch.Size([64, 2])) must be the same as input size (torch.Size([64, 1]))\n",
      "Using 21 features: ['TCW', 'TCLW', 'R250', 'R500', 'R850', 'U850', 'V850', 'EWSS', 'KX', 'CAPE', 'SSHF', 'PEV', 'AWS_lag12', 'AWS_lag4', 'AWS_lag8', 'AWS_rollmean_17', 'AWS_rollstd_17', 'AWS_rollmean_21', 'AWS_rollstd_21', 'AWS_rollmean_5', 'AWS_rollstd_5']\n",
      " Data shapes - Train: torch.Size([42418, 33, 21]), Val: torch.Size([10354, 33, 21]), Test: torch.Size([9549, 33, 21])\n",
      "Error in fold fold_3: Target size (torch.Size([64, 2])) must be the same as input size (torch.Size([64, 1]))\n",
      "Using 21 features: ['TCW', 'TCLW', 'R250', 'R500', 'R850', 'U850', 'V850', 'EWSS', 'KX', 'CAPE', 'SSHF', 'PEV', 'AWS_lag12', 'AWS_lag4', 'AWS_lag8', 'AWS_rollmean_17', 'AWS_rollstd_17', 'AWS_rollmean_21', 'AWS_rollstd_21', 'AWS_rollmean_5', 'AWS_rollstd_5']\n",
      " Data shapes - Train: torch.Size([58450, 33, 21]), Val: torch.Size([10354, 33, 21]), Test: torch.Size([9549, 33, 21])\n",
      "Error in fold fold_4: Target size (torch.Size([64, 2])) must be the same as input size (torch.Size([64, 1]))\n",
      "Using 21 features: ['TCW', 'TCLW', 'R250', 'R500', 'R850', 'U850', 'V850', 'EWSS', 'KX', 'CAPE', 'SSHF', 'PEV', 'AWS_lag12', 'AWS_lag4', 'AWS_lag8', 'AWS_rollmean_17', 'AWS_rollstd_17', 'AWS_rollmean_21', 'AWS_rollstd_21', 'AWS_rollmean_5', 'AWS_rollstd_5']\n"
     ]
    },
    {
     "name": "stderr",
     "output_type": "stream",
     "text": [
      "[I 2025-05-06 18:03:29,270] Trial 4 finished with value: inf and parameters: {'hidden_size': 129, 'num_layers': 3, 'dropout': 0.07739352627702972, 'lr': 0.00023730275506821303, 'time_step_in': 33, 'time_step_out': 2, 'stride': 2, 'binary_weight': 1.4122803443191847, 'intensity_weight': 1.1655726375167894, 'regression_weight': 1.8170210810849146, 'rain_threshold': 0.11288565711121913, 'num_lags': 3, 'lag_0': 12, 'lag_1': 4, 'lag_2': 8, 'num_windows': 3, 'window_0': 17, 'window_1': 21, 'window_2': 5}. Best is trial 0 with value: inf.\n"
     ]
    },
    {
     "name": "stdout",
     "output_type": "stream",
     "text": [
      " Data shapes - Train: torch.Size([74482, 33, 21]), Val: torch.Size([10354, 33, 21]), Test: torch.Size([9549, 33, 21])\n",
      "Error in fold fold_5: Target size (torch.Size([64, 2])) must be the same as input size (torch.Size([64, 1]))\n",
      "Using 16 features: ['TCW', 'TCLW', 'R250', 'R500', 'R850', 'U850', 'V850', 'EWSS', 'KX', 'CAPE', 'SSHF', 'PEV', 'AWS_lag12', 'AWS_lag8', 'AWS_rollmean_17', 'AWS_rollstd_17']\n",
      " Data shapes - Train: torch.Size([16700, 41, 16]), Val: torch.Size([16700, 41, 16]), Test: torch.Size([15894, 41, 16])\n",
      "Error in fold fold_1: Target size (torch.Size([64, 6])) must be the same as input size (torch.Size([64, 1]))\n",
      "Using 16 features: ['TCW', 'TCLW', 'R250', 'R500', 'R850', 'U850', 'V850', 'EWSS', 'KX', 'CAPE', 'SSHF', 'PEV', 'AWS_lag12', 'AWS_lag8', 'AWS_rollmean_17', 'AWS_rollstd_17']\n",
      " Data shapes - Train: torch.Size([48764, 41, 16]), Val: torch.Size([16700, 41, 16]), Test: torch.Size([15894, 41, 16])\n",
      "Error in fold fold_2: Target size (torch.Size([64, 6])) must be the same as input size (torch.Size([64, 1]))\n",
      "Using 16 features: ['TCW', 'TCLW', 'R250', 'R500', 'R850', 'U850', 'V850', 'EWSS', 'KX', 'CAPE', 'SSHF', 'PEV', 'AWS_lag12', 'AWS_lag8', 'AWS_rollmean_17', 'AWS_rollstd_17']\n",
      " Data shapes - Train: torch.Size([80828, 41, 16]), Val: torch.Size([16700, 41, 16]), Test: torch.Size([15894, 41, 16])\n",
      "Error in fold fold_3: Target size (torch.Size([64, 6])) must be the same as input size (torch.Size([64, 1]))\n",
      "Using 16 features: ['TCW', 'TCLW', 'R250', 'R500', 'R850', 'U850', 'V850', 'EWSS', 'KX', 'CAPE', 'SSHF', 'PEV', 'AWS_lag12', 'AWS_lag8', 'AWS_rollmean_17', 'AWS_rollstd_17']\n",
      " Data shapes - Train: torch.Size([112892, 41, 16]), Val: torch.Size([16700, 41, 16]), Test: torch.Size([15894, 41, 16])\n",
      "Error in fold fold_4: Target size (torch.Size([64, 6])) must be the same as input size (torch.Size([64, 1]))\n",
      "Using 16 features: ['TCW', 'TCLW', 'R250', 'R500', 'R850', 'U850', 'V850', 'EWSS', 'KX', 'CAPE', 'SSHF', 'PEV', 'AWS_lag12', 'AWS_lag8', 'AWS_rollmean_17', 'AWS_rollstd_17']\n"
     ]
    },
    {
     "name": "stderr",
     "output_type": "stream",
     "text": [
      "[I 2025-05-06 18:04:52,478] Trial 5 finished with value: inf and parameters: {'hidden_size': 199, 'num_layers': 3, 'dropout': 0.25930052499485756, 'lr': 0.0005873537710846105, 'time_step_in': 41, 'time_step_out': 6, 'stride': 1, 'binary_weight': 1.454562108438869, 'intensity_weight': 0.9564036276978434, 'regression_weight': 1.9709107720615946, 'rain_threshold': 0.11528591896881629, 'num_lags': 2, 'lag_0': 12, 'lag_1': 8, 'num_windows': 1, 'window_0': 17}. Best is trial 0 with value: inf.\n"
     ]
    },
    {
     "name": "stdout",
     "output_type": "stream",
     "text": [
      " Data shapes - Train: torch.Size([144956, 41, 16]), Val: torch.Size([16700, 41, 16]), Test: torch.Size([15894, 41, 16])\n",
      "Error in fold fold_5: Target size (torch.Size([64, 6])) must be the same as input size (torch.Size([64, 1]))\n",
      "Using 20 features: ['TCW', 'TCLW', 'R250', 'R500', 'R850', 'U850', 'V850', 'EWSS', 'KX', 'CAPE', 'SSHF', 'PEV', 'AWS_lag5', 'AWS_lag9', 'AWS_rollmean_11', 'AWS_rollstd_11', 'AWS_rollmean_24', 'AWS_rollstd_24', 'AWS_rollmean_9', 'AWS_rollstd_9']\n",
      " Data shapes - Train: torch.Size([4676, 28, 20]), Val: torch.Size([4676, 28, 20]), Test: torch.Size([4137, 28, 20])\n",
      "Error in fold fold_1: Target size (torch.Size([64, 3])) must be the same as input size (torch.Size([64, 1]))\n",
      "Using 20 features: ['TCW', 'TCLW', 'R250', 'R500', 'R850', 'U850', 'V850', 'EWSS', 'KX', 'CAPE', 'SSHF', 'PEV', 'AWS_lag5', 'AWS_lag9', 'AWS_rollmean_11', 'AWS_rollstd_11', 'AWS_rollmean_24', 'AWS_rollstd_24', 'AWS_rollmean_9', 'AWS_rollstd_9']\n",
      " Data shapes - Train: torch.Size([11022, 28, 20]), Val: torch.Size([4676, 28, 20]), Test: torch.Size([4137, 28, 20])\n",
      "Error in fold fold_2: Target size (torch.Size([64, 3])) must be the same as input size (torch.Size([64, 1]))\n",
      "Using 20 features: ['TCW', 'TCLW', 'R250', 'R500', 'R850', 'U850', 'V850', 'EWSS', 'KX', 'CAPE', 'SSHF', 'PEV', 'AWS_lag5', 'AWS_lag9', 'AWS_rollmean_11', 'AWS_rollstd_11', 'AWS_rollmean_24', 'AWS_rollstd_24', 'AWS_rollmean_9', 'AWS_rollstd_9']\n",
      " Data shapes - Train: torch.Size([17368, 28, 20]), Val: torch.Size([4676, 28, 20]), Test: torch.Size([4137, 28, 20])\n",
      "Error in fold fold_3: Target size (torch.Size([64, 3])) must be the same as input size (torch.Size([64, 1]))\n",
      "Using 20 features: ['TCW', 'TCLW', 'R250', 'R500', 'R850', 'U850', 'V850', 'EWSS', 'KX', 'CAPE', 'SSHF', 'PEV', 'AWS_lag5', 'AWS_lag9', 'AWS_rollmean_11', 'AWS_rollstd_11', 'AWS_rollmean_24', 'AWS_rollstd_24', 'AWS_rollmean_9', 'AWS_rollstd_9']\n",
      " Data shapes - Train: torch.Size([23714, 28, 20]), Val: torch.Size([4676, 28, 20]), Test: torch.Size([4137, 28, 20])\n",
      "Error in fold fold_4: Target size (torch.Size([64, 3])) must be the same as input size (torch.Size([64, 1]))\n",
      "Using 20 features: ['TCW', 'TCLW', 'R250', 'R500', 'R850', 'U850', 'V850', 'EWSS', 'KX', 'CAPE', 'SSHF', 'PEV', 'AWS_lag5', 'AWS_lag9', 'AWS_rollmean_11', 'AWS_rollstd_11', 'AWS_rollmean_24', 'AWS_rollstd_24', 'AWS_rollmean_9', 'AWS_rollstd_9']\n"
     ]
    },
    {
     "name": "stderr",
     "output_type": "stream",
     "text": [
      "[I 2025-05-06 18:05:19,975] Trial 6 finished with value: inf and parameters: {'hidden_size': 147, 'num_layers': 3, 'dropout': 0.13981382533049963, 'lr': 0.00026962860113380663, 'time_step_in': 28, 'time_step_out': 3, 'stride': 5, 'binary_weight': 1.4099542841684247, 'intensity_weight': 1.9352316984518725, 'regression_weight': 1.8852537215445038, 'rain_threshold': 0.08868976262346759, 'num_lags': 2, 'lag_0': 5, 'lag_1': 9, 'num_windows': 3, 'window_0': 11, 'window_1': 24, 'window_2': 9}. Best is trial 0 with value: inf.\n"
     ]
    },
    {
     "name": "stdout",
     "output_type": "stream",
     "text": [
      " Data shapes - Train: torch.Size([30060, 28, 20]), Val: torch.Size([4676, 28, 20]), Test: torch.Size([4137, 28, 20])\n",
      "Error in fold fold_5: Target size (torch.Size([64, 3])) must be the same as input size (torch.Size([64, 1]))\n",
      "Using 19 features: ['TCW', 'TCLW', 'R250', 'R500', 'R850', 'U850', 'V850', 'EWSS', 'KX', 'CAPE', 'SSHF', 'PEV', 'AWS_lag8', 'AWS_lag3', 'AWS_lag4', 'AWS_rollmean_17', 'AWS_rollstd_17', 'AWS_rollmean_22', 'AWS_rollstd_22']\n",
      " Data shapes - Train: torch.Size([14028, 12, 19]), Val: torch.Size([14028, 12, 19]), Test: torch.Size([12414, 12, 19])\n"
     ]
    },
    {
     "name": "stderr",
     "output_type": "stream",
     "text": [
      "/usr/local/lib/python3.10/dist-packages/torch/nn/modules/rnn.py:123: UserWarning: dropout option adds dropout after all but last recurrent layer, so non-zero dropout expects num_layers greater than 1, but got dropout=0.05244014771359101 and num_layers=1\n",
      "  warnings.warn(\n"
     ]
    },
    {
     "name": "stdout",
     "output_type": "stream",
     "text": [
      "   Epoch 1/5, Total Loss: 0.9225, Binary: 0.6601, Intensity: 0.0869, Regression: 0.3341\n",
      "   Epoch 2/5, Total Loss: 0.7695, Binary: 0.5353, Intensity: 0.0454, Regression: 0.3285\n",
      "   Epoch 3/5, Total Loss: 0.7162, Binary: 0.4927, Intensity: 0.0424, Regression: 0.3120\n",
      "   Epoch 4/5, Total Loss: 0.6996, Binary: 0.4717, Intensity: 0.0419, Regression: 0.3153\n",
      "   Epoch 5/5, Total Loss: 0.6700, Binary: 0.4584, Intensity: 0.0380, Regression: 0.2967\n",
      "Using 19 features: ['TCW', 'TCLW', 'R250', 'R500', 'R850', 'U850', 'V850', 'EWSS', 'KX', 'CAPE', 'SSHF', 'PEV', 'AWS_lag8', 'AWS_lag3', 'AWS_lag4', 'AWS_rollmean_17', 'AWS_rollstd_17', 'AWS_rollmean_22', 'AWS_rollstd_22']\n",
      " Data shapes - Train: torch.Size([30060, 12, 19]), Val: torch.Size([14028, 12, 19]), Test: torch.Size([12414, 12, 19])\n"
     ]
    },
    {
     "name": "stderr",
     "output_type": "stream",
     "text": [
      "/usr/local/lib/python3.10/dist-packages/torch/nn/modules/rnn.py:123: UserWarning: dropout option adds dropout after all but last recurrent layer, so non-zero dropout expects num_layers greater than 1, but got dropout=0.05244014771359101 and num_layers=1\n",
      "  warnings.warn(\n"
     ]
    },
    {
     "name": "stdout",
     "output_type": "stream",
     "text": [
      "   Epoch 1/5, Total Loss: 1.1579, Binary: 0.6091, Intensity: 0.1210, Regression: 0.6589\n",
      "   Epoch 2/5, Total Loss: 0.9575, Binary: 0.4846, Intensity: 0.0829, Regression: 0.5871\n",
      "   Epoch 3/5, Total Loss: 0.8765, Binary: 0.4351, Intensity: 0.0750, Regression: 0.5485\n",
      "   Epoch 4/5, Total Loss: 0.8187, Binary: 0.4098, Intensity: 0.0718, Regression: 0.5063\n",
      "   Epoch 5/5, Total Loss: 0.7945, Binary: 0.3966, Intensity: 0.0685, Regression: 0.4939\n",
      "Using 19 features: ['TCW', 'TCLW', 'R250', 'R500', 'R850', 'U850', 'V850', 'EWSS', 'KX', 'CAPE', 'SSHF', 'PEV', 'AWS_lag8', 'AWS_lag3', 'AWS_lag4', 'AWS_rollmean_17', 'AWS_rollstd_17', 'AWS_rollmean_22', 'AWS_rollstd_22']\n",
      " Data shapes - Train: torch.Size([46092, 12, 19]), Val: torch.Size([14028, 12, 19]), Test: torch.Size([12414, 12, 19])\n"
     ]
    },
    {
     "name": "stderr",
     "output_type": "stream",
     "text": [
      "/usr/local/lib/python3.10/dist-packages/torch/nn/modules/rnn.py:123: UserWarning: dropout option adds dropout after all but last recurrent layer, so non-zero dropout expects num_layers greater than 1, but got dropout=0.05244014771359101 and num_layers=1\n",
      "  warnings.warn(\n"
     ]
    },
    {
     "name": "stdout",
     "output_type": "stream",
     "text": [
      "Error in fold fold_3: Expected input batch_size (1) to match target batch_size (0).\n",
      "Using 19 features: ['TCW', 'TCLW', 'R250', 'R500', 'R850', 'U850', 'V850', 'EWSS', 'KX', 'CAPE', 'SSHF', 'PEV', 'AWS_lag8', 'AWS_lag3', 'AWS_lag4', 'AWS_rollmean_17', 'AWS_rollstd_17', 'AWS_rollmean_22', 'AWS_rollstd_22']\n",
      " Data shapes - Train: torch.Size([62124, 12, 19]), Val: torch.Size([14028, 12, 19]), Test: torch.Size([12414, 12, 19])\n"
     ]
    },
    {
     "name": "stderr",
     "output_type": "stream",
     "text": [
      "/usr/local/lib/python3.10/dist-packages/torch/nn/modules/rnn.py:123: UserWarning: dropout option adds dropout after all but last recurrent layer, so non-zero dropout expects num_layers greater than 1, but got dropout=0.05244014771359101 and num_layers=1\n",
      "  warnings.warn(\n"
     ]
    },
    {
     "name": "stdout",
     "output_type": "stream",
     "text": [
      "   Epoch 1/5, Total Loss: 1.7005, Binary: 0.3840, Intensity: 0.2462, Regression: 1.4762\n",
      "Error in fold fold_4: Expected input batch_size (1) to match target batch_size (0).\n",
      "Using 19 features: ['TCW', 'TCLW', 'R250', 'R500', 'R850', 'U850', 'V850', 'EWSS', 'KX', 'CAPE', 'SSHF', 'PEV', 'AWS_lag8', 'AWS_lag3', 'AWS_lag4', 'AWS_rollmean_17', 'AWS_rollstd_17', 'AWS_rollmean_22', 'AWS_rollstd_22']\n",
      " Data shapes - Train: torch.Size([78156, 12, 19]), Val: torch.Size([14028, 12, 19]), Test: torch.Size([12414, 12, 19])\n"
     ]
    },
    {
     "name": "stderr",
     "output_type": "stream",
     "text": [
      "/usr/local/lib/python3.10/dist-packages/torch/nn/modules/rnn.py:123: UserWarning: dropout option adds dropout after all but last recurrent layer, so non-zero dropout expects num_layers greater than 1, but got dropout=0.05244014771359101 and num_layers=1\n",
      "  warnings.warn(\n"
     ]
    },
    {
     "name": "stdout",
     "output_type": "stream",
     "text": [
      "   Epoch 1/5, Total Loss: 1.3265, Binary: 0.3351, Intensity: 0.1639, Regression: 1.1437\n",
      "   Epoch 2/5, Total Loss: 1.1704, Binary: 0.2622, Intensity: 0.1396, Regression: 1.0537\n",
      "   Epoch 3/5, Total Loss: 1.1103, Binary: 0.2453, Intensity: 0.1334, Regression: 1.0025\n",
      "   Epoch 4/5, Total Loss: 1.0478, Binary: 0.2327, Intensity: 0.1255, Regression: 0.9451\n",
      "   Epoch 5/5, Total Loss: 1.0210, Binary: 0.2262, Intensity: 0.1218, Regression: 0.9222\n"
     ]
    },
    {
     "name": "stderr",
     "output_type": "stream",
     "text": [
      "[I 2025-05-06 18:06:33,177] Trial 7 finished with value: 0.7617144584655762 and parameters: {'hidden_size': 125, 'num_layers': 1, 'dropout': 0.05244014771359101, 'lr': 0.0017009128622177793, 'time_step_in': 12, 'time_step_out': 1, 'stride': 2, 'binary_weight': 0.8883307474461508, 'intensity_weight': 0.9106596154724818, 'regression_weight': 0.7689711121488019, 'rain_threshold': 0.07239539394997131, 'num_lags': 3, 'lag_0': 8, 'lag_1': 3, 'lag_2': 4, 'num_windows': 2, 'window_0': 17, 'window_1': 22}. Best is trial 7 with value: 0.7617144584655762.\n"
     ]
    },
    {
     "name": "stdout",
     "output_type": "stream",
     "text": [
      "Using 19 features: ['TCW', 'TCLW', 'R250', 'R500', 'R850', 'U850', 'V850', 'EWSS', 'KX', 'CAPE', 'SSHF', 'PEV', 'AWS_lag11', 'AWS_rollmean_16', 'AWS_rollstd_16', 'AWS_rollmean_15', 'AWS_rollstd_15', 'AWS_rollmean_20', 'AWS_rollstd_20']\n",
      " Data shapes - Train: torch.Size([2672, 48, 19]), Val: torch.Size([2672, 48, 19]), Test: torch.Size([2630, 48, 19])\n",
      "Error in fold fold_1: Target size (torch.Size([64, 2])) must be the same as input size (torch.Size([64, 1]))\n"
     ]
    },
    {
     "name": "stderr",
     "output_type": "stream",
     "text": [
      "/usr/local/lib/python3.10/dist-packages/torch/nn/modules/rnn.py:123: UserWarning: dropout option adds dropout after all but last recurrent layer, so non-zero dropout expects num_layers greater than 1, but got dropout=0.10894102766737601 and num_layers=1\n",
      "  warnings.warn(\n"
     ]
    },
    {
     "name": "stdout",
     "output_type": "stream",
     "text": [
      "Using 19 features: ['TCW', 'TCLW', 'R250', 'R500', 'R850', 'U850', 'V850', 'EWSS', 'KX', 'CAPE', 'SSHF', 'PEV', 'AWS_lag11', 'AWS_rollmean_16', 'AWS_rollstd_16', 'AWS_rollmean_15', 'AWS_rollstd_15', 'AWS_rollmean_20', 'AWS_rollstd_20']\n",
      " Data shapes - Train: torch.Size([8016, 48, 19]), Val: torch.Size([2672, 48, 19]), Test: torch.Size([2630, 48, 19])\n",
      "Error in fold fold_2: Target size (torch.Size([64, 2])) must be the same as input size (torch.Size([64, 1]))\n"
     ]
    },
    {
     "name": "stderr",
     "output_type": "stream",
     "text": [
      "/usr/local/lib/python3.10/dist-packages/torch/nn/modules/rnn.py:123: UserWarning: dropout option adds dropout after all but last recurrent layer, so non-zero dropout expects num_layers greater than 1, but got dropout=0.10894102766737601 and num_layers=1\n",
      "  warnings.warn(\n"
     ]
    },
    {
     "name": "stdout",
     "output_type": "stream",
     "text": [
      "Using 19 features: ['TCW', 'TCLW', 'R250', 'R500', 'R850', 'U850', 'V850', 'EWSS', 'KX', 'CAPE', 'SSHF', 'PEV', 'AWS_lag11', 'AWS_rollmean_16', 'AWS_rollstd_16', 'AWS_rollmean_15', 'AWS_rollstd_15', 'AWS_rollmean_20', 'AWS_rollstd_20']\n",
      " Data shapes - Train: torch.Size([13360, 48, 19]), Val: torch.Size([2672, 48, 19]), Test: torch.Size([2630, 48, 19])\n",
      "Error in fold fold_3: Target size (torch.Size([64, 2])) must be the same as input size (torch.Size([64, 1]))\n"
     ]
    },
    {
     "name": "stderr",
     "output_type": "stream",
     "text": [
      "/usr/local/lib/python3.10/dist-packages/torch/nn/modules/rnn.py:123: UserWarning: dropout option adds dropout after all but last recurrent layer, so non-zero dropout expects num_layers greater than 1, but got dropout=0.10894102766737601 and num_layers=1\n",
      "  warnings.warn(\n"
     ]
    },
    {
     "name": "stdout",
     "output_type": "stream",
     "text": [
      "Using 19 features: ['TCW', 'TCLW', 'R250', 'R500', 'R850', 'U850', 'V850', 'EWSS', 'KX', 'CAPE', 'SSHF', 'PEV', 'AWS_lag11', 'AWS_rollmean_16', 'AWS_rollstd_16', 'AWS_rollmean_15', 'AWS_rollstd_15', 'AWS_rollmean_20', 'AWS_rollstd_20']\n",
      " Data shapes - Train: torch.Size([18704, 48, 19]), Val: torch.Size([2672, 48, 19]), Test: torch.Size([2630, 48, 19])\n",
      "Error in fold fold_4: Target size (torch.Size([64, 2])) must be the same as input size (torch.Size([64, 1]))\n"
     ]
    },
    {
     "name": "stderr",
     "output_type": "stream",
     "text": [
      "/usr/local/lib/python3.10/dist-packages/torch/nn/modules/rnn.py:123: UserWarning: dropout option adds dropout after all but last recurrent layer, so non-zero dropout expects num_layers greater than 1, but got dropout=0.10894102766737601 and num_layers=1\n",
      "  warnings.warn(\n"
     ]
    },
    {
     "name": "stdout",
     "output_type": "stream",
     "text": [
      "Using 19 features: ['TCW', 'TCLW', 'R250', 'R500', 'R850', 'U850', 'V850', 'EWSS', 'KX', 'CAPE', 'SSHF', 'PEV', 'AWS_lag11', 'AWS_rollmean_16', 'AWS_rollstd_16', 'AWS_rollmean_15', 'AWS_rollstd_15', 'AWS_rollmean_20', 'AWS_rollstd_20']\n"
     ]
    },
    {
     "name": "stderr",
     "output_type": "stream",
     "text": [
      "/usr/local/lib/python3.10/dist-packages/torch/nn/modules/rnn.py:123: UserWarning: dropout option adds dropout after all but last recurrent layer, so non-zero dropout expects num_layers greater than 1, but got dropout=0.10894102766737601 and num_layers=1\n",
      "  warnings.warn(\n",
      "[I 2025-05-06 18:07:03,365] Trial 8 finished with value: inf and parameters: {'hidden_size': 94, 'num_layers': 1, 'dropout': 0.10894102766737601, 'lr': 0.0002378749756029996, 'time_step_in': 48, 'time_step_out': 2, 'stride': 6, 'binary_weight': 1.1343122818620028, 'intensity_weight': 1.2783867242056575, 'regression_weight': 1.059853336365916, 'rain_threshold': 0.14315765058835656, 'num_lags': 1, 'lag_0': 11, 'num_windows': 3, 'window_0': 16, 'window_1': 15, 'window_2': 20}. Best is trial 7 with value: 0.7617144584655762.\n"
     ]
    },
    {
     "name": "stdout",
     "output_type": "stream",
     "text": [
      " Data shapes - Train: torch.Size([24048, 48, 19]), Val: torch.Size([2672, 48, 19]), Test: torch.Size([2630, 48, 19])\n",
      "Error in fold fold_5: Target size (torch.Size([64, 2])) must be the same as input size (torch.Size([64, 1]))\n",
      "Using 20 features: ['TCW', 'TCLW', 'R250', 'R500', 'R850', 'U850', 'V850', 'EWSS', 'KX', 'CAPE', 'SSHF', 'PEV', 'AWS_lag1', 'AWS_lag1', 'AWS_rollmean_18', 'AWS_rollstd_18', 'AWS_rollmean_15', 'AWS_rollstd_15', 'AWS_rollmean_5', 'AWS_rollstd_5']\n",
      " Data shapes - Train: torch.Size([4008, 36, 20]), Val: torch.Size([4008, 36, 20]), Test: torch.Size([3678, 36, 20])\n",
      "Error in fold fold_1: Target size (torch.Size([64, 3])) must be the same as input size (torch.Size([64, 1]))\n",
      "Using 20 features: ['TCW', 'TCLW', 'R250', 'R500', 'R850', 'U850', 'V850', 'EWSS', 'KX', 'CAPE', 'SSHF', 'PEV', 'AWS_lag1', 'AWS_lag1', 'AWS_rollmean_18', 'AWS_rollstd_18', 'AWS_rollmean_15', 'AWS_rollstd_15', 'AWS_rollmean_5', 'AWS_rollstd_5']\n",
      " Data shapes - Train: torch.Size([10354, 36, 20]), Val: torch.Size([4008, 36, 20]), Test: torch.Size([3678, 36, 20])\n",
      "Error in fold fold_2: Target size (torch.Size([64, 3])) must be the same as input size (torch.Size([64, 1]))\n",
      "Using 20 features: ['TCW', 'TCLW', 'R250', 'R500', 'R850', 'U850', 'V850', 'EWSS', 'KX', 'CAPE', 'SSHF', 'PEV', 'AWS_lag1', 'AWS_lag1', 'AWS_rollmean_18', 'AWS_rollstd_18', 'AWS_rollmean_15', 'AWS_rollstd_15', 'AWS_rollmean_5', 'AWS_rollstd_5']\n",
      " Data shapes - Train: torch.Size([16700, 36, 20]), Val: torch.Size([4008, 36, 20]), Test: torch.Size([3678, 36, 20])\n",
      "Error in fold fold_3: Target size (torch.Size([64, 3])) must be the same as input size (torch.Size([64, 1]))\n",
      "Using 20 features: ['TCW', 'TCLW', 'R250', 'R500', 'R850', 'U850', 'V850', 'EWSS', 'KX', 'CAPE', 'SSHF', 'PEV', 'AWS_lag1', 'AWS_lag1', 'AWS_rollmean_18', 'AWS_rollstd_18', 'AWS_rollmean_15', 'AWS_rollstd_15', 'AWS_rollmean_5', 'AWS_rollstd_5']\n",
      " Data shapes - Train: torch.Size([23380, 36, 20]), Val: torch.Size([4008, 36, 20]), Test: torch.Size([3678, 36, 20])\n",
      "Error in fold fold_4: Target size (torch.Size([64, 3])) must be the same as input size (torch.Size([64, 1]))\n",
      "Using 20 features: ['TCW', 'TCLW', 'R250', 'R500', 'R850', 'U850', 'V850', 'EWSS', 'KX', 'CAPE', 'SSHF', 'PEV', 'AWS_lag1', 'AWS_lag1', 'AWS_rollmean_18', 'AWS_rollstd_18', 'AWS_rollmean_15', 'AWS_rollstd_15', 'AWS_rollmean_5', 'AWS_rollstd_5']\n"
     ]
    },
    {
     "name": "stderr",
     "output_type": "stream",
     "text": [
      "[I 2025-05-06 18:07:34,233] Trial 9 finished with value: inf and parameters: {'hidden_size': 144, 'num_layers': 3, 'dropout': 0.11738169457463071, 'lr': 0.0021249846087596264, 'time_step_in': 36, 'time_step_out': 3, 'stride': 5, 'binary_weight': 1.1306067289330535, 'intensity_weight': 1.4369835321294635, 'regression_weight': 1.7061860985883863, 'rain_threshold': 0.19614394866051021, 'num_lags': 2, 'lag_0': 1, 'lag_1': 1, 'num_windows': 3, 'window_0': 18, 'window_1': 15, 'window_2': 5}. Best is trial 7 with value: 0.7617144584655762.\n"
     ]
    },
    {
     "name": "stdout",
     "output_type": "stream",
     "text": [
      " Data shapes - Train: torch.Size([29726, 36, 20]), Val: torch.Size([4008, 36, 20]), Test: torch.Size([3678, 36, 20])\n",
      "Error in fold fold_5: Target size (torch.Size([64, 3])) must be the same as input size (torch.Size([64, 1]))\n",
      "Using 19 features: ['TCW', 'TCLW', 'R250', 'R500', 'R850', 'U850', 'V850', 'EWSS', 'KX', 'CAPE', 'SSHF', 'PEV', 'AWS_lag8', 'AWS_lag12', 'AWS_lag1', 'AWS_rollmean_4', 'AWS_rollstd_4', 'AWS_rollmean_19', 'AWS_rollstd_19']\n",
      " Data shapes - Train: torch.Size([9352, 13, 19]), Val: torch.Size([9352, 13, 19]), Test: torch.Size([8221, 13, 19])\n",
      "   Epoch 1/5, Total Loss: 2.3461, Binary: 0.6929, Intensity: 0.9614, Regression: 0.7648\n",
      "   Epoch 2/5, Total Loss: 1.9954, Binary: 0.6940, Intensity: 0.4749, Regression: 0.6442\n",
      "   Epoch 3/5, Total Loss: 1.8117, Binary: 0.6928, Intensity: 0.1625, Regression: 0.6567\n",
      "   Epoch 4/5, Total Loss: 1.7761, Binary: 0.6925, Intensity: 0.1033, Regression: 0.6579\n",
      "   Epoch 5/5, Total Loss: 1.7510, Binary: 0.6925, Intensity: 0.0815, Regression: 0.6339\n",
      "Using 19 features: ['TCW', 'TCLW', 'R250', 'R500', 'R850', 'U850', 'V850', 'EWSS', 'KX', 'CAPE', 'SSHF', 'PEV', 'AWS_lag8', 'AWS_lag12', 'AWS_lag1', 'AWS_rollmean_4', 'AWS_rollstd_4', 'AWS_rollmean_19', 'AWS_rollstd_19']\n",
      " Data shapes - Train: torch.Size([20040, 13, 19]), Val: torch.Size([9352, 13, 19]), Test: torch.Size([8221, 13, 19])\n",
      "   Epoch 1/5, Total Loss: 2.2742, Binary: 0.6848, Intensity: 0.6933, Regression: 0.9749\n",
      "   Epoch 2/5, Total Loss: 1.8494, Binary: 0.6780, Intensity: 0.1416, Regression: 0.8158\n",
      "   Epoch 3/5, Total Loss: 1.8208, Binary: 0.6775, Intensity: 0.1188, Regression: 0.7882\n",
      "   Epoch 4/5, Total Loss: 1.8207, Binary: 0.6767, Intensity: 0.1166, Regression: 0.7936\n",
      "   Epoch 5/5, Total Loss: 1.7879, Binary: 0.6586, Intensity: 0.1164, Regression: 0.8006\n",
      "Using 19 features: ['TCW', 'TCLW', 'R250', 'R500', 'R850', 'U850', 'V850', 'EWSS', 'KX', 'CAPE', 'SSHF', 'PEV', 'AWS_lag8', 'AWS_lag12', 'AWS_lag1', 'AWS_rollmean_4', 'AWS_rollstd_4', 'AWS_rollmean_19', 'AWS_rollstd_19']\n",
      " Data shapes - Train: torch.Size([30728, 13, 19]), Val: torch.Size([9352, 13, 19]), Test: torch.Size([8221, 13, 19])\n",
      "   Epoch 1/5, Total Loss: 2.3971, Binary: 0.6937, Intensity: 1.0039, Regression: 0.8123\n",
      "   Epoch 2/5, Total Loss: 1.9957, Binary: 0.6933, Intensity: 0.3828, Regression: 0.7578\n",
      "   Epoch 3/5, Total Loss: 1.8259, Binary: 0.6910, Intensity: 0.1207, Regression: 0.7424\n",
      "   Epoch 4/5, Total Loss: 1.7578, Binary: 0.6620, Intensity: 0.1099, Regression: 0.7351\n",
      "   Epoch 5/5, Total Loss: 1.5632, Binary: 0.5737, Intensity: 0.1055, Regression: 0.7041\n",
      "Using 19 features: ['TCW', 'TCLW', 'R250', 'R500', 'R850', 'U850', 'V850', 'EWSS', 'KX', 'CAPE', 'SSHF', 'PEV', 'AWS_lag8', 'AWS_lag12', 'AWS_lag1', 'AWS_rollmean_4', 'AWS_rollstd_4', 'AWS_rollmean_19', 'AWS_rollstd_19']\n",
      " Data shapes - Train: torch.Size([41416, 13, 19]), Val: torch.Size([9352, 13, 19]), Test: torch.Size([8221, 13, 19])\n",
      "Error in fold fold_4: Expected input batch_size (1) to match target batch_size (0).\n",
      "Using 19 features: ['TCW', 'TCLW', 'R250', 'R500', 'R850', 'U850', 'V850', 'EWSS', 'KX', 'CAPE', 'SSHF', 'PEV', 'AWS_lag8', 'AWS_lag12', 'AWS_lag1', 'AWS_rollmean_4', 'AWS_rollstd_4', 'AWS_rollmean_19', 'AWS_rollstd_19']\n",
      " Data shapes - Train: torch.Size([52104, 13, 19]), Val: torch.Size([9352, 13, 19]), Test: torch.Size([8221, 13, 19])\n"
     ]
    },
    {
     "name": "stderr",
     "output_type": "stream",
     "text": [
      "[I 2025-05-06 18:08:25,654] Trial 10 finished with value: 0.5219628810882568 and parameters: {'hidden_size': 37, 'num_layers': 2, 'dropout': 0.002768626437645645, 'lr': 0.00010234175182783413, 'time_step_in': 13, 'time_step_out': 1, 'stride': 3, 'binary_weight': 1.9985549646187208, 'intensity_weight': 0.6007181011338533, 'regression_weight': 0.5017038592281455, 'rain_threshold': 0.05237908486540391, 'num_lags': 3, 'lag_0': 8, 'lag_1': 12, 'lag_2': 1, 'num_windows': 2, 'window_0': 4, 'window_1': 19}. Best is trial 10 with value: 0.5219628810882568.\n"
     ]
    },
    {
     "name": "stdout",
     "output_type": "stream",
     "text": [
      "Error in fold fold_5: Expected input batch_size (1) to match target batch_size (0).\n",
      "Using 19 features: ['TCW', 'TCLW', 'R250', 'R500', 'R850', 'U850', 'V850', 'EWSS', 'KX', 'CAPE', 'SSHF', 'PEV', 'AWS_lag8', 'AWS_lag12', 'AWS_lag1', 'AWS_rollmean_3', 'AWS_rollstd_3', 'AWS_rollmean_19', 'AWS_rollstd_19']\n",
      " Data shapes - Train: torch.Size([9352, 12, 19]), Val: torch.Size([9352, 12, 19]), Test: torch.Size([8370, 12, 19])\n",
      "   Epoch 1/5, Total Loss: 2.1157, Binary: 0.6925, Intensity: 0.9939, Regression: 0.2930\n",
      "   Epoch 2/5, Total Loss: 1.7032, Binary: 0.6921, Intensity: 0.3675, Regression: 0.2493\n",
      "   Epoch 3/5, Total Loss: 1.5462, Binary: 0.6924, Intensity: 0.1164, Regression: 0.2449\n",
      "   Epoch 4/5, Total Loss: 1.5096, Binary: 0.6924, Intensity: 0.0681, Regression: 0.2329\n",
      "   Epoch 5/5, Total Loss: 1.4990, Binary: 0.6924, Intensity: 0.0539, Regression: 0.2300\n",
      "Using 19 features: ['TCW', 'TCLW', 'R250', 'R500', 'R850', 'U850', 'V850', 'EWSS', 'KX', 'CAPE', 'SSHF', 'PEV', 'AWS_lag8', 'AWS_lag12', 'AWS_lag1', 'AWS_rollmean_3', 'AWS_rollstd_3', 'AWS_rollmean_19', 'AWS_rollstd_19']\n",
      " Data shapes - Train: torch.Size([20040, 12, 19]), Val: torch.Size([9352, 12, 19]), Test: torch.Size([8370, 12, 19])\n",
      "   Epoch 1/5, Total Loss: 2.0941, Binary: 0.6937, Intensity: 0.5874, Regression: 0.6894\n",
      "   Epoch 2/5, Total Loss: 1.7318, Binary: 0.6733, Intensity: 0.1121, Regression: 0.6377\n",
      "   Epoch 3/5, Total Loss: 1.7293, Binary: 0.6731, Intensity: 0.1015, Regression: 0.6455\n",
      "   Epoch 4/5, Total Loss: 1.7261, Binary: 0.6724, Intensity: 0.1015, Regression: 0.6421\n",
      "   Epoch 5/5, Total Loss: 1.7062, Binary: 0.6668, Intensity: 0.1023, Regression: 0.6256\n",
      "Using 19 features: ['TCW', 'TCLW', 'R250', 'R500', 'R850', 'U850', 'V850', 'EWSS', 'KX', 'CAPE', 'SSHF', 'PEV', 'AWS_lag8', 'AWS_lag12', 'AWS_lag1', 'AWS_rollmean_3', 'AWS_rollstd_3', 'AWS_rollmean_19', 'AWS_rollstd_19']\n",
      " Data shapes - Train: torch.Size([30728, 12, 19]), Val: torch.Size([9352, 12, 19]), Test: torch.Size([8370, 12, 19])\n",
      "   Epoch 1/5, Total Loss: 1.9369, Binary: 0.6952, Intensity: 0.4031, Regression: 0.6084\n",
      "   Epoch 2/5, Total Loss: 1.7362, Binary: 0.6921, Intensity: 0.0973, Regression: 0.5979\n",
      "   Epoch 3/5, Total Loss: 1.7331, Binary: 0.6916, Intensity: 0.0924, Regression: 0.5997\n",
      "   Epoch 4/5, Total Loss: 1.6335, Binary: 0.6425, Intensity: 0.0914, Regression: 0.5922\n",
      "   Epoch 5/5, Total Loss: 1.4251, Binary: 0.5446, Intensity: 0.0876, Regression: 0.5615\n",
      "Using 19 features: ['TCW', 'TCLW', 'R250', 'R500', 'R850', 'U850', 'V850', 'EWSS', 'KX', 'CAPE', 'SSHF', 'PEV', 'AWS_lag8', 'AWS_lag12', 'AWS_lag1', 'AWS_rollmean_3', 'AWS_rollstd_3', 'AWS_rollmean_19', 'AWS_rollstd_19']\n",
      " Data shapes - Train: torch.Size([41416, 12, 19]), Val: torch.Size([9352, 12, 19]), Test: torch.Size([8370, 12, 19])\n",
      "   Epoch 1/5, Total Loss: 2.4270, Binary: 0.5546, Intensity: 0.5948, Regression: 1.7298\n",
      "Error in fold fold_4: Expected input batch_size (1) to match target batch_size (0).\n",
      "Using 19 features: ['TCW', 'TCLW', 'R250', 'R500', 'R850', 'U850', 'V850', 'EWSS', 'KX', 'CAPE', 'SSHF', 'PEV', 'AWS_lag8', 'AWS_lag12', 'AWS_lag1', 'AWS_rollmean_3', 'AWS_rollstd_3', 'AWS_rollmean_19', 'AWS_rollstd_19']\n",
      " Data shapes - Train: torch.Size([52104, 12, 19]), Val: torch.Size([9352, 12, 19]), Test: torch.Size([8370, 12, 19])\n",
      "   Epoch 1/5, Total Loss: 1.9594, Binary: 0.5606, Intensity: 0.4251, Regression: 1.0764\n"
     ]
    },
    {
     "name": "stderr",
     "output_type": "stream",
     "text": [
      "[I 2025-05-06 18:09:23,294] Trial 11 finished with value: 0.5288707415262858 and parameters: {'hidden_size': 37, 'num_layers': 2, 'dropout': 0.0034084434556533386, 'lr': 0.00011273359934536066, 'time_step_in': 12, 'time_step_out': 1, 'stride': 3, 'binary_weight': 1.9266367340390549, 'intensity_weight': 0.6173424946589217, 'regression_weight': 0.5730391201583253, 'rain_threshold': 0.05498855929074676, 'num_lags': 3, 'lag_0': 8, 'lag_1': 12, 'lag_2': 1, 'num_windows': 2, 'window_0': 3, 'window_1': 19}. Best is trial 10 with value: 0.5219628810882568.\n"
     ]
    },
    {
     "name": "stdout",
     "output_type": "stream",
     "text": [
      "Error in fold fold_5: Expected input batch_size (1) to match target batch_size (0).\n",
      "Using 19 features: ['TCW', 'TCLW', 'R250', 'R500', 'R850', 'U850', 'V850', 'EWSS', 'KX', 'CAPE', 'SSHF', 'PEV', 'AWS_lag7', 'AWS_lag12', 'AWS_lag1', 'AWS_rollmean_3', 'AWS_rollstd_3', 'AWS_rollmean_18', 'AWS_rollstd_18']\n",
      " Data shapes - Train: torch.Size([9352, 13, 19]), Val: torch.Size([9352, 13, 19]), Test: torch.Size([8221, 13, 19])\n",
      "   Epoch 1/5, Total Loss: 2.3661, Binary: 0.6931, Intensity: 1.1221, Regression: 0.7972\n",
      "   Epoch 2/5, Total Loss: 2.0396, Binary: 0.6967, Intensity: 0.6127, Regression: 0.6599\n",
      "   Epoch 3/5, Total Loss: 1.8693, Binary: 0.6926, Intensity: 0.3015, Regression: 0.6543\n",
      "   Epoch 4/5, Total Loss: 1.7951, Binary: 0.6817, Intensity: 0.1804, Regression: 0.6721\n",
      "   Epoch 5/5, Total Loss: 1.6747, Binary: 0.6295, Intensity: 0.1308, Regression: 0.6873\n",
      "Using 19 features: ['TCW', 'TCLW', 'R250', 'R500', 'R850', 'U850', 'V850', 'EWSS', 'KX', 'CAPE', 'SSHF', 'PEV', 'AWS_lag7', 'AWS_lag12', 'AWS_lag1', 'AWS_rollmean_3', 'AWS_rollstd_3', 'AWS_rollmean_18', 'AWS_rollstd_18']\n",
      " Data shapes - Train: torch.Size([20040, 13, 19]), Val: torch.Size([9352, 13, 19]), Test: torch.Size([8221, 13, 19])\n",
      "   Epoch 1/5, Total Loss: 2.1698, Binary: 0.6877, Intensity: 0.6351, Regression: 0.9174\n",
      "   Epoch 2/5, Total Loss: 1.8524, Binary: 0.6776, Intensity: 0.1512, Regression: 0.8235\n",
      "   Epoch 3/5, Total Loss: 1.8412, Binary: 0.6774, Intensity: 0.1207, Regression: 0.8327\n",
      "   Epoch 4/5, Total Loss: 1.8241, Binary: 0.6737, Intensity: 0.1186, Regression: 0.8162\n",
      "   Epoch 5/5, Total Loss: 1.7636, Binary: 0.6460, Intensity: 0.1165, Regression: 0.8075\n",
      "Using 19 features: ['TCW', 'TCLW', 'R250', 'R500', 'R850', 'U850', 'V850', 'EWSS', 'KX', 'CAPE', 'SSHF', 'PEV', 'AWS_lag7', 'AWS_lag12', 'AWS_lag1', 'AWS_rollmean_3', 'AWS_rollstd_3', 'AWS_rollmean_18', 'AWS_rollstd_18']\n",
      " Data shapes - Train: torch.Size([30728, 13, 19]), Val: torch.Size([9352, 13, 19]), Test: torch.Size([8221, 13, 19])\n",
      "   Epoch 1/5, Total Loss: 1.9974, Binary: 0.6932, Intensity: 0.4339, Regression: 0.7657\n",
      "   Epoch 2/5, Total Loss: 1.8221, Binary: 0.6931, Intensity: 0.1111, Regression: 0.7473\n",
      "   Epoch 3/5, Total Loss: 1.7925, Binary: 0.6878, Intensity: 0.1039, Regression: 0.7181\n",
      "   Epoch 4/5, Total Loss: 1.6035, Binary: 0.5975, Intensity: 0.1027, Regression: 0.6992\n",
      "   Epoch 5/5, Total Loss: 1.4749, Binary: 0.5381, Intensity: 0.0991, Regression: 0.6813\n",
      "Using 19 features: ['TCW', 'TCLW', 'R250', 'R500', 'R850', 'U850', 'V850', 'EWSS', 'KX', 'CAPE', 'SSHF', 'PEV', 'AWS_lag7', 'AWS_lag12', 'AWS_lag1', 'AWS_rollmean_3', 'AWS_rollstd_3', 'AWS_rollmean_18', 'AWS_rollstd_18']\n",
      " Data shapes - Train: torch.Size([41416, 13, 19]), Val: torch.Size([9352, 13, 19]), Test: torch.Size([8221, 13, 19])\n",
      "Error in fold fold_4: Expected input batch_size (1) to match target batch_size (0).\n",
      "Using 19 features: ['TCW', 'TCLW', 'R250', 'R500', 'R850', 'U850', 'V850', 'EWSS', 'KX', 'CAPE', 'SSHF', 'PEV', 'AWS_lag7', 'AWS_lag12', 'AWS_lag1', 'AWS_rollmean_3', 'AWS_rollstd_3', 'AWS_rollmean_18', 'AWS_rollstd_18']\n",
      " Data shapes - Train: torch.Size([52104, 13, 19]), Val: torch.Size([9352, 13, 19]), Test: torch.Size([8221, 13, 19])\n"
     ]
    },
    {
     "name": "stderr",
     "output_type": "stream",
     "text": [
      "[I 2025-05-06 18:10:14,878] Trial 12 finished with value: 0.5165307025114695 and parameters: {'hidden_size': 38, 'num_layers': 2, 'dropout': 0.005332318582502013, 'lr': 0.00010161003023622163, 'time_step_in': 13, 'time_step_out': 1, 'stride': 3, 'binary_weight': 1.9751903160127513, 'intensity_weight': 0.5119489307855372, 'regression_weight': 0.5302031552205841, 'rain_threshold': 0.05402830140201603, 'num_lags': 3, 'lag_0': 7, 'lag_1': 12, 'lag_2': 1, 'num_windows': 2, 'window_0': 3, 'window_1': 18}. Best is trial 12 with value: 0.5165307025114695.\n"
     ]
    },
    {
     "name": "stdout",
     "output_type": "stream",
     "text": [
      "Error in fold fold_5: Expected input batch_size (1) to match target batch_size (0).\n",
      "Using 19 features: ['TCW', 'TCLW', 'R250', 'R500', 'R850', 'U850', 'V850', 'EWSS', 'KX', 'CAPE', 'SSHF', 'PEV', 'AWS_lag6', 'AWS_lag12', 'AWS_lag1', 'AWS_rollmean_3', 'AWS_rollstd_3', 'AWS_rollmean_18', 'AWS_rollstd_18']\n",
      " Data shapes - Train: torch.Size([6680, 19, 19]), Val: torch.Size([6680, 19, 19]), Test: torch.Size([5821, 19, 19])\n",
      "   Epoch 1/5, Total Loss: 2.1263, Binary: 0.6926, Intensity: 0.8920, Regression: 0.3184\n",
      "   Epoch 2/5, Total Loss: 1.9109, Binary: 0.6915, Intensity: 0.6485, Regression: 0.2578\n",
      "   Epoch 3/5, Total Loss: 1.6015, Binary: 0.6916, Intensity: 0.2368, Regression: 0.2539\n",
      "   Epoch 4/5, Total Loss: 1.4865, Binary: 0.6785, Intensity: 0.1243, Regression: 0.2411\n",
      "   Epoch 5/5, Total Loss: 1.4315, Binary: 0.6588, Intensity: 0.0865, Regression: 0.2609\n",
      "Using 19 features: ['TCW', 'TCLW', 'R250', 'R500', 'R850', 'U850', 'V850', 'EWSS', 'KX', 'CAPE', 'SSHF', 'PEV', 'AWS_lag6', 'AWS_lag12', 'AWS_lag1', 'AWS_rollmean_3', 'AWS_rollstd_3', 'AWS_rollmean_18', 'AWS_rollstd_18']\n",
      " Data shapes - Train: torch.Size([14696, 19, 19]), Val: torch.Size([6680, 19, 19]), Test: torch.Size([5821, 19, 19])\n",
      "   Epoch 1/5, Total Loss: 2.3413, Binary: 0.6598, Intensity: 0.9732, Regression: 0.7370\n",
      "   Epoch 2/5, Total Loss: 1.7021, Binary: 0.6336, Intensity: 0.2518, Regression: 0.6380\n",
      "   Epoch 3/5, Total Loss: 1.6058, Binary: 0.6277, Intensity: 0.1303, Regression: 0.6485\n",
      "   Epoch 4/5, Total Loss: 1.5689, Binary: 0.6157, Intensity: 0.1086, Regression: 0.6517\n",
      "   Epoch 5/5, Total Loss: 1.5137, Binary: 0.5996, Intensity: 0.0998, Regression: 0.6159\n",
      "Using 19 features: ['TCW', 'TCLW', 'R250', 'R500', 'R850', 'U850', 'V850', 'EWSS', 'KX', 'CAPE', 'SSHF', 'PEV', 'AWS_lag6', 'AWS_lag12', 'AWS_lag1', 'AWS_rollmean_3', 'AWS_rollstd_3', 'AWS_rollmean_18', 'AWS_rollstd_18']\n",
      " Data shapes - Train: torch.Size([22712, 19, 19]), Val: torch.Size([6680, 19, 19]), Test: torch.Size([5821, 19, 19])\n",
      "Error in fold fold_3: Expected input batch_size (1) to match target batch_size (0).\n",
      "Using 19 features: ['TCW', 'TCLW', 'R250', 'R500', 'R850', 'U850', 'V850', 'EWSS', 'KX', 'CAPE', 'SSHF', 'PEV', 'AWS_lag6', 'AWS_lag12', 'AWS_lag1', 'AWS_rollmean_3', 'AWS_rollstd_3', 'AWS_rollmean_18', 'AWS_rollstd_18']\n",
      " Data shapes - Train: torch.Size([30728, 19, 19]), Val: torch.Size([6680, 19, 19]), Test: torch.Size([5821, 19, 19])\n",
      "Error in fold fold_4: Expected input batch_size (1) to match target batch_size (0).\n",
      "Using 19 features: ['TCW', 'TCLW', 'R250', 'R500', 'R850', 'U850', 'V850', 'EWSS', 'KX', 'CAPE', 'SSHF', 'PEV', 'AWS_lag6', 'AWS_lag12', 'AWS_lag1', 'AWS_rollmean_3', 'AWS_rollstd_3', 'AWS_rollmean_18', 'AWS_rollstd_18']\n",
      " Data shapes - Train: torch.Size([38744, 19, 19]), Val: torch.Size([6680, 19, 19]), Test: torch.Size([5821, 19, 19])\n",
      "   Epoch 1/5, Total Loss: 2.0836, Binary: 0.5121, Intensity: 0.6404, Regression: 1.2556\n",
      "   Epoch 2/5, Total Loss: 1.5619, Binary: 0.4273, Intensity: 0.1986, Regression: 1.1920\n",
      "   Epoch 3/5, Total Loss: 1.4396, Binary: 0.3848, Intensity: 0.1730, Regression: 1.1458\n",
      "   Epoch 4/5, Total Loss: 1.2745, Binary: 0.3121, Intensity: 0.1609, Regression: 1.1071\n"
     ]
    },
    {
     "name": "stderr",
     "output_type": "stream",
     "text": [
      "[I 2025-05-06 18:10:58,434] Trial 13 finished with value: 0.6769302487373352 and parameters: {'hidden_size': 32, 'num_layers': 2, 'dropout': 0.008443468060745923, 'lr': 0.00011281070754970741, 'time_step_in': 19, 'time_step_out': 1, 'stride': 4, 'binary_weight': 1.8707291663063446, 'intensity_weight': 0.7472020920472586, 'regression_weight': 0.5153166214764762, 'rain_threshold': 0.08801366382658779, 'num_lags': 3, 'lag_0': 6, 'lag_1': 12, 'lag_2': 1, 'num_windows': 2, 'window_0': 3, 'window_1': 18}. Best is trial 12 with value: 0.5165307025114695.\n"
     ]
    },
    {
     "name": "stdout",
     "output_type": "stream",
     "text": [
      "Error in fold fold_5: Expected input batch_size (1) to match target batch_size (0).\n",
      "Using 18 features: ['TCW', 'TCLW', 'R250', 'R500', 'R850', 'U850', 'V850', 'EWSS', 'KX', 'CAPE', 'SSHF', 'PEV', 'AWS_lag8', 'AWS_lag10', 'AWS_rollmean_8', 'AWS_rollstd_8', 'AWS_rollmean_13', 'AWS_rollstd_13']\n",
      " Data shapes - Train: torch.Size([8350, 20, 18]), Val: torch.Size([8350, 20, 18]), Test: torch.Size([7586, 20, 18])\n",
      "Error in fold fold_1: Target size (torch.Size([64, 2])) must be the same as input size (torch.Size([64, 1]))\n",
      "Using 18 features: ['TCW', 'TCLW', 'R250', 'R500', 'R850', 'U850', 'V850', 'EWSS', 'KX', 'CAPE', 'SSHF', 'PEV', 'AWS_lag8', 'AWS_lag10', 'AWS_rollmean_8', 'AWS_rollstd_8', 'AWS_rollmean_13', 'AWS_rollstd_13']\n",
      " Data shapes - Train: torch.Size([19038, 20, 18]), Val: torch.Size([8350, 20, 18]), Test: torch.Size([7586, 20, 18])\n",
      "Error in fold fold_2: Target size (torch.Size([64, 2])) must be the same as input size (torch.Size([64, 1]))\n",
      "Using 18 features: ['TCW', 'TCLW', 'R250', 'R500', 'R850', 'U850', 'V850', 'EWSS', 'KX', 'CAPE', 'SSHF', 'PEV', 'AWS_lag8', 'AWS_lag10', 'AWS_rollmean_8', 'AWS_rollstd_8', 'AWS_rollmean_13', 'AWS_rollstd_13']\n",
      " Data shapes - Train: torch.Size([29726, 20, 18]), Val: torch.Size([8350, 20, 18]), Test: torch.Size([7586, 20, 18])\n",
      "Error in fold fold_3: Target size (torch.Size([64, 2])) must be the same as input size (torch.Size([64, 1]))\n",
      "Using 18 features: ['TCW', 'TCLW', 'R250', 'R500', 'R850', 'U850', 'V850', 'EWSS', 'KX', 'CAPE', 'SSHF', 'PEV', 'AWS_lag8', 'AWS_lag10', 'AWS_rollmean_8', 'AWS_rollstd_8', 'AWS_rollmean_13', 'AWS_rollstd_13']\n",
      " Data shapes - Train: torch.Size([40414, 20, 18]), Val: torch.Size([8350, 20, 18]), Test: torch.Size([7586, 20, 18])\n",
      "Error in fold fold_4: Target size (torch.Size([64, 2])) must be the same as input size (torch.Size([64, 1]))\n",
      "Using 18 features: ['TCW', 'TCLW', 'R250', 'R500', 'R850', 'U850', 'V850', 'EWSS', 'KX', 'CAPE', 'SSHF', 'PEV', 'AWS_lag8', 'AWS_lag10', 'AWS_rollmean_8', 'AWS_rollstd_8', 'AWS_rollmean_13', 'AWS_rollstd_13']\n"
     ]
    },
    {
     "name": "stderr",
     "output_type": "stream",
     "text": [
      "[I 2025-05-06 18:11:26,922] Trial 14 finished with value: inf and parameters: {'hidden_size': 65, 'num_layers': 2, 'dropout': 0.23386341446734943, 'lr': 0.0004947708492308451, 'time_step_in': 20, 'time_step_out': 2, 'stride': 3, 'binary_weight': 1.730750076735032, 'intensity_weight': 0.7785143081437897, 'regression_weight': 1.4575401442837561, 'rain_threshold': 0.08296780283534444, 'num_lags': 2, 'lag_0': 8, 'lag_1': 10, 'num_windows': 2, 'window_0': 8, 'window_1': 13}. Best is trial 12 with value: 0.5165307025114695.\n"
     ]
    },
    {
     "name": "stdout",
     "output_type": "stream",
     "text": [
      " Data shapes - Train: torch.Size([51102, 20, 18]), Val: torch.Size([8350, 20, 18]), Test: torch.Size([7586, 20, 18])\n",
      "Error in fold fold_5: Target size (torch.Size([64, 2])) must be the same as input size (torch.Size([64, 1]))\n",
      "Using 19 features: ['TCW', 'TCLW', 'R250', 'R500', 'R850', 'U850', 'V850', 'EWSS', 'KX', 'CAPE', 'SSHF', 'PEV', 'AWS_lag9', 'AWS_lag11', 'AWS_lag11', 'AWS_rollmean_7', 'AWS_rollstd_7', 'AWS_rollmean_18', 'AWS_rollstd_18']\n",
      " Data shapes - Train: torch.Size([12692, 16, 19]), Val: torch.Size([12692, 16, 19]), Test: torch.Size([11369, 16, 19])\n",
      "Error in fold fold_1: Target size (torch.Size([64, 5])) must be the same as input size (torch.Size([64, 1]))\n",
      "Using 19 features: ['TCW', 'TCLW', 'R250', 'R500', 'R850', 'U850', 'V850', 'EWSS', 'KX', 'CAPE', 'SSHF', 'PEV', 'AWS_lag9', 'AWS_lag11', 'AWS_lag11', 'AWS_rollmean_7', 'AWS_rollstd_7', 'AWS_rollmean_18', 'AWS_rollstd_18']\n",
      " Data shapes - Train: torch.Size([28724, 16, 19]), Val: torch.Size([12692, 16, 19]), Test: torch.Size([11369, 16, 19])\n",
      "Error in fold fold_2: Target size (torch.Size([64, 5])) must be the same as input size (torch.Size([64, 1]))\n",
      "Using 19 features: ['TCW', 'TCLW', 'R250', 'R500', 'R850', 'U850', 'V850', 'EWSS', 'KX', 'CAPE', 'SSHF', 'PEV', 'AWS_lag9', 'AWS_lag11', 'AWS_lag11', 'AWS_rollmean_7', 'AWS_rollstd_7', 'AWS_rollmean_18', 'AWS_rollstd_18']\n",
      " Data shapes - Train: torch.Size([44756, 16, 19]), Val: torch.Size([12692, 16, 19]), Test: torch.Size([11369, 16, 19])\n",
      "Error in fold fold_3: Target size (torch.Size([64, 5])) must be the same as input size (torch.Size([64, 1]))\n",
      "Using 19 features: ['TCW', 'TCLW', 'R250', 'R500', 'R850', 'U850', 'V850', 'EWSS', 'KX', 'CAPE', 'SSHF', 'PEV', 'AWS_lag9', 'AWS_lag11', 'AWS_lag11', 'AWS_rollmean_7', 'AWS_rollstd_7', 'AWS_rollmean_18', 'AWS_rollstd_18']\n",
      " Data shapes - Train: torch.Size([60788, 16, 19]), Val: torch.Size([12692, 16, 19]), Test: torch.Size([11369, 16, 19])\n",
      "Error in fold fold_4: Target size (torch.Size([64, 5])) must be the same as input size (torch.Size([64, 1]))\n",
      "Using 19 features: ['TCW', 'TCLW', 'R250', 'R500', 'R850', 'U850', 'V850', 'EWSS', 'KX', 'CAPE', 'SSHF', 'PEV', 'AWS_lag9', 'AWS_lag11', 'AWS_lag11', 'AWS_rollmean_7', 'AWS_rollstd_7', 'AWS_rollmean_18', 'AWS_rollstd_18']\n"
     ]
    },
    {
     "name": "stderr",
     "output_type": "stream",
     "text": [
      "[I 2025-05-06 18:12:00,126] Trial 15 finished with value: inf and parameters: {'hidden_size': 72, 'num_layers': 2, 'dropout': 0.31641296033185307, 'lr': 0.00011826509018611375, 'time_step_in': 16, 'time_step_out': 5, 'stride': 2, 'binary_weight': 1.7161584695816101, 'intensity_weight': 1.6102859795038598, 'regression_weight': 0.7464920529102115, 'rain_threshold': 0.0506402050410921, 'num_lags': 3, 'lag_0': 9, 'lag_1': 11, 'lag_2': 11, 'num_windows': 2, 'window_0': 7, 'window_1': 18}. Best is trial 12 with value: 0.5165307025114695.\n"
     ]
    },
    {
     "name": "stdout",
     "output_type": "stream",
     "text": [
      " Data shapes - Train: torch.Size([76820, 16, 19]), Val: torch.Size([12692, 16, 19]), Test: torch.Size([11369, 16, 19])\n",
      "Error in fold fold_5: Target size (torch.Size([64, 5])) must be the same as input size (torch.Size([64, 1]))\n",
      "Using 19 features: ['TCW', 'TCLW', 'R250', 'R500', 'R850', 'U850', 'V850', 'EWSS', 'KX', 'CAPE', 'SSHF', 'PEV', 'AWS_lag5', 'AWS_lag6', 'AWS_lag3', 'AWS_rollmean_6', 'AWS_rollstd_6', 'AWS_rollmean_4', 'AWS_rollstd_4']\n",
      " Data shapes - Train: torch.Size([6012, 26, 19]), Val: torch.Size([6012, 26, 19]), Test: torch.Size([5330, 26, 19])\n",
      "   Epoch 1/5, Total Loss: 2.1912, Binary: 0.6937, Intensity: 0.5669, Regression: 0.5216\n",
      "   Epoch 2/5, Total Loss: 1.9222, Binary: 0.6936, Intensity: 0.0715, Regression: 0.5121\n",
      "   Epoch 3/5, Total Loss: 1.9082, Binary: 0.6935, Intensity: 0.0627, Regression: 0.5056\n",
      "   Epoch 4/5, Total Loss: 1.8886, Binary: 0.6924, Intensity: 0.0618, Regression: 0.4936\n",
      "   Epoch 5/5, Total Loss: 1.9141, Binary: 0.6886, Intensity: 0.0618, Regression: 0.5158\n",
      "Using 19 features: ['TCW', 'TCLW', 'R250', 'R500', 'R850', 'U850', 'V850', 'EWSS', 'KX', 'CAPE', 'SSHF', 'PEV', 'AWS_lag5', 'AWS_lag6', 'AWS_lag3', 'AWS_rollmean_6', 'AWS_rollstd_6', 'AWS_rollmean_4', 'AWS_rollstd_4']\n",
      " Data shapes - Train: torch.Size([14028, 26, 19]), Val: torch.Size([6012, 26, 19]), Test: torch.Size([5330, 26, 19])\n",
      "Error in fold fold_2: Expected input batch_size (1) to match target batch_size (0).\n",
      "Using 19 features: ['TCW', 'TCLW', 'R250', 'R500', 'R850', 'U850', 'V850', 'EWSS', 'KX', 'CAPE', 'SSHF', 'PEV', 'AWS_lag5', 'AWS_lag6', 'AWS_lag3', 'AWS_rollmean_6', 'AWS_rollstd_6', 'AWS_rollmean_4', 'AWS_rollstd_4']\n",
      " Data shapes - Train: torch.Size([22044, 26, 19]), Val: torch.Size([6012, 26, 19]), Test: torch.Size([5330, 26, 19])\n",
      "Error in fold fold_3: Expected input batch_size (1) to match target batch_size (0).\n",
      "Using 19 features: ['TCW', 'TCLW', 'R250', 'R500', 'R850', 'U850', 'V850', 'EWSS', 'KX', 'CAPE', 'SSHF', 'PEV', 'AWS_lag5', 'AWS_lag6', 'AWS_lag3', 'AWS_rollmean_6', 'AWS_rollstd_6', 'AWS_rollmean_4', 'AWS_rollstd_4']\n",
      " Data shapes - Train: torch.Size([30060, 26, 19]), Val: torch.Size([6012, 26, 19]), Test: torch.Size([5330, 26, 19])\n",
      "   Epoch 1/5, Total Loss: 4.2552, Binary: 0.3751, Intensity: 0.3882, Regression: 2.3906\n",
      "Error in fold fold_4: Expected input batch_size (1) to match target batch_size (0).\n",
      "Using 19 features: ['TCW', 'TCLW', 'R250', 'R500', 'R850', 'U850', 'V850', 'EWSS', 'KX', 'CAPE', 'SSHF', 'PEV', 'AWS_lag5', 'AWS_lag6', 'AWS_lag3', 'AWS_rollmean_6', 'AWS_rollstd_6', 'AWS_rollmean_4', 'AWS_rollstd_4']\n",
      " Data shapes - Train: torch.Size([38076, 26, 19]), Val: torch.Size([6012, 26, 19]), Test: torch.Size([5330, 26, 19])\n",
      "   Epoch 1/5, Total Loss: 3.2026, Binary: 0.4094, Intensity: 0.3191, Regression: 1.6430\n"
     ]
    },
    {
     "name": "stderr",
     "output_type": "stream",
     "text": [
      "[I 2025-05-06 18:12:38,341] Trial 16 finished with value: 0.5537008047103882 and parameters: {'hidden_size': 64, 'num_layers': 2, 'dropout': 0.44259942096273946, 'lr': 0.00044864672056819216, 'time_step_in': 26, 'time_step_out': 1, 'stride': 4, 'binary_weight': 1.6577851159499568, 'intensity_weight': 0.5150677224545994, 'regression_weight': 1.4361829828596822, 'rain_threshold': 0.1446764890529073, 'num_lags': 3, 'lag_0': 5, 'lag_1': 6, 'lag_2': 3, 'num_windows': 2, 'window_0': 6, 'window_1': 4}. Best is trial 12 with value: 0.5165307025114695.\n"
     ]
    },
    {
     "name": "stdout",
     "output_type": "stream",
     "text": [
      "Error in fold fold_5: Expected input batch_size (1) to match target batch_size (0).\n",
      "Using 16 features: ['TCW', 'TCLW', 'R250', 'R500', 'R850', 'U850', 'V850', 'EWSS', 'KX', 'CAPE', 'SSHF', 'PEV', 'AWS_lag6', 'AWS_lag10', 'AWS_rollmean_11', 'AWS_rollstd_11']\n",
      " Data shapes - Train: torch.Size([8016, 24, 16]), Val: torch.Size([8016, 24, 16]), Test: torch.Size([7177, 24, 16])\n",
      "Error in fold fold_1: Target size (torch.Size([64, 2])) must be the same as input size (torch.Size([64, 1]))\n",
      "Using 16 features: ['TCW', 'TCLW', 'R250', 'R500', 'R850', 'U850', 'V850', 'EWSS', 'KX', 'CAPE', 'SSHF', 'PEV', 'AWS_lag6', 'AWS_lag10', 'AWS_rollmean_11', 'AWS_rollstd_11']\n",
      " Data shapes - Train: torch.Size([18704, 24, 16]), Val: torch.Size([8016, 24, 16]), Test: torch.Size([7177, 24, 16])\n",
      "Error in fold fold_2: Target size (torch.Size([64, 2])) must be the same as input size (torch.Size([64, 1]))\n",
      "Using 16 features: ['TCW', 'TCLW', 'R250', 'R500', 'R850', 'U850', 'V850', 'EWSS', 'KX', 'CAPE', 'SSHF', 'PEV', 'AWS_lag6', 'AWS_lag10', 'AWS_rollmean_11', 'AWS_rollstd_11']\n",
      " Data shapes - Train: torch.Size([29392, 24, 16]), Val: torch.Size([8016, 24, 16]), Test: torch.Size([7177, 24, 16])\n",
      "Error in fold fold_3: Target size (torch.Size([64, 2])) must be the same as input size (torch.Size([64, 1]))\n",
      "Using 16 features: ['TCW', 'TCLW', 'R250', 'R500', 'R850', 'U850', 'V850', 'EWSS', 'KX', 'CAPE', 'SSHF', 'PEV', 'AWS_lag6', 'AWS_lag10', 'AWS_rollmean_11', 'AWS_rollstd_11']\n",
      " Data shapes - Train: torch.Size([40080, 24, 16]), Val: torch.Size([8016, 24, 16]), Test: torch.Size([7177, 24, 16])\n",
      "Error in fold fold_4: Target size (torch.Size([64, 2])) must be the same as input size (torch.Size([64, 1]))\n",
      "Using 16 features: ['TCW', 'TCLW', 'R250', 'R500', 'R850', 'U850', 'V850', 'EWSS', 'KX', 'CAPE', 'SSHF', 'PEV', 'AWS_lag6', 'AWS_lag10', 'AWS_rollmean_11', 'AWS_rollstd_11']\n"
     ]
    },
    {
     "name": "stderr",
     "output_type": "stream",
     "text": [
      "[I 2025-05-06 18:13:04,837] Trial 17 finished with value: inf and parameters: {'hidden_size': 46, 'num_layers': 2, 'dropout': 0.04235852920906097, 'lr': 0.0010294980200228245, 'time_step_in': 24, 'time_step_out': 2, 'stride': 3, 'binary_weight': 1.9584912395591436, 'intensity_weight': 1.003647202519955, 'regression_weight': 0.6734386592878449, 'rain_threshold': 0.09674355596912072, 'num_lags': 2, 'lag_0': 6, 'lag_1': 10, 'num_windows': 1, 'window_0': 11}. Best is trial 12 with value: 0.5165307025114695.\n"
     ]
    },
    {
     "name": "stdout",
     "output_type": "stream",
     "text": [
      " Data shapes - Train: torch.Size([50768, 24, 16]), Val: torch.Size([8016, 24, 16]), Test: torch.Size([7177, 24, 16])\n",
      "Error in fold fold_5: Target size (torch.Size([64, 2])) must be the same as input size (torch.Size([64, 1]))\n",
      "Using 15 features: ['TCW', 'TCLW', 'R250', 'R500', 'R850', 'U850', 'V850', 'EWSS', 'KX', 'CAPE', 'SSHF', 'PEV', 'AWS_lag9', 'AWS_rollmean_5', 'AWS_rollstd_5']\n",
      " Data shapes - Train: torch.Size([5344, 16, 15]), Val: torch.Size([5344, 16, 15]), Test: torch.Size([4693, 16, 15])\n",
      "Error in fold fold_1: Target size (torch.Size([64, 4])) must be the same as input size (torch.Size([64, 1]))\n"
     ]
    },
    {
     "name": "stderr",
     "output_type": "stream",
     "text": [
      "/usr/local/lib/python3.10/dist-packages/torch/nn/modules/rnn.py:123: UserWarning: dropout option adds dropout after all but last recurrent layer, so non-zero dropout expects num_layers greater than 1, but got dropout=0.1605091102156686 and num_layers=1\n",
      "  warnings.warn(\n"
     ]
    },
    {
     "name": "stdout",
     "output_type": "stream",
     "text": [
      "Using 15 features: ['TCW', 'TCLW', 'R250', 'R500', 'R850', 'U850', 'V850', 'EWSS', 'KX', 'CAPE', 'SSHF', 'PEV', 'AWS_lag9', 'AWS_rollmean_5', 'AWS_rollstd_5']\n",
      " Data shapes - Train: torch.Size([11690, 16, 15]), Val: torch.Size([5344, 16, 15]), Test: torch.Size([4693, 16, 15])\n",
      "Error in fold fold_2: Target size (torch.Size([64, 4])) must be the same as input size (torch.Size([64, 1]))\n"
     ]
    },
    {
     "name": "stderr",
     "output_type": "stream",
     "text": [
      "/usr/local/lib/python3.10/dist-packages/torch/nn/modules/rnn.py:123: UserWarning: dropout option adds dropout after all but last recurrent layer, so non-zero dropout expects num_layers greater than 1, but got dropout=0.1605091102156686 and num_layers=1\n",
      "  warnings.warn(\n"
     ]
    },
    {
     "name": "stdout",
     "output_type": "stream",
     "text": [
      "Using 15 features: ['TCW', 'TCLW', 'R250', 'R500', 'R850', 'U850', 'V850', 'EWSS', 'KX', 'CAPE', 'SSHF', 'PEV', 'AWS_lag9', 'AWS_rollmean_5', 'AWS_rollstd_5']\n",
      " Data shapes - Train: torch.Size([18036, 16, 15]), Val: torch.Size([5344, 16, 15]), Test: torch.Size([4693, 16, 15])\n",
      "Error in fold fold_3: Target size (torch.Size([64, 4])) must be the same as input size (torch.Size([64, 1]))\n"
     ]
    },
    {
     "name": "stderr",
     "output_type": "stream",
     "text": [
      "/usr/local/lib/python3.10/dist-packages/torch/nn/modules/rnn.py:123: UserWarning: dropout option adds dropout after all but last recurrent layer, so non-zero dropout expects num_layers greater than 1, but got dropout=0.1605091102156686 and num_layers=1\n",
      "  warnings.warn(\n"
     ]
    },
    {
     "name": "stdout",
     "output_type": "stream",
     "text": [
      "Using 15 features: ['TCW', 'TCLW', 'R250', 'R500', 'R850', 'U850', 'V850', 'EWSS', 'KX', 'CAPE', 'SSHF', 'PEV', 'AWS_lag9', 'AWS_rollmean_5', 'AWS_rollstd_5']\n",
      " Data shapes - Train: torch.Size([24382, 16, 15]), Val: torch.Size([5344, 16, 15]), Test: torch.Size([4693, 16, 15])\n",
      "Error in fold fold_4: Target size (torch.Size([64, 4])) must be the same as input size (torch.Size([64, 1]))\n"
     ]
    },
    {
     "name": "stderr",
     "output_type": "stream",
     "text": [
      "/usr/local/lib/python3.10/dist-packages/torch/nn/modules/rnn.py:123: UserWarning: dropout option adds dropout after all but last recurrent layer, so non-zero dropout expects num_layers greater than 1, but got dropout=0.1605091102156686 and num_layers=1\n",
      "  warnings.warn(\n"
     ]
    },
    {
     "name": "stdout",
     "output_type": "stream",
     "text": [
      "Using 15 features: ['TCW', 'TCLW', 'R250', 'R500', 'R850', 'U850', 'V850', 'EWSS', 'KX', 'CAPE', 'SSHF', 'PEV', 'AWS_lag9', 'AWS_rollmean_5', 'AWS_rollstd_5']\n"
     ]
    },
    {
     "name": "stderr",
     "output_type": "stream",
     "text": [
      "/usr/local/lib/python3.10/dist-packages/torch/nn/modules/rnn.py:123: UserWarning: dropout option adds dropout after all but last recurrent layer, so non-zero dropout expects num_layers greater than 1, but got dropout=0.1605091102156686 and num_layers=1\n",
      "  warnings.warn(\n",
      "[I 2025-05-06 18:13:20,698] Trial 18 finished with value: inf and parameters: {'hidden_size': 186, 'num_layers': 1, 'dropout': 0.1605091102156686, 'lr': 0.00018063827557800912, 'time_step_in': 16, 'time_step_out': 4, 'stride': 5, 'binary_weight': 1.7790303259752918, 'intensity_weight': 0.7291116301486227, 'regression_weight': 0.5057955644290186, 'rain_threshold': 0.065131313793832, 'num_lags': 1, 'lag_0': 9, 'num_windows': 1, 'window_0': 5}. Best is trial 12 with value: 0.5165307025114695.\n"
     ]
    },
    {
     "name": "stdout",
     "output_type": "stream",
     "text": [
      " Data shapes - Train: torch.Size([31062, 16, 15]), Val: torch.Size([5344, 16, 15]), Test: torch.Size([4693, 16, 15])\n",
      "Error in fold fold_5: Target size (torch.Size([64, 4])) must be the same as input size (torch.Size([64, 1]))\n",
      "Using 19 features: ['TCW', 'TCLW', 'R250', 'R500', 'R850', 'U850', 'V850', 'EWSS', 'KX', 'CAPE', 'SSHF', 'PEV', 'AWS_lag4', 'AWS_lag12', 'AWS_lag3', 'AWS_rollmean_10', 'AWS_rollstd_10', 'AWS_rollmean_12', 'AWS_rollstd_12']\n",
      " Data shapes - Train: torch.Size([13694, 15, 19]), Val: torch.Size([13694, 15, 19]), Test: torch.Size([12068, 15, 19])\n",
      "   Epoch 1/5, Total Loss: 2.2343, Binary: 0.6684, Intensity: 0.2083, Regression: 0.5592\n",
      "   Epoch 2/5, Total Loss: 1.8820, Binary: 0.5440, Intensity: 0.0568, Regression: 0.5563\n",
      "   Epoch 3/5, Total Loss: 1.8222, Binary: 0.5183, Intensity: 0.0550, Regression: 0.5510\n",
      "   Epoch 4/5, Total Loss: 1.8093, Binary: 0.5072, Intensity: 0.0557, Regression: 0.5573\n",
      "   Epoch 5/5, Total Loss: 1.7753, Binary: 0.4910, Intensity: 0.0565, Regression: 0.5557\n",
      "Using 19 features: ['TCW', 'TCLW', 'R250', 'R500', 'R850', 'U850', 'V850', 'EWSS', 'KX', 'CAPE', 'SSHF', 'PEV', 'AWS_lag4', 'AWS_lag12', 'AWS_lag3', 'AWS_rollmean_10', 'AWS_rollstd_10', 'AWS_rollmean_12', 'AWS_rollstd_12']\n",
      " Data shapes - Train: torch.Size([29726, 15, 19]), Val: torch.Size([13694, 15, 19]), Test: torch.Size([12068, 15, 19])\n",
      "   Epoch 1/5, Total Loss: 2.7315, Binary: 0.5897, Intensity: 0.2166, Regression: 1.0324\n",
      "   Epoch 2/5, Total Loss: 2.3290, Binary: 0.4682, Intensity: 0.1377, Regression: 0.9535\n",
      "   Epoch 3/5, Total Loss: 2.1150, Binary: 0.3992, Intensity: 0.1206, Regression: 0.9058\n",
      "   Epoch 4/5, Total Loss: 2.0001, Binary: 0.3812, Intensity: 0.1096, Regression: 0.8533\n",
      "   Epoch 5/5, Total Loss: 1.9457, Binary: 0.3670, Intensity: 0.1061, Regression: 0.8359\n",
      "Using 19 features: ['TCW', 'TCLW', 'R250', 'R500', 'R850', 'U850', 'V850', 'EWSS', 'KX', 'CAPE', 'SSHF', 'PEV', 'AWS_lag4', 'AWS_lag12', 'AWS_lag3', 'AWS_rollmean_10', 'AWS_rollstd_10', 'AWS_rollmean_12', 'AWS_rollstd_12']\n",
      " Data shapes - Train: torch.Size([45758, 15, 19]), Val: torch.Size([13694, 15, 19]), Test: torch.Size([12068, 15, 19])\n",
      "Error in fold fold_3: Expected input batch_size (1) to match target batch_size (0).\n",
      "Using 19 features: ['TCW', 'TCLW', 'R250', 'R500', 'R850', 'U850', 'V850', 'EWSS', 'KX', 'CAPE', 'SSHF', 'PEV', 'AWS_lag4', 'AWS_lag12', 'AWS_lag3', 'AWS_rollmean_10', 'AWS_rollstd_10', 'AWS_rollmean_12', 'AWS_rollstd_12']\n",
      " Data shapes - Train: torch.Size([61790, 15, 19]), Val: torch.Size([13694, 15, 19]), Test: torch.Size([12068, 15, 19])\n",
      "Error in fold fold_4: Expected input batch_size (1) to match target batch_size (0).\n",
      "Using 19 features: ['TCW', 'TCLW', 'R250', 'R500', 'R850', 'U850', 'V850', 'EWSS', 'KX', 'CAPE', 'SSHF', 'PEV', 'AWS_lag4', 'AWS_lag12', 'AWS_lag3', 'AWS_rollmean_10', 'AWS_rollstd_10', 'AWS_rollmean_12', 'AWS_rollstd_12']\n",
      " Data shapes - Train: torch.Size([77822, 15, 19]), Val: torch.Size([13694, 15, 19]), Test: torch.Size([12068, 15, 19])\n"
     ]
    },
    {
     "name": "stderr",
     "output_type": "stream",
     "text": [
      "[I 2025-05-06 18:14:14,841] Trial 19 finished with value: 0.6813070774078369 and parameters: {'hidden_size': 98, 'num_layers': 2, 'dropout': 0.21916287698800763, 'lr': 0.0003624720632731937, 'time_step_in': 15, 'time_step_out': 1, 'stride': 2, 'binary_weight': 1.988888179868371, 'intensity_weight': 0.6674530368985832, 'regression_weight': 1.3697061285294487, 'rain_threshold': 0.13833727087146763, 'num_lags': 3, 'lag_0': 4, 'lag_1': 12, 'lag_2': 3, 'num_windows': 2, 'window_0': 10, 'window_1': 12}. Best is trial 12 with value: 0.5165307025114695.\n"
     ]
    },
    {
     "name": "stdout",
     "output_type": "stream",
     "text": [
      "Error in fold fold_5: Expected input batch_size (1) to match target batch_size (0).\n",
      " Best parameters for 2020-04:\n",
      "  hidden_size: 38\n",
      "  num_layers: 2\n",
      "  dropout: 0.005332318582502013\n",
      "  lr: 0.00010161003023622163\n",
      "  time_step_in: 13\n",
      "  time_step_out: 1\n",
      "  stride: 3\n",
      "  binary_weight: 1.9751903160127513\n",
      "  intensity_weight: 0.5119489307855372\n",
      "  regression_weight: 0.5302031552205841\n",
      "  rain_threshold: 0.05402830140201603\n",
      "  num_lags: 3\n",
      "  lag_0: 7\n",
      "  lag_1: 12\n",
      "  lag_2: 1\n",
      "  num_windows: 2\n",
      "  window_0: 3\n",
      "  window_1: 18\n",
      " Best parameters saved to hybrid_best_params_2020-04.json\n",
      "\n",
      " Final evaluation on 2020-04, fold_1 test set\n",
      "\n",
      " Training hybrid model for 2020-04, fold_1 with best parameters\n",
      "Using 19 features: ['TCW', 'TCLW', 'R250', 'R500', 'R850', 'U850', 'V850', 'EWSS', 'KX', 'CAPE', 'SSHF', 'PEV', 'AWS_lag7', 'AWS_lag12', 'AWS_lag1', 'AWS_rollmean_3', 'AWS_rollstd_3', 'AWS_rollmean_18', 'AWS_rollstd_18']\n",
      " Data shapes - Train: torch.Size([9352, 13, 19]), Val: torch.Size([9352, 13, 19]), Test: torch.Size([8221, 13, 19])\n",
      "====== Training hybrid model on train set...\n",
      "   Epoch 1/10, Total Loss: 2.2600, Binary: 0.6915, Intensity: 1.0480, Regression: 0.6747\n"
     ]
    },
    {
     "name": "stderr",
     "output_type": "stream",
     "text": [
      "[I 2025-05-06 18:14:19,318] A new study created in memory with name: hybrid_2020-10_study\n"
     ]
    },
    {
     "name": "stdout",
     "output_type": "stream",
     "text": [
      " Error during optimization for 2020-04: Expected input batch_size (1) to match target batch_size (0).\n",
      "\n",
      "###### Processing month: 2020-10\n",
      " Finding optimal hyperparameters for hybrid model on 2020-10 using cross-validation...\n",
      "Using 15 features: ['TCW', 'TCLW', 'R250', 'R500', 'R850', 'U850', 'V850', 'EWSS', 'KX', 'CAPE', 'SSHF', 'PEV', 'AWS_lag10', 'AWS_rollmean_3', 'AWS_rollstd_3']\n",
      " Data shapes - Train: torch.Size([4564, 31, 15]), Val: torch.Size([5507, 31, 15]), Test: torch.Size([7374, 31, 15])\n"
     ]
    },
    {
     "name": "stderr",
     "output_type": "stream",
     "text": [
      "/usr/local/lib/python3.10/dist-packages/torch/nn/modules/rnn.py:123: UserWarning: dropout option adds dropout after all but last recurrent layer, so non-zero dropout expects num_layers greater than 1, but got dropout=0.2718704579992738 and num_layers=1\n",
      "  warnings.warn(\n"
     ]
    },
    {
     "name": "stdout",
     "output_type": "stream",
     "text": [
      "   Epoch 1/5, Total Loss: 8.4038, Binary: 0.6688, Intensity: 0.9668, Regression: 7.2319\n",
      "   Epoch 2/5, Total Loss: 5.1103, Binary: 0.6053, Intensity: 0.6893, Regression: 4.0585\n",
      "   Epoch 3/5, Total Loss: 4.2694, Binary: 0.5332, Intensity: 0.5079, Regression: 3.4461\n",
      "   Epoch 4/5, Total Loss: 3.9929, Binary: 0.4965, Intensity: 0.4538, Regression: 3.2516\n",
      "   Epoch 5/5, Total Loss: 3.8321, Binary: 0.4606, Intensity: 0.4347, Regression: 3.1388\n",
      "Using 15 features: ['TCW', 'TCLW', 'R250', 'R500', 'R850', 'U850', 'V850', 'EWSS', 'KX', 'CAPE', 'SSHF', 'PEV', 'AWS_lag10', 'AWS_rollmean_3', 'AWS_rollstd_3']\n",
      " Data shapes - Train: torch.Size([11371, 31, 15]), Val: torch.Size([5513, 31, 15]), Test: torch.Size([7230, 31, 15])\n"
     ]
    },
    {
     "name": "stderr",
     "output_type": "stream",
     "text": [
      "/usr/local/lib/python3.10/dist-packages/torch/nn/modules/rnn.py:123: UserWarning: dropout option adds dropout after all but last recurrent layer, so non-zero dropout expects num_layers greater than 1, but got dropout=0.2718704579992738 and num_layers=1\n",
      "  warnings.warn(\n"
     ]
    },
    {
     "name": "stdout",
     "output_type": "stream",
     "text": [
      "   Epoch 1/5, Total Loss: 6.1148, Binary: 0.6578, Intensity: 0.8388, Regression: 4.9100\n",
      "   Epoch 2/5, Total Loss: 4.0770, Binary: 0.5137, Intensity: 0.4730, Regression: 3.3008\n",
      "   Epoch 3/5, Total Loss: 3.7539, Binary: 0.4300, Intensity: 0.4304, Regression: 3.0917\n",
      "   Epoch 4/5, Total Loss: 3.5576, Binary: 0.3692, Intensity: 0.4124, Regression: 2.9654\n",
      "   Epoch 5/5, Total Loss: 3.4073, Binary: 0.3458, Intensity: 0.3984, Regression: 2.8443\n",
      "Using 15 features: ['TCW', 'TCLW', 'R250', 'R500', 'R850', 'U850', 'V850', 'EWSS', 'KX', 'CAPE', 'SSHF', 'PEV', 'AWS_lag10', 'AWS_rollmean_3', 'AWS_rollstd_3']\n",
      " Data shapes - Train: torch.Size([18028, 31, 15]), Val: torch.Size([5388, 31, 15]), Test: torch.Size([7008, 31, 15])\n"
     ]
    },
    {
     "name": "stderr",
     "output_type": "stream",
     "text": [
      "/usr/local/lib/python3.10/dist-packages/torch/nn/modules/rnn.py:123: UserWarning: dropout option adds dropout after all but last recurrent layer, so non-zero dropout expects num_layers greater than 1, but got dropout=0.2718704579992738 and num_layers=1\n",
      "  warnings.warn(\n"
     ]
    },
    {
     "name": "stdout",
     "output_type": "stream",
     "text": [
      "   Epoch 1/5, Total Loss: 5.3166, Binary: 0.6001, Intensity: 0.6447, Regression: 4.3444\n",
      "   Epoch 2/5, Total Loss: 3.7646, Binary: 0.4647, Intensity: 0.4267, Regression: 3.0709\n",
      "   Epoch 3/5, Total Loss: 3.5225, Binary: 0.4125, Intensity: 0.4128, Regression: 2.8804\n",
      "   Epoch 4/5, Total Loss: 3.3650, Binary: 0.3633, Intensity: 0.4039, Regression: 2.7727\n",
      "   Epoch 5/5, Total Loss: 3.2710, Binary: 0.3217, Intensity: 0.3944, Regression: 2.7265\n",
      "Using 15 features: ['TCW', 'TCLW', 'R250', 'R500', 'R850', 'U850', 'V850', 'EWSS', 'KX', 'CAPE', 'SSHF', 'PEV', 'AWS_lag10', 'AWS_rollmean_3', 'AWS_rollstd_3']\n",
      " Data shapes - Train: torch.Size([24595, 31, 15]), Val: torch.Size([5120, 31, 15]), Test: torch.Size([6797, 31, 15])\n"
     ]
    },
    {
     "name": "stderr",
     "output_type": "stream",
     "text": [
      "/usr/local/lib/python3.10/dist-packages/torch/nn/modules/rnn.py:123: UserWarning: dropout option adds dropout after all but last recurrent layer, so non-zero dropout expects num_layers greater than 1, but got dropout=0.2718704579992738 and num_layers=1\n",
      "  warnings.warn(\n"
     ]
    },
    {
     "name": "stdout",
     "output_type": "stream",
     "text": [
      "   Epoch 1/5, Total Loss: 4.9321, Binary: 0.5591, Intensity: 0.5804, Regression: 4.0498\n",
      "   Epoch 2/5, Total Loss: 3.4586, Binary: 0.4053, Intensity: 0.4087, Regression: 2.8236\n",
      "   Epoch 3/5, Total Loss: 3.2000, Binary: 0.3541, Intensity: 0.3881, Regression: 2.6224\n",
      "   Epoch 4/5, Total Loss: 3.0736, Binary: 0.3313, Intensity: 0.3749, Regression: 2.5256\n",
      "   Epoch 5/5, Total Loss: 2.9682, Binary: 0.3121, Intensity: 0.3659, Regression: 2.4425\n",
      "Using 15 features: ['TCW', 'TCLW', 'R250', 'R500', 'R850', 'U850', 'V850', 'EWSS', 'KX', 'CAPE', 'SSHF', 'PEV', 'AWS_lag10', 'AWS_rollmean_3', 'AWS_rollstd_3']\n",
      " Data shapes - Train: torch.Size([31161, 31, 15]), Val: torch.Size([4899, 31, 15]), Test: torch.Size([6632, 31, 15])\n"
     ]
    },
    {
     "name": "stderr",
     "output_type": "stream",
     "text": [
      "/usr/local/lib/python3.10/dist-packages/torch/nn/modules/rnn.py:123: UserWarning: dropout option adds dropout after all but last recurrent layer, so non-zero dropout expects num_layers greater than 1, but got dropout=0.2718704579992738 and num_layers=1\n",
      "  warnings.warn(\n"
     ]
    },
    {
     "name": "stdout",
     "output_type": "stream",
     "text": [
      "   Epoch 1/5, Total Loss: 4.6780, Binary: 0.5509, Intensity: 0.5636, Regression: 3.8027\n",
      "   Epoch 2/5, Total Loss: 3.5390, Binary: 0.4166, Intensity: 0.4126, Regression: 2.8942\n",
      "   Epoch 3/5, Total Loss: 3.3138, Binary: 0.3690, Intensity: 0.3956, Regression: 2.7211\n",
      "   Epoch 4/5, Total Loss: 3.1679, Binary: 0.3257, Intensity: 0.3816, Regression: 2.6260\n"
     ]
    },
    {
     "name": "stderr",
     "output_type": "stream",
     "text": [
      "[I 2025-05-06 18:15:11,028] Trial 0 finished with value: 0.9751351237297058 and parameters: {'hidden_size': 194, 'num_layers': 1, 'dropout': 0.2718704579992738, 'lr': 0.00044891313482111033, 'time_step_in': 31, 'time_step_out': 1, 'stride': 5, 'binary_weight': 0.9829917900820302, 'intensity_weight': 1.1452625794652946, 'regression_weight': 0.9180316632117681, 'rain_threshold': 0.19499582555291312, 'num_lags': 1, 'lag_0': 10, 'num_windows': 1, 'window_0': 3}. Best is trial 0 with value: 0.9751351237297058.\n"
     ]
    },
    {
     "name": "stdout",
     "output_type": "stream",
     "text": [
      "   Epoch 5/5, Total Loss: 3.0712, Binary: 0.2991, Intensity: 0.3690, Regression: 2.5647\n",
      "Using 16 features: ['TCW', 'TCLW', 'R250', 'R500', 'R850', 'U850', 'V850', 'EWSS', 'KX', 'CAPE', 'SSHF', 'PEV', 'AWS_lag11', 'AWS_lag1', 'AWS_rollmean_14', 'AWS_rollstd_14']\n",
      " Data shapes - Train: torch.Size([4278, 47, 16]), Val: torch.Size([6056, 47, 16]), Test: torch.Size([8448, 47, 16])\n",
      "Error in fold fold_1: Target size (torch.Size([128, 2])) must be the same as input size (torch.Size([128, 1]))\n",
      "Using 16 features: ['TCW', 'TCLW', 'R250', 'R500', 'R850', 'U850', 'V850', 'EWSS', 'KX', 'CAPE', 'SSHF', 'PEV', 'AWS_lag11', 'AWS_lag1', 'AWS_rollmean_14', 'AWS_rollstd_14']\n",
      " Data shapes - Train: torch.Size([12552, 47, 16]), Val: torch.Size([6086, 47, 16]), Test: torch.Size([8151, 47, 16])\n",
      "Error in fold fold_2: Target size (torch.Size([128, 2])) must be the same as input size (torch.Size([128, 1]))\n",
      "Using 16 features: ['TCW', 'TCLW', 'R250', 'R500', 'R850', 'U850', 'V850', 'EWSS', 'KX', 'CAPE', 'SSHF', 'PEV', 'AWS_lag11', 'AWS_lag1', 'AWS_rollmean_14', 'AWS_rollstd_14']\n",
      " Data shapes - Train: torch.Size([20832, 47, 16]), Val: torch.Size([5842, 47, 16]), Test: torch.Size([7704, 47, 16])\n",
      "Error in fold fold_3: Target size (torch.Size([128, 2])) must be the same as input size (torch.Size([128, 1]))\n",
      "Using 16 features: ['TCW', 'TCLW', 'R250', 'R500', 'R850', 'U850', 'V850', 'EWSS', 'KX', 'CAPE', 'SSHF', 'PEV', 'AWS_lag11', 'AWS_lag1', 'AWS_rollmean_14', 'AWS_rollstd_14']\n",
      " Data shapes - Train: torch.Size([29112, 47, 16]), Val: torch.Size([5435, 47, 16]), Test: torch.Size([7400, 47, 16])\n",
      "Error in fold fold_4: Target size (torch.Size([128, 2])) must be the same as input size (torch.Size([128, 1]))\n",
      "Using 16 features: ['TCW', 'TCLW', 'R250', 'R500', 'R850', 'U850', 'V850', 'EWSS', 'KX', 'CAPE', 'SSHF', 'PEV', 'AWS_lag11', 'AWS_lag1', 'AWS_rollmean_14', 'AWS_rollstd_14']\n"
     ]
    },
    {
     "name": "stderr",
     "output_type": "stream",
     "text": [
      "[I 2025-05-06 18:15:45,592] Trial 1 finished with value: inf and parameters: {'hidden_size': 55, 'num_layers': 2, 'dropout': 0.4336171127833834, 'lr': 0.00016753170534725348, 'time_step_in': 47, 'time_step_out': 2, 'stride': 4, 'binary_weight': 1.9206525338027012, 'intensity_weight': 1.4235504281459936, 'regression_weight': 1.063059036417636, 'rain_threshold': 0.10574213895424228, 'num_lags': 2, 'lag_0': 11, 'lag_1': 1, 'num_windows': 1, 'window_0': 14}. Best is trial 0 with value: 0.9751351237297058.\n"
     ]
    },
    {
     "name": "stdout",
     "output_type": "stream",
     "text": [
      " Data shapes - Train: torch.Size([37392, 47, 16]), Val: torch.Size([4928, 47, 16]), Test: torch.Size([6999, 47, 16])\n",
      "Error in fold fold_5: Target size (torch.Size([128, 2])) must be the same as input size (torch.Size([128, 1]))\n",
      "Using 18 features: ['TCW', 'TCLW', 'R250', 'R500', 'R850', 'U850', 'V850', 'EWSS', 'KX', 'CAPE', 'SSHF', 'PEV', 'AWS_lag2', 'AWS_lag11', 'AWS_rollmean_10', 'AWS_rollstd_10', 'AWS_rollmean_4', 'AWS_rollstd_4']\n",
      " Data shapes - Train: torch.Size([26774, 16, 18]), Val: torch.Size([29414, 16, 18]), Test: torch.Size([38708, 16, 18])\n",
      "Error in fold fold_1: Target size (torch.Size([128, 4])) must be the same as input size (torch.Size([128, 1]))\n",
      "Using 18 features: ['TCW', 'TCLW', 'R250', 'R500', 'R850', 'U850', 'V850', 'EWSS', 'KX', 'CAPE', 'SSHF', 'PEV', 'AWS_lag2', 'AWS_lag11', 'AWS_rollmean_10', 'AWS_rollstd_10', 'AWS_rollmean_4', 'AWS_rollstd_4']\n",
      " Data shapes - Train: torch.Size([59894, 16, 18]), Val: torch.Size([29449, 16, 18]), Test: torch.Size([38289, 16, 18])\n",
      "Error in fold fold_2: Target size (torch.Size([128, 4])) must be the same as input size (torch.Size([128, 1]))\n",
      "Using 18 features: ['TCW', 'TCLW', 'R250', 'R500', 'R850', 'U850', 'V850', 'EWSS', 'KX', 'CAPE', 'SSHF', 'PEV', 'AWS_lag2', 'AWS_lag11', 'AWS_rollmean_10', 'AWS_rollstd_10', 'AWS_rollmean_4', 'AWS_rollstd_4']\n",
      " Data shapes - Train: torch.Size([93014, 16, 18]), Val: torch.Size([28982, 16, 18]), Test: torch.Size([37565, 16, 18])\n",
      "Error in fold fold_3: Target size (torch.Size([128, 4])) must be the same as input size (torch.Size([128, 1]))\n",
      "Using 18 features: ['TCW', 'TCLW', 'R250', 'R500', 'R850', 'U850', 'V850', 'EWSS', 'KX', 'CAPE', 'SSHF', 'PEV', 'AWS_lag2', 'AWS_lag11', 'AWS_rollmean_10', 'AWS_rollstd_10', 'AWS_rollmean_4', 'AWS_rollstd_4']\n",
      " Data shapes - Train: torch.Size([126134, 16, 18]), Val: torch.Size([28322, 16, 18]), Test: torch.Size([36864, 16, 18])\n",
      "Error in fold fold_4: Target size (torch.Size([128, 4])) must be the same as input size (torch.Size([128, 1]))\n",
      "Using 18 features: ['TCW', 'TCLW', 'R250', 'R500', 'R850', 'U850', 'V850', 'EWSS', 'KX', 'CAPE', 'SSHF', 'PEV', 'AWS_lag2', 'AWS_lag11', 'AWS_rollmean_10', 'AWS_rollstd_10', 'AWS_rollmean_4', 'AWS_rollstd_4']\n"
     ]
    },
    {
     "name": "stderr",
     "output_type": "stream",
     "text": [
      "[I 2025-05-06 18:16:42,991] Trial 2 finished with value: inf and parameters: {'hidden_size': 132, 'num_layers': 3, 'dropout': 0.29700936073577994, 'lr': 0.0001553535002187332, 'time_step_in': 16, 'time_step_out': 4, 'stride': 1, 'binary_weight': 0.5254854745469152, 'intensity_weight': 1.7071590698465757, 'regression_weight': 1.7033660345643424, 'rain_threshold': 0.10930822115677283, 'num_lags': 2, 'lag_0': 2, 'lag_1': 11, 'num_windows': 2, 'window_0': 10, 'window_1': 4}. Best is trial 0 with value: 0.9751351237297058.\n"
     ]
    },
    {
     "name": "stdout",
     "output_type": "stream",
     "text": [
      " Data shapes - Train: torch.Size([159254, 16, 18]), Val: torch.Size([27629, 16, 18]), Test: torch.Size([36225, 16, 18])\n",
      "Error in fold fold_5: Target size (torch.Size([128, 4])) must be the same as input size (torch.Size([128, 1]))\n",
      "Using 19 features: ['TCW', 'TCLW', 'R250', 'R500', 'R850', 'U850', 'V850', 'EWSS', 'KX', 'CAPE', 'SSHF', 'PEV', 'AWS_lag8', 'AWS_rollmean_21', 'AWS_rollstd_21', 'AWS_rollmean_12', 'AWS_rollstd_12', 'AWS_rollmean_17', 'AWS_rollstd_17']\n",
      " Data shapes - Train: torch.Size([8889, 42, 19]), Val: torch.Size([12233, 42, 19]), Test: torch.Size([16983, 42, 19])\n",
      "Error in fold fold_1: Target size (torch.Size([128, 5])) must be the same as input size (torch.Size([128, 1]))\n",
      "Using 19 features: ['TCW', 'TCLW', 'R250', 'R500', 'R850', 'U850', 'V850', 'EWSS', 'KX', 'CAPE', 'SSHF', 'PEV', 'AWS_lag8', 'AWS_rollmean_21', 'AWS_rollstd_21', 'AWS_rollmean_12', 'AWS_rollstd_12', 'AWS_rollmean_17', 'AWS_rollstd_17']\n",
      " Data shapes - Train: torch.Size([25438, 42, 19]), Val: torch.Size([12272, 42, 19]), Test: torch.Size([16442, 42, 19])\n",
      "Error in fold fold_2: Target size (torch.Size([128, 5])) must be the same as input size (torch.Size([128, 1]))\n",
      "Using 19 features: ['TCW', 'TCLW', 'R250', 'R500', 'R850', 'U850', 'V850', 'EWSS', 'KX', 'CAPE', 'SSHF', 'PEV', 'AWS_lag8', 'AWS_rollmean_21', 'AWS_rollstd_21', 'AWS_rollmean_12', 'AWS_rollstd_12', 'AWS_rollmean_17', 'AWS_rollstd_17']\n",
      " Data shapes - Train: torch.Size([41998, 42, 19]), Val: torch.Size([11733, 42, 19]), Test: torch.Size([15606, 42, 19])\n",
      "Error in fold fold_3: Target size (torch.Size([128, 5])) must be the same as input size (torch.Size([128, 1]))\n",
      "Using 19 features: ['TCW', 'TCLW', 'R250', 'R500', 'R850', 'U850', 'V850', 'EWSS', 'KX', 'CAPE', 'SSHF', 'PEV', 'AWS_lag8', 'AWS_rollmean_21', 'AWS_rollstd_21', 'AWS_rollmean_12', 'AWS_rollstd_12', 'AWS_rollmean_17', 'AWS_rollstd_17']\n",
      " Data shapes - Train: torch.Size([58558, 42, 19]), Val: torch.Size([10938, 42, 19]), Test: torch.Size([14886, 42, 19])\n",
      "Error in fold fold_4: Target size (torch.Size([128, 5])) must be the same as input size (torch.Size([128, 1]))\n",
      "Using 19 features: ['TCW', 'TCLW', 'R250', 'R500', 'R850', 'U850', 'V850', 'EWSS', 'KX', 'CAPE', 'SSHF', 'PEV', 'AWS_lag8', 'AWS_rollmean_21', 'AWS_rollstd_21', 'AWS_rollmean_12', 'AWS_rollstd_12', 'AWS_rollmean_17', 'AWS_rollstd_17']\n"
     ]
    },
    {
     "name": "stderr",
     "output_type": "stream",
     "text": [
      "[I 2025-05-06 18:17:49,571] Trial 3 finished with value: inf and parameters: {'hidden_size': 249, 'num_layers': 3, 'dropout': 0.33791356717779897, 'lr': 0.002507078055418594, 'time_step_in': 42, 'time_step_out': 5, 'stride': 2, 'binary_weight': 1.1529574194892842, 'intensity_weight': 1.4361334293768317, 'regression_weight': 1.1949050881903043, 'rain_threshold': 0.12317820344893969, 'num_lags': 1, 'lag_0': 8, 'num_windows': 3, 'window_0': 21, 'window_1': 12, 'window_2': 17}. Best is trial 0 with value: 0.9751351237297058.\n"
     ]
    },
    {
     "name": "stdout",
     "output_type": "stream",
     "text": [
      " Data shapes - Train: torch.Size([75118, 42, 19]), Val: torch.Size([10089, 42, 19]), Test: torch.Size([14127, 42, 19])\n",
      "Error in fold fold_5: Target size (torch.Size([128, 5])) must be the same as input size (torch.Size([128, 1]))\n",
      "Using 17 features: ['TCW', 'TCLW', 'R250', 'R500', 'R850', 'U850', 'V850', 'EWSS', 'KX', 'CAPE', 'SSHF', 'PEV', 'AWS_lag11', 'AWS_lag3', 'AWS_lag1', 'AWS_rollmean_12', 'AWS_rollstd_12']\n",
      " Data shapes - Train: torch.Size([9888, 36, 17]), Val: torch.Size([12733, 36, 17]), Test: torch.Size([17426, 36, 17])\n",
      "Error in fold fold_1: Target size (torch.Size([128, 6])) must be the same as input size (torch.Size([128, 1]))\n"
     ]
    },
    {
     "name": "stderr",
     "output_type": "stream",
     "text": [
      "/usr/local/lib/python3.10/dist-packages/torch/nn/modules/rnn.py:123: UserWarning: dropout option adds dropout after all but last recurrent layer, so non-zero dropout expects num_layers greater than 1, but got dropout=0.07802411256076464 and num_layers=1\n",
      "  warnings.warn(\n"
     ]
    },
    {
     "name": "stdout",
     "output_type": "stream",
     "text": [
      "Using 17 features: ['TCW', 'TCLW', 'R250', 'R500', 'R850', 'U850', 'V850', 'EWSS', 'KX', 'CAPE', 'SSHF', 'PEV', 'AWS_lag11', 'AWS_lag3', 'AWS_lag1', 'AWS_rollmean_12', 'AWS_rollstd_12']\n",
      " Data shapes - Train: torch.Size([26440, 36, 17]), Val: torch.Size([12768, 36, 17]), Test: torch.Size([16949, 36, 17])\n",
      "Error in fold fold_2: Target size (torch.Size([128, 6])) must be the same as input size (torch.Size([128, 1]))\n"
     ]
    },
    {
     "name": "stderr",
     "output_type": "stream",
     "text": [
      "/usr/local/lib/python3.10/dist-packages/torch/nn/modules/rnn.py:123: UserWarning: dropout option adds dropout after all but last recurrent layer, so non-zero dropout expects num_layers greater than 1, but got dropout=0.07802411256076464 and num_layers=1\n",
      "  warnings.warn(\n"
     ]
    },
    {
     "name": "stdout",
     "output_type": "stream",
     "text": [
      "Using 17 features: ['TCW', 'TCLW', 'R250', 'R500', 'R850', 'U850', 'V850', 'EWSS', 'KX', 'CAPE', 'SSHF', 'PEV', 'AWS_lag11', 'AWS_lag3', 'AWS_lag1', 'AWS_rollmean_12', 'AWS_rollstd_12']\n",
      " Data shapes - Train: torch.Size([43000, 36, 17]), Val: torch.Size([12260, 36, 17]), Test: torch.Size([16285, 36, 17])\n",
      "Error in fold fold_3: Target size (torch.Size([128, 6])) must be the same as input size (torch.Size([128, 1]))\n"
     ]
    },
    {
     "name": "stderr",
     "output_type": "stream",
     "text": [
      "/usr/local/lib/python3.10/dist-packages/torch/nn/modules/rnn.py:123: UserWarning: dropout option adds dropout after all but last recurrent layer, so non-zero dropout expects num_layers greater than 1, but got dropout=0.07802411256076464 and num_layers=1\n",
      "  warnings.warn(\n"
     ]
    },
    {
     "name": "stdout",
     "output_type": "stream",
     "text": [
      "Using 17 features: ['TCW', 'TCLW', 'R250', 'R500', 'R850', 'U850', 'V850', 'EWSS', 'KX', 'CAPE', 'SSHF', 'PEV', 'AWS_lag11', 'AWS_lag3', 'AWS_lag1', 'AWS_rollmean_12', 'AWS_rollstd_12']\n",
      " Data shapes - Train: torch.Size([59560, 36, 17]), Val: torch.Size([11582, 36, 17]), Test: torch.Size([15427, 36, 17])\n",
      "Error in fold fold_4: Target size (torch.Size([128, 6])) must be the same as input size (torch.Size([128, 1]))\n"
     ]
    },
    {
     "name": "stderr",
     "output_type": "stream",
     "text": [
      "/usr/local/lib/python3.10/dist-packages/torch/nn/modules/rnn.py:123: UserWarning: dropout option adds dropout after all but last recurrent layer, so non-zero dropout expects num_layers greater than 1, but got dropout=0.07802411256076464 and num_layers=1\n",
      "  warnings.warn(\n"
     ]
    },
    {
     "name": "stdout",
     "output_type": "stream",
     "text": [
      "Using 17 features: ['TCW', 'TCLW', 'R250', 'R500', 'R850', 'U850', 'V850', 'EWSS', 'KX', 'CAPE', 'SSHF', 'PEV', 'AWS_lag11', 'AWS_lag3', 'AWS_lag1', 'AWS_rollmean_12', 'AWS_rollstd_12']\n"
     ]
    },
    {
     "name": "stderr",
     "output_type": "stream",
     "text": [
      "/usr/local/lib/python3.10/dist-packages/torch/nn/modules/rnn.py:123: UserWarning: dropout option adds dropout after all but last recurrent layer, so non-zero dropout expects num_layers greater than 1, but got dropout=0.07802411256076464 and num_layers=1\n",
      "  warnings.warn(\n",
      "[I 2025-05-06 18:18:41,604] Trial 4 finished with value: inf and parameters: {'hidden_size': 89, 'num_layers': 1, 'dropout': 0.07802411256076464, 'lr': 0.00011885365177484947, 'time_step_in': 36, 'time_step_out': 6, 'stride': 2, 'binary_weight': 0.922236585303557, 'intensity_weight': 0.6945336232757245, 'regression_weight': 0.6593757356650781, 'rain_threshold': 0.12044069154960703, 'num_lags': 3, 'lag_0': 11, 'lag_1': 3, 'lag_2': 1, 'num_windows': 1, 'window_0': 12}. Best is trial 0 with value: 0.9751351237297058.\n"
     ]
    },
    {
     "name": "stdout",
     "output_type": "stream",
     "text": [
      " Data shapes - Train: torch.Size([76120, 36, 17]), Val: torch.Size([10847, 36, 17]), Test: torch.Size([14819, 36, 17])\n",
      "Error in fold fold_5: Target size (torch.Size([128, 6])) must be the same as input size (torch.Size([128, 1]))\n",
      "Using 16 features: ['TCW', 'TCLW', 'R250', 'R500', 'R850', 'U850', 'V850', 'EWSS', 'KX', 'CAPE', 'SSHF', 'PEV', 'AWS_lag9', 'AWS_lag1', 'AWS_rollmean_10', 'AWS_rollstd_10']\n",
      " Data shapes - Train: torch.Size([7278, 12, 16]), Val: torch.Size([7731, 12, 16]), Test: torch.Size([10083, 12, 16])\n"
     ]
    },
    {
     "name": "stderr",
     "output_type": "stream",
     "text": [
      "/usr/local/lib/python3.10/dist-packages/torch/nn/modules/rnn.py:123: UserWarning: dropout option adds dropout after all but last recurrent layer, so non-zero dropout expects num_layers greater than 1, but got dropout=0.2976796326008047 and num_layers=1\n",
      "  warnings.warn(\n"
     ]
    },
    {
     "name": "stdout",
     "output_type": "stream",
     "text": [
      "   Epoch 1/5, Total Loss: 16.6429, Binary: 0.6753, Intensity: 0.9660, Regression: 7.4616\n",
      "   Epoch 2/5, Total Loss: 10.6518, Binary: 0.6525, Intensity: 0.7604, Regression: 4.5058\n",
      "   Epoch 3/5, Total Loss: 8.9127, Binary: 0.6081, Intensity: 0.6064, Regression: 3.7566\n",
      "   Epoch 4/5, Total Loss: 8.3230, Binary: 0.5677, Intensity: 0.4980, Regression: 3.5691\n",
      "   Epoch 5/5, Total Loss: 8.1150, Binary: 0.5417, Intensity: 0.4645, Regression: 3.5064\n",
      "Using 16 features: ['TCW', 'TCLW', 'R250', 'R500', 'R850', 'U850', 'V850', 'EWSS', 'KX', 'CAPE', 'SSHF', 'PEV', 'AWS_lag9', 'AWS_lag1', 'AWS_rollmean_10', 'AWS_rollstd_10']\n",
      " Data shapes - Train: torch.Size([15558, 12, 16]), Val: torch.Size([7752, 12, 16]), Test: torch.Size([10009, 12, 16])\n"
     ]
    },
    {
     "name": "stderr",
     "output_type": "stream",
     "text": [
      "/usr/local/lib/python3.10/dist-packages/torch/nn/modules/rnn.py:123: UserWarning: dropout option adds dropout after all but last recurrent layer, so non-zero dropout expects num_layers greater than 1, but got dropout=0.2976796326008047 and num_layers=1\n",
      "  warnings.warn(\n"
     ]
    },
    {
     "name": "stdout",
     "output_type": "stream",
     "text": [
      "   Epoch 1/5, Total Loss: 13.9769, Binary: 0.6928, Intensity: 0.8989, Regression: 6.1065\n",
      "   Epoch 2/5, Total Loss: 8.3520, Binary: 0.5814, Intensity: 0.5226, Regression: 3.5535\n",
      "   Epoch 3/5, Total Loss: 7.6783, Binary: 0.5174, Intensity: 0.4422, Regression: 3.3121\n",
      "   Epoch 4/5, Total Loss: 7.5143, Binary: 0.4755, Intensity: 0.4355, Regression: 3.2589\n",
      "   Epoch 5/5, Total Loss: 7.3458, Binary: 0.4258, Intensity: 0.4295, Regression: 3.2078\n",
      "Using 16 features: ['TCW', 'TCLW', 'R250', 'R500', 'R850', 'U850', 'V850', 'EWSS', 'KX', 'CAPE', 'SSHF', 'PEV', 'AWS_lag9', 'AWS_lag1', 'AWS_rollmean_10', 'AWS_rollstd_10']\n",
      " Data shapes - Train: torch.Size([23838, 12, 16]), Val: torch.Size([7717, 12, 16]), Test: torch.Size([9854, 12, 16])\n"
     ]
    },
    {
     "name": "stderr",
     "output_type": "stream",
     "text": [
      "/usr/local/lib/python3.10/dist-packages/torch/nn/modules/rnn.py:123: UserWarning: dropout option adds dropout after all but last recurrent layer, so non-zero dropout expects num_layers greater than 1, but got dropout=0.2976796326008047 and num_layers=1\n",
      "  warnings.warn(\n"
     ]
    },
    {
     "name": "stdout",
     "output_type": "stream",
     "text": [
      "   Epoch 1/5, Total Loss: 12.1748, Binary: 0.6620, Intensity: 0.7912, Regression: 5.2740\n",
      "   Epoch 2/5, Total Loss: 7.8620, Binary: 0.5412, Intensity: 0.4701, Regression: 3.3685\n",
      "   Epoch 3/5, Total Loss: 7.4546, Binary: 0.4592, Intensity: 0.4404, Regression: 3.2336\n",
      "   Epoch 4/5, Total Loss: 7.3672, Binary: 0.4196, Intensity: 0.4359, Regression: 3.2173\n",
      "   Epoch 5/5, Total Loss: 7.2394, Binary: 0.4047, Intensity: 0.4272, Regression: 3.1674\n",
      "Using 16 features: ['TCW', 'TCLW', 'R250', 'R500', 'R850', 'U850', 'V850', 'EWSS', 'KX', 'CAPE', 'SSHF', 'PEV', 'AWS_lag9', 'AWS_lag1', 'AWS_rollmean_10', 'AWS_rollstd_10']\n",
      " Data shapes - Train: torch.Size([32118, 12, 16]), Val: torch.Size([7617, 12, 16]), Test: torch.Size([9860, 12, 16])\n"
     ]
    },
    {
     "name": "stderr",
     "output_type": "stream",
     "text": [
      "/usr/local/lib/python3.10/dist-packages/torch/nn/modules/rnn.py:123: UserWarning: dropout option adds dropout after all but last recurrent layer, so non-zero dropout expects num_layers greater than 1, but got dropout=0.2976796326008047 and num_layers=1\n",
      "  warnings.warn(\n"
     ]
    },
    {
     "name": "stdout",
     "output_type": "stream",
     "text": [
      "   Epoch 1/5, Total Loss: 10.6479, Binary: 0.6231, Intensity: 0.6604, Regression: 4.6122\n",
      "   Epoch 2/5, Total Loss: 7.5245, Binary: 0.4831, Intensity: 0.4389, Regression: 3.2564\n",
      "   Epoch 3/5, Total Loss: 7.2055, Binary: 0.3937, Intensity: 0.4216, Regression: 3.1618\n",
      "   Epoch 4/5, Total Loss: 7.1032, Binary: 0.3742, Intensity: 0.4126, Regression: 3.1286\n",
      "   Epoch 5/5, Total Loss: 6.9759, Binary: 0.3536, Intensity: 0.4083, Regression: 3.0788\n",
      "Using 16 features: ['TCW', 'TCLW', 'R250', 'R500', 'R850', 'U850', 'V850', 'EWSS', 'KX', 'CAPE', 'SSHF', 'PEV', 'AWS_lag9', 'AWS_lag1', 'AWS_rollmean_10', 'AWS_rollstd_10']\n",
      " Data shapes - Train: torch.Size([40398, 12, 16]), Val: torch.Size([7451, 12, 16]), Test: torch.Size([9752, 12, 16])\n"
     ]
    },
    {
     "name": "stderr",
     "output_type": "stream",
     "text": [
      "/usr/local/lib/python3.10/dist-packages/torch/nn/modules/rnn.py:123: UserWarning: dropout option adds dropout after all but last recurrent layer, so non-zero dropout expects num_layers greater than 1, but got dropout=0.2976796326008047 and num_layers=1\n",
      "  warnings.warn(\n"
     ]
    },
    {
     "name": "stdout",
     "output_type": "stream",
     "text": [
      "   Epoch 1/5, Total Loss: 10.7429, Binary: 0.6189, Intensity: 0.6342, Regression: 4.6884\n",
      "   Epoch 2/5, Total Loss: 7.5237, Binary: 0.4946, Intensity: 0.4321, Regression: 3.2546\n",
      "   Epoch 3/5, Total Loss: 7.3217, Binary: 0.4668, Intensity: 0.4223, Regression: 3.1750\n",
      "   Epoch 4/5, Total Loss: 7.1527, Binary: 0.4449, Intensity: 0.4164, Regression: 3.1055\n"
     ]
    },
    {
     "name": "stderr",
     "output_type": "stream",
     "text": [
      "[I 2025-05-06 18:19:20,499] Trial 5 finished with value: 1.2292535781860352 and parameters: {'hidden_size': 121, 'num_layers': 1, 'dropout': 0.2976796326008047, 'lr': 0.00027336759577519063, 'time_step_in': 12, 'time_step_out': 1, 'stride': 4, 'binary_weight': 1.230996253968206, 'intensity_weight': 1.696655256529891, 'regression_weight': 1.8994142497218727, 'rain_threshold': 0.08838353373898837, 'num_lags': 2, 'lag_0': 9, 'lag_1': 1, 'num_windows': 1, 'window_0': 10}. Best is trial 0 with value: 0.9751351237297058.\n"
     ]
    },
    {
     "name": "stdout",
     "output_type": "stream",
     "text": [
      "   Epoch 5/5, Total Loss: 7.0221, Binary: 0.4152, Intensity: 0.4095, Regression: 3.0621\n",
      "Using 17 features: ['TCW', 'TCLW', 'R250', 'R500', 'R850', 'U850', 'V850', 'EWSS', 'KX', 'CAPE', 'SSHF', 'PEV', 'AWS_lag9', 'AWS_rollmean_12', 'AWS_rollstd_12', 'AWS_rollmean_9', 'AWS_rollstd_9']\n",
      " Data shapes - Train: torch.Size([3518, 45, 17]), Val: torch.Size([4821, 45, 17]), Test: torch.Size([6710, 45, 17])\n",
      "Error in fold fold_1: Target size (torch.Size([128, 6])) must be the same as input size (torch.Size([128, 1]))\n",
      "Using 17 features: ['TCW', 'TCLW', 'R250', 'R500', 'R850', 'U850', 'V850', 'EWSS', 'KX', 'CAPE', 'SSHF', 'PEV', 'AWS_lag9', 'AWS_rollmean_12', 'AWS_rollstd_12', 'AWS_rollmean_9', 'AWS_rollstd_9']\n",
      " Data shapes - Train: torch.Size([10126, 45, 17]), Val: torch.Size([4830, 45, 17]), Test: torch.Size([6486, 45, 17])\n",
      "Error in fold fold_2: Target size (torch.Size([128, 6])) must be the same as input size (torch.Size([128, 1]))\n",
      "Using 17 features: ['TCW', 'TCLW', 'R250', 'R500', 'R850', 'U850', 'V850', 'EWSS', 'KX', 'CAPE', 'SSHF', 'PEV', 'AWS_lag9', 'AWS_rollmean_12', 'AWS_rollstd_12', 'AWS_rollmean_9', 'AWS_rollstd_9']\n",
      " Data shapes - Train: torch.Size([16693, 45, 17]), Val: torch.Size([4601, 45, 17]), Test: torch.Size([6104, 45, 17])\n",
      "Error in fold fold_3: Target size (torch.Size([128, 6])) must be the same as input size (torch.Size([128, 1]))\n",
      "Using 17 features: ['TCW', 'TCLW', 'R250', 'R500', 'R850', 'U850', 'V850', 'EWSS', 'KX', 'CAPE', 'SSHF', 'PEV', 'AWS_lag9', 'AWS_rollmean_12', 'AWS_rollstd_12', 'AWS_rollmean_9', 'AWS_rollstd_9']\n",
      " Data shapes - Train: torch.Size([23259, 45, 17]), Val: torch.Size([4318, 45, 17]), Test: torch.Size([5794, 45, 17])\n",
      "Error in fold fold_4: Target size (torch.Size([128, 6])) must be the same as input size (torch.Size([128, 1]))\n",
      "Using 17 features: ['TCW', 'TCLW', 'R250', 'R500', 'R850', 'U850', 'V850', 'EWSS', 'KX', 'CAPE', 'SSHF', 'PEV', 'AWS_lag9', 'AWS_rollmean_12', 'AWS_rollstd_12', 'AWS_rollmean_9', 'AWS_rollstd_9']\n"
     ]
    },
    {
     "name": "stderr",
     "output_type": "stream",
     "text": [
      "[I 2025-05-06 18:19:52,257] Trial 6 finished with value: inf and parameters: {'hidden_size': 109, 'num_layers': 3, 'dropout': 0.30221753118590716, 'lr': 0.0031388930739835864, 'time_step_in': 45, 'time_step_out': 6, 'stride': 5, 'binary_weight': 1.0962498854582758, 'intensity_weight': 0.7084959002971971, 'regression_weight': 1.4847293966572253, 'rain_threshold': 0.13466827573592105, 'num_lags': 1, 'lag_0': 9, 'num_windows': 2, 'window_0': 12, 'window_1': 9}. Best is trial 0 with value: 0.9751351237297058.\n"
     ]
    },
    {
     "name": "stdout",
     "output_type": "stream",
     "text": [
      " Data shapes - Train: torch.Size([29825, 45, 17]), Val: torch.Size([3952, 45, 17]), Test: torch.Size([5494, 45, 17])\n",
      "Error in fold fold_5: Target size (torch.Size([128, 6])) must be the same as input size (torch.Size([128, 1]))\n",
      "Using 17 features: ['TCW', 'TCLW', 'R250', 'R500', 'R850', 'U850', 'V850', 'EWSS', 'KX', 'CAPE', 'SSHF', 'PEV', 'AWS_lag10', 'AWS_lag4', 'AWS_lag2', 'AWS_rollmean_12', 'AWS_rollstd_12']\n",
      " Data shapes - Train: torch.Size([4852, 14, 17]), Val: torch.Size([5137, 14, 17]), Test: torch.Size([6683, 14, 17])\n",
      "   Epoch 1/5, Total Loss: 12.0610, Binary: 0.6613, Intensity: 0.7111, Regression: 5.0548\n",
      "   Epoch 2/5, Total Loss: 9.5505, Binary: 0.5597, Intensity: 0.4763, Regression: 4.0708\n",
      "   Epoch 3/5, Total Loss: 8.9434, Binary: 0.5389, Intensity: 0.4597, Regression: 3.7904\n",
      "   Epoch 4/5, Total Loss: 8.7250, Binary: 0.5104, Intensity: 0.4517, Regression: 3.7028\n",
      "   Epoch 5/5, Total Loss: 8.6960, Binary: 0.4311, Intensity: 0.4523, Regression: 3.7295\n",
      "Using 17 features: ['TCW', 'TCLW', 'R250', 'R500', 'R850', 'U850', 'V850', 'EWSS', 'KX', 'CAPE', 'SSHF', 'PEV', 'AWS_lag10', 'AWS_lag4', 'AWS_lag2', 'AWS_rollmean_12', 'AWS_rollstd_12']\n",
      " Data shapes - Train: torch.Size([10372, 14, 17]), Val: torch.Size([5157, 14, 17]), Test: torch.Size([6663, 14, 17])\n",
      "   Epoch 1/5, Total Loss: 10.3053, Binary: 0.5768, Intensity: 0.6010, Regression: 4.3193\n",
      "   Epoch 2/5, Total Loss: 8.6502, Binary: 0.4377, Intensity: 0.4467, Regression: 3.7084\n",
      "   Epoch 3/5, Total Loss: 8.4380, Binary: 0.3517, Intensity: 0.4186, Regression: 3.6745\n",
      "   Epoch 4/5, Total Loss: 7.8595, Binary: 0.3586, Intensity: 0.4169, Regression: 3.3791\n",
      "   Epoch 5/5, Total Loss: 7.7598, Binary: 0.3316, Intensity: 0.4021, Regression: 3.3576\n",
      "Using 17 features: ['TCW', 'TCLW', 'R250', 'R500', 'R850', 'U850', 'V850', 'EWSS', 'KX', 'CAPE', 'SSHF', 'PEV', 'AWS_lag10', 'AWS_lag4', 'AWS_lag2', 'AWS_rollmean_12', 'AWS_rollstd_12']\n",
      " Data shapes - Train: torch.Size([15892, 14, 17]), Val: torch.Size([5144, 14, 17]), Test: torch.Size([6510, 14, 17])\n",
      "   Epoch 1/5, Total Loss: 9.8191, Binary: 0.5595, Intensity: 0.5552, Regression: 4.1279\n",
      "   Epoch 2/5, Total Loss: 8.3247, Binary: 0.4077, Intensity: 0.4355, Regression: 3.5703\n",
      "   Epoch 3/5, Total Loss: 7.8705, Binary: 0.3463, Intensity: 0.4150, Regression: 3.3931\n",
      "   Epoch 4/5, Total Loss: 7.5343, Binary: 0.3300, Intensity: 0.3999, Regression: 3.2463\n",
      "   Epoch 5/5, Total Loss: 7.3660, Binary: 0.3289, Intensity: 0.3955, Regression: 3.1659\n",
      "Using 17 features: ['TCW', 'TCLW', 'R250', 'R500', 'R850', 'U850', 'V850', 'EWSS', 'KX', 'CAPE', 'SSHF', 'PEV', 'AWS_lag10', 'AWS_lag4', 'AWS_lag2', 'AWS_rollmean_12', 'AWS_rollstd_12']\n",
      " Data shapes - Train: torch.Size([21412, 14, 17]), Val: torch.Size([5044, 14, 17]), Test: torch.Size([6496, 14, 17])\n",
      "   Epoch 1/5, Total Loss: 9.4538, Binary: 0.5191, Intensity: 0.5129, Regression: 4.0064\n",
      "   Epoch 2/5, Total Loss: 7.9929, Binary: 0.3552, Intensity: 0.4199, Regression: 3.4455\n",
      "   Epoch 3/5, Total Loss: 7.6356, Binary: 0.3283, Intensity: 0.4056, Regression: 3.2928\n",
      "   Epoch 4/5, Total Loss: 7.4128, Binary: 0.3242, Intensity: 0.3981, Regression: 3.1895\n",
      "   Epoch 5/5, Total Loss: 7.2165, Binary: 0.3165, Intensity: 0.3892, Regression: 3.1029\n",
      "Using 17 features: ['TCW', 'TCLW', 'R250', 'R500', 'R850', 'U850', 'V850', 'EWSS', 'KX', 'CAPE', 'SSHF', 'PEV', 'AWS_lag10', 'AWS_lag4', 'AWS_lag2', 'AWS_rollmean_12', 'AWS_rollstd_12']\n",
      " Data shapes - Train: torch.Size([26932, 14, 17]), Val: torch.Size([5011, 14, 17]), Test: torch.Size([6390, 14, 17])\n",
      "   Epoch 1/5, Total Loss: 9.4089, Binary: 0.5355, Intensity: 0.5136, Regression: 3.9742\n",
      "   Epoch 2/5, Total Loss: 7.8893, Binary: 0.4213, Intensity: 0.4284, Regression: 3.3494\n",
      "   Epoch 3/5, Total Loss: 7.7472, Binary: 0.4020, Intensity: 0.4195, Regression: 3.2964\n",
      "   Epoch 4/5, Total Loss: 7.2966, Binary: 0.3442, Intensity: 0.4024, Regression: 3.1156\n"
     ]
    },
    {
     "name": "stderr",
     "output_type": "stream",
     "text": [
      "[I 2025-05-06 18:20:27,308] Trial 7 finished with value: 1.2409850358963013 and parameters: {'hidden_size': 224, 'num_layers': 2, 'dropout': 0.2884302581604448, 'lr': 0.0022771156556749606, 'time_step_in': 14, 'time_step_out': 1, 'stride': 6, 'binary_weight': 1.0453900835037444, 'intensity_weight': 1.9811173843097414, 'regression_weight': 1.970591644169272, 'rain_threshold': 0.07879883401042768, 'num_lags': 3, 'lag_0': 10, 'lag_1': 4, 'lag_2': 2, 'num_windows': 1, 'window_0': 12}. Best is trial 0 with value: 0.9751351237297058.\n"
     ]
    },
    {
     "name": "stdout",
     "output_type": "stream",
     "text": [
      "   Epoch 5/5, Total Loss: 6.9733, Binary: 0.3300, Intensity: 0.3902, Regression: 2.9714\n",
      "Using 17 features: ['TCW', 'TCLW', 'R250', 'R500', 'R850', 'U850', 'V850', 'EWSS', 'KX', 'CAPE', 'SSHF', 'PEV', 'AWS_lag11', 'AWS_rollmean_16', 'AWS_rollstd_16', 'AWS_rollmean_12', 'AWS_rollstd_12']\n",
      " Data shapes - Train: torch.Size([5183, 25, 17]), Val: torch.Size([5738, 25, 17]), Test: torch.Size([7591, 25, 17])\n",
      "   Epoch 1/5, Total Loss: 8.8467, Binary: 0.6584, Intensity: 0.7073, Regression: 6.4329\n",
      "   Epoch 2/5, Total Loss: 7.1641, Binary: 0.6215, Intensity: 0.5958, Regression: 5.0110\n",
      "   Epoch 3/5, Total Loss: 6.2266, Binary: 0.5752, Intensity: 0.5114, Regression: 4.3076\n",
      "   Epoch 4/5, Total Loss: 5.7354, Binary: 0.5496, Intensity: 0.4722, Regression: 3.9314\n",
      "   Epoch 5/5, Total Loss: 5.6064, Binary: 0.5598, Intensity: 0.4653, Regression: 3.7963\n",
      "Using 17 features: ['TCW', 'TCLW', 'R250', 'R500', 'R850', 'U850', 'V850', 'EWSS', 'KX', 'CAPE', 'SSHF', 'PEV', 'AWS_lag11', 'AWS_rollmean_16', 'AWS_rollstd_16', 'AWS_rollmean_12', 'AWS_rollstd_12']\n",
      " Data shapes - Train: torch.Size([11796, 25, 17]), Val: torch.Size([5736, 25, 17]), Test: torch.Size([7498, 25, 17])\n",
      "   Epoch 1/5, Total Loss: 6.7181, Binary: 0.5856, Intensity: 0.5685, Regression: 4.6749\n",
      "   Epoch 2/5, Total Loss: 5.4413, Binary: 0.5148, Intensity: 0.4564, Regression: 3.7245\n",
      "   Epoch 3/5, Total Loss: 4.9180, Binary: 0.4126, Intensity: 0.4364, Regression: 3.4101\n",
      "   Epoch 4/5, Total Loss: 4.9417, Binary: 0.4002, Intensity: 0.4366, Regression: 3.4553\n",
      "Error in fold fold_2: Expected input batch_size (1) to match target batch_size (0).\n",
      "Using 17 features: ['TCW', 'TCLW', 'R250', 'R500', 'R850', 'U850', 'V850', 'EWSS', 'KX', 'CAPE', 'SSHF', 'PEV', 'AWS_lag11', 'AWS_rollmean_16', 'AWS_rollstd_16', 'AWS_rollmean_12', 'AWS_rollstd_12']\n",
      " Data shapes - Train: torch.Size([18363, 25, 17]), Val: torch.Size([5628, 25, 17]), Test: torch.Size([7277, 25, 17])\n",
      "   Epoch 1/5, Total Loss: 6.4409, Binary: 0.5324, Intensity: 0.5396, Regression: 4.5431\n",
      "   Epoch 2/5, Total Loss: 5.1500, Binary: 0.4218, Intensity: 0.4402, Regression: 3.6219\n",
      "   Epoch 3/5, Total Loss: 4.8958, Binary: 0.3910, Intensity: 0.4231, Regression: 3.4511\n",
      "   Epoch 4/5, Total Loss: 4.7930, Binary: 0.3662, Intensity: 0.4225, Regression: 3.3910\n",
      "   Epoch 5/5, Total Loss: 4.6639, Binary: 0.3517, Intensity: 0.4121, Regression: 3.3058\n",
      "Using 17 features: ['TCW', 'TCLW', 'R250', 'R500', 'R850', 'U850', 'V850', 'EWSS', 'KX', 'CAPE', 'SSHF', 'PEV', 'AWS_lag11', 'AWS_rollmean_16', 'AWS_rollstd_16', 'AWS_rollmean_12', 'AWS_rollstd_12']\n",
      " Data shapes - Train: torch.Size([24929, 25, 17]), Val: torch.Size([5509, 25, 17]), Test: torch.Size([7103, 25, 17])\n",
      "   Epoch 1/5, Total Loss: 6.2957, Binary: 0.5217, Intensity: 0.5146, Regression: 4.4639\n",
      "   Epoch 2/5, Total Loss: 5.0131, Binary: 0.3932, Intensity: 0.4375, Regression: 3.5377\n",
      "   Epoch 3/5, Total Loss: 4.8109, Binary: 0.3629, Intensity: 0.4215, Regression: 3.4169\n",
      "   Epoch 4/5, Total Loss: 4.6422, Binary: 0.3334, Intensity: 0.4036, Regression: 3.3322\n",
      "   Epoch 5/5, Total Loss: 4.4715, Binary: 0.3201, Intensity: 0.3963, Regression: 3.1965\n",
      "Using 17 features: ['TCW', 'TCLW', 'R250', 'R500', 'R850', 'U850', 'V850', 'EWSS', 'KX', 'CAPE', 'SSHF', 'PEV', 'AWS_lag11', 'AWS_rollmean_16', 'AWS_rollstd_16', 'AWS_rollmean_12', 'AWS_rollstd_12']\n",
      " Data shapes - Train: torch.Size([31495, 25, 17]), Val: torch.Size([5330, 25, 17]), Test: torch.Size([6961, 25, 17])\n",
      "   Epoch 1/5, Total Loss: 5.5751, Binary: 0.4750, Intensity: 0.4820, Regression: 3.8782\n",
      "   Epoch 2/5, Total Loss: 4.9438, Binary: 0.4036, Intensity: 0.4344, Regression: 3.4558\n",
      "   Epoch 3/5, Total Loss: 4.5193, Binary: 0.3622, Intensity: 0.3998, Regression: 3.1653\n",
      "   Epoch 4/5, Total Loss: 4.3755, Binary: 0.3451, Intensity: 0.3915, Regression: 3.0655\n",
      "   Epoch 5/5, Total Loss: 4.3346, Binary: 0.3256, Intensity: 0.3951, Regression: 3.0505\n"
     ]
    },
    {
     "name": "stderr",
     "output_type": "stream",
     "text": [
      "[I 2025-05-06 18:22:11,868] Trial 8 finished with value: 1.1738453954458237 and parameters: {'hidden_size': 189, 'num_layers': 3, 'dropout': 0.300658904399111, 'lr': 0.005995452167759004, 'time_step_in': 25, 'time_step_out': 1, 'stride': 5, 'binary_weight': 1.7043697933237087, 'intensity_weight': 1.9534125923661887, 'regression_weight': 0.9860063236310186, 'rain_threshold': 0.07533561214271926, 'num_lags': 1, 'lag_0': 11, 'num_windows': 2, 'window_0': 16, 'window_1': 12}. Best is trial 0 with value: 0.9751351237297058.\n"
     ]
    },
    {
     "name": "stdout",
     "output_type": "stream",
     "text": [
      "Using 15 features: ['TCW', 'TCLW', 'R250', 'R500', 'R850', 'U850', 'V850', 'EWSS', 'KX', 'CAPE', 'SSHF', 'PEV', 'AWS_lag12', 'AWS_rollmean_23', 'AWS_rollstd_23']\n",
      " Data shapes - Train: torch.Size([5704, 45, 15]), Val: torch.Size([8033, 45, 15]), Test: torch.Size([11175, 45, 15])\n",
      "Error in fold fold_1: Target size (torch.Size([128, 5])) must be the same as input size (torch.Size([128, 1]))\n"
     ]
    },
    {
     "name": "stderr",
     "output_type": "stream",
     "text": [
      "/usr/local/lib/python3.10/dist-packages/torch/nn/modules/rnn.py:123: UserWarning: dropout option adds dropout after all but last recurrent layer, so non-zero dropout expects num_layers greater than 1, but got dropout=0.0932146113081298 and num_layers=1\n",
      "  warnings.warn(\n"
     ]
    },
    {
     "name": "stdout",
     "output_type": "stream",
     "text": [
      "Using 15 features: ['TCW', 'TCLW', 'R250', 'R500', 'R850', 'U850', 'V850', 'EWSS', 'KX', 'CAPE', 'SSHF', 'PEV', 'AWS_lag12', 'AWS_rollmean_23', 'AWS_rollstd_23']\n",
      " Data shapes - Train: torch.Size([16736, 45, 15]), Val: torch.Size([8043, 45, 15]), Test: torch.Size([10798, 45, 15])\n",
      "Error in fold fold_2: Target size (torch.Size([128, 5])) must be the same as input size (torch.Size([128, 1]))\n"
     ]
    },
    {
     "name": "stderr",
     "output_type": "stream",
     "text": [
      "/usr/local/lib/python3.10/dist-packages/torch/nn/modules/rnn.py:123: UserWarning: dropout option adds dropout after all but last recurrent layer, so non-zero dropout expects num_layers greater than 1, but got dropout=0.0932146113081298 and num_layers=1\n",
      "  warnings.warn(\n"
     ]
    },
    {
     "name": "stdout",
     "output_type": "stream",
     "text": [
      "Using 15 features: ['TCW', 'TCLW', 'R250', 'R500', 'R850', 'U850', 'V850', 'EWSS', 'KX', 'CAPE', 'SSHF', 'PEV', 'AWS_lag12', 'AWS_rollmean_23', 'AWS_rollstd_23']\n",
      " Data shapes - Train: torch.Size([27776, 45, 15]), Val: torch.Size([7638, 45, 15]), Test: torch.Size([10298, 45, 15])\n",
      "Error in fold fold_3: Target size (torch.Size([128, 5])) must be the same as input size (torch.Size([128, 1]))\n"
     ]
    },
    {
     "name": "stderr",
     "output_type": "stream",
     "text": [
      "/usr/local/lib/python3.10/dist-packages/torch/nn/modules/rnn.py:123: UserWarning: dropout option adds dropout after all but last recurrent layer, so non-zero dropout expects num_layers greater than 1, but got dropout=0.0932146113081298 and num_layers=1\n",
      "  warnings.warn(\n"
     ]
    },
    {
     "name": "stdout",
     "output_type": "stream",
     "text": [
      "Using 15 features: ['TCW', 'TCLW', 'R250', 'R500', 'R850', 'U850', 'V850', 'EWSS', 'KX', 'CAPE', 'SSHF', 'PEV', 'AWS_lag12', 'AWS_rollmean_23', 'AWS_rollstd_23']\n",
      " Data shapes - Train: torch.Size([38816, 45, 15]), Val: torch.Size([7097, 45, 15]), Test: torch.Size([9695, 45, 15])\n",
      "Error in fold fold_4: Target size (torch.Size([128, 5])) must be the same as input size (torch.Size([128, 1]))\n"
     ]
    },
    {
     "name": "stderr",
     "output_type": "stream",
     "text": [
      "/usr/local/lib/python3.10/dist-packages/torch/nn/modules/rnn.py:123: UserWarning: dropout option adds dropout after all but last recurrent layer, so non-zero dropout expects num_layers greater than 1, but got dropout=0.0932146113081298 and num_layers=1\n",
      "  warnings.warn(\n"
     ]
    },
    {
     "name": "stdout",
     "output_type": "stream",
     "text": [
      "Using 15 features: ['TCW', 'TCLW', 'R250', 'R500', 'R850', 'U850', 'V850', 'EWSS', 'KX', 'CAPE', 'SSHF', 'PEV', 'AWS_lag12', 'AWS_rollmean_23', 'AWS_rollstd_23']\n"
     ]
    },
    {
     "name": "stderr",
     "output_type": "stream",
     "text": [
      "/usr/local/lib/python3.10/dist-packages/torch/nn/modules/rnn.py:123: UserWarning: dropout option adds dropout after all but last recurrent layer, so non-zero dropout expects num_layers greater than 1, but got dropout=0.0932146113081298 and num_layers=1\n",
      "  warnings.warn(\n",
      "[I 2025-05-06 18:22:52,003] Trial 9 finished with value: inf and parameters: {'hidden_size': 185, 'num_layers': 1, 'dropout': 0.0932146113081298, 'lr': 0.0006008215329215217, 'time_step_in': 45, 'time_step_out': 5, 'stride': 3, 'binary_weight': 1.9727089446878263, 'intensity_weight': 1.4594203082479327, 'regression_weight': 1.523481736309964, 'rain_threshold': 0.16268539128214057, 'num_lags': 1, 'lag_0': 12, 'num_windows': 1, 'window_0': 23}. Best is trial 0 with value: 0.9751351237297058.\n"
     ]
    },
    {
     "name": "stdout",
     "output_type": "stream",
     "text": [
      " Data shapes - Train: torch.Size([49856, 45, 15]), Val: torch.Size([6501, 45, 15]), Test: torch.Size([9172, 45, 15])\n",
      "Error in fold fold_5: Target size (torch.Size([128, 5])) must be the same as input size (torch.Size([128, 1]))\n",
      "Using 20 features: ['TCW', 'TCLW', 'R250', 'R500', 'R850', 'U850', 'V850', 'EWSS', 'KX', 'CAPE', 'SSHF', 'PEV', 'AWS_lag5', 'AWS_lag10', 'AWS_rollmean_3', 'AWS_rollstd_3', 'AWS_rollmean_24', 'AWS_rollstd_24', 'AWS_rollmean_3', 'AWS_rollstd_3']\n",
      " Data shapes - Train: torch.Size([3851, 28, 20]), Val: torch.Size([4576, 28, 20]), Test: torch.Size([6186, 28, 20])\n",
      "Error in fold fold_1: Target size (torch.Size([128, 3])) must be the same as input size (torch.Size([128, 1]))\n",
      "Using 20 features: ['TCW', 'TCLW', 'R250', 'R500', 'R850', 'U850', 'V850', 'EWSS', 'KX', 'CAPE', 'SSHF', 'PEV', 'AWS_lag5', 'AWS_lag10', 'AWS_rollmean_3', 'AWS_rollstd_3', 'AWS_rollmean_24', 'AWS_rollstd_24', 'AWS_rollmean_3', 'AWS_rollstd_3']\n",
      " Data shapes - Train: torch.Size([9370, 28, 20]), Val: torch.Size([4587, 28, 20]), Test: torch.Size([6096, 28, 20])\n",
      "Error in fold fold_2: Target size (torch.Size([128, 3])) must be the same as input size (torch.Size([128, 1]))\n",
      "Using 20 features: ['TCW', 'TCLW', 'R250', 'R500', 'R850', 'U850', 'V850', 'EWSS', 'KX', 'CAPE', 'SSHF', 'PEV', 'AWS_lag5', 'AWS_lag10', 'AWS_rollmean_3', 'AWS_rollstd_3', 'AWS_rollmean_24', 'AWS_rollstd_24', 'AWS_rollmean_3', 'AWS_rollstd_3']\n",
      " Data shapes - Train: torch.Size([14890, 28, 20]), Val: torch.Size([4510, 28, 20]), Test: torch.Size([5961, 28, 20])\n",
      "Error in fold fold_3: Target size (torch.Size([128, 3])) must be the same as input size (torch.Size([128, 1]))\n",
      "Using 20 features: ['TCW', 'TCLW', 'R250', 'R500', 'R850', 'U850', 'V850', 'EWSS', 'KX', 'CAPE', 'SSHF', 'PEV', 'AWS_lag5', 'AWS_lag10', 'AWS_rollmean_3', 'AWS_rollstd_3', 'AWS_rollmean_24', 'AWS_rollstd_24', 'AWS_rollmean_3', 'AWS_rollstd_3']\n",
      " Data shapes - Train: torch.Size([20410, 28, 20]), Val: torch.Size([4367, 28, 20]), Test: torch.Size([5751, 28, 20])\n",
      "Error in fold fold_4: Target size (torch.Size([128, 3])) must be the same as input size (torch.Size([128, 1]))\n",
      "Using 20 features: ['TCW', 'TCLW', 'R250', 'R500', 'R850', 'U850', 'V850', 'EWSS', 'KX', 'CAPE', 'SSHF', 'PEV', 'AWS_lag5', 'AWS_lag10', 'AWS_rollmean_3', 'AWS_rollstd_3', 'AWS_rollmean_24', 'AWS_rollstd_24', 'AWS_rollmean_3', 'AWS_rollstd_3']\n"
     ]
    },
    {
     "name": "stderr",
     "output_type": "stream",
     "text": [
      "[I 2025-05-06 18:23:19,552] Trial 10 finished with value: inf and parameters: {'hidden_size': 179, 'num_layers': 2, 'dropout': 0.17093357421759126, 'lr': 0.0006783428545688714, 'time_step_in': 28, 'time_step_out': 3, 'stride': 6, 'binary_weight': 0.6507556265840806, 'intensity_weight': 1.064263976263821, 'regression_weight': 0.5727714151335965, 'rain_threshold': 0.18901055260350016, 'num_lags': 2, 'lag_0': 5, 'lag_1': 10, 'num_windows': 3, 'window_0': 3, 'window_1': 24, 'window_2': 3}. Best is trial 0 with value: 0.9751351237297058.\n"
     ]
    },
    {
     "name": "stdout",
     "output_type": "stream",
     "text": [
      " Data shapes - Train: torch.Size([25930, 28, 20]), Val: torch.Size([4201, 28, 20]), Test: torch.Size([5614, 28, 20])\n",
      "Error in fold fold_5: Target size (torch.Size([128, 3])) must be the same as input size (torch.Size([128, 1]))\n",
      "Using 17 features: ['TCW', 'TCLW', 'R250', 'R500', 'R850', 'U850', 'V850', 'EWSS', 'KX', 'CAPE', 'SSHF', 'PEV', 'AWS_lag6', 'AWS_rollmean_3', 'AWS_rollstd_3', 'AWS_rollmean_20', 'AWS_rollstd_20']\n",
      " Data shapes - Train: torch.Size([4897, 25, 17]), Val: torch.Size([5697, 25, 17]), Test: torch.Size([7555, 25, 17])\n",
      "Error in fold fold_1: Target size (torch.Size([128, 2])) must be the same as input size (torch.Size([128, 1]))\n",
      "Using 17 features: ['TCW', 'TCLW', 'R250', 'R500', 'R850', 'U850', 'V850', 'EWSS', 'KX', 'CAPE', 'SSHF', 'PEV', 'AWS_lag6', 'AWS_rollmean_3', 'AWS_rollstd_3', 'AWS_rollmean_20', 'AWS_rollstd_20']\n",
      " Data shapes - Train: torch.Size([11705, 25, 17]), Val: torch.Size([5703, 25, 17]), Test: torch.Size([7433, 25, 17])\n",
      "Error in fold fold_2: Target size (torch.Size([128, 2])) must be the same as input size (torch.Size([128, 1]))\n",
      "Using 17 features: ['TCW', 'TCLW', 'R250', 'R500', 'R850', 'U850', 'V850', 'EWSS', 'KX', 'CAPE', 'SSHF', 'PEV', 'AWS_lag6', 'AWS_rollmean_3', 'AWS_rollstd_3', 'AWS_rollmean_20', 'AWS_rollstd_20']\n",
      " Data shapes - Train: torch.Size([18362, 25, 17]), Val: torch.Size([5600, 25, 17]), Test: torch.Size([7244, 25, 17])\n",
      "Error in fold fold_3: Target size (torch.Size([128, 2])) must be the same as input size (torch.Size([128, 1]))\n",
      "Using 17 features: ['TCW', 'TCLW', 'R250', 'R500', 'R850', 'U850', 'V850', 'EWSS', 'KX', 'CAPE', 'SSHF', 'PEV', 'AWS_lag6', 'AWS_rollmean_3', 'AWS_rollstd_3', 'AWS_rollmean_20', 'AWS_rollstd_20']\n",
      " Data shapes - Train: torch.Size([24929, 25, 17]), Val: torch.Size([5365, 25, 17]), Test: torch.Size([7077, 25, 17])\n",
      "Error in fold fold_4: Target size (torch.Size([128, 2])) must be the same as input size (torch.Size([128, 1]))\n",
      "Using 17 features: ['TCW', 'TCLW', 'R250', 'R500', 'R850', 'U850', 'V850', 'EWSS', 'KX', 'CAPE', 'SSHF', 'PEV', 'AWS_lag6', 'AWS_rollmean_3', 'AWS_rollstd_3', 'AWS_rollmean_20', 'AWS_rollstd_20']\n"
     ]
    },
    {
     "name": "stderr",
     "output_type": "stream",
     "text": [
      "[I 2025-05-06 18:23:44,470] Trial 11 finished with value: inf and parameters: {'hidden_size': 191, 'num_layers': 2, 'dropout': 0.43227042763023366, 'lr': 0.00948170242509931, 'time_step_in': 25, 'time_step_out': 2, 'stride': 5, 'binary_weight': 1.5975198119997063, 'intensity_weight': 1.0352986509174362, 'regression_weight': 0.911185733583928, 'rain_threshold': 0.05441861917050089, 'num_lags': 1, 'lag_0': 6, 'num_windows': 2, 'window_0': 3, 'window_1': 20}. Best is trial 0 with value: 0.9751351237297058.\n"
     ]
    },
    {
     "name": "stdout",
     "output_type": "stream",
     "text": [
      " Data shapes - Train: torch.Size([31495, 25, 17]), Val: torch.Size([5177, 25, 17]), Test: torch.Size([6954, 25, 17])\n",
      "Error in fold fold_5: Target size (torch.Size([128, 2])) must be the same as input size (torch.Size([128, 1]))\n",
      "Using 17 features: ['TCW', 'TCLW', 'R250', 'R500', 'R850', 'U850', 'V850', 'EWSS', 'KX', 'CAPE', 'SSHF', 'PEV', 'AWS_lag7', 'AWS_rollmean_19', 'AWS_rollstd_19', 'AWS_rollmean_17', 'AWS_rollstd_17']\n",
      " Data shapes - Train: torch.Size([5230, 23, 17]), Val: torch.Size([5757, 23, 17]), Test: torch.Size([7627, 23, 17])\n",
      "Error in fold fold_1: Target size (torch.Size([128, 2])) must be the same as input size (torch.Size([128, 1]))\n",
      "Using 17 features: ['TCW', 'TCLW', 'R250', 'R500', 'R850', 'U850', 'V850', 'EWSS', 'KX', 'CAPE', 'SSHF', 'PEV', 'AWS_lag7', 'AWS_rollmean_19', 'AWS_rollstd_19', 'AWS_rollmean_17', 'AWS_rollstd_17']\n",
      " Data shapes - Train: torch.Size([11797, 23, 17]), Val: torch.Size([5763, 23, 17]), Test: torch.Size([7547, 23, 17])\n",
      "Error in fold fold_2: Target size (torch.Size([128, 2])) must be the same as input size (torch.Size([128, 1]))\n",
      "Using 17 features: ['TCW', 'TCLW', 'R250', 'R500', 'R850', 'U850', 'V850', 'EWSS', 'KX', 'CAPE', 'SSHF', 'PEV', 'AWS_lag7', 'AWS_rollmean_19', 'AWS_rollstd_19', 'AWS_rollmean_17', 'AWS_rollstd_17']\n",
      " Data shapes - Train: torch.Size([18363, 23, 17]), Val: torch.Size([5638, 23, 17]), Test: torch.Size([7409, 23, 17])\n",
      "Error in fold fold_3: Target size (torch.Size([128, 2])) must be the same as input size (torch.Size([128, 1]))\n",
      "Using 17 features: ['TCW', 'TCLW', 'R250', 'R500', 'R850', 'U850', 'V850', 'EWSS', 'KX', 'CAPE', 'SSHF', 'PEV', 'AWS_lag7', 'AWS_rollmean_19', 'AWS_rollstd_19', 'AWS_rollmean_17', 'AWS_rollstd_17']\n",
      " Data shapes - Train: torch.Size([24929, 23, 17]), Val: torch.Size([5552, 23, 17]), Test: torch.Size([7210, 23, 17])\n",
      "Error in fold fold_4: Target size (torch.Size([128, 2])) must be the same as input size (torch.Size([128, 1]))\n",
      "Using 17 features: ['TCW', 'TCLW', 'R250', 'R500', 'R850', 'U850', 'V850', 'EWSS', 'KX', 'CAPE', 'SSHF', 'PEV', 'AWS_lag7', 'AWS_rollmean_19', 'AWS_rollstd_19', 'AWS_rollmean_17', 'AWS_rollstd_17']\n"
     ]
    },
    {
     "name": "stderr",
     "output_type": "stream",
     "text": [
      "[I 2025-05-06 18:24:08,131] Trial 12 finished with value: inf and parameters: {'hidden_size': 163, 'num_layers': 3, 'dropout': 0.1896250453034398, 'lr': 0.0012575431885031134, 'time_step_in': 23, 'time_step_out': 2, 'stride': 5, 'binary_weight': 1.5936421445868996, 'intensity_weight': 1.0889417789729956, 'regression_weight': 0.8666343757245492, 'rain_threshold': 0.1997265053339149, 'num_lags': 1, 'lag_0': 7, 'num_windows': 2, 'window_0': 19, 'window_1': 17}. Best is trial 0 with value: 0.9751351237297058.\n"
     ]
    },
    {
     "name": "stdout",
     "output_type": "stream",
     "text": [
      " Data shapes - Train: torch.Size([31605, 23, 17]), Val: torch.Size([5394, 23, 17]), Test: torch.Size([6993, 23, 17])\n",
      "Error in fold fold_5: Target size (torch.Size([128, 2])) must be the same as input size (torch.Size([128, 1]))\n",
      "Using 17 features: ['TCW', 'TCLW', 'R250', 'R500', 'R850', 'U850', 'V850', 'EWSS', 'KX', 'CAPE', 'SSHF', 'PEV', 'AWS_lag12', 'AWS_rollmean_17', 'AWS_rollstd_17', 'AWS_rollmean_7', 'AWS_rollstd_7']\n",
      " Data shapes - Train: torch.Size([4564, 33, 17]), Val: torch.Size([5412, 33, 17]), Test: torch.Size([7301, 33, 17])\n"
     ]
    },
    {
     "name": "stderr",
     "output_type": "stream",
     "text": [
      "/usr/local/lib/python3.10/dist-packages/torch/nn/modules/rnn.py:123: UserWarning: dropout option adds dropout after all but last recurrent layer, so non-zero dropout expects num_layers greater than 1, but got dropout=0.18822986462146468 and num_layers=1\n",
      "  warnings.warn(\n"
     ]
    },
    {
     "name": "stdout",
     "output_type": "stream",
     "text": [
      "   Epoch 1/5, Total Loss: 7.1009, Binary: 0.6204, Intensity: 0.6296, Regression: 6.1521\n",
      "   Epoch 2/5, Total Loss: 4.2795, Binary: 0.4570, Intensity: 0.4887, Regression: 3.3021\n",
      "   Epoch 3/5, Total Loss: 3.9565, Binary: 0.4109, Intensity: 0.4293, Regression: 3.1261\n",
      "   Epoch 4/5, Total Loss: 3.8949, Binary: 0.3807, Intensity: 0.4360, Regression: 3.0904\n",
      "   Epoch 5/5, Total Loss: 3.6655, Binary: 0.3496, Intensity: 0.4241, Regression: 2.8927\n",
      "Using 17 features: ['TCW', 'TCLW', 'R250', 'R500', 'R850', 'U850', 'V850', 'EWSS', 'KX', 'CAPE', 'SSHF', 'PEV', 'AWS_lag12', 'AWS_rollmean_17', 'AWS_rollstd_17', 'AWS_rollmean_7', 'AWS_rollstd_7']\n",
      " Data shapes - Train: torch.Size([11129, 33, 17]), Val: torch.Size([5432, 33, 17]), Test: torch.Size([7167, 33, 17])\n"
     ]
    },
    {
     "name": "stderr",
     "output_type": "stream",
     "text": [
      "/usr/local/lib/python3.10/dist-packages/torch/nn/modules/rnn.py:123: UserWarning: dropout option adds dropout after all but last recurrent layer, so non-zero dropout expects num_layers greater than 1, but got dropout=0.18822986462146468 and num_layers=1\n",
      "  warnings.warn(\n"
     ]
    },
    {
     "name": "stdout",
     "output_type": "stream",
     "text": [
      "   Epoch 1/5, Total Loss: 4.5913, Binary: 0.4928, Intensity: 0.4924, Regression: 3.6119\n",
      "   Epoch 2/5, Total Loss: 3.6128, Binary: 0.3377, Intensity: 0.3996, Regression: 2.9061\n",
      "   Epoch 3/5, Total Loss: 3.3225, Binary: 0.2886, Intensity: 0.3778, Regression: 2.6893\n",
      "   Epoch 4/5, Total Loss: 3.3012, Binary: 0.2793, Intensity: 0.3730, Regression: 2.6912\n",
      "   Epoch 5/5, Total Loss: 3.2705, Binary: 0.2779, Intensity: 0.3709, Regression: 2.6609\n",
      "Using 17 features: ['TCW', 'TCLW', 'R250', 'R500', 'R850', 'U850', 'V850', 'EWSS', 'KX', 'CAPE', 'SSHF', 'PEV', 'AWS_lag12', 'AWS_rollmean_17', 'AWS_rollstd_17', 'AWS_rollmean_7', 'AWS_rollstd_7']\n",
      " Data shapes - Train: torch.Size([17695, 33, 17]), Val: torch.Size([5275, 33, 17]), Test: torch.Size([6977, 33, 17])\n"
     ]
    },
    {
     "name": "stderr",
     "output_type": "stream",
     "text": [
      "/usr/local/lib/python3.10/dist-packages/torch/nn/modules/rnn.py:123: UserWarning: dropout option adds dropout after all but last recurrent layer, so non-zero dropout expects num_layers greater than 1, but got dropout=0.18822986462146468 and num_layers=1\n",
      "  warnings.warn(\n"
     ]
    },
    {
     "name": "stdout",
     "output_type": "stream",
     "text": [
      "   Epoch 1/5, Total Loss: 4.8461, Binary: 0.4793, Intensity: 0.4823, Regression: 3.9739\n",
      "   Epoch 2/5, Total Loss: 3.7050, Binary: 0.3505, Intensity: 0.4123, Regression: 2.9669\n",
      "   Epoch 3/5, Total Loss: 3.6287, Binary: 0.3127, Intensity: 0.3964, Regression: 2.9793\n",
      "   Epoch 4/5, Total Loss: 3.3746, Binary: 0.2887, Intensity: 0.3761, Regression: 2.7572\n",
      "   Epoch 5/5, Total Loss: 3.2224, Binary: 0.2794, Intensity: 0.3675, Regression: 2.6068\n",
      "Using 17 features: ['TCW', 'TCLW', 'R250', 'R500', 'R850', 'U850', 'V850', 'EWSS', 'KX', 'CAPE', 'SSHF', 'PEV', 'AWS_lag12', 'AWS_rollmean_17', 'AWS_rollstd_17', 'AWS_rollmean_7', 'AWS_rollstd_7']\n",
      " Data shapes - Train: torch.Size([24415, 33, 17]), Val: torch.Size([5084, 33, 17]), Test: torch.Size([6730, 33, 17])\n"
     ]
    },
    {
     "name": "stderr",
     "output_type": "stream",
     "text": [
      "/usr/local/lib/python3.10/dist-packages/torch/nn/modules/rnn.py:123: UserWarning: dropout option adds dropout after all but last recurrent layer, so non-zero dropout expects num_layers greater than 1, but got dropout=0.18822986462146468 and num_layers=1\n",
      "  warnings.warn(\n"
     ]
    },
    {
     "name": "stdout",
     "output_type": "stream",
     "text": [
      "   Epoch 1/5, Total Loss: 4.8833, Binary: 0.4790, Intensity: 0.5169, Regression: 3.9404\n",
      "   Epoch 2/5, Total Loss: 3.6779, Binary: 0.3304, Intensity: 0.4102, Regression: 2.9754\n",
      "   Epoch 3/5, Total Loss: 3.4507, Binary: 0.2900, Intensity: 0.3906, Regression: 2.8151\n",
      "   Epoch 4/5, Total Loss: 3.3602, Binary: 0.2812, Intensity: 0.3796, Regression: 2.7452\n",
      "   Epoch 5/5, Total Loss: 3.3808, Binary: 0.2773, Intensity: 0.3799, Regression: 2.7772\n",
      "Using 17 features: ['TCW', 'TCLW', 'R250', 'R500', 'R850', 'U850', 'V850', 'EWSS', 'KX', 'CAPE', 'SSHF', 'PEV', 'AWS_lag12', 'AWS_rollmean_17', 'AWS_rollstd_17', 'AWS_rollmean_7', 'AWS_rollstd_7']\n",
      " Data shapes - Train: torch.Size([31160, 33, 17]), Val: torch.Size([4862, 33, 17]), Test: torch.Size([6467, 33, 17])\n"
     ]
    },
    {
     "name": "stderr",
     "output_type": "stream",
     "text": [
      "/usr/local/lib/python3.10/dist-packages/torch/nn/modules/rnn.py:123: UserWarning: dropout option adds dropout after all but last recurrent layer, so non-zero dropout expects num_layers greater than 1, but got dropout=0.18822986462146468 and num_layers=1\n",
      "  warnings.warn(\n"
     ]
    },
    {
     "name": "stdout",
     "output_type": "stream",
     "text": [
      "   Epoch 1/5, Total Loss: 4.3380, Binary: 0.4182, Intensity: 0.4579, Regression: 3.5166\n",
      "   Epoch 2/5, Total Loss: 3.7157, Binary: 0.3011, Intensity: 0.4129, Regression: 3.0695\n",
      "   Epoch 3/5, Total Loss: 3.5319, Binary: 0.2816, Intensity: 0.3947, Regression: 2.9212\n",
      "   Epoch 4/5, Total Loss: 3.4714, Binary: 0.2704, Intensity: 0.3927, Regression: 2.8720\n"
     ]
    },
    {
     "name": "stderr",
     "output_type": "stream",
     "text": [
      "[I 2025-05-06 18:24:58,371] Trial 13 finished with value: 1.0444024443626403 and parameters: {'hidden_size': 222, 'num_layers': 1, 'dropout': 0.18822986462146468, 'lr': 0.009928863888880066, 'time_step_in': 33, 'time_step_out': 1, 'stride': 5, 'binary_weight': 1.4955197430853386, 'intensity_weight': 1.874470727892307, 'regression_weight': 0.8116090451931186, 'rain_threshold': 0.15581700413898755, 'num_lags': 1, 'lag_0': 12, 'num_windows': 2, 'window_0': 17, 'window_1': 7}. Best is trial 0 with value: 0.9751351237297058.\n"
     ]
    },
    {
     "name": "stdout",
     "output_type": "stream",
     "text": [
      "   Epoch 5/5, Total Loss: 3.4240, Binary: 0.2674, Intensity: 0.3907, Regression: 2.8238\n",
      "Using 20 features: ['TCW', 'TCLW', 'R250', 'R500', 'R850', 'U850', 'V850', 'EWSS', 'KX', 'CAPE', 'SSHF', 'PEV', 'AWS_lag4', 'AWS_lag8', 'AWS_rollmean_6', 'AWS_rollstd_6', 'AWS_rollmean_4', 'AWS_rollstd_4', 'AWS_rollmean_23', 'AWS_rollstd_23']\n",
      " Data shapes - Train: torch.Size([3518, 35, 20]), Val: torch.Size([4386, 35, 20]), Test: torch.Size([5951, 35, 20])\n",
      "Error in fold fold_1: Target size (torch.Size([128, 3])) must be the same as input size (torch.Size([128, 1]))\n"
     ]
    },
    {
     "name": "stderr",
     "output_type": "stream",
     "text": [
      "/usr/local/lib/python3.10/dist-packages/torch/nn/modules/rnn.py:123: UserWarning: dropout option adds dropout after all but last recurrent layer, so non-zero dropout expects num_layers greater than 1, but got dropout=0.189272154019044 and num_layers=1\n",
      "  warnings.warn(\n"
     ]
    },
    {
     "name": "stdout",
     "output_type": "stream",
     "text": [
      "Using 20 features: ['TCW', 'TCLW', 'R250', 'R500', 'R850', 'U850', 'V850', 'EWSS', 'KX', 'CAPE', 'SSHF', 'PEV', 'AWS_lag4', 'AWS_lag8', 'AWS_rollmean_6', 'AWS_rollstd_6', 'AWS_rollmean_4', 'AWS_rollstd_4', 'AWS_rollmean_23', 'AWS_rollstd_23']\n",
      " Data shapes - Train: torch.Size([9036, 35, 20]), Val: torch.Size([4408, 35, 20]), Test: torch.Size([5867, 35, 20])\n",
      "Error in fold fold_2: Target size (torch.Size([128, 3])) must be the same as input size (torch.Size([128, 1]))\n"
     ]
    },
    {
     "name": "stderr",
     "output_type": "stream",
     "text": [
      "/usr/local/lib/python3.10/dist-packages/torch/nn/modules/rnn.py:123: UserWarning: dropout option adds dropout after all but last recurrent layer, so non-zero dropout expects num_layers greater than 1, but got dropout=0.189272154019044 and num_layers=1\n",
      "  warnings.warn(\n"
     ]
    },
    {
     "name": "stdout",
     "output_type": "stream",
     "text": [
      "Using 20 features: ['TCW', 'TCLW', 'R250', 'R500', 'R850', 'U850', 'V850', 'EWSS', 'KX', 'CAPE', 'SSHF', 'PEV', 'AWS_lag4', 'AWS_lag8', 'AWS_rollmean_6', 'AWS_rollstd_6', 'AWS_rollmean_4', 'AWS_rollstd_4', 'AWS_rollmean_23', 'AWS_rollstd_23']\n",
      " Data shapes - Train: torch.Size([14556, 35, 20]), Val: torch.Size([4298, 35, 20]), Test: torch.Size([5720, 35, 20])\n",
      "Error in fold fold_3: Target size (torch.Size([128, 3])) must be the same as input size (torch.Size([128, 1]))\n"
     ]
    },
    {
     "name": "stderr",
     "output_type": "stream",
     "text": [
      "/usr/local/lib/python3.10/dist-packages/torch/nn/modules/rnn.py:123: UserWarning: dropout option adds dropout after all but last recurrent layer, so non-zero dropout expects num_layers greater than 1, but got dropout=0.189272154019044 and num_layers=1\n",
      "  warnings.warn(\n"
     ]
    },
    {
     "name": "stdout",
     "output_type": "stream",
     "text": [
      "Using 20 features: ['TCW', 'TCLW', 'R250', 'R500', 'R850', 'U850', 'V850', 'EWSS', 'KX', 'CAPE', 'SSHF', 'PEV', 'AWS_lag4', 'AWS_lag8', 'AWS_rollmean_6', 'AWS_rollstd_6', 'AWS_rollmean_4', 'AWS_rollstd_4', 'AWS_rollmean_23', 'AWS_rollstd_23']\n",
      " Data shapes - Train: torch.Size([20076, 35, 20]), Val: torch.Size([4100, 35, 20]), Test: torch.Size([5368, 35, 20])\n",
      "Error in fold fold_4: Target size (torch.Size([128, 3])) must be the same as input size (torch.Size([128, 1]))\n"
     ]
    },
    {
     "name": "stderr",
     "output_type": "stream",
     "text": [
      "/usr/local/lib/python3.10/dist-packages/torch/nn/modules/rnn.py:123: UserWarning: dropout option adds dropout after all but last recurrent layer, so non-zero dropout expects num_layers greater than 1, but got dropout=0.189272154019044 and num_layers=1\n",
      "  warnings.warn(\n"
     ]
    },
    {
     "name": "stdout",
     "output_type": "stream",
     "text": [
      "Using 20 features: ['TCW', 'TCLW', 'R250', 'R500', 'R850', 'U850', 'V850', 'EWSS', 'KX', 'CAPE', 'SSHF', 'PEV', 'AWS_lag4', 'AWS_lag8', 'AWS_rollmean_6', 'AWS_rollstd_6', 'AWS_rollmean_4', 'AWS_rollstd_4', 'AWS_rollmean_23', 'AWS_rollstd_23']\n"
     ]
    },
    {
     "name": "stderr",
     "output_type": "stream",
     "text": [
      "/usr/local/lib/python3.10/dist-packages/torch/nn/modules/rnn.py:123: UserWarning: dropout option adds dropout after all but last recurrent layer, so non-zero dropout expects num_layers greater than 1, but got dropout=0.189272154019044 and num_layers=1\n",
      "  warnings.warn(\n",
      "[I 2025-05-06 18:25:28,619] Trial 14 finished with value: inf and parameters: {'hidden_size': 225, 'num_layers': 1, 'dropout': 0.189272154019044, 'lr': 0.0003674777871416969, 'time_step_in': 35, 'time_step_out': 3, 'stride': 6, 'binary_weight': 1.3921018516459982, 'intensity_weight': 0.9047285627477635, 'regression_weight': 0.746534991685039, 'rain_threshold': 0.1647638418549816, 'num_lags': 2, 'lag_0': 4, 'lag_1': 8, 'num_windows': 3, 'window_0': 6, 'window_1': 4, 'window_2': 23}. Best is trial 0 with value: 0.9751351237297058.\n"
     ]
    },
    {
     "name": "stdout",
     "output_type": "stream",
     "text": [
      " Data shapes - Train: torch.Size([25596, 35, 20]), Val: torch.Size([3923, 35, 20]), Test: torch.Size([5166, 35, 20])\n",
      "Error in fold fold_5: Target size (torch.Size([128, 3])) must be the same as input size (torch.Size([128, 1]))\n",
      "Using 15 features: ['TCW', 'TCLW', 'R250', 'R500', 'R850', 'U850', 'V850', 'EWSS', 'KX', 'CAPE', 'SSHF', 'PEV', 'AWS_lag12', 'AWS_rollmean_18', 'AWS_rollstd_18']\n",
      " Data shapes - Train: torch.Size([5610, 34, 15]), Val: torch.Size([6714, 34, 15]), Test: torch.Size([9055, 34, 15])\n"
     ]
    },
    {
     "name": "stderr",
     "output_type": "stream",
     "text": [
      "/usr/local/lib/python3.10/dist-packages/torch/nn/modules/rnn.py:123: UserWarning: dropout option adds dropout after all but last recurrent layer, so non-zero dropout expects num_layers greater than 1, but got dropout=0.013690156939023479 and num_layers=1\n",
      "  warnings.warn(\n"
     ]
    },
    {
     "name": "stdout",
     "output_type": "stream",
     "text": [
      "   Epoch 1/5, Total Loss: 9.0399, Binary: 0.6684, Intensity: 0.8765, Regression: 5.6119\n",
      "   Epoch 2/5, Total Loss: 6.7235, Binary: 0.5560, Intensity: 0.5410, Regression: 4.2140\n",
      "   Epoch 3/5, Total Loss: 6.0623, Binary: 0.5124, Intensity: 0.4702, Regression: 3.8040\n",
      "   Epoch 4/5, Total Loss: 5.6841, Binary: 0.4751, Intensity: 0.4547, Regression: 3.5594\n",
      "   Epoch 5/5, Total Loss: 5.5077, Binary: 0.4549, Intensity: 0.4409, Regression: 3.4548\n",
      "Using 15 features: ['TCW', 'TCLW', 'R250', 'R500', 'R850', 'U850', 'V850', 'EWSS', 'KX', 'CAPE', 'SSHF', 'PEV', 'AWS_lag12', 'AWS_rollmean_18', 'AWS_rollstd_18']\n",
      " Data shapes - Train: torch.Size([13888, 34, 15]), Val: torch.Size([6723, 34, 15]), Test: torch.Size([8898, 34, 15])\n"
     ]
    },
    {
     "name": "stderr",
     "output_type": "stream",
     "text": [
      "/usr/local/lib/python3.10/dist-packages/torch/nn/modules/rnn.py:123: UserWarning: dropout option adds dropout after all but last recurrent layer, so non-zero dropout expects num_layers greater than 1, but got dropout=0.013690156939023479 and num_layers=1\n",
      "  warnings.warn(\n"
     ]
    },
    {
     "name": "stdout",
     "output_type": "stream",
     "text": [
      "   Epoch 1/5, Total Loss: 7.5307, Binary: 0.5874, Intensity: 0.6147, Regression: 4.7513\n",
      "   Epoch 2/5, Total Loss: 5.7316, Binary: 0.4950, Intensity: 0.4437, Regression: 3.5855\n",
      "   Epoch 3/5, Total Loss: 5.3294, Binary: 0.4274, Intensity: 0.4329, Regression: 3.3514\n",
      "   Epoch 4/5, Total Loss: 4.9703, Binary: 0.3626, Intensity: 0.4076, Regression: 3.1622\n",
      "   Epoch 5/5, Total Loss: 4.7603, Binary: 0.3298, Intensity: 0.3857, Regression: 3.0528\n",
      "Using 15 features: ['TCW', 'TCLW', 'R250', 'R500', 'R850', 'U850', 'V850', 'EWSS', 'KX', 'CAPE', 'SSHF', 'PEV', 'AWS_lag12', 'AWS_rollmean_18', 'AWS_rollstd_18']\n",
      " Data shapes - Train: torch.Size([22168, 34, 15]), Val: torch.Size([6494, 34, 15]), Test: torch.Size([8605, 34, 15])\n"
     ]
    },
    {
     "name": "stderr",
     "output_type": "stream",
     "text": [
      "/usr/local/lib/python3.10/dist-packages/torch/nn/modules/rnn.py:123: UserWarning: dropout option adds dropout after all but last recurrent layer, so non-zero dropout expects num_layers greater than 1, but got dropout=0.013690156939023479 and num_layers=1\n",
      "  warnings.warn(\n"
     ]
    },
    {
     "name": "stdout",
     "output_type": "stream",
     "text": [
      "   Epoch 1/5, Total Loss: 6.8612, Binary: 0.5587, Intensity: 0.5706, Regression: 4.2923\n",
      "   Epoch 2/5, Total Loss: 5.4471, Binary: 0.4391, Intensity: 0.4355, Regression: 3.4295\n",
      "   Epoch 3/5, Total Loss: 5.0768, Binary: 0.3650, Intensity: 0.4136, Regression: 3.2385\n",
      "   Epoch 4/5, Total Loss: 4.7330, Binary: 0.3326, Intensity: 0.3889, Regression: 3.0247\n",
      "   Epoch 5/5, Total Loss: 4.6590, Binary: 0.3190, Intensity: 0.3823, Regression: 2.9874\n",
      "Using 15 features: ['TCW', 'TCLW', 'R250', 'R500', 'R850', 'U850', 'V850', 'EWSS', 'KX', 'CAPE', 'SSHF', 'PEV', 'AWS_lag12', 'AWS_rollmean_18', 'AWS_rollstd_18']\n",
      " Data shapes - Train: torch.Size([30448, 34, 15]), Val: torch.Size([6216, 34, 15]), Test: torch.Size([8253, 34, 15])\n"
     ]
    },
    {
     "name": "stderr",
     "output_type": "stream",
     "text": [
      "/usr/local/lib/python3.10/dist-packages/torch/nn/modules/rnn.py:123: UserWarning: dropout option adds dropout after all but last recurrent layer, so non-zero dropout expects num_layers greater than 1, but got dropout=0.013690156939023479 and num_layers=1\n",
      "  warnings.warn(\n"
     ]
    },
    {
     "name": "stdout",
     "output_type": "stream",
     "text": [
      "   Epoch 1/5, Total Loss: 6.3967, Binary: 0.5335, Intensity: 0.5337, Regression: 3.9860\n",
      "   Epoch 2/5, Total Loss: 5.1944, Binary: 0.3845, Intensity: 0.4317, Regression: 3.2931\n",
      "   Epoch 3/5, Total Loss: 4.7052, Binary: 0.3254, Intensity: 0.3958, Regression: 3.0040\n",
      "   Epoch 4/5, Total Loss: 4.5598, Binary: 0.3114, Intensity: 0.3868, Regression: 2.9125\n",
      "   Epoch 5/5, Total Loss: 4.3182, Binary: 0.3064, Intensity: 0.3734, Regression: 2.7385\n",
      "Using 15 features: ['TCW', 'TCLW', 'R250', 'R500', 'R850', 'U850', 'V850', 'EWSS', 'KX', 'CAPE', 'SSHF', 'PEV', 'AWS_lag12', 'AWS_rollmean_18', 'AWS_rollstd_18']\n",
      " Data shapes - Train: torch.Size([38728, 34, 15]), Val: torch.Size([5995, 34, 15]), Test: torch.Size([7959, 34, 15])\n"
     ]
    },
    {
     "name": "stderr",
     "output_type": "stream",
     "text": [
      "/usr/local/lib/python3.10/dist-packages/torch/nn/modules/rnn.py:123: UserWarning: dropout option adds dropout after all but last recurrent layer, so non-zero dropout expects num_layers greater than 1, but got dropout=0.013690156939023479 and num_layers=1\n",
      "  warnings.warn(\n"
     ]
    },
    {
     "name": "stdout",
     "output_type": "stream",
     "text": [
      "   Epoch 1/5, Total Loss: 6.4465, Binary: 0.5087, Intensity: 0.5366, Regression: 4.0507\n",
      "   Epoch 2/5, Total Loss: 5.1349, Binary: 0.3969, Intensity: 0.4231, Regression: 3.2400\n",
      "   Epoch 3/5, Total Loss: 4.6513, Binary: 0.3323, Intensity: 0.3937, Regression: 2.9553\n",
      "   Epoch 4/5, Total Loss: 4.4656, Binary: 0.3107, Intensity: 0.3817, Regression: 2.8431\n"
     ]
    },
    {
     "name": "stderr",
     "output_type": "stream",
     "text": [
      "[I 2025-05-06 18:26:26,322] Trial 15 finished with value: 1.2559985637664794 and parameters: {'hidden_size': 252, 'num_layers': 1, 'dropout': 0.013690156939023479, 'lr': 0.0011238680108284324, 'time_step_in': 34, 'time_step_out': 1, 'stride': 4, 'binary_weight': 1.4081878130061996, 'intensity_weight': 1.2020056690487921, 'regression_weight': 1.255386324781085, 'rain_threshold': 0.16756058169368032, 'num_lags': 1, 'lag_0': 12, 'num_windows': 1, 'window_0': 18}. Best is trial 0 with value: 0.9751351237297058.\n"
     ]
    },
    {
     "name": "stdout",
     "output_type": "stream",
     "text": [
      "   Epoch 5/5, Total Loss: 4.3291, Binary: 0.3066, Intensity: 0.3758, Regression: 2.7447\n",
      "Using 17 features: ['TCW', 'TCLW', 'R250', 'R500', 'R850', 'U850', 'V850', 'EWSS', 'KX', 'CAPE', 'SSHF', 'PEV', 'AWS_lag9', 'AWS_rollmean_6', 'AWS_rollstd_6', 'AWS_rollmean_8', 'AWS_rollstd_8']\n",
      " Data shapes - Train: torch.Size([6703, 39, 17]), Val: torch.Size([8570, 39, 17]), Test: torch.Size([11675, 39, 17])\n",
      "Error in fold fold_1: Target size (torch.Size([128, 2])) must be the same as input size (torch.Size([128, 1]))\n"
     ]
    },
    {
     "name": "stderr",
     "output_type": "stream",
     "text": [
      "/usr/local/lib/python3.10/dist-packages/torch/nn/modules/rnn.py:123: UserWarning: dropout option adds dropout after all but last recurrent layer, so non-zero dropout expects num_layers greater than 1, but got dropout=0.22184437632710852 and num_layers=1\n",
      "  warnings.warn(\n"
     ]
    },
    {
     "name": "stdout",
     "output_type": "stream",
     "text": [
      "Using 17 features: ['TCW', 'TCLW', 'R250', 'R500', 'R850', 'U850', 'V850', 'EWSS', 'KX', 'CAPE', 'SSHF', 'PEV', 'AWS_lag9', 'AWS_rollmean_6', 'AWS_rollstd_6', 'AWS_rollmean_8', 'AWS_rollstd_8']\n",
      " Data shapes - Train: torch.Size([17738, 39, 17]), Val: torch.Size([8580, 39, 17]), Test: torch.Size([11395, 39, 17])\n",
      "Error in fold fold_2: Target size (torch.Size([128, 2])) must be the same as input size (torch.Size([128, 1]))\n"
     ]
    },
    {
     "name": "stderr",
     "output_type": "stream",
     "text": [
      "/usr/local/lib/python3.10/dist-packages/torch/nn/modules/rnn.py:123: UserWarning: dropout option adds dropout after all but last recurrent layer, so non-zero dropout expects num_layers greater than 1, but got dropout=0.22184437632710852 and num_layers=1\n",
      "  warnings.warn(\n"
     ]
    },
    {
     "name": "stdout",
     "output_type": "stream",
     "text": [
      "Using 17 features: ['TCW', 'TCLW', 'R250', 'R500', 'R850', 'U850', 'V850', 'EWSS', 'KX', 'CAPE', 'SSHF', 'PEV', 'AWS_lag9', 'AWS_rollmean_6', 'AWS_rollstd_6', 'AWS_rollmean_8', 'AWS_rollstd_8']\n",
      " Data shapes - Train: torch.Size([28778, 39, 17]), Val: torch.Size([8241, 39, 17]), Test: torch.Size([10991, 39, 17])\n",
      "Error in fold fold_3: Target size (torch.Size([128, 2])) must be the same as input size (torch.Size([128, 1]))\n"
     ]
    },
    {
     "name": "stderr",
     "output_type": "stream",
     "text": [
      "/usr/local/lib/python3.10/dist-packages/torch/nn/modules/rnn.py:123: UserWarning: dropout option adds dropout after all but last recurrent layer, so non-zero dropout expects num_layers greater than 1, but got dropout=0.22184437632710852 and num_layers=1\n",
      "  warnings.warn(\n"
     ]
    },
    {
     "name": "stdout",
     "output_type": "stream",
     "text": [
      "Using 17 features: ['TCW', 'TCLW', 'R250', 'R500', 'R850', 'U850', 'V850', 'EWSS', 'KX', 'CAPE', 'SSHF', 'PEV', 'AWS_lag9', 'AWS_rollmean_6', 'AWS_rollstd_6', 'AWS_rollmean_8', 'AWS_rollstd_8']\n",
      " Data shapes - Train: torch.Size([39818, 39, 17]), Val: torch.Size([7787, 39, 17]), Test: torch.Size([10390, 39, 17])\n",
      "Error in fold fold_4: Target size (torch.Size([128, 2])) must be the same as input size (torch.Size([128, 1]))\n"
     ]
    },
    {
     "name": "stderr",
     "output_type": "stream",
     "text": [
      "/usr/local/lib/python3.10/dist-packages/torch/nn/modules/rnn.py:123: UserWarning: dropout option adds dropout after all but last recurrent layer, so non-zero dropout expects num_layers greater than 1, but got dropout=0.22184437632710852 and num_layers=1\n",
      "  warnings.warn(\n"
     ]
    },
    {
     "name": "stdout",
     "output_type": "stream",
     "text": [
      "Using 17 features: ['TCW', 'TCLW', 'R250', 'R500', 'R850', 'U850', 'V850', 'EWSS', 'KX', 'CAPE', 'SSHF', 'PEV', 'AWS_lag9', 'AWS_rollmean_6', 'AWS_rollstd_6', 'AWS_rollmean_8', 'AWS_rollstd_8']\n"
     ]
    },
    {
     "name": "stderr",
     "output_type": "stream",
     "text": [
      "/usr/local/lib/python3.10/dist-packages/torch/nn/modules/rnn.py:123: UserWarning: dropout option adds dropout after all but last recurrent layer, so non-zero dropout expects num_layers greater than 1, but got dropout=0.22184437632710852 and num_layers=1\n",
      "  warnings.warn(\n",
      "[I 2025-05-06 18:27:08,821] Trial 16 finished with value: inf and parameters: {'hidden_size': 217, 'num_layers': 1, 'dropout': 0.22184437632710852, 'lr': 0.00035302342567352366, 'time_step_in': 39, 'time_step_out': 2, 'stride': 3, 'binary_weight': 0.8329936280161174, 'intensity_weight': 1.727434599286704, 'regression_weight': 0.5011198192556792, 'rain_threshold': 0.1464158869855329, 'num_lags': 1, 'lag_0': 9, 'num_windows': 2, 'window_0': 6, 'window_1': 8}. Best is trial 0 with value: 0.9751351237297058.\n"
     ]
    },
    {
     "name": "stdout",
     "output_type": "stream",
     "text": [
      " Data shapes - Train: torch.Size([50858, 39, 17]), Val: torch.Size([7312, 39, 17]), Test: torch.Size([9993, 39, 17])\n",
      "Error in fold fold_5: Target size (torch.Size([128, 2])) must be the same as input size (torch.Size([128, 1]))\n",
      "Using 21 features: ['TCW', 'TCLW', 'R250', 'R500', 'R850', 'U850', 'V850', 'EWSS', 'KX', 'CAPE', 'SSHF', 'PEV', 'AWS_lag1', 'AWS_lag7', 'AWS_lag12', 'AWS_rollmean_24', 'AWS_rollstd_24', 'AWS_rollmean_8', 'AWS_rollstd_8', 'AWS_rollmean_3', 'AWS_rollstd_3']\n",
      " Data shapes - Train: torch.Size([4564, 31, 21]), Val: torch.Size([5412, 31, 21]), Test: torch.Size([7301, 31, 21])\n",
      "Error in fold fold_1: Target size (torch.Size([128, 3])) must be the same as input size (torch.Size([128, 1]))\n"
     ]
    },
    {
     "name": "stderr",
     "output_type": "stream",
     "text": [
      "/usr/local/lib/python3.10/dist-packages/torch/nn/modules/rnn.py:123: UserWarning: dropout option adds dropout after all but last recurrent layer, so non-zero dropout expects num_layers greater than 1, but got dropout=0.36169911748051625 and num_layers=1\n",
      "  warnings.warn(\n"
     ]
    },
    {
     "name": "stdout",
     "output_type": "stream",
     "text": [
      "Using 21 features: ['TCW', 'TCLW', 'R250', 'R500', 'R850', 'U850', 'V850', 'EWSS', 'KX', 'CAPE', 'SSHF', 'PEV', 'AWS_lag1', 'AWS_lag7', 'AWS_lag12', 'AWS_rollmean_24', 'AWS_rollstd_24', 'AWS_rollmean_8', 'AWS_rollstd_8', 'AWS_rollmean_3', 'AWS_rollstd_3']\n",
      " Data shapes - Train: torch.Size([11129, 31, 21]), Val: torch.Size([5432, 31, 21]), Test: torch.Size([7167, 31, 21])\n",
      "Error in fold fold_2: Target size (torch.Size([128, 3])) must be the same as input size (torch.Size([128, 1]))\n"
     ]
    },
    {
     "name": "stderr",
     "output_type": "stream",
     "text": [
      "/usr/local/lib/python3.10/dist-packages/torch/nn/modules/rnn.py:123: UserWarning: dropout option adds dropout after all but last recurrent layer, so non-zero dropout expects num_layers greater than 1, but got dropout=0.36169911748051625 and num_layers=1\n",
      "  warnings.warn(\n"
     ]
    },
    {
     "name": "stdout",
     "output_type": "stream",
     "text": [
      "Using 21 features: ['TCW', 'TCLW', 'R250', 'R500', 'R850', 'U850', 'V850', 'EWSS', 'KX', 'CAPE', 'SSHF', 'PEV', 'AWS_lag1', 'AWS_lag7', 'AWS_lag12', 'AWS_rollmean_24', 'AWS_rollstd_24', 'AWS_rollmean_8', 'AWS_rollstd_8', 'AWS_rollmean_3', 'AWS_rollstd_3']\n",
      " Data shapes - Train: torch.Size([17695, 31, 21]), Val: torch.Size([5275, 31, 21]), Test: torch.Size([6977, 31, 21])\n",
      "Error in fold fold_3: Target size (torch.Size([128, 3])) must be the same as input size (torch.Size([128, 1]))\n"
     ]
    },
    {
     "name": "stderr",
     "output_type": "stream",
     "text": [
      "/usr/local/lib/python3.10/dist-packages/torch/nn/modules/rnn.py:123: UserWarning: dropout option adds dropout after all but last recurrent layer, so non-zero dropout expects num_layers greater than 1, but got dropout=0.36169911748051625 and num_layers=1\n",
      "  warnings.warn(\n"
     ]
    },
    {
     "name": "stdout",
     "output_type": "stream",
     "text": [
      "Using 21 features: ['TCW', 'TCLW', 'R250', 'R500', 'R850', 'U850', 'V850', 'EWSS', 'KX', 'CAPE', 'SSHF', 'PEV', 'AWS_lag1', 'AWS_lag7', 'AWS_lag12', 'AWS_rollmean_24', 'AWS_rollstd_24', 'AWS_rollmean_8', 'AWS_rollstd_8', 'AWS_rollmean_3', 'AWS_rollstd_3']\n",
      " Data shapes - Train: torch.Size([24415, 31, 21]), Val: torch.Size([5084, 31, 21]), Test: torch.Size([6730, 31, 21])\n",
      "Error in fold fold_4: Target size (torch.Size([128, 3])) must be the same as input size (torch.Size([128, 1]))\n"
     ]
    },
    {
     "name": "stderr",
     "output_type": "stream",
     "text": [
      "/usr/local/lib/python3.10/dist-packages/torch/nn/modules/rnn.py:123: UserWarning: dropout option adds dropout after all but last recurrent layer, so non-zero dropout expects num_layers greater than 1, but got dropout=0.36169911748051625 and num_layers=1\n",
      "  warnings.warn(\n"
     ]
    },
    {
     "name": "stdout",
     "output_type": "stream",
     "text": [
      "Using 21 features: ['TCW', 'TCLW', 'R250', 'R500', 'R850', 'U850', 'V850', 'EWSS', 'KX', 'CAPE', 'SSHF', 'PEV', 'AWS_lag1', 'AWS_lag7', 'AWS_lag12', 'AWS_rollmean_24', 'AWS_rollstd_24', 'AWS_rollmean_8', 'AWS_rollstd_8', 'AWS_rollmean_3', 'AWS_rollstd_3']\n"
     ]
    },
    {
     "name": "stderr",
     "output_type": "stream",
     "text": [
      "/usr/local/lib/python3.10/dist-packages/torch/nn/modules/rnn.py:123: UserWarning: dropout option adds dropout after all but last recurrent layer, so non-zero dropout expects num_layers greater than 1, but got dropout=0.36169911748051625 and num_layers=1\n",
      "  warnings.warn(\n",
      "[I 2025-05-06 18:27:41,470] Trial 17 finished with value: inf and parameters: {'hidden_size': 159, 'num_layers': 1, 'dropout': 0.36169911748051625, 'lr': 0.0047890209595500095, 'time_step_in': 31, 'time_step_out': 3, 'stride': 5, 'binary_weight': 1.3412878037051505, 'intensity_weight': 0.5441135794439322, 'regression_weight': 0.7506875568523435, 'rain_threshold': 0.18201324857293175, 'num_lags': 3, 'lag_0': 1, 'lag_1': 7, 'lag_2': 12, 'num_windows': 3, 'window_0': 24, 'window_1': 8, 'window_2': 3}. Best is trial 0 with value: 0.9751351237297058.\n"
     ]
    },
    {
     "name": "stdout",
     "output_type": "stream",
     "text": [
      " Data shapes - Train: torch.Size([31160, 31, 21]), Val: torch.Size([4862, 31, 21]), Test: torch.Size([6467, 31, 21])\n",
      "Error in fold fold_5: Target size (torch.Size([128, 3])) must be the same as input size (torch.Size([128, 1]))\n",
      "Using 15 features: ['TCW', 'TCLW', 'R250', 'R500', 'R850', 'U850', 'V850', 'EWSS', 'KX', 'CAPE', 'SSHF', 'PEV', 'AWS_lag12', 'AWS_rollmean_16', 'AWS_rollstd_16']\n",
      " Data shapes - Train: torch.Size([4518, 19, 15]), Val: torch.Size([4922, 19, 15]), Test: torch.Size([6438, 19, 15])\n",
      "Error in fold fold_1: Target size (torch.Size([128, 4])) must be the same as input size (torch.Size([128, 1]))\n",
      "Using 15 features: ['TCW', 'TCLW', 'R250', 'R500', 'R850', 'U850', 'V850', 'EWSS', 'KX', 'CAPE', 'SSHF', 'PEV', 'AWS_lag12', 'AWS_rollmean_16', 'AWS_rollstd_16']\n",
      " Data shapes - Train: torch.Size([10038, 19, 15]), Val: torch.Size([4910, 19, 15]), Test: torch.Size([6341, 19, 15])\n",
      "Error in fold fold_2: Target size (torch.Size([128, 4])) must be the same as input size (torch.Size([128, 1]))\n",
      "Using 15 features: ['TCW', 'TCLW', 'R250', 'R500', 'R850', 'U850', 'V850', 'EWSS', 'KX', 'CAPE', 'SSHF', 'PEV', 'AWS_lag12', 'AWS_rollmean_16', 'AWS_rollstd_16']\n",
      " Data shapes - Train: torch.Size([15558, 19, 15]), Val: torch.Size([4769, 19, 15]), Test: torch.Size([6213, 19, 15])\n",
      "Error in fold fold_3: Target size (torch.Size([128, 4])) must be the same as input size (torch.Size([128, 1]))\n",
      "Using 15 features: ['TCW', 'TCLW', 'R250', 'R500', 'R850', 'U850', 'V850', 'EWSS', 'KX', 'CAPE', 'SSHF', 'PEV', 'AWS_lag12', 'AWS_rollmean_16', 'AWS_rollstd_16']\n",
      " Data shapes - Train: torch.Size([21078, 19, 15]), Val: torch.Size([4656, 19, 15]), Test: torch.Size([6134, 19, 15])\n",
      "Error in fold fold_4: Target size (torch.Size([128, 4])) must be the same as input size (torch.Size([128, 1]))\n",
      "Using 15 features: ['TCW', 'TCLW', 'R250', 'R500', 'R850', 'U850', 'V850', 'EWSS', 'KX', 'CAPE', 'SSHF', 'PEV', 'AWS_lag12', 'AWS_rollmean_16', 'AWS_rollstd_16']\n"
     ]
    },
    {
     "name": "stderr",
     "output_type": "stream",
     "text": [
      "[I 2025-05-06 18:27:58,281] Trial 18 finished with value: inf and parameters: {'hidden_size': 216, 'num_layers': 2, 'dropout': 0.49751344096015226, 'lr': 0.0015666934839876836, 'time_step_in': 19, 'time_step_out': 4, 'stride': 6, 'binary_weight': 0.7210414018365665, 'intensity_weight': 1.3128312006367817, 'regression_weight': 1.1699617295079312, 'rain_threshold': 0.14959982415866094, 'num_lags': 1, 'lag_0': 12, 'num_windows': 1, 'window_0': 16}. Best is trial 0 with value: 0.9751351237297058.\n"
     ]
    },
    {
     "name": "stdout",
     "output_type": "stream",
     "text": [
      " Data shapes - Train: torch.Size([26598, 19, 15]), Val: torch.Size([4501, 19, 15]), Test: torch.Size([6026, 19, 15])\n",
      "Error in fold fold_5: Target size (torch.Size([128, 4])) must be the same as input size (torch.Size([128, 1]))\n",
      "Using 18 features: ['TCW', 'TCLW', 'R250', 'R500', 'R850', 'U850', 'V850', 'EWSS', 'KX', 'CAPE', 'SSHF', 'PEV', 'AWS_lag10', 'AWS_lag12', 'AWS_rollmean_7', 'AWS_rollstd_7', 'AWS_rollmean_16', 'AWS_rollstd_16']\n",
      " Data shapes - Train: torch.Size([5943, 29, 18]), Val: torch.Size([6925, 29, 18]), Test: torch.Size([9294, 29, 18])\n"
     ]
    },
    {
     "name": "stderr",
     "output_type": "stream",
     "text": [
      "/usr/local/lib/python3.10/dist-packages/torch/nn/modules/rnn.py:123: UserWarning: dropout option adds dropout after all but last recurrent layer, so non-zero dropout expects num_layers greater than 1, but got dropout=0.13070759677342186 and num_layers=1\n",
      "  warnings.warn(\n"
     ]
    },
    {
     "name": "stdout",
     "output_type": "stream",
     "text": [
      "   Epoch 1/5, Total Loss: 14.4432, Binary: 0.6774, Intensity: 1.2251, Regression: 9.2472\n",
      "   Epoch 2/5, Total Loss: 9.9780, Binary: 0.6518, Intensity: 0.9256, Regression: 6.2157\n",
      "   Epoch 3/5, Total Loss: 7.7702, Binary: 0.6418, Intensity: 0.8492, Regression: 4.6702\n",
      "   Epoch 4/5, Total Loss: 6.9307, Binary: 0.6245, Intensity: 0.8771, Regression: 4.0558\n",
      "   Epoch 5/5, Total Loss: 6.4074, Binary: 0.6103, Intensity: 0.8387, Regression: 3.7101\n",
      "Using 18 features: ['TCW', 'TCLW', 'R250', 'R500', 'R850', 'U850', 'V850', 'EWSS', 'KX', 'CAPE', 'SSHF', 'PEV', 'AWS_lag10', 'AWS_lag12', 'AWS_rollmean_7', 'AWS_rollstd_7', 'AWS_rollmean_16', 'AWS_rollstd_16']\n",
      " Data shapes - Train: torch.Size([14222, 29, 18]), Val: torch.Size([6974, 29, 18]), Test: torch.Size([9140, 29, 18])\n"
     ]
    },
    {
     "name": "stderr",
     "output_type": "stream",
     "text": [
      "/usr/local/lib/python3.10/dist-packages/torch/nn/modules/rnn.py:123: UserWarning: dropout option adds dropout after all but last recurrent layer, so non-zero dropout expects num_layers greater than 1, but got dropout=0.13070759677342186 and num_layers=1\n",
      "  warnings.warn(\n"
     ]
    },
    {
     "name": "stdout",
     "output_type": "stream",
     "text": [
      "   Epoch 1/5, Total Loss: 11.2783, Binary: 0.6772, Intensity: 0.9744, Regression: 7.1107\n",
      "   Epoch 2/5, Total Loss: 7.0714, Binary: 0.6252, Intensity: 0.7900, Regression: 4.2119\n",
      "   Epoch 3/5, Total Loss: 5.8938, Binary: 0.5569, Intensity: 0.6026, Regression: 3.5215\n",
      "   Epoch 4/5, Total Loss: 5.3583, Binary: 0.4947, Intensity: 0.4608, Regression: 3.2638\n",
      "   Epoch 5/5, Total Loss: 5.1236, Binary: 0.4448, Intensity: 0.4305, Regression: 3.1462\n",
      "Using 18 features: ['TCW', 'TCLW', 'R250', 'R500', 'R850', 'U850', 'V850', 'EWSS', 'KX', 'CAPE', 'SSHF', 'PEV', 'AWS_lag10', 'AWS_lag12', 'AWS_rollmean_7', 'AWS_rollstd_7', 'AWS_rollmean_16', 'AWS_rollstd_16']\n",
      " Data shapes - Train: torch.Size([22502, 29, 18]), Val: torch.Size([6793, 29, 18]), Test: torch.Size([8874, 29, 18])\n"
     ]
    },
    {
     "name": "stderr",
     "output_type": "stream",
     "text": [
      "/usr/local/lib/python3.10/dist-packages/torch/nn/modules/rnn.py:123: UserWarning: dropout option adds dropout after all but last recurrent layer, so non-zero dropout expects num_layers greater than 1, but got dropout=0.13070759677342186 and num_layers=1\n",
      "  warnings.warn(\n"
     ]
    },
    {
     "name": "stdout",
     "output_type": "stream",
     "text": [
      "   Epoch 1/5, Total Loss: 9.2589, Binary: 0.6471, Intensity: 0.8114, Regression: 5.7693\n",
      "   Epoch 2/5, Total Loss: 5.9908, Binary: 0.5836, Intensity: 0.5794, Regression: 3.5885\n",
      "   Epoch 3/5, Total Loss: 5.5021, Binary: 0.5410, Intensity: 0.4536, Regression: 3.3417\n",
      "   Epoch 4/5, Total Loss: 5.1587, Binary: 0.5074, Intensity: 0.4354, Regression: 3.1266\n",
      "   Epoch 5/5, Total Loss: 4.9719, Binary: 0.4520, Intensity: 0.4275, Regression: 3.0333\n",
      "Using 18 features: ['TCW', 'TCLW', 'R250', 'R500', 'R850', 'U850', 'V850', 'EWSS', 'KX', 'CAPE', 'SSHF', 'PEV', 'AWS_lag10', 'AWS_lag12', 'AWS_rollmean_7', 'AWS_rollstd_7', 'AWS_rollmean_16', 'AWS_rollstd_16']\n",
      " Data shapes - Train: torch.Size([30782, 29, 18]), Val: torch.Size([6583, 29, 18]), Test: torch.Size([8578, 29, 18])\n"
     ]
    },
    {
     "name": "stderr",
     "output_type": "stream",
     "text": [
      "/usr/local/lib/python3.10/dist-packages/torch/nn/modules/rnn.py:123: UserWarning: dropout option adds dropout after all but last recurrent layer, so non-zero dropout expects num_layers greater than 1, but got dropout=0.13070759677342186 and num_layers=1\n",
      "  warnings.warn(\n"
     ]
    },
    {
     "name": "stdout",
     "output_type": "stream",
     "text": [
      "   Epoch 1/5, Total Loss: 9.0132, Binary: 0.6634, Intensity: 0.7943, Regression: 5.5910\n",
      "   Epoch 2/5, Total Loss: 5.4254, Binary: 0.5520, Intensity: 0.4651, Regression: 3.2715\n",
      "   Epoch 3/5, Total Loss: 4.9622, Binary: 0.4940, Intensity: 0.4175, Regression: 3.0044\n",
      "   Epoch 4/5, Total Loss: 4.6967, Binary: 0.4405, Intensity: 0.4069, Regression: 2.8544\n",
      "   Epoch 5/5, Total Loss: 4.4887, Binary: 0.3842, Intensity: 0.4002, Regression: 2.7455\n",
      "Using 18 features: ['TCW', 'TCLW', 'R250', 'R500', 'R850', 'U850', 'V850', 'EWSS', 'KX', 'CAPE', 'SSHF', 'PEV', 'AWS_lag10', 'AWS_lag12', 'AWS_rollmean_7', 'AWS_rollstd_7', 'AWS_rollmean_16', 'AWS_rollstd_16']\n",
      " Data shapes - Train: torch.Size([39062, 29, 18]), Val: torch.Size([6299, 29, 18]), Test: torch.Size([8333, 29, 18])\n"
     ]
    },
    {
     "name": "stderr",
     "output_type": "stream",
     "text": [
      "/usr/local/lib/python3.10/dist-packages/torch/nn/modules/rnn.py:123: UserWarning: dropout option adds dropout after all but last recurrent layer, so non-zero dropout expects num_layers greater than 1, but got dropout=0.13070759677342186 and num_layers=1\n",
      "  warnings.warn(\n"
     ]
    },
    {
     "name": "stdout",
     "output_type": "stream",
     "text": [
      "   Epoch 1/5, Total Loss: 8.4578, Binary: 0.6579, Intensity: 0.7035, Regression: 5.2491\n",
      "   Epoch 2/5, Total Loss: 5.4230, Binary: 0.5151, Intensity: 0.4525, Regression: 3.3024\n",
      "   Epoch 3/5, Total Loss: 4.9094, Binary: 0.4414, Intensity: 0.4189, Regression: 3.0004\n",
      "   Epoch 4/5, Total Loss: 4.6711, Binary: 0.4057, Intensity: 0.4069, Regression: 2.8591\n"
     ]
    },
    {
     "name": "stderr",
     "output_type": "stream",
     "text": [
      "[I 2025-05-06 18:28:50,111] Trial 19 finished with value: 1.041409397125244 and parameters: {'hidden_size': 40, 'num_layers': 1, 'dropout': 0.13070759677342186, 'lr': 0.0005584213541169145, 'time_step_in': 29, 'time_step_out': 1, 'stride': 4, 'binary_weight': 0.9227891583776255, 'intensity_weight': 0.8649385268460922, 'regression_weight': 1.3797099515818585, 'rain_threshold': 0.1767590897952402, 'num_lags': 2, 'lag_0': 10, 'lag_1': 12, 'num_windows': 2, 'window_0': 7, 'window_1': 16}. Best is trial 0 with value: 0.9751351237297058.\n"
     ]
    },
    {
     "name": "stdout",
     "output_type": "stream",
     "text": [
      "   Epoch 5/5, Total Loss: 4.5136, Binary: 0.3834, Intensity: 0.4053, Regression: 2.7609\n",
      " Best parameters for 2020-10:\n",
      "  hidden_size: 194\n",
      "  num_layers: 1\n",
      "  dropout: 0.2718704579992738\n",
      "  lr: 0.00044891313482111033\n",
      "  time_step_in: 31\n",
      "  time_step_out: 1\n",
      "  stride: 5\n",
      "  binary_weight: 0.9829917900820302\n",
      "  intensity_weight: 1.1452625794652946\n",
      "  regression_weight: 0.9180316632117681\n",
      "  rain_threshold: 0.19499582555291312\n",
      "  num_lags: 1\n",
      "  lag_0: 10\n",
      "  num_windows: 1\n",
      "  window_0: 3\n",
      " Best parameters saved to hybrid_best_params_2020-10.json\n",
      "\n",
      " Final evaluation on 2020-10, fold_1 test set\n",
      "\n",
      " Training hybrid model for 2020-10, fold_1 with best parameters\n",
      "Using 15 features: ['TCW', 'TCLW', 'R250', 'R500', 'R850', 'U850', 'V850', 'EWSS', 'KX', 'CAPE', 'SSHF', 'PEV', 'AWS_lag10', 'AWS_rollmean_3', 'AWS_rollstd_3']\n",
      " Data shapes - Train: torch.Size([4564, 31, 15]), Val: torch.Size([5507, 31, 15]), Test: torch.Size([7374, 31, 15])\n",
      "====== Training hybrid model on train set...\n"
     ]
    },
    {
     "name": "stderr",
     "output_type": "stream",
     "text": [
      "/usr/local/lib/python3.10/dist-packages/torch/nn/modules/rnn.py:123: UserWarning: dropout option adds dropout after all but last recurrent layer, so non-zero dropout expects num_layers greater than 1, but got dropout=0.2718704579992738 and num_layers=1\n",
      "  warnings.warn(\n"
     ]
    },
    {
     "name": "stdout",
     "output_type": "stream",
     "text": [
      "   Epoch 1/15, Total Loss: 8.3712, Binary: 0.6820, Intensity: 0.9303, Regression: 7.2277\n",
      "   Epoch 2/15, Total Loss: 5.0978, Binary: 0.6333, Intensity: 0.8111, Regression: 3.8629\n",
      "   Epoch 3/15, Total Loss: 4.3663, Binary: 0.5569, Intensity: 0.5477, Regression: 3.4766\n",
      "   Epoch 4/15, Total Loss: 3.9628, Binary: 0.5169, Intensity: 0.4536, Regression: 3.1972\n",
      "   Epoch 5/15, Total Loss: 3.8014, Binary: 0.4698, Intensity: 0.4335, Regression: 3.0970\n",
      "   Epoch 6/15, Total Loss: 3.6819, Binary: 0.4348, Intensity: 0.4245, Regression: 3.0155\n",
      "   Epoch 7/15, Total Loss: 3.5387, Binary: 0.4094, Intensity: 0.4156, Regression: 2.8979\n",
      "   Epoch 8/15, Total Loss: 3.4981, Binary: 0.4012, Intensity: 0.4125, Regression: 2.8663\n",
      "   Epoch 9/15, Total Loss: 3.3831, Binary: 0.3701, Intensity: 0.4045, Regression: 2.7843\n",
      "   Epoch 10/15, Total Loss: 3.2152, Binary: 0.3625, Intensity: 0.3923, Regression: 2.6247\n",
      "   Epoch 11/15, Total Loss: 3.1779, Binary: 0.3547, Intensity: 0.3892, Regression: 2.5963\n",
      "   Epoch 12/15, Total Loss: 3.1978, Binary: 0.3492, Intensity: 0.3879, Regression: 2.6255\n",
      "   Epoch 13/15, Total Loss: 3.0833, Binary: 0.3508, Intensity: 0.3830, Regression: 2.5052\n",
      "   Epoch 14/15, Total Loss: 3.0166, Binary: 0.3375, Intensity: 0.3731, Regression: 2.4592\n",
      "   Epoch 15/15, Total Loss: 2.9865, Binary: 0.3328, Intensity: 0.3707, Regression: 2.4343\n",
      "====== Evaluating on validation set...\n",
      "  Val RMSE: 0.8127, Bias: -0.0824, R²: 0.6814, CSI: 0.6308\n",
      "  Binary Accuracy: 0.8660, Intensity Accuracy: 0.8978\n",
      "====== Evaluating on test set...\n",
      "  Test RMSE: 0.9874, Bias: -0.1557, R²: 0.7793, CSI: 0.6900\n",
      "  Binary Accuracy: 0.8379, Intensity Accuracy: 0.8674\n",
      " Model saved to hybrid_model_2020-10_fold_1.pt\n",
      "\n",
      " Final evaluation on 2020-10, fold_2 test set\n",
      "\n",
      " Training hybrid model for 2020-10, fold_2 with best parameters\n",
      "Using 15 features: ['TCW', 'TCLW', 'R250', 'R500', 'R850', 'U850', 'V850', 'EWSS', 'KX', 'CAPE', 'SSHF', 'PEV', 'AWS_lag10', 'AWS_rollmean_3', 'AWS_rollstd_3']\n",
      " Data shapes - Train: torch.Size([11371, 31, 15]), Val: torch.Size([5513, 31, 15]), Test: torch.Size([7230, 31, 15])\n",
      "====== Training hybrid model on train set...\n"
     ]
    },
    {
     "name": "stderr",
     "output_type": "stream",
     "text": [
      "/usr/local/lib/python3.10/dist-packages/torch/nn/modules/rnn.py:123: UserWarning: dropout option adds dropout after all but last recurrent layer, so non-zero dropout expects num_layers greater than 1, but got dropout=0.2718704579992738 and num_layers=1\n",
      "  warnings.warn(\n"
     ]
    },
    {
     "name": "stdout",
     "output_type": "stream",
     "text": [
      "   Epoch 1/15, Total Loss: 6.8089, Binary: 0.6468, Intensity: 0.8396, Regression: 5.6768\n",
      "   Epoch 2/15, Total Loss: 4.1406, Binary: 0.5243, Intensity: 0.4642, Regression: 3.3698\n",
      "   Epoch 3/15, Total Loss: 3.9099, Binary: 0.4884, Intensity: 0.4281, Regression: 3.2020\n",
      "   Epoch 4/15, Total Loss: 3.7131, Binary: 0.4525, Intensity: 0.4146, Regression: 3.0429\n",
      "   Epoch 5/15, Total Loss: 3.5534, Binary: 0.4103, Intensity: 0.4067, Regression: 2.9240\n",
      "   Epoch 6/15, Total Loss: 3.4466, Binary: 0.3659, Intensity: 0.4046, Regression: 2.8578\n",
      "   Epoch 7/15, Total Loss: 3.4001, Binary: 0.3494, Intensity: 0.3998, Regression: 2.8308\n",
      "   Epoch 8/15, Total Loss: 3.3312, Binary: 0.3300, Intensity: 0.3917, Regression: 2.7867\n",
      "   Epoch 9/15, Total Loss: 3.2063, Binary: 0.3285, Intensity: 0.3820, Regression: 2.6643\n",
      "   Epoch 10/15, Total Loss: 3.1857, Binary: 0.3184, Intensity: 0.3776, Regression: 2.6582\n",
      "   Epoch 11/15, Total Loss: 3.1133, Binary: 0.3141, Intensity: 0.3683, Regression: 2.5955\n",
      "   Epoch 12/15, Total Loss: 3.1305, Binary: 0.3151, Intensity: 0.3722, Regression: 2.6083\n",
      "   Epoch 13/15, Total Loss: 3.0391, Binary: 0.3062, Intensity: 0.3637, Regression: 2.5289\n",
      "   Epoch 14/15, Total Loss: 2.9591, Binary: 0.2970, Intensity: 0.3583, Regression: 2.4582\n",
      "   Epoch 15/15, Total Loss: 2.9404, Binary: 0.2993, Intensity: 0.3515, Regression: 2.4440\n",
      "====== Evaluating on validation set...\n",
      "  Val RMSE: 1.0488, Bias: -0.1330, R²: 0.6781, CSI: 0.6649\n",
      "  Binary Accuracy: 0.8395, Intensity Accuracy: 0.8618\n",
      "====== Evaluating on test set...\n",
      "  Test RMSE: 0.9508, Bias: -0.1643, R²: 0.7520, CSI: 0.6632\n",
      "  Binary Accuracy: 0.8320, Intensity Accuracy: 0.8845\n",
      " Model saved to hybrid_model_2020-10_fold_2.pt\n",
      "\n",
      " Final evaluation on 2020-10, fold_3 test set\n",
      "\n",
      " Training hybrid model for 2020-10, fold_3 with best parameters\n",
      "Using 15 features: ['TCW', 'TCLW', 'R250', 'R500', 'R850', 'U850', 'V850', 'EWSS', 'KX', 'CAPE', 'SSHF', 'PEV', 'AWS_lag10', 'AWS_rollmean_3', 'AWS_rollstd_3']\n",
      " Data shapes - Train: torch.Size([18028, 31, 15]), Val: torch.Size([5388, 31, 15]), Test: torch.Size([7008, 31, 15])\n",
      "====== Training hybrid model on train set...\n"
     ]
    },
    {
     "name": "stderr",
     "output_type": "stream",
     "text": [
      "/usr/local/lib/python3.10/dist-packages/torch/nn/modules/rnn.py:123: UserWarning: dropout option adds dropout after all but last recurrent layer, so non-zero dropout expects num_layers greater than 1, but got dropout=0.2718704579992738 and num_layers=1\n",
      "  warnings.warn(\n"
     ]
    },
    {
     "name": "stdout",
     "output_type": "stream",
     "text": [
      "   Epoch 1/15, Total Loss: 5.4796, Binary: 0.6086, Intensity: 0.6738, Regression: 4.4766\n",
      "   Epoch 2/15, Total Loss: 3.7620, Binary: 0.4882, Intensity: 0.4331, Regression: 3.0349\n",
      "   Epoch 3/15, Total Loss: 3.4954, Binary: 0.4007, Intensity: 0.4187, Regression: 2.8561\n",
      "   Epoch 4/15, Total Loss: 3.3214, Binary: 0.3468, Intensity: 0.4009, Regression: 2.7465\n",
      "   Epoch 5/15, Total Loss: 3.2300, Binary: 0.3126, Intensity: 0.3913, Regression: 2.6955\n",
      "   Epoch 6/15, Total Loss: 3.1317, Binary: 0.2956, Intensity: 0.3808, Regression: 2.6198\n",
      "   Epoch 7/15, Total Loss: 3.0988, Binary: 0.2908, Intensity: 0.3717, Regression: 2.6005\n",
      "   Epoch 8/15, Total Loss: 3.0898, Binary: 0.2894, Intensity: 0.3777, Regression: 2.5847\n",
      "   Epoch 9/15, Total Loss: 3.0045, Binary: 0.2822, Intensity: 0.3663, Regression: 2.5136\n",
      "   Epoch 10/15, Total Loss: 2.9771, Binary: 0.2787, Intensity: 0.3637, Regression: 2.4907\n",
      "   Epoch 11/15, Total Loss: 2.9407, Binary: 0.2769, Intensity: 0.3599, Regression: 2.4579\n",
      "   Epoch 12/15, Total Loss: 2.9139, Binary: 0.2723, Intensity: 0.3601, Regression: 2.4334\n",
      "   Epoch 13/15, Total Loss: 2.8454, Binary: 0.2716, Intensity: 0.3517, Regression: 2.3699\n",
      "   Epoch 14/15, Total Loss: 2.8505, Binary: 0.2703, Intensity: 0.3517, Regression: 2.3768\n",
      "   Epoch 15/15, Total Loss: 2.7937, Binary: 0.2706, Intensity: 0.3457, Regression: 2.3221\n",
      "====== Evaluating on validation set...\n",
      "  Val RMSE: 1.2034, Bias: -0.1584, R²: 0.6808, CSI: 0.7472\n",
      "  Binary Accuracy: 0.8558, Intensity Accuracy: 0.8432\n",
      "====== Evaluating on test set...\n",
      "  Test RMSE: 0.5855, Bias: -0.0765, R²: 0.8259, CSI: 0.6903\n",
      "  Binary Accuracy: 0.8590, Intensity Accuracy: 0.9258\n",
      " Model saved to hybrid_model_2020-10_fold_3.pt\n",
      "\n",
      " Final evaluation on 2020-10, fold_4 test set\n",
      "\n",
      " Training hybrid model for 2020-10, fold_4 with best parameters\n",
      "Using 15 features: ['TCW', 'TCLW', 'R250', 'R500', 'R850', 'U850', 'V850', 'EWSS', 'KX', 'CAPE', 'SSHF', 'PEV', 'AWS_lag10', 'AWS_rollmean_3', 'AWS_rollstd_3']\n",
      " Data shapes - Train: torch.Size([24595, 31, 15]), Val: torch.Size([5120, 31, 15]), Test: torch.Size([6797, 31, 15])\n",
      "====== Training hybrid model on train set...\n"
     ]
    },
    {
     "name": "stderr",
     "output_type": "stream",
     "text": [
      "/usr/local/lib/python3.10/dist-packages/torch/nn/modules/rnn.py:123: UserWarning: dropout option adds dropout after all but last recurrent layer, so non-zero dropout expects num_layers greater than 1, but got dropout=0.2718704579992738 and num_layers=1\n",
      "  warnings.warn(\n"
     ]
    },
    {
     "name": "stdout",
     "output_type": "stream",
     "text": [
      "   Epoch 1/15, Total Loss: 4.9236, Binary: 0.5552, Intensity: 0.6569, Regression: 3.9492\n",
      "   Epoch 2/15, Total Loss: 3.3668, Binary: 0.3868, Intensity: 0.4040, Regression: 2.7492\n",
      "   Epoch 3/15, Total Loss: 3.1533, Binary: 0.3421, Intensity: 0.3842, Regression: 2.5892\n",
      "   Epoch 4/15, Total Loss: 3.0457, Binary: 0.3057, Intensity: 0.3736, Regression: 2.5242\n",
      "   Epoch 5/15, Total Loss: 2.9655, Binary: 0.2870, Intensity: 0.3659, Regression: 2.4665\n",
      "   Epoch 6/15, Total Loss: 2.9160, Binary: 0.2760, Intensity: 0.3596, Regression: 2.4322\n",
      "   Epoch 7/15, Total Loss: 2.8914, Binary: 0.2713, Intensity: 0.3581, Regression: 2.4123\n",
      "   Epoch 8/15, Total Loss: 2.8322, Binary: 0.2710, Intensity: 0.3504, Regression: 2.3578\n",
      "   Epoch 9/15, Total Loss: 2.8271, Binary: 0.2713, Intensity: 0.3496, Regression: 2.3529\n",
      "   Epoch 10/15, Total Loss: 2.7268, Binary: 0.2621, Intensity: 0.3408, Regression: 2.2646\n",
      "   Epoch 11/15, Total Loss: 2.7262, Binary: 0.2614, Intensity: 0.3399, Regression: 2.2657\n",
      "   Epoch 12/15, Total Loss: 2.6755, Binary: 0.2585, Intensity: 0.3338, Regression: 2.2212\n",
      "   Epoch 13/15, Total Loss: 2.6641, Binary: 0.2561, Intensity: 0.3318, Regression: 2.2139\n",
      "   Epoch 14/15, Total Loss: 2.7019, Binary: 0.2560, Intensity: 0.3385, Regression: 2.2467\n",
      "   Epoch 15/15, Total Loss: 2.6089, Binary: 0.2519, Intensity: 0.3296, Regression: 2.1609\n",
      "====== Evaluating on validation set...\n",
      "  Val RMSE: 1.0384, Bias: -0.0148, R²: 0.7194, CSI: 0.7417\n",
      "  Binary Accuracy: 0.8627, Intensity Accuracy: 0.8827\n",
      "====== Evaluating on test set...\n",
      "  Test RMSE: 0.3926, Bias: -0.0282, R²: 0.8430, CSI: 0.7015\n",
      "  Binary Accuracy: 0.8886, Intensity Accuracy: 0.9575\n",
      " Model saved to hybrid_model_2020-10_fold_4.pt\n",
      "\n",
      " Final evaluation on 2020-10, fold_5 test set\n",
      "\n",
      " Training hybrid model for 2020-10, fold_5 with best parameters\n",
      "Using 15 features: ['TCW', 'TCLW', 'R250', 'R500', 'R850', 'U850', 'V850', 'EWSS', 'KX', 'CAPE', 'SSHF', 'PEV', 'AWS_lag10', 'AWS_rollmean_3', 'AWS_rollstd_3']\n",
      " Data shapes - Train: torch.Size([31161, 31, 15]), Val: torch.Size([4899, 31, 15]), Test: torch.Size([6632, 31, 15])\n",
      "====== Training hybrid model on train set...\n"
     ]
    },
    {
     "name": "stderr",
     "output_type": "stream",
     "text": [
      "/usr/local/lib/python3.10/dist-packages/torch/nn/modules/rnn.py:123: UserWarning: dropout option adds dropout after all but last recurrent layer, so non-zero dropout expects num_layers greater than 1, but got dropout=0.2718704579992738 and num_layers=1\n",
      "  warnings.warn(\n"
     ]
    },
    {
     "name": "stdout",
     "output_type": "stream",
     "text": [
      "   Epoch 1/15, Total Loss: 4.5742, Binary: 0.5318, Intensity: 0.5526, Regression: 3.7237\n",
      "   Epoch 2/15, Total Loss: 3.5106, Binary: 0.4174, Intensity: 0.4083, Regression: 2.8677\n",
      "   Epoch 3/15, Total Loss: 3.2985, Binary: 0.3911, Intensity: 0.3909, Regression: 2.6867\n",
      "   Epoch 4/15, Total Loss: 3.1600, Binary: 0.3581, Intensity: 0.3795, Regression: 2.5853\n",
      "   Epoch 5/15, Total Loss: 3.0780, Binary: 0.3248, Intensity: 0.3737, Regression: 2.5388\n",
      "   Epoch 6/15, Total Loss: 3.0045, Binary: 0.3021, Intensity: 0.3633, Regression: 2.4961\n",
      "   Epoch 7/15, Total Loss: 2.9437, Binary: 0.2825, Intensity: 0.3570, Regression: 2.4585\n",
      "   Epoch 8/15, Total Loss: 2.8819, Binary: 0.2743, Intensity: 0.3502, Regression: 2.4086\n",
      "   Epoch 9/15, Total Loss: 2.8524, Binary: 0.2631, Intensity: 0.3468, Regression: 2.3927\n",
      "   Epoch 10/15, Total Loss: 2.8149, Binary: 0.2623, Intensity: 0.3479, Regression: 2.3514\n",
      "   Epoch 11/15, Total Loss: 2.7691, Binary: 0.2590, Intensity: 0.3405, Regression: 2.3141\n",
      "   Epoch 12/15, Total Loss: 2.7262, Binary: 0.2579, Intensity: 0.3375, Regression: 2.2724\n",
      "   Epoch 13/15, Total Loss: 2.7282, Binary: 0.2548, Intensity: 0.3372, Regression: 2.2783\n",
      "   Epoch 14/15, Total Loss: 2.6739, Binary: 0.2515, Intensity: 0.3349, Regression: 2.2256\n",
      "   Epoch 15/15, Total Loss: 2.6126, Binary: 0.2540, Intensity: 0.3273, Regression: 2.1656\n",
      "====== Evaluating on validation set...\n",
      "  Val RMSE: 0.8489, Bias: 0.0301, R²: 0.7360, CSI: 0.7087\n",
      "  Binary Accuracy: 0.8551, Intensity Accuracy: 0.9144\n",
      "====== Evaluating on test set...\n",
      "  Test RMSE: 0.3297, Bias: 0.0096, R²: 0.8118, CSI: 0.7433\n",
      "  Binary Accuracy: 0.9113, Intensity Accuracy: 0.9509\n",
      " Model saved to hybrid_model_2020-10_fold_5.pt\n",
      "\n",
      " Mean test performance for 2020-10:\n",
      "  RMSE: 0.6492, Bias: -0.0830, R²: 0.8024, CSI: 0.6977\n",
      " Error during optimization for 2020-10: Invalid format specifier\n",
      "\n",
      " Overall mean performance of hybrid model across all months:\n",
      "  RMSE: 0.3589, Bias: -0.0061, R²: 0.7728, CSI: 0.7594\n",
      "  Binary Accuracy: 0.9105, Intensity Accuracy: 0.9671\n",
      "\n",
      " Results by Month:\n",
      "     month best_fold  best_test_rmse  best_test_bias  best_test_r2  \\\n",
      "0  2019-10    fold_1          0.3880         -0.0218        0.7337   \n",
      "1  2020-10    fold_5          0.3297          0.0096        0.8118   \n",
      "\n",
      "   best_test_csi  best_test_binary_acc  best_test_intensity_acc  \\\n",
      "0         0.7756                0.9097                   0.9834   \n",
      "1         0.7433                0.9113                   0.9509   \n",
      "\n",
      "   mean_test_rmse  mean_test_bias  mean_test_r2  mean_test_csi  \\\n",
      "0          0.5329         -0.0214        0.7093         0.7727   \n",
      "1          0.6492         -0.0830        0.8024         0.6977   \n",
      "\n",
      "   mean_test_binary_acc  mean_test_intensity_acc  \n",
      "0                0.9087                   0.9684  \n",
      "1                0.8658                   0.9172  \n",
      " Results saved to hybrid_month_results.csv and hybrid_all_fold_results.csv\n"
     ]
    }
   ],
   "source": [
    "# Execute optimization\n",
    "if __name__ == \"__main__\":\n",
    "    print(f\"Running on device: {DEVICE}\")\n",
    "    run_hybrid_optuna_optimization()"
   ]
  }
 ],
 "metadata": {
  "kaggle": {
   "accelerator": "gpu",
   "dataSources": [
    {
     "datasetId": 7085647,
     "sourceId": 11327529,
     "sourceType": "datasetVersion"
    },
    {
     "datasetId": 7091976,
     "sourceId": 11340032,
     "sourceType": "datasetVersion"
    },
    {
     "datasetId": 7117290,
     "sourceId": 11369580,
     "sourceType": "datasetVersion"
    },
    {
     "datasetId": 6984394,
     "isSourceIdPinned": true,
     "sourceId": 11378857,
     "sourceType": "datasetVersion"
    },
    {
     "datasetId": 7173004,
     "sourceId": 11448922,
     "sourceType": "datasetVersion"
    }
   ],
   "dockerImageVersionId": 30919,
   "isGpuEnabled": true,
   "isInternetEnabled": true,
   "language": "python",
   "sourceType": "notebook"
  },
  "kernelspec": {
   "display_name": "Python 3",
   "language": "python",
   "name": "python3"
  },
  "language_info": {
   "codemirror_mode": {
    "name": "ipython",
    "version": 3
   },
   "file_extension": ".py",
   "mimetype": "text/x-python",
   "name": "python",
   "nbconvert_exporter": "python",
   "pygments_lexer": "ipython3",
   "version": "3.10.12"
  },
  "papermill": {
   "default_parameters": {},
   "duration": 4866.963614,
   "end_time": "2025-05-06T18:30:18.922402",
   "environment_variables": {},
   "exception": null,
   "input_path": "__notebook__.ipynb",
   "output_path": "__notebook__.ipynb",
   "parameters": {},
   "start_time": "2025-05-06T17:09:11.958788",
   "version": "2.6.0"
  }
 },
 "nbformat": 4,
 "nbformat_minor": 5
}
