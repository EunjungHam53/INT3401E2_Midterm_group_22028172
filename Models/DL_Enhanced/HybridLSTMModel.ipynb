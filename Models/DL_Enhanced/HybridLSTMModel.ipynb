{
 "cells": [
  {
   "cell_type": "code",
   "execution_count": 1,
   "id": "6a8061be",
   "metadata": {
    "_cell_guid": "0d428d71-24a7-41ca-b8ef-91a62c6351bb",
    "_uuid": "777f311e-aaab-4cbf-8427-94523806e0a8",
    "collapsed": false,
    "execution": {
     "iopub.execute_input": "2025-04-23T16:29:01.694581Z",
     "iopub.status.busy": "2025-04-23T16:29:01.694370Z",
     "iopub.status.idle": "2025-04-23T16:29:07.068281Z",
     "shell.execute_reply": "2025-04-23T16:29:07.067357Z"
    },
    "jupyter": {
     "outputs_hidden": false
    },
    "papermill": {
     "duration": 5.379817,
     "end_time": "2025-04-23T16:29:07.069818",
     "exception": false,
     "start_time": "2025-04-23T16:29:01.690001",
     "status": "completed"
    },
    "tags": []
   },
   "outputs": [],
   "source": [
    "import os\n",
    "import pandas as pd\n",
    "import torch\n",
    "import torch.nn as nn\n",
    "from torch.utils.data import DataLoader, TensorDataset\n",
    "import numpy as np\n",
    "from sklearn.metrics import mean_squared_error, r2_score\n",
    "import json\n",
    "import optuna\n",
    "from functools import partial\n",
    "from joblib import Memory\n",
    "\n",
    "# Setup memory cache\n",
    "cache_dir = './joblib_cache'\n",
    "memory = Memory(cache_dir, verbose=0)\n",
    "\n",
    "class Config:\n",
    "    TARGET = 'AWS'\n",
    "    USE_LAG_FEATURES = True\n",
    "    USE_ROLLING_STATISTICS = True\n",
    "\n",
    "# Paths\n",
    "base_path = \"/kaggle/input/ai-dataimputedataset-k-fold\"\n",
    "months = [\"2019-04\", \"2019-10\", \"2020-04\", \"2020-10\"]\n",
    "folds = [f\"fold_{i}\" for i in range(1, 6)]\n",
    "\n",
    "# Define selected features\n",
    "selected_features = [\n",
    "    'TCW', 'TCLW', 'R250', 'R500', 'R850', 'U850', 'V850', 'EWSS', 'KX', 'CAPE', 'SSHF', 'PEV'\n",
    "]\n",
    "\n",
    "# Device configuration\n",
    "DEVICE = torch.device(\"cuda\" if torch.cuda.is_available() else \"cpu\")\n",
    "\n",
    "# Model parameters - now configurable via Optuna\n",
    "MODEL_CONFIG = {\n",
    "    \"04\": {\"BATCH_SIZE\": 64, \"EPOCHS\": 10},\n",
    "    \"10\": {\"BATCH_SIZE\": 128, \"EPOCHS\": 15},\n",
    "}\n",
    "\n",
    "# Create lag features\n",
    "@memory.cache\n",
    "def create_lag_features(train_df, test_df, target_column, lag_steps, groupby_cols):\n",
    "    \"\"\"Create lag features for the target column\"\"\"\n",
    "    print(\"Creating lag features...\")\n",
    "    result_df = test_df.copy()\n",
    "    \n",
    "    # Combine train and test for continuous time series\n",
    "    combined_df = pd.concat([train_df, test_df]).sort_values('DATETIME').reset_index(drop=True)\n",
    "    \n",
    "    # Create lag features\n",
    "    for lag in lag_steps:\n",
    "        combined_df[f'{target_column}_lag{lag}'] = combined_df.groupby(groupby_cols)[target_column].shift(lag)\n",
    "    \n",
    "    # Extract only the test portion with lag features\n",
    "    result_df = combined_df.iloc[len(train_df):].reset_index(drop=True)\n",
    "    \n",
    "    print(f\"Created lag features: {[f'{target_column}_lag{lag}' for lag in lag_steps]}\")\n",
    "    return result_df\n",
    "\n",
    "# Create rolling statistics\n",
    "@memory.cache\n",
    "def create_rolling_statistics(train_df, test_df, target_column, window_sizes, groupby_cols):\n",
    "    \"\"\"Create rolling statistics features for the target column\"\"\"\n",
    "    print(\"Creating rolling statistics...\")\n",
    "    result_df = test_df.copy()\n",
    "    \n",
    "    # Combine train and test for continuous rolling stats\n",
    "    combined_df = pd.concat([train_df, test_df]).sort_values('DATETIME').reset_index(drop=True)\n",
    "    \n",
    "    # Create rolling features\n",
    "    for window in window_sizes:\n",
    "        # Rolling mean\n",
    "        combined_df[f'{target_column}_rollmean_{window}'] = combined_df.groupby(groupby_cols)[target_column].transform(\n",
    "            lambda x: x.rolling(window, min_periods=1).mean())\n",
    "        # Rolling std\n",
    "        combined_df[f'{target_column}_rollstd_{window}'] = combined_df.groupby(groupby_cols)[target_column].transform(\n",
    "            lambda x: x.rolling(window, min_periods=1).std())\n",
    "    \n",
    "    # Extract only the test portion with rolling features\n",
    "    result_df = combined_df.iloc[len(train_df):].reset_index(drop=True)\n",
    "    \n",
    "    print(f\"Created rolling features for windows: {window_sizes}\")\n",
    "    return result_df\n",
    "\n",
    "# Handle missing values\n",
    "@memory.cache\n",
    "def handle_missing_values(df, lag_steps, window_sizes):\n",
    "    \"\"\"Handle missing values in the dataframe\"\"\"\n",
    "    print(\"Handling missing values...\")\n",
    "    result_df = df.copy()\n",
    "    \n",
    "    # Fill NaN values in lag features with 0\n",
    "    for lag in lag_steps:\n",
    "        lag_col = f'{Config.TARGET}_lag{lag}'\n",
    "        if lag_col in result_df.columns:\n",
    "            result_df[lag_col] = result_df[lag_col].fillna(0)\n",
    "    \n",
    "    # Fill NaN values in rolling features with 0\n",
    "    for window in window_sizes:\n",
    "        mean_col = f'{Config.TARGET}_rollmean_{window}'\n",
    "        std_col = f'{Config.TARGET}_rollstd_{window}'\n",
    "        \n",
    "        if mean_col in result_df.columns:\n",
    "            result_df[mean_col] = result_df[mean_col].fillna(0)\n",
    "        \n",
    "        if std_col in result_df.columns:\n",
    "            result_df[std_col] = result_df[std_col].fillna(0)\n",
    "    \n",
    "    # Fill remaining NaNs with 0\n",
    "    result_df = result_df.fillna(0)\n",
    "    \n",
    "    return result_df\n",
    "\n",
    "\n",
    "\n",
    "# Modified load_and_process_data function to filter features\n",
    "@memory.cache\n",
    "def load_and_process_data(file_path, train_file_path=None, lag_steps=None, window_sizes=None):\n",
    "    \"\"\"\n",
    "    Load and process data from file_path with optional lag features and rolling statistics\n",
    "    If train_file_path is provided, use it for creating lag and rolling features\n",
    "    \"\"\"\n",
    "    print(f\"\\U0001F4E5 Loading {file_path}\")\n",
    "    \n",
    "    try:\n",
    "        raw_df = pd.read_csv(file_path)\n",
    "        \n",
    "        # Filter to keep only selected features plus essential columns\n",
    "        essential_cols = ['DATETIME', 'ROW', 'COL', Config.TARGET]\n",
    "        feature_cols = [col for col in selected_features if col in raw_df.columns]\n",
    "        filtered_cols = essential_cols + feature_cols\n",
    "        \n",
    "        # Keep only needed columns\n",
    "        raw_df = raw_df[filtered_cols]\n",
    "        \n",
    "        # Convert target to numeric and handle NaN/inf values\n",
    "        raw_df[Config.TARGET] = pd.to_numeric(raw_df[Config.TARGET], errors='coerce')\n",
    "        raw_df = raw_df.replace([np.inf, -np.inf], np.nan)\n",
    "        df = raw_df.dropna(subset=[Config.TARGET]).copy()\n",
    "        \n",
    "        # Sort by datetime for proper sequence handling\n",
    "        if 'DATETIME' in df.columns:\n",
    "            df = df.sort_values(\"DATETIME\").reset_index(drop=True)\n",
    "        \n",
    "        # If we're in train mode or not creating lag/rolling features\n",
    "        if train_file_path is None or (lag_steps is None and window_sizes is None):\n",
    "            return df\n",
    "        \n",
    "        # Otherwise, we're in eval mode and need to carefully create features\n",
    "        train_df = pd.read_csv(train_file_path)\n",
    "        \n",
    "        # Filter training data to keep only selected features\n",
    "        train_df = train_df[filtered_cols]\n",
    "        \n",
    "        train_df[Config.TARGET] = pd.to_numeric(train_df[Config.TARGET], errors='coerce')\n",
    "        train_df = train_df.replace([np.inf, -np.inf], np.nan)\n",
    "        train_df = train_df.dropna(subset=[Config.TARGET]).copy()\n",
    "        \n",
    "        if 'DATETIME' in train_df.columns:\n",
    "            train_df = train_df.sort_values(\"DATETIME\").reset_index(drop=True)\n",
    "        \n",
    "        # Create lag features if needed\n",
    "        if Config.USE_LAG_FEATURES and lag_steps:\n",
    "            df = create_lag_features(train_df, df, Config.TARGET, lag_steps, ['ROW', 'COL'])\n",
    "        \n",
    "        # Create rolling statistics if needed\n",
    "        if Config.USE_ROLLING_STATISTICS and window_sizes:\n",
    "            df = create_rolling_statistics(train_df, df, Config.TARGET, window_sizes, ['ROW', 'COL'])\n",
    "        \n",
    "        # Handle missing values\n",
    "        if lag_steps or window_sizes:\n",
    "            df = handle_missing_values(df, lag_steps or [], window_sizes or [])\n",
    "        \n",
    "        print(f\"✅ After processing: {df.shape[0]} rows, {df.shape[1]} columns\")\n",
    "        return df\n",
    "        \n",
    "    except Exception as e:\n",
    "        print(f\"❌ Error loading or processing data: {str(e)}\")\n",
    "        return pd.DataFrame()\n",
    "\n",
    "# # Enhanced LSTM Model\n",
    "# class LSTMModel(nn.Module):\n",
    "#     def __init__(self, input_size, hidden_size=64, num_layers=2, dropout=0.0, time_step_out=1):\n",
    "#         super(LSTMModel, self).__init__()\n",
    "#         self.lstm = nn.LSTM(input_size, hidden_size, num_layers, batch_first=True, dropout=dropout)\n",
    "#         self.fc = nn.Linear(hidden_size, time_step_out)\n",
    "#         self.time_step_out = time_step_out\n",
    "\n",
    "#     def forward(self, x):\n",
    "#         out, _ = self.lstm(x)\n",
    "#         return self.fc(out[:, -1, :])\n",
    "\n",
    "# Create sequences with configurable input and output time steps\n",
    "def create_sequences(df, input_cols, target_col, time_step_in, time_step_out=1, stride=1):\n",
    "    \"\"\"\n",
    "    Create sequences from dataframe with configurable input and output time steps\n",
    "    - time_step_in: number of time steps for input\n",
    "    - time_step_out: number of future steps to predict\n",
    "    - stride: step size for sliding window\n",
    "    \"\"\"\n",
    "    sequences, targets = [], []\n",
    "    grouped = df.groupby(['ROW', 'COL'])\n",
    "    \n",
    "    for _, group in grouped:\n",
    "        # Make sure group is sorted by time\n",
    "        if 'DATETIME' in group.columns:\n",
    "            group = group.sort_values(\"DATETIME\")\n",
    "            \n",
    "        data = group[input_cols].values\n",
    "        target_data = group[target_col].values\n",
    "        \n",
    "        if len(data) < time_step_in + time_step_out:\n",
    "            continue\n",
    "        \n",
    "        for i in range(0, len(data) - time_step_in - time_step_out + 1, stride):\n",
    "            seq = data[i:i+time_step_in]\n",
    "            if time_step_out == 1:\n",
    "                target = target_data[i+time_step_in]\n",
    "                targets.append(target)\n",
    "            else:\n",
    "                target = target_data[i+time_step_in:i+time_step_in+time_step_out]\n",
    "                targets.append(target)\n",
    "            sequences.append(seq)\n",
    "            \n",
    "    if not sequences:\n",
    "        return torch.tensor([]), torch.tensor([])\n",
    "    \n",
    "    if time_step_out == 1:\n",
    "        return torch.tensor(sequences, dtype=torch.float32), torch.tensor(targets, dtype=torch.float32).unsqueeze(1)\n",
    "    else:\n",
    "        return torch.tensor(sequences, dtype=torch.float32), torch.tensor(targets, dtype=torch.float32)\n",
    "\n",
    "# Prepare data loaders\n",
    "# Modified prepare_data_loaders function\n",
    "def prepare_data_loaders(month, fold, lag_steps, window_sizes, time_step_in, time_step_out, batch_size, stride=1):\n",
    "    \"\"\"Prepare data loaders with specific time steps and features\"\"\"\n",
    "    folder = os.path.join(base_path, month, fold)\n",
    "    \n",
    "    # Load train data\n",
    "    train_df = load_and_process_data(os.path.join(folder, \"processed_train.csv\"))\n",
    "    \n",
    "    # Load validation data\n",
    "    val_df = load_and_process_data(os.path.join(folder, \"processed_val.csv\"))\n",
    "    \n",
    "    # Load test data\n",
    "    test_df = load_and_process_data(os.path.join(folder, \"merged_test.csv\"))\n",
    "    \n",
    "    if train_df.empty or val_df.empty or test_df.empty:\n",
    "        print(\"⚠️ One or more datasets are empty\")\n",
    "        return None, None, None, 0\n",
    "    \n",
    "    # Sort data by time\n",
    "    if 'DATETIME' in train_df.columns:\n",
    "        train_df = train_df.sort_values(\"DATETIME\").reset_index(drop=True)\n",
    "    if 'DATETIME' in val_df.columns:\n",
    "        val_df = val_df.sort_values(\"DATETIME\").reset_index(drop=True)\n",
    "    if 'DATETIME' in test_df.columns:\n",
    "        test_df = test_df.sort_values(\"DATETIME\").reset_index(drop=True)\n",
    "    \n",
    "    # Create features before further processing\n",
    "    # 1. Create lag features separately for each dataset\n",
    "    if Config.USE_LAG_FEATURES and lag_steps:\n",
    "        # Create lag features for train set using itself\n",
    "        print(f\"Creating lag features for train set with lags: {lag_steps}\")\n",
    "        for lag in lag_steps:\n",
    "            train_df[f'{Config.TARGET}_lag{lag}'] = train_df.groupby(['ROW', 'COL'])[Config.TARGET].shift(lag)\n",
    "        \n",
    "        # Create lag features for validation set using train + val\n",
    "        print(f\"Creating lag features for val set with lags: {lag_steps}\")\n",
    "        train_val_df = pd.concat([train_df, val_df]).sort_values('DATETIME').reset_index(drop=True)\n",
    "        for lag in lag_steps:\n",
    "            train_val_df[f'{Config.TARGET}_lag{lag}'] = train_val_df.groupby(['ROW', 'COL'])[Config.TARGET].shift(lag)\n",
    "        val_df = train_val_df.iloc[len(train_df):].reset_index(drop=True)\n",
    "        \n",
    "        # Create lag features for test set using train + val + test\n",
    "        print(f\"Creating lag features for test set with lags: {lag_steps}\")\n",
    "        full_df = pd.concat([train_df, val_df, test_df]).sort_values('DATETIME').reset_index(drop=True)\n",
    "        for lag in lag_steps:\n",
    "            full_df[f'{Config.TARGET}_lag{lag}'] = full_df.groupby(['ROW', 'COL'])[Config.TARGET].shift(lag)\n",
    "        test_df = full_df.iloc[len(train_df) + len(val_df):].reset_index(drop=True)\n",
    "    \n",
    "    # 2. Create rolling statistics separately for each dataset\n",
    "    if Config.USE_ROLLING_STATISTICS and window_sizes:\n",
    "        # Create rolling stats for train set\n",
    "        print(f\"Creating rolling stats for train set with windows: {window_sizes}\")\n",
    "        for window in window_sizes:\n",
    "            train_df[f'{Config.TARGET}_rollmean_{window}'] = train_df.groupby(['ROW', 'COL'])[Config.TARGET].transform(\n",
    "                lambda x: x.rolling(window, min_periods=1).mean())\n",
    "            train_df[f'{Config.TARGET}_rollstd_{window}'] = train_df.groupby(['ROW', 'COL'])[Config.TARGET].transform(\n",
    "                lambda x: x.rolling(window, min_periods=1).std())\n",
    "        \n",
    "        # Create rolling stats for validation set\n",
    "        print(f\"Creating rolling stats for val set with windows: {window_sizes}\")\n",
    "        train_val_df = pd.concat([train_df, val_df]).sort_values('DATETIME').reset_index(drop=True)\n",
    "        for window in window_sizes:\n",
    "            train_val_df[f'{Config.TARGET}_rollmean_{window}'] = train_val_df.groupby(['ROW', 'COL'])[Config.TARGET].transform(\n",
    "                lambda x: x.rolling(window, min_periods=1).mean())\n",
    "            train_val_df[f'{Config.TARGET}_rollstd_{window}'] = train_val_df.groupby(['ROW', 'COL'])[Config.TARGET].transform(\n",
    "                lambda x: x.rolling(window, min_periods=1).std())\n",
    "        val_df = train_val_df.iloc[len(train_df):].reset_index(drop=True)\n",
    "        \n",
    "        # Create rolling stats for test set\n",
    "        print(f\"Creating rolling stats for test set with windows: {window_sizes}\")\n",
    "        full_df = pd.concat([train_df, val_df, test_df]).sort_values('DATETIME').reset_index(drop=True)\n",
    "        for window in window_sizes:\n",
    "            full_df[f'{Config.TARGET}_rollmean_{window}'] = full_df.groupby(['ROW', 'COL'])[Config.TARGET].transform(\n",
    "                lambda x: x.rolling(window, min_periods=1).mean())\n",
    "            full_df[f'{Config.TARGET}_rollstd_{window}'] = full_df.groupby(['ROW', 'COL'])[Config.TARGET].transform(\n",
    "                lambda x: x.rolling(window, min_periods=1).std())\n",
    "        test_df = full_df.iloc[len(train_df) + len(val_df):].reset_index(drop=True)\n",
    "    \n",
    "    # Handle missing values\n",
    "    train_df = train_df.fillna(0)\n",
    "    val_df = val_df.fillna(0)\n",
    "    test_df = test_df.fillna(0)\n",
    "    \n",
    "    # Prepare feature columns - exclude DATETIME, ROW, COL and target column\n",
    "    # Include selected_features that are in the DataFrame\n",
    "    basic_cols = [col for col in selected_features if col in train_df.columns]\n",
    "    lag_cols = [f'{Config.TARGET}_lag{lag}' for lag in lag_steps if f'{Config.TARGET}_lag{lag}' in train_df.columns]\n",
    "    roll_cols = []\n",
    "    \n",
    "    for window in window_sizes:\n",
    "        mean_col = f'{Config.TARGET}_rollmean_{window}'\n",
    "        std_col = f'{Config.TARGET}_rollstd_{window}'\n",
    "        if mean_col in train_df.columns:\n",
    "            roll_cols.append(mean_col)\n",
    "        if std_col in train_df.columns:\n",
    "            roll_cols.append(std_col)\n",
    "    \n",
    "    feature_cols = basic_cols + lag_cols + roll_cols\n",
    "    \n",
    "    # Check if we have any features\n",
    "    if not feature_cols:\n",
    "        print(\"⚠️ No features detected! Creating default lag feature.\")\n",
    "        # Create at least one default lag feature\n",
    "        default_lag = 1\n",
    "        for df in [train_df, val_df, test_df]:\n",
    "            df[f'{Config.TARGET}_lag{default_lag}'] = df.groupby(['ROW', 'COL'])[Config.TARGET].shift(default_lag)\n",
    "            df = df.fillna(0)\n",
    "        \n",
    "        feature_cols = [f'{Config.TARGET}_lag{default_lag}']\n",
    "    \n",
    "    print(f\"Using {len(feature_cols)} features: {feature_cols}\")\n",
    "    \n",
    "    # Create sequences\n",
    "    train_x, train_y = create_sequences(train_df, feature_cols, Config.TARGET, time_step_in, time_step_out, stride)\n",
    "    val_x, val_y = create_sequences(val_df, feature_cols, Config.TARGET, time_step_in, time_step_out, stride)\n",
    "    test_x, test_y = create_sequences(test_df, feature_cols, Config.TARGET, time_step_in, time_step_out, stride)\n",
    "    \n",
    "    if train_x.numel() == 0 or val_x.numel() == 0 or test_x.numel() == 0:\n",
    "        print(\"⚠️ One or more sequence sets are empty\")\n",
    "        return None, None, None, 0\n",
    "    \n",
    "    print(f\"✅ Data shapes - Train: {train_x.shape}, Val: {val_x.shape}, Test: {test_x.shape}\")\n",
    "    \n",
    "    # Create data loaders\n",
    "    train_loader = DataLoader(TensorDataset(train_x, train_y), batch_size=batch_size, shuffle=True)\n",
    "    val_loader = DataLoader(TensorDataset(val_x, val_y), batch_size=batch_size)\n",
    "    test_loader = DataLoader(TensorDataset(test_x, test_y), batch_size=batch_size)\n",
    "    \n",
    "    return train_loader, val_loader, test_loader, train_x.shape[2]"
   ]
  },
  {
   "cell_type": "code",
   "execution_count": 2,
   "id": "05c9b25d",
   "metadata": {
    "execution": {
     "iopub.execute_input": "2025-04-23T16:29:07.076839Z",
     "iopub.status.busy": "2025-04-23T16:29:07.076479Z",
     "iopub.status.idle": "2025-04-23T16:29:07.089375Z",
     "shell.execute_reply": "2025-04-23T16:29:07.088708Z"
    },
    "papermill": {
     "duration": 0.017297,
     "end_time": "2025-04-23T16:29:07.090480",
     "exception": false,
     "start_time": "2025-04-23T16:29:07.073183",
     "status": "completed"
    },
    "tags": []
   },
   "outputs": [],
   "source": [
    "# Hybrid LSTM Classification-Regression Model\n",
    "import torch\n",
    "import torch.nn as nn\n",
    "import torch.nn.functional as F\n",
    "\n",
    "class HybridLSTMModel(nn.Module):\n",
    "    def __init__(self, input_size, hidden_size=64, num_layers=2, dropout=0.0, time_step_out=1):\n",
    "        super(HybridLSTMModel, self).__init__()\n",
    "        self.lstm = nn.LSTM(input_size, hidden_size, num_layers, batch_first=True, dropout=dropout)\n",
    "        \n",
    "        # Shared feature extraction\n",
    "        self.feature_layer = nn.Linear(hidden_size, hidden_size // 2)\n",
    "        \n",
    "        # Binary classification: rain or no rain\n",
    "        self.rain_classifier = nn.Linear(hidden_size // 2, 1)  # Binary output (0=no rain, 1=rain)\n",
    "        \n",
    "        # Rain intensity classifier (conditionally used)\n",
    "        self.intensity_classifier = nn.Linear(hidden_size // 2, 3)  # 3 classes: small, medium, heavy\n",
    "        \n",
    "        # Regression head for rain volume (conditionally used)\n",
    "        self.regressor = nn.Linear(hidden_size // 2, time_step_out)\n",
    "        \n",
    "        self.time_step_out = time_step_out\n",
    "        self.hidden_size = hidden_size\n",
    "\n",
    "    def forward(self, x):\n",
    "        # LSTM feature extraction\n",
    "        lstm_out, _ = self.lstm(x)\n",
    "        last_out = lstm_out[:, -1, :]  # Get the last time step output\n",
    "        \n",
    "        # Extract shared features\n",
    "        features = F.relu(self.feature_layer(last_out))\n",
    "        \n",
    "        # Binary classification: rain or no rain\n",
    "        rain_logits = self.rain_classifier(features)\n",
    "        rain_prob = torch.sigmoid(rain_logits)  # Probability of rain\n",
    "        \n",
    "        # Rain intensity classification (3 classes)\n",
    "        intensity_logits = self.intensity_classifier(features)\n",
    "        intensity_probs = F.softmax(intensity_logits, dim=1)  # Probabilities for each intensity class\n",
    "        \n",
    "        # Regression for rain amount\n",
    "        regression_out = self.regressor(features)\n",
    "        \n",
    "        return {\n",
    "            'rain_logits': rain_logits,\n",
    "            'rain_prob': rain_prob,\n",
    "            'intensity_logits': intensity_logits,\n",
    "            'intensity_probs': intensity_probs,\n",
    "            'regression': regression_out\n",
    "        }\n",
    "\n",
    "# Custom loss function that combines binary classification, multiclass classification, and regression\n",
    "class HybridRainfallLoss(nn.Module):\n",
    "    def __init__(self, rain_threshold=0.1, class_boundaries=[0.0, 2.5, 6.0], \n",
    "                 binary_weight=1.0, intensity_weight=1.0, regression_weight=1.0):\n",
    "        super(HybridRainfallLoss, self).__init__()\n",
    "        self.rain_threshold = rain_threshold\n",
    "        self.class_boundaries = class_boundaries\n",
    "        \n",
    "        # Loss weights\n",
    "        self.binary_weight = binary_weight\n",
    "        self.intensity_weight = intensity_weight\n",
    "        self.regression_weight = regression_weight\n",
    "        \n",
    "        # Individual loss functions\n",
    "        self.binary_loss_fn = nn.BCEWithLogitsLoss(reduction='mean')\n",
    "        self.intensity_loss_fn = nn.CrossEntropyLoss(reduction='mean')\n",
    "        self.regression_loss_fn = nn.MSELoss(reduction='mean')\n",
    "    \n",
    "    def forward(self, outputs, targets):\n",
    "        # Extract model outputs\n",
    "        rain_logits = outputs['rain_logits']\n",
    "        intensity_logits = outputs['intensity_logits']\n",
    "        regression = outputs['regression']\n",
    "        \n",
    "        # Prepare target values\n",
    "        # Binary rain targets (1 if rain > threshold, 0 otherwise)\n",
    "        binary_targets = (targets > self.rain_threshold).float()\n",
    "        \n",
    "        # Intensity class targets (0=small, 1=medium, 2=heavy)\n",
    "        # Create class masks\n",
    "        small_mask = (targets > self.class_boundaries[0]) & (targets <= self.class_boundaries[1])\n",
    "        medium_mask = (targets > self.class_boundaries[1]) & (targets <= self.class_boundaries[2])\n",
    "        heavy_mask = (targets > self.class_boundaries[2])\n",
    "        \n",
    "        # Convert to class indices (0, 1, or 2)\n",
    "        intensity_targets = torch.zeros_like(targets, dtype=torch.long)\n",
    "        intensity_targets[medium_mask] = 1\n",
    "        intensity_targets[heavy_mask] = 2\n",
    "        \n",
    "        # Only consider intensity loss for samples where rain exists\n",
    "        valid_intensity_mask = binary_targets.bool().squeeze()\n",
    "        \n",
    "        # Calculate losses\n",
    "        binary_loss = self.binary_loss_fn(rain_logits, binary_targets)\n",
    "        \n",
    "        # Only calculate intensity loss on rainy samples (if any exist)\n",
    "        if valid_intensity_mask.sum() > 0:\n",
    "            intensity_loss = self.intensity_loss_fn(\n",
    "                intensity_logits[valid_intensity_mask], \n",
    "                intensity_targets[valid_intensity_mask].squeeze()\n",
    "            )\n",
    "        else:\n",
    "            intensity_loss = torch.tensor(0.0, device=rain_logits.device)\n",
    "        \n",
    "        # For regression, we can either:\n",
    "        # 1. Apply regression loss to all samples\n",
    "        # 2. Apply regression loss only to rainy samples\n",
    "        # Let's use option 2 for better focus on rain prediction\n",
    "        if valid_intensity_mask.sum() > 0:\n",
    "            regression_loss = self.regression_loss_fn(\n",
    "                regression[valid_intensity_mask], \n",
    "                targets[valid_intensity_mask]\n",
    "            )\n",
    "        else:\n",
    "            regression_loss = torch.tensor(0.0, device=rain_logits.device)\n",
    "        \n",
    "        # Combine losses with weights\n",
    "        total_loss = (\n",
    "            self.binary_weight * binary_loss +\n",
    "            self.intensity_weight * intensity_loss +\n",
    "            self.regression_weight * regression_loss\n",
    "        )\n",
    "        \n",
    "        return {\n",
    "            'total_loss': total_loss,\n",
    "            'binary_loss': binary_loss.item(),\n",
    "            'intensity_loss': intensity_loss.item() if isinstance(intensity_loss, torch.Tensor) else intensity_loss,\n",
    "            'regression_loss': regression_loss.item() if isinstance(regression_loss, torch.Tensor) else regression_loss\n",
    "        }\n",
    "\n",
    "# Function to get final predictions combining classification and regression\n",
    "def get_hybrid_predictions(outputs):\n",
    "    rain_prob = outputs['rain_prob']\n",
    "    intensity_probs = outputs['intensity_probs']\n",
    "    regression = outputs['regression']\n",
    "    \n",
    "    # Binary decision: rain or no rain\n",
    "    is_rain = rain_prob > 0.5\n",
    "    \n",
    "    # Get the most likely intensity class\n",
    "    _, intensity_class = torch.max(intensity_probs, dim=1)\n",
    "    \n",
    "    # Initialize predictions with zeros (no rain)\n",
    "    final_predictions = torch.zeros_like(regression)\n",
    "    \n",
    "    # Where rain is predicted, use regression values\n",
    "    final_predictions[is_rain] = regression[is_rain]\n",
    "    \n",
    "    return {\n",
    "        'is_rain': is_rain,\n",
    "        'intensity_class': intensity_class,\n",
    "        'regression': regression,\n",
    "        'final_predictions': final_predictions\n",
    "    }"
   ]
  },
  {
   "cell_type": "code",
   "execution_count": 3,
   "id": "a199f362",
   "metadata": {
    "execution": {
     "iopub.execute_input": "2025-04-23T16:29:07.096432Z",
     "iopub.status.busy": "2025-04-23T16:29:07.096225Z",
     "iopub.status.idle": "2025-04-23T16:29:07.107890Z",
     "shell.execute_reply": "2025-04-23T16:29:07.107338Z"
    },
    "papermill": {
     "duration": 0.015998,
     "end_time": "2025-04-23T16:29:07.109106",
     "exception": false,
     "start_time": "2025-04-23T16:29:07.093108",
     "status": "completed"
    },
    "tags": []
   },
   "outputs": [],
   "source": [
    "# Modified train_model function for hybrid model\n",
    "def train_hybrid_model(model, loader, optimizer, loss_fn, epochs, patience=3):\n",
    "    \"\"\"Train hybrid model with early stopping\"\"\"\n",
    "    model.train()\n",
    "    best_loss = float('inf')\n",
    "    patience_counter = 0\n",
    "    \n",
    "    for epoch in range(epochs):\n",
    "        running_loss = 0.0\n",
    "        running_binary_loss = 0.0\n",
    "        running_intensity_loss = 0.0\n",
    "        running_regression_loss = 0.0\n",
    "        \n",
    "        for xb, yb in loader:\n",
    "            xb, yb = xb.to(DEVICE), yb.to(DEVICE)\n",
    "            optimizer.zero_grad()\n",
    "            \n",
    "            # Get model outputs\n",
    "            outputs = model(xb)\n",
    "            \n",
    "            # Calculate loss\n",
    "            loss_dict = loss_fn(outputs, yb)\n",
    "            total_loss = loss_dict['total_loss']\n",
    "            \n",
    "            # Backpropagation\n",
    "            total_loss.backward()\n",
    "            optimizer.step()\n",
    "            \n",
    "            # Track losses\n",
    "            running_loss += total_loss.item() * xb.size(0)\n",
    "            running_binary_loss += loss_dict['binary_loss'] * xb.size(0)\n",
    "            running_intensity_loss += loss_dict['intensity_loss'] * xb.size(0)\n",
    "            running_regression_loss += loss_dict['regression_loss'] * xb.size(0)\n",
    "        \n",
    "        # Calculate average losses\n",
    "        avg_loss = running_loss / len(loader.dataset)\n",
    "        avg_binary_loss = running_binary_loss / len(loader.dataset)\n",
    "        avg_intensity_loss = running_intensity_loss / len(loader.dataset)\n",
    "        avg_regression_loss = running_regression_loss / len(loader.dataset)\n",
    "        \n",
    "        print(f\"  🌀 Epoch {epoch+1}/{epochs}, Total Loss: {avg_loss:.4f}, \"\n",
    "              f\"Binary: {avg_binary_loss:.4f}, Intensity: {avg_intensity_loss:.4f}, \"\n",
    "              f\"Regression: {avg_regression_loss:.4f}\")\n",
    "        \n",
    "        # Early stopping check\n",
    "        if avg_loss < best_loss:\n",
    "            best_loss = avg_loss\n",
    "            patience_counter = 0\n",
    "        else:\n",
    "            patience_counter += 1\n",
    "            if patience_counter >= patience:\n",
    "                print(f\"  🛑 Early stopping at epoch {epoch+1}\")\n",
    "                break\n",
    "    \n",
    "    return best_loss\n",
    "\n",
    "# Modified evaluate_model function for hybrid model\n",
    "def evaluate_hybrid_model(model, loader, rain_threshold=0.1):\n",
    "    \"\"\"Evaluate hybrid model and return metrics\"\"\"\n",
    "    model.eval()\n",
    "    all_preds = []\n",
    "    all_targets = []\n",
    "    all_binary_preds = []\n",
    "    all_binary_targets = []\n",
    "    all_intensity_preds = []\n",
    "    all_intensity_targets = []\n",
    "    \n",
    "    # Classification thresholds for defining rain intensity classes\n",
    "    class_boundaries = [0.0, 2.5, 6.0]\n",
    "    \n",
    "    with torch.no_grad():\n",
    "        for xb, yb in loader:\n",
    "            xb = xb.to(DEVICE)\n",
    "            outputs = model(xb)\n",
    "            \n",
    "            # Get predictions\n",
    "            pred_dict = get_hybrid_predictions(outputs)\n",
    "            final_preds = pred_dict['final_predictions'].cpu()\n",
    "            is_rain = pred_dict['is_rain'].cpu()\n",
    "            intensity_class = pred_dict['intensity_class'].cpu()\n",
    "            \n",
    "            # Get binary targets (rain/no rain)\n",
    "            binary_targets = (yb > rain_threshold).float()\n",
    "            \n",
    "            # Get intensity class targets\n",
    "            intensity_targets = torch.zeros_like(yb, dtype=torch.long)\n",
    "            intensity_targets[(yb > class_boundaries[0]) & (yb <= class_boundaries[1])] = 0  # Small rain\n",
    "            intensity_targets[(yb > class_boundaries[1]) & (yb <= class_boundaries[2])] = 1  # Medium rain\n",
    "            intensity_targets[yb > class_boundaries[2]] = 2  # Heavy rain\n",
    "            \n",
    "            # Store predictions and targets\n",
    "            all_preds.append(final_preds)\n",
    "            all_targets.append(yb)\n",
    "            all_binary_preds.append(is_rain)\n",
    "            all_binary_targets.append(binary_targets)\n",
    "            all_intensity_preds.append(intensity_class)\n",
    "            all_intensity_targets.append(intensity_targets)\n",
    "    \n",
    "    # Concatenate results\n",
    "    all_preds = torch.cat(all_preds).squeeze().numpy()\n",
    "    all_targets = torch.cat(all_targets).squeeze().numpy()\n",
    "    all_binary_preds = torch.cat(all_binary_preds).squeeze().numpy()\n",
    "    all_binary_targets = torch.cat(all_binary_targets).squeeze().numpy()\n",
    "    all_intensity_preds = torch.cat(all_intensity_preds).squeeze().numpy()\n",
    "    all_intensity_targets = torch.cat(all_intensity_targets).squeeze().numpy()\n",
    "    \n",
    "    # Calculate regression metrics\n",
    "    rmse = mean_squared_error(all_targets, all_preds, squared=False)\n",
    "    bias = np.mean(all_preds - all_targets)\n",
    "    r2 = r2_score(all_targets, all_preds)\n",
    "    \n",
    "    # Calculate classification metrics\n",
    "    binary_accuracy = np.mean(all_binary_preds == all_binary_targets)\n",
    "    \n",
    "    # Calculate Critical Success Index (CSI) for rain detection\n",
    "    tp = np.sum((all_binary_preds == 1) & (all_binary_targets == 1))\n",
    "    fp = np.sum((all_binary_preds == 1) & (all_binary_targets == 0))\n",
    "    fn = np.sum((all_binary_preds == 0) & (all_binary_targets == 1))\n",
    "    csi = tp / (tp + fp + fn + 1e-9)\n",
    "    \n",
    "    # Calculate intensity classification accuracy (only for actual rain samples)\n",
    "    rain_mask = all_binary_targets == 1\n",
    "    if np.sum(rain_mask) > 0:\n",
    "        intensity_accuracy = np.mean(all_intensity_preds[rain_mask] == all_intensity_targets[rain_mask])\n",
    "    else:\n",
    "        intensity_accuracy = np.nan\n",
    "    \n",
    "    # Return all metrics\n",
    "    metrics = {\n",
    "        'rmse': rmse,\n",
    "        'bias': bias,\n",
    "        'r2': r2,\n",
    "        'csi': csi,\n",
    "        'binary_accuracy': binary_accuracy,\n",
    "        'intensity_accuracy': intensity_accuracy\n",
    "    }\n",
    "    \n",
    "    return metrics"
   ]
  },
  {
   "cell_type": "code",
   "execution_count": 4,
   "id": "4fd724a4",
   "metadata": {
    "execution": {
     "iopub.execute_input": "2025-04-23T16:29:07.115258Z",
     "iopub.status.busy": "2025-04-23T16:29:07.115055Z",
     "iopub.status.idle": "2025-04-23T16:29:07.143731Z",
     "shell.execute_reply": "2025-04-23T16:29:07.143176Z"
    },
    "papermill": {
     "duration": 0.033328,
     "end_time": "2025-04-23T16:29:07.144980",
     "exception": false,
     "start_time": "2025-04-23T16:29:07.111652",
     "status": "completed"
    },
    "tags": []
   },
   "outputs": [],
   "source": [
    "# Modified objective function for Optuna optimization with hybrid model\n",
    "def hybrid_objective(trial, month):\n",
    "    \"\"\"Optuna objective function for hybrid model using cross-validation across folds\"\"\"\n",
    "    # Hyperparameters to tune\n",
    "    hidden_size = trial.suggest_int(\"hidden_size\", 32, 256)\n",
    "    num_layers = trial.suggest_int(\"num_layers\", 1, 3)\n",
    "    dropout = trial.suggest_float(\"dropout\", 0.0, 0.5)\n",
    "    lr = trial.suggest_float(\"lr\", 1e-4, 1e-2, log=True)\n",
    "    time_step_in = trial.suggest_int(\"time_step_in\", 12, 48)\n",
    "    time_step_out = trial.suggest_int(\"time_step_out\", 1, 6)\n",
    "    stride = trial.suggest_int(\"stride\", 1, 6)\n",
    "    \n",
    "    # Loss weights\n",
    "    binary_weight = trial.suggest_float(\"binary_weight\", 0.5, 2.0)\n",
    "    intensity_weight = trial.suggest_float(\"intensity_weight\", 0.5, 2.0) \n",
    "    regression_weight = trial.suggest_float(\"regression_weight\", 0.5, 2.0)\n",
    "    \n",
    "    # Rain threshold (for binary classification)\n",
    "    rain_threshold = trial.suggest_float(\"rain_threshold\", 0.05, 0.2)\n",
    "    \n",
    "    # Lag steps and window sizes\n",
    "    num_lags = trial.suggest_int(\"num_lags\", 1, 3)\n",
    "    lag_steps = [trial.suggest_int(f\"lag_{i}\", 1, 12) for i in range(num_lags)]\n",
    "    \n",
    "    num_windows = trial.suggest_int(\"num_windows\", 1, 3)\n",
    "    window_sizes = [trial.suggest_int(f\"window_{i}\", 3, 24) for i in range(num_windows)]\n",
    "    \n",
    "    # Get batch size from config\n",
    "    config_key = month.split(\"-\")[1]\n",
    "    config = MODEL_CONFIG[config_key]\n",
    "    batch_size = config[\"BATCH_SIZE\"]\n",
    "    \n",
    "    # Cross-validation across folds\n",
    "    fold_val_rmses = []\n",
    "    \n",
    "    for fold in folds:\n",
    "        try:\n",
    "            # Prepare data loaders\n",
    "            train_loader, val_loader, _, input_size = prepare_data_loaders(\n",
    "                month, fold, lag_steps, window_sizes, time_step_in, time_step_out, batch_size, stride\n",
    "            )\n",
    "            \n",
    "            if train_loader is None or val_loader is None:\n",
    "                # Skip this fold if data preparation failed\n",
    "                continue\n",
    "            \n",
    "            # Create hybrid model with trial parameters\n",
    "            model = HybridLSTMModel(\n",
    "                input_size=input_size, \n",
    "                hidden_size=hidden_size, \n",
    "                num_layers=num_layers, \n",
    "                dropout=dropout,\n",
    "                time_step_out=time_step_out\n",
    "            ).to(DEVICE)\n",
    "            \n",
    "            # Class boundaries for rainfall intensity\n",
    "            class_boundaries = [0.0, 2.5, 6.0]\n",
    "            \n",
    "            # Create hybrid loss function\n",
    "            loss_fn = HybridRainfallLoss(\n",
    "                rain_threshold=rain_threshold,\n",
    "                class_boundaries=class_boundaries,\n",
    "                binary_weight=binary_weight,\n",
    "                intensity_weight=intensity_weight,\n",
    "                regression_weight=regression_weight\n",
    "            )\n",
    "            \n",
    "            optimizer = torch.optim.Adam(model.parameters(), lr=lr)\n",
    "            \n",
    "            # Train for a small number of epochs during hyperparameter search\n",
    "            train_hybrid_model(model, train_loader, optimizer, loss_fn, epochs=5, patience=2)\n",
    "            \n",
    "            # Evaluate on validation set\n",
    "            val_metrics = evaluate_hybrid_model(model, val_loader, rain_threshold=rain_threshold)\n",
    "            val_rmse = val_metrics['rmse']\n",
    "            fold_val_rmses.append(val_rmse)\n",
    "            \n",
    "        except Exception as e:\n",
    "            print(f\"Error in fold {fold}: {str(e)}\")\n",
    "            continue\n",
    "    \n",
    "    # Return mean validation RMSE across folds\n",
    "    if fold_val_rmses:\n",
    "        mean_val_rmse = sum(fold_val_rmses) / len(fold_val_rmses)\n",
    "        return mean_val_rmse\n",
    "    else:\n",
    "        return float('inf')\n",
    "\n",
    "# Function for final evaluation on test set with hybrid model\n",
    "def evaluate_hybrid_on_test(month, fold, best_params):\n",
    "    \"\"\"Train and evaluate hybrid model with best parameters on test set\"\"\"\n",
    "    print(f\"\\n🚀 Training hybrid model for {month}, {fold} with best parameters\")\n",
    "    \n",
    "    # Extract parameters\n",
    "    hidden_size = best_params[\"hidden_size\"]\n",
    "    num_layers = best_params[\"num_layers\"]\n",
    "    dropout = best_params[\"dropout\"]\n",
    "    lr = best_params[\"lr\"]\n",
    "    time_step_in = best_params[\"time_step_in\"]\n",
    "    time_step_out = best_params[\"time_step_out\"]\n",
    "    stride = best_params[\"stride\"]\n",
    "    \n",
    "    # Loss weights\n",
    "    binary_weight = best_params[\"binary_weight\"]\n",
    "    intensity_weight = best_params[\"intensity_weight\"] \n",
    "    regression_weight = best_params[\"regression_weight\"]\n",
    "    \n",
    "    # Rain threshold\n",
    "    rain_threshold = best_params[\"rain_threshold\"]\n",
    "    \n",
    "    # Class boundaries for rainfall intensity\n",
    "    class_boundaries = [0.0, 2.5, 6.0]\n",
    "    \n",
    "    # Extract lag steps and window sizes\n",
    "    num_lags = best_params[\"num_lags\"]\n",
    "    lag_steps = [best_params[f\"lag_{i}\"] for i in range(num_lags)]\n",
    "    \n",
    "    num_windows = best_params[\"num_windows\"]\n",
    "    window_sizes = [best_params[f\"window_{i}\"] for i in range(num_windows)]\n",
    "    \n",
    "    # Get config\n",
    "    config_key = month.split(\"-\")[1]\n",
    "    config = MODEL_CONFIG[config_key]\n",
    "    batch_size = config[\"BATCH_SIZE\"]\n",
    "    epochs = config[\"EPOCHS\"]\n",
    "    \n",
    "    # Prepare data\n",
    "    train_loader, val_loader, test_loader, input_size = prepare_data_loaders(\n",
    "        month, fold, lag_steps, window_sizes, time_step_in, time_step_out, batch_size, stride\n",
    "    )\n",
    "    \n",
    "    if train_loader is None or val_loader is None or test_loader is None:\n",
    "        print(\"❌ Failed to prepare data\")\n",
    "        return None\n",
    "    \n",
    "    # Create hybrid model\n",
    "    model = HybridLSTMModel(\n",
    "        input_size=input_size,\n",
    "        hidden_size=hidden_size,\n",
    "        num_layers=num_layers,\n",
    "        dropout=dropout,\n",
    "        time_step_out=time_step_out\n",
    "    ).to(DEVICE)\n",
    "    \n",
    "    # Create hybrid loss function\n",
    "    loss_fn = HybridRainfallLoss(\n",
    "        rain_threshold=rain_threshold,\n",
    "        class_boundaries=class_boundaries,\n",
    "        binary_weight=binary_weight,\n",
    "        intensity_weight=intensity_weight,\n",
    "        regression_weight=regression_weight\n",
    "    )\n",
    "    \n",
    "    optimizer = torch.optim.Adam(model.parameters(), lr=lr)\n",
    "    \n",
    "    # Train model on train set\n",
    "    print(f\"🏋️ Training hybrid model on train set...\")\n",
    "    train_hybrid_model(model, train_loader, optimizer, loss_fn, epochs=epochs, patience=5)\n",
    "    \n",
    "    # Evaluate on validation set\n",
    "    print(\"📊 Evaluating on validation set...\")\n",
    "    val_metrics = evaluate_hybrid_model(model, val_loader, rain_threshold=rain_threshold)\n",
    "    print(f\"  Val RMSE: {val_metrics['rmse']:.4f}, Bias: {val_metrics['bias']:.4f}, \"\n",
    "          f\"R²: {val_metrics['r2']:.4f}, CSI: {val_metrics['csi']:.4f}\")\n",
    "    print(f\"  Binary Accuracy: {val_metrics['binary_accuracy']:.4f}, \"\n",
    "          f\"Intensity Accuracy: {val_metrics['intensity_accuracy']:.4f}\")\n",
    "    \n",
    "    # Evaluate on test set\n",
    "    print(\"🧪 Evaluating on test set...\")\n",
    "    test_metrics = evaluate_hybrid_model(model, test_loader, rain_threshold=rain_threshold)\n",
    "    print(f\"  Test RMSE: {test_metrics['rmse']:.4f}, Bias: {test_metrics['bias']:.4f}, \"\n",
    "          f\"R²: {test_metrics['r2']:.4f}, CSI: {test_metrics['csi']:.4f}\")\n",
    "    print(f\"  Binary Accuracy: {test_metrics['binary_accuracy']:.4f}, \"\n",
    "          f\"Intensity Accuracy: {test_metrics['intensity_accuracy']:.4f}\")\n",
    "    \n",
    "    # Save model for this fold\n",
    "    model_path = f\"hybrid_model_{month}_{fold}.pt\"\n",
    "    torch.save(model.state_dict(), model_path)\n",
    "    print(f\"💾 Model saved to {model_path}\")\n",
    "    \n",
    "    # Return results\n",
    "    return {\n",
    "        \"month\": month,\n",
    "        \"fold\": fold,\n",
    "        \"test_rmse\": round(test_metrics['rmse'], 4),\n",
    "        \"test_bias\": round(test_metrics['bias'], 4),\n",
    "        \"test_r2\": round(test_metrics['r2'], 4),\n",
    "        \"test_csi\": round(test_metrics['csi'], 4),\n",
    "        \"test_binary_acc\": round(test_metrics['binary_accuracy'], 4),\n",
    "        \"test_intensity_acc\": round(test_metrics['intensity_accuracy'], 4) if not np.isnan(test_metrics['intensity_accuracy']) else None,\n",
    "        \"val_rmse\": round(val_metrics['rmse'], 4),\n",
    "        \"val_bias\": round(val_metrics['bias'], 4),\n",
    "        \"val_r2\": round(val_metrics['r2'], 4),\n",
    "        \"val_csi\": round(val_metrics['csi'], 4),\n",
    "        \"val_binary_acc\": round(val_metrics['binary_accuracy'], 4),\n",
    "        \"val_intensity_acc\": round(val_metrics['intensity_accuracy'], 4) if not np.isnan(val_metrics['intensity_accuracy']) else None,\n",
    "        \"model\": model\n",
    "    }\n",
    "\n",
    "# Updated main execution function for hybrid model\n",
    "def run_hybrid_optuna_optimization():\n",
    "    \"\"\"Run Optuna optimization for hybrid model with cross-validation and final test evaluation\"\"\"\n",
    "    month_results = {}\n",
    "    \n",
    "    for month in months:\n",
    "        print(f\"\\n📅 Processing month: {month}\")\n",
    "        \n",
    "        # Step 1: Find the best hyperparameters using cross-validation\n",
    "        study_name = f\"hybrid_{month}_study\"\n",
    "        study = optuna.create_study(direction=\"minimize\", study_name=study_name)\n",
    "        \n",
    "        # Create a partial function with fixed month\n",
    "        objective_func = partial(hybrid_objective, month=month)\n",
    "        \n",
    "        # Run optimization with cross-validation\n",
    "        try:\n",
    "            print(f\"🔍 Finding optimal hyperparameters for hybrid model on {month} using cross-validation...\")\n",
    "            study.optimize(objective_func, n_trials=20, timeout=3600)  # 1 hour timeout\n",
    "            \n",
    "            best_params = study.best_params\n",
    "            print(f\"✅ Best parameters for {month}:\")\n",
    "            for key, value in best_params.items():\n",
    "                print(f\"  {key}: {value}\")\n",
    "            \n",
    "            # Save best parameters for the month\n",
    "            best_params_path = f\"hybrid_best_params_{month}.json\"\n",
    "            with open(best_params_path, \"w\") as f:\n",
    "                json.dump(best_params, f, indent=2)\n",
    "            \n",
    "            print(f\"💾 Best parameters saved to {best_params_path}\")\n",
    "            \n",
    "            # Step 2: Final evaluation on test set for each fold\n",
    "            fold_test_results = []\n",
    "            for fold in folds:\n",
    "                print(f\"\\n📦 Final evaluation on {month}, {fold} test set\")\n",
    "                result = evaluate_hybrid_on_test(month, fold, best_params)\n",
    "                if result:\n",
    "                    fold_test_results.append(result)\n",
    "            \n",
    "            # Calculate mean performance across folds\n",
    "            if fold_test_results:\n",
    "                mean_rmse = sum(r[\"test_rmse\"] for r in fold_test_results) / len(fold_test_results)\n",
    "                mean_bias = sum(r[\"test_bias\"] for r in fold_test_results) / len(fold_test_results)\n",
    "                mean_r2 = sum(r[\"test_r2\"] for r in fold_test_results) / len(fold_test_results)\n",
    "                mean_csi = sum(r[\"test_csi\"] for r in fold_test_results) / len(fold_test_results)\n",
    "                \n",
    "                # Calculate mean classification accuracies\n",
    "                mean_binary_acc = sum(r[\"test_binary_acc\"] for r in fold_test_results) / len(fold_test_results)\n",
    "                \n",
    "                # Handle potential None values for intensity accuracy\n",
    "                intensity_accuracies = [r[\"test_intensity_acc\"] for r in fold_test_results if r[\"test_intensity_acc\"] is not None]\n",
    "                mean_intensity_acc = sum(intensity_accuracies) / len(intensity_accuracies) if intensity_accuracies else None\n",
    "                \n",
    "                # Save best fold result (lowest RMSE)\n",
    "                best_fold_result = min(fold_test_results, key=lambda x: x[\"test_rmse\"])\n",
    "                best_model = best_fold_result[\"model\"]\n",
    "                best_model_path = f\"hybrid_best_model_{month}.pt\"\n",
    "                torch.save(best_model.state_dict(), best_model_path)\n",
    "                \n",
    "                # Store results for this month\n",
    "                month_results[month] = {\n",
    "                    \"month\": month,\n",
    "                    \"best_fold\": best_fold_result[\"fold\"],\n",
    "                    \"best_test_rmse\": best_fold_result[\"test_rmse\"],\n",
    "                    \"best_test_bias\": best_fold_result[\"test_bias\"],\n",
    "                    \"best_test_r2\": best_fold_result[\"test_r2\"],\n",
    "                    \"best_test_csi\": best_fold_result[\"test_csi\"],\n",
    "                    \"best_test_binary_acc\": best_fold_result[\"test_binary_acc\"],\n",
    "                    \"best_test_intensity_acc\": best_fold_result[\"test_intensity_acc\"],\n",
    "                    \"mean_test_rmse\": round(mean_rmse, 4),\n",
    "                    \"mean_test_bias\": round(mean_bias, 4),\n",
    "                    \"mean_test_r2\": round(mean_r2, 4),\n",
    "                    \"mean_test_csi\": round(mean_csi, 4),\n",
    "                    \"mean_test_binary_acc\": round(mean_binary_acc, 4),\n",
    "                    \"mean_test_intensity_acc\": round(mean_intensity_acc, 4) if mean_intensity_acc is not None else None,\n",
    "                    \"best_params\": best_params,\n",
    "                    \"fold_results\": fold_test_results\n",
    "                }\n",
    "                \n",
    "                print(f\"\\n📊 Mean test performance for {month}:\")\n",
    "                print(f\"  RMSE: {mean_rmse:.4f}, Bias: {mean_bias:.4f}, R²: {mean_r2:.4f}, CSI: {mean_csi:.4f}\")\n",
    "                print(f\"  Binary Acc: {mean_binary_acc:.4f}, Intensity Acc: {mean_intensity_acc:.4f if mean_intensity_acc is not None else 'N/A'}\")\n",
    "                print(f\"📊 Best fold test performance for {month} (fold {best_fold_result['fold']}):\")\n",
    "                print(f\"  RMSE: {best_fold_result['test_rmse']:.4f}, Bias: {best_fold_result['test_bias']:.4f}, \"\n",
    "                      f\"R²: {best_fold_result['test_r2']:.4f}, CSI: {best_fold_result['test_csi']:.4f}\")\n",
    "                print(f\"💾 Best hybrid model for {month} saved to {best_model_path}\")\n",
    "            \n",
    "        except Exception as e:\n",
    "            print(f\"❌ Error during optimization for {month}: {str(e)}\")\n",
    "            continue\n",
    "    \n",
    "    # Calculate overall mean performance across months\n",
    "    if month_results:\n",
    "        overall_mean_rmse = sum(r[\"best_test_rmse\"] for r in month_results.values()) / len(month_results)\n",
    "        overall_mean_bias = sum(r[\"best_test_bias\"] for r in month_results.values()) / len(month_results)\n",
    "        overall_mean_r2 = sum(r[\"best_test_r2\"] for r in month_results.values()) / len(month_results)\n",
    "        overall_mean_csi = sum(r[\"best_test_csi\"] for r in month_results.values()) / len(month_results)\n",
    "        overall_mean_binary_acc = sum(r[\"best_test_binary_acc\"] for r in month_results.values()) / len(month_results)\n",
    "        \n",
    "        # Handle potential None values for intensity accuracy\n",
    "        intensity_accuracies = [r[\"best_test_intensity_acc\"] for r in month_results.values() if r[\"best_test_intensity_acc\"] is not None]\n",
    "        overall_mean_intensity_acc = sum(intensity_accuracies) / len(intensity_accuracies) if intensity_accuracies else None\n",
    "        \n",
    "        print(\"\\n🏆 Overall mean performance of hybrid model across all months:\")\n",
    "        print(f\"  RMSE: {overall_mean_rmse:.4f}, Bias: {overall_mean_bias:.4f}, R²: {overall_mean_r2:.4f}, CSI: {overall_mean_csi:.4f}\")\n",
    "        intensity_acc_str = format(overall_mean_intensity_acc, '.4f') if overall_mean_intensity_acc is not None else 'N/A'\n",
    "        print(f\"  Binary Accuracy: {overall_mean_binary_acc:.4f}, Intensity Accuracy: {intensity_acc_str}\")\n",
    "    \n",
    "    # Create a dataframe with month results\n",
    "    month_results_df = pd.DataFrame([\n",
    "        {\n",
    "            \"month\": month,\n",
    "            \"best_fold\": data[\"best_fold\"],\n",
    "            \"best_test_rmse\": data[\"best_test_rmse\"],\n",
    "            \"best_test_bias\": data[\"best_test_bias\"],\n",
    "            \"best_test_r2\": data[\"best_test_r2\"],\n",
    "            \"best_test_csi\": data[\"best_test_csi\"],\n",
    "            \"best_test_binary_acc\": data[\"best_test_binary_acc\"],\n",
    "            \"best_test_intensity_acc\": data[\"best_test_intensity_acc\"],\n",
    "            \"mean_test_rmse\": data[\"mean_test_rmse\"],\n",
    "            \"mean_test_bias\": data[\"mean_test_bias\"],\n",
    "            \"mean_test_r2\": data[\"mean_test_r2\"],\n",
    "            \"mean_test_csi\": data[\"mean_test_csi\"],\n",
    "            \"mean_test_binary_acc\": data[\"mean_test_binary_acc\"],\n",
    "            \"mean_test_intensity_acc\": data[\"mean_test_intensity_acc\"],\n",
    "        } for month, data in month_results.items()\n",
    "    ])\n",
    "    \n",
    "    # Display month-wise results\n",
    "    print(\"\\n📊 Results by Month:\")\n",
    "    print(month_results_df)\n",
    "    \n",
    "    # Save results\n",
    "    month_results_df.to_csv(\"hybrid_month_results.csv\", index=False)\n",
    "    \n",
    "    # Save detailed results\n",
    "    all_fold_results = []\n",
    "    for month, data in month_results.items():\n",
    "        for fold_result in data[\"fold_results\"]:\n",
    "            all_fold_results.append({\n",
    "                \"month\": month,\n",
    "                \"fold\": fold_result[\"fold\"],\n",
    "                \"test_rmse\": fold_result[\"test_rmse\"],\n",
    "                \"test_bias\": fold_result[\"test_bias\"],\n",
    "                \"test_r2\": fold_result[\"test_r2\"],\n",
    "                \"test_csi\": fold_result[\"test_csi\"],\n",
    "                \"test_binary_acc\": fold_result[\"test_binary_acc\"],\n",
    "                \"test_intensity_acc\": fold_result[\"test_intensity_acc\"],\n",
    "                \"val_rmse\": fold_result[\"val_rmse\"],\n",
    "                \"val_bias\": fold_result[\"val_bias\"],\n",
    "                \"val_r2\": fold_result[\"val_r2\"],\n",
    "                \"val_csi\": fold_result[\"val_csi\"],\n",
    "                \"val_binary_acc\": fold_result[\"val_binary_acc\"],\n",
    "                \"val_intensity_acc\": fold_result[\"val_intensity_acc\"] if \"val_intensity_acc\" in fold_result else None,\n",
    "            })\n",
    "    \n",
    "    all_fold_results_df = pd.DataFrame(all_fold_results)\n",
    "    all_fold_results_df.to_csv(\"hybrid_all_fold_results.csv\", index=False)\n",
    "    \n",
    "    print(\"💾 Results saved to hybrid_month_results.csv and hybrid_all_fold_results.csv\")\n",
    "    \n",
    "    return month_results"
   ]
  },
  {
   "cell_type": "code",
   "execution_count": 5,
   "id": "9a103de9",
   "metadata": {
    "_cell_guid": "38e66a54-7a7f-4e7a-b9ab-fcfb79033a41",
    "_uuid": "7922e199-526e-4772-b295-c9433b89ab77",
    "collapsed": false,
    "execution": {
     "iopub.execute_input": "2025-04-23T16:29:07.150988Z",
     "iopub.status.busy": "2025-04-23T16:29:07.150750Z",
     "iopub.status.idle": "2025-04-23T17:32:31.937332Z",
     "shell.execute_reply": "2025-04-23T17:32:31.936354Z"
    },
    "jupyter": {
     "outputs_hidden": false
    },
    "papermill": {
     "duration": 3804.7912,
     "end_time": "2025-04-23T17:32:31.938788",
     "exception": false,
     "start_time": "2025-04-23T16:29:07.147588",
     "status": "completed"
    },
    "tags": []
   },
   "outputs": [
    {
     "name": "stderr",
     "output_type": "stream",
     "text": [
      "[I 2025-04-23 16:29:07,151] A new study created in memory with name: hybrid_2019-04_study\n"
     ]
    },
    {
     "name": "stdout",
     "output_type": "stream",
     "text": [
      "Running on device: cuda\n",
      "\n",
      "📅 Processing month: 2019-04\n",
      "🔍 Finding optimal hyperparameters for hybrid model on 2019-04 using cross-validation...\n",
      "📥 Loading /kaggle/input/ai-dataimputedataset-k-fold/2019-04/fold_1/processed_train.csv\n",
      "📥 Loading /kaggle/input/ai-dataimputedataset-k-fold/2019-04/fold_1/processed_val.csv\n",
      "📥 Loading /kaggle/input/ai-dataimputedataset-k-fold/2019-04/fold_1/merged_test.csv\n",
      "Creating lag features for train set with lags: [5, 8]\n",
      "Creating lag features for val set with lags: [5, 8]\n",
      "Creating lag features for test set with lags: [5, 8]\n",
      "Creating rolling stats for train set with windows: [22, 3, 7]\n",
      "Creating rolling stats for val set with windows: [22, 3, 7]\n",
      "Creating rolling stats for test set with windows: [22, 3, 7]\n",
      "Using 20 features: ['TCW', 'TCLW', 'R250', 'R500', 'R850', 'U850', 'V850', 'EWSS', 'KX', 'CAPE', 'SSHF', 'PEV', 'AWS_lag5', 'AWS_lag8', 'AWS_rollmean_22', 'AWS_rollstd_22', 'AWS_rollmean_3', 'AWS_rollstd_3', 'AWS_rollmean_7', 'AWS_rollstd_7']\n"
     ]
    },
    {
     "name": "stderr",
     "output_type": "stream",
     "text": [
      "<ipython-input-1-eb77431f8768>:232: UserWarning: Creating a tensor from a list of numpy.ndarrays is extremely slow. Please consider converting the list to a single numpy.ndarray with numpy.array() before converting to a tensor. (Triggered internally at ../torch/csrc/utils/tensor_new.cpp:278.)\n",
      "  return torch.tensor(sequences, dtype=torch.float32), torch.tensor(targets, dtype=torch.float32)\n"
     ]
    },
    {
     "name": "stdout",
     "output_type": "stream",
     "text": [
      "✅ Data shapes - Train: torch.Size([2672, 47, 20]), Val: torch.Size([2672, 47, 20]), Test: torch.Size([3518, 47, 20])\n",
      "Error in fold fold_1: Target size (torch.Size([64, 6])) must be the same as input size (torch.Size([64, 1]))\n",
      "📥 Loading /kaggle/input/ai-dataimputedataset-k-fold/2019-04/fold_2/processed_train.csv\n",
      "📥 Loading /kaggle/input/ai-dataimputedataset-k-fold/2019-04/fold_2/processed_val.csv\n",
      "📥 Loading /kaggle/input/ai-dataimputedataset-k-fold/2019-04/fold_2/merged_test.csv\n",
      "Creating lag features for train set with lags: [5, 8]\n",
      "Creating lag features for val set with lags: [5, 8]\n",
      "Creating lag features for test set with lags: [5, 8]\n",
      "Creating rolling stats for train set with windows: [22, 3, 7]\n",
      "Creating rolling stats for val set with windows: [22, 3, 7]\n",
      "Creating rolling stats for test set with windows: [22, 3, 7]\n",
      "Using 20 features: ['TCW', 'TCLW', 'R250', 'R500', 'R850', 'U850', 'V850', 'EWSS', 'KX', 'CAPE', 'SSHF', 'PEV', 'AWS_lag5', 'AWS_lag8', 'AWS_rollmean_22', 'AWS_rollstd_22', 'AWS_rollmean_3', 'AWS_rollstd_3', 'AWS_rollmean_7', 'AWS_rollstd_7']\n",
      "✅ Data shapes - Train: torch.Size([8016, 47, 20]), Val: torch.Size([2672, 47, 20]), Test: torch.Size([3518, 47, 20])\n",
      "Error in fold fold_2: Target size (torch.Size([64, 6])) must be the same as input size (torch.Size([64, 1]))\n",
      "📥 Loading /kaggle/input/ai-dataimputedataset-k-fold/2019-04/fold_3/processed_train.csv\n",
      "📥 Loading /kaggle/input/ai-dataimputedataset-k-fold/2019-04/fold_3/processed_val.csv\n",
      "📥 Loading /kaggle/input/ai-dataimputedataset-k-fold/2019-04/fold_3/merged_test.csv\n",
      "Creating lag features for train set with lags: [5, 8]\n",
      "Creating lag features for val set with lags: [5, 8]\n",
      "Creating lag features for test set with lags: [5, 8]\n",
      "Creating rolling stats for train set with windows: [22, 3, 7]\n",
      "Creating rolling stats for val set with windows: [22, 3, 7]\n",
      "Creating rolling stats for test set with windows: [22, 3, 7]\n",
      "Using 20 features: ['TCW', 'TCLW', 'R250', 'R500', 'R850', 'U850', 'V850', 'EWSS', 'KX', 'CAPE', 'SSHF', 'PEV', 'AWS_lag5', 'AWS_lag8', 'AWS_rollmean_22', 'AWS_rollstd_22', 'AWS_rollmean_3', 'AWS_rollstd_3', 'AWS_rollmean_7', 'AWS_rollstd_7']\n",
      "✅ Data shapes - Train: torch.Size([13360, 47, 20]), Val: torch.Size([2672, 47, 20]), Test: torch.Size([3518, 47, 20])\n",
      "Error in fold fold_3: Target size (torch.Size([64, 6])) must be the same as input size (torch.Size([64, 1]))\n",
      "📥 Loading /kaggle/input/ai-dataimputedataset-k-fold/2019-04/fold_4/processed_train.csv\n",
      "📥 Loading /kaggle/input/ai-dataimputedataset-k-fold/2019-04/fold_4/processed_val.csv\n",
      "📥 Loading /kaggle/input/ai-dataimputedataset-k-fold/2019-04/fold_4/merged_test.csv\n",
      "Creating lag features for train set with lags: [5, 8]\n",
      "Creating lag features for val set with lags: [5, 8]\n",
      "Creating lag features for test set with lags: [5, 8]\n",
      "Creating rolling stats for train set with windows: [22, 3, 7]\n",
      "Creating rolling stats for val set with windows: [22, 3, 7]\n",
      "Creating rolling stats for test set with windows: [22, 3, 7]\n",
      "Using 20 features: ['TCW', 'TCLW', 'R250', 'R500', 'R850', 'U850', 'V850', 'EWSS', 'KX', 'CAPE', 'SSHF', 'PEV', 'AWS_lag5', 'AWS_lag8', 'AWS_rollmean_22', 'AWS_rollstd_22', 'AWS_rollmean_3', 'AWS_rollstd_3', 'AWS_rollmean_7', 'AWS_rollstd_7']\n",
      "✅ Data shapes - Train: torch.Size([18704, 47, 20]), Val: torch.Size([2672, 47, 20]), Test: torch.Size([3518, 47, 20])\n",
      "Error in fold fold_4: Target size (torch.Size([64, 6])) must be the same as input size (torch.Size([64, 1]))\n",
      "📥 Loading /kaggle/input/ai-dataimputedataset-k-fold/2019-04/fold_5/processed_train.csv\n",
      "📥 Loading /kaggle/input/ai-dataimputedataset-k-fold/2019-04/fold_5/processed_val.csv\n",
      "📥 Loading /kaggle/input/ai-dataimputedataset-k-fold/2019-04/fold_5/merged_test.csv\n",
      "Creating lag features for train set with lags: [5, 8]\n",
      "Creating lag features for val set with lags: [5, 8]\n",
      "Creating lag features for test set with lags: [5, 8]\n",
      "Creating rolling stats for train set with windows: [22, 3, 7]\n",
      "Creating rolling stats for val set with windows: [22, 3, 7]\n",
      "Creating rolling stats for test set with windows: [22, 3, 7]\n",
      "Using 20 features: ['TCW', 'TCLW', 'R250', 'R500', 'R850', 'U850', 'V850', 'EWSS', 'KX', 'CAPE', 'SSHF', 'PEV', 'AWS_lag5', 'AWS_lag8', 'AWS_rollmean_22', 'AWS_rollstd_22', 'AWS_rollmean_3', 'AWS_rollstd_3', 'AWS_rollmean_7', 'AWS_rollstd_7']\n"
     ]
    },
    {
     "name": "stderr",
     "output_type": "stream",
     "text": [
      "[I 2025-04-23 16:29:52,550] Trial 0 finished with value: inf and parameters: {'hidden_size': 218, 'num_layers': 2, 'dropout': 0.2357369830035339, 'lr': 0.0002262049708241428, 'time_step_in': 47, 'time_step_out': 6, 'stride': 6, 'binary_weight': 0.6485480579528948, 'intensity_weight': 1.3147993682049501, 'regression_weight': 0.8944303970857828, 'rain_threshold': 0.17846345895484356, 'num_lags': 2, 'lag_0': 5, 'lag_1': 8, 'num_windows': 3, 'window_0': 22, 'window_1': 3, 'window_2': 7}. Best is trial 0 with value: inf.\n"
     ]
    },
    {
     "name": "stdout",
     "output_type": "stream",
     "text": [
      "✅ Data shapes - Train: torch.Size([24048, 47, 20]), Val: torch.Size([2672, 47, 20]), Test: torch.Size([3518, 47, 20])\n",
      "Error in fold fold_5: Target size (torch.Size([64, 6])) must be the same as input size (torch.Size([64, 1]))\n",
      "Creating lag features for train set with lags: [12, 3, 6]\n",
      "Creating lag features for val set with lags: [12, 3, 6]\n",
      "Creating lag features for test set with lags: [12, 3, 6]\n",
      "Creating rolling stats for train set with windows: [24]\n",
      "Creating rolling stats for val set with windows: [24]\n",
      "Creating rolling stats for test set with windows: [24]\n",
      "Using 17 features: ['TCW', 'TCLW', 'R250', 'R500', 'R850', 'U850', 'V850', 'EWSS', 'KX', 'CAPE', 'SSHF', 'PEV', 'AWS_lag12', 'AWS_lag3', 'AWS_lag6', 'AWS_rollmean_24', 'AWS_rollstd_24']\n",
      "✅ Data shapes - Train: torch.Size([4342, 26, 17]), Val: torch.Size([4342, 26, 17]), Test: torch.Size([5169, 26, 17])\n",
      "Error in fold fold_1: Target size (torch.Size([64, 6])) must be the same as input size (torch.Size([64, 1]))\n",
      "Creating lag features for train set with lags: [12, 3, 6]\n",
      "Creating lag features for val set with lags: [12, 3, 6]\n",
      "Creating lag features for test set with lags: [12, 3, 6]\n"
     ]
    },
    {
     "name": "stderr",
     "output_type": "stream",
     "text": [
      "/usr/local/lib/python3.10/dist-packages/torch/nn/modules/rnn.py:123: UserWarning: dropout option adds dropout after all but last recurrent layer, so non-zero dropout expects num_layers greater than 1, but got dropout=0.03301750481353877 and num_layers=1\n",
      "  warnings.warn(\n"
     ]
    },
    {
     "name": "stdout",
     "output_type": "stream",
     "text": [
      "Creating rolling stats for train set with windows: [24]\n",
      "Creating rolling stats for val set with windows: [24]\n",
      "Creating rolling stats for test set with windows: [24]\n",
      "Using 17 features: ['TCW', 'TCLW', 'R250', 'R500', 'R850', 'U850', 'V850', 'EWSS', 'KX', 'CAPE', 'SSHF', 'PEV', 'AWS_lag12', 'AWS_lag3', 'AWS_lag6', 'AWS_rollmean_24', 'AWS_rollstd_24']\n",
      "✅ Data shapes - Train: torch.Size([11022, 26, 17]), Val: torch.Size([4342, 26, 17]), Test: torch.Size([5169, 26, 17])\n",
      "Error in fold fold_2: Target size (torch.Size([64, 6])) must be the same as input size (torch.Size([64, 1]))\n",
      "Creating lag features for train set with lags: [12, 3, 6]\n",
      "Creating lag features for val set with lags: [12, 3, 6]\n"
     ]
    },
    {
     "name": "stderr",
     "output_type": "stream",
     "text": [
      "/usr/local/lib/python3.10/dist-packages/torch/nn/modules/rnn.py:123: UserWarning: dropout option adds dropout after all but last recurrent layer, so non-zero dropout expects num_layers greater than 1, but got dropout=0.03301750481353877 and num_layers=1\n",
      "  warnings.warn(\n"
     ]
    },
    {
     "name": "stdout",
     "output_type": "stream",
     "text": [
      "Creating lag features for test set with lags: [12, 3, 6]\n",
      "Creating rolling stats for train set with windows: [24]\n",
      "Creating rolling stats for val set with windows: [24]\n",
      "Creating rolling stats for test set with windows: [24]\n",
      "Using 17 features: ['TCW', 'TCLW', 'R250', 'R500', 'R850', 'U850', 'V850', 'EWSS', 'KX', 'CAPE', 'SSHF', 'PEV', 'AWS_lag12', 'AWS_lag3', 'AWS_lag6', 'AWS_rollmean_24', 'AWS_rollstd_24']\n",
      "✅ Data shapes - Train: torch.Size([17368, 26, 17]), Val: torch.Size([4342, 26, 17]), Test: torch.Size([5169, 26, 17])\n",
      "Error in fold fold_3: Target size (torch.Size([64, 6])) must be the same as input size (torch.Size([64, 1]))\n",
      "Creating lag features for train set with lags: [12, 3, 6]\n",
      "Creating lag features for val set with lags: [12, 3, 6]\n"
     ]
    },
    {
     "name": "stderr",
     "output_type": "stream",
     "text": [
      "/usr/local/lib/python3.10/dist-packages/torch/nn/modules/rnn.py:123: UserWarning: dropout option adds dropout after all but last recurrent layer, so non-zero dropout expects num_layers greater than 1, but got dropout=0.03301750481353877 and num_layers=1\n",
      "  warnings.warn(\n"
     ]
    },
    {
     "name": "stdout",
     "output_type": "stream",
     "text": [
      "Creating lag features for test set with lags: [12, 3, 6]\n",
      "Creating rolling stats for train set with windows: [24]\n",
      "Creating rolling stats for val set with windows: [24]\n",
      "Creating rolling stats for test set with windows: [24]\n",
      "Using 17 features: ['TCW', 'TCLW', 'R250', 'R500', 'R850', 'U850', 'V850', 'EWSS', 'KX', 'CAPE', 'SSHF', 'PEV', 'AWS_lag12', 'AWS_lag3', 'AWS_lag6', 'AWS_rollmean_24', 'AWS_rollstd_24']\n",
      "✅ Data shapes - Train: torch.Size([23714, 26, 17]), Val: torch.Size([4342, 26, 17]), Test: torch.Size([5169, 26, 17])\n",
      "Error in fold fold_4: Target size (torch.Size([64, 6])) must be the same as input size (torch.Size([64, 1]))\n",
      "Creating lag features for train set with lags: [12, 3, 6]\n",
      "Creating lag features for val set with lags: [12, 3, 6]\n"
     ]
    },
    {
     "name": "stderr",
     "output_type": "stream",
     "text": [
      "/usr/local/lib/python3.10/dist-packages/torch/nn/modules/rnn.py:123: UserWarning: dropout option adds dropout after all but last recurrent layer, so non-zero dropout expects num_layers greater than 1, but got dropout=0.03301750481353877 and num_layers=1\n",
      "  warnings.warn(\n"
     ]
    },
    {
     "name": "stdout",
     "output_type": "stream",
     "text": [
      "Creating lag features for test set with lags: [12, 3, 6]\n",
      "Creating rolling stats for train set with windows: [24]\n",
      "Creating rolling stats for val set with windows: [24]\n",
      "Creating rolling stats for test set with windows: [24]\n",
      "Using 17 features: ['TCW', 'TCLW', 'R250', 'R500', 'R850', 'U850', 'V850', 'EWSS', 'KX', 'CAPE', 'SSHF', 'PEV', 'AWS_lag12', 'AWS_lag3', 'AWS_lag6', 'AWS_rollmean_24', 'AWS_rollstd_24']\n"
     ]
    },
    {
     "name": "stderr",
     "output_type": "stream",
     "text": [
      "/usr/local/lib/python3.10/dist-packages/torch/nn/modules/rnn.py:123: UserWarning: dropout option adds dropout after all but last recurrent layer, so non-zero dropout expects num_layers greater than 1, but got dropout=0.03301750481353877 and num_layers=1\n",
      "  warnings.warn(\n",
      "[I 2025-04-23 16:30:13,087] Trial 1 finished with value: inf and parameters: {'hidden_size': 208, 'num_layers': 1, 'dropout': 0.03301750481353877, 'lr': 0.003908649113730439, 'time_step_in': 26, 'time_step_out': 6, 'stride': 5, 'binary_weight': 0.5194013785211008, 'intensity_weight': 1.4147882647086192, 'regression_weight': 1.2633403517694457, 'rain_threshold': 0.17681305753082133, 'num_lags': 3, 'lag_0': 12, 'lag_1': 3, 'lag_2': 6, 'num_windows': 1, 'window_0': 24}. Best is trial 0 with value: inf.\n"
     ]
    },
    {
     "name": "stdout",
     "output_type": "stream",
     "text": [
      "✅ Data shapes - Train: torch.Size([30060, 26, 17]), Val: torch.Size([4342, 26, 17]), Test: torch.Size([5169, 26, 17])\n",
      "Error in fold fold_5: Target size (torch.Size([64, 6])) must be the same as input size (torch.Size([64, 1]))\n",
      "Creating lag features for train set with lags: [11, 12]\n",
      "Creating lag features for val set with lags: [11, 12]\n",
      "Creating lag features for test set with lags: [11, 12]\n",
      "Creating rolling stats for train set with windows: [8, 9, 8]\n",
      "Creating rolling stats for val set with windows: [8, 9, 8]\n",
      "Creating rolling stats for test set with windows: [8, 9, 8]\n",
      "Using 20 features: ['TCW', 'TCLW', 'R250', 'R500', 'R850', 'U850', 'V850', 'EWSS', 'KX', 'CAPE', 'SSHF', 'PEV', 'AWS_lag11', 'AWS_lag12', 'AWS_rollmean_8', 'AWS_rollstd_8', 'AWS_rollmean_9', 'AWS_rollstd_9', 'AWS_rollmean_8', 'AWS_rollstd_8']\n",
      "✅ Data shapes - Train: torch.Size([4342, 31, 20]), Val: torch.Size([4342, 31, 20]), Test: torch.Size([4949, 31, 20])\n",
      "Error in fold fold_1: Target size (torch.Size([64, 4])) must be the same as input size (torch.Size([64, 1]))\n",
      "Creating lag features for train set with lags: [11, 12]\n",
      "Creating lag features for val set with lags: [11, 12]\n",
      "Creating lag features for test set with lags: [11, 12]\n",
      "Creating rolling stats for train set with windows: [8, 9, 8]\n",
      "Creating rolling stats for val set with windows: [8, 9, 8]\n",
      "Creating rolling stats for test set with windows: [8, 9, 8]\n",
      "Using 20 features: ['TCW', 'TCLW', 'R250', 'R500', 'R850', 'U850', 'V850', 'EWSS', 'KX', 'CAPE', 'SSHF', 'PEV', 'AWS_lag11', 'AWS_lag12', 'AWS_rollmean_8', 'AWS_rollstd_8', 'AWS_rollmean_9', 'AWS_rollstd_9', 'AWS_rollmean_8', 'AWS_rollstd_8']\n",
      "✅ Data shapes - Train: torch.Size([10688, 31, 20]), Val: torch.Size([4342, 31, 20]), Test: torch.Size([4949, 31, 20])\n",
      "Error in fold fold_2: Target size (torch.Size([64, 4])) must be the same as input size (torch.Size([64, 1]))\n",
      "Creating lag features for train set with lags: [11, 12]\n",
      "Creating lag features for val set with lags: [11, 12]\n",
      "Creating lag features for test set with lags: [11, 12]\n",
      "Creating rolling stats for train set with windows: [8, 9, 8]\n",
      "Creating rolling stats for val set with windows: [8, 9, 8]\n",
      "Creating rolling stats for test set with windows: [8, 9, 8]\n",
      "Using 20 features: ['TCW', 'TCLW', 'R250', 'R500', 'R850', 'U850', 'V850', 'EWSS', 'KX', 'CAPE', 'SSHF', 'PEV', 'AWS_lag11', 'AWS_lag12', 'AWS_rollmean_8', 'AWS_rollstd_8', 'AWS_rollmean_9', 'AWS_rollstd_9', 'AWS_rollmean_8', 'AWS_rollstd_8']\n",
      "✅ Data shapes - Train: torch.Size([17034, 31, 20]), Val: torch.Size([4342, 31, 20]), Test: torch.Size([4949, 31, 20])\n",
      "Error in fold fold_3: Target size (torch.Size([64, 4])) must be the same as input size (torch.Size([64, 1]))\n",
      "Creating lag features for train set with lags: [11, 12]\n",
      "Creating lag features for val set with lags: [11, 12]\n",
      "Creating lag features for test set with lags: [11, 12]\n",
      "Creating rolling stats for train set with windows: [8, 9, 8]\n",
      "Creating rolling stats for val set with windows: [8, 9, 8]\n",
      "Creating rolling stats for test set with windows: [8, 9, 8]\n",
      "Using 20 features: ['TCW', 'TCLW', 'R250', 'R500', 'R850', 'U850', 'V850', 'EWSS', 'KX', 'CAPE', 'SSHF', 'PEV', 'AWS_lag11', 'AWS_lag12', 'AWS_rollmean_8', 'AWS_rollstd_8', 'AWS_rollmean_9', 'AWS_rollstd_9', 'AWS_rollmean_8', 'AWS_rollstd_8']\n",
      "✅ Data shapes - Train: torch.Size([23380, 31, 20]), Val: torch.Size([4342, 31, 20]), Test: torch.Size([4949, 31, 20])\n",
      "Error in fold fold_4: Target size (torch.Size([64, 4])) must be the same as input size (torch.Size([64, 1]))\n",
      "Creating lag features for train set with lags: [11, 12]\n",
      "Creating lag features for val set with lags: [11, 12]\n",
      "Creating lag features for test set with lags: [11, 12]\n",
      "Creating rolling stats for train set with windows: [8, 9, 8]\n",
      "Creating rolling stats for val set with windows: [8, 9, 8]\n",
      "Creating rolling stats for test set with windows: [8, 9, 8]\n",
      "Using 20 features: ['TCW', 'TCLW', 'R250', 'R500', 'R850', 'U850', 'V850', 'EWSS', 'KX', 'CAPE', 'SSHF', 'PEV', 'AWS_lag11', 'AWS_lag12', 'AWS_rollmean_8', 'AWS_rollstd_8', 'AWS_rollmean_9', 'AWS_rollstd_9', 'AWS_rollmean_8', 'AWS_rollstd_8']\n"
     ]
    },
    {
     "name": "stderr",
     "output_type": "stream",
     "text": [
      "[I 2025-04-23 16:30:42,799] Trial 2 finished with value: inf and parameters: {'hidden_size': 165, 'num_layers': 3, 'dropout': 0.37554135180711723, 'lr': 0.0013006787366344088, 'time_step_in': 31, 'time_step_out': 4, 'stride': 5, 'binary_weight': 1.411052401759225, 'intensity_weight': 1.6110502336103414, 'regression_weight': 1.9728431250628309, 'rain_threshold': 0.05833371201471907, 'num_lags': 2, 'lag_0': 11, 'lag_1': 12, 'num_windows': 3, 'window_0': 8, 'window_1': 9, 'window_2': 8}. Best is trial 0 with value: inf.\n"
     ]
    },
    {
     "name": "stdout",
     "output_type": "stream",
     "text": [
      "✅ Data shapes - Train: torch.Size([30060, 31, 20]), Val: torch.Size([4342, 31, 20]), Test: torch.Size([4949, 31, 20])\n",
      "Error in fold fold_5: Target size (torch.Size([64, 4])) must be the same as input size (torch.Size([64, 1]))\n",
      "Creating lag features for train set with lags: [11]\n",
      "Creating lag features for val set with lags: [11]\n",
      "Creating lag features for test set with lags: [11]\n",
      "Creating rolling stats for train set with windows: [16, 15]\n",
      "Creating rolling stats for val set with windows: [16, 15]\n",
      "Creating rolling stats for test set with windows: [16, 15]\n",
      "Using 17 features: ['TCW', 'TCLW', 'R250', 'R500', 'R850', 'U850', 'V850', 'EWSS', 'KX', 'CAPE', 'SSHF', 'PEV', 'AWS_lag11', 'AWS_rollmean_16', 'AWS_rollstd_16', 'AWS_rollmean_15', 'AWS_rollstd_15']\n",
      "✅ Data shapes - Train: torch.Size([6680, 16, 17]), Val: torch.Size([6680, 16, 17]), Test: torch.Size([7278, 16, 17])\n",
      "Error in fold fold_1: Target size (torch.Size([64, 2])) must be the same as input size (torch.Size([64, 1]))\n",
      "Creating lag features for train set with lags: [11]\n",
      "Creating lag features for val set with lags: [11]\n",
      "Creating lag features for test set with lags: [11]\n"
     ]
    },
    {
     "name": "stderr",
     "output_type": "stream",
     "text": [
      "/usr/local/lib/python3.10/dist-packages/torch/nn/modules/rnn.py:123: UserWarning: dropout option adds dropout after all but last recurrent layer, so non-zero dropout expects num_layers greater than 1, but got dropout=0.4840317676237174 and num_layers=1\n",
      "  warnings.warn(\n"
     ]
    },
    {
     "name": "stdout",
     "output_type": "stream",
     "text": [
      "Creating rolling stats for train set with windows: [16, 15]\n",
      "Creating rolling stats for val set with windows: [16, 15]\n",
      "Creating rolling stats for test set with windows: [16, 15]\n",
      "Using 17 features: ['TCW', 'TCLW', 'R250', 'R500', 'R850', 'U850', 'V850', 'EWSS', 'KX', 'CAPE', 'SSHF', 'PEV', 'AWS_lag11', 'AWS_rollmean_16', 'AWS_rollstd_16', 'AWS_rollmean_15', 'AWS_rollstd_15']\n",
      "✅ Data shapes - Train: torch.Size([14696, 16, 17]), Val: torch.Size([6680, 16, 17]), Test: torch.Size([7278, 16, 17])\n",
      "Error in fold fold_2: Target size (torch.Size([64, 2])) must be the same as input size (torch.Size([64, 1]))\n",
      "Creating lag features for train set with lags: [11]\n",
      "Creating lag features for val set with lags: [11]\n",
      "Creating lag features for test set with lags: [11]\n"
     ]
    },
    {
     "name": "stderr",
     "output_type": "stream",
     "text": [
      "/usr/local/lib/python3.10/dist-packages/torch/nn/modules/rnn.py:123: UserWarning: dropout option adds dropout after all but last recurrent layer, so non-zero dropout expects num_layers greater than 1, but got dropout=0.4840317676237174 and num_layers=1\n",
      "  warnings.warn(\n"
     ]
    },
    {
     "name": "stdout",
     "output_type": "stream",
     "text": [
      "Creating rolling stats for train set with windows: [16, 15]\n",
      "Creating rolling stats for val set with windows: [16, 15]\n",
      "Creating rolling stats for test set with windows: [16, 15]\n",
      "Using 17 features: ['TCW', 'TCLW', 'R250', 'R500', 'R850', 'U850', 'V850', 'EWSS', 'KX', 'CAPE', 'SSHF', 'PEV', 'AWS_lag11', 'AWS_rollmean_16', 'AWS_rollstd_16', 'AWS_rollmean_15', 'AWS_rollstd_15']\n",
      "✅ Data shapes - Train: torch.Size([22712, 16, 17]), Val: torch.Size([6680, 16, 17]), Test: torch.Size([7278, 16, 17])\n",
      "Error in fold fold_3: Target size (torch.Size([64, 2])) must be the same as input size (torch.Size([64, 1]))\n",
      "Creating lag features for train set with lags: [11]\n",
      "Creating lag features for val set with lags: [11]\n"
     ]
    },
    {
     "name": "stderr",
     "output_type": "stream",
     "text": [
      "/usr/local/lib/python3.10/dist-packages/torch/nn/modules/rnn.py:123: UserWarning: dropout option adds dropout after all but last recurrent layer, so non-zero dropout expects num_layers greater than 1, but got dropout=0.4840317676237174 and num_layers=1\n",
      "  warnings.warn(\n"
     ]
    },
    {
     "name": "stdout",
     "output_type": "stream",
     "text": [
      "Creating lag features for test set with lags: [11]\n",
      "Creating rolling stats for train set with windows: [16, 15]\n",
      "Creating rolling stats for val set with windows: [16, 15]\n",
      "Creating rolling stats for test set with windows: [16, 15]\n",
      "Using 17 features: ['TCW', 'TCLW', 'R250', 'R500', 'R850', 'U850', 'V850', 'EWSS', 'KX', 'CAPE', 'SSHF', 'PEV', 'AWS_lag11', 'AWS_rollmean_16', 'AWS_rollstd_16', 'AWS_rollmean_15', 'AWS_rollstd_15']\n",
      "✅ Data shapes - Train: torch.Size([30728, 16, 17]), Val: torch.Size([6680, 16, 17]), Test: torch.Size([7278, 16, 17])\n",
      "Error in fold fold_4: Target size (torch.Size([64, 2])) must be the same as input size (torch.Size([64, 1]))\n",
      "Creating lag features for train set with lags: [11]\n",
      "Creating lag features for val set with lags: [11]\n"
     ]
    },
    {
     "name": "stderr",
     "output_type": "stream",
     "text": [
      "/usr/local/lib/python3.10/dist-packages/torch/nn/modules/rnn.py:123: UserWarning: dropout option adds dropout after all but last recurrent layer, so non-zero dropout expects num_layers greater than 1, but got dropout=0.4840317676237174 and num_layers=1\n",
      "  warnings.warn(\n"
     ]
    },
    {
     "name": "stdout",
     "output_type": "stream",
     "text": [
      "Creating lag features for test set with lags: [11]\n",
      "Creating rolling stats for train set with windows: [16, 15]\n",
      "Creating rolling stats for val set with windows: [16, 15]\n",
      "Creating rolling stats for test set with windows: [16, 15]\n",
      "Using 17 features: ['TCW', 'TCLW', 'R250', 'R500', 'R850', 'U850', 'V850', 'EWSS', 'KX', 'CAPE', 'SSHF', 'PEV', 'AWS_lag11', 'AWS_rollmean_16', 'AWS_rollstd_16', 'AWS_rollmean_15', 'AWS_rollstd_15']\n"
     ]
    },
    {
     "name": "stderr",
     "output_type": "stream",
     "text": [
      "/usr/local/lib/python3.10/dist-packages/torch/nn/modules/rnn.py:123: UserWarning: dropout option adds dropout after all but last recurrent layer, so non-zero dropout expects num_layers greater than 1, but got dropout=0.4840317676237174 and num_layers=1\n",
      "  warnings.warn(\n",
      "[I 2025-04-23 16:31:04,209] Trial 3 finished with value: inf and parameters: {'hidden_size': 129, 'num_layers': 1, 'dropout': 0.4840317676237174, 'lr': 0.0017199102448687094, 'time_step_in': 16, 'time_step_out': 2, 'stride': 4, 'binary_weight': 0.6103316258692826, 'intensity_weight': 1.4314316502661832, 'regression_weight': 1.302386929895223, 'rain_threshold': 0.1188777013837532, 'num_lags': 1, 'lag_0': 11, 'num_windows': 2, 'window_0': 16, 'window_1': 15}. Best is trial 0 with value: inf.\n"
     ]
    },
    {
     "name": "stdout",
     "output_type": "stream",
     "text": [
      "✅ Data shapes - Train: torch.Size([38744, 16, 17]), Val: torch.Size([6680, 16, 17]), Test: torch.Size([7278, 16, 17])\n",
      "Error in fold fold_5: Target size (torch.Size([64, 2])) must be the same as input size (torch.Size([64, 1]))\n",
      "Creating lag features for train set with lags: [8]\n",
      "Creating lag features for val set with lags: [8]\n",
      "Creating lag features for test set with lags: [8]\n",
      "Creating rolling stats for train set with windows: [16, 23]\n",
      "Creating rolling stats for val set with windows: [16, 23]\n",
      "Creating rolling stats for test set with windows: [16, 23]\n",
      "Using 17 features: ['TCW', 'TCLW', 'R250', 'R500', 'R850', 'U850', 'V850', 'EWSS', 'KX', 'CAPE', 'SSHF', 'PEV', 'AWS_lag8', 'AWS_rollmean_16', 'AWS_rollstd_16', 'AWS_rollmean_23', 'AWS_rollstd_23']\n",
      "✅ Data shapes - Train: torch.Size([5010, 39, 17]), Val: torch.Size([5010, 39, 17]), Test: torch.Size([5982, 39, 17])\n"
     ]
    },
    {
     "name": "stderr",
     "output_type": "stream",
     "text": [
      "/usr/local/lib/python3.10/dist-packages/torch/nn/modules/rnn.py:123: UserWarning: dropout option adds dropout after all but last recurrent layer, so non-zero dropout expects num_layers greater than 1, but got dropout=0.2404630955650841 and num_layers=1\n",
      "  warnings.warn(\n"
     ]
    },
    {
     "name": "stdout",
     "output_type": "stream",
     "text": [
      "Error in fold fold_1: Expected input batch_size (1) to match target batch_size (0).\n",
      "Creating lag features for train set with lags: [8]\n",
      "Creating lag features for val set with lags: [8]\n",
      "Creating lag features for test set with lags: [8]\n",
      "Creating rolling stats for train set with windows: [16, 23]\n",
      "Creating rolling stats for val set with windows: [16, 23]\n",
      "Creating rolling stats for test set with windows: [16, 23]\n",
      "Using 17 features: ['TCW', 'TCLW', 'R250', 'R500', 'R850', 'U850', 'V850', 'EWSS', 'KX', 'CAPE', 'SSHF', 'PEV', 'AWS_lag8', 'AWS_rollmean_16', 'AWS_rollstd_16', 'AWS_rollmean_23', 'AWS_rollstd_23']\n",
      "✅ Data shapes - Train: torch.Size([13026, 39, 17]), Val: torch.Size([5010, 39, 17]), Test: torch.Size([5982, 39, 17])\n",
      "Error in fold fold_2: Expected input batch_size (1) to match target batch_size (0).\n",
      "Creating lag features for train set with lags: [8]\n",
      "Creating lag features for val set with lags: [8]\n"
     ]
    },
    {
     "name": "stderr",
     "output_type": "stream",
     "text": [
      "/usr/local/lib/python3.10/dist-packages/torch/nn/modules/rnn.py:123: UserWarning: dropout option adds dropout after all but last recurrent layer, so non-zero dropout expects num_layers greater than 1, but got dropout=0.2404630955650841 and num_layers=1\n",
      "  warnings.warn(\n"
     ]
    },
    {
     "name": "stdout",
     "output_type": "stream",
     "text": [
      "Creating lag features for test set with lags: [8]\n",
      "Creating rolling stats for train set with windows: [16, 23]\n",
      "Creating rolling stats for val set with windows: [16, 23]\n",
      "Creating rolling stats for test set with windows: [16, 23]\n",
      "Using 17 features: ['TCW', 'TCLW', 'R250', 'R500', 'R850', 'U850', 'V850', 'EWSS', 'KX', 'CAPE', 'SSHF', 'PEV', 'AWS_lag8', 'AWS_rollmean_16', 'AWS_rollstd_16', 'AWS_rollmean_23', 'AWS_rollstd_23']\n",
      "✅ Data shapes - Train: torch.Size([21042, 39, 17]), Val: torch.Size([5010, 39, 17]), Test: torch.Size([5982, 39, 17])\n",
      "Error in fold fold_3: Expected input batch_size (1) to match target batch_size (0).\n",
      "Creating lag features for train set with lags: [8]\n",
      "Creating lag features for val set with lags: [8]\n"
     ]
    },
    {
     "name": "stderr",
     "output_type": "stream",
     "text": [
      "/usr/local/lib/python3.10/dist-packages/torch/nn/modules/rnn.py:123: UserWarning: dropout option adds dropout after all but last recurrent layer, so non-zero dropout expects num_layers greater than 1, but got dropout=0.2404630955650841 and num_layers=1\n",
      "  warnings.warn(\n"
     ]
    },
    {
     "name": "stdout",
     "output_type": "stream",
     "text": [
      "Creating lag features for test set with lags: [8]\n",
      "Creating rolling stats for train set with windows: [16, 23]\n",
      "Creating rolling stats for val set with windows: [16, 23]\n",
      "Creating rolling stats for test set with windows: [16, 23]\n",
      "Using 17 features: ['TCW', 'TCLW', 'R250', 'R500', 'R850', 'U850', 'V850', 'EWSS', 'KX', 'CAPE', 'SSHF', 'PEV', 'AWS_lag8', 'AWS_rollmean_16', 'AWS_rollstd_16', 'AWS_rollmean_23', 'AWS_rollstd_23']\n",
      "✅ Data shapes - Train: torch.Size([29058, 39, 17]), Val: torch.Size([5010, 39, 17]), Test: torch.Size([5982, 39, 17])\n",
      "Error in fold fold_4: Expected input batch_size (1) to match target batch_size (0).\n",
      "Creating lag features for train set with lags: [8]\n",
      "Creating lag features for val set with lags: [8]\n"
     ]
    },
    {
     "name": "stderr",
     "output_type": "stream",
     "text": [
      "/usr/local/lib/python3.10/dist-packages/torch/nn/modules/rnn.py:123: UserWarning: dropout option adds dropout after all but last recurrent layer, so non-zero dropout expects num_layers greater than 1, but got dropout=0.2404630955650841 and num_layers=1\n",
      "  warnings.warn(\n"
     ]
    },
    {
     "name": "stdout",
     "output_type": "stream",
     "text": [
      "Creating lag features for test set with lags: [8]\n",
      "Creating rolling stats for train set with windows: [16, 23]\n",
      "Creating rolling stats for val set with windows: [16, 23]\n",
      "Creating rolling stats for test set with windows: [16, 23]\n",
      "Using 17 features: ['TCW', 'TCLW', 'R250', 'R500', 'R850', 'U850', 'V850', 'EWSS', 'KX', 'CAPE', 'SSHF', 'PEV', 'AWS_lag8', 'AWS_rollmean_16', 'AWS_rollstd_16', 'AWS_rollmean_23', 'AWS_rollstd_23']\n",
      "✅ Data shapes - Train: torch.Size([37074, 39, 17]), Val: torch.Size([5010, 39, 17]), Test: torch.Size([5982, 39, 17])\n"
     ]
    },
    {
     "name": "stderr",
     "output_type": "stream",
     "text": [
      "/usr/local/lib/python3.10/dist-packages/torch/nn/modules/rnn.py:123: UserWarning: dropout option adds dropout after all but last recurrent layer, so non-zero dropout expects num_layers greater than 1, but got dropout=0.2404630955650841 and num_layers=1\n",
      "  warnings.warn(\n",
      "[I 2025-04-23 16:31:39,196] Trial 4 finished with value: inf and parameters: {'hidden_size': 58, 'num_layers': 1, 'dropout': 0.2404630955650841, 'lr': 0.0019618937285080028, 'time_step_in': 39, 'time_step_out': 1, 'stride': 4, 'binary_weight': 1.7365209086366717, 'intensity_weight': 0.7611316846467445, 'regression_weight': 0.9912699010964052, 'rain_threshold': 0.11612150604216351, 'num_lags': 1, 'lag_0': 8, 'num_windows': 2, 'window_0': 16, 'window_1': 23}. Best is trial 0 with value: inf.\n"
     ]
    },
    {
     "name": "stdout",
     "output_type": "stream",
     "text": [
      "Error in fold fold_5: Expected input batch_size (1) to match target batch_size (0).\n",
      "Creating lag features for train set with lags: [3, 3]\n",
      "Creating lag features for val set with lags: [3, 3]\n",
      "Creating lag features for test set with lags: [3, 3]\n",
      "Creating rolling stats for train set with windows: [22]\n",
      "Creating rolling stats for val set with windows: [22]\n",
      "Creating rolling stats for test set with windows: [22]\n",
      "Using 16 features: ['TCW', 'TCLW', 'R250', 'R500', 'R850', 'U850', 'V850', 'EWSS', 'KX', 'CAPE', 'SSHF', 'PEV', 'AWS_lag3', 'AWS_lag3', 'AWS_rollmean_22', 'AWS_rollstd_22']\n",
      "✅ Data shapes - Train: torch.Size([3674, 31, 16]), Val: torch.Size([3674, 31, 16]), Test: torch.Size([4284, 31, 16])\n"
     ]
    },
    {
     "name": "stderr",
     "output_type": "stream",
     "text": [
      "/usr/local/lib/python3.10/dist-packages/torch/nn/modules/rnn.py:123: UserWarning: dropout option adds dropout after all but last recurrent layer, so non-zero dropout expects num_layers greater than 1, but got dropout=0.42355160658430524 and num_layers=1\n",
      "  warnings.warn(\n"
     ]
    },
    {
     "name": "stdout",
     "output_type": "stream",
     "text": [
      "  🌀 Epoch 1/5, Total Loss: 9.2207, Binary: 0.6595, Intensity: 1.0502, Regression: 5.5606\n",
      "  🌀 Epoch 2/5, Total Loss: 8.3276, Binary: 0.6513, Intensity: 0.6218, Regression: 5.1666\n",
      "  🌀 Epoch 3/5, Total Loss: 7.9904, Binary: 0.5859, Intensity: 0.4274, Regression: 5.0557\n",
      "  🌀 Epoch 4/5, Total Loss: 7.3212, Binary: 0.5354, Intensity: 0.3750, Regression: 4.6411\n",
      "  🌀 Epoch 5/5, Total Loss: 7.3391, Binary: 0.5081, Intensity: 0.3820, Regression: 4.6593\n",
      "Creating lag features for train set with lags: [3, 3]\n",
      "Creating lag features for val set with lags: [3, 3]\n",
      "Creating lag features for test set with lags: [3, 3]\n",
      "Creating rolling stats for train set with windows: [22]\n",
      "Creating rolling stats for val set with windows: [22]\n",
      "Creating rolling stats for test set with windows: [22]\n",
      "Using 16 features: ['TCW', 'TCLW', 'R250', 'R500', 'R850', 'U850', 'V850', 'EWSS', 'KX', 'CAPE', 'SSHF', 'PEV', 'AWS_lag3', 'AWS_lag3', 'AWS_rollmean_22', 'AWS_rollstd_22']\n",
      "✅ Data shapes - Train: torch.Size([9018, 31, 16]), Val: torch.Size([3674, 31, 16]), Test: torch.Size([4284, 31, 16])\n",
      "Error in fold fold_2: Expected input batch_size (1) to match target batch_size (0).\n",
      "Creating lag features for train set with lags: [3, 3]\n",
      "Creating lag features for val set with lags: [3, 3]\n"
     ]
    },
    {
     "name": "stderr",
     "output_type": "stream",
     "text": [
      "/usr/local/lib/python3.10/dist-packages/torch/nn/modules/rnn.py:123: UserWarning: dropout option adds dropout after all but last recurrent layer, so non-zero dropout expects num_layers greater than 1, but got dropout=0.42355160658430524 and num_layers=1\n",
      "  warnings.warn(\n"
     ]
    },
    {
     "name": "stdout",
     "output_type": "stream",
     "text": [
      "Creating lag features for test set with lags: [3, 3]\n",
      "Creating rolling stats for train set with windows: [22]\n",
      "Creating rolling stats for val set with windows: [22]\n",
      "Creating rolling stats for test set with windows: [22]\n",
      "Using 16 features: ['TCW', 'TCLW', 'R250', 'R500', 'R850', 'U850', 'V850', 'EWSS', 'KX', 'CAPE', 'SSHF', 'PEV', 'AWS_lag3', 'AWS_lag3', 'AWS_rollmean_22', 'AWS_rollstd_22']\n",
      "✅ Data shapes - Train: torch.Size([14362, 31, 16]), Val: torch.Size([3674, 31, 16]), Test: torch.Size([4284, 31, 16])\n",
      "Error in fold fold_3: Expected input batch_size (1) to match target batch_size (0).\n",
      "Creating lag features for train set with lags: [3, 3]\n",
      "Creating lag features for val set with lags: [3, 3]\n"
     ]
    },
    {
     "name": "stderr",
     "output_type": "stream",
     "text": [
      "/usr/local/lib/python3.10/dist-packages/torch/nn/modules/rnn.py:123: UserWarning: dropout option adds dropout after all but last recurrent layer, so non-zero dropout expects num_layers greater than 1, but got dropout=0.42355160658430524 and num_layers=1\n",
      "  warnings.warn(\n"
     ]
    },
    {
     "name": "stdout",
     "output_type": "stream",
     "text": [
      "Creating lag features for test set with lags: [3, 3]\n",
      "Creating rolling stats for train set with windows: [22]\n",
      "Creating rolling stats for val set with windows: [22]\n",
      "Creating rolling stats for test set with windows: [22]\n",
      "Using 16 features: ['TCW', 'TCLW', 'R250', 'R500', 'R850', 'U850', 'V850', 'EWSS', 'KX', 'CAPE', 'SSHF', 'PEV', 'AWS_lag3', 'AWS_lag3', 'AWS_rollmean_22', 'AWS_rollstd_22']\n",
      "✅ Data shapes - Train: torch.Size([19706, 31, 16]), Val: torch.Size([3674, 31, 16]), Test: torch.Size([4284, 31, 16])\n",
      "Error in fold fold_4: Expected input batch_size (1) to match target batch_size (0).\n"
     ]
    },
    {
     "name": "stderr",
     "output_type": "stream",
     "text": [
      "/usr/local/lib/python3.10/dist-packages/torch/nn/modules/rnn.py:123: UserWarning: dropout option adds dropout after all but last recurrent layer, so non-zero dropout expects num_layers greater than 1, but got dropout=0.42355160658430524 and num_layers=1\n",
      "  warnings.warn(\n"
     ]
    },
    {
     "name": "stdout",
     "output_type": "stream",
     "text": [
      "Creating lag features for train set with lags: [3, 3]\n",
      "Creating lag features for val set with lags: [3, 3]\n",
      "Creating lag features for test set with lags: [3, 3]\n",
      "Creating rolling stats for train set with windows: [22]\n",
      "Creating rolling stats for val set with windows: [22]\n",
      "Creating rolling stats for test set with windows: [22]\n",
      "Using 16 features: ['TCW', 'TCLW', 'R250', 'R500', 'R850', 'U850', 'V850', 'EWSS', 'KX', 'CAPE', 'SSHF', 'PEV', 'AWS_lag3', 'AWS_lag3', 'AWS_rollmean_22', 'AWS_rollstd_22']\n",
      "✅ Data shapes - Train: torch.Size([25050, 31, 16]), Val: torch.Size([3674, 31, 16]), Test: torch.Size([4284, 31, 16])\n"
     ]
    },
    {
     "name": "stderr",
     "output_type": "stream",
     "text": [
      "/usr/local/lib/python3.10/dist-packages/torch/nn/modules/rnn.py:123: UserWarning: dropout option adds dropout after all but last recurrent layer, so non-zero dropout expects num_layers greater than 1, but got dropout=0.42355160658430524 and num_layers=1\n",
      "  warnings.warn(\n"
     ]
    },
    {
     "name": "stdout",
     "output_type": "stream",
     "text": [
      "  🌀 Epoch 1/5, Total Loss: 2.7961, Binary: 0.5885, Intensity: 0.3765, Regression: 1.5231\n",
      "  🌀 Epoch 2/5, Total Loss: 2.4389, Binary: 0.5459, Intensity: 0.1466, Regression: 1.4084\n",
      "  🌀 Epoch 3/5, Total Loss: 2.4104, Binary: 0.5319, Intensity: 0.1484, Regression: 1.3928\n",
      "  🌀 Epoch 4/5, Total Loss: 2.2500, Binary: 0.5253, Intensity: 0.1373, Regression: 1.2909\n"
     ]
    },
    {
     "name": "stderr",
     "output_type": "stream",
     "text": [
      "[I 2025-04-23 16:32:08,376] Trial 5 finished with value: 0.25285041332244873 and parameters: {'hidden_size': 117, 'num_layers': 1, 'dropout': 0.42355160658430524, 'lr': 0.0001794633064649492, 'time_step_in': 31, 'time_step_out': 1, 'stride': 6, 'binary_weight': 0.5036141282058971, 'intensity_weight': 0.7320716255167949, 'regression_weight': 1.46022251415713, 'rain_threshold': 0.06462559094866704, 'num_lags': 2, 'lag_0': 3, 'lag_1': 3, 'num_windows': 1, 'window_0': 22}. Best is trial 5 with value: 0.25285041332244873.\n"
     ]
    },
    {
     "name": "stdout",
     "output_type": "stream",
     "text": [
      "  🌀 Epoch 5/5, Total Loss: 2.2061, Binary: 0.4885, Intensity: 0.1305, Regression: 1.2769\n",
      "Creating lag features for train set with lags: [11]\n",
      "Creating lag features for val set with lags: [11]\n",
      "Creating lag features for test set with lags: [11]\n",
      "Creating rolling stats for train set with windows: [17, 18, 10]\n",
      "Creating rolling stats for val set with windows: [17, 18, 10]\n",
      "Creating rolling stats for test set with windows: [17, 18, 10]\n",
      "Using 19 features: ['TCW', 'TCLW', 'R250', 'R500', 'R850', 'U850', 'V850', 'EWSS', 'KX', 'CAPE', 'SSHF', 'PEV', 'AWS_lag11', 'AWS_rollmean_17', 'AWS_rollstd_17', 'AWS_rollmean_18', 'AWS_rollstd_18', 'AWS_rollmean_10', 'AWS_rollstd_10']\n",
      "✅ Data shapes - Train: torch.Size([5010, 34, 19]), Val: torch.Size([5010, 34, 19]), Test: torch.Size([6023, 34, 19])\n",
      "Error in fold fold_1: Target size (torch.Size([64, 5])) must be the same as input size (torch.Size([64, 1]))\n",
      "Creating lag features for train set with lags: [11]\n",
      "Creating lag features for val set with lags: [11]\n",
      "Creating lag features for test set with lags: [11]\n",
      "Creating rolling stats for train set with windows: [17, 18, 10]\n",
      "Creating rolling stats for val set with windows: [17, 18, 10]\n",
      "Creating rolling stats for test set with windows: [17, 18, 10]\n",
      "Using 19 features: ['TCW', 'TCLW', 'R250', 'R500', 'R850', 'U850', 'V850', 'EWSS', 'KX', 'CAPE', 'SSHF', 'PEV', 'AWS_lag11', 'AWS_rollmean_17', 'AWS_rollstd_17', 'AWS_rollmean_18', 'AWS_rollstd_18', 'AWS_rollmean_10', 'AWS_rollstd_10']\n",
      "✅ Data shapes - Train: torch.Size([13026, 34, 19]), Val: torch.Size([5010, 34, 19]), Test: torch.Size([6023, 34, 19])\n",
      "Error in fold fold_2: Target size (torch.Size([64, 5])) must be the same as input size (torch.Size([64, 1]))\n",
      "Creating lag features for train set with lags: [11]\n",
      "Creating lag features for val set with lags: [11]\n",
      "Creating lag features for test set with lags: [11]\n",
      "Creating rolling stats for train set with windows: [17, 18, 10]\n",
      "Creating rolling stats for val set with windows: [17, 18, 10]\n",
      "Creating rolling stats for test set with windows: [17, 18, 10]\n",
      "Using 19 features: ['TCW', 'TCLW', 'R250', 'R500', 'R850', 'U850', 'V850', 'EWSS', 'KX', 'CAPE', 'SSHF', 'PEV', 'AWS_lag11', 'AWS_rollmean_17', 'AWS_rollstd_17', 'AWS_rollmean_18', 'AWS_rollstd_18', 'AWS_rollmean_10', 'AWS_rollstd_10']\n",
      "✅ Data shapes - Train: torch.Size([21042, 34, 19]), Val: torch.Size([5010, 34, 19]), Test: torch.Size([6023, 34, 19])\n",
      "Error in fold fold_3: Target size (torch.Size([64, 5])) must be the same as input size (torch.Size([64, 1]))\n",
      "Creating lag features for train set with lags: [11]\n",
      "Creating lag features for val set with lags: [11]\n",
      "Creating lag features for test set with lags: [11]\n",
      "Creating rolling stats for train set with windows: [17, 18, 10]\n",
      "Creating rolling stats for val set with windows: [17, 18, 10]\n",
      "Creating rolling stats for test set with windows: [17, 18, 10]\n",
      "Using 19 features: ['TCW', 'TCLW', 'R250', 'R500', 'R850', 'U850', 'V850', 'EWSS', 'KX', 'CAPE', 'SSHF', 'PEV', 'AWS_lag11', 'AWS_rollmean_17', 'AWS_rollstd_17', 'AWS_rollmean_18', 'AWS_rollstd_18', 'AWS_rollmean_10', 'AWS_rollstd_10']\n",
      "✅ Data shapes - Train: torch.Size([29058, 34, 19]), Val: torch.Size([5010, 34, 19]), Test: torch.Size([6023, 34, 19])\n",
      "Error in fold fold_4: Target size (torch.Size([64, 5])) must be the same as input size (torch.Size([64, 1]))\n",
      "Creating lag features for train set with lags: [11]\n",
      "Creating lag features for val set with lags: [11]\n",
      "Creating lag features for test set with lags: [11]\n",
      "Creating rolling stats for train set with windows: [17, 18, 10]\n",
      "Creating rolling stats for val set with windows: [17, 18, 10]\n",
      "Creating rolling stats for test set with windows: [17, 18, 10]\n",
      "Using 19 features: ['TCW', 'TCLW', 'R250', 'R500', 'R850', 'U850', 'V850', 'EWSS', 'KX', 'CAPE', 'SSHF', 'PEV', 'AWS_lag11', 'AWS_rollmean_17', 'AWS_rollstd_17', 'AWS_rollmean_18', 'AWS_rollstd_18', 'AWS_rollmean_10', 'AWS_rollstd_10']\n"
     ]
    },
    {
     "name": "stderr",
     "output_type": "stream",
     "text": [
      "[I 2025-04-23 16:32:41,678] Trial 6 finished with value: inf and parameters: {'hidden_size': 191, 'num_layers': 2, 'dropout': 0.09693392617666913, 'lr': 0.0028638720800853957, 'time_step_in': 34, 'time_step_out': 5, 'stride': 4, 'binary_weight': 1.9910029111941718, 'intensity_weight': 1.7544951175972932, 'regression_weight': 1.1528287556906802, 'rain_threshold': 0.16657690685257243, 'num_lags': 1, 'lag_0': 11, 'num_windows': 3, 'window_0': 17, 'window_1': 18, 'window_2': 10}. Best is trial 5 with value: 0.25285041332244873.\n"
     ]
    },
    {
     "name": "stdout",
     "output_type": "stream",
     "text": [
      "✅ Data shapes - Train: torch.Size([37074, 34, 19]), Val: torch.Size([5010, 34, 19]), Test: torch.Size([6023, 34, 19])\n",
      "Error in fold fold_5: Target size (torch.Size([64, 5])) must be the same as input size (torch.Size([64, 1]))\n",
      "Creating lag features for train set with lags: [5]\n",
      "Creating lag features for val set with lags: [5]\n",
      "Creating lag features for test set with lags: [5]\n",
      "Creating rolling stats for train set with windows: [15, 3]\n",
      "Creating rolling stats for val set with windows: [15, 3]\n",
      "Creating rolling stats for test set with windows: [15, 3]\n",
      "Using 17 features: ['TCW', 'TCLW', 'R250', 'R500', 'R850', 'U850', 'V850', 'EWSS', 'KX', 'CAPE', 'SSHF', 'PEV', 'AWS_lag5', 'AWS_rollmean_15', 'AWS_rollstd_15', 'AWS_rollmean_3', 'AWS_rollstd_3']\n",
      "✅ Data shapes - Train: torch.Size([7014, 14, 17]), Val: torch.Size([7014, 14, 17]), Test: torch.Size([7520, 14, 17])\n"
     ]
    },
    {
     "name": "stderr",
     "output_type": "stream",
     "text": [
      "/usr/local/lib/python3.10/dist-packages/torch/nn/modules/rnn.py:123: UserWarning: dropout option adds dropout after all but last recurrent layer, so non-zero dropout expects num_layers greater than 1, but got dropout=0.10305517829494815 and num_layers=1\n",
      "  warnings.warn(\n"
     ]
    },
    {
     "name": "stdout",
     "output_type": "stream",
     "text": [
      "  🌀 Epoch 1/5, Total Loss: 5.8820, Binary: 0.4956, Intensity: 0.3694, Regression: 3.0423\n",
      "  🌀 Epoch 2/5, Total Loss: 5.2306, Binary: 0.4562, Intensity: 0.2525, Regression: 2.7581\n",
      "  🌀 Epoch 3/5, Total Loss: 4.9241, Binary: 0.4392, Intensity: 0.2310, Regression: 2.5927\n",
      "  🌀 Epoch 4/5, Total Loss: 4.8661, Binary: 0.3997, Intensity: 0.2626, Regression: 2.5657\n",
      "  🌀 Epoch 5/5, Total Loss: 4.8240, Binary: 0.3672, Intensity: 0.2277, Regression: 2.6020\n",
      "Creating lag features for train set with lags: [5]\n",
      "Creating lag features for val set with lags: [5]\n",
      "Creating lag features for test set with lags: [5]\n",
      "Creating rolling stats for train set with windows: [15, 3]\n",
      "Creating rolling stats for val set with windows: [15, 3]\n",
      "Creating rolling stats for test set with windows: [15, 3]\n",
      "Using 17 features: ['TCW', 'TCLW', 'R250', 'R500', 'R850', 'U850', 'V850', 'EWSS', 'KX', 'CAPE', 'SSHF', 'PEV', 'AWS_lag5', 'AWS_rollmean_15', 'AWS_rollstd_15', 'AWS_rollmean_3', 'AWS_rollstd_3']\n",
      "✅ Data shapes - Train: torch.Size([15030, 14, 17]), Val: torch.Size([7014, 14, 17]), Test: torch.Size([7520, 14, 17])\n"
     ]
    },
    {
     "name": "stderr",
     "output_type": "stream",
     "text": [
      "/usr/local/lib/python3.10/dist-packages/torch/nn/modules/rnn.py:123: UserWarning: dropout option adds dropout after all but last recurrent layer, so non-zero dropout expects num_layers greater than 1, but got dropout=0.10305517829494815 and num_layers=1\n",
      "  warnings.warn(\n"
     ]
    },
    {
     "name": "stdout",
     "output_type": "stream",
     "text": [
      "Error in fold fold_2: Expected input batch_size (1) to match target batch_size (0).\n",
      "Creating lag features for train set with lags: [5]\n",
      "Creating lag features for val set with lags: [5]\n",
      "Creating lag features for test set with lags: [5]\n",
      "Creating rolling stats for train set with windows: [15, 3]\n",
      "Creating rolling stats for val set with windows: [15, 3]\n",
      "Creating rolling stats for test set with windows: [15, 3]\n",
      "Using 17 features: ['TCW', 'TCLW', 'R250', 'R500', 'R850', 'U850', 'V850', 'EWSS', 'KX', 'CAPE', 'SSHF', 'PEV', 'AWS_lag5', 'AWS_rollmean_15', 'AWS_rollstd_15', 'AWS_rollmean_3', 'AWS_rollstd_3']\n",
      "✅ Data shapes - Train: torch.Size([23046, 14, 17]), Val: torch.Size([7014, 14, 17]), Test: torch.Size([7520, 14, 17])\n",
      "Error in fold fold_3: Expected input batch_size (1) to match target batch_size (0).\n",
      "Creating lag features for train set with lags: [5]\n",
      "Creating lag features for val set with lags: [5]\n"
     ]
    },
    {
     "name": "stderr",
     "output_type": "stream",
     "text": [
      "/usr/local/lib/python3.10/dist-packages/torch/nn/modules/rnn.py:123: UserWarning: dropout option adds dropout after all but last recurrent layer, so non-zero dropout expects num_layers greater than 1, but got dropout=0.10305517829494815 and num_layers=1\n",
      "  warnings.warn(\n"
     ]
    },
    {
     "name": "stdout",
     "output_type": "stream",
     "text": [
      "Creating lag features for test set with lags: [5]\n",
      "Creating rolling stats for train set with windows: [15, 3]\n",
      "Creating rolling stats for val set with windows: [15, 3]\n",
      "Creating rolling stats for test set with windows: [15, 3]\n",
      "Using 17 features: ['TCW', 'TCLW', 'R250', 'R500', 'R850', 'U850', 'V850', 'EWSS', 'KX', 'CAPE', 'SSHF', 'PEV', 'AWS_lag5', 'AWS_rollmean_15', 'AWS_rollstd_15', 'AWS_rollmean_3', 'AWS_rollstd_3']\n",
      "✅ Data shapes - Train: torch.Size([31062, 14, 17]), Val: torch.Size([7014, 14, 17]), Test: torch.Size([7520, 14, 17])\n",
      "Error in fold fold_4: Expected input batch_size (1) to match target batch_size (0).\n",
      "Creating lag features for train set with lags: [5]\n",
      "Creating lag features for val set with lags: [5]\n"
     ]
    },
    {
     "name": "stderr",
     "output_type": "stream",
     "text": [
      "/usr/local/lib/python3.10/dist-packages/torch/nn/modules/rnn.py:123: UserWarning: dropout option adds dropout after all but last recurrent layer, so non-zero dropout expects num_layers greater than 1, but got dropout=0.10305517829494815 and num_layers=1\n",
      "  warnings.warn(\n"
     ]
    },
    {
     "name": "stdout",
     "output_type": "stream",
     "text": [
      "Creating lag features for test set with lags: [5]\n",
      "Creating rolling stats for train set with windows: [15, 3]\n",
      "Creating rolling stats for val set with windows: [15, 3]\n",
      "Creating rolling stats for test set with windows: [15, 3]\n",
      "Using 17 features: ['TCW', 'TCLW', 'R250', 'R500', 'R850', 'U850', 'V850', 'EWSS', 'KX', 'CAPE', 'SSHF', 'PEV', 'AWS_lag5', 'AWS_rollmean_15', 'AWS_rollstd_15', 'AWS_rollmean_3', 'AWS_rollstd_3']\n",
      "✅ Data shapes - Train: torch.Size([39078, 14, 17]), Val: torch.Size([7014, 14, 17]), Test: torch.Size([7520, 14, 17])\n"
     ]
    },
    {
     "name": "stderr",
     "output_type": "stream",
     "text": [
      "/usr/local/lib/python3.10/dist-packages/torch/nn/modules/rnn.py:123: UserWarning: dropout option adds dropout after all but last recurrent layer, so non-zero dropout expects num_layers greater than 1, but got dropout=0.10305517829494815 and num_layers=1\n",
      "  warnings.warn(\n"
     ]
    },
    {
     "name": "stdout",
     "output_type": "stream",
     "text": [
      "  🌀 Epoch 1/5, Total Loss: 2.5296, Binary: 0.3783, Intensity: 0.1386, Regression: 1.1610\n",
      "  🌀 Epoch 2/5, Total Loss: 2.0000, Binary: 0.2107, Intensity: 0.0882, Regression: 1.0257\n",
      "  🌀 Epoch 3/5, Total Loss: 1.9368, Binary: 0.1937, Intensity: 0.0857, Regression: 1.0034\n",
      "  🌀 Epoch 4/5, Total Loss: 1.9311, Binary: 0.1874, Intensity: 0.0872, Regression: 1.0046\n"
     ]
    },
    {
     "name": "stderr",
     "output_type": "stream",
     "text": [
      "[I 2025-04-23 16:33:19,350] Trial 7 finished with value: 0.28849591314792633 and parameters: {'hidden_size': 226, 'num_layers': 1, 'dropout': 0.10305517829494815, 'lr': 0.0014298174223277677, 'time_step_in': 14, 'time_step_out': 1, 'stride': 4, 'binary_weight': 1.5228872724467626, 'intensity_weight': 1.3641240040958298, 'regression_weight': 1.5196946688122448, 'rain_threshold': 0.13371437545383402, 'num_lags': 1, 'lag_0': 5, 'num_windows': 2, 'window_0': 15, 'window_1': 3}. Best is trial 5 with value: 0.25285041332244873.\n"
     ]
    },
    {
     "name": "stdout",
     "output_type": "stream",
     "text": [
      "  🌀 Epoch 5/5, Total Loss: 1.8854, Binary: 0.1820, Intensity: 0.0852, Regression: 0.9818\n",
      "Creating lag features for train set with lags: [6, 6, 8]\n",
      "Creating lag features for val set with lags: [6, 6, 8]\n",
      "Creating lag features for test set with lags: [6, 6, 8]\n",
      "Creating rolling stats for train set with windows: [23]\n",
      "Creating rolling stats for val set with windows: [23]\n",
      "Creating rolling stats for test set with windows: [23]\n",
      "Using 17 features: ['TCW', 'TCLW', 'R250', 'R500', 'R850', 'U850', 'V850', 'EWSS', 'KX', 'CAPE', 'SSHF', 'PEV', 'AWS_lag6', 'AWS_lag6', 'AWS_lag8', 'AWS_rollmean_23', 'AWS_rollstd_23']\n",
      "✅ Data shapes - Train: torch.Size([3340, 44, 17]), Val: torch.Size([3340, 44, 17]), Test: torch.Size([4422, 44, 17])\n",
      "Error in fold fold_1: Target size (torch.Size([64, 4])) must be the same as input size (torch.Size([64, 1]))\n",
      "Creating lag features for train set with lags: [6, 6, 8]\n",
      "Creating lag features for val set with lags: [6, 6, 8]\n",
      "Creating lag features for test set with lags: [6, 6, 8]\n",
      "Creating rolling stats for train set with windows: [23]\n",
      "Creating rolling stats for val set with windows: [23]\n",
      "Creating rolling stats for test set with windows: [23]\n",
      "Using 17 features: ['TCW', 'TCLW', 'R250', 'R500', 'R850', 'U850', 'V850', 'EWSS', 'KX', 'CAPE', 'SSHF', 'PEV', 'AWS_lag6', 'AWS_lag6', 'AWS_lag8', 'AWS_rollmean_23', 'AWS_rollstd_23']\n",
      "✅ Data shapes - Train: torch.Size([9686, 44, 17]), Val: torch.Size([3340, 44, 17]), Test: torch.Size([4422, 44, 17])\n",
      "Error in fold fold_2: Target size (torch.Size([64, 4])) must be the same as input size (torch.Size([64, 1]))\n",
      "Creating lag features for train set with lags: [6, 6, 8]\n",
      "Creating lag features for val set with lags: [6, 6, 8]\n",
      "Creating lag features for test set with lags: [6, 6, 8]\n",
      "Creating rolling stats for train set with windows: [23]\n",
      "Creating rolling stats for val set with windows: [23]\n",
      "Creating rolling stats for test set with windows: [23]\n",
      "Using 17 features: ['TCW', 'TCLW', 'R250', 'R500', 'R850', 'U850', 'V850', 'EWSS', 'KX', 'CAPE', 'SSHF', 'PEV', 'AWS_lag6', 'AWS_lag6', 'AWS_lag8', 'AWS_rollmean_23', 'AWS_rollstd_23']\n",
      "✅ Data shapes - Train: torch.Size([16366, 44, 17]), Val: torch.Size([3340, 44, 17]), Test: torch.Size([4422, 44, 17])\n",
      "Error in fold fold_3: Target size (torch.Size([64, 4])) must be the same as input size (torch.Size([64, 1]))\n",
      "Creating lag features for train set with lags: [6, 6, 8]\n",
      "Creating lag features for val set with lags: [6, 6, 8]\n",
      "Creating lag features for test set with lags: [6, 6, 8]\n",
      "Creating rolling stats for train set with windows: [23]\n",
      "Creating rolling stats for val set with windows: [23]\n",
      "Creating rolling stats for test set with windows: [23]\n",
      "Using 17 features: ['TCW', 'TCLW', 'R250', 'R500', 'R850', 'U850', 'V850', 'EWSS', 'KX', 'CAPE', 'SSHF', 'PEV', 'AWS_lag6', 'AWS_lag6', 'AWS_lag8', 'AWS_rollmean_23', 'AWS_rollstd_23']\n",
      "✅ Data shapes - Train: torch.Size([22712, 44, 17]), Val: torch.Size([3340, 44, 17]), Test: torch.Size([4422, 44, 17])\n",
      "Error in fold fold_4: Target size (torch.Size([64, 4])) must be the same as input size (torch.Size([64, 1]))\n",
      "Creating lag features for train set with lags: [6, 6, 8]\n",
      "Creating lag features for val set with lags: [6, 6, 8]\n",
      "Creating lag features for test set with lags: [6, 6, 8]\n",
      "Creating rolling stats for train set with windows: [23]\n",
      "Creating rolling stats for val set with windows: [23]\n",
      "Creating rolling stats for test set with windows: [23]\n",
      "Using 17 features: ['TCW', 'TCLW', 'R250', 'R500', 'R850', 'U850', 'V850', 'EWSS', 'KX', 'CAPE', 'SSHF', 'PEV', 'AWS_lag6', 'AWS_lag6', 'AWS_lag8', 'AWS_rollmean_23', 'AWS_rollstd_23']\n"
     ]
    },
    {
     "name": "stderr",
     "output_type": "stream",
     "text": [
      "[I 2025-04-23 16:33:45,615] Trial 8 finished with value: inf and parameters: {'hidden_size': 211, 'num_layers': 2, 'dropout': 0.10883531633869464, 'lr': 0.006338271784381935, 'time_step_in': 44, 'time_step_out': 4, 'stride': 5, 'binary_weight': 0.9886655935319428, 'intensity_weight': 1.9012041350259385, 'regression_weight': 1.0297438526905014, 'rain_threshold': 0.12155458160509668, 'num_lags': 3, 'lag_0': 6, 'lag_1': 6, 'lag_2': 8, 'num_windows': 1, 'window_0': 23}. Best is trial 5 with value: 0.25285041332244873.\n"
     ]
    },
    {
     "name": "stdout",
     "output_type": "stream",
     "text": [
      "✅ Data shapes - Train: torch.Size([29058, 44, 17]), Val: torch.Size([3340, 44, 17]), Test: torch.Size([4422, 44, 17])\n",
      "Error in fold fold_5: Target size (torch.Size([64, 4])) must be the same as input size (torch.Size([64, 1]))\n",
      "Creating lag features for train set with lags: [3, 10, 10]\n",
      "Creating lag features for val set with lags: [3, 10, 10]\n",
      "Creating lag features for test set with lags: [3, 10, 10]\n",
      "Creating rolling stats for train set with windows: [14, 15, 24]\n",
      "Creating rolling stats for val set with windows: [14, 15, 24]\n",
      "Creating rolling stats for test set with windows: [14, 15, 24]\n",
      "Using 21 features: ['TCW', 'TCLW', 'R250', 'R500', 'R850', 'U850', 'V850', 'EWSS', 'KX', 'CAPE', 'SSHF', 'PEV', 'AWS_lag3', 'AWS_lag10', 'AWS_lag10', 'AWS_rollmean_14', 'AWS_rollstd_14', 'AWS_rollmean_15', 'AWS_rollstd_15', 'AWS_rollmean_24', 'AWS_rollstd_24']\n",
      "✅ Data shapes - Train: torch.Size([5344, 32, 21]), Val: torch.Size([5344, 32, 21]), Test: torch.Size([6279, 32, 21])\n",
      "Error in fold fold_1: Target size (torch.Size([64, 2])) must be the same as input size (torch.Size([64, 1]))\n",
      "Creating lag features for train set with lags: [3, 10, 10]\n",
      "Creating lag features for val set with lags: [3, 10, 10]\n",
      "Creating lag features for test set with lags: [3, 10, 10]\n",
      "Creating rolling stats for train set with windows: [14, 15, 24]\n",
      "Creating rolling stats for val set with windows: [14, 15, 24]\n",
      "Creating rolling stats for test set with windows: [14, 15, 24]\n",
      "Using 21 features: ['TCW', 'TCLW', 'R250', 'R500', 'R850', 'U850', 'V850', 'EWSS', 'KX', 'CAPE', 'SSHF', 'PEV', 'AWS_lag3', 'AWS_lag10', 'AWS_lag10', 'AWS_rollmean_14', 'AWS_rollstd_14', 'AWS_rollmean_15', 'AWS_rollstd_15', 'AWS_rollmean_24', 'AWS_rollstd_24']\n",
      "✅ Data shapes - Train: torch.Size([13360, 32, 21]), Val: torch.Size([5344, 32, 21]), Test: torch.Size([6279, 32, 21])\n",
      "Error in fold fold_2: Target size (torch.Size([64, 2])) must be the same as input size (torch.Size([64, 1]))\n",
      "Creating lag features for train set with lags: [3, 10, 10]\n",
      "Creating lag features for val set with lags: [3, 10, 10]\n",
      "Creating lag features for test set with lags: [3, 10, 10]\n",
      "Creating rolling stats for train set with windows: [14, 15, 24]\n",
      "Creating rolling stats for val set with windows: [14, 15, 24]\n",
      "Creating rolling stats for test set with windows: [14, 15, 24]\n",
      "Using 21 features: ['TCW', 'TCLW', 'R250', 'R500', 'R850', 'U850', 'V850', 'EWSS', 'KX', 'CAPE', 'SSHF', 'PEV', 'AWS_lag3', 'AWS_lag10', 'AWS_lag10', 'AWS_rollmean_14', 'AWS_rollstd_14', 'AWS_rollmean_15', 'AWS_rollstd_15', 'AWS_rollmean_24', 'AWS_rollstd_24']\n",
      "✅ Data shapes - Train: torch.Size([21376, 32, 21]), Val: torch.Size([5344, 32, 21]), Test: torch.Size([6279, 32, 21])\n",
      "Error in fold fold_3: Target size (torch.Size([64, 2])) must be the same as input size (torch.Size([64, 1]))\n",
      "Creating lag features for train set with lags: [3, 10, 10]\n",
      "Creating lag features for val set with lags: [3, 10, 10]\n",
      "Creating lag features for test set with lags: [3, 10, 10]\n",
      "Creating rolling stats for train set with windows: [14, 15, 24]\n",
      "Creating rolling stats for val set with windows: [14, 15, 24]\n",
      "Creating rolling stats for test set with windows: [14, 15, 24]\n",
      "Using 21 features: ['TCW', 'TCLW', 'R250', 'R500', 'R850', 'U850', 'V850', 'EWSS', 'KX', 'CAPE', 'SSHF', 'PEV', 'AWS_lag3', 'AWS_lag10', 'AWS_lag10', 'AWS_rollmean_14', 'AWS_rollstd_14', 'AWS_rollmean_15', 'AWS_rollstd_15', 'AWS_rollmean_24', 'AWS_rollstd_24']\n",
      "✅ Data shapes - Train: torch.Size([29392, 32, 21]), Val: torch.Size([5344, 32, 21]), Test: torch.Size([6279, 32, 21])\n",
      "Error in fold fold_4: Target size (torch.Size([64, 2])) must be the same as input size (torch.Size([64, 1]))\n",
      "Creating lag features for train set with lags: [3, 10, 10]\n",
      "Creating lag features for val set with lags: [3, 10, 10]\n",
      "Creating lag features for test set with lags: [3, 10, 10]\n",
      "Creating rolling stats for train set with windows: [14, 15, 24]\n",
      "Creating rolling stats for val set with windows: [14, 15, 24]\n",
      "Creating rolling stats for test set with windows: [14, 15, 24]\n",
      "Using 21 features: ['TCW', 'TCLW', 'R250', 'R500', 'R850', 'U850', 'V850', 'EWSS', 'KX', 'CAPE', 'SSHF', 'PEV', 'AWS_lag3', 'AWS_lag10', 'AWS_lag10', 'AWS_rollmean_14', 'AWS_rollstd_14', 'AWS_rollmean_15', 'AWS_rollstd_15', 'AWS_rollmean_24', 'AWS_rollstd_24']\n"
     ]
    },
    {
     "name": "stderr",
     "output_type": "stream",
     "text": [
      "[I 2025-04-23 16:34:20,162] Trial 9 finished with value: inf and parameters: {'hidden_size': 161, 'num_layers': 3, 'dropout': 0.4887189478540866, 'lr': 0.0010257100662799173, 'time_step_in': 32, 'time_step_out': 2, 'stride': 4, 'binary_weight': 1.7962017928437743, 'intensity_weight': 1.9178751092157762, 'regression_weight': 0.5856097339706504, 'rain_threshold': 0.19343031537430438, 'num_lags': 3, 'lag_0': 3, 'lag_1': 10, 'lag_2': 10, 'num_windows': 3, 'window_0': 14, 'window_1': 15, 'window_2': 24}. Best is trial 5 with value: 0.25285041332244873.\n"
     ]
    },
    {
     "name": "stdout",
     "output_type": "stream",
     "text": [
      "✅ Data shapes - Train: torch.Size([37408, 32, 21]), Val: torch.Size([5344, 32, 21]), Test: torch.Size([6279, 32, 21])\n",
      "Error in fold fold_5: Target size (torch.Size([64, 2])) must be the same as input size (torch.Size([64, 1]))\n",
      "Creating lag features for train set with lags: [2, 1]\n",
      "Creating lag features for val set with lags: [2, 1]\n",
      "Creating lag features for test set with lags: [2, 1]\n",
      "Creating rolling stats for train set with windows: [3]\n",
      "Creating rolling stats for val set with windows: [3]\n",
      "Creating rolling stats for test set with windows: [3]\n",
      "Using 16 features: ['TCW', 'TCLW', 'R250', 'R500', 'R850', 'U850', 'V850', 'EWSS', 'KX', 'CAPE', 'SSHF', 'PEV', 'AWS_lag2', 'AWS_lag1', 'AWS_rollmean_3', 'AWS_rollstd_3']\n",
      "✅ Data shapes - Train: torch.Size([23714, 23, 16]), Val: torch.Size([23714, 23, 16]), Test: torch.Size([26819, 23, 16])\n",
      "Error in fold fold_1: Target size (torch.Size([64, 3])) must be the same as input size (torch.Size([64, 1]))\n",
      "Creating lag features for train set with lags: [2, 1]\n",
      "Creating lag features for val set with lags: [2, 1]\n",
      "Creating lag features for test set with lags: [2, 1]\n"
     ]
    },
    {
     "name": "stderr",
     "output_type": "stream",
     "text": [
      "/usr/local/lib/python3.10/dist-packages/torch/nn/modules/rnn.py:123: UserWarning: dropout option adds dropout after all but last recurrent layer, so non-zero dropout expects num_layers greater than 1, but got dropout=0.35603972422657665 and num_layers=1\n",
      "  warnings.warn(\n"
     ]
    },
    {
     "name": "stdout",
     "output_type": "stream",
     "text": [
      "Creating rolling stats for train set with windows: [3]\n",
      "Creating rolling stats for val set with windows: [3]\n",
      "Creating rolling stats for test set with windows: [3]\n",
      "Using 16 features: ['TCW', 'TCLW', 'R250', 'R500', 'R850', 'U850', 'V850', 'EWSS', 'KX', 'CAPE', 'SSHF', 'PEV', 'AWS_lag2', 'AWS_lag1', 'AWS_rollmean_3', 'AWS_rollstd_3']\n",
      "✅ Data shapes - Train: torch.Size([55778, 23, 16]), Val: torch.Size([23714, 23, 16]), Test: torch.Size([26819, 23, 16])\n",
      "Error in fold fold_2: Target size (torch.Size([64, 3])) must be the same as input size (torch.Size([64, 1]))\n",
      "Creating lag features for train set with lags: [2, 1]\n",
      "Creating lag features for val set with lags: [2, 1]\n"
     ]
    },
    {
     "name": "stderr",
     "output_type": "stream",
     "text": [
      "/usr/local/lib/python3.10/dist-packages/torch/nn/modules/rnn.py:123: UserWarning: dropout option adds dropout after all but last recurrent layer, so non-zero dropout expects num_layers greater than 1, but got dropout=0.35603972422657665 and num_layers=1\n",
      "  warnings.warn(\n"
     ]
    },
    {
     "name": "stdout",
     "output_type": "stream",
     "text": [
      "Creating lag features for test set with lags: [2, 1]\n",
      "Creating rolling stats for train set with windows: [3]\n",
      "Creating rolling stats for val set with windows: [3]\n",
      "Creating rolling stats for test set with windows: [3]\n",
      "Using 16 features: ['TCW', 'TCLW', 'R250', 'R500', 'R850', 'U850', 'V850', 'EWSS', 'KX', 'CAPE', 'SSHF', 'PEV', 'AWS_lag2', 'AWS_lag1', 'AWS_rollmean_3', 'AWS_rollstd_3']\n",
      "✅ Data shapes - Train: torch.Size([87842, 23, 16]), Val: torch.Size([23714, 23, 16]), Test: torch.Size([26819, 23, 16])\n",
      "Error in fold fold_3: Target size (torch.Size([64, 3])) must be the same as input size (torch.Size([64, 1]))\n",
      "Creating lag features for train set with lags: [2, 1]\n",
      "Creating lag features for val set with lags: [2, 1]\n"
     ]
    },
    {
     "name": "stderr",
     "output_type": "stream",
     "text": [
      "/usr/local/lib/python3.10/dist-packages/torch/nn/modules/rnn.py:123: UserWarning: dropout option adds dropout after all but last recurrent layer, so non-zero dropout expects num_layers greater than 1, but got dropout=0.35603972422657665 and num_layers=1\n",
      "  warnings.warn(\n"
     ]
    },
    {
     "name": "stdout",
     "output_type": "stream",
     "text": [
      "Creating lag features for test set with lags: [2, 1]\n",
      "Creating rolling stats for train set with windows: [3]\n",
      "Creating rolling stats for val set with windows: [3]\n",
      "Creating rolling stats for test set with windows: [3]\n",
      "Using 16 features: ['TCW', 'TCLW', 'R250', 'R500', 'R850', 'U850', 'V850', 'EWSS', 'KX', 'CAPE', 'SSHF', 'PEV', 'AWS_lag2', 'AWS_lag1', 'AWS_rollmean_3', 'AWS_rollstd_3']\n",
      "✅ Data shapes - Train: torch.Size([119906, 23, 16]), Val: torch.Size([23714, 23, 16]), Test: torch.Size([26819, 23, 16])\n",
      "Error in fold fold_4: Target size (torch.Size([64, 3])) must be the same as input size (torch.Size([64, 1]))\n",
      "Creating lag features for train set with lags: [2, 1]\n",
      "Creating lag features for val set with lags: [2, 1]\n"
     ]
    },
    {
     "name": "stderr",
     "output_type": "stream",
     "text": [
      "/usr/local/lib/python3.10/dist-packages/torch/nn/modules/rnn.py:123: UserWarning: dropout option adds dropout after all but last recurrent layer, so non-zero dropout expects num_layers greater than 1, but got dropout=0.35603972422657665 and num_layers=1\n",
      "  warnings.warn(\n"
     ]
    },
    {
     "name": "stdout",
     "output_type": "stream",
     "text": [
      "Creating lag features for test set with lags: [2, 1]\n",
      "Creating rolling stats for train set with windows: [3]\n",
      "Creating rolling stats for val set with windows: [3]\n",
      "Creating rolling stats for test set with windows: [3]\n",
      "Using 16 features: ['TCW', 'TCLW', 'R250', 'R500', 'R850', 'U850', 'V850', 'EWSS', 'KX', 'CAPE', 'SSHF', 'PEV', 'AWS_lag2', 'AWS_lag1', 'AWS_rollmean_3', 'AWS_rollstd_3']\n"
     ]
    },
    {
     "name": "stderr",
     "output_type": "stream",
     "text": [
      "/usr/local/lib/python3.10/dist-packages/torch/nn/modules/rnn.py:123: UserWarning: dropout option adds dropout after all but last recurrent layer, so non-zero dropout expects num_layers greater than 1, but got dropout=0.35603972422657665 and num_layers=1\n",
      "  warnings.warn(\n",
      "[I 2025-04-23 16:35:20,258] Trial 10 finished with value: inf and parameters: {'hidden_size': 98, 'num_layers': 1, 'dropout': 0.35603972422657665, 'lr': 0.0001300566541951953, 'time_step_in': 23, 'time_step_out': 3, 'stride': 1, 'binary_weight': 1.0198724874781062, 'intensity_weight': 0.6422141356850912, 'regression_weight': 1.7397972441873326, 'rain_threshold': 0.05080208948867307, 'num_lags': 2, 'lag_0': 2, 'lag_1': 1, 'num_windows': 1, 'window_0': 3}. Best is trial 5 with value: 0.25285041332244873.\n"
     ]
    },
    {
     "name": "stdout",
     "output_type": "stream",
     "text": [
      "✅ Data shapes - Train: torch.Size([151970, 23, 16]), Val: torch.Size([23714, 23, 16]), Test: torch.Size([26819, 23, 16])\n",
      "Error in fold fold_5: Target size (torch.Size([64, 3])) must be the same as input size (torch.Size([64, 1]))\n",
      "Creating lag features for train set with lags: [4]\n",
      "Creating lag features for val set with lags: [4]\n",
      "Creating lag features for test set with lags: [4]\n",
      "Creating rolling stats for train set with windows: [10, 4]\n",
      "Creating rolling stats for val set with windows: [10, 4]\n",
      "Creating rolling stats for test set with windows: [10, 4]\n",
      "Using 17 features: ['TCW', 'TCLW', 'R250', 'R500', 'R850', 'U850', 'V850', 'EWSS', 'KX', 'CAPE', 'SSHF', 'PEV', 'AWS_lag4', 'AWS_rollmean_10', 'AWS_rollstd_10', 'AWS_rollmean_4', 'AWS_rollstd_4']\n",
      "✅ Data shapes - Train: torch.Size([14028, 12, 17]), Val: torch.Size([14028, 12, 17]), Test: torch.Size([15069, 12, 17])\n"
     ]
    },
    {
     "name": "stderr",
     "output_type": "stream",
     "text": [
      "/usr/local/lib/python3.10/dist-packages/torch/nn/modules/rnn.py:123: UserWarning: dropout option adds dropout after all but last recurrent layer, so non-zero dropout expects num_layers greater than 1, but got dropout=0.34167842562667133 and num_layers=1\n",
      "  warnings.warn(\n"
     ]
    },
    {
     "name": "stdout",
     "output_type": "stream",
     "text": [
      "  🌀 Epoch 1/5, Total Loss: 4.9326, Binary: 0.5342, Intensity: 0.3189, Regression: 2.4609\n",
      "Error in fold fold_1: Expected input batch_size (1) to match target batch_size (0).\n",
      "Creating lag features for train set with lags: [4]\n",
      "Creating lag features for val set with lags: [4]\n",
      "Creating lag features for test set with lags: [4]\n",
      "Creating rolling stats for train set with windows: [10, 4]\n",
      "Creating rolling stats for val set with windows: [10, 4]\n",
      "Creating rolling stats for test set with windows: [10, 4]\n",
      "Using 17 features: ['TCW', 'TCLW', 'R250', 'R500', 'R850', 'U850', 'V850', 'EWSS', 'KX', 'CAPE', 'SSHF', 'PEV', 'AWS_lag4', 'AWS_rollmean_10', 'AWS_rollstd_10', 'AWS_rollmean_4', 'AWS_rollstd_4']\n",
      "✅ Data shapes - Train: torch.Size([30060, 12, 17]), Val: torch.Size([14028, 12, 17]), Test: torch.Size([15069, 12, 17])\n"
     ]
    },
    {
     "name": "stderr",
     "output_type": "stream",
     "text": [
      "/usr/local/lib/python3.10/dist-packages/torch/nn/modules/rnn.py:123: UserWarning: dropout option adds dropout after all but last recurrent layer, so non-zero dropout expects num_layers greater than 1, but got dropout=0.34167842562667133 and num_layers=1\n",
      "  warnings.warn(\n"
     ]
    },
    {
     "name": "stdout",
     "output_type": "stream",
     "text": [
      "Error in fold fold_2: Expected input batch_size (1) to match target batch_size (0).\n",
      "Creating lag features for train set with lags: [4]\n",
      "Creating lag features for val set with lags: [4]\n",
      "Creating lag features for test set with lags: [4]\n",
      "Creating rolling stats for train set with windows: [10, 4]\n",
      "Creating rolling stats for val set with windows: [10, 4]\n",
      "Creating rolling stats for test set with windows: [10, 4]\n",
      "Using 17 features: ['TCW', 'TCLW', 'R250', 'R500', 'R850', 'U850', 'V850', 'EWSS', 'KX', 'CAPE', 'SSHF', 'PEV', 'AWS_lag4', 'AWS_rollmean_10', 'AWS_rollstd_10', 'AWS_rollmean_4', 'AWS_rollstd_4']\n",
      "✅ Data shapes - Train: torch.Size([46092, 12, 17]), Val: torch.Size([14028, 12, 17]), Test: torch.Size([15069, 12, 17])\n",
      "Error in fold fold_3: Expected input batch_size (1) to match target batch_size (0).\n",
      "Creating lag features for train set with lags: [4]\n",
      "Creating lag features for val set with lags: [4]\n"
     ]
    },
    {
     "name": "stderr",
     "output_type": "stream",
     "text": [
      "/usr/local/lib/python3.10/dist-packages/torch/nn/modules/rnn.py:123: UserWarning: dropout option adds dropout after all but last recurrent layer, so non-zero dropout expects num_layers greater than 1, but got dropout=0.34167842562667133 and num_layers=1\n",
      "  warnings.warn(\n"
     ]
    },
    {
     "name": "stdout",
     "output_type": "stream",
     "text": [
      "Creating lag features for test set with lags: [4]\n",
      "Creating rolling stats for train set with windows: [10, 4]\n",
      "Creating rolling stats for val set with windows: [10, 4]\n",
      "Creating rolling stats for test set with windows: [10, 4]\n",
      "Using 17 features: ['TCW', 'TCLW', 'R250', 'R500', 'R850', 'U850', 'V850', 'EWSS', 'KX', 'CAPE', 'SSHF', 'PEV', 'AWS_lag4', 'AWS_rollmean_10', 'AWS_rollstd_10', 'AWS_rollmean_4', 'AWS_rollstd_4']\n",
      "✅ Data shapes - Train: torch.Size([62124, 12, 17]), Val: torch.Size([14028, 12, 17]), Test: torch.Size([15069, 12, 17])\n",
      "Error in fold fold_4: Expected input batch_size (1) to match target batch_size (0).\n",
      "Creating lag features for train set with lags: [4]\n",
      "Creating lag features for val set with lags: [4]\n"
     ]
    },
    {
     "name": "stderr",
     "output_type": "stream",
     "text": [
      "/usr/local/lib/python3.10/dist-packages/torch/nn/modules/rnn.py:123: UserWarning: dropout option adds dropout after all but last recurrent layer, so non-zero dropout expects num_layers greater than 1, but got dropout=0.34167842562667133 and num_layers=1\n",
      "  warnings.warn(\n"
     ]
    },
    {
     "name": "stdout",
     "output_type": "stream",
     "text": [
      "Creating lag features for test set with lags: [4]\n",
      "Creating rolling stats for train set with windows: [10, 4]\n",
      "Creating rolling stats for val set with windows: [10, 4]\n",
      "Creating rolling stats for test set with windows: [10, 4]\n",
      "Using 17 features: ['TCW', 'TCLW', 'R250', 'R500', 'R850', 'U850', 'V850', 'EWSS', 'KX', 'CAPE', 'SSHF', 'PEV', 'AWS_lag4', 'AWS_rollmean_10', 'AWS_rollstd_10', 'AWS_rollmean_4', 'AWS_rollstd_4']\n",
      "✅ Data shapes - Train: torch.Size([78156, 12, 17]), Val: torch.Size([14028, 12, 17]), Test: torch.Size([15069, 12, 17])\n"
     ]
    },
    {
     "name": "stderr",
     "output_type": "stream",
     "text": [
      "/usr/local/lib/python3.10/dist-packages/torch/nn/modules/rnn.py:123: UserWarning: dropout option adds dropout after all but last recurrent layer, so non-zero dropout expects num_layers greater than 1, but got dropout=0.34167842562667133 and num_layers=1\n",
      "  warnings.warn(\n"
     ]
    },
    {
     "name": "stdout",
     "output_type": "stream",
     "text": [
      "  🌀 Epoch 1/5, Total Loss: 2.0578, Binary: 0.3308, Intensity: 0.1077, Regression: 0.9465\n"
     ]
    },
    {
     "name": "stderr",
     "output_type": "stream",
     "text": [
      "[I 2025-04-23 16:35:59,625] Trial 11 finished with value: inf and parameters: {'hidden_size': 247, 'num_layers': 1, 'dropout': 0.34167842562667133, 'lr': 0.0004275793812660106, 'time_step_in': 12, 'time_step_out': 1, 'stride': 2, 'binary_weight': 1.403745270440427, 'intensity_weight': 1.0211193434660888, 'regression_weight': 1.5673601280867866, 'rain_threshold': 0.08003382475036727, 'num_lags': 1, 'lag_0': 4, 'num_windows': 2, 'window_0': 10, 'window_1': 4}. Best is trial 5 with value: 0.25285041332244873.\n"
     ]
    },
    {
     "name": "stdout",
     "output_type": "stream",
     "text": [
      "Error in fold fold_5: Expected input batch_size (1) to match target batch_size (0).\n",
      "Creating lag features for train set with lags: [1, 4]\n",
      "Creating lag features for val set with lags: [1, 4]\n",
      "Creating lag features for test set with lags: [1, 4]\n",
      "Creating rolling stats for train set with windows: [20, 8]\n",
      "Creating rolling stats for val set with windows: [20, 8]\n",
      "Creating rolling stats for test set with windows: [20, 8]\n",
      "Using 18 features: ['TCW', 'TCLW', 'R250', 'R500', 'R850', 'U850', 'V850', 'EWSS', 'KX', 'CAPE', 'SSHF', 'PEV', 'AWS_lag1', 'AWS_lag4', 'AWS_rollmean_20', 'AWS_rollstd_20', 'AWS_rollmean_8', 'AWS_rollstd_8']\n",
      "✅ Data shapes - Train: torch.Size([4342, 20, 18]), Val: torch.Size([4342, 20, 18]), Test: torch.Size([4762, 20, 18])\n",
      "Error in fold fold_1: Target size (torch.Size([64, 2])) must be the same as input size (torch.Size([64, 1]))\n",
      "Creating lag features for train set with lags: [1, 4]\n",
      "Creating lag features for val set with lags: [1, 4]\n",
      "Creating lag features for test set with lags: [1, 4]\n"
     ]
    },
    {
     "name": "stderr",
     "output_type": "stream",
     "text": [
      "/usr/local/lib/python3.10/dist-packages/torch/nn/modules/rnn.py:123: UserWarning: dropout option adds dropout after all but last recurrent layer, so non-zero dropout expects num_layers greater than 1, but got dropout=0.1851955644525621 and num_layers=1\n",
      "  warnings.warn(\n"
     ]
    },
    {
     "name": "stdout",
     "output_type": "stream",
     "text": [
      "Creating rolling stats for train set with windows: [20, 8]\n",
      "Creating rolling stats for val set with windows: [20, 8]\n",
      "Creating rolling stats for test set with windows: [20, 8]\n",
      "Using 18 features: ['TCW', 'TCLW', 'R250', 'R500', 'R850', 'U850', 'V850', 'EWSS', 'KX', 'CAPE', 'SSHF', 'PEV', 'AWS_lag1', 'AWS_lag4', 'AWS_rollmean_20', 'AWS_rollstd_20', 'AWS_rollmean_8', 'AWS_rollstd_8']\n",
      "✅ Data shapes - Train: torch.Size([9686, 20, 18]), Val: torch.Size([4342, 20, 18]), Test: torch.Size([4762, 20, 18])\n",
      "Error in fold fold_2: Target size (torch.Size([64, 2])) must be the same as input size (torch.Size([64, 1]))\n",
      "Creating lag features for train set with lags: [1, 4]\n",
      "Creating lag features for val set with lags: [1, 4]\n"
     ]
    },
    {
     "name": "stderr",
     "output_type": "stream",
     "text": [
      "/usr/local/lib/python3.10/dist-packages/torch/nn/modules/rnn.py:123: UserWarning: dropout option adds dropout after all but last recurrent layer, so non-zero dropout expects num_layers greater than 1, but got dropout=0.1851955644525621 and num_layers=1\n",
      "  warnings.warn(\n"
     ]
    },
    {
     "name": "stdout",
     "output_type": "stream",
     "text": [
      "Creating lag features for test set with lags: [1, 4]\n",
      "Creating rolling stats for train set with windows: [20, 8]\n",
      "Creating rolling stats for val set with windows: [20, 8]\n",
      "Creating rolling stats for test set with windows: [20, 8]\n",
      "Using 18 features: ['TCW', 'TCLW', 'R250', 'R500', 'R850', 'U850', 'V850', 'EWSS', 'KX', 'CAPE', 'SSHF', 'PEV', 'AWS_lag1', 'AWS_lag4', 'AWS_rollmean_20', 'AWS_rollstd_20', 'AWS_rollmean_8', 'AWS_rollstd_8']\n",
      "✅ Data shapes - Train: torch.Size([15030, 20, 18]), Val: torch.Size([4342, 20, 18]), Test: torch.Size([4762, 20, 18])\n",
      "Error in fold fold_3: Target size (torch.Size([64, 2])) must be the same as input size (torch.Size([64, 1]))\n",
      "Creating lag features for train set with lags: [1, 4]\n",
      "Creating lag features for val set with lags: [1, 4]\n"
     ]
    },
    {
     "name": "stderr",
     "output_type": "stream",
     "text": [
      "/usr/local/lib/python3.10/dist-packages/torch/nn/modules/rnn.py:123: UserWarning: dropout option adds dropout after all but last recurrent layer, so non-zero dropout expects num_layers greater than 1, but got dropout=0.1851955644525621 and num_layers=1\n",
      "  warnings.warn(\n"
     ]
    },
    {
     "name": "stdout",
     "output_type": "stream",
     "text": [
      "Creating lag features for test set with lags: [1, 4]\n",
      "Creating rolling stats for train set with windows: [20, 8]\n",
      "Creating rolling stats for val set with windows: [20, 8]\n",
      "Creating rolling stats for test set with windows: [20, 8]\n",
      "Using 18 features: ['TCW', 'TCLW', 'R250', 'R500', 'R850', 'U850', 'V850', 'EWSS', 'KX', 'CAPE', 'SSHF', 'PEV', 'AWS_lag1', 'AWS_lag4', 'AWS_rollmean_20', 'AWS_rollstd_20', 'AWS_rollmean_8', 'AWS_rollstd_8']\n",
      "✅ Data shapes - Train: torch.Size([20374, 20, 18]), Val: torch.Size([4342, 20, 18]), Test: torch.Size([4762, 20, 18])\n",
      "Error in fold fold_4: Target size (torch.Size([64, 2])) must be the same as input size (torch.Size([64, 1]))\n",
      "Creating lag features for train set with lags: [1, 4]\n",
      "Creating lag features for val set with lags: [1, 4]\n"
     ]
    },
    {
     "name": "stderr",
     "output_type": "stream",
     "text": [
      "/usr/local/lib/python3.10/dist-packages/torch/nn/modules/rnn.py:123: UserWarning: dropout option adds dropout after all but last recurrent layer, so non-zero dropout expects num_layers greater than 1, but got dropout=0.1851955644525621 and num_layers=1\n",
      "  warnings.warn(\n"
     ]
    },
    {
     "name": "stdout",
     "output_type": "stream",
     "text": [
      "Creating lag features for test set with lags: [1, 4]\n",
      "Creating rolling stats for train set with windows: [20, 8]\n",
      "Creating rolling stats for val set with windows: [20, 8]\n",
      "Creating rolling stats for test set with windows: [20, 8]\n",
      "Using 18 features: ['TCW', 'TCLW', 'R250', 'R500', 'R850', 'U850', 'V850', 'EWSS', 'KX', 'CAPE', 'SSHF', 'PEV', 'AWS_lag1', 'AWS_lag4', 'AWS_rollmean_20', 'AWS_rollstd_20', 'AWS_rollmean_8', 'AWS_rollstd_8']\n"
     ]
    },
    {
     "name": "stderr",
     "output_type": "stream",
     "text": [
      "/usr/local/lib/python3.10/dist-packages/torch/nn/modules/rnn.py:123: UserWarning: dropout option adds dropout after all but last recurrent layer, so non-zero dropout expects num_layers greater than 1, but got dropout=0.1851955644525621 and num_layers=1\n",
      "  warnings.warn(\n",
      "[I 2025-04-23 16:36:19,521] Trial 12 finished with value: inf and parameters: {'hidden_size': 107, 'num_layers': 1, 'dropout': 0.1851955644525621, 'lr': 0.000454879947962847, 'time_step_in': 20, 'time_step_out': 2, 'stride': 6, 'binary_weight': 1.0809048080430772, 'intensity_weight': 1.0124500911034244, 'regression_weight': 1.4323034625947753, 'rain_threshold': 0.14749003759373586, 'num_lags': 2, 'lag_0': 1, 'lag_1': 4, 'num_windows': 2, 'window_0': 20, 'window_1': 8}. Best is trial 5 with value: 0.25285041332244873.\n"
     ]
    },
    {
     "name": "stdout",
     "output_type": "stream",
     "text": [
      "✅ Data shapes - Train: torch.Size([25718, 20, 18]), Val: torch.Size([4342, 20, 18]), Test: torch.Size([4762, 20, 18])\n",
      "Error in fold fold_5: Target size (torch.Size([64, 2])) must be the same as input size (torch.Size([64, 1]))\n",
      "Creating lag features for train set with lags: [8]\n",
      "Creating lag features for val set with lags: [8]\n",
      "Creating lag features for test set with lags: [8]\n",
      "Creating rolling stats for train set with windows: [19]\n",
      "Creating rolling stats for val set with windows: [19]\n",
      "Creating rolling stats for test set with windows: [19]\n",
      "Using 15 features: ['TCW', 'TCLW', 'R250', 'R500', 'R850', 'U850', 'V850', 'EWSS', 'KX', 'CAPE', 'SSHF', 'PEV', 'AWS_lag8', 'AWS_rollmean_19', 'AWS_rollstd_19']\n",
      "✅ Data shapes - Train: torch.Size([11690, 27, 15]), Val: torch.Size([11690, 27, 15]), Test: torch.Size([13252, 27, 15])\n",
      "  🌀 Epoch 1/5, Total Loss: 7.8227, Binary: 0.4965, Intensity: 0.5496, Regression: 3.8835\n",
      "  🌀 Epoch 2/5, Total Loss: 7.5127, Binary: 0.4197, Intensity: 0.3155, Regression: 3.9105\n",
      "  🌀 Epoch 3/5, Total Loss: 7.3708, Binary: 0.4181, Intensity: 0.3171, Regression: 3.8262\n",
      "  🌀 Epoch 4/5, Total Loss: 6.9883, Binary: 0.4138, Intensity: 0.3192, Regression: 3.6006\n",
      "  🌀 Epoch 5/5, Total Loss: 6.9506, Binary: 0.4036, Intensity: 0.3641, Regression: 3.5600\n",
      "Creating lag features for train set with lags: [8]\n",
      "Creating lag features for val set with lags: [8]\n",
      "Creating lag features for test set with lags: [8]\n",
      "Creating rolling stats for train set with windows: [19]\n",
      "Creating rolling stats for val set with windows: [19]\n",
      "Creating rolling stats for test set with windows: [19]\n",
      "Using 15 features: ['TCW', 'TCLW', 'R250', 'R500', 'R850', 'U850', 'V850', 'EWSS', 'KX', 'CAPE', 'SSHF', 'PEV', 'AWS_lag8', 'AWS_rollmean_19', 'AWS_rollstd_19']\n",
      "✅ Data shapes - Train: torch.Size([27722, 27, 15]), Val: torch.Size([11690, 27, 15]), Test: torch.Size([13252, 27, 15])\n",
      "Error in fold fold_2: Expected input batch_size (1) to match target batch_size (0).\n",
      "Creating lag features for train set with lags: [8]\n",
      "Creating lag features for val set with lags: [8]\n",
      "Creating lag features for test set with lags: [8]\n",
      "Creating rolling stats for train set with windows: [19]\n",
      "Creating rolling stats for val set with windows: [19]\n",
      "Creating rolling stats for test set with windows: [19]\n",
      "Using 15 features: ['TCW', 'TCLW', 'R250', 'R500', 'R850', 'U850', 'V850', 'EWSS', 'KX', 'CAPE', 'SSHF', 'PEV', 'AWS_lag8', 'AWS_rollmean_19', 'AWS_rollstd_19']\n",
      "✅ Data shapes - Train: torch.Size([43754, 27, 15]), Val: torch.Size([11690, 27, 15]), Test: torch.Size([13252, 27, 15])\n",
      "Error in fold fold_3: Expected input batch_size (1) to match target batch_size (0).\n",
      "Creating lag features for train set with lags: [8]\n",
      "Creating lag features for val set with lags: [8]\n",
      "Creating lag features for test set with lags: [8]\n",
      "Creating rolling stats for train set with windows: [19]\n",
      "Creating rolling stats for val set with windows: [19]\n",
      "Creating rolling stats for test set with windows: [19]\n",
      "Using 15 features: ['TCW', 'TCLW', 'R250', 'R500', 'R850', 'U850', 'V850', 'EWSS', 'KX', 'CAPE', 'SSHF', 'PEV', 'AWS_lag8', 'AWS_rollmean_19', 'AWS_rollstd_19']\n",
      "✅ Data shapes - Train: torch.Size([59786, 27, 15]), Val: torch.Size([11690, 27, 15]), Test: torch.Size([13252, 27, 15])\n",
      "Error in fold fold_4: Expected input batch_size (1) to match target batch_size (0).\n",
      "Creating lag features for train set with lags: [8]\n",
      "Creating lag features for val set with lags: [8]\n",
      "Creating lag features for test set with lags: [8]\n",
      "Creating rolling stats for train set with windows: [19]\n",
      "Creating rolling stats for val set with windows: [19]\n",
      "Creating rolling stats for test set with windows: [19]\n",
      "Using 15 features: ['TCW', 'TCLW', 'R250', 'R500', 'R850', 'U850', 'V850', 'EWSS', 'KX', 'CAPE', 'SSHF', 'PEV', 'AWS_lag8', 'AWS_rollmean_19', 'AWS_rollstd_19']\n",
      "✅ Data shapes - Train: torch.Size([75818, 27, 15]), Val: torch.Size([11690, 27, 15]), Test: torch.Size([13252, 27, 15])\n",
      "  🌀 Epoch 1/5, Total Loss: 2.9338, Binary: 0.4924, Intensity: 0.1655, Regression: 1.2040\n",
      "  🌀 Epoch 2/5, Total Loss: 2.3287, Binary: 0.2545, Intensity: 0.0902, Regression: 1.1041\n",
      "  🌀 Epoch 3/5, Total Loss: 2.2273, Binary: 0.2281, Intensity: 0.0841, Regression: 1.0712\n",
      "  🌀 Epoch 4/5, Total Loss: 2.0386, Binary: 0.2192, Intensity: 0.0771, Regression: 0.9710\n",
      "  🌀 Epoch 5/5, Total Loss: 2.0113, Binary: 0.2186, Intensity: 0.0758, Regression: 0.9561\n"
     ]
    },
    {
     "name": "stderr",
     "output_type": "stream",
     "text": [
      "[I 2025-04-23 16:37:28,264] Trial 13 finished with value: 0.24283862859010696 and parameters: {'hidden_size': 47, 'num_layers': 2, 'dropout': 0.007172894299288746, 'lr': 0.0005257891331759094, 'time_step_in': 27, 'time_step_out': 1, 'stride': 2, 'binary_weight': 1.5167748271871466, 'intensity_weight': 1.0193071811809438, 'regression_weight': 1.6761802765180176, 'rain_threshold': 0.09410067692219795, 'num_lags': 1, 'lag_0': 8, 'num_windows': 1, 'window_0': 19}. Best is trial 13 with value: 0.24283862859010696.\n"
     ]
    },
    {
     "name": "stdout",
     "output_type": "stream",
     "text": [
      "Creating lag features for train set with lags: [8, 1]\n",
      "Creating lag features for val set with lags: [8, 1]\n",
      "Creating lag features for test set with lags: [8, 1]\n",
      "Creating rolling stats for train set with windows: [19]\n",
      "Creating rolling stats for val set with windows: [19]\n",
      "Creating rolling stats for test set with windows: [19]\n",
      "Using 16 features: ['TCW', 'TCLW', 'R250', 'R500', 'R850', 'U850', 'V850', 'EWSS', 'KX', 'CAPE', 'SSHF', 'PEV', 'AWS_lag8', 'AWS_lag1', 'AWS_rollmean_19', 'AWS_rollstd_19']\n",
      "✅ Data shapes - Train: torch.Size([11356, 27, 16]), Val: torch.Size([11356, 27, 16]), Test: torch.Size([13003, 27, 16])\n",
      "Error in fold fold_1: Target size (torch.Size([64, 3])) must be the same as input size (torch.Size([64, 1]))\n",
      "Creating lag features for train set with lags: [8, 1]\n",
      "Creating lag features for val set with lags: [8, 1]\n",
      "Creating lag features for test set with lags: [8, 1]\n",
      "Creating rolling stats for train set with windows: [19]\n",
      "Creating rolling stats for val set with windows: [19]\n",
      "Creating rolling stats for test set with windows: [19]\n",
      "Using 16 features: ['TCW', 'TCLW', 'R250', 'R500', 'R850', 'U850', 'V850', 'EWSS', 'KX', 'CAPE', 'SSHF', 'PEV', 'AWS_lag8', 'AWS_lag1', 'AWS_rollmean_19', 'AWS_rollstd_19']\n",
      "✅ Data shapes - Train: torch.Size([27388, 27, 16]), Val: torch.Size([11356, 27, 16]), Test: torch.Size([13003, 27, 16])\n",
      "Error in fold fold_2: Target size (torch.Size([64, 3])) must be the same as input size (torch.Size([64, 1]))\n",
      "Creating lag features for train set with lags: [8, 1]\n",
      "Creating lag features for val set with lags: [8, 1]\n",
      "Creating lag features for test set with lags: [8, 1]\n",
      "Creating rolling stats for train set with windows: [19]\n",
      "Creating rolling stats for val set with windows: [19]\n",
      "Creating rolling stats for test set with windows: [19]\n",
      "Using 16 features: ['TCW', 'TCLW', 'R250', 'R500', 'R850', 'U850', 'V850', 'EWSS', 'KX', 'CAPE', 'SSHF', 'PEV', 'AWS_lag8', 'AWS_lag1', 'AWS_rollmean_19', 'AWS_rollstd_19']\n",
      "✅ Data shapes - Train: torch.Size([43420, 27, 16]), Val: torch.Size([11356, 27, 16]), Test: torch.Size([13003, 27, 16])\n",
      "Error in fold fold_3: Target size (torch.Size([64, 3])) must be the same as input size (torch.Size([64, 1]))\n",
      "Creating lag features for train set with lags: [8, 1]\n",
      "Creating lag features for val set with lags: [8, 1]\n",
      "Creating lag features for test set with lags: [8, 1]\n",
      "Creating rolling stats for train set with windows: [19]\n",
      "Creating rolling stats for val set with windows: [19]\n",
      "Creating rolling stats for test set with windows: [19]\n",
      "Using 16 features: ['TCW', 'TCLW', 'R250', 'R500', 'R850', 'U850', 'V850', 'EWSS', 'KX', 'CAPE', 'SSHF', 'PEV', 'AWS_lag8', 'AWS_lag1', 'AWS_rollmean_19', 'AWS_rollstd_19']\n",
      "✅ Data shapes - Train: torch.Size([59452, 27, 16]), Val: torch.Size([11356, 27, 16]), Test: torch.Size([13003, 27, 16])\n",
      "Error in fold fold_4: Target size (torch.Size([64, 3])) must be the same as input size (torch.Size([64, 1]))\n",
      "Creating lag features for train set with lags: [8, 1]\n",
      "Creating lag features for val set with lags: [8, 1]\n",
      "Creating lag features for test set with lags: [8, 1]\n",
      "Creating rolling stats for train set with windows: [19]\n",
      "Creating rolling stats for val set with windows: [19]\n",
      "Creating rolling stats for test set with windows: [19]\n",
      "Using 16 features: ['TCW', 'TCLW', 'R250', 'R500', 'R850', 'U850', 'V850', 'EWSS', 'KX', 'CAPE', 'SSHF', 'PEV', 'AWS_lag8', 'AWS_lag1', 'AWS_rollmean_19', 'AWS_rollstd_19']\n"
     ]
    },
    {
     "name": "stderr",
     "output_type": "stream",
     "text": [
      "[I 2025-04-23 16:38:06,196] Trial 14 finished with value: inf and parameters: {'hidden_size': 35, 'num_layers': 2, 'dropout': 0.0015546925733655173, 'lr': 0.00046544850411933117, 'time_step_in': 27, 'time_step_out': 3, 'stride': 2, 'binary_weight': 0.7586977523159197, 'intensity_weight': 0.986100693196831, 'regression_weight': 1.7901769414782855, 'rain_threshold': 0.08926047546226806, 'num_lags': 2, 'lag_0': 8, 'lag_1': 1, 'num_windows': 1, 'window_0': 19}. Best is trial 13 with value: 0.24283862859010696.\n"
     ]
    },
    {
     "name": "stdout",
     "output_type": "stream",
     "text": [
      "✅ Data shapes - Train: torch.Size([75484, 27, 16]), Val: torch.Size([11356, 27, 16]), Test: torch.Size([13003, 27, 16])\n",
      "Error in fold fold_5: Target size (torch.Size([64, 3])) must be the same as input size (torch.Size([64, 1]))\n",
      "Creating lag features for train set with lags: [8, 5]\n",
      "Creating lag features for val set with lags: [8, 5]\n",
      "Creating lag features for test set with lags: [8, 5]\n",
      "Creating rolling stats for train set with windows: [20]\n",
      "Creating rolling stats for val set with windows: [20]\n",
      "Creating rolling stats for test set with windows: [20]\n",
      "Using 16 features: ['TCW', 'TCLW', 'R250', 'R500', 'R850', 'U850', 'V850', 'EWSS', 'KX', 'CAPE', 'SSHF', 'PEV', 'AWS_lag8', 'AWS_lag5', 'AWS_rollmean_20', 'AWS_rollstd_20']\n",
      "✅ Data shapes - Train: torch.Size([10354, 35, 16]), Val: torch.Size([10354, 35, 16]), Test: torch.Size([12260, 35, 16])\n",
      "  🌀 Epoch 1/5, Total Loss: 8.2197, Binary: 0.7011, Intensity: 0.9421, Regression: 3.8877\n",
      "  🌀 Epoch 2/5, Total Loss: 7.1896, Binary: 0.4983, Intensity: 0.4351, Regression: 3.6040\n",
      "  🌀 Epoch 3/5, Total Loss: 7.5283, Binary: 0.4485, Intensity: 0.3271, Regression: 3.8663\n",
      "  🌀 Epoch 4/5, Total Loss: 6.9283, Binary: 0.4457, Intensity: 0.3089, Regression: 3.5321\n",
      "  🌀 Epoch 5/5, Total Loss: 7.1991, Binary: 0.4397, Intensity: 0.3275, Regression: 3.6849\n",
      "Creating lag features for train set with lags: [8, 5]\n",
      "Creating lag features for val set with lags: [8, 5]\n",
      "Creating lag features for test set with lags: [8, 5]\n",
      "Creating rolling stats for train set with windows: [20]\n",
      "Creating rolling stats for val set with windows: [20]\n",
      "Creating rolling stats for test set with windows: [20]\n",
      "Using 16 features: ['TCW', 'TCLW', 'R250', 'R500', 'R850', 'U850', 'V850', 'EWSS', 'KX', 'CAPE', 'SSHF', 'PEV', 'AWS_lag8', 'AWS_lag5', 'AWS_rollmean_20', 'AWS_rollstd_20']\n",
      "✅ Data shapes - Train: torch.Size([26386, 35, 16]), Val: torch.Size([10354, 35, 16]), Test: torch.Size([12260, 35, 16])\n",
      "Error in fold fold_2: Expected input batch_size (1) to match target batch_size (0).\n",
      "Creating lag features for train set with lags: [8, 5]\n",
      "Creating lag features for val set with lags: [8, 5]\n",
      "Creating lag features for test set with lags: [8, 5]\n",
      "Creating rolling stats for train set with windows: [20]\n",
      "Creating rolling stats for val set with windows: [20]\n",
      "Creating rolling stats for test set with windows: [20]\n",
      "Using 16 features: ['TCW', 'TCLW', 'R250', 'R500', 'R850', 'U850', 'V850', 'EWSS', 'KX', 'CAPE', 'SSHF', 'PEV', 'AWS_lag8', 'AWS_lag5', 'AWS_rollmean_20', 'AWS_rollstd_20']\n",
      "✅ Data shapes - Train: torch.Size([42418, 35, 16]), Val: torch.Size([10354, 35, 16]), Test: torch.Size([12260, 35, 16])\n",
      "Error in fold fold_3: Expected input batch_size (1) to match target batch_size (0).\n",
      "Creating lag features for train set with lags: [8, 5]\n",
      "Creating lag features for val set with lags: [8, 5]\n",
      "Creating lag features for test set with lags: [8, 5]\n",
      "Creating rolling stats for train set with windows: [20]\n",
      "Creating rolling stats for val set with windows: [20]\n",
      "Creating rolling stats for test set with windows: [20]\n",
      "Using 16 features: ['TCW', 'TCLW', 'R250', 'R500', 'R850', 'U850', 'V850', 'EWSS', 'KX', 'CAPE', 'SSHF', 'PEV', 'AWS_lag8', 'AWS_lag5', 'AWS_rollmean_20', 'AWS_rollstd_20']\n",
      "✅ Data shapes - Train: torch.Size([58450, 35, 16]), Val: torch.Size([10354, 35, 16]), Test: torch.Size([12260, 35, 16])\n",
      "Error in fold fold_4: Expected input batch_size (1) to match target batch_size (0).\n",
      "Creating lag features for train set with lags: [8, 5]\n",
      "Creating lag features for val set with lags: [8, 5]\n",
      "Creating lag features for test set with lags: [8, 5]\n",
      "Creating rolling stats for train set with windows: [20]\n",
      "Creating rolling stats for val set with windows: [20]\n",
      "Creating rolling stats for test set with windows: [20]\n",
      "Using 16 features: ['TCW', 'TCLW', 'R250', 'R500', 'R850', 'U850', 'V850', 'EWSS', 'KX', 'CAPE', 'SSHF', 'PEV', 'AWS_lag8', 'AWS_lag5', 'AWS_rollmean_20', 'AWS_rollstd_20']\n",
      "✅ Data shapes - Train: torch.Size([74482, 35, 16]), Val: torch.Size([10354, 35, 16]), Test: torch.Size([12260, 35, 16])\n",
      "  🌀 Epoch 1/5, Total Loss: 3.0168, Binary: 0.5294, Intensity: 0.2360, Regression: 1.2661\n",
      "  🌀 Epoch 2/5, Total Loss: 2.5613, Binary: 0.3435, Intensity: 0.1373, Regression: 1.1706\n",
      "  🌀 Epoch 3/5, Total Loss: 2.2594, Binary: 0.2585, Intensity: 0.0894, Regression: 1.0743\n",
      "  🌀 Epoch 4/5, Total Loss: 2.2212, Binary: 0.2502, Intensity: 0.0861, Regression: 1.0596\n",
      "  🌀 Epoch 5/5, Total Loss: 2.1569, Binary: 0.2439, Intensity: 0.0823, Regression: 1.0286\n"
     ]
    },
    {
     "name": "stderr",
     "output_type": "stream",
     "text": [
      "[I 2025-04-23 16:39:22,085] Trial 15 finished with value: 0.21720873564481735 and parameters: {'hidden_size': 76, 'num_layers': 2, 'dropout': 0.4126147247151171, 'lr': 0.00012406272105466244, 'time_step_in': 35, 'time_step_out': 1, 'stride': 2, 'binary_weight': 1.257219774693709, 'intensity_weight': 0.5465884693940488, 'regression_weight': 1.7550821378569448, 'rain_threshold': 0.09219234448482369, 'num_lags': 2, 'lag_0': 8, 'lag_1': 5, 'num_windows': 1, 'window_0': 20}. Best is trial 15 with value: 0.21720873564481735.\n"
     ]
    },
    {
     "name": "stdout",
     "output_type": "stream",
     "text": [
      "Creating lag features for train set with lags: [8]\n",
      "Creating lag features for val set with lags: [8]\n",
      "Creating lag features for test set with lags: [8]\n",
      "Creating rolling stats for train set with windows: [11]\n",
      "Creating rolling stats for val set with windows: [11]\n",
      "Creating rolling stats for test set with windows: [11]\n",
      "Using 15 features: ['TCW', 'TCLW', 'R250', 'R500', 'R850', 'U850', 'V850', 'EWSS', 'KX', 'CAPE', 'SSHF', 'PEV', 'AWS_lag8', 'AWS_rollmean_11', 'AWS_rollstd_11']\n",
      "✅ Data shapes - Train: torch.Size([10020, 36, 15]), Val: torch.Size([10020, 36, 15]), Test: torch.Size([12014, 36, 15])\n",
      "Error in fold fold_1: Target size (torch.Size([64, 2])) must be the same as input size (torch.Size([64, 1]))\n",
      "Creating lag features for train set with lags: [8]\n",
      "Creating lag features for val set with lags: [8]\n",
      "Creating lag features for test set with lags: [8]\n",
      "Creating rolling stats for train set with windows: [11]\n",
      "Creating rolling stats for val set with windows: [11]\n",
      "Creating rolling stats for test set with windows: [11]\n",
      "Using 15 features: ['TCW', 'TCLW', 'R250', 'R500', 'R850', 'U850', 'V850', 'EWSS', 'KX', 'CAPE', 'SSHF', 'PEV', 'AWS_lag8', 'AWS_rollmean_11', 'AWS_rollstd_11']\n",
      "✅ Data shapes - Train: torch.Size([26052, 36, 15]), Val: torch.Size([10020, 36, 15]), Test: torch.Size([12014, 36, 15])\n",
      "Error in fold fold_2: Target size (torch.Size([64, 2])) must be the same as input size (torch.Size([64, 1]))\n",
      "Creating lag features for train set with lags: [8]\n",
      "Creating lag features for val set with lags: [8]\n",
      "Creating lag features for test set with lags: [8]\n",
      "Creating rolling stats for train set with windows: [11]\n",
      "Creating rolling stats for val set with windows: [11]\n",
      "Creating rolling stats for test set with windows: [11]\n",
      "Using 15 features: ['TCW', 'TCLW', 'R250', 'R500', 'R850', 'U850', 'V850', 'EWSS', 'KX', 'CAPE', 'SSHF', 'PEV', 'AWS_lag8', 'AWS_rollmean_11', 'AWS_rollstd_11']\n",
      "✅ Data shapes - Train: torch.Size([42084, 36, 15]), Val: torch.Size([10020, 36, 15]), Test: torch.Size([12014, 36, 15])\n",
      "Error in fold fold_3: Target size (torch.Size([64, 2])) must be the same as input size (torch.Size([64, 1]))\n",
      "Creating lag features for train set with lags: [8]\n",
      "Creating lag features for val set with lags: [8]\n",
      "Creating lag features for test set with lags: [8]\n",
      "Creating rolling stats for train set with windows: [11]\n",
      "Creating rolling stats for val set with windows: [11]\n",
      "Creating rolling stats for test set with windows: [11]\n",
      "Using 15 features: ['TCW', 'TCLW', 'R250', 'R500', 'R850', 'U850', 'V850', 'EWSS', 'KX', 'CAPE', 'SSHF', 'PEV', 'AWS_lag8', 'AWS_rollmean_11', 'AWS_rollstd_11']\n",
      "✅ Data shapes - Train: torch.Size([58116, 36, 15]), Val: torch.Size([10020, 36, 15]), Test: torch.Size([12014, 36, 15])\n",
      "Error in fold fold_4: Target size (torch.Size([64, 2])) must be the same as input size (torch.Size([64, 1]))\n",
      "Creating lag features for train set with lags: [8]\n",
      "Creating lag features for val set with lags: [8]\n",
      "Creating lag features for test set with lags: [8]\n",
      "Creating rolling stats for train set with windows: [11]\n",
      "Creating rolling stats for val set with windows: [11]\n",
      "Creating rolling stats for test set with windows: [11]\n",
      "Using 15 features: ['TCW', 'TCLW', 'R250', 'R500', 'R850', 'U850', 'V850', 'EWSS', 'KX', 'CAPE', 'SSHF', 'PEV', 'AWS_lag8', 'AWS_rollmean_11', 'AWS_rollstd_11']\n"
     ]
    },
    {
     "name": "stderr",
     "output_type": "stream",
     "text": [
      "[I 2025-04-23 16:40:05,599] Trial 16 finished with value: inf and parameters: {'hidden_size': 73, 'num_layers': 3, 'dropout': 0.29314279836069046, 'lr': 0.000611532084857156, 'time_step_in': 36, 'time_step_out': 2, 'stride': 2, 'binary_weight': 1.1932051171763196, 'intensity_weight': 0.5475460925278436, 'regression_weight': 1.9296892589920185, 'rain_threshold': 0.09675356629457388, 'num_lags': 1, 'lag_0': 8, 'num_windows': 1, 'window_0': 11}. Best is trial 15 with value: 0.21720873564481735.\n"
     ]
    },
    {
     "name": "stdout",
     "output_type": "stream",
     "text": [
      "✅ Data shapes - Train: torch.Size([74148, 36, 15]), Val: torch.Size([10020, 36, 15]), Test: torch.Size([12014, 36, 15])\n",
      "Error in fold fold_5: Target size (torch.Size([64, 2])) must be the same as input size (torch.Size([64, 1]))\n",
      "Creating lag features for train set with lags: [9, 7, 2]\n",
      "Creating lag features for val set with lags: [9, 7, 2]\n",
      "Creating lag features for test set with lags: [9, 7, 2]\n",
      "Creating rolling stats for train set with windows: [18]\n",
      "Creating rolling stats for val set with windows: [18]\n",
      "Creating rolling stats for test set with windows: [18]\n",
      "Using 17 features: ['TCW', 'TCLW', 'R250', 'R500', 'R850', 'U850', 'V850', 'EWSS', 'KX', 'CAPE', 'SSHF', 'PEV', 'AWS_lag9', 'AWS_lag7', 'AWS_lag2', 'AWS_rollmean_18', 'AWS_rollstd_18']\n",
      "✅ Data shapes - Train: torch.Size([17702, 41, 17]), Val: torch.Size([17702, 41, 17]), Test: torch.Size([22382, 41, 17])\n",
      "Error in fold fold_1: Target size (torch.Size([64, 3])) must be the same as input size (torch.Size([64, 1]))\n",
      "Creating lag features for train set with lags: [9, 7, 2]\n",
      "Creating lag features for val set with lags: [9, 7, 2]\n",
      "Creating lag features for test set with lags: [9, 7, 2]\n",
      "Creating rolling stats for train set with windows: [18]\n",
      "Creating rolling stats for val set with windows: [18]\n",
      "Creating rolling stats for test set with windows: [18]\n",
      "Using 17 features: ['TCW', 'TCLW', 'R250', 'R500', 'R850', 'U850', 'V850', 'EWSS', 'KX', 'CAPE', 'SSHF', 'PEV', 'AWS_lag9', 'AWS_lag7', 'AWS_lag2', 'AWS_rollmean_18', 'AWS_rollstd_18']\n",
      "✅ Data shapes - Train: torch.Size([49766, 41, 17]), Val: torch.Size([17702, 41, 17]), Test: torch.Size([22382, 41, 17])\n",
      "Error in fold fold_2: Target size (torch.Size([64, 3])) must be the same as input size (torch.Size([64, 1]))\n",
      "Creating lag features for train set with lags: [9, 7, 2]\n",
      "Creating lag features for val set with lags: [9, 7, 2]\n",
      "Creating lag features for test set with lags: [9, 7, 2]\n",
      "Creating rolling stats for train set with windows: [18]\n",
      "Creating rolling stats for val set with windows: [18]\n",
      "Creating rolling stats for test set with windows: [18]\n",
      "Using 17 features: ['TCW', 'TCLW', 'R250', 'R500', 'R850', 'U850', 'V850', 'EWSS', 'KX', 'CAPE', 'SSHF', 'PEV', 'AWS_lag9', 'AWS_lag7', 'AWS_lag2', 'AWS_rollmean_18', 'AWS_rollstd_18']\n",
      "✅ Data shapes - Train: torch.Size([81830, 41, 17]), Val: torch.Size([17702, 41, 17]), Test: torch.Size([22382, 41, 17])\n",
      "Error in fold fold_3: Target size (torch.Size([64, 3])) must be the same as input size (torch.Size([64, 1]))\n",
      "Creating lag features for train set with lags: [9, 7, 2]\n",
      "Creating lag features for val set with lags: [9, 7, 2]\n",
      "Creating lag features for test set with lags: [9, 7, 2]\n",
      "Creating rolling stats for train set with windows: [18]\n",
      "Creating rolling stats for val set with windows: [18]\n",
      "Creating rolling stats for test set with windows: [18]\n",
      "Using 17 features: ['TCW', 'TCLW', 'R250', 'R500', 'R850', 'U850', 'V850', 'EWSS', 'KX', 'CAPE', 'SSHF', 'PEV', 'AWS_lag9', 'AWS_lag7', 'AWS_lag2', 'AWS_rollmean_18', 'AWS_rollstd_18']\n",
      "✅ Data shapes - Train: torch.Size([113894, 41, 17]), Val: torch.Size([17702, 41, 17]), Test: torch.Size([22382, 41, 17])\n",
      "Error in fold fold_4: Target size (torch.Size([64, 3])) must be the same as input size (torch.Size([64, 1]))\n",
      "Creating lag features for train set with lags: [9, 7, 2]\n",
      "Creating lag features for val set with lags: [9, 7, 2]\n",
      "Creating lag features for test set with lags: [9, 7, 2]\n",
      "Creating rolling stats for train set with windows: [18]\n",
      "Creating rolling stats for val set with windows: [18]\n",
      "Creating rolling stats for test set with windows: [18]\n",
      "Using 17 features: ['TCW', 'TCLW', 'R250', 'R500', 'R850', 'U850', 'V850', 'EWSS', 'KX', 'CAPE', 'SSHF', 'PEV', 'AWS_lag9', 'AWS_lag7', 'AWS_lag2', 'AWS_rollmean_18', 'AWS_rollstd_18']\n"
     ]
    },
    {
     "name": "stderr",
     "output_type": "stream",
     "text": [
      "[I 2025-04-23 16:41:37,312] Trial 17 finished with value: inf and parameters: {'hidden_size': 81, 'num_layers': 2, 'dropout': 0.1649733777148864, 'lr': 0.00022957097253657353, 'time_step_in': 41, 'time_step_out': 3, 'stride': 1, 'binary_weight': 1.5860725070280686, 'intensity_weight': 0.8696782811775662, 'regression_weight': 1.723595887106773, 'rain_threshold': 0.10148602966997577, 'num_lags': 3, 'lag_0': 9, 'lag_1': 7, 'lag_2': 2, 'num_windows': 1, 'window_0': 18}. Best is trial 15 with value: 0.21720873564481735.\n"
     ]
    },
    {
     "name": "stdout",
     "output_type": "stream",
     "text": [
      "✅ Data shapes - Train: torch.Size([145958, 41, 17]), Val: torch.Size([17702, 41, 17]), Test: torch.Size([22382, 41, 17])\n",
      "Error in fold fold_5: Target size (torch.Size([64, 3])) must be the same as input size (torch.Size([64, 1]))\n",
      "Creating lag features for train set with lags: [9]\n",
      "Creating lag features for val set with lags: [9]\n",
      "Creating lag features for test set with lags: [9]\n",
      "Creating rolling stats for train set with windows: [20]\n",
      "Creating rolling stats for val set with windows: [20]\n",
      "Creating rolling stats for test set with windows: [20]\n",
      "Using 15 features: ['TCW', 'TCLW', 'R250', 'R500', 'R850', 'U850', 'V850', 'EWSS', 'KX', 'CAPE', 'SSHF', 'PEV', 'AWS_lag9', 'AWS_rollmean_20', 'AWS_rollstd_20']\n",
      "✅ Data shapes - Train: torch.Size([6680, 37, 15]), Val: torch.Size([6680, 37, 15]), Test: torch.Size([8040, 37, 15])\n",
      "  🌀 Epoch 1/5, Total Loss: 10.5159, Binary: 0.7177, Intensity: 1.0024, Regression: 5.1267\n",
      "Error in fold fold_1: Expected input batch_size (1) to match target batch_size (0).\n",
      "Creating lag features for train set with lags: [9]\n",
      "Creating lag features for val set with lags: [9]\n",
      "Creating lag features for test set with lags: [9]\n",
      "Creating rolling stats for train set with windows: [20]\n",
      "Creating rolling stats for val set with windows: [20]\n",
      "Creating rolling stats for test set with windows: [20]\n",
      "Using 15 features: ['TCW', 'TCLW', 'R250', 'R500', 'R850', 'U850', 'V850', 'EWSS', 'KX', 'CAPE', 'SSHF', 'PEV', 'AWS_lag9', 'AWS_rollmean_20', 'AWS_rollstd_20']\n",
      "✅ Data shapes - Train: torch.Size([17368, 37, 15]), Val: torch.Size([6680, 37, 15]), Test: torch.Size([8040, 37, 15])\n",
      "Error in fold fold_2: Expected input batch_size (1) to match target batch_size (0).\n",
      "Creating lag features for train set with lags: [9]\n",
      "Creating lag features for val set with lags: [9]\n",
      "Creating lag features for test set with lags: [9]\n",
      "Creating rolling stats for train set with windows: [20]\n",
      "Creating rolling stats for val set with windows: [20]\n",
      "Creating rolling stats for test set with windows: [20]\n",
      "Using 15 features: ['TCW', 'TCLW', 'R250', 'R500', 'R850', 'U850', 'V850', 'EWSS', 'KX', 'CAPE', 'SSHF', 'PEV', 'AWS_lag9', 'AWS_rollmean_20', 'AWS_rollstd_20']\n",
      "✅ Data shapes - Train: torch.Size([28056, 37, 15]), Val: torch.Size([6680, 37, 15]), Test: torch.Size([8040, 37, 15])\n",
      "Error in fold fold_3: Expected input batch_size (1) to match target batch_size (0).\n",
      "Creating lag features for train set with lags: [9]\n",
      "Creating lag features for val set with lags: [9]\n",
      "Creating lag features for test set with lags: [9]\n",
      "Creating rolling stats for train set with windows: [20]\n",
      "Creating rolling stats for val set with windows: [20]\n",
      "Creating rolling stats for test set with windows: [20]\n",
      "Using 15 features: ['TCW', 'TCLW', 'R250', 'R500', 'R850', 'U850', 'V850', 'EWSS', 'KX', 'CAPE', 'SSHF', 'PEV', 'AWS_lag9', 'AWS_rollmean_20', 'AWS_rollstd_20']\n",
      "✅ Data shapes - Train: torch.Size([38744, 37, 15]), Val: torch.Size([6680, 37, 15]), Test: torch.Size([8040, 37, 15])\n",
      "Error in fold fold_4: Expected input batch_size (1) to match target batch_size (0).\n",
      "Creating lag features for train set with lags: [9]\n",
      "Creating lag features for val set with lags: [9]\n",
      "Creating lag features for test set with lags: [9]\n",
      "Creating rolling stats for train set with windows: [20]\n",
      "Creating rolling stats for val set with windows: [20]\n",
      "Creating rolling stats for test set with windows: [20]\n",
      "Using 15 features: ['TCW', 'TCLW', 'R250', 'R500', 'R850', 'U850', 'V850', 'EWSS', 'KX', 'CAPE', 'SSHF', 'PEV', 'AWS_lag9', 'AWS_rollmean_20', 'AWS_rollstd_20']\n",
      "✅ Data shapes - Train: torch.Size([49432, 37, 15]), Val: torch.Size([6680, 37, 15]), Test: torch.Size([8040, 37, 15])\n",
      "  🌀 Epoch 1/5, Total Loss: 3.5062, Binary: 0.5932, Intensity: 0.4715, Regression: 1.3339\n",
      "  🌀 Epoch 2/5, Total Loss: 2.8878, Binary: 0.5297, Intensity: 0.1265, Regression: 1.2549\n",
      "  🌀 Epoch 3/5, Total Loss: 2.9195, Binary: 0.5296, Intensity: 0.1235, Regression: 1.2765\n",
      "  🌀 Epoch 4/5, Total Loss: 2.8317, Binary: 0.5302, Intensity: 0.1206, Regression: 1.2246\n"
     ]
    },
    {
     "name": "stderr",
     "output_type": "stream",
     "text": [
      "[I 2025-04-23 16:42:28,550] Trial 18 finished with value: 0.3129393458366394 and parameters: {'hidden_size': 42, 'num_layers': 2, 'dropout': 0.28576224587141996, 'lr': 0.00010151122442801041, 'time_step_in': 37, 'time_step_out': 1, 'stride': 3, 'binary_weight': 1.2827137091916228, 'intensity_weight': 1.1807299753542226, 'regression_weight': 1.6407350014684292, 'rain_threshold': 0.07618555749639916, 'num_lags': 1, 'lag_0': 9, 'num_windows': 1, 'window_0': 20}. Best is trial 15 with value: 0.21720873564481735.\n"
     ]
    },
    {
     "name": "stdout",
     "output_type": "stream",
     "text": [
      "  🌀 Epoch 5/5, Total Loss: 2.8435, Binary: 0.5305, Intensity: 0.1165, Regression: 1.2345\n",
      "Creating lag features for train set with lags: [7, 5]\n",
      "Creating lag features for val set with lags: [7, 5]\n",
      "Creating lag features for test set with lags: [7, 5]\n",
      "Creating rolling stats for train set with windows: [13, 24]\n",
      "Creating rolling stats for val set with windows: [13, 24]\n",
      "Creating rolling stats for test set with windows: [13, 24]\n",
      "Using 18 features: ['TCW', 'TCLW', 'R250', 'R500', 'R850', 'U850', 'V850', 'EWSS', 'KX', 'CAPE', 'SSHF', 'PEV', 'AWS_lag7', 'AWS_lag5', 'AWS_rollmean_13', 'AWS_rollstd_13', 'AWS_rollmean_24', 'AWS_rollstd_24']\n",
      "✅ Data shapes - Train: torch.Size([7682, 27, 18]), Val: torch.Size([7682, 27, 18]), Test: torch.Size([8783, 27, 18])\n",
      "Error in fold fold_1: Target size (torch.Size([64, 2])) must be the same as input size (torch.Size([64, 1]))\n",
      "Creating lag features for train set with lags: [7, 5]\n",
      "Creating lag features for val set with lags: [7, 5]\n",
      "Creating lag features for test set with lags: [7, 5]\n",
      "Creating rolling stats for train set with windows: [13, 24]\n",
      "Creating rolling stats for val set with windows: [13, 24]\n",
      "Creating rolling stats for test set with windows: [13, 24]\n",
      "Using 18 features: ['TCW', 'TCLW', 'R250', 'R500', 'R850', 'U850', 'V850', 'EWSS', 'KX', 'CAPE', 'SSHF', 'PEV', 'AWS_lag7', 'AWS_lag5', 'AWS_rollmean_13', 'AWS_rollstd_13', 'AWS_rollmean_24', 'AWS_rollstd_24']\n",
      "✅ Data shapes - Train: torch.Size([18370, 27, 18]), Val: torch.Size([7682, 27, 18]), Test: torch.Size([8783, 27, 18])\n",
      "Error in fold fold_2: Target size (torch.Size([64, 2])) must be the same as input size (torch.Size([64, 1]))\n",
      "Creating lag features for train set with lags: [7, 5]\n",
      "Creating lag features for val set with lags: [7, 5]\n",
      "Creating lag features for test set with lags: [7, 5]\n",
      "Creating rolling stats for train set with windows: [13, 24]\n",
      "Creating rolling stats for val set with windows: [13, 24]\n",
      "Creating rolling stats for test set with windows: [13, 24]\n",
      "Using 18 features: ['TCW', 'TCLW', 'R250', 'R500', 'R850', 'U850', 'V850', 'EWSS', 'KX', 'CAPE', 'SSHF', 'PEV', 'AWS_lag7', 'AWS_lag5', 'AWS_rollmean_13', 'AWS_rollstd_13', 'AWS_rollmean_24', 'AWS_rollstd_24']\n",
      "✅ Data shapes - Train: torch.Size([29058, 27, 18]), Val: torch.Size([7682, 27, 18]), Test: torch.Size([8783, 27, 18])\n",
      "Error in fold fold_3: Target size (torch.Size([64, 2])) must be the same as input size (torch.Size([64, 1]))\n",
      "Creating lag features for train set with lags: [7, 5]\n",
      "Creating lag features for val set with lags: [7, 5]\n",
      "Creating lag features for test set with lags: [7, 5]\n",
      "Creating rolling stats for train set with windows: [13, 24]\n",
      "Creating rolling stats for val set with windows: [13, 24]\n",
      "Creating rolling stats for test set with windows: [13, 24]\n",
      "Using 18 features: ['TCW', 'TCLW', 'R250', 'R500', 'R850', 'U850', 'V850', 'EWSS', 'KX', 'CAPE', 'SSHF', 'PEV', 'AWS_lag7', 'AWS_lag5', 'AWS_rollmean_13', 'AWS_rollstd_13', 'AWS_rollmean_24', 'AWS_rollstd_24']\n",
      "✅ Data shapes - Train: torch.Size([39746, 27, 18]), Val: torch.Size([7682, 27, 18]), Test: torch.Size([8783, 27, 18])\n",
      "Error in fold fold_4: Target size (torch.Size([64, 2])) must be the same as input size (torch.Size([64, 1]))\n",
      "Creating lag features for train set with lags: [7, 5]\n",
      "Creating lag features for val set with lags: [7, 5]\n",
      "Creating lag features for test set with lags: [7, 5]\n",
      "Creating rolling stats for train set with windows: [13, 24]\n",
      "Creating rolling stats for val set with windows: [13, 24]\n",
      "Creating rolling stats for test set with windows: [13, 24]\n",
      "Using 18 features: ['TCW', 'TCLW', 'R250', 'R500', 'R850', 'U850', 'V850', 'EWSS', 'KX', 'CAPE', 'SSHF', 'PEV', 'AWS_lag7', 'AWS_lag5', 'AWS_rollmean_13', 'AWS_rollstd_13', 'AWS_rollmean_24', 'AWS_rollstd_24']\n"
     ]
    },
    {
     "name": "stderr",
     "output_type": "stream",
     "text": [
      "[I 2025-04-23 16:43:01,409] Trial 19 finished with value: inf and parameters: {'hidden_size': 64, 'num_layers': 3, 'dropout': 0.43668435055025917, 'lr': 0.00030400665113186257, 'time_step_in': 27, 'time_step_out': 2, 'stride': 3, 'binary_weight': 1.6720699613303294, 'intensity_weight': 0.5136960201489061, 'regression_weight': 1.8548283196066218, 'rain_threshold': 0.14609955573038158, 'num_lags': 2, 'lag_0': 7, 'lag_1': 5, 'num_windows': 2, 'window_0': 13, 'window_1': 24}. Best is trial 15 with value: 0.21720873564481735.\n"
     ]
    },
    {
     "name": "stdout",
     "output_type": "stream",
     "text": [
      "✅ Data shapes - Train: torch.Size([50434, 27, 18]), Val: torch.Size([7682, 27, 18]), Test: torch.Size([8783, 27, 18])\n",
      "Error in fold fold_5: Target size (torch.Size([64, 2])) must be the same as input size (torch.Size([64, 1]))\n",
      "✅ Best parameters for 2019-04:\n",
      "  hidden_size: 76\n",
      "  num_layers: 2\n",
      "  dropout: 0.4126147247151171\n",
      "  lr: 0.00012406272105466244\n",
      "  time_step_in: 35\n",
      "  time_step_out: 1\n",
      "  stride: 2\n",
      "  binary_weight: 1.257219774693709\n",
      "  intensity_weight: 0.5465884693940488\n",
      "  regression_weight: 1.7550821378569448\n",
      "  rain_threshold: 0.09219234448482369\n",
      "  num_lags: 2\n",
      "  lag_0: 8\n",
      "  lag_1: 5\n",
      "  num_windows: 1\n",
      "  window_0: 20\n",
      "💾 Best parameters saved to hybrid_best_params_2019-04.json\n",
      "\n",
      "📦 Final evaluation on 2019-04, fold_1 test set\n",
      "\n",
      "🚀 Training hybrid model for 2019-04, fold_1 with best parameters\n",
      "Creating lag features for train set with lags: [8, 5]\n",
      "Creating lag features for val set with lags: [8, 5]\n",
      "Creating lag features for test set with lags: [8, 5]\n",
      "Creating rolling stats for train set with windows: [20]\n",
      "Creating rolling stats for val set with windows: [20]\n",
      "Creating rolling stats for test set with windows: [20]\n",
      "Using 16 features: ['TCW', 'TCLW', 'R250', 'R500', 'R850', 'U850', 'V850', 'EWSS', 'KX', 'CAPE', 'SSHF', 'PEV', 'AWS_lag8', 'AWS_lag5', 'AWS_rollmean_20', 'AWS_rollstd_20']\n",
      "✅ Data shapes - Train: torch.Size([10354, 35, 16]), Val: torch.Size([10354, 35, 16]), Test: torch.Size([12260, 35, 16])\n",
      "🏋️ Training hybrid model on train set...\n",
      "  🌀 Epoch 1/10, Total Loss: 7.9717, Binary: 0.6165, Intensity: 1.0937, Regression: 3.7598\n",
      "  🌀 Epoch 2/10, Total Loss: 7.9465, Binary: 0.4645, Intensity: 0.7456, Regression: 3.9628\n",
      "  🌀 Epoch 3/10, Total Loss: 7.5758, Binary: 0.4480, Intensity: 0.4910, Regression: 3.8427\n",
      "  🌀 Epoch 4/10, Total Loss: 7.2023, Binary: 0.4470, Intensity: 0.3730, Regression: 3.6673\n",
      "  🌀 Epoch 5/10, Total Loss: 7.3749, Binary: 0.4456, Intensity: 0.3516, Regression: 3.7733\n",
      "  🌀 Epoch 6/10, Total Loss: 7.2866, Binary: 0.4371, Intensity: 0.3450, Regression: 3.7312\n",
      "  🌀 Epoch 7/10, Total Loss: 7.0502, Binary: 0.4311, Intensity: 0.3368, Regression: 3.6033\n",
      "  🌀 Epoch 8/10, Total Loss: 6.9766, Binary: 0.4180, Intensity: 0.3645, Regression: 3.5621\n",
      "  🌀 Epoch 9/10, Total Loss: 6.6318, Binary: 0.4129, Intensity: 0.3486, Regression: 3.3743\n",
      "  🌀 Epoch 10/10, Total Loss: 6.4628, Binary: 0.4126, Intensity: 0.3516, Regression: 3.2773\n",
      "📊 Evaluating on validation set...\n",
      "  Val RMSE: 0.1893, Bias: -0.0094, R²: -0.0025, CSI: 0.0000\n",
      "  Binary Accuracy: 0.9953, Intensity Accuracy: 0.8571\n",
      "🧪 Evaluating on test set...\n",
      "  Test RMSE: 1.3419, Bias: -0.2639, R²: -0.0402, CSI: 0.0000\n",
      "  Binary Accuracy: 0.9051, Intensity Accuracy: 0.6578\n",
      "💾 Model saved to hybrid_model_2019-04_fold_1.pt\n",
      "\n",
      "📦 Final evaluation on 2019-04, fold_2 test set\n",
      "\n",
      "🚀 Training hybrid model for 2019-04, fold_2 with best parameters\n",
      "Creating lag features for train set with lags: [8, 5]\n",
      "Creating lag features for val set with lags: [8, 5]\n",
      "Creating lag features for test set with lags: [8, 5]\n",
      "Creating rolling stats for train set with windows: [20]\n",
      "Creating rolling stats for val set with windows: [20]\n",
      "Creating rolling stats for test set with windows: [20]\n",
      "Using 16 features: ['TCW', 'TCLW', 'R250', 'R500', 'R850', 'U850', 'V850', 'EWSS', 'KX', 'CAPE', 'SSHF', 'PEV', 'AWS_lag8', 'AWS_lag5', 'AWS_rollmean_20', 'AWS_rollstd_20']\n",
      "✅ Data shapes - Train: torch.Size([26386, 35, 16]), Val: torch.Size([10354, 35, 16]), Test: torch.Size([12260, 35, 16])\n",
      "🏋️ Training hybrid model on train set...\n"
     ]
    },
    {
     "name": "stderr",
     "output_type": "stream",
     "text": [
      "[I 2025-04-23 16:43:21,673] A new study created in memory with name: hybrid_2019-10_study\n"
     ]
    },
    {
     "name": "stdout",
     "output_type": "stream",
     "text": [
      "❌ Error during optimization for 2019-04: Expected input batch_size (1) to match target batch_size (0).\n",
      "\n",
      "📅 Processing month: 2019-10\n",
      "🔍 Finding optimal hyperparameters for hybrid model on 2019-10 using cross-validation...\n",
      "📥 Loading /kaggle/input/ai-dataimputedataset-k-fold/2019-10/fold_1/processed_train.csv\n",
      "📥 Loading /kaggle/input/ai-dataimputedataset-k-fold/2019-10/fold_1/processed_val.csv\n",
      "📥 Loading /kaggle/input/ai-dataimputedataset-k-fold/2019-10/fold_1/merged_test.csv\n",
      "Creating lag features for train set with lags: [7, 9, 11]\n",
      "Creating lag features for val set with lags: [7, 9, 11]\n",
      "Creating lag features for test set with lags: [7, 9, 11]\n",
      "Creating rolling stats for train set with windows: [8, 3]\n",
      "Creating rolling stats for val set with windows: [8, 3]\n",
      "Creating rolling stats for test set with windows: [8, 3]\n",
      "Using 19 features: ['TCW', 'TCLW', 'R250', 'R500', 'R850', 'U850', 'V850', 'EWSS', 'KX', 'CAPE', 'SSHF', 'PEV', 'AWS_lag7', 'AWS_lag9', 'AWS_lag11', 'AWS_rollmean_8', 'AWS_rollstd_8', 'AWS_rollmean_3', 'AWS_rollstd_3']\n",
      "✅ Data shapes - Train: torch.Size([4518, 19, 19]), Val: torch.Size([4756, 19, 19]), Test: torch.Size([4016, 19, 19])\n",
      "Error in fold fold_1: Target size (torch.Size([128, 5])) must be the same as input size (torch.Size([128, 1]))\n",
      "📥 Loading /kaggle/input/ai-dataimputedataset-k-fold/2019-10/fold_2/processed_train.csv\n",
      "📥 Loading /kaggle/input/ai-dataimputedataset-k-fold/2019-10/fold_2/processed_val.csv\n",
      "📥 Loading /kaggle/input/ai-dataimputedataset-k-fold/2019-10/fold_2/merged_test.csv\n",
      "Creating lag features for train set with lags: [7, 9, 11]\n",
      "Creating lag features for val set with lags: [7, 9, 11]\n",
      "Creating lag features for test set with lags: [7, 9, 11]\n",
      "Creating rolling stats for train set with windows: [8, 3]\n",
      "Creating rolling stats for val set with windows: [8, 3]\n",
      "Creating rolling stats for test set with windows: [8, 3]\n",
      "Using 19 features: ['TCW', 'TCLW', 'R250', 'R500', 'R850', 'U850', 'V850', 'EWSS', 'KX', 'CAPE', 'SSHF', 'PEV', 'AWS_lag7', 'AWS_lag9', 'AWS_lag11', 'AWS_rollmean_8', 'AWS_rollstd_8', 'AWS_rollmean_3', 'AWS_rollstd_3']\n",
      "✅ Data shapes - Train: torch.Size([10038, 19, 19]), Val: torch.Size([4699, 19, 19]), Test: torch.Size([3926, 19, 19])\n",
      "Error in fold fold_2: Target size (torch.Size([128, 5])) must be the same as input size (torch.Size([128, 1]))\n",
      "📥 Loading /kaggle/input/ai-dataimputedataset-k-fold/2019-10/fold_3/processed_train.csv\n",
      "📥 Loading /kaggle/input/ai-dataimputedataset-k-fold/2019-10/fold_3/processed_val.csv\n",
      "📥 Loading /kaggle/input/ai-dataimputedataset-k-fold/2019-10/fold_3/merged_test.csv\n",
      "Creating lag features for train set with lags: [7, 9, 11]\n",
      "Creating lag features for val set with lags: [7, 9, 11]\n",
      "Creating lag features for test set with lags: [7, 9, 11]\n",
      "Creating rolling stats for train set with windows: [8, 3]\n",
      "Creating rolling stats for val set with windows: [8, 3]\n",
      "Creating rolling stats for test set with windows: [8, 3]\n",
      "Using 19 features: ['TCW', 'TCLW', 'R250', 'R500', 'R850', 'U850', 'V850', 'EWSS', 'KX', 'CAPE', 'SSHF', 'PEV', 'AWS_lag7', 'AWS_lag9', 'AWS_lag11', 'AWS_rollmean_8', 'AWS_rollstd_8', 'AWS_rollmean_3', 'AWS_rollstd_3']\n",
      "✅ Data shapes - Train: torch.Size([15558, 19, 19]), Val: torch.Size([4677, 19, 19]), Test: torch.Size([3807, 19, 19])\n",
      "Error in fold fold_3: Target size (torch.Size([128, 5])) must be the same as input size (torch.Size([128, 1]))\n",
      "📥 Loading /kaggle/input/ai-dataimputedataset-k-fold/2019-10/fold_4/processed_train.csv\n",
      "📥 Loading /kaggle/input/ai-dataimputedataset-k-fold/2019-10/fold_4/processed_val.csv\n",
      "📥 Loading /kaggle/input/ai-dataimputedataset-k-fold/2019-10/fold_4/merged_test.csv\n",
      "Creating lag features for train set with lags: [7, 9, 11]\n",
      "Creating lag features for val set with lags: [7, 9, 11]\n",
      "Creating lag features for test set with lags: [7, 9, 11]\n",
      "Creating rolling stats for train set with windows: [8, 3]\n",
      "Creating rolling stats for val set with windows: [8, 3]\n",
      "Creating rolling stats for test set with windows: [8, 3]\n",
      "Using 19 features: ['TCW', 'TCLW', 'R250', 'R500', 'R850', 'U850', 'V850', 'EWSS', 'KX', 'CAPE', 'SSHF', 'PEV', 'AWS_lag7', 'AWS_lag9', 'AWS_lag11', 'AWS_rollmean_8', 'AWS_rollstd_8', 'AWS_rollmean_3', 'AWS_rollstd_3']\n",
      "✅ Data shapes - Train: torch.Size([21078, 19, 19]), Val: torch.Size([4511, 19, 19]), Test: torch.Size([3663, 19, 19])\n",
      "Error in fold fold_4: Target size (torch.Size([128, 5])) must be the same as input size (torch.Size([128, 1]))\n",
      "📥 Loading /kaggle/input/ai-dataimputedataset-k-fold/2019-10/fold_5/processed_train.csv\n",
      "📥 Loading /kaggle/input/ai-dataimputedataset-k-fold/2019-10/fold_5/processed_val.csv\n",
      "📥 Loading /kaggle/input/ai-dataimputedataset-k-fold/2019-10/fold_5/merged_test.csv\n",
      "Creating lag features for train set with lags: [7, 9, 11]\n",
      "Creating lag features for val set with lags: [7, 9, 11]\n",
      "Creating lag features for test set with lags: [7, 9, 11]\n",
      "Creating rolling stats for train set with windows: [8, 3]\n",
      "Creating rolling stats for val set with windows: [8, 3]\n",
      "Creating rolling stats for test set with windows: [8, 3]\n",
      "Using 19 features: ['TCW', 'TCLW', 'R250', 'R500', 'R850', 'U850', 'V850', 'EWSS', 'KX', 'CAPE', 'SSHF', 'PEV', 'AWS_lag7', 'AWS_lag9', 'AWS_lag11', 'AWS_rollmean_8', 'AWS_rollstd_8', 'AWS_rollmean_3', 'AWS_rollstd_3']\n"
     ]
    },
    {
     "name": "stderr",
     "output_type": "stream",
     "text": [
      "[I 2025-04-23 16:43:51,703] Trial 0 finished with value: inf and parameters: {'hidden_size': 62, 'num_layers': 3, 'dropout': 0.058178300036031694, 'lr': 0.0034328798704487554, 'time_step_in': 19, 'time_step_out': 5, 'stride': 6, 'binary_weight': 1.2455651293820538, 'intensity_weight': 1.3479059761602574, 'regression_weight': 1.5987714019978108, 'rain_threshold': 0.1781125382424365, 'num_lags': 3, 'lag_0': 7, 'lag_1': 9, 'lag_2': 11, 'num_windows': 2, 'window_0': 8, 'window_1': 3}. Best is trial 0 with value: inf.\n"
     ]
    },
    {
     "name": "stdout",
     "output_type": "stream",
     "text": [
      "✅ Data shapes - Train: torch.Size([26598, 19, 19]), Val: torch.Size([4365, 19, 19]), Test: torch.Size([3474, 19, 19])\n",
      "Error in fold fold_5: Target size (torch.Size([128, 5])) must be the same as input size (torch.Size([128, 1]))\n",
      "Creating lag features for train set with lags: [6]\n",
      "Creating lag features for val set with lags: [6]\n",
      "Creating lag features for test set with lags: [6]\n",
      "Creating rolling stats for train set with windows: [12, 7]\n",
      "Creating rolling stats for val set with windows: [12, 7]\n",
      "Creating rolling stats for test set with windows: [12, 7]\n",
      "Using 17 features: ['TCW', 'TCLW', 'R250', 'R500', 'R850', 'U850', 'V850', 'EWSS', 'KX', 'CAPE', 'SSHF', 'PEV', 'AWS_lag6', 'AWS_rollmean_12', 'AWS_rollstd_12', 'AWS_rollmean_7', 'AWS_rollstd_7']\n",
      "✅ Data shapes - Train: torch.Size([3898, 42, 17]), Val: torch.Size([4829, 42, 17]), Test: torch.Size([4148, 42, 17])\n",
      "Error in fold fold_1: Target size (torch.Size([128, 2])) must be the same as input size (torch.Size([128, 1]))\n",
      "Creating lag features for train set with lags: [6]\n",
      "Creating lag features for val set with lags: [6]\n",
      "Creating lag features for test set with lags: [6]\n",
      "Creating rolling stats for train set with windows: [12, 7]\n",
      "Creating rolling stats for val set with windows: [12, 7]\n",
      "Creating rolling stats for test set with windows: [12, 7]\n",
      "Using 17 features: ['TCW', 'TCLW', 'R250', 'R500', 'R850', 'U850', 'V850', 'EWSS', 'KX', 'CAPE', 'SSHF', 'PEV', 'AWS_lag6', 'AWS_rollmean_12', 'AWS_rollstd_12', 'AWS_rollmean_7', 'AWS_rollstd_7']\n",
      "✅ Data shapes - Train: torch.Size([10461, 42, 17]), Val: torch.Size([4878, 42, 17]), Test: torch.Size([3937, 42, 17])\n",
      "Error in fold fold_2: Target size (torch.Size([128, 2])) must be the same as input size (torch.Size([128, 1]))\n",
      "Creating lag features for train set with lags: [6]\n",
      "Creating lag features for val set with lags: [6]\n",
      "Creating lag features for test set with lags: [6]\n",
      "Creating rolling stats for train set with windows: [12, 7]\n",
      "Creating rolling stats for val set with windows: [12, 7]\n",
      "Creating rolling stats for test set with windows: [12, 7]\n",
      "Using 17 features: ['TCW', 'TCLW', 'R250', 'R500', 'R850', 'U850', 'V850', 'EWSS', 'KX', 'CAPE', 'SSHF', 'PEV', 'AWS_lag6', 'AWS_rollmean_12', 'AWS_rollstd_12', 'AWS_rollmean_7', 'AWS_rollstd_7']\n",
      "✅ Data shapes - Train: torch.Size([17027, 42, 17]), Val: torch.Size([4783, 42, 17]), Test: torch.Size([3756, 42, 17])\n",
      "Error in fold fold_3: Target size (torch.Size([128, 2])) must be the same as input size (torch.Size([128, 1]))\n",
      "Creating lag features for train set with lags: [6]\n",
      "Creating lag features for val set with lags: [6]\n",
      "Creating lag features for test set with lags: [6]\n",
      "Creating rolling stats for train set with windows: [12, 7]\n",
      "Creating rolling stats for val set with windows: [12, 7]\n",
      "Creating rolling stats for test set with windows: [12, 7]\n",
      "Using 17 features: ['TCW', 'TCLW', 'R250', 'R500', 'R850', 'U850', 'V850', 'EWSS', 'KX', 'CAPE', 'SSHF', 'PEV', 'AWS_lag6', 'AWS_rollmean_12', 'AWS_rollstd_12', 'AWS_rollmean_7', 'AWS_rollstd_7']\n",
      "✅ Data shapes - Train: torch.Size([23747, 42, 17]), Val: torch.Size([4499, 42, 17]), Test: torch.Size([3442, 42, 17])\n",
      "Error in fold fold_4: Target size (torch.Size([128, 2])) must be the same as input size (torch.Size([128, 1]))\n",
      "Creating lag features for train set with lags: [6]\n",
      "Creating lag features for val set with lags: [6]\n",
      "Creating lag features for test set with lags: [6]\n",
      "Creating rolling stats for train set with windows: [12, 7]\n",
      "Creating rolling stats for val set with windows: [12, 7]\n",
      "Creating rolling stats for test set with windows: [12, 7]\n",
      "Using 17 features: ['TCW', 'TCLW', 'R250', 'R500', 'R850', 'U850', 'V850', 'EWSS', 'KX', 'CAPE', 'SSHF', 'PEV', 'AWS_lag6', 'AWS_rollmean_12', 'AWS_rollstd_12', 'AWS_rollmean_7', 'AWS_rollstd_7']\n"
     ]
    },
    {
     "name": "stderr",
     "output_type": "stream",
     "text": [
      "[I 2025-04-23 16:44:20,820] Trial 1 finished with value: inf and parameters: {'hidden_size': 60, 'num_layers': 2, 'dropout': 0.25351261977636946, 'lr': 0.0013829370998584007, 'time_step_in': 42, 'time_step_out': 2, 'stride': 5, 'binary_weight': 1.8292854722535066, 'intensity_weight': 0.7054798066725456, 'regression_weight': 0.8219214665512331, 'rain_threshold': 0.1483535482891734, 'num_lags': 1, 'lag_0': 6, 'num_windows': 2, 'window_0': 12, 'window_1': 7}. Best is trial 0 with value: inf.\n"
     ]
    },
    {
     "name": "stdout",
     "output_type": "stream",
     "text": [
      "✅ Data shapes - Train: torch.Size([30492, 42, 17]), Val: torch.Size([4180, 42, 17]), Test: torch.Size([3095, 42, 17])\n",
      "Error in fold fold_5: Target size (torch.Size([128, 2])) must be the same as input size (torch.Size([128, 1]))\n",
      "Creating lag features for train set with lags: [9, 10, 1]\n",
      "Creating lag features for val set with lags: [9, 10, 1]\n",
      "Creating lag features for test set with lags: [9, 10, 1]\n",
      "Creating rolling stats for train set with windows: [22, 20]\n",
      "Creating rolling stats for val set with windows: [22, 20]\n",
      "Creating rolling stats for test set with windows: [22, 20]\n",
      "Using 19 features: ['TCW', 'TCLW', 'R250', 'R500', 'R850', 'U850', 'V850', 'EWSS', 'KX', 'CAPE', 'SSHF', 'PEV', 'AWS_lag9', 'AWS_lag10', 'AWS_lag1', 'AWS_rollmean_22', 'AWS_rollstd_22', 'AWS_rollmean_20', 'AWS_rollstd_20']\n",
      "✅ Data shapes - Train: torch.Size([3565, 43, 19]), Val: torch.Size([4642, 43, 19]), Test: torch.Size([3999, 43, 19])\n",
      "Error in fold fold_1: Target size (torch.Size([128, 6])) must be the same as input size (torch.Size([128, 1]))\n",
      "Creating lag features for train set with lags: [9, 10, 1]\n",
      "Creating lag features for val set with lags: [9, 10, 1]\n",
      "Creating lag features for test set with lags: [9, 10, 1]\n",
      "Creating rolling stats for train set with windows: [22, 20]\n",
      "Creating rolling stats for val set with windows: [22, 20]\n",
      "Creating rolling stats for test set with windows: [22, 20]\n",
      "Using 19 features: ['TCW', 'TCLW', 'R250', 'R500', 'R850', 'U850', 'V850', 'EWSS', 'KX', 'CAPE', 'SSHF', 'PEV', 'AWS_lag9', 'AWS_lag10', 'AWS_lag1', 'AWS_rollmean_22', 'AWS_rollstd_22', 'AWS_rollmean_20', 'AWS_rollstd_20']\n",
      "✅ Data shapes - Train: torch.Size([10127, 43, 19]), Val: torch.Size([4702, 43, 19]), Test: torch.Size([3775, 43, 19])\n",
      "Error in fold fold_2: Target size (torch.Size([128, 6])) must be the same as input size (torch.Size([128, 1]))\n",
      "Creating lag features for train set with lags: [9, 10, 1]\n",
      "Creating lag features for val set with lags: [9, 10, 1]\n",
      "Creating lag features for test set with lags: [9, 10, 1]\n",
      "Creating rolling stats for train set with windows: [22, 20]\n",
      "Creating rolling stats for val set with windows: [22, 20]\n",
      "Creating rolling stats for test set with windows: [22, 20]\n",
      "Using 19 features: ['TCW', 'TCLW', 'R250', 'R500', 'R850', 'U850', 'V850', 'EWSS', 'KX', 'CAPE', 'SSHF', 'PEV', 'AWS_lag9', 'AWS_lag10', 'AWS_lag1', 'AWS_rollmean_22', 'AWS_rollstd_22', 'AWS_rollmean_20', 'AWS_rollstd_20']\n",
      "✅ Data shapes - Train: torch.Size([16693, 43, 19]), Val: torch.Size([4585, 43, 19]), Test: torch.Size([3576, 43, 19])\n",
      "Error in fold fold_3: Target size (torch.Size([128, 6])) must be the same as input size (torch.Size([128, 1]))\n",
      "Creating lag features for train set with lags: [9, 10, 1]\n",
      "Creating lag features for val set with lags: [9, 10, 1]\n",
      "Creating lag features for test set with lags: [9, 10, 1]\n",
      "Creating rolling stats for train set with windows: [22, 20]\n",
      "Creating rolling stats for val set with windows: [22, 20]\n",
      "Creating rolling stats for test set with windows: [22, 20]\n",
      "Using 19 features: ['TCW', 'TCLW', 'R250', 'R500', 'R850', 'U850', 'V850', 'EWSS', 'KX', 'CAPE', 'SSHF', 'PEV', 'AWS_lag9', 'AWS_lag10', 'AWS_lag1', 'AWS_rollmean_22', 'AWS_rollstd_22', 'AWS_rollmean_20', 'AWS_rollstd_20']\n",
      "✅ Data shapes - Train: torch.Size([23413, 43, 19]), Val: torch.Size([4268, 43, 19]), Test: torch.Size([3222, 43, 19])\n",
      "Error in fold fold_4: Target size (torch.Size([128, 6])) must be the same as input size (torch.Size([128, 1]))\n",
      "Creating lag features for train set with lags: [9, 10, 1]\n",
      "Creating lag features for val set with lags: [9, 10, 1]\n",
      "Creating lag features for test set with lags: [9, 10, 1]\n",
      "Creating rolling stats for train set with windows: [22, 20]\n",
      "Creating rolling stats for val set with windows: [22, 20]\n",
      "Creating rolling stats for test set with windows: [22, 20]\n",
      "Using 19 features: ['TCW', 'TCLW', 'R250', 'R500', 'R850', 'U850', 'V850', 'EWSS', 'KX', 'CAPE', 'SSHF', 'PEV', 'AWS_lag9', 'AWS_lag10', 'AWS_lag1', 'AWS_rollmean_22', 'AWS_rollstd_22', 'AWS_rollmean_20', 'AWS_rollstd_20']\n"
     ]
    },
    {
     "name": "stderr",
     "output_type": "stream",
     "text": [
      "[I 2025-04-23 16:44:51,440] Trial 2 finished with value: inf and parameters: {'hidden_size': 148, 'num_layers': 2, 'dropout': 0.45616386240667295, 'lr': 0.00037964884689130747, 'time_step_in': 43, 'time_step_out': 6, 'stride': 5, 'binary_weight': 1.1976767007185054, 'intensity_weight': 0.6486901013831576, 'regression_weight': 1.5773267335690953, 'rain_threshold': 0.07208554162900094, 'num_lags': 3, 'lag_0': 9, 'lag_1': 10, 'lag_2': 1, 'num_windows': 2, 'window_0': 22, 'window_1': 20}. Best is trial 0 with value: inf.\n"
     ]
    },
    {
     "name": "stdout",
     "output_type": "stream",
     "text": [
      "✅ Data shapes - Train: torch.Size([30158, 43, 19]), Val: torch.Size([3916, 43, 19]), Test: torch.Size([2842, 43, 19])\n",
      "Error in fold fold_5: Target size (torch.Size([128, 6])) must be the same as input size (torch.Size([128, 1]))\n",
      "Creating lag features for train set with lags: [1]\n",
      "Creating lag features for val set with lags: [1]\n",
      "Creating lag features for test set with lags: [1]\n",
      "Creating rolling stats for train set with windows: [16]\n",
      "Creating rolling stats for val set with windows: [16]\n",
      "Creating rolling stats for test set with windows: [16]\n",
      "Using 15 features: ['TCW', 'TCLW', 'R250', 'R500', 'R850', 'U850', 'V850', 'EWSS', 'KX', 'CAPE', 'SSHF', 'PEV', 'AWS_lag1', 'AWS_rollmean_16', 'AWS_rollstd_16']\n",
      "✅ Data shapes - Train: torch.Size([13554, 19, 15]), Val: torch.Size([14413, 19, 15]), Test: torch.Size([12240, 19, 15])\n",
      "  🌀 Epoch 1/5, Total Loss: 2.8632, Binary: 0.6935, Intensity: 0.3364, Regression: 1.2356\n",
      "  🌀 Epoch 2/5, Total Loss: 2.4699, Binary: 0.6939, Intensity: 0.1366, Regression: 1.1986\n",
      "  🌀 Epoch 3/5, Total Loss: 2.4644, Binary: 0.6937, Intensity: 0.1367, Regression: 1.1920\n",
      "  🌀 Epoch 4/5, Total Loss: 2.4138, Binary: 0.6893, Intensity: 0.1309, Regression: 1.1512\n",
      "  🌀 Epoch 5/5, Total Loss: 2.2704, Binary: 0.6444, Intensity: 0.1166, Regression: 1.1073\n",
      "Creating lag features for train set with lags: [1]\n",
      "Creating lag features for val set with lags: [1]\n",
      "Creating lag features for test set with lags: [1]\n",
      "Creating rolling stats for train set with windows: [16]\n",
      "Creating rolling stats for val set with windows: [16]\n",
      "Creating rolling stats for test set with windows: [16]\n",
      "Using 15 features: ['TCW', 'TCLW', 'R250', 'R500', 'R850', 'U850', 'V850', 'EWSS', 'KX', 'CAPE', 'SSHF', 'PEV', 'AWS_lag1', 'AWS_rollmean_16', 'AWS_rollstd_16']\n",
      "✅ Data shapes - Train: torch.Size([30114, 19, 15]), Val: torch.Size([14438, 19, 15]), Test: torch.Size([11997, 19, 15])\n",
      "  🌀 Epoch 1/5, Total Loss: 2.6994, Binary: 0.6916, Intensity: 0.2413, Regression: 1.2529\n",
      "  🌀 Epoch 2/5, Total Loss: 2.1121, Binary: 0.5016, Intensity: 0.1359, Regression: 1.1963\n",
      "  🌀 Epoch 3/5, Total Loss: 1.9113, Binary: 0.4302, Intensity: 0.1206, Regression: 1.1441\n",
      "  🌀 Epoch 4/5, Total Loss: 1.8055, Binary: 0.4011, Intensity: 0.1165, Regression: 1.0873\n",
      "  🌀 Epoch 5/5, Total Loss: 1.7639, Binary: 0.3915, Intensity: 0.1130, Regression: 1.0649\n",
      "Creating lag features for train set with lags: [1]\n",
      "Creating lag features for val set with lags: [1]\n",
      "Creating lag features for test set with lags: [1]\n",
      "Creating rolling stats for train set with windows: [16]\n",
      "Creating rolling stats for val set with windows: [16]\n",
      "Creating rolling stats for test set with windows: [16]\n",
      "Using 15 features: ['TCW', 'TCLW', 'R250', 'R500', 'R850', 'U850', 'V850', 'EWSS', 'KX', 'CAPE', 'SSHF', 'PEV', 'AWS_lag1', 'AWS_rollmean_16', 'AWS_rollstd_16']\n",
      "✅ Data shapes - Train: torch.Size([46674, 19, 15]), Val: torch.Size([14274, 19, 15]), Test: torch.Size([11616, 19, 15])\n",
      "  🌀 Epoch 1/5, Total Loss: 2.5568, Binary: 0.6491, Intensity: 0.2156, Regression: 1.2308\n",
      "  🌀 Epoch 2/5, Total Loss: 1.9226, Binary: 0.4434, Intensity: 0.1248, Regression: 1.1178\n",
      "  🌀 Epoch 3/5, Total Loss: 1.8231, Binary: 0.4101, Intensity: 0.1174, Regression: 1.0864\n",
      "  🌀 Epoch 4/5, Total Loss: 1.7590, Binary: 0.3907, Intensity: 0.1128, Regression: 1.0609\n",
      "  🌀 Epoch 5/5, Total Loss: 1.7224, Binary: 0.3800, Intensity: 0.1094, Regression: 1.0472\n",
      "Creating lag features for train set with lags: [1]\n",
      "Creating lag features for val set with lags: [1]\n",
      "Creating lag features for test set with lags: [1]\n",
      "Creating rolling stats for train set with windows: [16]\n",
      "Creating rolling stats for val set with windows: [16]\n",
      "Creating rolling stats for test set with windows: [16]\n",
      "Using 15 features: ['TCW', 'TCLW', 'R250', 'R500', 'R850', 'U850', 'V850', 'EWSS', 'KX', 'CAPE', 'SSHF', 'PEV', 'AWS_lag1', 'AWS_rollmean_16', 'AWS_rollstd_16']\n",
      "✅ Data shapes - Train: torch.Size([63234, 19, 15]), Val: torch.Size([13916, 19, 15]), Test: torch.Size([11285, 19, 15])\n",
      "  🌀 Epoch 1/5, Total Loss: 2.5308, Binary: 0.6259, Intensity: 0.1933, Regression: 1.3042\n",
      "Error in fold fold_4: Expected input batch_size (1) to match target batch_size (0).\n",
      "Creating lag features for train set with lags: [1]\n",
      "Creating lag features for val set with lags: [1]\n",
      "Creating lag features for test set with lags: [1]\n",
      "Creating rolling stats for train set with windows: [16]\n",
      "Creating rolling stats for val set with windows: [16]\n",
      "Creating rolling stats for test set with windows: [16]\n",
      "Using 15 features: ['TCW', 'TCLW', 'R250', 'R500', 'R850', 'U850', 'V850', 'EWSS', 'KX', 'CAPE', 'SSHF', 'PEV', 'AWS_lag1', 'AWS_rollmean_16', 'AWS_rollstd_16']\n",
      "✅ Data shapes - Train: torch.Size([79794, 19, 15]), Val: torch.Size([13585, 19, 15]), Test: torch.Size([10915, 19, 15])\n",
      "  🌀 Epoch 1/5, Total Loss: 2.7256, Binary: 0.6008, Intensity: 0.2100, Regression: 1.5726\n",
      "  🌀 Epoch 2/5, Total Loss: 2.1543, Binary: 0.4421, Intensity: 0.1413, Regression: 1.3775\n",
      "  🌀 Epoch 3/5, Total Loss: 2.0610, Binary: 0.4073, Intensity: 0.1385, Regression: 1.3472\n",
      "  🌀 Epoch 4/5, Total Loss: 2.0085, Binary: 0.3897, Intensity: 0.1356, Regression: 1.3285\n",
      "  🌀 Epoch 5/5, Total Loss: 1.9693, Binary: 0.3779, Intensity: 0.1327, Regression: 1.3129\n"
     ]
    },
    {
     "name": "stderr",
     "output_type": "stream",
     "text": [
      "[I 2025-04-23 16:46:38,394] Trial 3 finished with value: 0.6367138475179672 and parameters: {'hidden_size': 253, 'num_layers': 3, 'dropout': 0.1553101700956977, 'lr': 0.00016331325445219263, 'time_step_in': 19, 'time_step_out': 1, 'stride': 2, 'binary_weight': 1.8451629052964749, 'intensity_weight': 1.8267092503062434, 'regression_weight': 0.7842201957351526, 'rain_threshold': 0.11749659040550779, 'num_lags': 1, 'lag_0': 1, 'num_windows': 1, 'window_0': 16}. Best is trial 3 with value: 0.6367138475179672.\n"
     ]
    },
    {
     "name": "stdout",
     "output_type": "stream",
     "text": [
      "Creating lag features for train set with lags: [1, 7]\n",
      "Creating lag features for val set with lags: [1, 7]\n",
      "Creating lag features for test set with lags: [1, 7]\n",
      "Creating rolling stats for train set with windows: [19, 7]\n",
      "Creating rolling stats for val set with windows: [19, 7]\n",
      "Creating rolling stats for test set with windows: [19, 7]\n",
      "Using 18 features: ['TCW', 'TCLW', 'R250', 'R500', 'R850', 'U850', 'V850', 'EWSS', 'KX', 'CAPE', 'SSHF', 'PEV', 'AWS_lag1', 'AWS_lag7', 'AWS_rollmean_19', 'AWS_rollstd_19', 'AWS_rollmean_7', 'AWS_rollstd_7']\n",
      "✅ Data shapes - Train: torch.Size([18444, 41, 18]), Val: torch.Size([23650, 41, 18]), Test: torch.Size([20280, 41, 18])\n",
      "Error in fold fold_1: Target size (torch.Size([128, 4])) must be the same as input size (torch.Size([128, 1]))\n",
      "Creating lag features for train set with lags: [1, 7]\n",
      "Creating lag features for val set with lags: [1, 7]\n",
      "Creating lag features for test set with lags: [1, 7]\n",
      "Creating rolling stats for train set with windows: [19, 7]\n",
      "Creating rolling stats for val set with windows: [19, 7]\n",
      "Creating rolling stats for test set with windows: [19, 7]\n",
      "Using 18 features: ['TCW', 'TCLW', 'R250', 'R500', 'R850', 'U850', 'V850', 'EWSS', 'KX', 'CAPE', 'SSHF', 'PEV', 'AWS_lag1', 'AWS_lag7', 'AWS_rollmean_19', 'AWS_rollstd_19', 'AWS_rollmean_7', 'AWS_rollstd_7']\n",
      "✅ Data shapes - Train: torch.Size([51544, 41, 18]), Val: torch.Size([23873, 41, 18]), Test: torch.Size([19247, 41, 18])\n",
      "Error in fold fold_2: Target size (torch.Size([128, 4])) must be the same as input size (torch.Size([128, 1]))\n",
      "Creating lag features for train set with lags: [1, 7]\n",
      "Creating lag features for val set with lags: [1, 7]\n",
      "Creating lag features for test set with lags: [1, 7]\n",
      "Creating rolling stats for train set with windows: [19, 7]\n",
      "Creating rolling stats for val set with windows: [19, 7]\n",
      "Creating rolling stats for test set with windows: [19, 7]\n",
      "Using 18 features: ['TCW', 'TCLW', 'R250', 'R500', 'R850', 'U850', 'V850', 'EWSS', 'KX', 'CAPE', 'SSHF', 'PEV', 'AWS_lag1', 'AWS_lag7', 'AWS_rollmean_19', 'AWS_rollstd_19', 'AWS_rollmean_7', 'AWS_rollstd_7']\n",
      "✅ Data shapes - Train: torch.Size([84664, 41, 18]), Val: torch.Size([23338, 41, 18]), Test: torch.Size([18040, 41, 18])\n",
      "Error in fold fold_3: Target size (torch.Size([128, 4])) must be the same as input size (torch.Size([128, 1]))\n",
      "Creating lag features for train set with lags: [1, 7]\n",
      "Creating lag features for val set with lags: [1, 7]\n",
      "Creating lag features for test set with lags: [1, 7]\n",
      "Creating rolling stats for train set with windows: [19, 7]\n",
      "Creating rolling stats for val set with windows: [19, 7]\n",
      "Creating rolling stats for test set with windows: [19, 7]\n",
      "Using 18 features: ['TCW', 'TCLW', 'R250', 'R500', 'R850', 'U850', 'V850', 'EWSS', 'KX', 'CAPE', 'SSHF', 'PEV', 'AWS_lag1', 'AWS_lag7', 'AWS_rollmean_19', 'AWS_rollstd_19', 'AWS_rollmean_7', 'AWS_rollstd_7']\n",
      "✅ Data shapes - Train: torch.Size([117784, 41, 18]), Val: torch.Size([21868, 41, 18]), Test: torch.Size([16585, 41, 18])\n",
      "Error in fold fold_4: Target size (torch.Size([128, 4])) must be the same as input size (torch.Size([128, 1]))\n",
      "Creating lag features for train set with lags: [1, 7]\n",
      "Creating lag features for val set with lags: [1, 7]\n",
      "Creating lag features for test set with lags: [1, 7]\n",
      "Creating rolling stats for train set with windows: [19, 7]\n",
      "Creating rolling stats for val set with windows: [19, 7]\n",
      "Creating rolling stats for test set with windows: [19, 7]\n",
      "Using 18 features: ['TCW', 'TCLW', 'R250', 'R500', 'R850', 'U850', 'V850', 'EWSS', 'KX', 'CAPE', 'SSHF', 'PEV', 'AWS_lag1', 'AWS_lag7', 'AWS_rollmean_19', 'AWS_rollstd_19', 'AWS_rollmean_7', 'AWS_rollstd_7']\n"
     ]
    },
    {
     "name": "stderr",
     "output_type": "stream",
     "text": [
      "[I 2025-04-23 16:48:18,569] Trial 4 finished with value: inf and parameters: {'hidden_size': 118, 'num_layers': 2, 'dropout': 0.23998164864915822, 'lr': 0.0022024789118702225, 'time_step_in': 41, 'time_step_out': 4, 'stride': 1, 'binary_weight': 0.814078298027879, 'intensity_weight': 1.9561932458851479, 'regression_weight': 0.5452111004350975, 'rain_threshold': 0.14937999613285735, 'num_lags': 2, 'lag_0': 1, 'lag_1': 7, 'num_windows': 2, 'window_0': 19, 'window_1': 7}. Best is trial 3 with value: 0.6367138475179672.\n"
     ]
    },
    {
     "name": "stdout",
     "output_type": "stream",
     "text": [
      "✅ Data shapes - Train: torch.Size([150904, 41, 18]), Val: torch.Size([20208, 41, 18]), Test: torch.Size([14919, 41, 18])\n",
      "Error in fold fold_5: Target size (torch.Size([128, 4])) must be the same as input size (torch.Size([128, 1]))\n",
      "Creating lag features for train set with lags: [7, 11]\n",
      "Creating lag features for val set with lags: [7, 11]\n",
      "Creating lag features for test set with lags: [7, 11]\n",
      "Creating rolling stats for train set with windows: [20]\n",
      "Creating rolling stats for val set with windows: [20]\n",
      "Creating rolling stats for test set with windows: [20]\n",
      "Using 16 features: ['TCW', 'TCLW', 'R250', 'R500', 'R850', 'U850', 'V850', 'EWSS', 'KX', 'CAPE', 'SSHF', 'PEV', 'AWS_lag7', 'AWS_lag11', 'AWS_rollmean_20', 'AWS_rollstd_20']\n",
      "✅ Data shapes - Train: torch.Size([23772, 24, 16]), Val: torch.Size([26738, 24, 16]), Test: torch.Size([22836, 24, 16])\n",
      "Error in fold fold_1: Target size (torch.Size([128, 5])) must be the same as input size (torch.Size([128, 1]))\n",
      "Creating lag features for train set with lags: [7, 11]\n",
      "Creating lag features for val set with lags: [7, 11]\n",
      "Creating lag features for test set with lags: [7, 11]\n",
      "Creating rolling stats for train set with windows: [20]\n",
      "Creating rolling stats for val set with windows: [20]\n",
      "Creating rolling stats for test set with windows: [20]\n",
      "Using 16 features: ['TCW', 'TCLW', 'R250', 'R500', 'R850', 'U850', 'V850', 'EWSS', 'KX', 'CAPE', 'SSHF', 'PEV', 'AWS_lag7', 'AWS_lag11', 'AWS_rollmean_20', 'AWS_rollstd_20']\n",
      "✅ Data shapes - Train: torch.Size([56888, 24, 16]), Val: torch.Size([26807, 24, 16]), Test: torch.Size([22064, 24, 16])\n",
      "Error in fold fold_2: Target size (torch.Size([128, 5])) must be the same as input size (torch.Size([128, 1]))\n",
      "Creating lag features for train set with lags: [7, 11]\n",
      "Creating lag features for val set with lags: [7, 11]\n",
      "Creating lag features for test set with lags: [7, 11]\n",
      "Creating rolling stats for train set with windows: [20]\n",
      "Creating rolling stats for val set with windows: [20]\n",
      "Creating rolling stats for test set with windows: [20]\n",
      "Using 16 features: ['TCW', 'TCLW', 'R250', 'R500', 'R850', 'U850', 'V850', 'EWSS', 'KX', 'CAPE', 'SSHF', 'PEV', 'AWS_lag7', 'AWS_lag11', 'AWS_rollmean_20', 'AWS_rollstd_20']\n",
      "✅ Data shapes - Train: torch.Size([90008, 24, 16]), Val: torch.Size([26506, 24, 16]), Test: torch.Size([21087, 24, 16])\n",
      "Error in fold fold_3: Target size (torch.Size([128, 5])) must be the same as input size (torch.Size([128, 1]))\n",
      "Creating lag features for train set with lags: [7, 11]\n",
      "Creating lag features for val set with lags: [7, 11]\n",
      "Creating lag features for test set with lags: [7, 11]\n",
      "Creating rolling stats for train set with windows: [20]\n",
      "Creating rolling stats for val set with windows: [20]\n",
      "Creating rolling stats for test set with windows: [20]\n",
      "Using 16 features: ['TCW', 'TCLW', 'R250', 'R500', 'R850', 'U850', 'V850', 'EWSS', 'KX', 'CAPE', 'SSHF', 'PEV', 'AWS_lag7', 'AWS_lag11', 'AWS_rollmean_20', 'AWS_rollstd_20']\n",
      "✅ Data shapes - Train: torch.Size([123128, 24, 16]), Val: torch.Size([25564, 24, 16]), Test: torch.Size([20162, 24, 16])\n",
      "Error in fold fold_4: Target size (torch.Size([128, 5])) must be the same as input size (torch.Size([128, 1]))\n",
      "Creating lag features for train set with lags: [7, 11]\n",
      "Creating lag features for val set with lags: [7, 11]\n",
      "Creating lag features for test set with lags: [7, 11]\n",
      "Creating rolling stats for train set with windows: [20]\n",
      "Creating rolling stats for val set with windows: [20]\n",
      "Creating rolling stats for test set with windows: [20]\n",
      "Using 16 features: ['TCW', 'TCLW', 'R250', 'R500', 'R850', 'U850', 'V850', 'EWSS', 'KX', 'CAPE', 'SSHF', 'PEV', 'AWS_lag7', 'AWS_lag11', 'AWS_rollmean_20', 'AWS_rollstd_20']\n"
     ]
    },
    {
     "name": "stderr",
     "output_type": "stream",
     "text": [
      "[I 2025-04-23 16:49:20,739] Trial 5 finished with value: inf and parameters: {'hidden_size': 230, 'num_layers': 2, 'dropout': 0.023523326210309448, 'lr': 0.006822339871952496, 'time_step_in': 24, 'time_step_out': 5, 'stride': 1, 'binary_weight': 1.1581960636531554, 'intensity_weight': 0.9200256918767922, 'regression_weight': 1.7969385049906372, 'rain_threshold': 0.1798791059462742, 'num_lags': 2, 'lag_0': 7, 'lag_1': 11, 'num_windows': 1, 'window_0': 20}. Best is trial 3 with value: 0.6367138475179672.\n"
     ]
    },
    {
     "name": "stdout",
     "output_type": "stream",
     "text": [
      "✅ Data shapes - Train: torch.Size([156248, 24, 16]), Val: torch.Size([24498, 24, 16]), Test: torch.Size([19138, 24, 16])\n",
      "Error in fold fold_5: Target size (torch.Size([128, 5])) must be the same as input size (torch.Size([128, 1]))\n",
      "Creating lag features for train set with lags: [2]\n",
      "Creating lag features for val set with lags: [2]\n",
      "Creating lag features for test set with lags: [2]\n",
      "Creating rolling stats for train set with windows: [20]\n",
      "Creating rolling stats for val set with windows: [20]\n",
      "Creating rolling stats for test set with windows: [20]\n",
      "Using 15 features: ['TCW', 'TCLW', 'R250', 'R500', 'R850', 'U850', 'V850', 'EWSS', 'KX', 'CAPE', 'SSHF', 'PEV', 'AWS_lag2', 'AWS_rollmean_20', 'AWS_rollstd_20']\n",
      "✅ Data shapes - Train: torch.Size([19443, 38, 15]), Val: torch.Size([24211, 38, 15]), Test: torch.Size([20729, 38, 15])\n",
      "Error in fold fold_1: Target size (torch.Size([128, 4])) must be the same as input size (torch.Size([128, 1]))\n",
      "Creating lag features for train set with lags: [2]\n",
      "Creating lag features for val set with lags: [2]\n",
      "Creating lag features for test set with lags: [2]\n"
     ]
    },
    {
     "name": "stderr",
     "output_type": "stream",
     "text": [
      "/usr/local/lib/python3.10/dist-packages/torch/nn/modules/rnn.py:123: UserWarning: dropout option adds dropout after all but last recurrent layer, so non-zero dropout expects num_layers greater than 1, but got dropout=0.22806583495714033 and num_layers=1\n",
      "  warnings.warn(\n"
     ]
    },
    {
     "name": "stdout",
     "output_type": "stream",
     "text": [
      "Creating rolling stats for train set with windows: [20]\n",
      "Creating rolling stats for val set with windows: [20]\n",
      "Creating rolling stats for test set with windows: [20]\n",
      "Using 15 features: ['TCW', 'TCLW', 'R250', 'R500', 'R850', 'U850', 'V850', 'EWSS', 'KX', 'CAPE', 'SSHF', 'PEV', 'AWS_lag2', 'AWS_rollmean_20', 'AWS_rollstd_20']\n",
      "✅ Data shapes - Train: torch.Size([52546, 38, 15]), Val: torch.Size([24401, 38, 15]), Test: torch.Size([19733, 38, 15])\n",
      "Error in fold fold_2: Target size (torch.Size([128, 4])) must be the same as input size (torch.Size([128, 1]))\n",
      "Creating lag features for train set with lags: [2]\n",
      "Creating lag features for val set with lags: [2]\n"
     ]
    },
    {
     "name": "stderr",
     "output_type": "stream",
     "text": [
      "/usr/local/lib/python3.10/dist-packages/torch/nn/modules/rnn.py:123: UserWarning: dropout option adds dropout after all but last recurrent layer, so non-zero dropout expects num_layers greater than 1, but got dropout=0.22806583495714033 and num_layers=1\n",
      "  warnings.warn(\n"
     ]
    },
    {
     "name": "stdout",
     "output_type": "stream",
     "text": [
      "Creating lag features for test set with lags: [2]\n",
      "Creating rolling stats for train set with windows: [20]\n",
      "Creating rolling stats for val set with windows: [20]\n",
      "Creating rolling stats for test set with windows: [20]\n",
      "Using 15 features: ['TCW', 'TCLW', 'R250', 'R500', 'R850', 'U850', 'V850', 'EWSS', 'KX', 'CAPE', 'SSHF', 'PEV', 'AWS_lag2', 'AWS_rollmean_20', 'AWS_rollstd_20']\n",
      "✅ Data shapes - Train: torch.Size([85666, 38, 15]), Val: torch.Size([23932, 38, 15]), Test: torch.Size([18580, 38, 15])\n",
      "Error in fold fold_3: Target size (torch.Size([128, 4])) must be the same as input size (torch.Size([128, 1]))\n",
      "Creating lag features for train set with lags: [2]\n",
      "Creating lag features for val set with lags: [2]\n"
     ]
    },
    {
     "name": "stderr",
     "output_type": "stream",
     "text": [
      "/usr/local/lib/python3.10/dist-packages/torch/nn/modules/rnn.py:123: UserWarning: dropout option adds dropout after all but last recurrent layer, so non-zero dropout expects num_layers greater than 1, but got dropout=0.22806583495714033 and num_layers=1\n",
      "  warnings.warn(\n"
     ]
    },
    {
     "name": "stdout",
     "output_type": "stream",
     "text": [
      "Creating lag features for test set with lags: [2]\n",
      "Creating rolling stats for train set with windows: [20]\n",
      "Creating rolling stats for val set with windows: [20]\n",
      "Creating rolling stats for test set with windows: [20]\n",
      "Using 15 features: ['TCW', 'TCLW', 'R250', 'R500', 'R850', 'U850', 'V850', 'EWSS', 'KX', 'CAPE', 'SSHF', 'PEV', 'AWS_lag2', 'AWS_rollmean_20', 'AWS_rollstd_20']\n",
      "✅ Data shapes - Train: torch.Size([118786, 38, 15]), Val: torch.Size([22561, 38, 15]), Test: torch.Size([17245, 38, 15])\n",
      "Error in fold fold_4: Target size (torch.Size([128, 4])) must be the same as input size (torch.Size([128, 1]))\n",
      "Creating lag features for train set with lags: [2]\n",
      "Creating lag features for val set with lags: [2]\n"
     ]
    },
    {
     "name": "stderr",
     "output_type": "stream",
     "text": [
      "/usr/local/lib/python3.10/dist-packages/torch/nn/modules/rnn.py:123: UserWarning: dropout option adds dropout after all but last recurrent layer, so non-zero dropout expects num_layers greater than 1, but got dropout=0.22806583495714033 and num_layers=1\n",
      "  warnings.warn(\n"
     ]
    },
    {
     "name": "stdout",
     "output_type": "stream",
     "text": [
      "Creating lag features for test set with lags: [2]\n",
      "Creating rolling stats for train set with windows: [20]\n",
      "Creating rolling stats for val set with windows: [20]\n",
      "Creating rolling stats for test set with windows: [20]\n",
      "Using 15 features: ['TCW', 'TCLW', 'R250', 'R500', 'R850', 'U850', 'V850', 'EWSS', 'KX', 'CAPE', 'SSHF', 'PEV', 'AWS_lag2', 'AWS_rollmean_20', 'AWS_rollstd_20']\n"
     ]
    },
    {
     "name": "stderr",
     "output_type": "stream",
     "text": [
      "/usr/local/lib/python3.10/dist-packages/torch/nn/modules/rnn.py:123: UserWarning: dropout option adds dropout after all but last recurrent layer, so non-zero dropout expects num_layers greater than 1, but got dropout=0.22806583495714033 and num_layers=1\n",
      "  warnings.warn(\n",
      "[I 2025-04-23 16:50:43,424] Trial 6 finished with value: inf and parameters: {'hidden_size': 205, 'num_layers': 1, 'dropout': 0.22806583495714033, 'lr': 0.00018220867260253592, 'time_step_in': 38, 'time_step_out': 4, 'stride': 1, 'binary_weight': 1.843365365342363, 'intensity_weight': 1.926598981659975, 'regression_weight': 1.2753750884344885, 'rain_threshold': 0.12599367924897725, 'num_lags': 1, 'lag_0': 2, 'num_windows': 1, 'window_0': 20}. Best is trial 3 with value: 0.6367138475179672.\n"
     ]
    },
    {
     "name": "stdout",
     "output_type": "stream",
     "text": [
      "✅ Data shapes - Train: torch.Size([151906, 38, 15]), Val: torch.Size([21000, 38, 15]), Test: torch.Size([15684, 38, 15])\n",
      "Error in fold fold_5: Target size (torch.Size([128, 4])) must be the same as input size (torch.Size([128, 1]))\n",
      "Creating lag features for train set with lags: [1]\n",
      "Creating lag features for val set with lags: [1]\n",
      "Creating lag features for test set with lags: [1]\n",
      "Creating rolling stats for train set with windows: [17]\n",
      "Creating rolling stats for val set with windows: [17]\n",
      "Creating rolling stats for test set with windows: [17]\n",
      "Using 15 features: ['TCW', 'TCLW', 'R250', 'R500', 'R850', 'U850', 'V850', 'EWSS', 'KX', 'CAPE', 'SSHF', 'PEV', 'AWS_lag1', 'AWS_rollmean_17', 'AWS_rollstd_17']\n",
      "✅ Data shapes - Train: torch.Size([3851, 35, 15]), Val: torch.Size([4323, 35, 15]), Test: torch.Size([3679, 35, 15])\n"
     ]
    },
    {
     "name": "stderr",
     "output_type": "stream",
     "text": [
      "/usr/local/lib/python3.10/dist-packages/torch/nn/modules/rnn.py:123: UserWarning: dropout option adds dropout after all but last recurrent layer, so non-zero dropout expects num_layers greater than 1, but got dropout=0.31717659806412457 and num_layers=1\n",
      "  warnings.warn(\n"
     ]
    },
    {
     "name": "stdout",
     "output_type": "stream",
     "text": [
      "  🌀 Epoch 1/5, Total Loss: 3.0152, Binary: 0.6967, Intensity: 0.2954, Regression: 1.1695\n",
      "  🌀 Epoch 2/5, Total Loss: 2.6207, Binary: 0.6881, Intensity: 0.1437, Regression: 1.0107\n",
      "  🌀 Epoch 3/5, Total Loss: 2.5605, Binary: 0.6865, Intensity: 0.1255, Regression: 0.9817\n",
      "  🌀 Epoch 4/5, Total Loss: 2.5231, Binary: 0.6343, Intensity: 0.1290, Regression: 1.0234\n",
      "  🌀 Epoch 5/5, Total Loss: 2.1020, Binary: 0.4331, Intensity: 0.1095, Regression: 0.9889\n",
      "Creating lag features for train set with lags: [1]\n",
      "Creating lag features for val set with lags: [1]\n",
      "Creating lag features for test set with lags: [1]\n",
      "Creating rolling stats for train set with windows: [17]\n",
      "Creating rolling stats for val set with windows: [17]\n",
      "Creating rolling stats for test set with windows: [17]\n",
      "Using 15 features: ['TCW', 'TCLW', 'R250', 'R500', 'R850', 'U850', 'V850', 'EWSS', 'KX', 'CAPE', 'SSHF', 'PEV', 'AWS_lag1', 'AWS_rollmean_17', 'AWS_rollstd_17']\n",
      "✅ Data shapes - Train: torch.Size([9370, 35, 15]), Val: torch.Size([4290, 35, 15]), Test: torch.Size([3538, 35, 15])\n"
     ]
    },
    {
     "name": "stderr",
     "output_type": "stream",
     "text": [
      "/usr/local/lib/python3.10/dist-packages/torch/nn/modules/rnn.py:123: UserWarning: dropout option adds dropout after all but last recurrent layer, so non-zero dropout expects num_layers greater than 1, but got dropout=0.31717659806412457 and num_layers=1\n",
      "  warnings.warn(\n"
     ]
    },
    {
     "name": "stdout",
     "output_type": "stream",
     "text": [
      "  🌀 Epoch 1/5, Total Loss: 2.5769, Binary: 0.6462, Intensity: 0.2025, Regression: 0.9762\n",
      "  🌀 Epoch 2/5, Total Loss: 2.1620, Binary: 0.5069, Intensity: 0.1381, Regression: 0.9023\n",
      "  🌀 Epoch 3/5, Total Loss: 1.8774, Binary: 0.3984, Intensity: 0.1051, Regression: 0.8591\n",
      "  🌀 Epoch 4/5, Total Loss: 1.8286, Binary: 0.3751, Intensity: 0.1002, Regression: 0.8578\n",
      "  🌀 Epoch 5/5, Total Loss: 1.7666, Binary: 0.3683, Intensity: 0.0969, Regression: 0.8200\n",
      "Creating lag features for train set with lags: [1]\n",
      "Creating lag features for val set with lags: [1]\n",
      "Creating lag features for test set with lags: [1]\n",
      "Creating rolling stats for train set with windows: [17]\n",
      "Creating rolling stats for val set with windows: [17]\n",
      "Creating rolling stats for test set with windows: [17]\n",
      "Using 15 features: ['TCW', 'TCLW', 'R250', 'R500', 'R850', 'U850', 'V850', 'EWSS', 'KX', 'CAPE', 'SSHF', 'PEV', 'AWS_lag1', 'AWS_rollmean_17', 'AWS_rollstd_17']\n",
      "✅ Data shapes - Train: torch.Size([14890, 35, 15]), Val: torch.Size([4270, 35, 15]), Test: torch.Size([3380, 35, 15])\n"
     ]
    },
    {
     "name": "stderr",
     "output_type": "stream",
     "text": [
      "/usr/local/lib/python3.10/dist-packages/torch/nn/modules/rnn.py:123: UserWarning: dropout option adds dropout after all but last recurrent layer, so non-zero dropout expects num_layers greater than 1, but got dropout=0.31717659806412457 and num_layers=1\n",
      "  warnings.warn(\n"
     ]
    },
    {
     "name": "stdout",
     "output_type": "stream",
     "text": [
      "  🌀 Epoch 1/5, Total Loss: 2.6145, Binary: 0.6446, Intensity: 0.1832, Regression: 1.0290\n",
      "  🌀 Epoch 2/5, Total Loss: 1.9803, Binary: 0.3973, Intensity: 0.1151, Regression: 0.9353\n",
      "  🌀 Epoch 3/5, Total Loss: 1.9337, Binary: 0.3859, Intensity: 0.1117, Regression: 0.9169\n",
      "  🌀 Epoch 4/5, Total Loss: 1.9292, Binary: 0.3783, Intensity: 0.1105, Regression: 0.9254\n",
      "  🌀 Epoch 5/5, Total Loss: 1.8944, Binary: 0.3701, Intensity: 0.1065, Regression: 0.9128\n",
      "Creating lag features for train set with lags: [1]\n",
      "Creating lag features for val set with lags: [1]\n",
      "Creating lag features for test set with lags: [1]\n",
      "Creating rolling stats for train set with windows: [17]\n",
      "Creating rolling stats for val set with windows: [17]\n",
      "Creating rolling stats for test set with windows: [17]\n",
      "Using 15 features: ['TCW', 'TCLW', 'R250', 'R500', 'R850', 'U850', 'V850', 'EWSS', 'KX', 'CAPE', 'SSHF', 'PEV', 'AWS_lag1', 'AWS_rollmean_17', 'AWS_rollstd_17']\n",
      "✅ Data shapes - Train: torch.Size([20410, 35, 15]), Val: torch.Size([4038, 35, 15]), Test: torch.Size([3178, 35, 15])\n"
     ]
    },
    {
     "name": "stderr",
     "output_type": "stream",
     "text": [
      "/usr/local/lib/python3.10/dist-packages/torch/nn/modules/rnn.py:123: UserWarning: dropout option adds dropout after all but last recurrent layer, so non-zero dropout expects num_layers greater than 1, but got dropout=0.31717659806412457 and num_layers=1\n",
      "  warnings.warn(\n"
     ]
    },
    {
     "name": "stdout",
     "output_type": "stream",
     "text": [
      "  🌀 Epoch 1/5, Total Loss: 2.6964, Binary: 0.5929, Intensity: 0.1696, Regression: 1.1850\n",
      "  🌀 Epoch 2/5, Total Loss: 2.2247, Binary: 0.4097, Intensity: 0.1253, Regression: 1.1078\n",
      "  🌀 Epoch 3/5, Total Loss: 2.1446, Binary: 0.3933, Intensity: 0.1159, Regression: 1.0754\n",
      "  🌀 Epoch 4/5, Total Loss: 2.1080, Binary: 0.3898, Intensity: 0.1149, Regression: 1.0513\n",
      "  🌀 Epoch 5/5, Total Loss: 2.0694, Binary: 0.3837, Intensity: 0.1117, Regression: 1.0317\n",
      "Creating lag features for train set with lags: [1]\n",
      "Creating lag features for val set with lags: [1]\n",
      "Creating lag features for test set with lags: [1]\n",
      "Creating rolling stats for train set with windows: [17]\n",
      "Creating rolling stats for val set with windows: [17]\n",
      "Creating rolling stats for test set with windows: [17]\n",
      "Using 15 features: ['TCW', 'TCLW', 'R250', 'R500', 'R850', 'U850', 'V850', 'EWSS', 'KX', 'CAPE', 'SSHF', 'PEV', 'AWS_lag1', 'AWS_rollmean_17', 'AWS_rollstd_17']\n",
      "✅ Data shapes - Train: torch.Size([25930, 35, 15]), Val: torch.Size([3815, 35, 15]), Test: torch.Size([2932, 35, 15])\n"
     ]
    },
    {
     "name": "stderr",
     "output_type": "stream",
     "text": [
      "/usr/local/lib/python3.10/dist-packages/torch/nn/modules/rnn.py:123: UserWarning: dropout option adds dropout after all but last recurrent layer, so non-zero dropout expects num_layers greater than 1, but got dropout=0.31717659806412457 and num_layers=1\n",
      "  warnings.warn(\n"
     ]
    },
    {
     "name": "stdout",
     "output_type": "stream",
     "text": [
      "  🌀 Epoch 1/5, Total Loss: 2.9336, Binary: 0.6414, Intensity: 0.1847, Regression: 1.2944\n",
      "  🌀 Epoch 2/5, Total Loss: 2.4518, Binary: 0.4753, Intensity: 0.1332, Regression: 1.1914\n",
      "  🌀 Epoch 3/5, Total Loss: 2.3007, Binary: 0.4249, Intensity: 0.1260, Regression: 1.1476\n",
      "  🌀 Epoch 4/5, Total Loss: 2.2206, Binary: 0.4102, Intensity: 0.1220, Regression: 1.1072\n"
     ]
    },
    {
     "name": "stderr",
     "output_type": "stream",
     "text": [
      "[I 2025-04-23 16:51:23,161] Trial 7 finished with value: 0.5528059005737305 and parameters: {'hidden_size': 213, 'num_layers': 1, 'dropout': 0.31717659806412457, 'lr': 0.0028003980445664, 'time_step_in': 35, 'time_step_out': 1, 'stride': 6, 'binary_weight': 1.7661088169996673, 'intensity_weight': 1.2263530091265886, 'regression_weight': 1.216247360693422, 'rain_threshold': 0.08105885800491391, 'num_lags': 1, 'lag_0': 1, 'num_windows': 1, 'window_0': 17}. Best is trial 7 with value: 0.5528059005737305.\n"
     ]
    },
    {
     "name": "stdout",
     "output_type": "stream",
     "text": [
      "  🌀 Epoch 5/5, Total Loss: 2.1949, Binary: 0.4015, Intensity: 0.1211, Regression: 1.0996\n",
      "Creating lag features for train set with lags: [5]\n",
      "Creating lag features for val set with lags: [5]\n",
      "Creating lag features for test set with lags: [5]\n",
      "Creating rolling stats for train set with windows: [7]\n",
      "Creating rolling stats for val set with windows: [7]\n",
      "Creating rolling stats for test set with windows: [7]\n",
      "Using 15 features: ['TCW', 'TCLW', 'R250', 'R500', 'R850', 'U850', 'V850', 'EWSS', 'KX', 'CAPE', 'SSHF', 'PEV', 'AWS_lag5', 'AWS_rollmean_7', 'AWS_rollstd_7']\n",
      "✅ Data shapes - Train: torch.Size([3851, 32, 15]), Val: torch.Size([4390, 32, 15]), Test: torch.Size([3768, 32, 15])\n",
      "  🌀 Epoch 1/5, Total Loss: 4.0447, Binary: 0.6973, Intensity: 0.7995, Regression: 1.3794\n",
      "  🌀 Epoch 2/5, Total Loss: 3.4389, Binary: 0.6946, Intensity: 0.1814, Regression: 1.3112\n",
      "  🌀 Epoch 3/5, Total Loss: 3.2666, Binary: 0.6917, Intensity: 0.1395, Regression: 1.2404\n",
      "  🌀 Epoch 4/5, Total Loss: 3.2014, Binary: 0.6911, Intensity: 0.1351, Regression: 1.2088\n",
      "  🌀 Epoch 5/5, Total Loss: 3.1957, Binary: 0.6909, Intensity: 0.1286, Regression: 1.2085\n",
      "Creating lag features for train set with lags: [5]\n",
      "Creating lag features for val set with lags: [5]\n",
      "Creating lag features for test set with lags: [5]\n",
      "Creating rolling stats for train set with windows: [7]\n",
      "Creating rolling stats for val set with windows: [7]\n",
      "Creating rolling stats for test set with windows: [7]\n",
      "Using 15 features: ['TCW', 'TCLW', 'R250', 'R500', 'R850', 'U850', 'V850', 'EWSS', 'KX', 'CAPE', 'SSHF', 'PEV', 'AWS_lag5', 'AWS_rollmean_7', 'AWS_rollstd_7']\n",
      "✅ Data shapes - Train: torch.Size([9370, 32, 15]), Val: torch.Size([4438, 32, 15]), Test: torch.Size([3639, 32, 15])\n",
      "  🌀 Epoch 1/5, Total Loss: 3.8335, Binary: 0.7058, Intensity: 0.4217, Regression: 1.4142\n",
      "  🌀 Epoch 2/5, Total Loss: 3.3710, Binary: 0.6934, Intensity: 0.1578, Regression: 1.2862\n",
      "  🌀 Epoch 3/5, Total Loss: 3.3283, Binary: 0.6934, Intensity: 0.1684, Regression: 1.2599\n",
      "  🌀 Epoch 4/5, Total Loss: 3.2131, Binary: 0.6935, Intensity: 0.2202, Regression: 1.1800\n",
      "  🌀 Epoch 5/5, Total Loss: 3.0923, Binary: 0.6930, Intensity: 0.2369, Regression: 1.1112\n",
      "Creating lag features for train set with lags: [5]\n",
      "Creating lag features for val set with lags: [5]\n",
      "Creating lag features for test set with lags: [5]\n",
      "Creating rolling stats for train set with windows: [7]\n",
      "Creating rolling stats for val set with windows: [7]\n",
      "Creating rolling stats for test set with windows: [7]\n",
      "Using 15 features: ['TCW', 'TCLW', 'R250', 'R500', 'R850', 'U850', 'V850', 'EWSS', 'KX', 'CAPE', 'SSHF', 'PEV', 'AWS_lag5', 'AWS_rollmean_7', 'AWS_rollstd_7']\n",
      "✅ Data shapes - Train: torch.Size([14890, 32, 15]), Val: torch.Size([4380, 32, 15]), Test: torch.Size([3477, 32, 15])\n",
      "  🌀 Epoch 1/5, Total Loss: 3.3127, Binary: 0.6906, Intensity: 0.3690, Regression: 1.1745\n",
      "  🌀 Epoch 2/5, Total Loss: 2.6807, Binary: 0.5335, Intensity: 0.1392, Regression: 1.0275\n",
      "  🌀 Epoch 3/5, Total Loss: 2.4578, Binary: 0.4340, Intensity: 0.1140, Regression: 0.9787\n",
      "  🌀 Epoch 4/5, Total Loss: 2.3101, Binary: 0.4117, Intensity: 0.1043, Regression: 0.9189\n",
      "  🌀 Epoch 5/5, Total Loss: 2.2336, Binary: 0.4011, Intensity: 0.0973, Regression: 0.8882\n",
      "Creating lag features for train set with lags: [5]\n",
      "Creating lag features for val set with lags: [5]\n",
      "Creating lag features for test set with lags: [5]\n",
      "Creating rolling stats for train set with windows: [7]\n",
      "Creating rolling stats for val set with windows: [7]\n",
      "Creating rolling stats for test set with windows: [7]\n",
      "Using 15 features: ['TCW', 'TCLW', 'R250', 'R500', 'R850', 'U850', 'V850', 'EWSS', 'KX', 'CAPE', 'SSHF', 'PEV', 'AWS_lag5', 'AWS_rollmean_7', 'AWS_rollstd_7']\n",
      "✅ Data shapes - Train: torch.Size([20410, 32, 15]), Val: torch.Size([4224, 32, 15]), Test: torch.Size([3325, 32, 15])\n",
      "  🌀 Epoch 1/5, Total Loss: 3.4516, Binary: 0.6939, Intensity: 0.2983, Regression: 1.2722\n",
      "  🌀 Epoch 2/5, Total Loss: 2.9906, Binary: 0.6927, Intensity: 0.1602, Regression: 1.0891\n",
      "  🌀 Epoch 3/5, Total Loss: 2.8353, Binary: 0.6914, Intensity: 0.1176, Regression: 1.0264\n",
      "  🌀 Epoch 4/5, Total Loss: 2.8160, Binary: 0.6878, Intensity: 0.1133, Regression: 1.0201\n",
      "  🌀 Epoch 5/5, Total Loss: 2.7424, Binary: 0.6633, Intensity: 0.1111, Regression: 0.9969\n",
      "Creating lag features for train set with lags: [5]\n",
      "Creating lag features for val set with lags: [5]\n",
      "Creating lag features for test set with lags: [5]\n",
      "Creating rolling stats for train set with windows: [7]\n",
      "Creating rolling stats for val set with windows: [7]\n",
      "Creating rolling stats for test set with windows: [7]\n",
      "Using 15 features: ['TCW', 'TCLW', 'R250', 'R500', 'R850', 'U850', 'V850', 'EWSS', 'KX', 'CAPE', 'SSHF', 'PEV', 'AWS_lag5', 'AWS_rollmean_7', 'AWS_rollstd_7']\n",
      "✅ Data shapes - Train: torch.Size([25930, 32, 15]), Val: torch.Size([4046, 32, 15]), Test: torch.Size([3162, 32, 15])\n",
      "  🌀 Epoch 1/5, Total Loss: 4.2092, Binary: 0.6583, Intensity: 0.3127, Regression: 1.6781\n",
      "  🌀 Epoch 2/5, Total Loss: 3.5570, Binary: 0.6222, Intensity: 0.1952, Regression: 1.4079\n",
      "  🌀 Epoch 3/5, Total Loss: 3.4003, Binary: 0.5917, Intensity: 0.1596, Regression: 1.3583\n",
      "  🌀 Epoch 4/5, Total Loss: 3.2965, Binary: 0.5505, Intensity: 0.1557, Regression: 1.3295\n"
     ]
    },
    {
     "name": "stderr",
     "output_type": "stream",
     "text": [
      "[I 2025-04-23 16:51:58,322] Trial 8 finished with value: 0.638666820526123 and parameters: {'hidden_size': 41, 'num_layers': 2, 'dropout': 0.30968349755445573, 'lr': 0.0023806247826576163, 'time_step_in': 32, 'time_step_out': 1, 'stride': 6, 'binary_weight': 1.0974477811025394, 'intensity_weight': 0.7619104215269854, 'regression_weight': 1.9358841323482414, 'rain_threshold': 0.1975578818919816, 'num_lags': 1, 'lag_0': 5, 'num_windows': 1, 'window_0': 7}. Best is trial 7 with value: 0.5528059005737305.\n"
     ]
    },
    {
     "name": "stdout",
     "output_type": "stream",
     "text": [
      "  🌀 Epoch 5/5, Total Loss: 3.1507, Binary: 0.5117, Intensity: 0.1492, Regression: 1.2787\n",
      "Creating lag features for train set with lags: [10, 4, 9]\n",
      "Creating lag features for val set with lags: [10, 4, 9]\n",
      "Creating lag features for test set with lags: [10, 4, 9]\n",
      "Creating rolling stats for train set with windows: [21, 6, 10]\n",
      "Creating rolling stats for val set with windows: [21, 6, 10]\n",
      "Creating rolling stats for test set with windows: [21, 6, 10]\n",
      "Using 21 features: ['TCW', 'TCLW', 'R250', 'R500', 'R850', 'U850', 'V850', 'EWSS', 'KX', 'CAPE', 'SSHF', 'PEV', 'AWS_lag10', 'AWS_lag4', 'AWS_lag9', 'AWS_rollmean_21', 'AWS_rollstd_21', 'AWS_rollmean_6', 'AWS_rollstd_6', 'AWS_rollmean_10', 'AWS_rollstd_10']\n",
      "✅ Data shapes - Train: torch.Size([5231, 18, 21]), Val: torch.Size([5648, 18, 21]), Test: torch.Size([4811, 18, 21])\n",
      "Error in fold fold_1: Target size (torch.Size([128, 6])) must be the same as input size (torch.Size([128, 1]))\n",
      "Creating lag features for train set with lags: [10, 4, 9]\n",
      "Creating lag features for val set with lags: [10, 4, 9]\n",
      "Creating lag features for test set with lags: [10, 4, 9]\n",
      "Creating rolling stats for train set with windows: [21, 6, 10]\n",
      "Creating rolling stats for val set with windows: [21, 6, 10]\n",
      "Creating rolling stats for test set with windows: [21, 6, 10]\n",
      "Using 21 features: ['TCW', 'TCLW', 'R250', 'R500', 'R850', 'U850', 'V850', 'EWSS', 'KX', 'CAPE', 'SSHF', 'PEV', 'AWS_lag10', 'AWS_lag4', 'AWS_lag9', 'AWS_rollmean_21', 'AWS_rollstd_21', 'AWS_rollmean_6', 'AWS_rollstd_6', 'AWS_rollmean_10', 'AWS_rollstd_10']\n",
      "✅ Data shapes - Train: torch.Size([11797, 18, 21]), Val: torch.Size([5658, 18, 21]), Test: torch.Size([4680, 18, 21])\n",
      "Error in fold fold_2: Target size (torch.Size([128, 6])) must be the same as input size (torch.Size([128, 1]))\n",
      "Creating lag features for train set with lags: [10, 4, 9]\n",
      "Creating lag features for val set with lags: [10, 4, 9]\n",
      "Creating lag features for test set with lags: [10, 4, 9]\n",
      "Creating rolling stats for train set with windows: [21, 6, 10]\n",
      "Creating rolling stats for val set with windows: [21, 6, 10]\n",
      "Creating rolling stats for test set with windows: [21, 6, 10]\n",
      "Using 21 features: ['TCW', 'TCLW', 'R250', 'R500', 'R850', 'U850', 'V850', 'EWSS', 'KX', 'CAPE', 'SSHF', 'PEV', 'AWS_lag10', 'AWS_lag4', 'AWS_lag9', 'AWS_rollmean_21', 'AWS_rollstd_21', 'AWS_rollmean_6', 'AWS_rollstd_6', 'AWS_rollmean_10', 'AWS_rollstd_10']\n",
      "✅ Data shapes - Train: torch.Size([18363, 18, 21]), Val: torch.Size([5586, 18, 21]), Test: torch.Size([4566, 18, 21])\n",
      "Error in fold fold_3: Target size (torch.Size([128, 6])) must be the same as input size (torch.Size([128, 1]))\n",
      "Creating lag features for train set with lags: [10, 4, 9]\n",
      "Creating lag features for val set with lags: [10, 4, 9]\n",
      "Creating lag features for test set with lags: [10, 4, 9]\n",
      "Creating rolling stats for train set with windows: [21, 6, 10]\n",
      "Creating rolling stats for val set with windows: [21, 6, 10]\n",
      "Creating rolling stats for test set with windows: [21, 6, 10]\n",
      "Using 21 features: ['TCW', 'TCLW', 'R250', 'R500', 'R850', 'U850', 'V850', 'EWSS', 'KX', 'CAPE', 'SSHF', 'PEV', 'AWS_lag10', 'AWS_lag4', 'AWS_lag9', 'AWS_rollmean_21', 'AWS_rollstd_21', 'AWS_rollmean_6', 'AWS_rollstd_6', 'AWS_rollmean_10', 'AWS_rollstd_10']\n",
      "✅ Data shapes - Train: torch.Size([25083, 18, 21]), Val: torch.Size([5434, 18, 21]), Test: torch.Size([4377, 18, 21])\n",
      "Error in fold fold_4: Target size (torch.Size([128, 6])) must be the same as input size (torch.Size([128, 1]))\n",
      "Creating lag features for train set with lags: [10, 4, 9]\n",
      "Creating lag features for val set with lags: [10, 4, 9]\n",
      "Creating lag features for test set with lags: [10, 4, 9]\n",
      "Creating rolling stats for train set with windows: [21, 6, 10]\n",
      "Creating rolling stats for val set with windows: [21, 6, 10]\n",
      "Creating rolling stats for test set with windows: [21, 6, 10]\n",
      "Using 21 features: ['TCW', 'TCLW', 'R250', 'R500', 'R850', 'U850', 'V850', 'EWSS', 'KX', 'CAPE', 'SSHF', 'PEV', 'AWS_lag10', 'AWS_lag4', 'AWS_lag9', 'AWS_rollmean_21', 'AWS_rollstd_21', 'AWS_rollmean_6', 'AWS_rollstd_6', 'AWS_rollmean_10', 'AWS_rollstd_10']\n"
     ]
    },
    {
     "name": "stderr",
     "output_type": "stream",
     "text": [
      "[I 2025-04-23 16:52:23,622] Trial 9 finished with value: inf and parameters: {'hidden_size': 242, 'num_layers': 3, 'dropout': 0.3018377757460893, 'lr': 0.0024774267931483547, 'time_step_in': 18, 'time_step_out': 6, 'stride': 5, 'binary_weight': 1.7179791234425912, 'intensity_weight': 1.4889228452549805, 'regression_weight': 1.4656406662786492, 'rain_threshold': 0.19868402295180043, 'num_lags': 3, 'lag_0': 10, 'lag_1': 4, 'lag_2': 9, 'num_windows': 3, 'window_0': 21, 'window_1': 6, 'window_2': 10}. Best is trial 7 with value: 0.5528059005737305.\n"
     ]
    },
    {
     "name": "stdout",
     "output_type": "stream",
     "text": [
      "✅ Data shapes - Train: torch.Size([31828, 18, 21]), Val: torch.Size([5269, 18, 21]), Test: torch.Size([4168, 18, 21])\n",
      "Error in fold fold_5: Target size (torch.Size([128, 6])) must be the same as input size (torch.Size([128, 1]))\n",
      "Creating lag features for train set with lags: [12, 1]\n",
      "Creating lag features for val set with lags: [12, 1]\n",
      "Creating lag features for test set with lags: [12, 1]\n",
      "Creating rolling stats for train set with windows: [13, 24, 24]\n",
      "Creating rolling stats for val set with windows: [13, 24, 24]\n",
      "Creating rolling stats for test set with windows: [13, 24, 24]\n",
      "Using 20 features: ['TCW', 'TCLW', 'R250', 'R500', 'R850', 'U850', 'V850', 'EWSS', 'KX', 'CAPE', 'SSHF', 'PEV', 'AWS_lag12', 'AWS_lag1', 'AWS_rollmean_13', 'AWS_rollstd_13', 'AWS_rollmean_24', 'AWS_rollstd_24', 'AWS_rollmean_24', 'AWS_rollstd_24']\n",
      "✅ Data shapes - Train: torch.Size([7702, 31, 20]), Val: torch.Size([8713, 31, 20]), Test: torch.Size([7447, 31, 20])\n",
      "Error in fold fold_1: Target size (torch.Size([128, 2])) must be the same as input size (torch.Size([128, 1]))\n",
      "Creating lag features for train set with lags: [12, 1]\n",
      "Creating lag features for val set with lags: [12, 1]\n",
      "Creating lag features for test set with lags: [12, 1]\n"
     ]
    },
    {
     "name": "stderr",
     "output_type": "stream",
     "text": [
      "/usr/local/lib/python3.10/dist-packages/torch/nn/modules/rnn.py:123: UserWarning: dropout option adds dropout after all but last recurrent layer, so non-zero dropout expects num_layers greater than 1, but got dropout=0.45129704814567045 and num_layers=1\n",
      "  warnings.warn(\n"
     ]
    },
    {
     "name": "stdout",
     "output_type": "stream",
     "text": [
      "Creating rolling stats for train set with windows: [13, 24, 24]\n",
      "Creating rolling stats for val set with windows: [13, 24, 24]\n",
      "Creating rolling stats for test set with windows: [13, 24, 24]\n",
      "Using 20 features: ['TCW', 'TCLW', 'R250', 'R500', 'R850', 'U850', 'V850', 'EWSS', 'KX', 'CAPE', 'SSHF', 'PEV', 'AWS_lag12', 'AWS_lag1', 'AWS_rollmean_13', 'AWS_rollstd_13', 'AWS_rollmean_24', 'AWS_rollstd_24', 'AWS_rollmean_24', 'AWS_rollstd_24']\n",
      "✅ Data shapes - Train: torch.Size([18740, 31, 20]), Val: torch.Size([8728, 31, 20]), Test: torch.Size([7177, 31, 20])\n",
      "Error in fold fold_2: Target size (torch.Size([128, 2])) must be the same as input size (torch.Size([128, 1]))\n",
      "Creating lag features for train set with lags: [12, 1]\n",
      "Creating lag features for val set with lags: [12, 1]\n"
     ]
    },
    {
     "name": "stderr",
     "output_type": "stream",
     "text": [
      "/usr/local/lib/python3.10/dist-packages/torch/nn/modules/rnn.py:123: UserWarning: dropout option adds dropout after all but last recurrent layer, so non-zero dropout expects num_layers greater than 1, but got dropout=0.45129704814567045 and num_layers=1\n",
      "  warnings.warn(\n"
     ]
    },
    {
     "name": "stdout",
     "output_type": "stream",
     "text": [
      "Creating lag features for test set with lags: [12, 1]\n",
      "Creating rolling stats for train set with windows: [13, 24, 24]\n",
      "Creating rolling stats for val set with windows: [13, 24, 24]\n",
      "Creating rolling stats for test set with windows: [13, 24, 24]\n",
      "Using 20 features: ['TCW', 'TCLW', 'R250', 'R500', 'R850', 'U850', 'V850', 'EWSS', 'KX', 'CAPE', 'SSHF', 'PEV', 'AWS_lag12', 'AWS_lag1', 'AWS_rollmean_13', 'AWS_rollstd_13', 'AWS_rollmean_24', 'AWS_rollstd_24', 'AWS_rollmean_24', 'AWS_rollstd_24']\n",
      "✅ Data shapes - Train: torch.Size([29780, 31, 20]), Val: torch.Size([8650, 31, 20]), Test: torch.Size([6857, 31, 20])\n",
      "Error in fold fold_3: Target size (torch.Size([128, 2])) must be the same as input size (torch.Size([128, 1]))\n",
      "Creating lag features for train set with lags: [12, 1]\n",
      "Creating lag features for val set with lags: [12, 1]\n"
     ]
    },
    {
     "name": "stderr",
     "output_type": "stream",
     "text": [
      "/usr/local/lib/python3.10/dist-packages/torch/nn/modules/rnn.py:123: UserWarning: dropout option adds dropout after all but last recurrent layer, so non-zero dropout expects num_layers greater than 1, but got dropout=0.45129704814567045 and num_layers=1\n",
      "  warnings.warn(\n"
     ]
    },
    {
     "name": "stdout",
     "output_type": "stream",
     "text": [
      "Creating lag features for test set with lags: [12, 1]\n",
      "Creating rolling stats for train set with windows: [13, 24, 24]\n",
      "Creating rolling stats for val set with windows: [13, 24, 24]\n",
      "Creating rolling stats for test set with windows: [13, 24, 24]\n",
      "Using 20 features: ['TCW', 'TCLW', 'R250', 'R500', 'R850', 'U850', 'V850', 'EWSS', 'KX', 'CAPE', 'SSHF', 'PEV', 'AWS_lag12', 'AWS_lag1', 'AWS_rollmean_13', 'AWS_rollstd_13', 'AWS_rollmean_24', 'AWS_rollstd_24', 'AWS_rollmean_24', 'AWS_rollstd_24']\n",
      "✅ Data shapes - Train: torch.Size([40820, 31, 20]), Val: torch.Size([8262, 31, 20]), Test: torch.Size([6503, 31, 20])\n",
      "Error in fold fold_4: Target size (torch.Size([128, 2])) must be the same as input size (torch.Size([128, 1]))\n",
      "Creating lag features for train set with lags: [12, 1]\n",
      "Creating lag features for val set with lags: [12, 1]\n"
     ]
    },
    {
     "name": "stderr",
     "output_type": "stream",
     "text": [
      "/usr/local/lib/python3.10/dist-packages/torch/nn/modules/rnn.py:123: UserWarning: dropout option adds dropout after all but last recurrent layer, so non-zero dropout expects num_layers greater than 1, but got dropout=0.45129704814567045 and num_layers=1\n",
      "  warnings.warn(\n"
     ]
    },
    {
     "name": "stdout",
     "output_type": "stream",
     "text": [
      "Creating lag features for test set with lags: [12, 1]\n",
      "Creating rolling stats for train set with windows: [13, 24, 24]\n",
      "Creating rolling stats for val set with windows: [13, 24, 24]\n",
      "Creating rolling stats for test set with windows: [13, 24, 24]\n",
      "Using 20 features: ['TCW', 'TCLW', 'R250', 'R500', 'R850', 'U850', 'V850', 'EWSS', 'KX', 'CAPE', 'SSHF', 'PEV', 'AWS_lag12', 'AWS_lag1', 'AWS_rollmean_13', 'AWS_rollstd_13', 'AWS_rollmean_24', 'AWS_rollstd_24', 'AWS_rollmean_24', 'AWS_rollstd_24']\n"
     ]
    },
    {
     "name": "stderr",
     "output_type": "stream",
     "text": [
      "/usr/local/lib/python3.10/dist-packages/torch/nn/modules/rnn.py:123: UserWarning: dropout option adds dropout after all but last recurrent layer, so non-zero dropout expects num_layers greater than 1, but got dropout=0.45129704814567045 and num_layers=1\n",
      "  warnings.warn(\n",
      "[I 2025-04-23 16:53:04,011] Trial 10 finished with value: inf and parameters: {'hidden_size': 175, 'num_layers': 1, 'dropout': 0.45129704814567045, 'lr': 0.0006112699125270168, 'time_step_in': 31, 'time_step_out': 2, 'stride': 3, 'binary_weight': 1.5711973021529133, 'intensity_weight': 1.0925535952754024, 'regression_weight': 1.070907724237832, 'rain_threshold': 0.05048427446175939, 'num_lags': 2, 'lag_0': 12, 'lag_1': 1, 'num_windows': 3, 'window_0': 13, 'window_1': 24, 'window_2': 24}. Best is trial 7 with value: 0.5528059005737305.\n"
     ]
    },
    {
     "name": "stdout",
     "output_type": "stream",
     "text": [
      "✅ Data shapes - Train: torch.Size([51860, 31, 20]), Val: torch.Size([7861, 31, 20]), Test: torch.Size([6094, 31, 20])\n",
      "Error in fold fold_5: Target size (torch.Size([128, 2])) must be the same as input size (torch.Size([128, 1]))\n",
      "Creating lag features for train set with lags: [3]\n",
      "Creating lag features for val set with lags: [3]\n",
      "Creating lag features for test set with lags: [3]\n",
      "Creating rolling stats for train set with windows: [16]\n",
      "Creating rolling stats for val set with windows: [16]\n",
      "Creating rolling stats for test set with windows: [16]\n",
      "Using 15 features: ['TCW', 'TCLW', 'R250', 'R500', 'R850', 'U850', 'V850', 'EWSS', 'KX', 'CAPE', 'SSHF', 'PEV', 'AWS_lag3', 'AWS_rollmean_16', 'AWS_rollstd_16']\n",
      "✅ Data shapes - Train: torch.Size([9704, 13, 15]), Val: torch.Size([10078, 13, 15]), Test: torch.Size([8536, 13, 15])\n",
      "  🌀 Epoch 1/5, Total Loss: 2.8227, Binary: 0.6936, Intensity: 0.4352, Regression: 1.1565\n",
      "  🌀 Epoch 2/5, Total Loss: 2.2900, Binary: 0.6938, Intensity: 0.1382, Regression: 1.1008\n",
      "  🌀 Epoch 3/5, Total Loss: 2.2723, Binary: 0.6930, Intensity: 0.1393, Regression: 1.0806\n",
      "  🌀 Epoch 4/5, Total Loss: 2.2164, Binary: 0.6907, Intensity: 0.1341, Regression: 1.0324\n",
      "  🌀 Epoch 5/5, Total Loss: 2.1710, Binary: 0.6857, Intensity: 0.1221, Regression: 1.0125\n",
      "Creating lag features for train set with lags: [3]\n",
      "Creating lag features for val set with lags: [3]\n",
      "Creating lag features for test set with lags: [3]\n",
      "Creating rolling stats for train set with windows: [16]\n",
      "Creating rolling stats for val set with windows: [16]\n",
      "Creating rolling stats for test set with windows: [16]\n",
      "Using 15 features: ['TCW', 'TCLW', 'R250', 'R500', 'R850', 'U850', 'V850', 'EWSS', 'KX', 'CAPE', 'SSHF', 'PEV', 'AWS_lag3', 'AWS_rollmean_16', 'AWS_rollstd_16']\n",
      "✅ Data shapes - Train: torch.Size([20744, 13, 15]), Val: torch.Size([10103, 13, 15]), Test: torch.Size([8417, 13, 15])\n",
      "  🌀 Epoch 1/5, Total Loss: 2.6729, Binary: 0.6943, Intensity: 0.2682, Regression: 1.2887\n",
      "  🌀 Epoch 2/5, Total Loss: 2.2210, Binary: 0.5879, Intensity: 0.1443, Regression: 1.1924\n",
      "  🌀 Epoch 3/5, Total Loss: 1.9379, Binary: 0.4419, Intensity: 0.1239, Regression: 1.1636\n",
      "  🌀 Epoch 4/5, Total Loss: 1.8669, Binary: 0.4288, Intensity: 0.1152, Regression: 1.1231\n",
      "  🌀 Epoch 5/5, Total Loss: 1.8092, Binary: 0.4109, Intensity: 0.1131, Regression: 1.0936\n",
      "Creating lag features for train set with lags: [3]\n",
      "Creating lag features for val set with lags: [3]\n",
      "Creating lag features for test set with lags: [3]\n",
      "Creating rolling stats for train set with windows: [16]\n",
      "Creating rolling stats for val set with windows: [16]\n",
      "Creating rolling stats for test set with windows: [16]\n",
      "Using 15 features: ['TCW', 'TCLW', 'R250', 'R500', 'R850', 'U850', 'V850', 'EWSS', 'KX', 'CAPE', 'SSHF', 'PEV', 'AWS_lag3', 'AWS_rollmean_16', 'AWS_rollstd_16']\n",
      "✅ Data shapes - Train: torch.Size([31784, 13, 15]), Val: torch.Size([9970, 13, 15]), Test: torch.Size([8234, 13, 15])\n",
      "  🌀 Epoch 1/5, Total Loss: 2.6243, Binary: 0.6932, Intensity: 0.2519, Regression: 1.2661\n",
      "  🌀 Epoch 2/5, Total Loss: 2.1252, Binary: 0.5561, Intensity: 0.1360, Regression: 1.1556\n",
      "  🌀 Epoch 3/5, Total Loss: 1.9192, Binary: 0.4504, Intensity: 0.1213, Regression: 1.1335\n",
      "  🌀 Epoch 4/5, Total Loss: 1.8688, Binary: 0.4356, Intensity: 0.1162, Regression: 1.1120\n",
      "  🌀 Epoch 5/5, Total Loss: 1.7945, Binary: 0.4188, Intensity: 0.1120, Regression: 1.0662\n",
      "Creating lag features for train set with lags: [3]\n",
      "Creating lag features for val set with lags: [3]\n",
      "Creating lag features for test set with lags: [3]\n",
      "Creating rolling stats for train set with windows: [16]\n",
      "Creating rolling stats for val set with windows: [16]\n",
      "Creating rolling stats for test set with windows: [16]\n",
      "Using 15 features: ['TCW', 'TCLW', 'R250', 'R500', 'R850', 'U850', 'V850', 'EWSS', 'KX', 'CAPE', 'SSHF', 'PEV', 'AWS_lag3', 'AWS_rollmean_16', 'AWS_rollstd_16']\n",
      "✅ Data shapes - Train: torch.Size([42824, 13, 15]), Val: torch.Size([9867, 13, 15]), Test: torch.Size([8123, 13, 15])\n",
      "  🌀 Epoch 1/5, Total Loss: 2.6068, Binary: 0.6924, Intensity: 0.2163, Regression: 1.3117\n",
      "  🌀 Epoch 2/5, Total Loss: 2.1227, Binary: 0.5142, Intensity: 0.1309, Regression: 1.2322\n",
      "  🌀 Epoch 3/5, Total Loss: 2.0048, Binary: 0.4693, Intensity: 0.1229, Regression: 1.1926\n",
      "  🌀 Epoch 4/5, Total Loss: 1.9346, Binary: 0.4547, Intensity: 0.1180, Regression: 1.1488\n",
      "  🌀 Epoch 5/5, Total Loss: 1.8926, Binary: 0.4407, Intensity: 0.1161, Regression: 1.1297\n",
      "Creating lag features for train set with lags: [3]\n",
      "Creating lag features for val set with lags: [3]\n",
      "Creating lag features for test set with lags: [3]\n",
      "Creating rolling stats for train set with windows: [16]\n",
      "Creating rolling stats for val set with windows: [16]\n",
      "Creating rolling stats for test set with windows: [16]\n",
      "Using 15 features: ['TCW', 'TCLW', 'R250', 'R500', 'R850', 'U850', 'V850', 'EWSS', 'KX', 'CAPE', 'SSHF', 'PEV', 'AWS_lag3', 'AWS_rollmean_16', 'AWS_rollstd_16']\n",
      "✅ Data shapes - Train: torch.Size([53864, 13, 15]), Val: torch.Size([9692, 13, 15]), Test: torch.Size([7974, 13, 15])\n",
      "  🌀 Epoch 1/5, Total Loss: 2.7155, Binary: 0.6425, Intensity: 0.2251, Regression: 1.4995\n",
      "  🌀 Epoch 2/5, Total Loss: 2.2622, Binary: 0.5201, Intensity: 0.1432, Regression: 1.3535\n",
      "  🌀 Epoch 3/5, Total Loss: 2.1303, Binary: 0.4717, Intensity: 0.1353, Regression: 1.3044\n",
      "  🌀 Epoch 4/5, Total Loss: 2.0686, Binary: 0.4517, Intensity: 0.1326, Regression: 1.2750\n",
      "  🌀 Epoch 5/5, Total Loss: 2.0166, Binary: 0.4391, Intensity: 0.1297, Regression: 1.2444\n"
     ]
    },
    {
     "name": "stderr",
     "output_type": "stream",
     "text": [
      "[I 2025-04-23 16:54:13,889] Trial 11 finished with value: 0.6145597994327545 and parameters: {'hidden_size': 254, 'num_layers': 3, 'dropout': 0.1406031362085077, 'lr': 0.00018861878556069314, 'time_step_in': 13, 'time_step_out': 1, 'stride': 3, 'binary_weight': 1.5323063587876924, 'intensity_weight': 1.623503900423636, 'regression_weight': 0.9106905535218943, 'rain_threshold': 0.09362363964587654, 'num_lags': 1, 'lag_0': 3, 'num_windows': 1, 'window_0': 16}. Best is trial 7 with value: 0.5528059005737305.\n"
     ]
    },
    {
     "name": "stdout",
     "output_type": "stream",
     "text": [
      "Creating lag features for train set with lags: [3]\n",
      "Creating lag features for val set with lags: [3]\n",
      "Creating lag features for test set with lags: [3]\n",
      "Creating rolling stats for train set with windows: [15]\n",
      "Creating rolling stats for val set with windows: [15]\n",
      "Creating rolling stats for test set with windows: [15]\n",
      "Using 15 features: ['TCW', 'TCLW', 'R250', 'R500', 'R850', 'U850', 'V850', 'EWSS', 'KX', 'CAPE', 'SSHF', 'PEV', 'AWS_lag3', 'AWS_rollmean_15', 'AWS_rollstd_15']\n",
      "✅ Data shapes - Train: torch.Size([9370, 14, 15]), Val: torch.Size([9945, 14, 15]), Test: torch.Size([8420, 14, 15])\n",
      "Error in fold fold_1: Target size (torch.Size([128, 2])) must be the same as input size (torch.Size([128, 1]))\n",
      "Creating lag features for train set with lags: [3]\n",
      "Creating lag features for val set with lags: [3]\n",
      "Creating lag features for test set with lags: [3]\n"
     ]
    },
    {
     "name": "stderr",
     "output_type": "stream",
     "text": [
      "/usr/local/lib/python3.10/dist-packages/torch/nn/modules/rnn.py:123: UserWarning: dropout option adds dropout after all but last recurrent layer, so non-zero dropout expects num_layers greater than 1, but got dropout=0.1418886822745865 and num_layers=1\n",
      "  warnings.warn(\n"
     ]
    },
    {
     "name": "stdout",
     "output_type": "stream",
     "text": [
      "Creating rolling stats for train set with windows: [15]\n",
      "Creating rolling stats for val set with windows: [15]\n",
      "Creating rolling stats for test set with windows: [15]\n",
      "Using 15 features: ['TCW', 'TCLW', 'R250', 'R500', 'R850', 'U850', 'V850', 'EWSS', 'KX', 'CAPE', 'SSHF', 'PEV', 'AWS_lag3', 'AWS_rollmean_15', 'AWS_rollstd_15']\n",
      "✅ Data shapes - Train: torch.Size([20410, 14, 15]), Val: torch.Size([9961, 14, 15]), Test: torch.Size([8295, 14, 15])\n",
      "Error in fold fold_2: Target size (torch.Size([128, 2])) must be the same as input size (torch.Size([128, 1]))\n",
      "Creating lag features for train set with lags: [3]\n",
      "Creating lag features for val set with lags: [3]\n"
     ]
    },
    {
     "name": "stderr",
     "output_type": "stream",
     "text": [
      "/usr/local/lib/python3.10/dist-packages/torch/nn/modules/rnn.py:123: UserWarning: dropout option adds dropout after all but last recurrent layer, so non-zero dropout expects num_layers greater than 1, but got dropout=0.1418886822745865 and num_layers=1\n",
      "  warnings.warn(\n"
     ]
    },
    {
     "name": "stdout",
     "output_type": "stream",
     "text": [
      "Creating lag features for test set with lags: [3]\n",
      "Creating rolling stats for train set with windows: [15]\n",
      "Creating rolling stats for val set with windows: [15]\n",
      "Creating rolling stats for test set with windows: [15]\n",
      "Using 15 features: ['TCW', 'TCLW', 'R250', 'R500', 'R850', 'U850', 'V850', 'EWSS', 'KX', 'CAPE', 'SSHF', 'PEV', 'AWS_lag3', 'AWS_rollmean_15', 'AWS_rollstd_15']\n",
      "✅ Data shapes - Train: torch.Size([31450, 14, 15]), Val: torch.Size([9847, 14, 15]), Test: torch.Size([8079, 14, 15])\n",
      "Error in fold fold_3: Target size (torch.Size([128, 2])) must be the same as input size (torch.Size([128, 1]))\n",
      "Creating lag features for train set with lags: [3]\n",
      "Creating lag features for val set with lags: [3]\n"
     ]
    },
    {
     "name": "stderr",
     "output_type": "stream",
     "text": [
      "/usr/local/lib/python3.10/dist-packages/torch/nn/modules/rnn.py:123: UserWarning: dropout option adds dropout after all but last recurrent layer, so non-zero dropout expects num_layers greater than 1, but got dropout=0.1418886822745865 and num_layers=1\n",
      "  warnings.warn(\n"
     ]
    },
    {
     "name": "stdout",
     "output_type": "stream",
     "text": [
      "Creating lag features for test set with lags: [3]\n",
      "Creating rolling stats for train set with windows: [15]\n",
      "Creating rolling stats for val set with windows: [15]\n",
      "Creating rolling stats for test set with windows: [15]\n",
      "Using 15 features: ['TCW', 'TCLW', 'R250', 'R500', 'R850', 'U850', 'V850', 'EWSS', 'KX', 'CAPE', 'SSHF', 'PEV', 'AWS_lag3', 'AWS_rollmean_15', 'AWS_rollstd_15']\n",
      "✅ Data shapes - Train: torch.Size([42490, 14, 15]), Val: torch.Size([9702, 14, 15]), Test: torch.Size([7924, 14, 15])\n",
      "Error in fold fold_4: Target size (torch.Size([128, 2])) must be the same as input size (torch.Size([128, 1]))\n",
      "Creating lag features for train set with lags: [3]\n",
      "Creating lag features for val set with lags: [3]\n"
     ]
    },
    {
     "name": "stderr",
     "output_type": "stream",
     "text": [
      "/usr/local/lib/python3.10/dist-packages/torch/nn/modules/rnn.py:123: UserWarning: dropout option adds dropout after all but last recurrent layer, so non-zero dropout expects num_layers greater than 1, but got dropout=0.1418886822745865 and num_layers=1\n",
      "  warnings.warn(\n"
     ]
    },
    {
     "name": "stdout",
     "output_type": "stream",
     "text": [
      "Creating lag features for test set with lags: [3]\n",
      "Creating rolling stats for train set with windows: [15]\n",
      "Creating rolling stats for val set with windows: [15]\n",
      "Creating rolling stats for test set with windows: [15]\n",
      "Using 15 features: ['TCW', 'TCLW', 'R250', 'R500', 'R850', 'U850', 'V850', 'EWSS', 'KX', 'CAPE', 'SSHF', 'PEV', 'AWS_lag3', 'AWS_rollmean_15', 'AWS_rollstd_15']\n"
     ]
    },
    {
     "name": "stderr",
     "output_type": "stream",
     "text": [
      "/usr/local/lib/python3.10/dist-packages/torch/nn/modules/rnn.py:123: UserWarning: dropout option adds dropout after all but last recurrent layer, so non-zero dropout expects num_layers greater than 1, but got dropout=0.1418886822745865 and num_layers=1\n",
      "  warnings.warn(\n",
      "[I 2025-04-23 16:54:33,485] Trial 12 finished with value: inf and parameters: {'hidden_size': 194, 'num_layers': 1, 'dropout': 0.1418886822745865, 'lr': 0.009352643864510662, 'time_step_in': 14, 'time_step_out': 2, 'stride': 3, 'binary_weight': 1.5146386296921448, 'intensity_weight': 1.6069711777892557, 'regression_weight': 0.9496250113828137, 'rain_threshold': 0.08787355020198755, 'num_lags': 1, 'lag_0': 3, 'num_windows': 1, 'window_0': 15}. Best is trial 7 with value: 0.5528059005737305.\n"
     ]
    },
    {
     "name": "stdout",
     "output_type": "stream",
     "text": [
      "✅ Data shapes - Train: torch.Size([53530, 14, 15]), Val: torch.Size([9544, 14, 15]), Test: torch.Size([7753, 14, 15])\n",
      "Error in fold fold_5: Target size (torch.Size([128, 2])) must be the same as input size (torch.Size([128, 1]))\n",
      "Creating lag features for train set with lags: [4]\n",
      "Creating lag features for val set with lags: [4]\n",
      "Creating lag features for test set with lags: [4]\n",
      "Creating rolling stats for train set with windows: [3]\n",
      "Creating rolling stats for val set with windows: [3]\n",
      "Creating rolling stats for test set with windows: [3]\n",
      "Using 15 features: ['TCW', 'TCLW', 'R250', 'R500', 'R850', 'U850', 'V850', 'EWSS', 'KX', 'CAPE', 'SSHF', 'PEV', 'AWS_lag4', 'AWS_rollmean_3', 'AWS_rollstd_3']\n",
      "✅ Data shapes - Train: torch.Size([6276, 26, 15]), Val: torch.Size([6900, 26, 15]), Test: torch.Size([5867, 26, 15])\n",
      "  🌀 Epoch 1/5, Total Loss: 3.6510, Binary: 0.6935, Intensity: 0.9673, Regression: 1.2647\n",
      "  🌀 Epoch 2/5, Total Loss: 2.7079, Binary: 0.6938, Intensity: 0.2298, Regression: 1.1727\n",
      "  🌀 Epoch 3/5, Total Loss: 2.5566, Binary: 0.6939, Intensity: 0.1319, Regression: 1.1388\n",
      "  🌀 Epoch 4/5, Total Loss: 2.5742, Binary: 0.6936, Intensity: 0.1343, Regression: 1.1514\n",
      "  🌀 Epoch 5/5, Total Loss: 2.4859, Binary: 0.6932, Intensity: 0.1343, Regression: 1.0791\n",
      "Creating lag features for train set with lags: [4]\n",
      "Creating lag features for val set with lags: [4]\n",
      "Creating lag features for test set with lags: [4]\n",
      "Creating rolling stats for train set with windows: [3]\n",
      "Creating rolling stats for val set with windows: [3]\n",
      "Creating rolling stats for test set with windows: [3]\n",
      "Using 15 features: ['TCW', 'TCLW', 'R250', 'R500', 'R850', 'U850', 'V850', 'EWSS', 'KX', 'CAPE', 'SSHF', 'PEV', 'AWS_lag4', 'AWS_rollmean_3', 'AWS_rollstd_3']\n",
      "✅ Data shapes - Train: torch.Size([14556, 26, 15]), Val: torch.Size([6881, 26, 15]), Test: torch.Size([5673, 26, 15])\n",
      "  🌀 Epoch 1/5, Total Loss: 3.3299, Binary: 0.6938, Intensity: 0.5490, Regression: 1.3887\n",
      "  🌀 Epoch 2/5, Total Loss: 2.7229, Binary: 0.6930, Intensity: 0.1429, Regression: 1.2668\n",
      "  🌀 Epoch 3/5, Total Loss: 2.6853, Binary: 0.6868, Intensity: 0.1464, Regression: 1.2401\n",
      "  🌀 Epoch 4/5, Total Loss: 2.5145, Binary: 0.6281, Intensity: 0.1413, Regression: 1.1757\n",
      "  🌀 Epoch 5/5, Total Loss: 2.2548, Binary: 0.5112, Intensity: 0.1343, Regression: 1.1107\n",
      "Creating lag features for train set with lags: [4]\n",
      "Creating lag features for val set with lags: [4]\n",
      "Creating lag features for test set with lags: [4]\n",
      "Creating rolling stats for train set with windows: [3]\n",
      "Creating rolling stats for val set with windows: [3]\n",
      "Creating rolling stats for test set with windows: [3]\n",
      "Using 15 features: ['TCW', 'TCLW', 'R250', 'R500', 'R850', 'U850', 'V850', 'EWSS', 'KX', 'CAPE', 'SSHF', 'PEV', 'AWS_lag4', 'AWS_rollmean_3', 'AWS_rollstd_3']\n",
      "✅ Data shapes - Train: torch.Size([22836, 26, 15]), Val: torch.Size([6782, 26, 15]), Test: torch.Size([5423, 26, 15])\n",
      "  🌀 Epoch 1/5, Total Loss: 3.1129, Binary: 0.6940, Intensity: 0.4345, Regression: 1.3160\n",
      "  🌀 Epoch 2/5, Total Loss: 2.6904, Binary: 0.6929, Intensity: 0.1499, Regression: 1.2336\n",
      "  🌀 Epoch 3/5, Total Loss: 2.6043, Binary: 0.6913, Intensity: 0.1487, Regression: 1.1656\n",
      "  🌀 Epoch 4/5, Total Loss: 2.3794, Binary: 0.5942, Intensity: 0.1334, Regression: 1.1130\n",
      "  🌀 Epoch 5/5, Total Loss: 2.1690, Binary: 0.4715, Intensity: 0.1174, Regression: 1.1042\n",
      "Creating lag features for train set with lags: [4]\n",
      "Creating lag features for val set with lags: [4]\n",
      "Creating lag features for test set with lags: [4]\n",
      "Creating rolling stats for train set with windows: [3]\n",
      "Creating rolling stats for val set with windows: [3]\n",
      "Creating rolling stats for test set with windows: [3]\n",
      "Using 15 features: ['TCW', 'TCLW', 'R250', 'R500', 'R850', 'U850', 'V850', 'EWSS', 'KX', 'CAPE', 'SSHF', 'PEV', 'AWS_lag4', 'AWS_rollmean_3', 'AWS_rollstd_3']\n",
      "✅ Data shapes - Train: torch.Size([31116, 26, 15]), Val: torch.Size([6610, 26, 15]), Test: torch.Size([5262, 26, 15])\n",
      "  🌀 Epoch 1/5, Total Loss: 3.0638, Binary: 0.6934, Intensity: 0.3248, Regression: 1.3783\n",
      "  🌀 Epoch 2/5, Total Loss: 2.7405, Binary: 0.6903, Intensity: 0.1611, Regression: 1.2678\n",
      "  🌀 Epoch 3/5, Total Loss: 2.4203, Binary: 0.5519, Intensity: 0.1412, Regression: 1.1911\n",
      "  🌀 Epoch 4/5, Total Loss: 2.2320, Binary: 0.4657, Intensity: 0.1252, Regression: 1.1560\n",
      "  🌀 Epoch 5/5, Total Loss: 2.1744, Binary: 0.4443, Intensity: 0.1193, Regression: 1.1402\n",
      "Creating lag features for train set with lags: [4]\n",
      "Creating lag features for val set with lags: [4]\n",
      "Creating lag features for test set with lags: [4]\n",
      "Creating rolling stats for train set with windows: [3]\n",
      "Creating rolling stats for val set with windows: [3]\n",
      "Creating rolling stats for test set with windows: [3]\n",
      "Using 15 features: ['TCW', 'TCLW', 'R250', 'R500', 'R850', 'U850', 'V850', 'EWSS', 'KX', 'CAPE', 'SSHF', 'PEV', 'AWS_lag4', 'AWS_rollmean_3', 'AWS_rollstd_3']\n",
      "✅ Data shapes - Train: torch.Size([39396, 26, 15]), Val: torch.Size([6343, 26, 15]), Test: torch.Size([5037, 26, 15])\n",
      "  🌀 Epoch 1/5, Total Loss: 3.2117, Binary: 0.6703, Intensity: 0.3172, Regression: 1.5356\n",
      "  🌀 Epoch 2/5, Total Loss: 2.6889, Binary: 0.5871, Intensity: 0.1702, Regression: 1.3427\n",
      "  🌀 Epoch 3/5, Total Loss: 2.5207, Binary: 0.5215, Intensity: 0.1540, Regression: 1.2992\n",
      "  🌀 Epoch 4/5, Total Loss: 2.3925, Binary: 0.4930, Intensity: 0.1408, Regression: 1.2404\n",
      "  🌀 Epoch 5/5, Total Loss: 2.3308, Binary: 0.4648, Intensity: 0.1362, Regression: 1.2284\n"
     ]
    },
    {
     "name": "stderr",
     "output_type": "stream",
     "text": [
      "[I 2025-04-23 16:55:47,818] Trial 13 finished with value: 0.6374191701412201 and parameters: {'hidden_size': 214, 'num_layers': 3, 'dropout': 0.37326065372028333, 'lr': 0.00010134817071924764, 'time_step_in': 26, 'time_step_out': 1, 'stride': 4, 'binary_weight': 1.4806310464398058, 'intensity_weight': 1.1280112068136061, 'regression_weight': 1.2121848404897353, 'rain_threshold': 0.09550654580772916, 'num_lags': 1, 'lag_0': 4, 'num_windows': 1, 'window_0': 3}. Best is trial 7 with value: 0.5528059005737305.\n"
     ]
    },
    {
     "name": "stdout",
     "output_type": "stream",
     "text": [
      "Creating lag features for train set with lags: [3, 1]\n",
      "Creating lag features for val set with lags: [3, 1]\n",
      "Creating lag features for test set with lags: [3, 1]\n",
      "Creating rolling stats for train set with windows: [24]\n",
      "Creating rolling stats for val set with windows: [24]\n",
      "Creating rolling stats for test set with windows: [24]\n",
      "Using 16 features: ['TCW', 'TCLW', 'R250', 'R500', 'R850', 'U850', 'V850', 'EWSS', 'KX', 'CAPE', 'SSHF', 'PEV', 'AWS_lag3', 'AWS_lag1', 'AWS_rollmean_24', 'AWS_rollstd_24']\n",
      "✅ Data shapes - Train: torch.Size([5610, 32, 16]), Val: torch.Size([6479, 32, 16]), Test: torch.Size([5532, 32, 16])\n",
      "Error in fold fold_1: Target size (torch.Size([128, 3])) must be the same as input size (torch.Size([128, 1]))\n",
      "Creating lag features for train set with lags: [3, 1]\n",
      "Creating lag features for val set with lags: [3, 1]\n",
      "Creating lag features for test set with lags: [3, 1]\n"
     ]
    },
    {
     "name": "stderr",
     "output_type": "stream",
     "text": [
      "/usr/local/lib/python3.10/dist-packages/torch/nn/modules/rnn.py:123: UserWarning: dropout option adds dropout after all but last recurrent layer, so non-zero dropout expects num_layers greater than 1, but got dropout=0.10090584069662845 and num_layers=1\n",
      "  warnings.warn(\n"
     ]
    },
    {
     "name": "stdout",
     "output_type": "stream",
     "text": [
      "Creating rolling stats for train set with windows: [24]\n",
      "Creating rolling stats for val set with windows: [24]\n",
      "Creating rolling stats for test set with windows: [24]\n",
      "Using 16 features: ['TCW', 'TCLW', 'R250', 'R500', 'R850', 'U850', 'V850', 'EWSS', 'KX', 'CAPE', 'SSHF', 'PEV', 'AWS_lag3', 'AWS_lag1', 'AWS_rollmean_24', 'AWS_rollstd_24']\n",
      "✅ Data shapes - Train: torch.Size([13888, 32, 16]), Val: torch.Size([6496, 32, 16]), Test: torch.Size([5289, 32, 16])\n",
      "Error in fold fold_2: Target size (torch.Size([128, 3])) must be the same as input size (torch.Size([128, 1]))\n",
      "Creating lag features for train set with lags: [3, 1]\n",
      "Creating lag features for val set with lags: [3, 1]\n"
     ]
    },
    {
     "name": "stderr",
     "output_type": "stream",
     "text": [
      "/usr/local/lib/python3.10/dist-packages/torch/nn/modules/rnn.py:123: UserWarning: dropout option adds dropout after all but last recurrent layer, so non-zero dropout expects num_layers greater than 1, but got dropout=0.10090584069662845 and num_layers=1\n",
      "  warnings.warn(\n"
     ]
    },
    {
     "name": "stdout",
     "output_type": "stream",
     "text": [
      "Creating lag features for test set with lags: [3, 1]\n",
      "Creating rolling stats for train set with windows: [24]\n",
      "Creating rolling stats for val set with windows: [24]\n",
      "Creating rolling stats for test set with windows: [24]\n",
      "Using 16 features: ['TCW', 'TCLW', 'R250', 'R500', 'R850', 'U850', 'V850', 'EWSS', 'KX', 'CAPE', 'SSHF', 'PEV', 'AWS_lag3', 'AWS_lag1', 'AWS_rollmean_24', 'AWS_rollstd_24']\n",
      "✅ Data shapes - Train: torch.Size([22168, 32, 16]), Val: torch.Size([6386, 32, 16]), Test: torch.Size([5004, 32, 16])\n",
      "Error in fold fold_3: Target size (torch.Size([128, 3])) must be the same as input size (torch.Size([128, 1]))\n",
      "Creating lag features for train set with lags: [3, 1]\n",
      "Creating lag features for val set with lags: [3, 1]\n"
     ]
    },
    {
     "name": "stderr",
     "output_type": "stream",
     "text": [
      "/usr/local/lib/python3.10/dist-packages/torch/nn/modules/rnn.py:123: UserWarning: dropout option adds dropout after all but last recurrent layer, so non-zero dropout expects num_layers greater than 1, but got dropout=0.10090584069662845 and num_layers=1\n",
      "  warnings.warn(\n"
     ]
    },
    {
     "name": "stdout",
     "output_type": "stream",
     "text": [
      "Creating lag features for test set with lags: [3, 1]\n",
      "Creating rolling stats for train set with windows: [24]\n",
      "Creating rolling stats for val set with windows: [24]\n",
      "Creating rolling stats for test set with windows: [24]\n",
      "Using 16 features: ['TCW', 'TCLW', 'R250', 'R500', 'R850', 'U850', 'V850', 'EWSS', 'KX', 'CAPE', 'SSHF', 'PEV', 'AWS_lag3', 'AWS_lag1', 'AWS_rollmean_24', 'AWS_rollstd_24']\n",
      "✅ Data shapes - Train: torch.Size([30448, 32, 16]), Val: torch.Size([6148, 32, 16]), Test: torch.Size([4785, 32, 16])\n",
      "Error in fold fold_4: Target size (torch.Size([128, 3])) must be the same as input size (torch.Size([128, 1]))\n",
      "Creating lag features for train set with lags: [3, 1]\n",
      "Creating lag features for val set with lags: [3, 1]\n"
     ]
    },
    {
     "name": "stderr",
     "output_type": "stream",
     "text": [
      "/usr/local/lib/python3.10/dist-packages/torch/nn/modules/rnn.py:123: UserWarning: dropout option adds dropout after all but last recurrent layer, so non-zero dropout expects num_layers greater than 1, but got dropout=0.10090584069662845 and num_layers=1\n",
      "  warnings.warn(\n"
     ]
    },
    {
     "name": "stdout",
     "output_type": "stream",
     "text": [
      "Creating lag features for test set with lags: [3, 1]\n",
      "Creating rolling stats for train set with windows: [24]\n",
      "Creating rolling stats for val set with windows: [24]\n",
      "Creating rolling stats for test set with windows: [24]\n",
      "Using 16 features: ['TCW', 'TCLW', 'R250', 'R500', 'R850', 'U850', 'V850', 'EWSS', 'KX', 'CAPE', 'SSHF', 'PEV', 'AWS_lag3', 'AWS_lag1', 'AWS_rollmean_24', 'AWS_rollstd_24']\n"
     ]
    },
    {
     "name": "stderr",
     "output_type": "stream",
     "text": [
      "/usr/local/lib/python3.10/dist-packages/torch/nn/modules/rnn.py:123: UserWarning: dropout option adds dropout after all but last recurrent layer, so non-zero dropout expects num_layers greater than 1, but got dropout=0.10090584069662845 and num_layers=1\n",
      "  warnings.warn(\n",
      "[I 2025-04-23 16:56:14,230] Trial 14 finished with value: inf and parameters: {'hidden_size': 169, 'num_layers': 1, 'dropout': 0.10090584069662845, 'lr': 0.0008199886034462292, 'time_step_in': 32, 'time_step_out': 3, 'stride': 4, 'binary_weight': 1.4622887673780847, 'intensity_weight': 1.6220052643193223, 'regression_weight': 0.5040965771882464, 'rain_threshold': 0.06616423477028857, 'num_lags': 2, 'lag_0': 3, 'lag_1': 1, 'num_windows': 1, 'window_0': 24}. Best is trial 7 with value: 0.5528059005737305.\n"
     ]
    },
    {
     "name": "stdout",
     "output_type": "stream",
     "text": [
      "✅ Data shapes - Train: torch.Size([38728, 32, 16]), Val: torch.Size([5793, 32, 16]), Test: torch.Size([4497, 32, 16])\n",
      "Error in fold fold_5: Target size (torch.Size([128, 3])) must be the same as input size (torch.Size([128, 1]))\n",
      "Creating lag features for train set with lags: [3, 5]\n",
      "Creating lag features for val set with lags: [3, 5]\n",
      "Creating lag features for test set with lags: [3, 5]\n",
      "Creating rolling stats for train set with windows: [17, 15]\n",
      "Creating rolling stats for val set with windows: [17, 15]\n",
      "Creating rolling stats for test set with windows: [17, 15]\n",
      "Using 18 features: ['TCW', 'TCLW', 'R250', 'R500', 'R850', 'U850', 'V850', 'EWSS', 'KX', 'CAPE', 'SSHF', 'PEV', 'AWS_lag3', 'AWS_lag5', 'AWS_rollmean_17', 'AWS_rollstd_17', 'AWS_rollmean_15', 'AWS_rollstd_15']\n",
      "✅ Data shapes - Train: torch.Size([8556, 47, 18]), Val: torch.Size([11396, 47, 18]), Test: torch.Size([9819, 47, 18])\n",
      "Error in fold fold_1: Target size (torch.Size([128, 3])) must be the same as input size (torch.Size([128, 1]))\n",
      "Creating lag features for train set with lags: [3, 5]\n",
      "Creating lag features for val set with lags: [3, 5]\n",
      "Creating lag features for test set with lags: [3, 5]\n"
     ]
    },
    {
     "name": "stderr",
     "output_type": "stream",
     "text": [
      "/usr/local/lib/python3.10/dist-packages/torch/nn/modules/rnn.py:123: UserWarning: dropout option adds dropout after all but last recurrent layer, so non-zero dropout expects num_layers greater than 1, but got dropout=0.3818514100866312 and num_layers=1\n",
      "  warnings.warn(\n"
     ]
    },
    {
     "name": "stdout",
     "output_type": "stream",
     "text": [
      "Creating rolling stats for train set with windows: [17, 15]\n",
      "Creating rolling stats for val set with windows: [17, 15]\n",
      "Creating rolling stats for test set with windows: [17, 15]\n",
      "Using 18 features: ['TCW', 'TCLW', 'R250', 'R500', 'R850', 'U850', 'V850', 'EWSS', 'KX', 'CAPE', 'SSHF', 'PEV', 'AWS_lag3', 'AWS_lag5', 'AWS_rollmean_17', 'AWS_rollstd_17', 'AWS_rollmean_15', 'AWS_rollstd_15']\n",
      "✅ Data shapes - Train: torch.Size([25104, 47, 18]), Val: torch.Size([11549, 47, 18]), Test: torch.Size([9280, 47, 18])\n",
      "Error in fold fold_2: Target size (torch.Size([128, 3])) must be the same as input size (torch.Size([128, 1]))\n",
      "Creating lag features for train set with lags: [3, 5]\n",
      "Creating lag features for val set with lags: [3, 5]\n"
     ]
    },
    {
     "name": "stderr",
     "output_type": "stream",
     "text": [
      "/usr/local/lib/python3.10/dist-packages/torch/nn/modules/rnn.py:123: UserWarning: dropout option adds dropout after all but last recurrent layer, so non-zero dropout expects num_layers greater than 1, but got dropout=0.3818514100866312 and num_layers=1\n",
      "  warnings.warn(\n"
     ]
    },
    {
     "name": "stdout",
     "output_type": "stream",
     "text": [
      "Creating lag features for test set with lags: [3, 5]\n",
      "Creating rolling stats for train set with windows: [17, 15]\n",
      "Creating rolling stats for val set with windows: [17, 15]\n",
      "Creating rolling stats for test set with windows: [17, 15]\n",
      "Using 18 features: ['TCW', 'TCLW', 'R250', 'R500', 'R850', 'U850', 'V850', 'EWSS', 'KX', 'CAPE', 'SSHF', 'PEV', 'AWS_lag3', 'AWS_lag5', 'AWS_rollmean_17', 'AWS_rollstd_17', 'AWS_rollmean_15', 'AWS_rollstd_15']\n",
      "✅ Data shapes - Train: torch.Size([41664, 47, 18]), Val: torch.Size([11249, 47, 18]), Test: torch.Size([8636, 47, 18])\n",
      "Error in fold fold_3: Target size (torch.Size([128, 3])) must be the same as input size (torch.Size([128, 1]))\n",
      "Creating lag features for train set with lags: [3, 5]\n",
      "Creating lag features for val set with lags: [3, 5]\n"
     ]
    },
    {
     "name": "stderr",
     "output_type": "stream",
     "text": [
      "/usr/local/lib/python3.10/dist-packages/torch/nn/modules/rnn.py:123: UserWarning: dropout option adds dropout after all but last recurrent layer, so non-zero dropout expects num_layers greater than 1, but got dropout=0.3818514100866312 and num_layers=1\n",
      "  warnings.warn(\n"
     ]
    },
    {
     "name": "stdout",
     "output_type": "stream",
     "text": [
      "Creating lag features for test set with lags: [3, 5]\n",
      "Creating rolling stats for train set with windows: [17, 15]\n",
      "Creating rolling stats for val set with windows: [17, 15]\n",
      "Creating rolling stats for test set with windows: [17, 15]\n",
      "Using 18 features: ['TCW', 'TCLW', 'R250', 'R500', 'R850', 'U850', 'V850', 'EWSS', 'KX', 'CAPE', 'SSHF', 'PEV', 'AWS_lag3', 'AWS_lag5', 'AWS_rollmean_17', 'AWS_rollstd_17', 'AWS_rollmean_15', 'AWS_rollstd_15']\n",
      "✅ Data shapes - Train: torch.Size([58224, 47, 18]), Val: torch.Size([10396, 47, 18]), Test: torch.Size([7795, 47, 18])\n",
      "Error in fold fold_4: Target size (torch.Size([128, 3])) must be the same as input size (torch.Size([128, 1]))\n",
      "Creating lag features for train set with lags: [3, 5]\n",
      "Creating lag features for val set with lags: [3, 5]\n"
     ]
    },
    {
     "name": "stderr",
     "output_type": "stream",
     "text": [
      "/usr/local/lib/python3.10/dist-packages/torch/nn/modules/rnn.py:123: UserWarning: dropout option adds dropout after all but last recurrent layer, so non-zero dropout expects num_layers greater than 1, but got dropout=0.3818514100866312 and num_layers=1\n",
      "  warnings.warn(\n"
     ]
    },
    {
     "name": "stdout",
     "output_type": "stream",
     "text": [
      "Creating lag features for test set with lags: [3, 5]\n",
      "Creating rolling stats for train set with windows: [17, 15]\n",
      "Creating rolling stats for val set with windows: [17, 15]\n",
      "Creating rolling stats for test set with windows: [17, 15]\n",
      "Using 18 features: ['TCW', 'TCLW', 'R250', 'R500', 'R850', 'U850', 'V850', 'EWSS', 'KX', 'CAPE', 'SSHF', 'PEV', 'AWS_lag3', 'AWS_lag5', 'AWS_rollmean_17', 'AWS_rollstd_17', 'AWS_rollmean_15', 'AWS_rollstd_15']\n"
     ]
    },
    {
     "name": "stderr",
     "output_type": "stream",
     "text": [
      "/usr/local/lib/python3.10/dist-packages/torch/nn/modules/rnn.py:123: UserWarning: dropout option adds dropout after all but last recurrent layer, so non-zero dropout expects num_layers greater than 1, but got dropout=0.3818514100866312 and num_layers=1\n",
      "  warnings.warn(\n",
      "[I 2025-04-23 16:57:16,325] Trial 15 finished with value: inf and parameters: {'hidden_size': 105, 'num_layers': 1, 'dropout': 0.3818514100866312, 'lr': 0.0003517554177293253, 'time_step_in': 47, 'time_step_out': 3, 'stride': 2, 'binary_weight': 1.9913476799371848, 'intensity_weight': 1.2496291006681495, 'regression_weight': 1.2323424953276279, 'rain_threshold': 0.10131957625543578, 'num_lags': 2, 'lag_0': 3, 'lag_1': 5, 'num_windows': 2, 'window_0': 17, 'window_1': 15}. Best is trial 7 with value: 0.5528059005737305.\n"
     ]
    },
    {
     "name": "stdout",
     "output_type": "stream",
     "text": [
      "✅ Data shapes - Train: torch.Size([74784, 47, 18]), Val: torch.Size([9515, 47, 18]), Test: torch.Size([6949, 47, 18])\n",
      "Error in fold fold_5: Target size (torch.Size([128, 3])) must be the same as input size (torch.Size([128, 1]))\n",
      "Creating lag features for train set with lags: [1]\n",
      "Creating lag features for val set with lags: [1]\n",
      "Creating lag features for test set with lags: [1]\n",
      "Creating rolling stats for train set with windows: [11]\n",
      "Creating rolling stats for val set with windows: [11]\n",
      "Creating rolling stats for test set with windows: [11]\n",
      "Using 15 features: ['TCW', 'TCLW', 'R250', 'R500', 'R850', 'U850', 'V850', 'EWSS', 'KX', 'CAPE', 'SSHF', 'PEV', 'AWS_lag1', 'AWS_rollmean_11', 'AWS_rollstd_11']\n",
      "✅ Data shapes - Train: torch.Size([9704, 12, 15]), Val: torch.Size([10078, 12, 15]), Test: torch.Size([8536, 12, 15])\n",
      "Error in fold fold_1: Target size (torch.Size([128, 2])) must be the same as input size (torch.Size([128, 1]))\n",
      "Creating lag features for train set with lags: [1]\n",
      "Creating lag features for val set with lags: [1]\n",
      "Creating lag features for test set with lags: [1]\n",
      "Creating rolling stats for train set with windows: [11]\n",
      "Creating rolling stats for val set with windows: [11]\n",
      "Creating rolling stats for test set with windows: [11]\n",
      "Using 15 features: ['TCW', 'TCLW', 'R250', 'R500', 'R850', 'U850', 'V850', 'EWSS', 'KX', 'CAPE', 'SSHF', 'PEV', 'AWS_lag1', 'AWS_rollmean_11', 'AWS_rollstd_11']\n",
      "✅ Data shapes - Train: torch.Size([20744, 12, 15]), Val: torch.Size([10103, 12, 15]), Test: torch.Size([8417, 12, 15])\n",
      "Error in fold fold_2: Target size (torch.Size([128, 2])) must be the same as input size (torch.Size([128, 1]))\n",
      "Creating lag features for train set with lags: [1]\n",
      "Creating lag features for val set with lags: [1]\n",
      "Creating lag features for test set with lags: [1]\n",
      "Creating rolling stats for train set with windows: [11]\n",
      "Creating rolling stats for val set with windows: [11]\n",
      "Creating rolling stats for test set with windows: [11]\n",
      "Using 15 features: ['TCW', 'TCLW', 'R250', 'R500', 'R850', 'U850', 'V850', 'EWSS', 'KX', 'CAPE', 'SSHF', 'PEV', 'AWS_lag1', 'AWS_rollmean_11', 'AWS_rollstd_11']\n",
      "✅ Data shapes - Train: torch.Size([31784, 12, 15]), Val: torch.Size([9970, 12, 15]), Test: torch.Size([8234, 12, 15])\n",
      "Error in fold fold_3: Target size (torch.Size([128, 2])) must be the same as input size (torch.Size([128, 1]))\n",
      "Creating lag features for train set with lags: [1]\n",
      "Creating lag features for val set with lags: [1]\n",
      "Creating lag features for test set with lags: [1]\n",
      "Creating rolling stats for train set with windows: [11]\n",
      "Creating rolling stats for val set with windows: [11]\n",
      "Creating rolling stats for test set with windows: [11]\n",
      "Using 15 features: ['TCW', 'TCLW', 'R250', 'R500', 'R850', 'U850', 'V850', 'EWSS', 'KX', 'CAPE', 'SSHF', 'PEV', 'AWS_lag1', 'AWS_rollmean_11', 'AWS_rollstd_11']\n",
      "✅ Data shapes - Train: torch.Size([42824, 12, 15]), Val: torch.Size([9867, 12, 15]), Test: torch.Size([8123, 12, 15])\n",
      "Error in fold fold_4: Target size (torch.Size([128, 2])) must be the same as input size (torch.Size([128, 1]))\n",
      "Creating lag features for train set with lags: [1]\n",
      "Creating lag features for val set with lags: [1]\n",
      "Creating lag features for test set with lags: [1]\n",
      "Creating rolling stats for train set with windows: [11]\n",
      "Creating rolling stats for val set with windows: [11]\n",
      "Creating rolling stats for test set with windows: [11]\n",
      "Using 15 features: ['TCW', 'TCLW', 'R250', 'R500', 'R850', 'U850', 'V850', 'EWSS', 'KX', 'CAPE', 'SSHF', 'PEV', 'AWS_lag1', 'AWS_rollmean_11', 'AWS_rollstd_11']\n"
     ]
    },
    {
     "name": "stderr",
     "output_type": "stream",
     "text": [
      "[I 2025-04-23 16:57:34,750] Trial 16 finished with value: inf and parameters: {'hidden_size': 228, 'num_layers': 3, 'dropout': 0.18525049990487635, 'lr': 0.00460004159340172, 'time_step_in': 12, 'time_step_out': 2, 'stride': 3, 'binary_weight': 0.5595676872003685, 'intensity_weight': 1.441839378837996, 'regression_weight': 0.7388737051306881, 'rain_threshold': 0.07733711201440524, 'num_lags': 1, 'lag_0': 1, 'num_windows': 1, 'window_0': 11}. Best is trial 7 with value: 0.5528059005737305.\n"
     ]
    },
    {
     "name": "stdout",
     "output_type": "stream",
     "text": [
      "✅ Data shapes - Train: torch.Size([53864, 12, 15]), Val: torch.Size([9692, 12, 15]), Test: torch.Size([7974, 12, 15])\n",
      "Error in fold fold_5: Target size (torch.Size([128, 2])) must be the same as input size (torch.Size([128, 1]))\n",
      "Creating lag features for train set with lags: [5]\n",
      "Creating lag features for val set with lags: [5]\n",
      "Creating lag features for test set with lags: [5]\n",
      "Creating rolling stats for train set with windows: [17, 14, 3]\n",
      "Creating rolling stats for val set with windows: [17, 14, 3]\n",
      "Creating rolling stats for test set with windows: [17, 14, 3]\n",
      "Using 19 features: ['TCW', 'TCLW', 'R250', 'R500', 'R850', 'U850', 'V850', 'EWSS', 'KX', 'CAPE', 'SSHF', 'PEV', 'AWS_lag5', 'AWS_rollmean_17', 'AWS_rollstd_17', 'AWS_rollmean_14', 'AWS_rollstd_14', 'AWS_rollmean_3', 'AWS_rollstd_3']\n",
      "✅ Data shapes - Train: torch.Size([5277, 36, 19]), Val: torch.Size([6336, 36, 19]), Test: torch.Size([5428, 36, 19])\n",
      "  🌀 Epoch 1/5, Total Loss: 2.4924, Binary: 0.6964, Intensity: 0.2445, Regression: 1.4161\n",
      "  🌀 Epoch 2/5, Total Loss: 2.1543, Binary: 0.6920, Intensity: 0.1313, Regression: 1.2743\n",
      "  🌀 Epoch 3/5, Total Loss: 2.0781, Binary: 0.6894, Intensity: 0.1260, Regression: 1.2095\n",
      "  🌀 Epoch 4/5, Total Loss: 1.9761, Binary: 0.6822, Intensity: 0.1150, Regression: 1.1330\n",
      "  🌀 Epoch 5/5, Total Loss: 1.7653, Binary: 0.5373, Intensity: 0.1036, Regression: 1.0793\n",
      "Creating lag features for train set with lags: [5]\n",
      "Creating lag features for val set with lags: [5]\n",
      "Creating lag features for test set with lags: [5]\n",
      "Creating rolling stats for train set with windows: [17, 14, 3]\n",
      "Creating rolling stats for val set with windows: [17, 14, 3]\n",
      "Creating rolling stats for test set with windows: [17, 14, 3]\n",
      "Using 19 features: ['TCW', 'TCLW', 'R250', 'R500', 'R850', 'U850', 'V850', 'EWSS', 'KX', 'CAPE', 'SSHF', 'PEV', 'AWS_lag5', 'AWS_rollmean_17', 'AWS_rollstd_17', 'AWS_rollmean_14', 'AWS_rollstd_14', 'AWS_rollmean_3', 'AWS_rollstd_3']\n",
      "✅ Data shapes - Train: torch.Size([13554, 36, 19]), Val: torch.Size([6378, 36, 19]), Test: torch.Size([5213, 36, 19])\n",
      "  🌀 Epoch 1/5, Total Loss: 2.1780, Binary: 0.6785, Intensity: 0.2007, Regression: 1.1930\n",
      "  🌀 Epoch 2/5, Total Loss: 1.6090, Binary: 0.4350, Intensity: 0.1092, Regression: 1.0106\n",
      "  🌀 Epoch 3/5, Total Loss: 1.4680, Binary: 0.3736, Intensity: 0.0999, Regression: 0.9438\n",
      "  🌀 Epoch 4/5, Total Loss: 1.4060, Binary: 0.3540, Intensity: 0.0959, Regression: 0.9072\n",
      "  🌀 Epoch 5/5, Total Loss: 1.3964, Binary: 0.3557, Intensity: 0.0957, Regression: 0.8964\n",
      "Creating lag features for train set with lags: [5]\n",
      "Creating lag features for val set with lags: [5]\n",
      "Creating lag features for test set with lags: [5]\n",
      "Creating rolling stats for train set with windows: [17, 14, 3]\n",
      "Creating rolling stats for val set with windows: [17, 14, 3]\n",
      "Creating rolling stats for test set with windows: [17, 14, 3]\n",
      "Using 19 features: ['TCW', 'TCLW', 'R250', 'R500', 'R850', 'U850', 'V850', 'EWSS', 'KX', 'CAPE', 'SSHF', 'PEV', 'AWS_lag5', 'AWS_rollmean_17', 'AWS_rollstd_17', 'AWS_rollmean_14', 'AWS_rollstd_14', 'AWS_rollmean_3', 'AWS_rollstd_3']\n",
      "✅ Data shapes - Train: torch.Size([21834, 36, 19]), Val: torch.Size([6297, 36, 19]), Test: torch.Size([4955, 36, 19])\n",
      "  🌀 Epoch 1/5, Total Loss: 1.9779, Binary: 0.6274, Intensity: 0.1580, Regression: 1.1140\n",
      "  🌀 Epoch 2/5, Total Loss: 1.4690, Binary: 0.3834, Intensity: 0.1037, Regression: 0.9290\n",
      "  🌀 Epoch 3/5, Total Loss: 1.4062, Binary: 0.3522, Intensity: 0.1007, Regression: 0.9009\n",
      "  🌀 Epoch 4/5, Total Loss: 1.3814, Binary: 0.3395, Intensity: 0.0976, Regression: 0.8935\n",
      "  🌀 Epoch 5/5, Total Loss: 1.3657, Binary: 0.3350, Intensity: 0.0976, Regression: 0.8820\n",
      "Creating lag features for train set with lags: [5]\n",
      "Creating lag features for val set with lags: [5]\n",
      "Creating lag features for test set with lags: [5]\n",
      "Creating rolling stats for train set with windows: [17, 14, 3]\n",
      "Creating rolling stats for val set with windows: [17, 14, 3]\n",
      "Creating rolling stats for test set with windows: [17, 14, 3]\n",
      "Using 19 features: ['TCW', 'TCLW', 'R250', 'R500', 'R850', 'U850', 'V850', 'EWSS', 'KX', 'CAPE', 'SSHF', 'PEV', 'AWS_lag5', 'AWS_rollmean_17', 'AWS_rollstd_17', 'AWS_rollmean_14', 'AWS_rollstd_14', 'AWS_rollmean_3', 'AWS_rollstd_3']\n",
      "✅ Data shapes - Train: torch.Size([30114, 36, 19]), Val: torch.Size([6017, 36, 19]), Test: torch.Size([4677, 36, 19])\n",
      "  🌀 Epoch 1/5, Total Loss: 1.9113, Binary: 0.6098, Intensity: 0.1527, Regression: 1.0730\n",
      "  🌀 Epoch 2/5, Total Loss: 1.5295, Binary: 0.3865, Intensity: 0.1053, Regression: 0.9839\n",
      "  🌀 Epoch 3/5, Total Loss: 1.4553, Binary: 0.3562, Intensity: 0.1013, Regression: 0.9453\n",
      "  🌀 Epoch 4/5, Total Loss: 1.4415, Binary: 0.3500, Intensity: 0.1001, Regression: 0.9393\n",
      "  🌀 Epoch 5/5, Total Loss: 1.4295, Binary: 0.3443, Intensity: 0.0999, Regression: 0.9331\n",
      "Creating lag features for train set with lags: [5]\n",
      "Creating lag features for val set with lags: [5]\n",
      "Creating lag features for test set with lags: [5]\n",
      "Creating rolling stats for train set with windows: [17, 14, 3]\n",
      "Creating rolling stats for val set with windows: [17, 14, 3]\n",
      "Creating rolling stats for test set with windows: [17, 14, 3]\n",
      "Using 19 features: ['TCW', 'TCLW', 'R250', 'R500', 'R850', 'U850', 'V850', 'EWSS', 'KX', 'CAPE', 'SSHF', 'PEV', 'AWS_lag5', 'AWS_rollmean_17', 'AWS_rollstd_17', 'AWS_rollmean_14', 'AWS_rollstd_14', 'AWS_rollmean_3', 'AWS_rollstd_3']\n",
      "✅ Data shapes - Train: torch.Size([38394, 36, 19]), Val: torch.Size([5692, 36, 19]), Test: torch.Size([4341, 36, 19])\n",
      "  🌀 Epoch 1/5, Total Loss: 2.2092, Binary: 0.6141, Intensity: 0.1734, Regression: 1.3318\n",
      "  🌀 Epoch 2/5, Total Loss: 1.8166, Binary: 0.4063, Intensity: 0.1321, Regression: 1.2067\n",
      "  🌀 Epoch 3/5, Total Loss: 1.7244, Binary: 0.3650, Intensity: 0.1269, Regression: 1.1626\n",
      "  🌀 Epoch 4/5, Total Loss: 1.6900, Binary: 0.3442, Intensity: 0.1253, Regression: 1.1507\n",
      "  🌀 Epoch 5/5, Total Loss: 1.6695, Binary: 0.3365, Intensity: 0.1238, Regression: 1.1400\n"
     ]
    },
    {
     "name": "stderr",
     "output_type": "stream",
     "text": [
      "[I 2025-04-23 16:59:00,464] Trial 17 finished with value: 0.5592487335205079 and parameters: {'hidden_size': 252, 'num_layers': 2, 'dropout': 0.3217736916470702, 'lr': 0.0012961507214308975, 'time_step_in': 36, 'time_step_out': 1, 'stride': 4, 'binary_weight': 0.950455409994757, 'intensity_weight': 1.697443846301306, 'regression_weight': 0.9995566346265174, 'rain_threshold': 0.11409981483172352, 'num_lags': 1, 'lag_0': 5, 'num_windows': 3, 'window_0': 17, 'window_1': 14, 'window_2': 3}. Best is trial 7 with value: 0.5528059005737305.\n"
     ]
    },
    {
     "name": "stdout",
     "output_type": "stream",
     "text": [
      "Creating lag features for train set with lags: [9]\n",
      "Creating lag features for val set with lags: [9]\n",
      "Creating lag features for test set with lags: [9]\n",
      "Creating rolling stats for train set with windows: [9, 14, 4]\n",
      "Creating rolling stats for val set with windows: [9, 14, 4]\n",
      "Creating rolling stats for test set with windows: [9, 14, 4]\n",
      "Using 19 features: ['TCW', 'TCLW', 'R250', 'R500', 'R850', 'U850', 'V850', 'EWSS', 'KX', 'CAPE', 'SSHF', 'PEV', 'AWS_lag9', 'AWS_rollmean_9', 'AWS_rollstd_9', 'AWS_rollmean_14', 'AWS_rollstd_14', 'AWS_rollmean_4', 'AWS_rollstd_4']\n",
      "✅ Data shapes - Train: torch.Size([3518, 35, 19]), Val: torch.Size([4224, 35, 19]), Test: torch.Size([3639, 35, 19])\n",
      "Error in fold fold_1: Target size (torch.Size([128, 3])) must be the same as input size (torch.Size([128, 1]))\n",
      "Creating lag features for train set with lags: [9]\n",
      "Creating lag features for val set with lags: [9]\n",
      "Creating lag features for test set with lags: [9]\n"
     ]
    },
    {
     "name": "stderr",
     "output_type": "stream",
     "text": [
      "/usr/local/lib/python3.10/dist-packages/torch/nn/modules/rnn.py:123: UserWarning: dropout option adds dropout after all but last recurrent layer, so non-zero dropout expects num_layers greater than 1, but got dropout=0.3778274867229387 and num_layers=1\n",
      "  warnings.warn(\n"
     ]
    },
    {
     "name": "stdout",
     "output_type": "stream",
     "text": [
      "Creating rolling stats for train set with windows: [9, 14, 4]\n",
      "Creating rolling stats for val set with windows: [9, 14, 4]\n",
      "Creating rolling stats for test set with windows: [9, 14, 4]\n",
      "Using 19 features: ['TCW', 'TCLW', 'R250', 'R500', 'R850', 'U850', 'V850', 'EWSS', 'KX', 'CAPE', 'SSHF', 'PEV', 'AWS_lag9', 'AWS_rollmean_9', 'AWS_rollstd_9', 'AWS_rollmean_14', 'AWS_rollstd_14', 'AWS_rollmean_4', 'AWS_rollstd_4']\n",
      "✅ Data shapes - Train: torch.Size([9036, 35, 19]), Val: torch.Size([4279, 35, 19]), Test: torch.Size([3478, 35, 19])\n",
      "Error in fold fold_2: Target size (torch.Size([128, 3])) must be the same as input size (torch.Size([128, 1]))\n",
      "Creating lag features for train set with lags: [9]\n",
      "Creating lag features for val set with lags: [9]\n"
     ]
    },
    {
     "name": "stderr",
     "output_type": "stream",
     "text": [
      "/usr/local/lib/python3.10/dist-packages/torch/nn/modules/rnn.py:123: UserWarning: dropout option adds dropout after all but last recurrent layer, so non-zero dropout expects num_layers greater than 1, but got dropout=0.3778274867229387 and num_layers=1\n",
      "  warnings.warn(\n"
     ]
    },
    {
     "name": "stdout",
     "output_type": "stream",
     "text": [
      "Creating lag features for test set with lags: [9]\n",
      "Creating rolling stats for train set with windows: [9, 14, 4]\n",
      "Creating rolling stats for val set with windows: [9, 14, 4]\n",
      "Creating rolling stats for test set with windows: [9, 14, 4]\n",
      "Using 19 features: ['TCW', 'TCLW', 'R250', 'R500', 'R850', 'U850', 'V850', 'EWSS', 'KX', 'CAPE', 'SSHF', 'PEV', 'AWS_lag9', 'AWS_rollmean_9', 'AWS_rollstd_9', 'AWS_rollmean_14', 'AWS_rollstd_14', 'AWS_rollmean_4', 'AWS_rollstd_4']\n",
      "✅ Data shapes - Train: torch.Size([14556, 35, 19]), Val: torch.Size([4202, 35, 19]), Test: torch.Size([3272, 35, 19])\n",
      "Error in fold fold_3: Target size (torch.Size([128, 3])) must be the same as input size (torch.Size([128, 1]))\n",
      "Creating lag features for train set with lags: [9]\n",
      "Creating lag features for val set with lags: [9]\n"
     ]
    },
    {
     "name": "stderr",
     "output_type": "stream",
     "text": [
      "/usr/local/lib/python3.10/dist-packages/torch/nn/modules/rnn.py:123: UserWarning: dropout option adds dropout after all but last recurrent layer, so non-zero dropout expects num_layers greater than 1, but got dropout=0.3778274867229387 and num_layers=1\n",
      "  warnings.warn(\n"
     ]
    },
    {
     "name": "stdout",
     "output_type": "stream",
     "text": [
      "Creating lag features for test set with lags: [9]\n",
      "Creating rolling stats for train set with windows: [9, 14, 4]\n",
      "Creating rolling stats for val set with windows: [9, 14, 4]\n",
      "Creating rolling stats for test set with windows: [9, 14, 4]\n",
      "Using 19 features: ['TCW', 'TCLW', 'R250', 'R500', 'R850', 'U850', 'V850', 'EWSS', 'KX', 'CAPE', 'SSHF', 'PEV', 'AWS_lag9', 'AWS_rollmean_9', 'AWS_rollstd_9', 'AWS_rollmean_14', 'AWS_rollstd_14', 'AWS_rollmean_4', 'AWS_rollstd_4']\n",
      "✅ Data shapes - Train: torch.Size([20076, 35, 19]), Val: torch.Size([4004, 35, 19]), Test: torch.Size([3104, 35, 19])\n",
      "Error in fold fold_4: Target size (torch.Size([128, 3])) must be the same as input size (torch.Size([128, 1]))\n",
      "Creating lag features for train set with lags: [9]\n",
      "Creating lag features for val set with lags: [9]\n"
     ]
    },
    {
     "name": "stderr",
     "output_type": "stream",
     "text": [
      "/usr/local/lib/python3.10/dist-packages/torch/nn/modules/rnn.py:123: UserWarning: dropout option adds dropout after all but last recurrent layer, so non-zero dropout expects num_layers greater than 1, but got dropout=0.3778274867229387 and num_layers=1\n",
      "  warnings.warn(\n"
     ]
    },
    {
     "name": "stdout",
     "output_type": "stream",
     "text": [
      "Creating lag features for test set with lags: [9]\n",
      "Creating rolling stats for train set with windows: [9, 14, 4]\n",
      "Creating rolling stats for val set with windows: [9, 14, 4]\n",
      "Creating rolling stats for test set with windows: [9, 14, 4]\n",
      "Using 19 features: ['TCW', 'TCLW', 'R250', 'R500', 'R850', 'U850', 'V850', 'EWSS', 'KX', 'CAPE', 'SSHF', 'PEV', 'AWS_lag9', 'AWS_rollmean_9', 'AWS_rollstd_9', 'AWS_rollmean_14', 'AWS_rollstd_14', 'AWS_rollmean_4', 'AWS_rollstd_4']\n"
     ]
    },
    {
     "name": "stderr",
     "output_type": "stream",
     "text": [
      "/usr/local/lib/python3.10/dist-packages/torch/nn/modules/rnn.py:123: UserWarning: dropout option adds dropout after all but last recurrent layer, so non-zero dropout expects num_layers greater than 1, but got dropout=0.3778274867229387 and num_layers=1\n",
      "  warnings.warn(\n",
      "[I 2025-04-23 16:59:28,730] Trial 18 finished with value: inf and parameters: {'hidden_size': 200, 'num_layers': 1, 'dropout': 0.3778274867229387, 'lr': 0.0012093310501474707, 'time_step_in': 35, 'time_step_out': 3, 'stride': 6, 'binary_weight': 0.8494862122763788, 'intensity_weight': 0.9300217562108091, 'regression_weight': 1.3844073800187953, 'rain_threshold': 0.11084801040694656, 'num_lags': 1, 'lag_0': 9, 'num_windows': 3, 'window_0': 9, 'window_1': 14, 'window_2': 4}. Best is trial 7 with value: 0.5528059005737305.\n"
     ]
    },
    {
     "name": "stdout",
     "output_type": "stream",
     "text": [
      "✅ Data shapes - Train: torch.Size([25596, 35, 19]), Val: torch.Size([3791, 35, 19]), Test: torch.Size([2919, 35, 19])\n",
      "Error in fold fold_5: Target size (torch.Size([128, 3])) must be the same as input size (torch.Size([128, 1]))\n",
      "Creating lag features for train set with lags: [5, 12]\n",
      "Creating lag features for val set with lags: [5, 12]\n",
      "Creating lag features for test set with lags: [5, 12]\n",
      "Creating rolling stats for train set with windows: [18, 18, 3]\n",
      "Creating rolling stats for val set with windows: [18, 18, 3]\n",
      "Creating rolling stats for test set with windows: [18, 18, 3]\n",
      "Using 20 features: ['TCW', 'TCLW', 'R250', 'R500', 'R850', 'U850', 'V850', 'EWSS', 'KX', 'CAPE', 'SSHF', 'PEV', 'AWS_lag5', 'AWS_lag12', 'AWS_rollmean_18', 'AWS_rollstd_18', 'AWS_rollmean_18', 'AWS_rollstd_18', 'AWS_rollmean_3', 'AWS_rollstd_3']\n",
      "✅ Data shapes - Train: torch.Size([6276, 27, 20]), Val: torch.Size([6801, 27, 20]), Test: torch.Size([5816, 27, 20])\n",
      "  🌀 Epoch 1/5, Total Loss: 2.3756, Binary: 0.6940, Intensity: 0.2493, Regression: 1.1764\n",
      "  🌀 Epoch 2/5, Total Loss: 2.1592, Binary: 0.6975, Intensity: 0.1373, Regression: 1.1524\n",
      "  🌀 Epoch 3/5, Total Loss: 2.0221, Binary: 0.6939, Intensity: 0.1210, Regression: 1.0539\n",
      "  🌀 Epoch 4/5, Total Loss: 1.9967, Binary: 0.6936, Intensity: 0.1157, Regression: 1.0390\n",
      "Error in fold fold_1: Expected input batch_size (1) to match target batch_size (0).\n",
      "Creating lag features for train set with lags: [5, 12]\n",
      "Creating lag features for val set with lags: [5, 12]\n",
      "Creating lag features for test set with lags: [5, 12]\n",
      "Creating rolling stats for train set with windows: [18, 18, 3]\n",
      "Creating rolling stats for val set with windows: [18, 18, 3]\n",
      "Creating rolling stats for test set with windows: [18, 18, 3]\n",
      "Using 20 features: ['TCW', 'TCLW', 'R250', 'R500', 'R850', 'U850', 'V850', 'EWSS', 'KX', 'CAPE', 'SSHF', 'PEV', 'AWS_lag5', 'AWS_lag12', 'AWS_rollmean_18', 'AWS_rollstd_18', 'AWS_rollmean_18', 'AWS_rollstd_18', 'AWS_rollmean_3', 'AWS_rollstd_3']\n",
      "✅ Data shapes - Train: torch.Size([14556, 27, 20]), Val: torch.Size([6851, 27, 20]), Test: torch.Size([5653, 27, 20])\n",
      "  🌀 Epoch 1/5, Total Loss: 2.2401, Binary: 0.6903, Intensity: 0.2032, Regression: 1.1279\n",
      "  🌀 Epoch 2/5, Total Loss: 1.8654, Binary: 0.5879, Intensity: 0.1248, Regression: 0.9992\n",
      "  🌀 Epoch 3/5, Total Loss: 1.5566, Binary: 0.3849, Intensity: 0.1084, Regression: 0.9248\n",
      "  🌀 Epoch 4/5, Total Loss: 1.5143, Binary: 0.3547, Intensity: 0.1065, Regression: 0.9163\n",
      "  🌀 Epoch 5/5, Total Loss: 1.4841, Binary: 0.3474, Intensity: 0.1051, Regression: 0.8971\n",
      "Creating lag features for train set with lags: [5, 12]\n",
      "Creating lag features for val set with lags: [5, 12]\n",
      "Creating lag features for test set with lags: [5, 12]\n",
      "Creating rolling stats for train set with windows: [18, 18, 3]\n",
      "Creating rolling stats for val set with windows: [18, 18, 3]\n",
      "Creating rolling stats for test set with windows: [18, 18, 3]\n",
      "Using 20 features: ['TCW', 'TCLW', 'R250', 'R500', 'R850', 'U850', 'V850', 'EWSS', 'KX', 'CAPE', 'SSHF', 'PEV', 'AWS_lag5', 'AWS_lag12', 'AWS_rollmean_18', 'AWS_rollstd_18', 'AWS_rollmean_18', 'AWS_rollstd_18', 'AWS_rollmean_3', 'AWS_rollstd_3']\n",
      "✅ Data shapes - Train: torch.Size([22836, 27, 20]), Val: torch.Size([6756, 27, 20]), Test: torch.Size([5381, 27, 20])\n",
      "  🌀 Epoch 1/5, Total Loss: 2.1000, Binary: 0.6109, Intensity: 0.1661, Regression: 1.1304\n",
      "  🌀 Epoch 2/5, Total Loss: 1.6628, Binary: 0.3837, Intensity: 0.1148, Regression: 1.0149\n",
      "  🌀 Epoch 3/5, Total Loss: 1.6108, Binary: 0.3579, Intensity: 0.1101, Regression: 0.9978\n",
      "  🌀 Epoch 4/5, Total Loss: 1.5693, Binary: 0.3481, Intensity: 0.1074, Regression: 0.9724\n",
      "  🌀 Epoch 5/5, Total Loss: 1.5557, Binary: 0.3461, Intensity: 0.1065, Regression: 0.9630\n",
      "Creating lag features for train set with lags: [5, 12]\n",
      "Creating lag features for val set with lags: [5, 12]\n",
      "Creating lag features for test set with lags: [5, 12]\n",
      "Creating rolling stats for train set with windows: [18, 18, 3]\n",
      "Creating rolling stats for val set with windows: [18, 18, 3]\n",
      "Creating rolling stats for test set with windows: [18, 18, 3]\n",
      "Using 20 features: ['TCW', 'TCLW', 'R250', 'R500', 'R850', 'U850', 'V850', 'EWSS', 'KX', 'CAPE', 'SSHF', 'PEV', 'AWS_lag5', 'AWS_lag12', 'AWS_rollmean_18', 'AWS_rollstd_18', 'AWS_rollmean_18', 'AWS_rollstd_18', 'AWS_rollmean_3', 'AWS_rollstd_3']\n",
      "✅ Data shapes - Train: torch.Size([31116, 27, 20]), Val: torch.Size([6513, 27, 20]), Test: torch.Size([5189, 27, 20])\n",
      "  🌀 Epoch 1/5, Total Loss: 2.0965, Binary: 0.5538, Intensity: 0.1540, Regression: 1.1998\n",
      "  🌀 Epoch 2/5, Total Loss: 1.7656, Binary: 0.3957, Intensity: 0.1139, Regression: 1.1014\n",
      "  🌀 Epoch 3/5, Total Loss: 1.7255, Binary: 0.3789, Intensity: 0.1118, Regression: 1.0829\n",
      "  🌀 Epoch 4/5, Total Loss: 1.7046, Binary: 0.3660, Intensity: 0.1089, Regression: 1.0801\n",
      "  🌀 Epoch 5/5, Total Loss: 1.6743, Binary: 0.3566, Intensity: 0.1078, Regression: 1.0622\n",
      "Creating lag features for train set with lags: [5, 12]\n",
      "Creating lag features for val set with lags: [5, 12]\n",
      "Creating lag features for test set with lags: [5, 12]\n",
      "Creating rolling stats for train set with windows: [18, 18, 3]\n",
      "Creating rolling stats for val set with windows: [18, 18, 3]\n",
      "Creating rolling stats for test set with windows: [18, 18, 3]\n",
      "Using 20 features: ['TCW', 'TCLW', 'R250', 'R500', 'R850', 'U850', 'V850', 'EWSS', 'KX', 'CAPE', 'SSHF', 'PEV', 'AWS_lag5', 'AWS_lag12', 'AWS_rollmean_18', 'AWS_rollstd_18', 'AWS_rollmean_18', 'AWS_rollstd_18', 'AWS_rollmean_3', 'AWS_rollstd_3']\n",
      "✅ Data shapes - Train: torch.Size([39396, 27, 20]), Val: torch.Size([6323, 27, 20]), Test: torch.Size([4987, 27, 20])\n",
      "  🌀 Epoch 1/5, Total Loss: 2.4873, Binary: 0.5816, Intensity: 0.1850, Regression: 1.4896\n",
      "  🌀 Epoch 2/5, Total Loss: 2.0814, Binary: 0.4010, Intensity: 0.1384, Regression: 1.3525\n",
      "  🌀 Epoch 3/5, Total Loss: 2.0148, Binary: 0.3688, Intensity: 0.1342, Regression: 1.3268\n",
      "  🌀 Epoch 4/5, Total Loss: 1.9598, Binary: 0.3464, Intensity: 0.1313, Regression: 1.3007\n",
      "  🌀 Epoch 5/5, Total Loss: 1.9427, Binary: 0.3375, Intensity: 0.1302, Regression: 1.2948\n"
     ]
    },
    {
     "name": "stderr",
     "output_type": "stream",
     "text": [
      "[I 2025-04-23 17:01:14,017] Trial 19 finished with value: 0.4740762934088707 and parameters: {'hidden_size': 181, 'num_layers': 2, 'dropout': 0.3175300561191612, 'lr': 0.0015944568465331974, 'time_step_in': 27, 'time_step_out': 1, 'stride': 4, 'binary_weight': 0.9895412086378043, 'intensity_weight': 1.734686556426191, 'regression_weight': 1.068036453786374, 'rain_threshold': 0.1306772420254541, 'num_lags': 2, 'lag_0': 5, 'lag_1': 12, 'num_windows': 3, 'window_0': 18, 'window_1': 18, 'window_2': 3}. Best is trial 19 with value: 0.4740762934088707.\n"
     ]
    },
    {
     "name": "stdout",
     "output_type": "stream",
     "text": [
      "✅ Best parameters for 2019-10:\n",
      "  hidden_size: 181\n",
      "  num_layers: 2\n",
      "  dropout: 0.3175300561191612\n",
      "  lr: 0.0015944568465331974\n",
      "  time_step_in: 27\n",
      "  time_step_out: 1\n",
      "  stride: 4\n",
      "  binary_weight: 0.9895412086378043\n",
      "  intensity_weight: 1.734686556426191\n",
      "  regression_weight: 1.068036453786374\n",
      "  rain_threshold: 0.1306772420254541\n",
      "  num_lags: 2\n",
      "  lag_0: 5\n",
      "  lag_1: 12\n",
      "  num_windows: 3\n",
      "  window_0: 18\n",
      "  window_1: 18\n",
      "  window_2: 3\n",
      "💾 Best parameters saved to hybrid_best_params_2019-10.json\n",
      "\n",
      "📦 Final evaluation on 2019-10, fold_1 test set\n",
      "\n",
      "🚀 Training hybrid model for 2019-10, fold_1 with best parameters\n",
      "Creating lag features for train set with lags: [5, 12]\n",
      "Creating lag features for val set with lags: [5, 12]\n",
      "Creating lag features for test set with lags: [5, 12]\n",
      "Creating rolling stats for train set with windows: [18, 18, 3]\n",
      "Creating rolling stats for val set with windows: [18, 18, 3]\n",
      "Creating rolling stats for test set with windows: [18, 18, 3]\n",
      "Using 20 features: ['TCW', 'TCLW', 'R250', 'R500', 'R850', 'U850', 'V850', 'EWSS', 'KX', 'CAPE', 'SSHF', 'PEV', 'AWS_lag5', 'AWS_lag12', 'AWS_rollmean_18', 'AWS_rollstd_18', 'AWS_rollmean_18', 'AWS_rollstd_18', 'AWS_rollmean_3', 'AWS_rollstd_3']\n",
      "✅ Data shapes - Train: torch.Size([6276, 27, 20]), Val: torch.Size([6801, 27, 20]), Test: torch.Size([5816, 27, 20])\n",
      "🏋️ Training hybrid model on train set...\n",
      "  🌀 Epoch 1/15, Total Loss: 2.4295, Binary: 0.6976, Intensity: 0.2539, Regression: 1.2160\n",
      "  🌀 Epoch 2/15, Total Loss: 2.1741, Binary: 0.6970, Intensity: 0.1397, Regression: 1.1630\n",
      "  🌀 Epoch 3/15, Total Loss: 2.0550, Binary: 0.6944, Intensity: 0.1227, Regression: 1.0815\n",
      "  🌀 Epoch 4/15, Total Loss: 1.9722, Binary: 0.6950, Intensity: 0.1140, Regression: 1.0176\n",
      "  🌀 Epoch 5/15, Total Loss: 1.9701, Binary: 0.6934, Intensity: 0.1139, Regression: 1.0171\n",
      "  🌀 Epoch 6/15, Total Loss: 1.9180, Binary: 0.6926, Intensity: 0.1106, Regression: 0.9744\n",
      "  🌀 Epoch 7/15, Total Loss: 1.9235, Binary: 0.6928, Intensity: 0.1125, Regression: 0.9764\n"
     ]
    },
    {
     "name": "stderr",
     "output_type": "stream",
     "text": [
      "[I 2025-04-23 17:01:24,433] A new study created in memory with name: hybrid_2020-04_study\n"
     ]
    },
    {
     "name": "stdout",
     "output_type": "stream",
     "text": [
      "❌ Error during optimization for 2019-10: Expected input batch_size (1) to match target batch_size (0).\n",
      "\n",
      "📅 Processing month: 2020-04\n",
      "🔍 Finding optimal hyperparameters for hybrid model on 2020-04 using cross-validation...\n",
      "📥 Loading /kaggle/input/ai-dataimputedataset-k-fold/2020-04/fold_1/processed_train.csv\n",
      "📥 Loading /kaggle/input/ai-dataimputedataset-k-fold/2020-04/fold_1/processed_val.csv\n",
      "📥 Loading /kaggle/input/ai-dataimputedataset-k-fold/2020-04/fold_1/merged_test.csv\n",
      "Creating lag features for train set with lags: [3, 7, 6]\n",
      "Creating lag features for val set with lags: [3, 7, 6]\n",
      "Creating lag features for test set with lags: [3, 7, 6]\n",
      "Creating rolling stats for train set with windows: [23, 14, 4]\n",
      "Creating rolling stats for val set with windows: [23, 14, 4]\n",
      "Creating rolling stats for test set with windows: [23, 14, 4]\n",
      "Using 21 features: ['TCW', 'TCLW', 'R250', 'R500', 'R850', 'U850', 'V850', 'EWSS', 'KX', 'CAPE', 'SSHF', 'PEV', 'AWS_lag3', 'AWS_lag7', 'AWS_lag6', 'AWS_rollmean_23', 'AWS_rollstd_23', 'AWS_rollmean_14', 'AWS_rollstd_14', 'AWS_rollmean_4', 'AWS_rollstd_4']\n",
      "✅ Data shapes - Train: torch.Size([7014, 34, 21]), Val: torch.Size([7014, 34, 21]), Test: torch.Size([6397, 34, 21])\n"
     ]
    },
    {
     "name": "stderr",
     "output_type": "stream",
     "text": [
      "/usr/local/lib/python3.10/dist-packages/torch/nn/modules/rnn.py:123: UserWarning: dropout option adds dropout after all but last recurrent layer, so non-zero dropout expects num_layers greater than 1, but got dropout=0.17590305327853012 and num_layers=1\n",
      "  warnings.warn(\n"
     ]
    },
    {
     "name": "stdout",
     "output_type": "stream",
     "text": [
      "  🌀 Epoch 1/5, Total Loss: 2.9290, Binary: 0.6900, Intensity: 0.4935, Regression: 0.8386\n",
      "  🌀 Epoch 2/5, Total Loss: 2.4600, Binary: 0.6876, Intensity: 0.0751, Regression: 0.8215\n",
      "  🌀 Epoch 3/5, Total Loss: 2.4135, Binary: 0.6855, Intensity: 0.0719, Regression: 0.7981\n",
      "  🌀 Epoch 4/5, Total Loss: 2.3856, Binary: 0.6720, Intensity: 0.0724, Regression: 0.7927\n",
      "  🌀 Epoch 5/5, Total Loss: 2.4185, Binary: 0.6638, Intensity: 0.0740, Regression: 0.8177\n",
      "📥 Loading /kaggle/input/ai-dataimputedataset-k-fold/2020-04/fold_2/processed_train.csv\n",
      "📥 Loading /kaggle/input/ai-dataimputedataset-k-fold/2020-04/fold_2/processed_val.csv\n",
      "📥 Loading /kaggle/input/ai-dataimputedataset-k-fold/2020-04/fold_2/merged_test.csv\n",
      "Creating lag features for train set with lags: [3, 7, 6]\n",
      "Creating lag features for val set with lags: [3, 7, 6]\n",
      "Creating lag features for test set with lags: [3, 7, 6]\n",
      "Creating rolling stats for train set with windows: [23, 14, 4]\n",
      "Creating rolling stats for val set with windows: [23, 14, 4]\n",
      "Creating rolling stats for test set with windows: [23, 14, 4]\n",
      "Using 21 features: ['TCW', 'TCLW', 'R250', 'R500', 'R850', 'U850', 'V850', 'EWSS', 'KX', 'CAPE', 'SSHF', 'PEV', 'AWS_lag3', 'AWS_lag7', 'AWS_lag6', 'AWS_rollmean_23', 'AWS_rollstd_23', 'AWS_rollmean_14', 'AWS_rollstd_14', 'AWS_rollmean_4', 'AWS_rollstd_4']\n",
      "✅ Data shapes - Train: torch.Size([17702, 34, 21]), Val: torch.Size([7014, 34, 21]), Test: torch.Size([6397, 34, 21])\n"
     ]
    },
    {
     "name": "stderr",
     "output_type": "stream",
     "text": [
      "/usr/local/lib/python3.10/dist-packages/torch/nn/modules/rnn.py:123: UserWarning: dropout option adds dropout after all but last recurrent layer, so non-zero dropout expects num_layers greater than 1, but got dropout=0.17590305327853012 and num_layers=1\n",
      "  warnings.warn(\n"
     ]
    },
    {
     "name": "stdout",
     "output_type": "stream",
     "text": [
      "  🌀 Epoch 1/5, Total Loss: 2.8497, Binary: 0.6849, Intensity: 0.3385, Regression: 0.8910\n",
      "  🌀 Epoch 2/5, Total Loss: 2.5330, Binary: 0.6797, Intensity: 0.1255, Regression: 0.8401\n",
      "  🌀 Epoch 3/5, Total Loss: 2.4782, Binary: 0.6742, Intensity: 0.1234, Regression: 0.8138\n",
      "  🌀 Epoch 4/5, Total Loss: 2.3306, Binary: 0.6506, Intensity: 0.1151, Regression: 0.7523\n",
      "  🌀 Epoch 5/5, Total Loss: 2.2903, Binary: 0.6179, Intensity: 0.1091, Regression: 0.7594\n",
      "📥 Loading /kaggle/input/ai-dataimputedataset-k-fold/2020-04/fold_3/processed_train.csv\n",
      "📥 Loading /kaggle/input/ai-dataimputedataset-k-fold/2020-04/fold_3/processed_val.csv\n",
      "📥 Loading /kaggle/input/ai-dataimputedataset-k-fold/2020-04/fold_3/merged_test.csv\n",
      "Creating lag features for train set with lags: [3, 7, 6]\n",
      "Creating lag features for val set with lags: [3, 7, 6]\n",
      "Creating lag features for test set with lags: [3, 7, 6]\n",
      "Creating rolling stats for train set with windows: [23, 14, 4]\n",
      "Creating rolling stats for val set with windows: [23, 14, 4]\n",
      "Creating rolling stats for test set with windows: [23, 14, 4]\n",
      "Using 21 features: ['TCW', 'TCLW', 'R250', 'R500', 'R850', 'U850', 'V850', 'EWSS', 'KX', 'CAPE', 'SSHF', 'PEV', 'AWS_lag3', 'AWS_lag7', 'AWS_lag6', 'AWS_rollmean_23', 'AWS_rollstd_23', 'AWS_rollmean_14', 'AWS_rollstd_14', 'AWS_rollmean_4', 'AWS_rollstd_4']\n",
      "✅ Data shapes - Train: torch.Size([28390, 34, 21]), Val: torch.Size([7014, 34, 21]), Test: torch.Size([6397, 34, 21])\n"
     ]
    },
    {
     "name": "stderr",
     "output_type": "stream",
     "text": [
      "/usr/local/lib/python3.10/dist-packages/torch/nn/modules/rnn.py:123: UserWarning: dropout option adds dropout after all but last recurrent layer, so non-zero dropout expects num_layers greater than 1, but got dropout=0.17590305327853012 and num_layers=1\n",
      "  warnings.warn(\n"
     ]
    },
    {
     "name": "stdout",
     "output_type": "stream",
     "text": [
      "  🌀 Epoch 1/5, Total Loss: 2.5578, Binary: 0.6931, Intensity: 0.2308, Regression: 0.7792\n",
      "  🌀 Epoch 2/5, Total Loss: 2.2800, Binary: 0.6876, Intensity: 0.1067, Regression: 0.6972\n",
      "  🌀 Epoch 3/5, Total Loss: 2.1722, Binary: 0.6510, Intensity: 0.0990, Regression: 0.6692\n",
      "  🌀 Epoch 4/5, Total Loss: 2.0033, Binary: 0.5638, Intensity: 0.0927, Regression: 0.6467\n",
      "  🌀 Epoch 5/5, Total Loss: 1.9025, Binary: 0.5086, Intensity: 0.0878, Regression: 0.6365\n",
      "📥 Loading /kaggle/input/ai-dataimputedataset-k-fold/2020-04/fold_4/processed_train.csv\n",
      "📥 Loading /kaggle/input/ai-dataimputedataset-k-fold/2020-04/fold_4/processed_val.csv\n",
      "📥 Loading /kaggle/input/ai-dataimputedataset-k-fold/2020-04/fold_4/merged_test.csv\n",
      "Creating lag features for train set with lags: [3, 7, 6]\n",
      "Creating lag features for val set with lags: [3, 7, 6]\n",
      "Creating lag features for test set with lags: [3, 7, 6]\n",
      "Creating rolling stats for train set with windows: [23, 14, 4]\n",
      "Creating rolling stats for val set with windows: [23, 14, 4]\n",
      "Creating rolling stats for test set with windows: [23, 14, 4]\n",
      "Using 21 features: ['TCW', 'TCLW', 'R250', 'R500', 'R850', 'U850', 'V850', 'EWSS', 'KX', 'CAPE', 'SSHF', 'PEV', 'AWS_lag3', 'AWS_lag7', 'AWS_lag6', 'AWS_rollmean_23', 'AWS_rollstd_23', 'AWS_rollmean_14', 'AWS_rollstd_14', 'AWS_rollmean_4', 'AWS_rollstd_4']\n",
      "✅ Data shapes - Train: torch.Size([39078, 34, 21]), Val: torch.Size([7014, 34, 21]), Test: torch.Size([6397, 34, 21])\n"
     ]
    },
    {
     "name": "stderr",
     "output_type": "stream",
     "text": [
      "/usr/local/lib/python3.10/dist-packages/torch/nn/modules/rnn.py:123: UserWarning: dropout option adds dropout after all but last recurrent layer, so non-zero dropout expects num_layers greater than 1, but got dropout=0.17590305327853012 and num_layers=1\n",
      "  warnings.warn(\n"
     ]
    },
    {
     "name": "stdout",
     "output_type": "stream",
     "text": [
      "  🌀 Epoch 1/5, Total Loss: 4.9050, Binary: 0.4341, Intensity: 0.4545, Regression: 2.2283\n",
      "Error in fold fold_4: Expected input batch_size (1) to match target batch_size (0).\n",
      "📥 Loading /kaggle/input/ai-dataimputedataset-k-fold/2020-04/fold_5/processed_train.csv\n",
      "📥 Loading /kaggle/input/ai-dataimputedataset-k-fold/2020-04/fold_5/processed_val.csv\n",
      "📥 Loading /kaggle/input/ai-dataimputedataset-k-fold/2020-04/fold_5/merged_test.csv\n",
      "Creating lag features for train set with lags: [3, 7, 6]\n",
      "Creating lag features for val set with lags: [3, 7, 6]\n",
      "Creating lag features for test set with lags: [3, 7, 6]\n",
      "Creating rolling stats for train set with windows: [23, 14, 4]\n",
      "Creating rolling stats for val set with windows: [23, 14, 4]\n",
      "Creating rolling stats for test set with windows: [23, 14, 4]\n",
      "Using 21 features: ['TCW', 'TCLW', 'R250', 'R500', 'R850', 'U850', 'V850', 'EWSS', 'KX', 'CAPE', 'SSHF', 'PEV', 'AWS_lag3', 'AWS_lag7', 'AWS_lag6', 'AWS_rollmean_23', 'AWS_rollstd_23', 'AWS_rollmean_14', 'AWS_rollstd_14', 'AWS_rollmean_4', 'AWS_rollstd_4']\n",
      "✅ Data shapes - Train: torch.Size([49766, 34, 21]), Val: torch.Size([7014, 34, 21]), Test: torch.Size([6397, 34, 21])\n"
     ]
    },
    {
     "name": "stderr",
     "output_type": "stream",
     "text": [
      "/usr/local/lib/python3.10/dist-packages/torch/nn/modules/rnn.py:123: UserWarning: dropout option adds dropout after all but last recurrent layer, so non-zero dropout expects num_layers greater than 1, but got dropout=0.17590305327853012 and num_layers=1\n",
      "  warnings.warn(\n"
     ]
    },
    {
     "name": "stdout",
     "output_type": "stream",
     "text": [
      "  🌀 Epoch 1/5, Total Loss: 3.2848, Binary: 0.4856, Intensity: 0.2491, Regression: 1.3646\n",
      "  🌀 Epoch 2/5, Total Loss: 3.0158, Binary: 0.4096, Intensity: 0.1774, Regression: 1.3141\n",
      "  🌀 Epoch 3/5, Total Loss: 2.6910, Binary: 0.3533, Intensity: 0.1613, Regression: 1.1808\n",
      "  🌀 Epoch 4/5, Total Loss: 2.6049, Binary: 0.3286, Intensity: 0.1558, Regression: 1.1544\n",
      "  🌀 Epoch 5/5, Total Loss: 2.6215, Binary: 0.3114, Intensity: 0.1541, Regression: 1.1793\n"
     ]
    },
    {
     "name": "stderr",
     "output_type": "stream",
     "text": [
      "[I 2025-04-23 17:03:05,984] Trial 0 finished with value: 0.6460549216717482 and parameters: {'hidden_size': 256, 'num_layers': 1, 'dropout': 0.17590305327853012, 'lr': 0.00010944756374594231, 'time_step_in': 34, 'time_step_out': 1, 'stride': 3, 'binary_weight': 1.417938015381495, 'intensity_weight': 1.043067130228469, 'regression_weight': 1.7121937758950787, 'rain_threshold': 0.05769365568861891, 'num_lags': 3, 'lag_0': 3, 'lag_1': 7, 'lag_2': 6, 'num_windows': 3, 'window_0': 23, 'window_1': 14, 'window_2': 4}. Best is trial 0 with value: 0.6460549216717482.\n"
     ]
    },
    {
     "name": "stdout",
     "output_type": "stream",
     "text": [
      "Creating lag features for train set with lags: [2, 3, 4]\n",
      "Creating lag features for val set with lags: [2, 3, 4]\n",
      "Creating lag features for test set with lags: [2, 3, 4]\n",
      "Creating rolling stats for train set with windows: [15, 15]\n",
      "Creating rolling stats for val set with windows: [15, 15]\n",
      "Creating rolling stats for test set with windows: [15, 15]\n",
      "Using 19 features: ['TCW', 'TCLW', 'R250', 'R500', 'R850', 'U850', 'V850', 'EWSS', 'KX', 'CAPE', 'SSHF', 'PEV', 'AWS_lag2', 'AWS_lag3', 'AWS_lag4', 'AWS_rollmean_15', 'AWS_rollstd_15', 'AWS_rollmean_15', 'AWS_rollstd_15']\n",
      "✅ Data shapes - Train: torch.Size([7348, 27, 19]), Val: torch.Size([7348, 27, 19]), Test: torch.Size([6657, 27, 19])\n",
      "Error in fold fold_1: Target size (torch.Size([64, 5])) must be the same as input size (torch.Size([64, 1]))\n",
      "Creating lag features for train set with lags: [2, 3, 4]\n",
      "Creating lag features for val set with lags: [2, 3, 4]\n",
      "Creating lag features for test set with lags: [2, 3, 4]\n"
     ]
    },
    {
     "name": "stderr",
     "output_type": "stream",
     "text": [
      "/usr/local/lib/python3.10/dist-packages/torch/nn/modules/rnn.py:123: UserWarning: dropout option adds dropout after all but last recurrent layer, so non-zero dropout expects num_layers greater than 1, but got dropout=0.025922024645077257 and num_layers=1\n",
      "  warnings.warn(\n"
     ]
    },
    {
     "name": "stdout",
     "output_type": "stream",
     "text": [
      "Creating rolling stats for train set with windows: [15, 15]\n",
      "Creating rolling stats for val set with windows: [15, 15]\n",
      "Creating rolling stats for test set with windows: [15, 15]\n",
      "Using 19 features: ['TCW', 'TCLW', 'R250', 'R500', 'R850', 'U850', 'V850', 'EWSS', 'KX', 'CAPE', 'SSHF', 'PEV', 'AWS_lag2', 'AWS_lag3', 'AWS_lag4', 'AWS_rollmean_15', 'AWS_rollstd_15', 'AWS_rollmean_15', 'AWS_rollstd_15']\n",
      "✅ Data shapes - Train: torch.Size([18036, 27, 19]), Val: torch.Size([7348, 27, 19]), Test: torch.Size([6657, 27, 19])\n",
      "Error in fold fold_2: Target size (torch.Size([64, 5])) must be the same as input size (torch.Size([64, 1]))\n",
      "Creating lag features for train set with lags: [2, 3, 4]\n",
      "Creating lag features for val set with lags: [2, 3, 4]\n"
     ]
    },
    {
     "name": "stderr",
     "output_type": "stream",
     "text": [
      "/usr/local/lib/python3.10/dist-packages/torch/nn/modules/rnn.py:123: UserWarning: dropout option adds dropout after all but last recurrent layer, so non-zero dropout expects num_layers greater than 1, but got dropout=0.025922024645077257 and num_layers=1\n",
      "  warnings.warn(\n"
     ]
    },
    {
     "name": "stdout",
     "output_type": "stream",
     "text": [
      "Creating lag features for test set with lags: [2, 3, 4]\n",
      "Creating rolling stats for train set with windows: [15, 15]\n",
      "Creating rolling stats for val set with windows: [15, 15]\n",
      "Creating rolling stats for test set with windows: [15, 15]\n",
      "Using 19 features: ['TCW', 'TCLW', 'R250', 'R500', 'R850', 'U850', 'V850', 'EWSS', 'KX', 'CAPE', 'SSHF', 'PEV', 'AWS_lag2', 'AWS_lag3', 'AWS_lag4', 'AWS_rollmean_15', 'AWS_rollstd_15', 'AWS_rollmean_15', 'AWS_rollstd_15']\n",
      "✅ Data shapes - Train: torch.Size([28724, 27, 19]), Val: torch.Size([7348, 27, 19]), Test: torch.Size([6657, 27, 19])\n",
      "Error in fold fold_3: Target size (torch.Size([64, 5])) must be the same as input size (torch.Size([64, 1]))\n",
      "Creating lag features for train set with lags: [2, 3, 4]\n",
      "Creating lag features for val set with lags: [2, 3, 4]\n"
     ]
    },
    {
     "name": "stderr",
     "output_type": "stream",
     "text": [
      "/usr/local/lib/python3.10/dist-packages/torch/nn/modules/rnn.py:123: UserWarning: dropout option adds dropout after all but last recurrent layer, so non-zero dropout expects num_layers greater than 1, but got dropout=0.025922024645077257 and num_layers=1\n",
      "  warnings.warn(\n"
     ]
    },
    {
     "name": "stdout",
     "output_type": "stream",
     "text": [
      "Creating lag features for test set with lags: [2, 3, 4]\n",
      "Creating rolling stats for train set with windows: [15, 15]\n",
      "Creating rolling stats for val set with windows: [15, 15]\n",
      "Creating rolling stats for test set with windows: [15, 15]\n",
      "Using 19 features: ['TCW', 'TCLW', 'R250', 'R500', 'R850', 'U850', 'V850', 'EWSS', 'KX', 'CAPE', 'SSHF', 'PEV', 'AWS_lag2', 'AWS_lag3', 'AWS_lag4', 'AWS_rollmean_15', 'AWS_rollstd_15', 'AWS_rollmean_15', 'AWS_rollstd_15']\n",
      "✅ Data shapes - Train: torch.Size([39412, 27, 19]), Val: torch.Size([7348, 27, 19]), Test: torch.Size([6657, 27, 19])\n",
      "Error in fold fold_4: Target size (torch.Size([64, 5])) must be the same as input size (torch.Size([64, 1]))\n",
      "Creating lag features for train set with lags: [2, 3, 4]\n",
      "Creating lag features for val set with lags: [2, 3, 4]\n"
     ]
    },
    {
     "name": "stderr",
     "output_type": "stream",
     "text": [
      "/usr/local/lib/python3.10/dist-packages/torch/nn/modules/rnn.py:123: UserWarning: dropout option adds dropout after all but last recurrent layer, so non-zero dropout expects num_layers greater than 1, but got dropout=0.025922024645077257 and num_layers=1\n",
      "  warnings.warn(\n"
     ]
    },
    {
     "name": "stdout",
     "output_type": "stream",
     "text": [
      "Creating lag features for test set with lags: [2, 3, 4]\n",
      "Creating rolling stats for train set with windows: [15, 15]\n",
      "Creating rolling stats for val set with windows: [15, 15]\n",
      "Creating rolling stats for test set with windows: [15, 15]\n",
      "Using 19 features: ['TCW', 'TCLW', 'R250', 'R500', 'R850', 'U850', 'V850', 'EWSS', 'KX', 'CAPE', 'SSHF', 'PEV', 'AWS_lag2', 'AWS_lag3', 'AWS_lag4', 'AWS_rollmean_15', 'AWS_rollstd_15', 'AWS_rollmean_15', 'AWS_rollstd_15']\n"
     ]
    },
    {
     "name": "stderr",
     "output_type": "stream",
     "text": [
      "/usr/local/lib/python3.10/dist-packages/torch/nn/modules/rnn.py:123: UserWarning: dropout option adds dropout after all but last recurrent layer, so non-zero dropout expects num_layers greater than 1, but got dropout=0.025922024645077257 and num_layers=1\n",
      "  warnings.warn(\n",
      "[I 2025-04-23 17:03:38,089] Trial 1 finished with value: inf and parameters: {'hidden_size': 199, 'num_layers': 1, 'dropout': 0.025922024645077257, 'lr': 0.009238113128364438, 'time_step_in': 27, 'time_step_out': 5, 'stride': 3, 'binary_weight': 0.6094593714158767, 'intensity_weight': 1.5042005357646082, 'regression_weight': 1.7510970416274112, 'rain_threshold': 0.12489942991379152, 'num_lags': 3, 'lag_0': 2, 'lag_1': 3, 'lag_2': 4, 'num_windows': 2, 'window_0': 15, 'window_1': 15}. Best is trial 0 with value: 0.6460549216717482.\n"
     ]
    },
    {
     "name": "stdout",
     "output_type": "stream",
     "text": [
      "✅ Data shapes - Train: torch.Size([50100, 27, 19]), Val: torch.Size([7348, 27, 19]), Test: torch.Size([6657, 27, 19])\n",
      "Error in fold fold_5: Target size (torch.Size([64, 5])) must be the same as input size (torch.Size([64, 1]))\n",
      "Creating lag features for train set with lags: [12, 4, 3]\n",
      "Creating lag features for val set with lags: [12, 4, 3]\n",
      "Creating lag features for test set with lags: [12, 4, 3]\n",
      "Creating rolling stats for train set with windows: [17, 12]\n",
      "Creating rolling stats for val set with windows: [17, 12]\n",
      "Creating rolling stats for test set with windows: [17, 12]\n",
      "Using 19 features: ['TCW', 'TCLW', 'R250', 'R500', 'R850', 'U850', 'V850', 'EWSS', 'KX', 'CAPE', 'SSHF', 'PEV', 'AWS_lag12', 'AWS_lag4', 'AWS_lag3', 'AWS_rollmean_17', 'AWS_rollstd_17', 'AWS_rollmean_12', 'AWS_rollstd_12']\n",
      "✅ Data shapes - Train: torch.Size([5344, 35, 19]), Val: torch.Size([5344, 35, 19]), Test: torch.Size([4780, 35, 19])\n",
      "  🌀 Epoch 1/5, Total Loss: 1.8524, Binary: 0.6933, Intensity: 0.6905, Regression: 0.3076\n",
      "  🌀 Epoch 2/5, Total Loss: 1.3033, Binary: 0.6925, Intensity: 0.0735, Regression: 0.2985\n",
      "  🌀 Epoch 3/5, Total Loss: 1.2925, Binary: 0.6923, Intensity: 0.0460, Regression: 0.3068\n",
      "  🌀 Epoch 4/5, Total Loss: 1.2961, Binary: 0.6921, Intensity: 0.0439, Regression: 0.3103\n",
      "  🌀 Epoch 5/5, Total Loss: 1.2795, Binary: 0.6925, Intensity: 0.0444, Regression: 0.2994\n",
      "Creating lag features for train set with lags: [12, 4, 3]\n",
      "Creating lag features for val set with lags: [12, 4, 3]\n",
      "Creating lag features for test set with lags: [12, 4, 3]\n",
      "Creating rolling stats for train set with windows: [17, 12]\n",
      "Creating rolling stats for val set with windows: [17, 12]\n",
      "Creating rolling stats for test set with windows: [17, 12]\n",
      "Using 19 features: ['TCW', 'TCLW', 'R250', 'R500', 'R850', 'U850', 'V850', 'EWSS', 'KX', 'CAPE', 'SSHF', 'PEV', 'AWS_lag12', 'AWS_lag4', 'AWS_lag3', 'AWS_rollmean_17', 'AWS_rollstd_17', 'AWS_rollmean_12', 'AWS_rollstd_12']\n",
      "✅ Data shapes - Train: torch.Size([13360, 35, 19]), Val: torch.Size([5344, 35, 19]), Test: torch.Size([4780, 35, 19])\n",
      "  🌀 Epoch 1/5, Total Loss: 2.4865, Binary: 0.6076, Intensity: 0.3524, Regression: 0.9466\n",
      "  🌀 Epoch 2/5, Total Loss: 2.1932, Binary: 0.5529, Intensity: 0.1303, Regression: 0.9211\n",
      "  🌀 Epoch 3/5, Total Loss: 2.1026, Binary: 0.5530, Intensity: 0.1277, Regression: 0.8657\n",
      "  🌀 Epoch 4/5, Total Loss: 2.0883, Binary: 0.5531, Intensity: 0.1294, Regression: 0.8558\n",
      "  🌀 Epoch 5/5, Total Loss: 2.2776, Binary: 0.5525, Intensity: 0.1326, Regression: 0.9729\n",
      "Creating lag features for train set with lags: [12, 4, 3]\n",
      "Creating lag features for val set with lags: [12, 4, 3]\n",
      "Creating lag features for test set with lags: [12, 4, 3]\n",
      "Creating rolling stats for train set with windows: [17, 12]\n",
      "Creating rolling stats for val set with windows: [17, 12]\n",
      "Creating rolling stats for test set with windows: [17, 12]\n",
      "Using 19 features: ['TCW', 'TCLW', 'R250', 'R500', 'R850', 'U850', 'V850', 'EWSS', 'KX', 'CAPE', 'SSHF', 'PEV', 'AWS_lag12', 'AWS_lag4', 'AWS_lag3', 'AWS_rollmean_17', 'AWS_rollstd_17', 'AWS_rollmean_12', 'AWS_rollstd_12']\n",
      "✅ Data shapes - Train: torch.Size([21376, 35, 19]), Val: torch.Size([5344, 35, 19]), Test: torch.Size([4780, 35, 19])\n",
      "Error in fold fold_3: Expected input batch_size (1) to match target batch_size (0).\n",
      "Creating lag features for train set with lags: [12, 4, 3]\n",
      "Creating lag features for val set with lags: [12, 4, 3]\n",
      "Creating lag features for test set with lags: [12, 4, 3]\n",
      "Creating rolling stats for train set with windows: [17, 12]\n",
      "Creating rolling stats for val set with windows: [17, 12]\n",
      "Creating rolling stats for test set with windows: [17, 12]\n",
      "Using 19 features: ['TCW', 'TCLW', 'R250', 'R500', 'R850', 'U850', 'V850', 'EWSS', 'KX', 'CAPE', 'SSHF', 'PEV', 'AWS_lag12', 'AWS_lag4', 'AWS_lag3', 'AWS_rollmean_17', 'AWS_rollstd_17', 'AWS_rollmean_12', 'AWS_rollstd_12']\n",
      "✅ Data shapes - Train: torch.Size([29392, 35, 19]), Val: torch.Size([5344, 35, 19]), Test: torch.Size([4780, 35, 19])\n",
      "Error in fold fold_4: Expected input batch_size (1) to match target batch_size (0).\n",
      "Creating lag features for train set with lags: [12, 4, 3]\n",
      "Creating lag features for val set with lags: [12, 4, 3]\n",
      "Creating lag features for test set with lags: [12, 4, 3]\n",
      "Creating rolling stats for train set with windows: [17, 12]\n",
      "Creating rolling stats for val set with windows: [17, 12]\n",
      "Creating rolling stats for test set with windows: [17, 12]\n",
      "Using 19 features: ['TCW', 'TCLW', 'R250', 'R500', 'R850', 'U850', 'V850', 'EWSS', 'KX', 'CAPE', 'SSHF', 'PEV', 'AWS_lag12', 'AWS_lag4', 'AWS_lag3', 'AWS_rollmean_17', 'AWS_rollstd_17', 'AWS_rollmean_12', 'AWS_rollstd_12']\n",
      "✅ Data shapes - Train: torch.Size([37408, 35, 19]), Val: torch.Size([5344, 35, 19]), Test: torch.Size([4780, 35, 19])\n"
     ]
    },
    {
     "name": "stderr",
     "output_type": "stream",
     "text": [
      "[I 2025-04-23 17:04:17,761] Trial 2 finished with value: 0.7087897956371307 and parameters: {'hidden_size': 77, 'num_layers': 2, 'dropout': 0.33107606618477403, 'lr': 0.00031526182291940347, 'time_step_in': 35, 'time_step_out': 1, 'stride': 4, 'binary_weight': 1.1016037205554068, 'intensity_weight': 0.8650732579442196, 'regression_weight': 1.597556404723432, 'rain_threshold': 0.172519943259841, 'num_lags': 3, 'lag_0': 12, 'lag_1': 4, 'lag_2': 3, 'num_windows': 2, 'window_0': 17, 'window_1': 12}. Best is trial 0 with value: 0.6460549216717482.\n"
     ]
    },
    {
     "name": "stdout",
     "output_type": "stream",
     "text": [
      "Error in fold fold_5: Expected input batch_size (1) to match target batch_size (0).\n",
      "Creating lag features for train set with lags: [12]\n",
      "Creating lag features for val set with lags: [12]\n",
      "Creating lag features for test set with lags: [12]\n",
      "Creating rolling stats for train set with windows: [21, 15, 23]\n",
      "Creating rolling stats for val set with windows: [21, 15, 23]\n",
      "Creating rolling stats for test set with windows: [21, 15, 23]\n",
      "Using 19 features: ['TCW', 'TCLW', 'R250', 'R500', 'R850', 'U850', 'V850', 'EWSS', 'KX', 'CAPE', 'SSHF', 'PEV', 'AWS_lag12', 'AWS_rollmean_21', 'AWS_rollstd_21', 'AWS_rollmean_15', 'AWS_rollstd_15', 'AWS_rollmean_23', 'AWS_rollstd_23']\n",
      "✅ Data shapes - Train: torch.Size([5010, 48, 19]), Val: torch.Size([5010, 48, 19]), Test: torch.Size([4774, 48, 19])\n",
      "Error in fold fold_1: Target size (torch.Size([64, 6])) must be the same as input size (torch.Size([64, 1]))\n",
      "Creating lag features for train set with lags: [12]\n",
      "Creating lag features for val set with lags: [12]\n",
      "Creating lag features for test set with lags: [12]\n",
      "Creating rolling stats for train set with windows: [21, 15, 23]\n",
      "Creating rolling stats for val set with windows: [21, 15, 23]\n",
      "Creating rolling stats for test set with windows: [21, 15, 23]\n",
      "Using 19 features: ['TCW', 'TCLW', 'R250', 'R500', 'R850', 'U850', 'V850', 'EWSS', 'KX', 'CAPE', 'SSHF', 'PEV', 'AWS_lag12', 'AWS_rollmean_21', 'AWS_rollstd_21', 'AWS_rollmean_15', 'AWS_rollstd_15', 'AWS_rollmean_23', 'AWS_rollstd_23']\n",
      "✅ Data shapes - Train: torch.Size([15698, 48, 19]), Val: torch.Size([5010, 48, 19]), Test: torch.Size([4774, 48, 19])\n",
      "Error in fold fold_2: Target size (torch.Size([64, 6])) must be the same as input size (torch.Size([64, 1]))\n",
      "Creating lag features for train set with lags: [12]\n",
      "Creating lag features for val set with lags: [12]\n",
      "Creating lag features for test set with lags: [12]\n",
      "Creating rolling stats for train set with windows: [21, 15, 23]\n",
      "Creating rolling stats for val set with windows: [21, 15, 23]\n",
      "Creating rolling stats for test set with windows: [21, 15, 23]\n",
      "Using 19 features: ['TCW', 'TCLW', 'R250', 'R500', 'R850', 'U850', 'V850', 'EWSS', 'KX', 'CAPE', 'SSHF', 'PEV', 'AWS_lag12', 'AWS_rollmean_21', 'AWS_rollstd_21', 'AWS_rollmean_15', 'AWS_rollstd_15', 'AWS_rollmean_23', 'AWS_rollstd_23']\n",
      "✅ Data shapes - Train: torch.Size([26386, 48, 19]), Val: torch.Size([5010, 48, 19]), Test: torch.Size([4774, 48, 19])\n",
      "Error in fold fold_3: Target size (torch.Size([64, 6])) must be the same as input size (torch.Size([64, 1]))\n",
      "Creating lag features for train set with lags: [12]\n",
      "Creating lag features for val set with lags: [12]\n",
      "Creating lag features for test set with lags: [12]\n",
      "Creating rolling stats for train set with windows: [21, 15, 23]\n",
      "Creating rolling stats for val set with windows: [21, 15, 23]\n",
      "Creating rolling stats for test set with windows: [21, 15, 23]\n",
      "Using 19 features: ['TCW', 'TCLW', 'R250', 'R500', 'R850', 'U850', 'V850', 'EWSS', 'KX', 'CAPE', 'SSHF', 'PEV', 'AWS_lag12', 'AWS_rollmean_21', 'AWS_rollstd_21', 'AWS_rollmean_15', 'AWS_rollstd_15', 'AWS_rollmean_23', 'AWS_rollstd_23']\n",
      "✅ Data shapes - Train: torch.Size([37074, 48, 19]), Val: torch.Size([5010, 48, 19]), Test: torch.Size([4774, 48, 19])\n",
      "Error in fold fold_4: Target size (torch.Size([64, 6])) must be the same as input size (torch.Size([64, 1]))\n",
      "Creating lag features for train set with lags: [12]\n",
      "Creating lag features for val set with lags: [12]\n",
      "Creating lag features for test set with lags: [12]\n",
      "Creating rolling stats for train set with windows: [21, 15, 23]\n",
      "Creating rolling stats for val set with windows: [21, 15, 23]\n",
      "Creating rolling stats for test set with windows: [21, 15, 23]\n",
      "Using 19 features: ['TCW', 'TCLW', 'R250', 'R500', 'R850', 'U850', 'V850', 'EWSS', 'KX', 'CAPE', 'SSHF', 'PEV', 'AWS_lag12', 'AWS_rollmean_21', 'AWS_rollstd_21', 'AWS_rollmean_15', 'AWS_rollstd_15', 'AWS_rollmean_23', 'AWS_rollstd_23']\n"
     ]
    },
    {
     "name": "stderr",
     "output_type": "stream",
     "text": [
      "[I 2025-04-23 17:05:02,726] Trial 3 finished with value: inf and parameters: {'hidden_size': 124, 'num_layers': 2, 'dropout': 0.11834705717882454, 'lr': 0.0014947795205732968, 'time_step_in': 48, 'time_step_out': 6, 'stride': 3, 'binary_weight': 1.2064700822744823, 'intensity_weight': 0.6535868270574172, 'regression_weight': 1.9098446570416925, 'rain_threshold': 0.1449169010349837, 'num_lags': 1, 'lag_0': 12, 'num_windows': 3, 'window_0': 21, 'window_1': 15, 'window_2': 23}. Best is trial 0 with value: 0.6460549216717482.\n"
     ]
    },
    {
     "name": "stdout",
     "output_type": "stream",
     "text": [
      "✅ Data shapes - Train: torch.Size([47762, 48, 19]), Val: torch.Size([5010, 48, 19]), Test: torch.Size([4774, 48, 19])\n",
      "Error in fold fold_5: Target size (torch.Size([64, 6])) must be the same as input size (torch.Size([64, 1]))\n",
      "Creating lag features for train set with lags: [9, 7, 8]\n",
      "Creating lag features for val set with lags: [9, 7, 8]\n",
      "Creating lag features for test set with lags: [9, 7, 8]\n",
      "Creating rolling stats for train set with windows: [9]\n",
      "Creating rolling stats for val set with windows: [9]\n",
      "Creating rolling stats for test set with windows: [9]\n",
      "Using 17 features: ['TCW', 'TCLW', 'R250', 'R500', 'R850', 'U850', 'V850', 'EWSS', 'KX', 'CAPE', 'SSHF', 'PEV', 'AWS_lag9', 'AWS_lag7', 'AWS_lag8', 'AWS_rollmean_9', 'AWS_rollstd_9']\n",
      "✅ Data shapes - Train: torch.Size([6680, 37, 17]), Val: torch.Size([6680, 37, 17]), Test: torch.Size([6137, 37, 17])\n"
     ]
    },
    {
     "name": "stderr",
     "output_type": "stream",
     "text": [
      "/usr/local/lib/python3.10/dist-packages/torch/nn/modules/rnn.py:123: UserWarning: dropout option adds dropout after all but last recurrent layer, so non-zero dropout expects num_layers greater than 1, but got dropout=0.1461092491419692 and num_layers=1\n",
      "  warnings.warn(\n"
     ]
    },
    {
     "name": "stdout",
     "output_type": "stream",
     "text": [
      "  🌀 Epoch 1/5, Total Loss: 1.4676, Binary: 0.6829, Intensity: 0.0968, Regression: 0.8259\n",
      "  🌀 Epoch 2/5, Total Loss: 1.2545, Binary: 0.5327, Intensity: 0.0716, Regression: 0.8203\n",
      "  🌀 Epoch 3/5, Total Loss: 1.1354, Binary: 0.4496, Intensity: 0.0649, Regression: 0.7964\n",
      "  🌀 Epoch 4/5, Total Loss: 1.0742, Binary: 0.4297, Intensity: 0.0570, Regression: 0.7578\n",
      "  🌀 Epoch 5/5, Total Loss: 1.0451, Binary: 0.4150, Intensity: 0.0562, Regression: 0.7406\n",
      "Creating lag features for train set with lags: [9, 7, 8]\n",
      "Creating lag features for val set with lags: [9, 7, 8]\n",
      "Creating lag features for test set with lags: [9, 7, 8]\n",
      "Creating rolling stats for train set with windows: [9]\n",
      "Creating rolling stats for val set with windows: [9]\n",
      "Creating rolling stats for test set with windows: [9]\n",
      "Using 17 features: ['TCW', 'TCLW', 'R250', 'R500', 'R850', 'U850', 'V850', 'EWSS', 'KX', 'CAPE', 'SSHF', 'PEV', 'AWS_lag9', 'AWS_lag7', 'AWS_lag8', 'AWS_rollmean_9', 'AWS_rollstd_9']\n",
      "✅ Data shapes - Train: torch.Size([17368, 37, 17]), Val: torch.Size([6680, 37, 17]), Test: torch.Size([6137, 37, 17])\n"
     ]
    },
    {
     "name": "stderr",
     "output_type": "stream",
     "text": [
      "/usr/local/lib/python3.10/dist-packages/torch/nn/modules/rnn.py:123: UserWarning: dropout option adds dropout after all but last recurrent layer, so non-zero dropout expects num_layers greater than 1, but got dropout=0.1461092491419692 and num_layers=1\n",
      "  warnings.warn(\n"
     ]
    },
    {
     "name": "stdout",
     "output_type": "stream",
     "text": [
      "  🌀 Epoch 1/5, Total Loss: 1.8593, Binary: 0.5574, Intensity: 0.1971, Regression: 1.3585\n",
      "  🌀 Epoch 2/5, Total Loss: 1.7022, Binary: 0.4929, Intensity: 0.1688, Regression: 1.3039\n",
      "  🌀 Epoch 3/5, Total Loss: 1.5594, Binary: 0.4200, Intensity: 0.1615, Regression: 1.2285\n",
      "  🌀 Epoch 4/5, Total Loss: 1.4817, Binary: 0.3921, Intensity: 0.1516, Regression: 1.1838\n",
      "  🌀 Epoch 5/5, Total Loss: 1.4716, Binary: 0.3870, Intensity: 0.1528, Regression: 1.1738\n",
      "Creating lag features for train set with lags: [9, 7, 8]\n",
      "Creating lag features for val set with lags: [9, 7, 8]\n",
      "Creating lag features for test set with lags: [9, 7, 8]\n",
      "Creating rolling stats for train set with windows: [9]\n",
      "Creating rolling stats for val set with windows: [9]\n",
      "Creating rolling stats for test set with windows: [9]\n",
      "Using 17 features: ['TCW', 'TCLW', 'R250', 'R500', 'R850', 'U850', 'V850', 'EWSS', 'KX', 'CAPE', 'SSHF', 'PEV', 'AWS_lag9', 'AWS_lag7', 'AWS_lag8', 'AWS_rollmean_9', 'AWS_rollstd_9']\n",
      "✅ Data shapes - Train: torch.Size([28056, 37, 17]), Val: torch.Size([6680, 37, 17]), Test: torch.Size([6137, 37, 17])\n"
     ]
    },
    {
     "name": "stderr",
     "output_type": "stream",
     "text": [
      "/usr/local/lib/python3.10/dist-packages/torch/nn/modules/rnn.py:123: UserWarning: dropout option adds dropout after all but last recurrent layer, so non-zero dropout expects num_layers greater than 1, but got dropout=0.1461092491419692 and num_layers=1\n",
      "  warnings.warn(\n"
     ]
    },
    {
     "name": "stdout",
     "output_type": "stream",
     "text": [
      "Error in fold fold_3: Expected input batch_size (1) to match target batch_size (0).\n",
      "Creating lag features for train set with lags: [9, 7, 8]\n",
      "Creating lag features for val set with lags: [9, 7, 8]\n",
      "Creating lag features for test set with lags: [9, 7, 8]\n",
      "Creating rolling stats for train set with windows: [9]\n",
      "Creating rolling stats for val set with windows: [9]\n",
      "Creating rolling stats for test set with windows: [9]\n",
      "Using 17 features: ['TCW', 'TCLW', 'R250', 'R500', 'R850', 'U850', 'V850', 'EWSS', 'KX', 'CAPE', 'SSHF', 'PEV', 'AWS_lag9', 'AWS_lag7', 'AWS_lag8', 'AWS_rollmean_9', 'AWS_rollstd_9']\n",
      "✅ Data shapes - Train: torch.Size([38744, 37, 17]), Val: torch.Size([6680, 37, 17]), Test: torch.Size([6137, 37, 17])\n"
     ]
    },
    {
     "name": "stderr",
     "output_type": "stream",
     "text": [
      "/usr/local/lib/python3.10/dist-packages/torch/nn/modules/rnn.py:123: UserWarning: dropout option adds dropout after all but last recurrent layer, so non-zero dropout expects num_layers greater than 1, but got dropout=0.1461092491419692 and num_layers=1\n",
      "  warnings.warn(\n"
     ]
    },
    {
     "name": "stdout",
     "output_type": "stream",
     "text": [
      "Error in fold fold_4: Expected input batch_size (1) to match target batch_size (0).\n",
      "Creating lag features for train set with lags: [9, 7, 8]\n",
      "Creating lag features for val set with lags: [9, 7, 8]\n",
      "Creating lag features for test set with lags: [9, 7, 8]\n",
      "Creating rolling stats for train set with windows: [9]\n",
      "Creating rolling stats for val set with windows: [9]\n",
      "Creating rolling stats for test set with windows: [9]\n",
      "Using 17 features: ['TCW', 'TCLW', 'R250', 'R500', 'R850', 'U850', 'V850', 'EWSS', 'KX', 'CAPE', 'SSHF', 'PEV', 'AWS_lag9', 'AWS_lag7', 'AWS_lag8', 'AWS_rollmean_9', 'AWS_rollstd_9']\n",
      "✅ Data shapes - Train: torch.Size([49432, 37, 17]), Val: torch.Size([6680, 37, 17]), Test: torch.Size([6137, 37, 17])\n"
     ]
    },
    {
     "name": "stderr",
     "output_type": "stream",
     "text": [
      "/usr/local/lib/python3.10/dist-packages/torch/nn/modules/rnn.py:123: UserWarning: dropout option adds dropout after all but last recurrent layer, so non-zero dropout expects num_layers greater than 1, but got dropout=0.1461092491419692 and num_layers=1\n",
      "  warnings.warn(\n",
      "[I 2025-04-23 17:05:51,716] Trial 4 finished with value: 0.7480248808860779 and parameters: {'hidden_size': 144, 'num_layers': 1, 'dropout': 0.1461092491419692, 'lr': 0.008142490553161708, 'time_step_in': 37, 'time_step_out': 1, 'stride': 3, 'binary_weight': 1.0986264587590562, 'intensity_weight': 1.7657087903286044, 'regression_weight': 0.6615954663777792, 'rain_threshold': 0.1752185528328875, 'num_lags': 3, 'lag_0': 9, 'lag_1': 7, 'lag_2': 8, 'num_windows': 1, 'window_0': 9}. Best is trial 0 with value: 0.6460549216717482.\n"
     ]
    },
    {
     "name": "stdout",
     "output_type": "stream",
     "text": [
      "Error in fold fold_5: Expected input batch_size (1) to match target batch_size (0).\n",
      "Creating lag features for train set with lags: [8, 5, 8]\n",
      "Creating lag features for val set with lags: [8, 5, 8]\n",
      "Creating lag features for test set with lags: [8, 5, 8]\n",
      "Creating rolling stats for train set with windows: [5]\n",
      "Creating rolling stats for val set with windows: [5]\n",
      "Creating rolling stats for test set with windows: [5]\n",
      "Using 17 features: ['TCW', 'TCLW', 'R250', 'R500', 'R850', 'U850', 'V850', 'EWSS', 'KX', 'CAPE', 'SSHF', 'PEV', 'AWS_lag8', 'AWS_lag5', 'AWS_lag8', 'AWS_rollmean_5', 'AWS_rollstd_5']\n",
      "✅ Data shapes - Train: torch.Size([8684, 19, 17]), Val: torch.Size([8684, 19, 17]), Test: torch.Size([7698, 19, 17])\n",
      "  🌀 Epoch 1/5, Total Loss: 2.7186, Binary: 0.6955, Intensity: 0.3869, Regression: 0.7315\n",
      "  🌀 Epoch 2/5, Total Loss: 2.3660, Binary: 0.6929, Intensity: 0.0649, Regression: 0.6879\n",
      "  🌀 Epoch 3/5, Total Loss: 2.4234, Binary: 0.6929, Intensity: 0.0648, Regression: 0.7254\n",
      "  🌀 Epoch 4/5, Total Loss: 2.3922, Binary: 0.6929, Intensity: 0.0651, Regression: 0.7049\n",
      "  🛑 Early stopping at epoch 4\n",
      "Creating lag features for train set with lags: [8, 5, 8]\n",
      "Creating lag features for val set with lags: [8, 5, 8]\n",
      "Creating lag features for test set with lags: [8, 5, 8]\n",
      "Creating rolling stats for train set with windows: [5]\n",
      "Creating rolling stats for val set with windows: [5]\n",
      "Creating rolling stats for test set with windows: [5]\n",
      "Using 17 features: ['TCW', 'TCLW', 'R250', 'R500', 'R850', 'U850', 'V850', 'EWSS', 'KX', 'CAPE', 'SSHF', 'PEV', 'AWS_lag8', 'AWS_lag5', 'AWS_lag8', 'AWS_rollmean_5', 'AWS_rollstd_5']\n",
      "✅ Data shapes - Train: torch.Size([19372, 19, 17]), Val: torch.Size([8684, 19, 17]), Test: torch.Size([7698, 19, 17])\n",
      "  🌀 Epoch 1/5, Total Loss: 3.3084, Binary: 0.5558, Intensity: 0.2814, Regression: 1.3415\n",
      "  🌀 Epoch 2/5, Total Loss: 3.2343, Binary: 0.5372, Intensity: 0.1925, Regression: 1.3657\n",
      "  🌀 Epoch 3/5, Total Loss: 3.1042, Binary: 0.5305, Intensity: 0.1938, Regression: 1.2880\n",
      "  🌀 Epoch 4/5, Total Loss: 2.9827, Binary: 0.5080, Intensity: 0.1714, Regression: 1.2482\n",
      "  🌀 Epoch 5/5, Total Loss: 2.7109, Binary: 0.4517, Intensity: 0.1573, Regression: 1.1453\n",
      "Creating lag features for train set with lags: [8, 5, 8]\n",
      "Creating lag features for val set with lags: [8, 5, 8]\n",
      "Creating lag features for test set with lags: [8, 5, 8]\n",
      "Creating rolling stats for train set with windows: [5]\n",
      "Creating rolling stats for val set with windows: [5]\n",
      "Creating rolling stats for test set with windows: [5]\n",
      "Using 17 features: ['TCW', 'TCLW', 'R250', 'R500', 'R850', 'U850', 'V850', 'EWSS', 'KX', 'CAPE', 'SSHF', 'PEV', 'AWS_lag8', 'AWS_lag5', 'AWS_lag8', 'AWS_rollmean_5', 'AWS_rollstd_5']\n",
      "✅ Data shapes - Train: torch.Size([30060, 19, 17]), Val: torch.Size([8684, 19, 17]), Test: torch.Size([7698, 19, 17])\n",
      "Error in fold fold_3: Expected input batch_size (1) to match target batch_size (0).\n",
      "Creating lag features for train set with lags: [8, 5, 8]\n",
      "Creating lag features for val set with lags: [8, 5, 8]\n",
      "Creating lag features for test set with lags: [8, 5, 8]\n",
      "Creating rolling stats for train set with windows: [5]\n",
      "Creating rolling stats for val set with windows: [5]\n",
      "Creating rolling stats for test set with windows: [5]\n",
      "Using 17 features: ['TCW', 'TCLW', 'R250', 'R500', 'R850', 'U850', 'V850', 'EWSS', 'KX', 'CAPE', 'SSHF', 'PEV', 'AWS_lag8', 'AWS_lag5', 'AWS_lag8', 'AWS_rollmean_5', 'AWS_rollstd_5']\n",
      "✅ Data shapes - Train: torch.Size([40748, 19, 17]), Val: torch.Size([8684, 19, 17]), Test: torch.Size([7698, 19, 17])\n",
      "Error in fold fold_4: Expected input batch_size (1) to match target batch_size (0).\n",
      "Creating lag features for train set with lags: [8, 5, 8]\n",
      "Creating lag features for val set with lags: [8, 5, 8]\n",
      "Creating lag features for test set with lags: [8, 5, 8]\n",
      "Creating rolling stats for train set with windows: [5]\n",
      "Creating rolling stats for val set with windows: [5]\n",
      "Creating rolling stats for test set with windows: [5]\n",
      "Using 17 features: ['TCW', 'TCLW', 'R250', 'R500', 'R850', 'U850', 'V850', 'EWSS', 'KX', 'CAPE', 'SSHF', 'PEV', 'AWS_lag8', 'AWS_lag5', 'AWS_lag8', 'AWS_rollmean_5', 'AWS_rollstd_5']\n",
      "✅ Data shapes - Train: torch.Size([51436, 19, 17]), Val: torch.Size([8684, 19, 17]), Test: torch.Size([7698, 19, 17])\n"
     ]
    },
    {
     "name": "stderr",
     "output_type": "stream",
     "text": [
      "[I 2025-04-23 17:06:28,152] Trial 5 finished with value: 0.7263217270374298 and parameters: {'hidden_size': 98, 'num_layers': 3, 'dropout': 0.07397101794735156, 'lr': 0.000400892033447494, 'time_step_in': 19, 'time_step_out': 1, 'stride': 3, 'binary_weight': 1.8111739087367809, 'intensity_weight': 0.8725890736888686, 'regression_weight': 1.5327906321983469, 'rain_threshold': 0.18820212601721797, 'num_lags': 3, 'lag_0': 8, 'lag_1': 5, 'lag_2': 8, 'num_windows': 1, 'window_0': 5}. Best is trial 0 with value: 0.6460549216717482.\n"
     ]
    },
    {
     "name": "stdout",
     "output_type": "stream",
     "text": [
      "Error in fold fold_5: Expected input batch_size (1) to match target batch_size (0).\n",
      "Creating lag features for train set with lags: [9]\n",
      "Creating lag features for val set with lags: [9]\n",
      "Creating lag features for test set with lags: [9]\n",
      "Creating rolling stats for train set with windows: [21]\n",
      "Creating rolling stats for val set with windows: [21]\n",
      "Creating rolling stats for test set with windows: [21]\n",
      "Using 15 features: ['TCW', 'TCLW', 'R250', 'R500', 'R850', 'U850', 'V850', 'EWSS', 'KX', 'CAPE', 'SSHF', 'PEV', 'AWS_lag9', 'AWS_rollmean_21', 'AWS_rollstd_21']\n",
      "✅ Data shapes - Train: torch.Size([13360, 13, 15]), Val: torch.Size([13360, 13, 15]), Test: torch.Size([11891, 13, 15])\n",
      "Error in fold fold_1: Target size (torch.Size([64, 4])) must be the same as input size (torch.Size([64, 1]))\n",
      "Creating lag features for train set with lags: [9]\n",
      "Creating lag features for val set with lags: [9]\n",
      "Creating lag features for test set with lags: [9]\n"
     ]
    },
    {
     "name": "stderr",
     "output_type": "stream",
     "text": [
      "/usr/local/lib/python3.10/dist-packages/torch/nn/modules/rnn.py:123: UserWarning: dropout option adds dropout after all but last recurrent layer, so non-zero dropout expects num_layers greater than 1, but got dropout=0.1632379800971801 and num_layers=1\n",
      "  warnings.warn(\n"
     ]
    },
    {
     "name": "stdout",
     "output_type": "stream",
     "text": [
      "Creating rolling stats for train set with windows: [21]\n",
      "Creating rolling stats for val set with windows: [21]\n",
      "Creating rolling stats for test set with windows: [21]\n",
      "Using 15 features: ['TCW', 'TCLW', 'R250', 'R500', 'R850', 'U850', 'V850', 'EWSS', 'KX', 'CAPE', 'SSHF', 'PEV', 'AWS_lag9', 'AWS_rollmean_21', 'AWS_rollstd_21']\n",
      "✅ Data shapes - Train: torch.Size([29392, 13, 15]), Val: torch.Size([13360, 13, 15]), Test: torch.Size([11891, 13, 15])\n",
      "Error in fold fold_2: Target size (torch.Size([64, 4])) must be the same as input size (torch.Size([64, 1]))\n",
      "Creating lag features for train set with lags: [9]\n",
      "Creating lag features for val set with lags: [9]\n"
     ]
    },
    {
     "name": "stderr",
     "output_type": "stream",
     "text": [
      "/usr/local/lib/python3.10/dist-packages/torch/nn/modules/rnn.py:123: UserWarning: dropout option adds dropout after all but last recurrent layer, so non-zero dropout expects num_layers greater than 1, but got dropout=0.1632379800971801 and num_layers=1\n",
      "  warnings.warn(\n"
     ]
    },
    {
     "name": "stdout",
     "output_type": "stream",
     "text": [
      "Creating lag features for test set with lags: [9]\n",
      "Creating rolling stats for train set with windows: [21]\n",
      "Creating rolling stats for val set with windows: [21]\n",
      "Creating rolling stats for test set with windows: [21]\n",
      "Using 15 features: ['TCW', 'TCLW', 'R250', 'R500', 'R850', 'U850', 'V850', 'EWSS', 'KX', 'CAPE', 'SSHF', 'PEV', 'AWS_lag9', 'AWS_rollmean_21', 'AWS_rollstd_21']\n",
      "✅ Data shapes - Train: torch.Size([45424, 13, 15]), Val: torch.Size([13360, 13, 15]), Test: torch.Size([11891, 13, 15])\n",
      "Error in fold fold_3: Target size (torch.Size([64, 4])) must be the same as input size (torch.Size([64, 1]))\n",
      "Creating lag features for train set with lags: [9]\n",
      "Creating lag features for val set with lags: [9]\n"
     ]
    },
    {
     "name": "stderr",
     "output_type": "stream",
     "text": [
      "/usr/local/lib/python3.10/dist-packages/torch/nn/modules/rnn.py:123: UserWarning: dropout option adds dropout after all but last recurrent layer, so non-zero dropout expects num_layers greater than 1, but got dropout=0.1632379800971801 and num_layers=1\n",
      "  warnings.warn(\n"
     ]
    },
    {
     "name": "stdout",
     "output_type": "stream",
     "text": [
      "Creating lag features for test set with lags: [9]\n",
      "Creating rolling stats for train set with windows: [21]\n",
      "Creating rolling stats for val set with windows: [21]\n",
      "Creating rolling stats for test set with windows: [21]\n",
      "Using 15 features: ['TCW', 'TCLW', 'R250', 'R500', 'R850', 'U850', 'V850', 'EWSS', 'KX', 'CAPE', 'SSHF', 'PEV', 'AWS_lag9', 'AWS_rollmean_21', 'AWS_rollstd_21']\n",
      "✅ Data shapes - Train: torch.Size([61456, 13, 15]), Val: torch.Size([13360, 13, 15]), Test: torch.Size([11891, 13, 15])\n",
      "Error in fold fold_4: Target size (torch.Size([64, 4])) must be the same as input size (torch.Size([64, 1]))\n",
      "Creating lag features for train set with lags: [9]\n",
      "Creating lag features for val set with lags: [9]\n"
     ]
    },
    {
     "name": "stderr",
     "output_type": "stream",
     "text": [
      "/usr/local/lib/python3.10/dist-packages/torch/nn/modules/rnn.py:123: UserWarning: dropout option adds dropout after all but last recurrent layer, so non-zero dropout expects num_layers greater than 1, but got dropout=0.1632379800971801 and num_layers=1\n",
      "  warnings.warn(\n"
     ]
    },
    {
     "name": "stdout",
     "output_type": "stream",
     "text": [
      "Creating lag features for test set with lags: [9]\n",
      "Creating rolling stats for train set with windows: [21]\n",
      "Creating rolling stats for val set with windows: [21]\n",
      "Creating rolling stats for test set with windows: [21]\n",
      "Using 15 features: ['TCW', 'TCLW', 'R250', 'R500', 'R850', 'U850', 'V850', 'EWSS', 'KX', 'CAPE', 'SSHF', 'PEV', 'AWS_lag9', 'AWS_rollmean_21', 'AWS_rollstd_21']\n"
     ]
    },
    {
     "name": "stderr",
     "output_type": "stream",
     "text": [
      "/usr/local/lib/python3.10/dist-packages/torch/nn/modules/rnn.py:123: UserWarning: dropout option adds dropout after all but last recurrent layer, so non-zero dropout expects num_layers greater than 1, but got dropout=0.1632379800971801 and num_layers=1\n",
      "  warnings.warn(\n",
      "[I 2025-04-23 17:06:51,348] Trial 6 finished with value: inf and parameters: {'hidden_size': 82, 'num_layers': 1, 'dropout': 0.1632379800971801, 'lr': 0.00014222707696274597, 'time_step_in': 13, 'time_step_out': 4, 'stride': 2, 'binary_weight': 1.7667545157195317, 'intensity_weight': 1.1421433426579122, 'regression_weight': 1.0972042441615364, 'rain_threshold': 0.07632950653358457, 'num_lags': 1, 'lag_0': 9, 'num_windows': 1, 'window_0': 21}. Best is trial 0 with value: 0.6460549216717482.\n"
     ]
    },
    {
     "name": "stdout",
     "output_type": "stream",
     "text": [
      "✅ Data shapes - Train: torch.Size([77488, 13, 15]), Val: torch.Size([13360, 13, 15]), Test: torch.Size([11891, 13, 15])\n",
      "Error in fold fold_5: Target size (torch.Size([64, 4])) must be the same as input size (torch.Size([64, 1]))\n",
      "Creating lag features for train set with lags: [2, 9, 7]\n",
      "Creating lag features for val set with lags: [2, 9, 7]\n",
      "Creating lag features for test set with lags: [2, 9, 7]\n",
      "Creating rolling stats for train set with windows: [5]\n",
      "Creating rolling stats for val set with windows: [5]\n",
      "Creating rolling stats for test set with windows: [5]\n",
      "Using 17 features: ['TCW', 'TCLW', 'R250', 'R500', 'R850', 'U850', 'V850', 'EWSS', 'KX', 'CAPE', 'SSHF', 'PEV', 'AWS_lag2', 'AWS_lag9', 'AWS_lag7', 'AWS_rollmean_5', 'AWS_rollstd_5']\n",
      "✅ Data shapes - Train: torch.Size([3006, 42, 17]), Val: torch.Size([3006, 42, 17]), Test: torch.Size([2727, 42, 17])\n",
      "Error in fold fold_1: Target size (torch.Size([64, 5])) must be the same as input size (torch.Size([64, 1]))\n",
      "Creating lag features for train set with lags: [2, 9, 7]\n",
      "Creating lag features for val set with lags: [2, 9, 7]\n",
      "Creating lag features for test set with lags: [2, 9, 7]\n"
     ]
    },
    {
     "name": "stderr",
     "output_type": "stream",
     "text": [
      "/usr/local/lib/python3.10/dist-packages/torch/nn/modules/rnn.py:123: UserWarning: dropout option adds dropout after all but last recurrent layer, so non-zero dropout expects num_layers greater than 1, but got dropout=0.25943584742552195 and num_layers=1\n",
      "  warnings.warn(\n"
     ]
    },
    {
     "name": "stdout",
     "output_type": "stream",
     "text": [
      "Creating rolling stats for train set with windows: [5]\n",
      "Creating rolling stats for val set with windows: [5]\n",
      "Creating rolling stats for test set with windows: [5]\n",
      "Using 17 features: ['TCW', 'TCLW', 'R250', 'R500', 'R850', 'U850', 'V850', 'EWSS', 'KX', 'CAPE', 'SSHF', 'PEV', 'AWS_lag2', 'AWS_lag9', 'AWS_lag7', 'AWS_rollmean_5', 'AWS_rollstd_5']\n",
      "✅ Data shapes - Train: torch.Size([8350, 42, 17]), Val: torch.Size([3006, 42, 17]), Test: torch.Size([2727, 42, 17])\n",
      "Error in fold fold_2: Target size (torch.Size([64, 5])) must be the same as input size (torch.Size([64, 1]))\n",
      "Creating lag features for train set with lags: [2, 9, 7]\n",
      "Creating lag features for val set with lags: [2, 9, 7]\n"
     ]
    },
    {
     "name": "stderr",
     "output_type": "stream",
     "text": [
      "/usr/local/lib/python3.10/dist-packages/torch/nn/modules/rnn.py:123: UserWarning: dropout option adds dropout after all but last recurrent layer, so non-zero dropout expects num_layers greater than 1, but got dropout=0.25943584742552195 and num_layers=1\n",
      "  warnings.warn(\n"
     ]
    },
    {
     "name": "stdout",
     "output_type": "stream",
     "text": [
      "Creating lag features for test set with lags: [2, 9, 7]\n",
      "Creating rolling stats for train set with windows: [5]\n",
      "Creating rolling stats for val set with windows: [5]\n",
      "Creating rolling stats for test set with windows: [5]\n",
      "Using 17 features: ['TCW', 'TCLW', 'R250', 'R500', 'R850', 'U850', 'V850', 'EWSS', 'KX', 'CAPE', 'SSHF', 'PEV', 'AWS_lag2', 'AWS_lag9', 'AWS_lag7', 'AWS_rollmean_5', 'AWS_rollstd_5']\n",
      "✅ Data shapes - Train: torch.Size([13694, 42, 17]), Val: torch.Size([3006, 42, 17]), Test: torch.Size([2727, 42, 17])\n",
      "Error in fold fold_3: Target size (torch.Size([64, 5])) must be the same as input size (torch.Size([64, 1]))\n",
      "Creating lag features for train set with lags: [2, 9, 7]\n",
      "Creating lag features for val set with lags: [2, 9, 7]\n"
     ]
    },
    {
     "name": "stderr",
     "output_type": "stream",
     "text": [
      "/usr/local/lib/python3.10/dist-packages/torch/nn/modules/rnn.py:123: UserWarning: dropout option adds dropout after all but last recurrent layer, so non-zero dropout expects num_layers greater than 1, but got dropout=0.25943584742552195 and num_layers=1\n",
      "  warnings.warn(\n"
     ]
    },
    {
     "name": "stdout",
     "output_type": "stream",
     "text": [
      "Creating lag features for test set with lags: [2, 9, 7]\n",
      "Creating rolling stats for train set with windows: [5]\n",
      "Creating rolling stats for val set with windows: [5]\n",
      "Creating rolling stats for test set with windows: [5]\n",
      "Using 17 features: ['TCW', 'TCLW', 'R250', 'R500', 'R850', 'U850', 'V850', 'EWSS', 'KX', 'CAPE', 'SSHF', 'PEV', 'AWS_lag2', 'AWS_lag9', 'AWS_lag7', 'AWS_rollmean_5', 'AWS_rollstd_5']\n",
      "✅ Data shapes - Train: torch.Size([19038, 42, 17]), Val: torch.Size([3006, 42, 17]), Test: torch.Size([2727, 42, 17])\n",
      "Error in fold fold_4: Target size (torch.Size([64, 5])) must be the same as input size (torch.Size([64, 1]))\n",
      "Creating lag features for train set with lags: [2, 9, 7]\n",
      "Creating lag features for val set with lags: [2, 9, 7]\n"
     ]
    },
    {
     "name": "stderr",
     "output_type": "stream",
     "text": [
      "/usr/local/lib/python3.10/dist-packages/torch/nn/modules/rnn.py:123: UserWarning: dropout option adds dropout after all but last recurrent layer, so non-zero dropout expects num_layers greater than 1, but got dropout=0.25943584742552195 and num_layers=1\n",
      "  warnings.warn(\n"
     ]
    },
    {
     "name": "stdout",
     "output_type": "stream",
     "text": [
      "Creating lag features for test set with lags: [2, 9, 7]\n",
      "Creating rolling stats for train set with windows: [5]\n",
      "Creating rolling stats for val set with windows: [5]\n",
      "Creating rolling stats for test set with windows: [5]\n",
      "Using 17 features: ['TCW', 'TCLW', 'R250', 'R500', 'R850', 'U850', 'V850', 'EWSS', 'KX', 'CAPE', 'SSHF', 'PEV', 'AWS_lag2', 'AWS_lag9', 'AWS_lag7', 'AWS_rollmean_5', 'AWS_rollstd_5']\n"
     ]
    },
    {
     "name": "stderr",
     "output_type": "stream",
     "text": [
      "/usr/local/lib/python3.10/dist-packages/torch/nn/modules/rnn.py:123: UserWarning: dropout option adds dropout after all but last recurrent layer, so non-zero dropout expects num_layers greater than 1, but got dropout=0.25943584742552195 and num_layers=1\n",
      "  warnings.warn(\n",
      "[I 2025-04-23 17:07:13,634] Trial 7 finished with value: inf and parameters: {'hidden_size': 175, 'num_layers': 1, 'dropout': 0.25943584742552195, 'lr': 0.003997060407496388, 'time_step_in': 42, 'time_step_out': 5, 'stride': 6, 'binary_weight': 1.6007462535948025, 'intensity_weight': 1.2638988332841197, 'regression_weight': 1.6102696728009986, 'rain_threshold': 0.06424215369555024, 'num_lags': 3, 'lag_0': 2, 'lag_1': 9, 'lag_2': 7, 'num_windows': 1, 'window_0': 5}. Best is trial 0 with value: 0.6460549216717482.\n"
     ]
    },
    {
     "name": "stdout",
     "output_type": "stream",
     "text": [
      "✅ Data shapes - Train: torch.Size([24382, 42, 17]), Val: torch.Size([3006, 42, 17]), Test: torch.Size([2727, 42, 17])\n",
      "Error in fold fold_5: Target size (torch.Size([64, 5])) must be the same as input size (torch.Size([64, 1]))\n",
      "Creating lag features for train set with lags: [8]\n",
      "Creating lag features for val set with lags: [8]\n",
      "Creating lag features for test set with lags: [8]\n",
      "Creating rolling stats for train set with windows: [23]\n",
      "Creating rolling stats for val set with windows: [23]\n",
      "Creating rolling stats for test set with windows: [23]\n",
      "Using 15 features: ['TCW', 'TCLW', 'R250', 'R500', 'R850', 'U850', 'V850', 'EWSS', 'KX', 'CAPE', 'SSHF', 'PEV', 'AWS_lag8', 'AWS_rollmean_23', 'AWS_rollstd_23']\n",
      "✅ Data shapes - Train: torch.Size([14362, 48, 15]), Val: torch.Size([14362, 48, 15]), Test: torch.Size([14086, 48, 15])\n",
      "Error in fold fold_1: Target size (torch.Size([64, 6])) must be the same as input size (torch.Size([64, 1]))\n",
      "Creating lag features for train set with lags: [8]\n",
      "Creating lag features for val set with lags: [8]\n",
      "Creating lag features for test set with lags: [8]\n"
     ]
    },
    {
     "name": "stderr",
     "output_type": "stream",
     "text": [
      "/usr/local/lib/python3.10/dist-packages/torch/nn/modules/rnn.py:123: UserWarning: dropout option adds dropout after all but last recurrent layer, so non-zero dropout expects num_layers greater than 1, but got dropout=0.220698445185873 and num_layers=1\n",
      "  warnings.warn(\n"
     ]
    },
    {
     "name": "stdout",
     "output_type": "stream",
     "text": [
      "Creating rolling stats for train set with windows: [23]\n",
      "Creating rolling stats for val set with windows: [23]\n",
      "Creating rolling stats for test set with windows: [23]\n",
      "Using 15 features: ['TCW', 'TCLW', 'R250', 'R500', 'R850', 'U850', 'V850', 'EWSS', 'KX', 'CAPE', 'SSHF', 'PEV', 'AWS_lag8', 'AWS_rollmean_23', 'AWS_rollstd_23']\n",
      "✅ Data shapes - Train: torch.Size([46426, 48, 15]), Val: torch.Size([14362, 48, 15]), Test: torch.Size([14086, 48, 15])\n",
      "Error in fold fold_2: Target size (torch.Size([64, 6])) must be the same as input size (torch.Size([64, 1]))\n",
      "Creating lag features for train set with lags: [8]\n",
      "Creating lag features for val set with lags: [8]\n"
     ]
    },
    {
     "name": "stderr",
     "output_type": "stream",
     "text": [
      "/usr/local/lib/python3.10/dist-packages/torch/nn/modules/rnn.py:123: UserWarning: dropout option adds dropout after all but last recurrent layer, so non-zero dropout expects num_layers greater than 1, but got dropout=0.220698445185873 and num_layers=1\n",
      "  warnings.warn(\n"
     ]
    },
    {
     "name": "stdout",
     "output_type": "stream",
     "text": [
      "Creating lag features for test set with lags: [8]\n",
      "Creating rolling stats for train set with windows: [23]\n",
      "Creating rolling stats for val set with windows: [23]\n",
      "Creating rolling stats for test set with windows: [23]\n",
      "Using 15 features: ['TCW', 'TCLW', 'R250', 'R500', 'R850', 'U850', 'V850', 'EWSS', 'KX', 'CAPE', 'SSHF', 'PEV', 'AWS_lag8', 'AWS_rollmean_23', 'AWS_rollstd_23']\n",
      "✅ Data shapes - Train: torch.Size([78490, 48, 15]), Val: torch.Size([14362, 48, 15]), Test: torch.Size([14086, 48, 15])\n",
      "Error in fold fold_3: Target size (torch.Size([64, 6])) must be the same as input size (torch.Size([64, 1]))\n",
      "Creating lag features for train set with lags: [8]\n",
      "Creating lag features for val set with lags: [8]\n"
     ]
    },
    {
     "name": "stderr",
     "output_type": "stream",
     "text": [
      "/usr/local/lib/python3.10/dist-packages/torch/nn/modules/rnn.py:123: UserWarning: dropout option adds dropout after all but last recurrent layer, so non-zero dropout expects num_layers greater than 1, but got dropout=0.220698445185873 and num_layers=1\n",
      "  warnings.warn(\n"
     ]
    },
    {
     "name": "stdout",
     "output_type": "stream",
     "text": [
      "Creating lag features for test set with lags: [8]\n",
      "Creating rolling stats for train set with windows: [23]\n",
      "Creating rolling stats for val set with windows: [23]\n",
      "Creating rolling stats for test set with windows: [23]\n",
      "Using 15 features: ['TCW', 'TCLW', 'R250', 'R500', 'R850', 'U850', 'V850', 'EWSS', 'KX', 'CAPE', 'SSHF', 'PEV', 'AWS_lag8', 'AWS_rollmean_23', 'AWS_rollstd_23']\n",
      "✅ Data shapes - Train: torch.Size([110554, 48, 15]), Val: torch.Size([14362, 48, 15]), Test: torch.Size([14086, 48, 15])\n",
      "Error in fold fold_4: Target size (torch.Size([64, 6])) must be the same as input size (torch.Size([64, 1]))\n",
      "Creating lag features for train set with lags: [8]\n",
      "Creating lag features for val set with lags: [8]\n"
     ]
    },
    {
     "name": "stderr",
     "output_type": "stream",
     "text": [
      "/usr/local/lib/python3.10/dist-packages/torch/nn/modules/rnn.py:123: UserWarning: dropout option adds dropout after all but last recurrent layer, so non-zero dropout expects num_layers greater than 1, but got dropout=0.220698445185873 and num_layers=1\n",
      "  warnings.warn(\n"
     ]
    },
    {
     "name": "stdout",
     "output_type": "stream",
     "text": [
      "Creating lag features for test set with lags: [8]\n",
      "Creating rolling stats for train set with windows: [23]\n",
      "Creating rolling stats for val set with windows: [23]\n",
      "Creating rolling stats for test set with windows: [23]\n",
      "Using 15 features: ['TCW', 'TCLW', 'R250', 'R500', 'R850', 'U850', 'V850', 'EWSS', 'KX', 'CAPE', 'SSHF', 'PEV', 'AWS_lag8', 'AWS_rollmean_23', 'AWS_rollstd_23']\n"
     ]
    },
    {
     "name": "stderr",
     "output_type": "stream",
     "text": [
      "/usr/local/lib/python3.10/dist-packages/torch/nn/modules/rnn.py:123: UserWarning: dropout option adds dropout after all but last recurrent layer, so non-zero dropout expects num_layers greater than 1, but got dropout=0.220698445185873 and num_layers=1\n",
      "  warnings.warn(\n",
      "[I 2025-04-23 17:08:41,678] Trial 8 finished with value: inf and parameters: {'hidden_size': 241, 'num_layers': 1, 'dropout': 0.220698445185873, 'lr': 0.0018513356917259304, 'time_step_in': 48, 'time_step_out': 6, 'stride': 1, 'binary_weight': 1.958318367732855, 'intensity_weight': 0.5500376840346556, 'regression_weight': 1.832153123061233, 'rain_threshold': 0.06867849963916496, 'num_lags': 1, 'lag_0': 8, 'num_windows': 1, 'window_0': 23}. Best is trial 0 with value: 0.6460549216717482.\n"
     ]
    },
    {
     "name": "stdout",
     "output_type": "stream",
     "text": [
      "✅ Data shapes - Train: torch.Size([142618, 48, 15]), Val: torch.Size([14362, 48, 15]), Test: torch.Size([14086, 48, 15])\n",
      "Error in fold fold_5: Target size (torch.Size([64, 6])) must be the same as input size (torch.Size([64, 1]))\n",
      "Creating lag features for train set with lags: [11]\n",
      "Creating lag features for val set with lags: [11]\n",
      "Creating lag features for test set with lags: [11]\n",
      "Creating rolling stats for train set with windows: [12]\n",
      "Creating rolling stats for val set with windows: [12]\n",
      "Creating rolling stats for test set with windows: [12]\n",
      "Using 15 features: ['TCW', 'TCLW', 'R250', 'R500', 'R850', 'U850', 'V850', 'EWSS', 'KX', 'CAPE', 'SSHF', 'PEV', 'AWS_lag11', 'AWS_rollmean_12', 'AWS_rollstd_12']\n",
      "✅ Data shapes - Train: torch.Size([8016, 21, 15]), Val: torch.Size([8016, 21, 15]), Test: torch.Size([7326, 21, 15])\n",
      "Error in fold fold_1: Target size (torch.Size([64, 4])) must be the same as input size (torch.Size([64, 1]))\n",
      "Creating lag features for train set with lags: [11]\n",
      "Creating lag features for val set with lags: [11]\n",
      "Creating lag features for test set with lags: [11]\n",
      "Creating rolling stats for train set with windows: [12]\n",
      "Creating rolling stats for val set with windows: [12]\n",
      "Creating rolling stats for test set with windows: [12]\n",
      "Using 15 features: ['TCW', 'TCLW', 'R250', 'R500', 'R850', 'U850', 'V850', 'EWSS', 'KX', 'CAPE', 'SSHF', 'PEV', 'AWS_lag11', 'AWS_rollmean_12', 'AWS_rollstd_12']\n",
      "✅ Data shapes - Train: torch.Size([18704, 21, 15]), Val: torch.Size([8016, 21, 15]), Test: torch.Size([7326, 21, 15])\n",
      "Error in fold fold_2: Target size (torch.Size([64, 4])) must be the same as input size (torch.Size([64, 1]))\n",
      "Creating lag features for train set with lags: [11]\n",
      "Creating lag features for val set with lags: [11]\n",
      "Creating lag features for test set with lags: [11]\n",
      "Creating rolling stats for train set with windows: [12]\n",
      "Creating rolling stats for val set with windows: [12]\n",
      "Creating rolling stats for test set with windows: [12]\n",
      "Using 15 features: ['TCW', 'TCLW', 'R250', 'R500', 'R850', 'U850', 'V850', 'EWSS', 'KX', 'CAPE', 'SSHF', 'PEV', 'AWS_lag11', 'AWS_rollmean_12', 'AWS_rollstd_12']\n",
      "✅ Data shapes - Train: torch.Size([29392, 21, 15]), Val: torch.Size([8016, 21, 15]), Test: torch.Size([7326, 21, 15])\n",
      "Error in fold fold_3: Target size (torch.Size([64, 4])) must be the same as input size (torch.Size([64, 1]))\n",
      "Creating lag features for train set with lags: [11]\n",
      "Creating lag features for val set with lags: [11]\n",
      "Creating lag features for test set with lags: [11]\n",
      "Creating rolling stats for train set with windows: [12]\n",
      "Creating rolling stats for val set with windows: [12]\n",
      "Creating rolling stats for test set with windows: [12]\n",
      "Using 15 features: ['TCW', 'TCLW', 'R250', 'R500', 'R850', 'U850', 'V850', 'EWSS', 'KX', 'CAPE', 'SSHF', 'PEV', 'AWS_lag11', 'AWS_rollmean_12', 'AWS_rollstd_12']\n",
      "✅ Data shapes - Train: torch.Size([40080, 21, 15]), Val: torch.Size([8016, 21, 15]), Test: torch.Size([7326, 21, 15])\n",
      "Error in fold fold_4: Target size (torch.Size([64, 4])) must be the same as input size (torch.Size([64, 1]))\n",
      "Creating lag features for train set with lags: [11]\n",
      "Creating lag features for val set with lags: [11]\n",
      "Creating lag features for test set with lags: [11]\n",
      "Creating rolling stats for train set with windows: [12]\n",
      "Creating rolling stats for val set with windows: [12]\n",
      "Creating rolling stats for test set with windows: [12]\n",
      "Using 15 features: ['TCW', 'TCLW', 'R250', 'R500', 'R850', 'U850', 'V850', 'EWSS', 'KX', 'CAPE', 'SSHF', 'PEV', 'AWS_lag11', 'AWS_rollmean_12', 'AWS_rollstd_12']\n"
     ]
    },
    {
     "name": "stderr",
     "output_type": "stream",
     "text": [
      "[I 2025-04-23 17:09:04,813] Trial 9 finished with value: inf and parameters: {'hidden_size': 44, 'num_layers': 2, 'dropout': 0.2263878986487593, 'lr': 0.0002753347207918115, 'time_step_in': 21, 'time_step_out': 4, 'stride': 3, 'binary_weight': 1.6925961565426935, 'intensity_weight': 0.9404484148956996, 'regression_weight': 1.246785041523236, 'rain_threshold': 0.1418655330733214, 'num_lags': 1, 'lag_0': 11, 'num_windows': 1, 'window_0': 12}. Best is trial 0 with value: 0.6460549216717482.\n"
     ]
    },
    {
     "name": "stdout",
     "output_type": "stream",
     "text": [
      "✅ Data shapes - Train: torch.Size([50768, 21, 15]), Val: torch.Size([8016, 21, 15]), Test: torch.Size([7326, 21, 15])\n",
      "Error in fold fold_5: Target size (torch.Size([64, 4])) must be the same as input size (torch.Size([64, 1]))\n",
      "Creating lag features for train set with lags: [5, 12]\n",
      "Creating lag features for val set with lags: [5, 12]\n",
      "Creating lag features for test set with lags: [5, 12]\n",
      "Creating rolling stats for train set with windows: [18, 24, 4]\n",
      "Creating rolling stats for val set with windows: [18, 24, 4]\n",
      "Creating rolling stats for test set with windows: [18, 24, 4]\n",
      "Using 20 features: ['TCW', 'TCLW', 'R250', 'R500', 'R850', 'U850', 'V850', 'EWSS', 'KX', 'CAPE', 'SSHF', 'PEV', 'AWS_lag5', 'AWS_lag12', 'AWS_rollmean_18', 'AWS_rollstd_18', 'AWS_rollmean_24', 'AWS_rollstd_24', 'AWS_rollmean_4', 'AWS_rollstd_4']\n",
      "✅ Data shapes - Train: torch.Size([4676, 29, 20]), Val: torch.Size([4676, 29, 20]), Test: torch.Size([4137, 29, 20])\n",
      "Error in fold fold_1: Target size (torch.Size([64, 2])) must be the same as input size (torch.Size([64, 1]))\n",
      "Creating lag features for train set with lags: [5, 12]\n",
      "Creating lag features for val set with lags: [5, 12]\n",
      "Creating lag features for test set with lags: [5, 12]\n",
      "Creating rolling stats for train set with windows: [18, 24, 4]\n",
      "Creating rolling stats for val set with windows: [18, 24, 4]\n",
      "Creating rolling stats for test set with windows: [18, 24, 4]\n",
      "Using 20 features: ['TCW', 'TCLW', 'R250', 'R500', 'R850', 'U850', 'V850', 'EWSS', 'KX', 'CAPE', 'SSHF', 'PEV', 'AWS_lag5', 'AWS_lag12', 'AWS_rollmean_18', 'AWS_rollstd_18', 'AWS_rollmean_24', 'AWS_rollstd_24', 'AWS_rollmean_4', 'AWS_rollstd_4']\n",
      "✅ Data shapes - Train: torch.Size([11022, 29, 20]), Val: torch.Size([4676, 29, 20]), Test: torch.Size([4137, 29, 20])\n",
      "Error in fold fold_2: Target size (torch.Size([64, 2])) must be the same as input size (torch.Size([64, 1]))\n",
      "Creating lag features for train set with lags: [5, 12]\n",
      "Creating lag features for val set with lags: [5, 12]\n",
      "Creating lag features for test set with lags: [5, 12]\n",
      "Creating rolling stats for train set with windows: [18, 24, 4]\n",
      "Creating rolling stats for val set with windows: [18, 24, 4]\n",
      "Creating rolling stats for test set with windows: [18, 24, 4]\n",
      "Using 20 features: ['TCW', 'TCLW', 'R250', 'R500', 'R850', 'U850', 'V850', 'EWSS', 'KX', 'CAPE', 'SSHF', 'PEV', 'AWS_lag5', 'AWS_lag12', 'AWS_rollmean_18', 'AWS_rollstd_18', 'AWS_rollmean_24', 'AWS_rollstd_24', 'AWS_rollmean_4', 'AWS_rollstd_4']\n",
      "✅ Data shapes - Train: torch.Size([17368, 29, 20]), Val: torch.Size([4676, 29, 20]), Test: torch.Size([4137, 29, 20])\n",
      "Error in fold fold_3: Target size (torch.Size([64, 2])) must be the same as input size (torch.Size([64, 1]))\n",
      "Creating lag features for train set with lags: [5, 12]\n",
      "Creating lag features for val set with lags: [5, 12]\n",
      "Creating lag features for test set with lags: [5, 12]\n",
      "Creating rolling stats for train set with windows: [18, 24, 4]\n",
      "Creating rolling stats for val set with windows: [18, 24, 4]\n",
      "Creating rolling stats for test set with windows: [18, 24, 4]\n",
      "Using 20 features: ['TCW', 'TCLW', 'R250', 'R500', 'R850', 'U850', 'V850', 'EWSS', 'KX', 'CAPE', 'SSHF', 'PEV', 'AWS_lag5', 'AWS_lag12', 'AWS_rollmean_18', 'AWS_rollstd_18', 'AWS_rollmean_24', 'AWS_rollstd_24', 'AWS_rollmean_4', 'AWS_rollstd_4']\n",
      "✅ Data shapes - Train: torch.Size([23714, 29, 20]), Val: torch.Size([4676, 29, 20]), Test: torch.Size([4137, 29, 20])\n",
      "Error in fold fold_4: Target size (torch.Size([64, 2])) must be the same as input size (torch.Size([64, 1]))\n",
      "Creating lag features for train set with lags: [5, 12]\n",
      "Creating lag features for val set with lags: [5, 12]\n",
      "Creating lag features for test set with lags: [5, 12]\n",
      "Creating rolling stats for train set with windows: [18, 24, 4]\n",
      "Creating rolling stats for val set with windows: [18, 24, 4]\n",
      "Creating rolling stats for test set with windows: [18, 24, 4]\n",
      "Using 20 features: ['TCW', 'TCLW', 'R250', 'R500', 'R850', 'U850', 'V850', 'EWSS', 'KX', 'CAPE', 'SSHF', 'PEV', 'AWS_lag5', 'AWS_lag12', 'AWS_rollmean_18', 'AWS_rollstd_18', 'AWS_rollmean_24', 'AWS_rollstd_24', 'AWS_rollmean_4', 'AWS_rollstd_4']\n"
     ]
    },
    {
     "name": "stderr",
     "output_type": "stream",
     "text": [
      "[I 2025-04-23 17:09:33,443] Trial 10 finished with value: inf and parameters: {'hidden_size': 250, 'num_layers': 3, 'dropout': 0.4573767225198184, 'lr': 0.00010406693774853586, 'time_step_in': 29, 'time_step_out': 2, 'stride': 5, 'binary_weight': 0.7520522046947996, 'intensity_weight': 1.4830445089099626, 'regression_weight': 0.9164070556668916, 'rain_threshold': 0.10038005374493912, 'num_lags': 2, 'lag_0': 5, 'lag_1': 12, 'num_windows': 3, 'window_0': 18, 'window_1': 24, 'window_2': 4}. Best is trial 0 with value: 0.6460549216717482.\n"
     ]
    },
    {
     "name": "stdout",
     "output_type": "stream",
     "text": [
      "✅ Data shapes - Train: torch.Size([30060, 29, 20]), Val: torch.Size([4676, 29, 20]), Test: torch.Size([4137, 29, 20])\n",
      "Error in fold fold_5: Target size (torch.Size([64, 2])) must be the same as input size (torch.Size([64, 1]))\n",
      "Creating lag features for train set with lags: [5, 3]\n",
      "Creating lag features for val set with lags: [5, 3]\n",
      "Creating lag features for test set with lags: [5, 3]\n",
      "Creating rolling stats for train set with windows: [16, 7]\n",
      "Creating rolling stats for val set with windows: [16, 7]\n",
      "Creating rolling stats for test set with windows: [16, 7]\n",
      "Using 18 features: ['TCW', 'TCLW', 'R250', 'R500', 'R850', 'U850', 'V850', 'EWSS', 'KX', 'CAPE', 'SSHF', 'PEV', 'AWS_lag5', 'AWS_lag3', 'AWS_rollmean_16', 'AWS_rollstd_16', 'AWS_rollmean_7', 'AWS_rollstd_7']\n",
      "✅ Data shapes - Train: torch.Size([4008, 36, 18]), Val: torch.Size([4008, 36, 18]), Test: torch.Size([3705, 36, 18])\n",
      "Error in fold fold_1: Target size (torch.Size([64, 2])) must be the same as input size (torch.Size([64, 1]))\n",
      "Creating lag features for train set with lags: [5, 3]\n",
      "Creating lag features for val set with lags: [5, 3]\n",
      "Creating lag features for test set with lags: [5, 3]\n",
      "Creating rolling stats for train set with windows: [16, 7]\n",
      "Creating rolling stats for val set with windows: [16, 7]\n",
      "Creating rolling stats for test set with windows: [16, 7]\n",
      "Using 18 features: ['TCW', 'TCLW', 'R250', 'R500', 'R850', 'U850', 'V850', 'EWSS', 'KX', 'CAPE', 'SSHF', 'PEV', 'AWS_lag5', 'AWS_lag3', 'AWS_rollmean_16', 'AWS_rollstd_16', 'AWS_rollmean_7', 'AWS_rollstd_7']\n",
      "✅ Data shapes - Train: torch.Size([10354, 36, 18]), Val: torch.Size([4008, 36, 18]), Test: torch.Size([3705, 36, 18])\n",
      "Error in fold fold_2: Target size (torch.Size([64, 2])) must be the same as input size (torch.Size([64, 1]))\n",
      "Creating lag features for train set with lags: [5, 3]\n",
      "Creating lag features for val set with lags: [5, 3]\n",
      "Creating lag features for test set with lags: [5, 3]\n",
      "Creating rolling stats for train set with windows: [16, 7]\n",
      "Creating rolling stats for val set with windows: [16, 7]\n",
      "Creating rolling stats for test set with windows: [16, 7]\n",
      "Using 18 features: ['TCW', 'TCLW', 'R250', 'R500', 'R850', 'U850', 'V850', 'EWSS', 'KX', 'CAPE', 'SSHF', 'PEV', 'AWS_lag5', 'AWS_lag3', 'AWS_rollmean_16', 'AWS_rollstd_16', 'AWS_rollmean_7', 'AWS_rollstd_7']\n",
      "✅ Data shapes - Train: torch.Size([17034, 36, 18]), Val: torch.Size([4008, 36, 18]), Test: torch.Size([3705, 36, 18])\n",
      "Error in fold fold_3: Target size (torch.Size([64, 2])) must be the same as input size (torch.Size([64, 1]))\n",
      "Creating lag features for train set with lags: [5, 3]\n",
      "Creating lag features for val set with lags: [5, 3]\n",
      "Creating lag features for test set with lags: [5, 3]\n",
      "Creating rolling stats for train set with windows: [16, 7]\n",
      "Creating rolling stats for val set with windows: [16, 7]\n",
      "Creating rolling stats for test set with windows: [16, 7]\n",
      "Using 18 features: ['TCW', 'TCLW', 'R250', 'R500', 'R850', 'U850', 'V850', 'EWSS', 'KX', 'CAPE', 'SSHF', 'PEV', 'AWS_lag5', 'AWS_lag3', 'AWS_rollmean_16', 'AWS_rollstd_16', 'AWS_rollmean_7', 'AWS_rollstd_7']\n",
      "✅ Data shapes - Train: torch.Size([23380, 36, 18]), Val: torch.Size([4008, 36, 18]), Test: torch.Size([3705, 36, 18])\n",
      "Error in fold fold_4: Target size (torch.Size([64, 2])) must be the same as input size (torch.Size([64, 1]))\n",
      "Creating lag features for train set with lags: [5, 3]\n",
      "Creating lag features for val set with lags: [5, 3]\n",
      "Creating lag features for test set with lags: [5, 3]\n",
      "Creating rolling stats for train set with windows: [16, 7]\n",
      "Creating rolling stats for val set with windows: [16, 7]\n",
      "Creating rolling stats for test set with windows: [16, 7]\n",
      "Using 18 features: ['TCW', 'TCLW', 'R250', 'R500', 'R850', 'U850', 'V850', 'EWSS', 'KX', 'CAPE', 'SSHF', 'PEV', 'AWS_lag5', 'AWS_lag3', 'AWS_rollmean_16', 'AWS_rollstd_16', 'AWS_rollmean_7', 'AWS_rollstd_7']\n"
     ]
    },
    {
     "name": "stderr",
     "output_type": "stream",
     "text": [
      "[I 2025-04-23 17:10:00,049] Trial 11 finished with value: inf and parameters: {'hidden_size': 43, 'num_layers': 2, 'dropout': 0.35288206978090286, 'lr': 0.000455331700431327, 'time_step_in': 36, 'time_step_out': 2, 'stride': 5, 'binary_weight': 1.402255035983718, 'intensity_weight': 0.9039598363587797, 'regression_weight': 1.459384338316743, 'rain_threshold': 0.16455336876809484, 'num_lags': 2, 'lag_0': 5, 'lag_1': 3, 'num_windows': 2, 'window_0': 16, 'window_1': 7}. Best is trial 0 with value: 0.6460549216717482.\n"
     ]
    },
    {
     "name": "stdout",
     "output_type": "stream",
     "text": [
      "✅ Data shapes - Train: torch.Size([29726, 36, 18]), Val: torch.Size([4008, 36, 18]), Test: torch.Size([3705, 36, 18])\n",
      "Error in fold fold_5: Target size (torch.Size([64, 2])) must be the same as input size (torch.Size([64, 1]))\n",
      "Creating lag features for train set with lags: [4, 7]\n",
      "Creating lag features for val set with lags: [4, 7]\n",
      "Creating lag features for test set with lags: [4, 7]\n",
      "Creating rolling stats for train set with windows: [19, 10, 3]\n",
      "Creating rolling stats for val set with windows: [19, 10, 3]\n",
      "Creating rolling stats for test set with windows: [19, 10, 3]\n",
      "Using 20 features: ['TCW', 'TCLW', 'R250', 'R500', 'R850', 'U850', 'V850', 'EWSS', 'KX', 'CAPE', 'SSHF', 'PEV', 'AWS_lag4', 'AWS_lag7', 'AWS_rollmean_19', 'AWS_rollstd_19', 'AWS_rollmean_10', 'AWS_rollstd_10', 'AWS_rollmean_3', 'AWS_rollstd_3']\n",
      "✅ Data shapes - Train: torch.Size([5010, 36, 20]), Val: torch.Size([5010, 36, 20]), Test: torch.Size([4685, 36, 20])\n",
      "Error in fold fold_1: Target size (torch.Size([64, 2])) must be the same as input size (torch.Size([64, 1]))\n",
      "Creating lag features for train set with lags: [4, 7]\n",
      "Creating lag features for val set with lags: [4, 7]\n",
      "Creating lag features for test set with lags: [4, 7]\n",
      "Creating rolling stats for train set with windows: [19, 10, 3]\n",
      "Creating rolling stats for val set with windows: [19, 10, 3]\n",
      "Creating rolling stats for test set with windows: [19, 10, 3]\n",
      "Using 20 features: ['TCW', 'TCLW', 'R250', 'R500', 'R850', 'U850', 'V850', 'EWSS', 'KX', 'CAPE', 'SSHF', 'PEV', 'AWS_lag4', 'AWS_lag7', 'AWS_rollmean_19', 'AWS_rollstd_19', 'AWS_rollmean_10', 'AWS_rollstd_10', 'AWS_rollmean_3', 'AWS_rollstd_3']\n",
      "✅ Data shapes - Train: torch.Size([13026, 36, 20]), Val: torch.Size([5010, 36, 20]), Test: torch.Size([4685, 36, 20])\n",
      "Error in fold fold_2: Target size (torch.Size([64, 2])) must be the same as input size (torch.Size([64, 1]))\n",
      "Creating lag features for train set with lags: [4, 7]\n",
      "Creating lag features for val set with lags: [4, 7]\n",
      "Creating lag features for test set with lags: [4, 7]\n",
      "Creating rolling stats for train set with windows: [19, 10, 3]\n",
      "Creating rolling stats for val set with windows: [19, 10, 3]\n",
      "Creating rolling stats for test set with windows: [19, 10, 3]\n",
      "Using 20 features: ['TCW', 'TCLW', 'R250', 'R500', 'R850', 'U850', 'V850', 'EWSS', 'KX', 'CAPE', 'SSHF', 'PEV', 'AWS_lag4', 'AWS_lag7', 'AWS_rollmean_19', 'AWS_rollstd_19', 'AWS_rollmean_10', 'AWS_rollstd_10', 'AWS_rollmean_3', 'AWS_rollstd_3']\n",
      "✅ Data shapes - Train: torch.Size([21042, 36, 20]), Val: torch.Size([5010, 36, 20]), Test: torch.Size([4685, 36, 20])\n",
      "Error in fold fold_3: Target size (torch.Size([64, 2])) must be the same as input size (torch.Size([64, 1]))\n",
      "Creating lag features for train set with lags: [4, 7]\n",
      "Creating lag features for val set with lags: [4, 7]\n",
      "Creating lag features for test set with lags: [4, 7]\n",
      "Creating rolling stats for train set with windows: [19, 10, 3]\n",
      "Creating rolling stats for val set with windows: [19, 10, 3]\n",
      "Creating rolling stats for test set with windows: [19, 10, 3]\n",
      "Using 20 features: ['TCW', 'TCLW', 'R250', 'R500', 'R850', 'U850', 'V850', 'EWSS', 'KX', 'CAPE', 'SSHF', 'PEV', 'AWS_lag4', 'AWS_lag7', 'AWS_rollmean_19', 'AWS_rollstd_19', 'AWS_rollmean_10', 'AWS_rollstd_10', 'AWS_rollmean_3', 'AWS_rollstd_3']\n",
      "✅ Data shapes - Train: torch.Size([29058, 36, 20]), Val: torch.Size([5010, 36, 20]), Test: torch.Size([4685, 36, 20])\n",
      "Error in fold fold_4: Target size (torch.Size([64, 2])) must be the same as input size (torch.Size([64, 1]))\n",
      "Creating lag features for train set with lags: [4, 7]\n",
      "Creating lag features for val set with lags: [4, 7]\n",
      "Creating lag features for test set with lags: [4, 7]\n",
      "Creating rolling stats for train set with windows: [19, 10, 3]\n",
      "Creating rolling stats for val set with windows: [19, 10, 3]\n",
      "Creating rolling stats for test set with windows: [19, 10, 3]\n",
      "Using 20 features: ['TCW', 'TCLW', 'R250', 'R500', 'R850', 'U850', 'V850', 'EWSS', 'KX', 'CAPE', 'SSHF', 'PEV', 'AWS_lag4', 'AWS_lag7', 'AWS_rollmean_19', 'AWS_rollstd_19', 'AWS_rollmean_10', 'AWS_rollstd_10', 'AWS_rollmean_3', 'AWS_rollstd_3']\n"
     ]
    },
    {
     "name": "stderr",
     "output_type": "stream",
     "text": [
      "[I 2025-04-23 17:10:34,486] Trial 12 finished with value: inf and parameters: {'hidden_size': 186, 'num_layers': 2, 'dropout': 0.362931680968152, 'lr': 0.0002211952987328139, 'time_step_in': 36, 'time_step_out': 2, 'stride': 4, 'binary_weight': 0.8967056609287156, 'intensity_weight': 1.1486358897481406, 'regression_weight': 1.9725379019025862, 'rain_threshold': 0.10752670565135367, 'num_lags': 2, 'lag_0': 4, 'lag_1': 7, 'num_windows': 3, 'window_0': 19, 'window_1': 10, 'window_2': 3}. Best is trial 0 with value: 0.6460549216717482.\n"
     ]
    },
    {
     "name": "stdout",
     "output_type": "stream",
     "text": [
      "✅ Data shapes - Train: torch.Size([37074, 36, 20]), Val: torch.Size([5010, 36, 20]), Test: torch.Size([4685, 36, 20])\n",
      "Error in fold fold_5: Target size (torch.Size([64, 2])) must be the same as input size (torch.Size([64, 1]))\n",
      "Creating lag features for train set with lags: [1, 5, 1]\n",
      "Creating lag features for val set with lags: [1, 5, 1]\n",
      "Creating lag features for test set with lags: [1, 5, 1]\n",
      "Creating rolling stats for train set with windows: [23, 15]\n",
      "Creating rolling stats for val set with windows: [23, 15]\n",
      "Creating rolling stats for test set with windows: [23, 15]\n",
      "Using 19 features: ['TCW', 'TCLW', 'R250', 'R500', 'R850', 'U850', 'V850', 'EWSS', 'KX', 'CAPE', 'SSHF', 'PEV', 'AWS_lag1', 'AWS_lag5', 'AWS_lag1', 'AWS_rollmean_23', 'AWS_rollstd_23', 'AWS_rollmean_15', 'AWS_rollstd_15']\n",
      "✅ Data shapes - Train: torch.Size([5344, 32, 19]), Val: torch.Size([5344, 32, 19]), Test: torch.Size([4999, 32, 19])\n",
      "  🌀 Epoch 1/5, Total Loss: 1.6823, Binary: 0.6827, Intensity: 0.4618, Regression: 0.3025\n",
      "  🌀 Epoch 2/5, Total Loss: 1.3079, Binary: 0.6751, Intensity: 0.0454, Regression: 0.2758\n",
      "  🌀 Epoch 3/5, Total Loss: 1.3148, Binary: 0.6816, Intensity: 0.0446, Regression: 0.2750\n",
      "  🌀 Epoch 4/5, Total Loss: 1.3053, Binary: 0.6757, Intensity: 0.0438, Regression: 0.2742\n",
      "  🌀 Epoch 5/5, Total Loss: 1.3029, Binary: 0.6747, Intensity: 0.0436, Regression: 0.2735\n",
      "Creating lag features for train set with lags: [1, 5, 1]\n",
      "Creating lag features for val set with lags: [1, 5, 1]\n",
      "Creating lag features for test set with lags: [1, 5, 1]\n",
      "Creating rolling stats for train set with windows: [23, 15]\n",
      "Creating rolling stats for val set with windows: [23, 15]\n",
      "Creating rolling stats for test set with windows: [23, 15]\n",
      "Using 19 features: ['TCW', 'TCLW', 'R250', 'R500', 'R850', 'U850', 'V850', 'EWSS', 'KX', 'CAPE', 'SSHF', 'PEV', 'AWS_lag1', 'AWS_lag5', 'AWS_lag1', 'AWS_rollmean_23', 'AWS_rollstd_23', 'AWS_rollmean_15', 'AWS_rollstd_15']\n",
      "✅ Data shapes - Train: torch.Size([13360, 32, 19]), Val: torch.Size([5344, 32, 19]), Test: torch.Size([4999, 32, 19])\n",
      "  🌀 Epoch 1/5, Total Loss: 2.0524, Binary: 0.6800, Intensity: 0.2301, Regression: 0.7152\n",
      "  🌀 Epoch 2/5, Total Loss: 1.9402, Binary: 0.6751, Intensity: 0.1098, Regression: 0.7072\n",
      "  🌀 Epoch 3/5, Total Loss: 1.7379, Binary: 0.5721, Intensity: 0.1058, Regression: 0.6614\n",
      "  🌀 Epoch 4/5, Total Loss: 1.5121, Binary: 0.4499, Intensity: 0.0911, Regression: 0.6235\n",
      "  🌀 Epoch 5/5, Total Loss: 1.4414, Binary: 0.4165, Intensity: 0.0870, Regression: 0.6063\n",
      "Creating lag features for train set with lags: [1, 5, 1]\n",
      "Creating lag features for val set with lags: [1, 5, 1]\n",
      "Creating lag features for test set with lags: [1, 5, 1]\n",
      "Creating rolling stats for train set with windows: [23, 15]\n",
      "Creating rolling stats for val set with windows: [23, 15]\n",
      "Creating rolling stats for test set with windows: [23, 15]\n",
      "Using 19 features: ['TCW', 'TCLW', 'R250', 'R500', 'R850', 'U850', 'V850', 'EWSS', 'KX', 'CAPE', 'SSHF', 'PEV', 'AWS_lag1', 'AWS_lag5', 'AWS_lag1', 'AWS_rollmean_23', 'AWS_rollstd_23', 'AWS_rollmean_15', 'AWS_rollstd_15']\n",
      "✅ Data shapes - Train: torch.Size([21376, 32, 19]), Val: torch.Size([5344, 32, 19]), Test: torch.Size([4999, 32, 19])\n",
      "  🌀 Epoch 1/5, Total Loss: 1.8688, Binary: 0.6939, Intensity: 0.1690, Regression: 0.6010\n",
      "  🌀 Epoch 2/5, Total Loss: 1.7538, Binary: 0.6835, Intensity: 0.0940, Regression: 0.5698\n",
      "  🌀 Epoch 3/5, Total Loss: 1.5003, Binary: 0.5460, Intensity: 0.0800, Regression: 0.5260\n",
      "  🌀 Epoch 4/5, Total Loss: 1.3560, Binary: 0.4537, Intensity: 0.0731, Regression: 0.5143\n",
      "  🌀 Epoch 5/5, Total Loss: 1.2942, Binary: 0.4376, Intensity: 0.0687, Regression: 0.4870\n",
      "Creating lag features for train set with lags: [1, 5, 1]\n",
      "Creating lag features for val set with lags: [1, 5, 1]\n",
      "Creating lag features for test set with lags: [1, 5, 1]\n",
      "Creating rolling stats for train set with windows: [23, 15]\n",
      "Creating rolling stats for val set with windows: [23, 15]\n",
      "Creating rolling stats for test set with windows: [23, 15]\n",
      "Using 19 features: ['TCW', 'TCLW', 'R250', 'R500', 'R850', 'U850', 'V850', 'EWSS', 'KX', 'CAPE', 'SSHF', 'PEV', 'AWS_lag1', 'AWS_lag5', 'AWS_lag1', 'AWS_rollmean_23', 'AWS_rollstd_23', 'AWS_rollmean_15', 'AWS_rollstd_15']\n",
      "✅ Data shapes - Train: torch.Size([29392, 32, 19]), Val: torch.Size([5344, 32, 19]), Test: torch.Size([4999, 32, 19])\n",
      "  🌀 Epoch 1/5, Total Loss: 2.9804, Binary: 0.4192, Intensity: 0.3032, Regression: 1.6191\n",
      "  🌀 Epoch 2/5, Total Loss: 2.6277, Binary: 0.3546, Intensity: 0.2415, Regression: 1.4573\n",
      "  🌀 Epoch 3/5, Total Loss: 2.4846, Binary: 0.2987, Intensity: 0.2275, Regression: 1.4148\n",
      "  🌀 Epoch 4/5, Total Loss: 2.3974, Binary: 0.2850, Intensity: 0.2178, Regression: 1.3693\n",
      "Error in fold fold_4: Expected input batch_size (1) to match target batch_size (0).\n",
      "Creating lag features for train set with lags: [1, 5, 1]\n",
      "Creating lag features for val set with lags: [1, 5, 1]\n",
      "Creating lag features for test set with lags: [1, 5, 1]\n",
      "Creating rolling stats for train set with windows: [23, 15]\n",
      "Creating rolling stats for val set with windows: [23, 15]\n",
      "Creating rolling stats for test set with windows: [23, 15]\n",
      "Using 19 features: ['TCW', 'TCLW', 'R250', 'R500', 'R850', 'U850', 'V850', 'EWSS', 'KX', 'CAPE', 'SSHF', 'PEV', 'AWS_lag1', 'AWS_lag5', 'AWS_lag1', 'AWS_rollmean_23', 'AWS_rollstd_23', 'AWS_rollmean_15', 'AWS_rollstd_15']\n",
      "✅ Data shapes - Train: torch.Size([37408, 32, 19]), Val: torch.Size([5344, 32, 19]), Test: torch.Size([4999, 32, 19])\n",
      "  🌀 Epoch 1/5, Total Loss: 2.1278, Binary: 0.4756, Intensity: 0.2015, Regression: 0.9902\n",
      "  🌀 Epoch 2/5, Total Loss: 1.7306, Binary: 0.3228, Intensity: 0.1477, Regression: 0.8782\n",
      "  🌀 Epoch 3/5, Total Loss: 1.6542, Binary: 0.2741, Intensity: 0.1319, Regression: 0.8788\n",
      "  🌀 Epoch 4/5, Total Loss: 1.6165, Binary: 0.2560, Intensity: 0.1288, Regression: 0.8706\n"
     ]
    },
    {
     "name": "stderr",
     "output_type": "stream",
     "text": [
      "[I 2025-04-23 17:11:41,371] Trial 13 finished with value: 0.660189475864172 and parameters: {'hidden_size': 87, 'num_layers': 2, 'dropout': 0.32116291424677695, 'lr': 0.000598388636776188, 'time_step_in': 32, 'time_step_out': 1, 'stride': 4, 'binary_weight': 1.3337461419751206, 'intensity_weight': 0.7882212360969462, 'regression_weight': 1.3478861537854074, 'rain_threshold': 0.05131992850129489, 'num_lags': 3, 'lag_0': 1, 'lag_1': 5, 'lag_2': 1, 'num_windows': 2, 'window_0': 23, 'window_1': 15}. Best is trial 0 with value: 0.6460549216717482.\n"
     ]
    },
    {
     "name": "stdout",
     "output_type": "stream",
     "text": [
      "  🌀 Epoch 5/5, Total Loss: 1.5392, Binary: 0.2437, Intensity: 0.1221, Regression: 0.8294\n",
      "Creating lag features for train set with lags: [1, 1, 12]\n",
      "Creating lag features for val set with lags: [1, 1, 12]\n",
      "Creating lag features for test set with lags: [1, 1, 12]\n",
      "Creating rolling stats for train set with windows: [24, 19]\n",
      "Creating rolling stats for val set with windows: [24, 19]\n",
      "Creating rolling stats for test set with windows: [24, 19]\n",
      "Using 19 features: ['TCW', 'TCLW', 'R250', 'R500', 'R850', 'U850', 'V850', 'EWSS', 'KX', 'CAPE', 'SSHF', 'PEV', 'AWS_lag1', 'AWS_lag1', 'AWS_lag12', 'AWS_rollmean_24', 'AWS_rollstd_24', 'AWS_rollmean_19', 'AWS_rollstd_19']\n",
      "✅ Data shapes - Train: torch.Size([23380, 24, 19]), Val: torch.Size([23380, 24, 19]), Test: torch.Size([21094, 24, 19])\n",
      "Error in fold fold_1: Target size (torch.Size([64, 3])) must be the same as input size (torch.Size([64, 1]))\n",
      "Creating lag features for train set with lags: [1, 1, 12]\n",
      "Creating lag features for val set with lags: [1, 1, 12]\n",
      "Creating lag features for test set with lags: [1, 1, 12]\n",
      "Creating rolling stats for train set with windows: [24, 19]\n",
      "Creating rolling stats for val set with windows: [24, 19]\n",
      "Creating rolling stats for test set with windows: [24, 19]\n",
      "Using 19 features: ['TCW', 'TCLW', 'R250', 'R500', 'R850', 'U850', 'V850', 'EWSS', 'KX', 'CAPE', 'SSHF', 'PEV', 'AWS_lag1', 'AWS_lag1', 'AWS_lag12', 'AWS_rollmean_24', 'AWS_rollstd_24', 'AWS_rollmean_19', 'AWS_rollstd_19']\n",
      "✅ Data shapes - Train: torch.Size([55444, 24, 19]), Val: torch.Size([23380, 24, 19]), Test: torch.Size([21094, 24, 19])\n",
      "Error in fold fold_2: Target size (torch.Size([64, 3])) must be the same as input size (torch.Size([64, 1]))\n",
      "Creating lag features for train set with lags: [1, 1, 12]\n",
      "Creating lag features for val set with lags: [1, 1, 12]\n",
      "Creating lag features for test set with lags: [1, 1, 12]\n",
      "Creating rolling stats for train set with windows: [24, 19]\n",
      "Creating rolling stats for val set with windows: [24, 19]\n",
      "Creating rolling stats for test set with windows: [24, 19]\n",
      "Using 19 features: ['TCW', 'TCLW', 'R250', 'R500', 'R850', 'U850', 'V850', 'EWSS', 'KX', 'CAPE', 'SSHF', 'PEV', 'AWS_lag1', 'AWS_lag1', 'AWS_lag12', 'AWS_rollmean_24', 'AWS_rollstd_24', 'AWS_rollmean_19', 'AWS_rollstd_19']\n",
      "✅ Data shapes - Train: torch.Size([87508, 24, 19]), Val: torch.Size([23380, 24, 19]), Test: torch.Size([21094, 24, 19])\n",
      "Error in fold fold_3: Target size (torch.Size([64, 3])) must be the same as input size (torch.Size([64, 1]))\n",
      "Creating lag features for train set with lags: [1, 1, 12]\n",
      "Creating lag features for val set with lags: [1, 1, 12]\n",
      "Creating lag features for test set with lags: [1, 1, 12]\n",
      "Creating rolling stats for train set with windows: [24, 19]\n",
      "Creating rolling stats for val set with windows: [24, 19]\n",
      "Creating rolling stats for test set with windows: [24, 19]\n",
      "Using 19 features: ['TCW', 'TCLW', 'R250', 'R500', 'R850', 'U850', 'V850', 'EWSS', 'KX', 'CAPE', 'SSHF', 'PEV', 'AWS_lag1', 'AWS_lag1', 'AWS_lag12', 'AWS_rollmean_24', 'AWS_rollstd_24', 'AWS_rollmean_19', 'AWS_rollstd_19']\n",
      "✅ Data shapes - Train: torch.Size([119572, 24, 19]), Val: torch.Size([23380, 24, 19]), Test: torch.Size([21094, 24, 19])\n",
      "Error in fold fold_4: Target size (torch.Size([64, 3])) must be the same as input size (torch.Size([64, 1]))\n",
      "Creating lag features for train set with lags: [1, 1, 12]\n",
      "Creating lag features for val set with lags: [1, 1, 12]\n",
      "Creating lag features for test set with lags: [1, 1, 12]\n",
      "Creating rolling stats for train set with windows: [24, 19]\n",
      "Creating rolling stats for val set with windows: [24, 19]\n",
      "Creating rolling stats for test set with windows: [24, 19]\n",
      "Using 19 features: ['TCW', 'TCLW', 'R250', 'R500', 'R850', 'U850', 'V850', 'EWSS', 'KX', 'CAPE', 'SSHF', 'PEV', 'AWS_lag1', 'AWS_lag1', 'AWS_lag12', 'AWS_rollmean_24', 'AWS_rollstd_24', 'AWS_rollmean_19', 'AWS_rollstd_19']\n"
     ]
    },
    {
     "name": "stderr",
     "output_type": "stream",
     "text": [
      "[I 2025-04-23 17:12:50,274] Trial 14 finished with value: inf and parameters: {'hidden_size': 116, 'num_layers': 3, 'dropout': 0.48787472812654087, 'lr': 0.0006950394717370987, 'time_step_in': 24, 'time_step_out': 3, 'stride': 1, 'binary_weight': 1.5113942892740917, 'intensity_weight': 0.7029757678627124, 'regression_weight': 1.3190249610531162, 'rain_threshold': 0.05184279184008286, 'num_lags': 3, 'lag_0': 1, 'lag_1': 1, 'lag_2': 12, 'num_windows': 2, 'window_0': 24, 'window_1': 19}. Best is trial 0 with value: 0.6460549216717482.\n"
     ]
    },
    {
     "name": "stdout",
     "output_type": "stream",
     "text": [
      "✅ Data shapes - Train: torch.Size([151636, 24, 19]), Val: torch.Size([23380, 24, 19]), Test: torch.Size([21094, 24, 19])\n",
      "Error in fold fold_5: Target size (torch.Size([64, 3])) must be the same as input size (torch.Size([64, 1]))\n",
      "Creating lag features for train set with lags: [3, 9]\n",
      "Creating lag features for val set with lags: [3, 9]\n",
      "Creating lag features for test set with lags: [3, 9]\n",
      "Creating rolling stats for train set with windows: [12, 18, 13]\n",
      "Creating rolling stats for val set with windows: [12, 18, 13]\n",
      "Creating rolling stats for test set with windows: [12, 18, 13]\n",
      "Using 20 features: ['TCW', 'TCLW', 'R250', 'R500', 'R850', 'U850', 'V850', 'EWSS', 'KX', 'CAPE', 'SSHF', 'PEV', 'AWS_lag3', 'AWS_lag9', 'AWS_rollmean_12', 'AWS_rollstd_12', 'AWS_rollmean_18', 'AWS_rollstd_18', 'AWS_rollmean_13', 'AWS_rollstd_13']\n",
      "✅ Data shapes - Train: torch.Size([4342, 32, 20]), Val: torch.Size([4342, 32, 20]), Test: torch.Size([3912, 32, 20])\n",
      "Error in fold fold_1: Target size (torch.Size([64, 3])) must be the same as input size (torch.Size([64, 1]))\n",
      "Creating lag features for train set with lags: [3, 9]\n",
      "Creating lag features for val set with lags: [3, 9]\n",
      "Creating lag features for test set with lags: [3, 9]\n"
     ]
    },
    {
     "name": "stderr",
     "output_type": "stream",
     "text": [
      "/usr/local/lib/python3.10/dist-packages/torch/nn/modules/rnn.py:123: UserWarning: dropout option adds dropout after all but last recurrent layer, so non-zero dropout expects num_layers greater than 1, but got dropout=0.2829143938774271 and num_layers=1\n",
      "  warnings.warn(\n"
     ]
    },
    {
     "name": "stdout",
     "output_type": "stream",
     "text": [
      "Creating rolling stats for train set with windows: [12, 18, 13]\n",
      "Creating rolling stats for val set with windows: [12, 18, 13]\n",
      "Creating rolling stats for test set with windows: [12, 18, 13]\n",
      "Using 20 features: ['TCW', 'TCLW', 'R250', 'R500', 'R850', 'U850', 'V850', 'EWSS', 'KX', 'CAPE', 'SSHF', 'PEV', 'AWS_lag3', 'AWS_lag9', 'AWS_rollmean_12', 'AWS_rollstd_12', 'AWS_rollmean_18', 'AWS_rollstd_18', 'AWS_rollmean_13', 'AWS_rollstd_13']\n",
      "✅ Data shapes - Train: torch.Size([10688, 32, 20]), Val: torch.Size([4342, 32, 20]), Test: torch.Size([3912, 32, 20])\n",
      "Error in fold fold_2: Target size (torch.Size([64, 3])) must be the same as input size (torch.Size([64, 1]))\n",
      "Creating lag features for train set with lags: [3, 9]\n",
      "Creating lag features for val set with lags: [3, 9]\n"
     ]
    },
    {
     "name": "stderr",
     "output_type": "stream",
     "text": [
      "/usr/local/lib/python3.10/dist-packages/torch/nn/modules/rnn.py:123: UserWarning: dropout option adds dropout after all but last recurrent layer, so non-zero dropout expects num_layers greater than 1, but got dropout=0.2829143938774271 and num_layers=1\n",
      "  warnings.warn(\n"
     ]
    },
    {
     "name": "stdout",
     "output_type": "stream",
     "text": [
      "Creating lag features for test set with lags: [3, 9]\n",
      "Creating rolling stats for train set with windows: [12, 18, 13]\n",
      "Creating rolling stats for val set with windows: [12, 18, 13]\n",
      "Creating rolling stats for test set with windows: [12, 18, 13]\n",
      "Using 20 features: ['TCW', 'TCLW', 'R250', 'R500', 'R850', 'U850', 'V850', 'EWSS', 'KX', 'CAPE', 'SSHF', 'PEV', 'AWS_lag3', 'AWS_lag9', 'AWS_rollmean_12', 'AWS_rollstd_12', 'AWS_rollmean_18', 'AWS_rollstd_18', 'AWS_rollmean_13', 'AWS_rollstd_13']\n",
      "✅ Data shapes - Train: torch.Size([17034, 32, 20]), Val: torch.Size([4342, 32, 20]), Test: torch.Size([3912, 32, 20])\n",
      "Error in fold fold_3: Target size (torch.Size([64, 3])) must be the same as input size (torch.Size([64, 1]))\n",
      "Creating lag features for train set with lags: [3, 9]\n",
      "Creating lag features for val set with lags: [3, 9]\n"
     ]
    },
    {
     "name": "stderr",
     "output_type": "stream",
     "text": [
      "/usr/local/lib/python3.10/dist-packages/torch/nn/modules/rnn.py:123: UserWarning: dropout option adds dropout after all but last recurrent layer, so non-zero dropout expects num_layers greater than 1, but got dropout=0.2829143938774271 and num_layers=1\n",
      "  warnings.warn(\n"
     ]
    },
    {
     "name": "stdout",
     "output_type": "stream",
     "text": [
      "Creating lag features for test set with lags: [3, 9]\n",
      "Creating rolling stats for train set with windows: [12, 18, 13]\n",
      "Creating rolling stats for val set with windows: [12, 18, 13]\n",
      "Creating rolling stats for test set with windows: [12, 18, 13]\n",
      "Using 20 features: ['TCW', 'TCLW', 'R250', 'R500', 'R850', 'U850', 'V850', 'EWSS', 'KX', 'CAPE', 'SSHF', 'PEV', 'AWS_lag3', 'AWS_lag9', 'AWS_rollmean_12', 'AWS_rollstd_12', 'AWS_rollmean_18', 'AWS_rollstd_18', 'AWS_rollmean_13', 'AWS_rollstd_13']\n",
      "✅ Data shapes - Train: torch.Size([23380, 32, 20]), Val: torch.Size([4342, 32, 20]), Test: torch.Size([3912, 32, 20])\n",
      "Error in fold fold_4: Target size (torch.Size([64, 3])) must be the same as input size (torch.Size([64, 1]))\n",
      "Creating lag features for train set with lags: [3, 9]\n",
      "Creating lag features for val set with lags: [3, 9]\n"
     ]
    },
    {
     "name": "stderr",
     "output_type": "stream",
     "text": [
      "/usr/local/lib/python3.10/dist-packages/torch/nn/modules/rnn.py:123: UserWarning: dropout option adds dropout after all but last recurrent layer, so non-zero dropout expects num_layers greater than 1, but got dropout=0.2829143938774271 and num_layers=1\n",
      "  warnings.warn(\n"
     ]
    },
    {
     "name": "stdout",
     "output_type": "stream",
     "text": [
      "Creating lag features for test set with lags: [3, 9]\n",
      "Creating rolling stats for train set with windows: [12, 18, 13]\n",
      "Creating rolling stats for val set with windows: [12, 18, 13]\n",
      "Creating rolling stats for test set with windows: [12, 18, 13]\n",
      "Using 20 features: ['TCW', 'TCLW', 'R250', 'R500', 'R850', 'U850', 'V850', 'EWSS', 'KX', 'CAPE', 'SSHF', 'PEV', 'AWS_lag3', 'AWS_lag9', 'AWS_rollmean_12', 'AWS_rollstd_12', 'AWS_rollmean_18', 'AWS_rollstd_18', 'AWS_rollmean_13', 'AWS_rollstd_13']\n"
     ]
    },
    {
     "name": "stderr",
     "output_type": "stream",
     "text": [
      "/usr/local/lib/python3.10/dist-packages/torch/nn/modules/rnn.py:123: UserWarning: dropout option adds dropout after all but last recurrent layer, so non-zero dropout expects num_layers greater than 1, but got dropout=0.2829143938774271 and num_layers=1\n",
      "  warnings.warn(\n",
      "[I 2025-04-23 17:13:19,693] Trial 15 finished with value: inf and parameters: {'hidden_size': 209, 'num_layers': 1, 'dropout': 0.2829143938774271, 'lr': 0.0008591087827559345, 'time_step_in': 32, 'time_step_out': 3, 'stride': 5, 'binary_weight': 1.3377847298797323, 'intensity_weight': 1.339491737405247, 'regression_weight': 1.0133748014854391, 'rain_threshold': 0.08973607873154374, 'num_lags': 2, 'lag_0': 3, 'lag_1': 9, 'num_windows': 3, 'window_0': 12, 'window_1': 18, 'window_2': 13}. Best is trial 0 with value: 0.6460549216717482.\n"
     ]
    },
    {
     "name": "stdout",
     "output_type": "stream",
     "text": [
      "✅ Data shapes - Train: torch.Size([30060, 32, 20]), Val: torch.Size([4342, 32, 20]), Test: torch.Size([3912, 32, 20])\n",
      "Error in fold fold_5: Target size (torch.Size([64, 3])) must be the same as input size (torch.Size([64, 1]))\n",
      "Creating lag features for train set with lags: [1, 6, 1]\n",
      "Creating lag features for val set with lags: [1, 6, 1]\n",
      "Creating lag features for test set with lags: [1, 6, 1]\n",
      "Creating rolling stats for train set with windows: [21, 3]\n",
      "Creating rolling stats for val set with windows: [21, 3]\n",
      "Creating rolling stats for test set with windows: [21, 3]\n",
      "Using 19 features: ['TCW', 'TCLW', 'R250', 'R500', 'R850', 'U850', 'V850', 'EWSS', 'KX', 'CAPE', 'SSHF', 'PEV', 'AWS_lag1', 'AWS_lag6', 'AWS_lag1', 'AWS_rollmean_21', 'AWS_rollstd_21', 'AWS_rollmean_3', 'AWS_rollstd_3']\n",
      "✅ Data shapes - Train: torch.Size([9018, 42, 19]), Val: torch.Size([9018, 42, 19]), Test: torch.Size([8425, 42, 19])\n",
      "Error in fold fold_1: Target size (torch.Size([64, 2])) must be the same as input size (torch.Size([64, 1]))\n",
      "Creating lag features for train set with lags: [1, 6, 1]\n",
      "Creating lag features for val set with lags: [1, 6, 1]\n",
      "Creating lag features for test set with lags: [1, 6, 1]\n",
      "Creating rolling stats for train set with windows: [21, 3]\n",
      "Creating rolling stats for val set with windows: [21, 3]\n",
      "Creating rolling stats for test set with windows: [21, 3]\n",
      "Using 19 features: ['TCW', 'TCLW', 'R250', 'R500', 'R850', 'U850', 'V850', 'EWSS', 'KX', 'CAPE', 'SSHF', 'PEV', 'AWS_lag1', 'AWS_lag6', 'AWS_lag1', 'AWS_rollmean_21', 'AWS_rollstd_21', 'AWS_rollmean_3', 'AWS_rollstd_3']\n",
      "✅ Data shapes - Train: torch.Size([25050, 42, 19]), Val: torch.Size([9018, 42, 19]), Test: torch.Size([8425, 42, 19])\n",
      "Error in fold fold_2: Target size (torch.Size([64, 2])) must be the same as input size (torch.Size([64, 1]))\n",
      "Creating lag features for train set with lags: [1, 6, 1]\n",
      "Creating lag features for val set with lags: [1, 6, 1]\n",
      "Creating lag features for test set with lags: [1, 6, 1]\n",
      "Creating rolling stats for train set with windows: [21, 3]\n",
      "Creating rolling stats for val set with windows: [21, 3]\n",
      "Creating rolling stats for test set with windows: [21, 3]\n",
      "Using 19 features: ['TCW', 'TCLW', 'R250', 'R500', 'R850', 'U850', 'V850', 'EWSS', 'KX', 'CAPE', 'SSHF', 'PEV', 'AWS_lag1', 'AWS_lag6', 'AWS_lag1', 'AWS_rollmean_21', 'AWS_rollstd_21', 'AWS_rollmean_3', 'AWS_rollstd_3']\n",
      "✅ Data shapes - Train: torch.Size([41082, 42, 19]), Val: torch.Size([9018, 42, 19]), Test: torch.Size([8425, 42, 19])\n",
      "Error in fold fold_3: Target size (torch.Size([64, 2])) must be the same as input size (torch.Size([64, 1]))\n",
      "Creating lag features for train set with lags: [1, 6, 1]\n",
      "Creating lag features for val set with lags: [1, 6, 1]\n",
      "Creating lag features for test set with lags: [1, 6, 1]\n",
      "Creating rolling stats for train set with windows: [21, 3]\n",
      "Creating rolling stats for val set with windows: [21, 3]\n",
      "Creating rolling stats for test set with windows: [21, 3]\n",
      "Using 19 features: ['TCW', 'TCLW', 'R250', 'R500', 'R850', 'U850', 'V850', 'EWSS', 'KX', 'CAPE', 'SSHF', 'PEV', 'AWS_lag1', 'AWS_lag6', 'AWS_lag1', 'AWS_rollmean_21', 'AWS_rollstd_21', 'AWS_rollmean_3', 'AWS_rollstd_3']\n",
      "✅ Data shapes - Train: torch.Size([57114, 42, 19]), Val: torch.Size([9018, 42, 19]), Test: torch.Size([8425, 42, 19])\n",
      "Error in fold fold_4: Target size (torch.Size([64, 2])) must be the same as input size (torch.Size([64, 1]))\n",
      "Creating lag features for train set with lags: [1, 6, 1]\n",
      "Creating lag features for val set with lags: [1, 6, 1]\n",
      "Creating lag features for test set with lags: [1, 6, 1]\n",
      "Creating rolling stats for train set with windows: [21, 3]\n",
      "Creating rolling stats for val set with windows: [21, 3]\n",
      "Creating rolling stats for test set with windows: [21, 3]\n",
      "Using 19 features: ['TCW', 'TCLW', 'R250', 'R500', 'R850', 'U850', 'V850', 'EWSS', 'KX', 'CAPE', 'SSHF', 'PEV', 'AWS_lag1', 'AWS_lag6', 'AWS_lag1', 'AWS_rollmean_21', 'AWS_rollstd_21', 'AWS_rollmean_3', 'AWS_rollstd_3']\n"
     ]
    },
    {
     "name": "stderr",
     "output_type": "stream",
     "text": [
      "[I 2025-04-23 17:14:16,036] Trial 16 finished with value: inf and parameters: {'hidden_size': 142, 'num_layers': 2, 'dropout': 0.42351053728935084, 'lr': 0.00255385845292245, 'time_step_in': 42, 'time_step_out': 2, 'stride': 2, 'binary_weight': 0.9525453794576422, 'intensity_weight': 1.0467466384383366, 'regression_weight': 1.2953000388043818, 'rain_threshold': 0.05014771524627179, 'num_lags': 3, 'lag_0': 1, 'lag_1': 6, 'lag_2': 1, 'num_windows': 2, 'window_0': 21, 'window_1': 3}. Best is trial 0 with value: 0.6460549216717482.\n"
     ]
    },
    {
     "name": "stdout",
     "output_type": "stream",
     "text": [
      "✅ Data shapes - Train: torch.Size([73146, 42, 19]), Val: torch.Size([9018, 42, 19]), Test: torch.Size([8425, 42, 19])\n",
      "Error in fold fold_5: Target size (torch.Size([64, 2])) must be the same as input size (torch.Size([64, 1]))\n",
      "Creating lag features for train set with lags: [6, 9]\n",
      "Creating lag features for val set with lags: [6, 9]\n",
      "Creating lag features for test set with lags: [6, 9]\n",
      "Creating rolling stats for train set with windows: [24, 19, 11]\n",
      "Creating rolling stats for val set with windows: [24, 19, 11]\n",
      "Creating rolling stats for test set with windows: [24, 19, 11]\n",
      "Using 20 features: ['TCW', 'TCLW', 'R250', 'R500', 'R850', 'U850', 'V850', 'EWSS', 'KX', 'CAPE', 'SSHF', 'PEV', 'AWS_lag6', 'AWS_lag9', 'AWS_rollmean_24', 'AWS_rollstd_24', 'AWS_rollmean_19', 'AWS_rollstd_19', 'AWS_rollmean_11', 'AWS_rollstd_11']\n",
      "✅ Data shapes - Train: torch.Size([4676, 41, 20]), Val: torch.Size([4676, 41, 20]), Test: torch.Size([4425, 41, 20])\n",
      "  🌀 Epoch 1/5, Total Loss: 2.4099, Binary: 0.6932, Intensity: 0.3997, Regression: 1.2187\n",
      "  🌀 Epoch 2/5, Total Loss: 1.7717, Binary: 0.6914, Intensity: 0.0943, Regression: 1.1398\n",
      "  🌀 Epoch 3/5, Total Loss: 1.7775, Binary: 0.6916, Intensity: 0.0921, Regression: 1.1587\n",
      "  🌀 Epoch 4/5, Total Loss: 1.7398, Binary: 0.6905, Intensity: 0.0889, Regression: 1.1008\n",
      "  🌀 Epoch 5/5, Total Loss: 1.7593, Binary: 0.6911, Intensity: 0.0904, Regression: 1.1314\n",
      "Creating lag features for train set with lags: [6, 9]\n",
      "Creating lag features for val set with lags: [6, 9]\n",
      "Creating lag features for test set with lags: [6, 9]\n",
      "Creating rolling stats for train set with windows: [24, 19, 11]\n",
      "Creating rolling stats for val set with windows: [24, 19, 11]\n",
      "Creating rolling stats for test set with windows: [24, 19, 11]\n",
      "Using 20 features: ['TCW', 'TCLW', 'R250', 'R500', 'R850', 'U850', 'V850', 'EWSS', 'KX', 'CAPE', 'SSHF', 'PEV', 'AWS_lag6', 'AWS_lag9', 'AWS_rollmean_24', 'AWS_rollstd_24', 'AWS_rollmean_19', 'AWS_rollstd_19', 'AWS_rollmean_11', 'AWS_rollstd_11']\n",
      "✅ Data shapes - Train: torch.Size([12692, 41, 20]), Val: torch.Size([4676, 41, 20]), Test: torch.Size([4425, 41, 20])\n",
      "  🌀 Epoch 1/5, Total Loss: 2.0746, Binary: 0.6619, Intensity: 0.2542, Regression: 1.2063\n",
      "  🌀 Epoch 2/5, Total Loss: 1.8680, Binary: 0.6599, Intensity: 0.1594, Regression: 1.1689\n",
      "  🌀 Epoch 3/5, Total Loss: 1.8686, Binary: 0.6596, Intensity: 0.1586, Regression: 1.1741\n",
      "  🌀 Epoch 4/5, Total Loss: 1.8886, Binary: 0.6595, Intensity: 0.1601, Regression: 1.2077\n",
      "  🛑 Early stopping at epoch 4\n",
      "Creating lag features for train set with lags: [6, 9]\n",
      "Creating lag features for val set with lags: [6, 9]\n",
      "Creating lag features for test set with lags: [6, 9]\n",
      "Creating rolling stats for train set with windows: [24, 19, 11]\n",
      "Creating rolling stats for val set with windows: [24, 19, 11]\n",
      "Creating rolling stats for test set with windows: [24, 19, 11]\n",
      "Using 20 features: ['TCW', 'TCLW', 'R250', 'R500', 'R850', 'U850', 'V850', 'EWSS', 'KX', 'CAPE', 'SSHF', 'PEV', 'AWS_lag6', 'AWS_lag9', 'AWS_rollmean_24', 'AWS_rollstd_24', 'AWS_rollmean_19', 'AWS_rollstd_19', 'AWS_rollmean_11', 'AWS_rollstd_11']\n",
      "✅ Data shapes - Train: torch.Size([20708, 41, 20]), Val: torch.Size([4676, 41, 20]), Test: torch.Size([4425, 41, 20])\n",
      "Error in fold fold_3: Expected input batch_size (1) to match target batch_size (0).\n",
      "Creating lag features for train set with lags: [6, 9]\n",
      "Creating lag features for val set with lags: [6, 9]\n",
      "Creating lag features for test set with lags: [6, 9]\n",
      "Creating rolling stats for train set with windows: [24, 19, 11]\n",
      "Creating rolling stats for val set with windows: [24, 19, 11]\n",
      "Creating rolling stats for test set with windows: [24, 19, 11]\n",
      "Using 20 features: ['TCW', 'TCLW', 'R250', 'R500', 'R850', 'U850', 'V850', 'EWSS', 'KX', 'CAPE', 'SSHF', 'PEV', 'AWS_lag6', 'AWS_lag9', 'AWS_rollmean_24', 'AWS_rollstd_24', 'AWS_rollmean_19', 'AWS_rollstd_19', 'AWS_rollmean_11', 'AWS_rollstd_11']\n",
      "✅ Data shapes - Train: torch.Size([28724, 41, 20]), Val: torch.Size([4676, 41, 20]), Test: torch.Size([4425, 41, 20])\n",
      "Error in fold fold_4: Expected input batch_size (1) to match target batch_size (0).\n",
      "Creating lag features for train set with lags: [6, 9]\n",
      "Creating lag features for val set with lags: [6, 9]\n",
      "Creating lag features for test set with lags: [6, 9]\n",
      "Creating rolling stats for train set with windows: [24, 19, 11]\n",
      "Creating rolling stats for val set with windows: [24, 19, 11]\n",
      "Creating rolling stats for test set with windows: [24, 19, 11]\n",
      "Using 20 features: ['TCW', 'TCLW', 'R250', 'R500', 'R850', 'U850', 'V850', 'EWSS', 'KX', 'CAPE', 'SSHF', 'PEV', 'AWS_lag6', 'AWS_lag9', 'AWS_rollmean_24', 'AWS_rollstd_24', 'AWS_rollmean_19', 'AWS_rollstd_19', 'AWS_rollmean_11', 'AWS_rollstd_11']\n",
      "✅ Data shapes - Train: torch.Size([36740, 41, 20]), Val: torch.Size([4676, 41, 20]), Test: torch.Size([4425, 41, 20])\n",
      "  🌀 Epoch 1/5, Total Loss: 2.0074, Binary: 0.4437, Intensity: 0.2457, Regression: 1.7218\n"
     ]
    },
    {
     "name": "stderr",
     "output_type": "stream",
     "text": [
      "[I 2025-04-23 17:15:23,068] Trial 17 finished with value: 0.8729859590530396 and parameters: {'hidden_size': 223, 'num_layers': 3, 'dropout': 0.1925461627350954, 'lr': 0.00018048184161274653, 'time_step_in': 41, 'time_step_out': 1, 'stride': 4, 'binary_weight': 1.4483376079839976, 'intensity_weight': 1.9483916956160297, 'regression_weight': 0.5146174502318472, 'rain_threshold': 0.08176348999125516, 'num_lags': 2, 'lag_0': 6, 'lag_1': 9, 'num_windows': 3, 'window_0': 24, 'window_1': 19, 'window_2': 11}. Best is trial 0 with value: 0.6460549216717482.\n"
     ]
    },
    {
     "name": "stdout",
     "output_type": "stream",
     "text": [
      "Error in fold fold_5: Expected input batch_size (1) to match target batch_size (0).\n",
      "Creating lag features for train set with lags: [3, 1, 4]\n",
      "Creating lag features for val set with lags: [3, 1, 4]\n",
      "Creating lag features for test set with lags: [3, 1, 4]\n",
      "Creating rolling stats for train set with windows: [9, 8]\n",
      "Creating rolling stats for val set with windows: [9, 8]\n",
      "Creating rolling stats for test set with windows: [9, 8]\n",
      "Using 19 features: ['TCW', 'TCLW', 'R250', 'R500', 'R850', 'U850', 'V850', 'EWSS', 'KX', 'CAPE', 'SSHF', 'PEV', 'AWS_lag3', 'AWS_lag1', 'AWS_lag4', 'AWS_rollmean_9', 'AWS_rollstd_9', 'AWS_rollmean_8', 'AWS_rollstd_8']\n",
      "✅ Data shapes - Train: torch.Size([10354, 32, 19]), Val: torch.Size([10354, 32, 19]), Test: torch.Size([9549, 32, 19])\n",
      "Error in fold fold_1: Target size (torch.Size([64, 3])) must be the same as input size (torch.Size([64, 1]))\n",
      "Creating lag features for train set with lags: [3, 1, 4]\n",
      "Creating lag features for val set with lags: [3, 1, 4]\n",
      "Creating lag features for test set with lags: [3, 1, 4]\n"
     ]
    },
    {
     "name": "stderr",
     "output_type": "stream",
     "text": [
      "/usr/local/lib/python3.10/dist-packages/torch/nn/modules/rnn.py:123: UserWarning: dropout option adds dropout after all but last recurrent layer, so non-zero dropout expects num_layers greater than 1, but got dropout=0.2892798947483963 and num_layers=1\n",
      "  warnings.warn(\n"
     ]
    },
    {
     "name": "stdout",
     "output_type": "stream",
     "text": [
      "Creating rolling stats for train set with windows: [9, 8]\n",
      "Creating rolling stats for val set with windows: [9, 8]\n",
      "Creating rolling stats for test set with windows: [9, 8]\n",
      "Using 19 features: ['TCW', 'TCLW', 'R250', 'R500', 'R850', 'U850', 'V850', 'EWSS', 'KX', 'CAPE', 'SSHF', 'PEV', 'AWS_lag3', 'AWS_lag1', 'AWS_lag4', 'AWS_rollmean_9', 'AWS_rollstd_9', 'AWS_rollmean_8', 'AWS_rollstd_8']\n",
      "✅ Data shapes - Train: torch.Size([26386, 32, 19]), Val: torch.Size([10354, 32, 19]), Test: torch.Size([9549, 32, 19])\n",
      "Error in fold fold_2: Target size (torch.Size([64, 3])) must be the same as input size (torch.Size([64, 1]))\n",
      "Creating lag features for train set with lags: [3, 1, 4]\n",
      "Creating lag features for val set with lags: [3, 1, 4]\n"
     ]
    },
    {
     "name": "stderr",
     "output_type": "stream",
     "text": [
      "/usr/local/lib/python3.10/dist-packages/torch/nn/modules/rnn.py:123: UserWarning: dropout option adds dropout after all but last recurrent layer, so non-zero dropout expects num_layers greater than 1, but got dropout=0.2892798947483963 and num_layers=1\n",
      "  warnings.warn(\n"
     ]
    },
    {
     "name": "stdout",
     "output_type": "stream",
     "text": [
      "Creating lag features for test set with lags: [3, 1, 4]\n",
      "Creating rolling stats for train set with windows: [9, 8]\n",
      "Creating rolling stats for val set with windows: [9, 8]\n",
      "Creating rolling stats for test set with windows: [9, 8]\n",
      "Using 19 features: ['TCW', 'TCLW', 'R250', 'R500', 'R850', 'U850', 'V850', 'EWSS', 'KX', 'CAPE', 'SSHF', 'PEV', 'AWS_lag3', 'AWS_lag1', 'AWS_lag4', 'AWS_rollmean_9', 'AWS_rollstd_9', 'AWS_rollmean_8', 'AWS_rollstd_8']\n",
      "✅ Data shapes - Train: torch.Size([42418, 32, 19]), Val: torch.Size([10354, 32, 19]), Test: torch.Size([9549, 32, 19])\n",
      "Error in fold fold_3: Target size (torch.Size([64, 3])) must be the same as input size (torch.Size([64, 1]))\n",
      "Creating lag features for train set with lags: [3, 1, 4]\n",
      "Creating lag features for val set with lags: [3, 1, 4]\n"
     ]
    },
    {
     "name": "stderr",
     "output_type": "stream",
     "text": [
      "/usr/local/lib/python3.10/dist-packages/torch/nn/modules/rnn.py:123: UserWarning: dropout option adds dropout after all but last recurrent layer, so non-zero dropout expects num_layers greater than 1, but got dropout=0.2892798947483963 and num_layers=1\n",
      "  warnings.warn(\n"
     ]
    },
    {
     "name": "stdout",
     "output_type": "stream",
     "text": [
      "Creating lag features for test set with lags: [3, 1, 4]\n",
      "Creating rolling stats for train set with windows: [9, 8]\n",
      "Creating rolling stats for val set with windows: [9, 8]\n",
      "Creating rolling stats for test set with windows: [9, 8]\n",
      "Using 19 features: ['TCW', 'TCLW', 'R250', 'R500', 'R850', 'U850', 'V850', 'EWSS', 'KX', 'CAPE', 'SSHF', 'PEV', 'AWS_lag3', 'AWS_lag1', 'AWS_lag4', 'AWS_rollmean_9', 'AWS_rollstd_9', 'AWS_rollmean_8', 'AWS_rollstd_8']\n",
      "✅ Data shapes - Train: torch.Size([58450, 32, 19]), Val: torch.Size([10354, 32, 19]), Test: torch.Size([9549, 32, 19])\n",
      "Error in fold fold_4: Target size (torch.Size([64, 3])) must be the same as input size (torch.Size([64, 1]))\n",
      "Creating lag features for train set with lags: [3, 1, 4]\n",
      "Creating lag features for val set with lags: [3, 1, 4]\n"
     ]
    },
    {
     "name": "stderr",
     "output_type": "stream",
     "text": [
      "/usr/local/lib/python3.10/dist-packages/torch/nn/modules/rnn.py:123: UserWarning: dropout option adds dropout after all but last recurrent layer, so non-zero dropout expects num_layers greater than 1, but got dropout=0.2892798947483963 and num_layers=1\n",
      "  warnings.warn(\n"
     ]
    },
    {
     "name": "stdout",
     "output_type": "stream",
     "text": [
      "Creating lag features for test set with lags: [3, 1, 4]\n",
      "Creating rolling stats for train set with windows: [9, 8]\n",
      "Creating rolling stats for val set with windows: [9, 8]\n",
      "Creating rolling stats for test set with windows: [9, 8]\n",
      "Using 19 features: ['TCW', 'TCLW', 'R250', 'R500', 'R850', 'U850', 'V850', 'EWSS', 'KX', 'CAPE', 'SSHF', 'PEV', 'AWS_lag3', 'AWS_lag1', 'AWS_lag4', 'AWS_rollmean_9', 'AWS_rollstd_9', 'AWS_rollmean_8', 'AWS_rollstd_8']\n"
     ]
    },
    {
     "name": "stderr",
     "output_type": "stream",
     "text": [
      "/usr/local/lib/python3.10/dist-packages/torch/nn/modules/rnn.py:123: UserWarning: dropout option adds dropout after all but last recurrent layer, so non-zero dropout expects num_layers greater than 1, but got dropout=0.2892798947483963 and num_layers=1\n",
      "  warnings.warn(\n",
      "[I 2025-04-23 17:16:10,756] Trial 18 finished with value: inf and parameters: {'hidden_size': 165, 'num_layers': 1, 'dropout': 0.2892798947483963, 'lr': 0.0005701543235516746, 'time_step_in': 32, 'time_step_out': 3, 'stride': 2, 'binary_weight': 1.265488904705427, 'intensity_weight': 0.7117701980519623, 'regression_weight': 1.7377843037247418, 'rain_threshold': 0.10869143546031966, 'num_lags': 3, 'lag_0': 3, 'lag_1': 1, 'lag_2': 4, 'num_windows': 2, 'window_0': 9, 'window_1': 8}. Best is trial 0 with value: 0.6460549216717482.\n"
     ]
    },
    {
     "name": "stdout",
     "output_type": "stream",
     "text": [
      "✅ Data shapes - Train: torch.Size([74482, 32, 19]), Val: torch.Size([10354, 32, 19]), Test: torch.Size([9549, 32, 19])\n",
      "Error in fold fold_5: Target size (torch.Size([64, 3])) must be the same as input size (torch.Size([64, 1]))\n",
      "Creating lag features for train set with lags: [3, 12, 11]\n",
      "Creating lag features for val set with lags: [3, 12, 11]\n",
      "Creating lag features for test set with lags: [3, 12, 11]\n",
      "Creating rolling stats for train set with windows: [21, 13, 22]\n",
      "Creating rolling stats for val set with windows: [21, 13, 22]\n",
      "Creating rolling stats for test set with windows: [21, 13, 22]\n",
      "Using 21 features: ['TCW', 'TCLW', 'R250', 'R500', 'R850', 'U850', 'V850', 'EWSS', 'KX', 'CAPE', 'SSHF', 'PEV', 'AWS_lag3', 'AWS_lag12', 'AWS_lag11', 'AWS_rollmean_21', 'AWS_rollstd_21', 'AWS_rollmean_13', 'AWS_rollstd_13', 'AWS_rollmean_22', 'AWS_rollstd_22']\n",
      "✅ Data shapes - Train: torch.Size([4008, 27, 21]), Val: torch.Size([4008, 27, 21]), Test: torch.Size([3632, 27, 21])\n",
      "  🌀 Epoch 1/5, Total Loss: 1.4191, Binary: 0.6959, Intensity: 0.3552, Regression: 0.0980\n",
      "  🌀 Epoch 2/5, Total Loss: 1.2491, Binary: 0.6920, Intensity: 0.0323, Regression: 0.0964\n",
      "  🌀 Epoch 3/5, Total Loss: 1.1497, Binary: 0.6333, Intensity: 0.0304, Regression: 0.0925\n",
      "  🌀 Epoch 4/5, Total Loss: 1.2425, Binary: 0.6964, Intensity: 0.0294, Regression: 0.0879\n",
      "  🌀 Epoch 5/5, Total Loss: 1.2007, Binary: 0.6622, Intensity: 0.0354, Regression: 0.0944\n",
      "  🛑 Early stopping at epoch 5\n",
      "Creating lag features for train set with lags: [3, 12, 11]\n",
      "Creating lag features for val set with lags: [3, 12, 11]\n",
      "Creating lag features for test set with lags: [3, 12, 11]\n",
      "Creating rolling stats for train set with windows: [21, 13, 22]\n",
      "Creating rolling stats for val set with windows: [21, 13, 22]\n",
      "Creating rolling stats for test set with windows: [21, 13, 22]\n",
      "Using 21 features: ['TCW', 'TCLW', 'R250', 'R500', 'R850', 'U850', 'V850', 'EWSS', 'KX', 'CAPE', 'SSHF', 'PEV', 'AWS_lag3', 'AWS_lag12', 'AWS_lag11', 'AWS_rollmean_21', 'AWS_rollstd_21', 'AWS_rollmean_13', 'AWS_rollstd_13', 'AWS_rollmean_22', 'AWS_rollstd_22']\n",
      "✅ Data shapes - Train: torch.Size([9352, 27, 21]), Val: torch.Size([4008, 27, 21]), Test: torch.Size([3632, 27, 21])\n",
      "  🌀 Epoch 1/5, Total Loss: 1.6883, Binary: 0.6635, Intensity: 0.2348, Regression: 0.3650\n",
      "  🌀 Epoch 2/5, Total Loss: 1.5400, Binary: 0.6174, Intensity: 0.0737, Regression: 0.3688\n",
      "  🌀 Epoch 3/5, Total Loss: 1.3935, Binary: 0.5325, Intensity: 0.0723, Regression: 0.3608\n",
      "  🌀 Epoch 4/5, Total Loss: 1.2523, Binary: 0.4651, Intensity: 0.0699, Regression: 0.3374\n",
      "  🌀 Epoch 5/5, Total Loss: 1.1576, Binary: 0.4181, Intensity: 0.0681, Regression: 0.3237\n",
      "Creating lag features for train set with lags: [3, 12, 11]\n",
      "Creating lag features for val set with lags: [3, 12, 11]\n",
      "Creating lag features for test set with lags: [3, 12, 11]\n",
      "Creating rolling stats for train set with windows: [21, 13, 22]\n",
      "Creating rolling stats for val set with windows: [21, 13, 22]\n",
      "Creating rolling stats for test set with windows: [21, 13, 22]\n",
      "Using 21 features: ['TCW', 'TCLW', 'R250', 'R500', 'R850', 'U850', 'V850', 'EWSS', 'KX', 'CAPE', 'SSHF', 'PEV', 'AWS_lag3', 'AWS_lag12', 'AWS_lag11', 'AWS_rollmean_21', 'AWS_rollstd_21', 'AWS_rollmean_13', 'AWS_rollstd_13', 'AWS_rollmean_22', 'AWS_rollstd_22']\n",
      "✅ Data shapes - Train: torch.Size([14696, 27, 21]), Val: torch.Size([4008, 27, 21]), Test: torch.Size([3632, 27, 21])\n",
      "  🌀 Epoch 1/5, Total Loss: 1.9430, Binary: 0.6943, Intensity: 0.2067, Regression: 0.5194\n",
      "  🌀 Epoch 2/5, Total Loss: 1.8223, Binary: 0.6916, Intensity: 0.0812, Regression: 0.4817\n",
      "  🌀 Epoch 3/5, Total Loss: 1.6575, Binary: 0.6021, Intensity: 0.0758, Regression: 0.4675\n",
      "  🌀 Epoch 4/5, Total Loss: 1.4638, Binary: 0.4948, Intensity: 0.0665, Regression: 0.4540\n",
      "  🌀 Epoch 5/5, Total Loss: 1.3969, Binary: 0.4625, Intensity: 0.0617, Regression: 0.4446\n",
      "Creating lag features for train set with lags: [3, 12, 11]\n",
      "Creating lag features for val set with lags: [3, 12, 11]\n",
      "Creating lag features for test set with lags: [3, 12, 11]\n",
      "Creating rolling stats for train set with windows: [21, 13, 22]\n",
      "Creating rolling stats for val set with windows: [21, 13, 22]\n",
      "Creating rolling stats for test set with windows: [21, 13, 22]\n",
      "Using 21 features: ['TCW', 'TCLW', 'R250', 'R500', 'R850', 'U850', 'V850', 'EWSS', 'KX', 'CAPE', 'SSHF', 'PEV', 'AWS_lag3', 'AWS_lag12', 'AWS_lag11', 'AWS_rollmean_21', 'AWS_rollstd_21', 'AWS_rollmean_13', 'AWS_rollstd_13', 'AWS_rollmean_22', 'AWS_rollstd_22']\n",
      "✅ Data shapes - Train: torch.Size([20040, 27, 21]), Val: torch.Size([4008, 27, 21]), Test: torch.Size([3632, 27, 21])\n",
      "Error in fold fold_4: Expected input batch_size (1) to match target batch_size (0).\n",
      "Creating lag features for train set with lags: [3, 12, 11]\n",
      "Creating lag features for val set with lags: [3, 12, 11]\n",
      "Creating lag features for test set with lags: [3, 12, 11]\n",
      "Creating rolling stats for train set with windows: [21, 13, 22]\n",
      "Creating rolling stats for val set with windows: [21, 13, 22]\n",
      "Creating rolling stats for test set with windows: [21, 13, 22]\n",
      "Using 21 features: ['TCW', 'TCLW', 'R250', 'R500', 'R850', 'U850', 'V850', 'EWSS', 'KX', 'CAPE', 'SSHF', 'PEV', 'AWS_lag3', 'AWS_lag12', 'AWS_lag11', 'AWS_rollmean_21', 'AWS_rollstd_21', 'AWS_rollmean_13', 'AWS_rollstd_13', 'AWS_rollmean_22', 'AWS_rollstd_22']\n",
      "✅ Data shapes - Train: torch.Size([25384, 27, 21]), Val: torch.Size([4008, 27, 21]), Test: torch.Size([3632, 27, 21])\n",
      "  🌀 Epoch 1/5, Total Loss: 2.3633, Binary: 0.4650, Intensity: 0.1898, Regression: 1.0747\n",
      "  🌀 Epoch 2/5, Total Loss: 2.0297, Binary: 0.3163, Intensity: 0.1410, Regression: 1.0229\n",
      "  🌀 Epoch 3/5, Total Loss: 1.8799, Binary: 0.2802, Intensity: 0.1278, Regression: 0.9626\n",
      "  🌀 Epoch 4/5, Total Loss: 1.8776, Binary: 0.2670, Intensity: 0.1253, Regression: 0.9765\n"
     ]
    },
    {
     "name": "stderr",
     "output_type": "stream",
     "text": [
      "[I 2025-04-23 17:16:57,885] Trial 19 finished with value: 0.6327764447778463 and parameters: {'hidden_size': 65, 'num_layers': 2, 'dropout': 0.38531376702829445, 'lr': 0.0011807381636274486, 'time_step_in': 27, 'time_step_out': 1, 'stride': 6, 'binary_weight': 1.5830598453453726, 'intensity_weight': 0.5002746177480493, 'regression_weight': 1.4257017398349647, 'rain_threshold': 0.061419126031940864, 'num_lags': 3, 'lag_0': 3, 'lag_1': 12, 'lag_2': 11, 'num_windows': 3, 'window_0': 21, 'window_1': 13, 'window_2': 22}. Best is trial 19 with value: 0.6327764447778463.\n"
     ]
    },
    {
     "name": "stdout",
     "output_type": "stream",
     "text": [
      "  🌀 Epoch 5/5, Total Loss: 1.7646, Binary: 0.2610, Intensity: 0.1211, Regression: 0.9054\n",
      "✅ Best parameters for 2020-04:\n",
      "  hidden_size: 65\n",
      "  num_layers: 2\n",
      "  dropout: 0.38531376702829445\n",
      "  lr: 0.0011807381636274486\n",
      "  time_step_in: 27\n",
      "  time_step_out: 1\n",
      "  stride: 6\n",
      "  binary_weight: 1.5830598453453726\n",
      "  intensity_weight: 0.5002746177480493\n",
      "  regression_weight: 1.4257017398349647\n",
      "  rain_threshold: 0.061419126031940864\n",
      "  num_lags: 3\n",
      "  lag_0: 3\n",
      "  lag_1: 12\n",
      "  lag_2: 11\n",
      "  num_windows: 3\n",
      "  window_0: 21\n",
      "  window_1: 13\n",
      "  window_2: 22\n",
      "💾 Best parameters saved to hybrid_best_params_2020-04.json\n",
      "\n",
      "📦 Final evaluation on 2020-04, fold_1 test set\n",
      "\n",
      "🚀 Training hybrid model for 2020-04, fold_1 with best parameters\n",
      "Creating lag features for train set with lags: [3, 12, 11]\n",
      "Creating lag features for val set with lags: [3, 12, 11]\n",
      "Creating lag features for test set with lags: [3, 12, 11]\n",
      "Creating rolling stats for train set with windows: [21, 13, 22]\n",
      "Creating rolling stats for val set with windows: [21, 13, 22]\n",
      "Creating rolling stats for test set with windows: [21, 13, 22]\n",
      "Using 21 features: ['TCW', 'TCLW', 'R250', 'R500', 'R850', 'U850', 'V850', 'EWSS', 'KX', 'CAPE', 'SSHF', 'PEV', 'AWS_lag3', 'AWS_lag12', 'AWS_lag11', 'AWS_rollmean_21', 'AWS_rollstd_21', 'AWS_rollmean_13', 'AWS_rollstd_13', 'AWS_rollmean_22', 'AWS_rollstd_22']\n",
      "✅ Data shapes - Train: torch.Size([4008, 27, 21]), Val: torch.Size([4008, 27, 21]), Test: torch.Size([3632, 27, 21])\n",
      "🏋️ Training hybrid model on train set...\n",
      "  🌀 Epoch 1/10, Total Loss: 1.3981, Binary: 0.6932, Intensity: 0.3126, Regression: 0.1011\n",
      "  🌀 Epoch 2/10, Total Loss: 1.2339, Binary: 0.6806, Intensity: 0.0312, Regression: 0.0988\n",
      "  🌀 Epoch 3/10, Total Loss: 1.2355, Binary: 0.6857, Intensity: 0.0306, Regression: 0.0945\n",
      "  🌀 Epoch 4/10, Total Loss: 1.0760, Binary: 0.5826, Intensity: 0.0313, Regression: 0.0968\n",
      "  🌀 Epoch 5/10, Total Loss: 0.9853, Binary: 0.5315, Intensity: 0.0282, Regression: 0.0911\n",
      "  🌀 Epoch 6/10, Total Loss: 0.9656, Binary: 0.5182, Intensity: 0.0287, Regression: 0.0919\n",
      "  🌀 Epoch 7/10, Total Loss: 0.9599, Binary: 0.5165, Intensity: 0.0279, Regression: 0.0899\n",
      "  🌀 Epoch 8/10, Total Loss: 0.9238, Binary: 0.4932, Intensity: 0.0281, Regression: 0.0905\n",
      "  🌀 Epoch 9/10, Total Loss: 0.9091, Binary: 0.4865, Intensity: 0.0262, Regression: 0.0882\n",
      "  🌀 Epoch 10/10, Total Loss: 0.9047, Binary: 0.4838, Intensity: 0.0264, Regression: 0.0881\n",
      "📊 Evaluating on validation set...\n",
      "  Val RMSE: 0.5175, Bias: 0.0059, R²: -0.0308, CSI: 0.5802\n",
      "  Binary Accuracy: 0.7283, Intensity Accuracy: 0.9859\n",
      "🧪 Evaluating on test set...\n",
      "  Test RMSE: 0.2459, Bias: 0.0017, R²: -0.0581, CSI: 0.0000\n",
      "  Binary Accuracy: 0.9664, Intensity Accuracy: 0.9167\n",
      "💾 Model saved to hybrid_model_2020-04_fold_1.pt\n",
      "\n",
      "📦 Final evaluation on 2020-04, fold_2 test set\n",
      "\n",
      "🚀 Training hybrid model for 2020-04, fold_2 with best parameters\n",
      "Creating lag features for train set with lags: [3, 12, 11]\n",
      "Creating lag features for val set with lags: [3, 12, 11]\n",
      "Creating lag features for test set with lags: [3, 12, 11]\n",
      "Creating rolling stats for train set with windows: [21, 13, 22]\n",
      "Creating rolling stats for val set with windows: [21, 13, 22]\n",
      "Creating rolling stats for test set with windows: [21, 13, 22]\n",
      "Using 21 features: ['TCW', 'TCLW', 'R250', 'R500', 'R850', 'U850', 'V850', 'EWSS', 'KX', 'CAPE', 'SSHF', 'PEV', 'AWS_lag3', 'AWS_lag12', 'AWS_lag11', 'AWS_rollmean_21', 'AWS_rollstd_21', 'AWS_rollmean_13', 'AWS_rollstd_13', 'AWS_rollmean_22', 'AWS_rollstd_22']\n",
      "✅ Data shapes - Train: torch.Size([9352, 27, 21]), Val: torch.Size([4008, 27, 21]), Test: torch.Size([3632, 27, 21])\n",
      "🏋️ Training hybrid model on train set...\n",
      "  🌀 Epoch 1/10, Total Loss: 1.7070, Binary: 0.6615, Intensity: 0.1949, Regression: 0.3944\n",
      "  🌀 Epoch 2/10, Total Loss: 1.5209, Binary: 0.6100, Intensity: 0.0757, Regression: 0.3629\n",
      "  🌀 Epoch 3/10, Total Loss: 1.3774, Binary: 0.5393, Intensity: 0.0682, Regression: 0.3434\n",
      "  🌀 Epoch 4/10, Total Loss: 1.2979, Binary: 0.4815, Intensity: 0.0692, Regression: 0.3514\n"
     ]
    },
    {
     "name": "stderr",
     "output_type": "stream",
     "text": [
      "[I 2025-04-23 17:17:12,396] A new study created in memory with name: hybrid_2020-10_study\n"
     ]
    },
    {
     "name": "stdout",
     "output_type": "stream",
     "text": [
      "❌ Error during optimization for 2020-04: Expected input batch_size (1) to match target batch_size (0).\n",
      "\n",
      "📅 Processing month: 2020-10\n",
      "🔍 Finding optimal hyperparameters for hybrid model on 2020-10 using cross-validation...\n",
      "📥 Loading /kaggle/input/ai-dataimputedataset-k-fold/2020-10/fold_1/processed_train.csv\n",
      "📥 Loading /kaggle/input/ai-dataimputedataset-k-fold/2020-10/fold_1/processed_val.csv\n",
      "📥 Loading /kaggle/input/ai-dataimputedataset-k-fold/2020-10/fold_1/merged_test.csv\n",
      "Creating lag features for train set with lags: [11, 5, 4]\n",
      "Creating lag features for val set with lags: [11, 5, 4]\n",
      "Creating lag features for test set with lags: [11, 5, 4]\n",
      "Creating rolling stats for train set with windows: [18, 15, 22]\n",
      "Creating rolling stats for val set with windows: [18, 15, 22]\n",
      "Creating rolling stats for test set with windows: [18, 15, 22]\n",
      "Using 21 features: ['TCW', 'TCLW', 'R250', 'R500', 'R850', 'U850', 'V850', 'EWSS', 'KX', 'CAPE', 'SSHF', 'PEV', 'AWS_lag11', 'AWS_lag5', 'AWS_lag4', 'AWS_rollmean_18', 'AWS_rollstd_18', 'AWS_rollmean_15', 'AWS_rollstd_15', 'AWS_rollmean_22', 'AWS_rollstd_22']\n",
      "✅ Data shapes - Train: torch.Size([7702, 27, 21]), Val: torch.Size([9087, 27, 21]), Test: torch.Size([12190, 27, 21])\n",
      "Error in fold fold_1: Target size (torch.Size([128, 6])) must be the same as input size (torch.Size([128, 1]))\n",
      "📥 Loading /kaggle/input/ai-dataimputedataset-k-fold/2020-10/fold_2/processed_train.csv\n"
     ]
    },
    {
     "name": "stderr",
     "output_type": "stream",
     "text": [
      "/usr/local/lib/python3.10/dist-packages/torch/nn/modules/rnn.py:123: UserWarning: dropout option adds dropout after all but last recurrent layer, so non-zero dropout expects num_layers greater than 1, but got dropout=0.417257489445207 and num_layers=1\n",
      "  warnings.warn(\n"
     ]
    },
    {
     "name": "stdout",
     "output_type": "stream",
     "text": [
      "📥 Loading /kaggle/input/ai-dataimputedataset-k-fold/2020-10/fold_2/processed_val.csv\n",
      "📥 Loading /kaggle/input/ai-dataimputedataset-k-fold/2020-10/fold_2/merged_test.csv\n",
      "Creating lag features for train set with lags: [11, 5, 4]\n",
      "Creating lag features for val set with lags: [11, 5, 4]\n",
      "Creating lag features for test set with lags: [11, 5, 4]\n",
      "Creating rolling stats for train set with windows: [18, 15, 22]\n",
      "Creating rolling stats for val set with windows: [18, 15, 22]\n",
      "Creating rolling stats for test set with windows: [18, 15, 22]\n",
      "Using 21 features: ['TCW', 'TCLW', 'R250', 'R500', 'R850', 'U850', 'V850', 'EWSS', 'KX', 'CAPE', 'SSHF', 'PEV', 'AWS_lag11', 'AWS_lag5', 'AWS_lag4', 'AWS_rollmean_18', 'AWS_rollstd_18', 'AWS_rollmean_15', 'AWS_rollstd_15', 'AWS_rollmean_22', 'AWS_rollstd_22']\n",
      "✅ Data shapes - Train: torch.Size([18740, 27, 21]), Val: torch.Size([9076, 27, 21]), Test: torch.Size([11938, 27, 21])\n",
      "Error in fold fold_2: Target size (torch.Size([128, 6])) must be the same as input size (torch.Size([128, 1]))\n",
      "📥 Loading /kaggle/input/ai-dataimputedataset-k-fold/2020-10/fold_3/processed_train.csv\n"
     ]
    },
    {
     "name": "stderr",
     "output_type": "stream",
     "text": [
      "/usr/local/lib/python3.10/dist-packages/torch/nn/modules/rnn.py:123: UserWarning: dropout option adds dropout after all but last recurrent layer, so non-zero dropout expects num_layers greater than 1, but got dropout=0.417257489445207 and num_layers=1\n",
      "  warnings.warn(\n"
     ]
    },
    {
     "name": "stdout",
     "output_type": "stream",
     "text": [
      "📥 Loading /kaggle/input/ai-dataimputedataset-k-fold/2020-10/fold_3/processed_val.csv\n",
      "📥 Loading /kaggle/input/ai-dataimputedataset-k-fold/2020-10/fold_3/merged_test.csv\n",
      "Creating lag features for train set with lags: [11, 5, 4]\n",
      "Creating lag features for val set with lags: [11, 5, 4]\n",
      "Creating lag features for test set with lags: [11, 5, 4]\n",
      "Creating rolling stats for train set with windows: [18, 15, 22]\n",
      "Creating rolling stats for val set with windows: [18, 15, 22]\n",
      "Creating rolling stats for test set with windows: [18, 15, 22]\n",
      "Using 21 features: ['TCW', 'TCLW', 'R250', 'R500', 'R850', 'U850', 'V850', 'EWSS', 'KX', 'CAPE', 'SSHF', 'PEV', 'AWS_lag11', 'AWS_lag5', 'AWS_lag4', 'AWS_rollmean_18', 'AWS_rollstd_18', 'AWS_rollmean_15', 'AWS_rollstd_15', 'AWS_rollmean_22', 'AWS_rollstd_22']\n",
      "✅ Data shapes - Train: torch.Size([29780, 27, 21]), Val: torch.Size([8853, 27, 21]), Test: torch.Size([11519, 27, 21])\n",
      "Error in fold fold_3: Target size (torch.Size([128, 6])) must be the same as input size (torch.Size([128, 1]))\n",
      "📥 Loading /kaggle/input/ai-dataimputedataset-k-fold/2020-10/fold_4/processed_train.csv\n"
     ]
    },
    {
     "name": "stderr",
     "output_type": "stream",
     "text": [
      "/usr/local/lib/python3.10/dist-packages/torch/nn/modules/rnn.py:123: UserWarning: dropout option adds dropout after all but last recurrent layer, so non-zero dropout expects num_layers greater than 1, but got dropout=0.417257489445207 and num_layers=1\n",
      "  warnings.warn(\n"
     ]
    },
    {
     "name": "stdout",
     "output_type": "stream",
     "text": [
      "📥 Loading /kaggle/input/ai-dataimputedataset-k-fold/2020-10/fold_4/processed_val.csv\n",
      "📥 Loading /kaggle/input/ai-dataimputedataset-k-fold/2020-10/fold_4/merged_test.csv\n",
      "Creating lag features for train set with lags: [11, 5, 4]\n",
      "Creating lag features for val set with lags: [11, 5, 4]\n",
      "Creating lag features for test set with lags: [11, 5, 4]\n",
      "Creating rolling stats for train set with windows: [18, 15, 22]\n",
      "Creating rolling stats for val set with windows: [18, 15, 22]\n",
      "Creating rolling stats for test set with windows: [18, 15, 22]\n",
      "Using 21 features: ['TCW', 'TCLW', 'R250', 'R500', 'R850', 'U850', 'V850', 'EWSS', 'KX', 'CAPE', 'SSHF', 'PEV', 'AWS_lag11', 'AWS_lag5', 'AWS_lag4', 'AWS_rollmean_18', 'AWS_rollstd_18', 'AWS_rollmean_15', 'AWS_rollstd_15', 'AWS_rollmean_22', 'AWS_rollstd_22']\n",
      "✅ Data shapes - Train: torch.Size([40820, 27, 21]), Val: torch.Size([8461, 27, 21]), Test: torch.Size([11166, 27, 21])\n",
      "Error in fold fold_4: Target size (torch.Size([128, 6])) must be the same as input size (torch.Size([128, 1]))\n",
      "📥 Loading /kaggle/input/ai-dataimputedataset-k-fold/2020-10/fold_5/processed_train.csv\n"
     ]
    },
    {
     "name": "stderr",
     "output_type": "stream",
     "text": [
      "/usr/local/lib/python3.10/dist-packages/torch/nn/modules/rnn.py:123: UserWarning: dropout option adds dropout after all but last recurrent layer, so non-zero dropout expects num_layers greater than 1, but got dropout=0.417257489445207 and num_layers=1\n",
      "  warnings.warn(\n"
     ]
    },
    {
     "name": "stdout",
     "output_type": "stream",
     "text": [
      "📥 Loading /kaggle/input/ai-dataimputedataset-k-fold/2020-10/fold_5/processed_val.csv\n",
      "📥 Loading /kaggle/input/ai-dataimputedataset-k-fold/2020-10/fold_5/merged_test.csv\n",
      "Creating lag features for train set with lags: [11, 5, 4]\n",
      "Creating lag features for val set with lags: [11, 5, 4]\n",
      "Creating lag features for test set with lags: [11, 5, 4]\n",
      "Creating rolling stats for train set with windows: [18, 15, 22]\n",
      "Creating rolling stats for val set with windows: [18, 15, 22]\n",
      "Creating rolling stats for test set with windows: [18, 15, 22]\n",
      "Using 21 features: ['TCW', 'TCLW', 'R250', 'R500', 'R850', 'U850', 'V850', 'EWSS', 'KX', 'CAPE', 'SSHF', 'PEV', 'AWS_lag11', 'AWS_lag5', 'AWS_lag4', 'AWS_rollmean_18', 'AWS_rollstd_18', 'AWS_rollmean_15', 'AWS_rollstd_15', 'AWS_rollmean_22', 'AWS_rollstd_22']\n"
     ]
    },
    {
     "name": "stderr",
     "output_type": "stream",
     "text": [
      "/usr/local/lib/python3.10/dist-packages/torch/nn/modules/rnn.py:123: UserWarning: dropout option adds dropout after all but last recurrent layer, so non-zero dropout expects num_layers greater than 1, but got dropout=0.417257489445207 and num_layers=1\n",
      "  warnings.warn(\n",
      "[I 2025-04-23 17:18:03,776] Trial 0 finished with value: inf and parameters: {'hidden_size': 179, 'num_layers': 1, 'dropout': 0.417257489445207, 'lr': 0.0002645342830160997, 'time_step_in': 27, 'time_step_out': 6, 'stride': 3, 'binary_weight': 1.0259263874866937, 'intensity_weight': 1.7176505277187, 'regression_weight': 1.9318547934889554, 'rain_threshold': 0.09181087760611817, 'num_lags': 3, 'lag_0': 11, 'lag_1': 5, 'lag_2': 4, 'num_windows': 3, 'window_0': 18, 'window_1': 15, 'window_2': 22}. Best is trial 0 with value: inf.\n"
     ]
    },
    {
     "name": "stdout",
     "output_type": "stream",
     "text": [
      "✅ Data shapes - Train: torch.Size([51860, 27, 21]), Val: torch.Size([8093, 27, 21]), Test: torch.Size([10797, 27, 21])\n",
      "Error in fold fold_5: Target size (torch.Size([128, 6])) must be the same as input size (torch.Size([128, 1]))\n",
      "Creating lag features for train set with lags: [8, 11, 1]\n",
      "Creating lag features for val set with lags: [8, 11, 1]\n",
      "Creating lag features for test set with lags: [8, 11, 1]\n",
      "Creating rolling stats for train set with windows: [16]\n",
      "Creating rolling stats for val set with windows: [16]\n",
      "Creating rolling stats for test set with windows: [16]\n",
      "Using 17 features: ['TCW', 'TCLW', 'R250', 'R500', 'R850', 'U850', 'V850', 'EWSS', 'KX', 'CAPE', 'SSHF', 'PEV', 'AWS_lag8', 'AWS_lag11', 'AWS_lag1', 'AWS_rollmean_16', 'AWS_rollstd_16']\n",
      "✅ Data shapes - Train: torch.Size([4564, 32, 17]), Val: torch.Size([5480, 32, 17]), Test: torch.Size([7337, 32, 17])\n",
      "  🌀 Epoch 1/5, Total Loss: 17.6889, Binary: 0.6747, Intensity: 0.8867, Regression: 7.7391\n",
      "  🌀 Epoch 2/5, Total Loss: 14.1741, Binary: 0.6539, Intensity: 0.6686, Regression: 6.1254\n",
      "  🌀 Epoch 3/5, Total Loss: 11.4643, Binary: 0.6542, Intensity: 0.7589, Regression: 4.6863\n",
      "  🌀 Epoch 4/5, Total Loss: 9.9804, Binary: 0.6145, Intensity: 0.6252, Regression: 4.0626\n",
      "  🌀 Epoch 5/5, Total Loss: 8.6283, Binary: 0.5826, Intensity: 0.4943, Regression: 3.4967\n",
      "Creating lag features for train set with lags: [8, 11, 1]\n",
      "Creating lag features for val set with lags: [8, 11, 1]\n",
      "Creating lag features for test set with lags: [8, 11, 1]\n",
      "Creating rolling stats for train set with windows: [16]\n",
      "Creating rolling stats for val set with windows: [16]\n",
      "Creating rolling stats for test set with windows: [16]\n",
      "Using 17 features: ['TCW', 'TCLW', 'R250', 'R500', 'R850', 'U850', 'V850', 'EWSS', 'KX', 'CAPE', 'SSHF', 'PEV', 'AWS_lag8', 'AWS_lag11', 'AWS_lag1', 'AWS_rollmean_16', 'AWS_rollstd_16']\n",
      "✅ Data shapes - Train: torch.Size([11129, 32, 17]), Val: torch.Size([5485, 32, 17]), Test: torch.Size([7193, 32, 17])\n",
      "  🌀 Epoch 1/5, Total Loss: 13.5729, Binary: 0.6475, Intensity: 0.7318, Regression: 5.7820\n",
      "  🌀 Epoch 2/5, Total Loss: 8.7965, Binary: 0.5592, Intensity: 0.4782, Regression: 3.6150\n",
      "  🌀 Epoch 3/5, Total Loss: 8.3659, Binary: 0.5223, Intensity: 0.4265, Regression: 3.4666\n",
      "  🌀 Epoch 4/5, Total Loss: 7.8747, Binary: 0.4500, Intensity: 0.4259, Regression: 3.2847\n",
      "  🌀 Epoch 5/5, Total Loss: 7.9456, Binary: 0.3982, Intensity: 0.4259, Regression: 3.3688\n",
      "Creating lag features for train set with lags: [8, 11, 1]\n",
      "Creating lag features for val set with lags: [8, 11, 1]\n",
      "Creating lag features for test set with lags: [8, 11, 1]\n",
      "Creating rolling stats for train set with windows: [16]\n",
      "Creating rolling stats for val set with windows: [16]\n",
      "Creating rolling stats for test set with windows: [16]\n",
      "Using 17 features: ['TCW', 'TCLW', 'R250', 'R500', 'R850', 'U850', 'V850', 'EWSS', 'KX', 'CAPE', 'SSHF', 'PEV', 'AWS_lag8', 'AWS_lag11', 'AWS_lag1', 'AWS_rollmean_16', 'AWS_rollstd_16']\n",
      "✅ Data shapes - Train: torch.Size([17893, 32, 17]), Val: torch.Size([5357, 32, 17]), Test: torch.Size([6978, 32, 17])\n",
      "  🌀 Epoch 1/5, Total Loss: 11.5023, Binary: 0.6186, Intensity: 0.6868, Regression: 4.7888\n",
      "  🌀 Epoch 2/5, Total Loss: 8.3032, Binary: 0.5008, Intensity: 0.4488, Regression: 3.4392\n",
      "  🌀 Epoch 3/5, Total Loss: 7.8387, Binary: 0.4134, Intensity: 0.4318, Regression: 3.2963\n",
      "  🌀 Epoch 4/5, Total Loss: 7.6025, Binary: 0.3683, Intensity: 0.4111, Regression: 3.2326\n",
      "  🌀 Epoch 5/5, Total Loss: 7.4948, Binary: 0.3509, Intensity: 0.4026, Regression: 3.2000\n",
      "Creating lag features for train set with lags: [8, 11, 1]\n",
      "Creating lag features for val set with lags: [8, 11, 1]\n",
      "Creating lag features for test set with lags: [8, 11, 1]\n",
      "Creating rolling stats for train set with windows: [16]\n",
      "Creating rolling stats for val set with windows: [16]\n",
      "Creating rolling stats for test set with windows: [16]\n",
      "Using 17 features: ['TCW', 'TCLW', 'R250', 'R500', 'R850', 'U850', 'V850', 'EWSS', 'KX', 'CAPE', 'SSHF', 'PEV', 'AWS_lag8', 'AWS_lag11', 'AWS_lag1', 'AWS_rollmean_16', 'AWS_rollstd_16']\n",
      "✅ Data shapes - Train: torch.Size([24594, 32, 17]), Val: torch.Size([5097, 32, 17]), Test: torch.Size([6761, 32, 17])\n",
      "  🌀 Epoch 1/5, Total Loss: 11.2995, Binary: 0.6157, Intensity: 0.6368, Regression: 4.7232\n",
      "  🌀 Epoch 2/5, Total Loss: 8.1045, Binary: 0.5086, Intensity: 0.4413, Regression: 3.3363\n",
      "  🌀 Epoch 3/5, Total Loss: 7.5694, Binary: 0.4095, Intensity: 0.4386, Regression: 3.1585\n",
      "  🌀 Epoch 4/5, Total Loss: 7.3274, Binary: 0.3509, Intensity: 0.4154, Regression: 3.1061\n",
      "  🌀 Epoch 5/5, Total Loss: 7.1028, Binary: 0.3230, Intensity: 0.4013, Regression: 3.0278\n",
      "Creating lag features for train set with lags: [8, 11, 1]\n",
      "Creating lag features for val set with lags: [8, 11, 1]\n",
      "Creating lag features for test set with lags: [8, 11, 1]\n",
      "Creating rolling stats for train set with windows: [16]\n",
      "Creating rolling stats for val set with windows: [16]\n",
      "Creating rolling stats for test set with windows: [16]\n",
      "Using 17 features: ['TCW', 'TCLW', 'R250', 'R500', 'R850', 'U850', 'V850', 'EWSS', 'KX', 'CAPE', 'SSHF', 'PEV', 'AWS_lag8', 'AWS_lag11', 'AWS_lag1', 'AWS_rollmean_16', 'AWS_rollstd_16']\n",
      "✅ Data shapes - Train: torch.Size([31161, 32, 17]), Val: torch.Size([4887, 32, 17]), Test: torch.Size([6589, 32, 17])\n",
      "  🌀 Epoch 1/5, Total Loss: 10.2107, Binary: 0.5727, Intensity: 0.6173, Regression: 4.2239\n",
      "  🌀 Epoch 2/5, Total Loss: 7.6398, Binary: 0.4526, Intensity: 0.4355, Regression: 3.1563\n",
      "  🌀 Epoch 3/5, Total Loss: 7.3474, Binary: 0.3850, Intensity: 0.4278, Regression: 3.0760\n",
      "  🌀 Epoch 4/5, Total Loss: 6.9787, Binary: 0.3373, Intensity: 0.4028, Regression: 2.9504\n",
      "  🌀 Epoch 5/5, Total Loss: 6.8242, Binary: 0.3276, Intensity: 0.3921, Regression: 2.8885\n"
     ]
    },
    {
     "name": "stderr",
     "output_type": "stream",
     "text": [
      "[I 2025-04-23 17:19:18,177] Trial 1 finished with value: 1.1765066623687743 and parameters: {'hidden_size': 240, 'num_layers': 3, 'dropout': 0.2223162690724368, 'lr': 0.00037644984695776347, 'time_step_in': 32, 'time_step_out': 1, 'stride': 5, 'binary_weight': 1.827841476482512, 'intensity_weight': 1.369858427964464, 'regression_weight': 1.9693539537146765, 'rain_threshold': 0.11864090045457325, 'num_lags': 3, 'lag_0': 8, 'lag_1': 11, 'lag_2': 1, 'num_windows': 1, 'window_0': 16}. Best is trial 1 with value: 1.1765066623687743.\n"
     ]
    },
    {
     "name": "stdout",
     "output_type": "stream",
     "text": [
      "Creating lag features for train set with lags: [10, 4]\n",
      "Creating lag features for val set with lags: [10, 4]\n",
      "Creating lag features for test set with lags: [10, 4]\n",
      "Creating rolling stats for train set with windows: [7, 23, 4]\n",
      "Creating rolling stats for val set with windows: [7, 23, 4]\n",
      "Creating rolling stats for test set with windows: [7, 23, 4]\n",
      "Using 20 features: ['TCW', 'TCLW', 'R250', 'R500', 'R850', 'U850', 'V850', 'EWSS', 'KX', 'CAPE', 'SSHF', 'PEV', 'AWS_lag10', 'AWS_lag4', 'AWS_rollmean_7', 'AWS_rollstd_7', 'AWS_rollmean_23', 'AWS_rollstd_23', 'AWS_rollmean_4', 'AWS_rollstd_4']\n",
      "✅ Data shapes - Train: torch.Size([6370, 38, 20]), Val: torch.Size([8391, 38, 20]), Test: torch.Size([11505, 38, 20])\n",
      "Error in fold fold_1: Target size (torch.Size([128, 6])) must be the same as input size (torch.Size([128, 1]))\n",
      "Creating lag features for train set with lags: [10, 4]\n",
      "Creating lag features for val set with lags: [10, 4]\n",
      "Creating lag features for test set with lags: [10, 4]\n",
      "Creating rolling stats for train set with windows: [7, 23, 4]\n",
      "Creating rolling stats for val set with windows: [7, 23, 4]\n",
      "Creating rolling stats for test set with windows: [7, 23, 4]\n",
      "Using 20 features: ['TCW', 'TCLW', 'R250', 'R500', 'R850', 'U850', 'V850', 'EWSS', 'KX', 'CAPE', 'SSHF', 'PEV', 'AWS_lag10', 'AWS_lag4', 'AWS_rollmean_7', 'AWS_rollstd_7', 'AWS_rollmean_23', 'AWS_rollstd_23', 'AWS_rollmean_4', 'AWS_rollstd_4']\n",
      "✅ Data shapes - Train: torch.Size([17404, 38, 20]), Val: torch.Size([8401, 38, 20]), Test: torch.Size([11192, 38, 20])\n",
      "Error in fold fold_2: Target size (torch.Size([128, 6])) must be the same as input size (torch.Size([128, 1]))\n",
      "Creating lag features for train set with lags: [10, 4]\n",
      "Creating lag features for val set with lags: [10, 4]\n",
      "Creating lag features for test set with lags: [10, 4]\n",
      "Creating rolling stats for train set with windows: [7, 23, 4]\n",
      "Creating rolling stats for val set with windows: [7, 23, 4]\n",
      "Creating rolling stats for test set with windows: [7, 23, 4]\n",
      "Using 20 features: ['TCW', 'TCLW', 'R250', 'R500', 'R850', 'U850', 'V850', 'EWSS', 'KX', 'CAPE', 'SSHF', 'PEV', 'AWS_lag10', 'AWS_lag4', 'AWS_rollmean_7', 'AWS_rollstd_7', 'AWS_rollmean_23', 'AWS_rollstd_23', 'AWS_rollmean_4', 'AWS_rollstd_4']\n",
      "✅ Data shapes - Train: torch.Size([28444, 38, 20]), Val: torch.Size([8040, 38, 20]), Test: torch.Size([10756, 38, 20])\n",
      "Error in fold fold_3: Target size (torch.Size([128, 6])) must be the same as input size (torch.Size([128, 1]))\n",
      "Creating lag features for train set with lags: [10, 4]\n",
      "Creating lag features for val set with lags: [10, 4]\n",
      "Creating lag features for test set with lags: [10, 4]\n",
      "Creating rolling stats for train set with windows: [7, 23, 4]\n",
      "Creating rolling stats for val set with windows: [7, 23, 4]\n",
      "Creating rolling stats for test set with windows: [7, 23, 4]\n",
      "Using 20 features: ['TCW', 'TCLW', 'R250', 'R500', 'R850', 'U850', 'V850', 'EWSS', 'KX', 'CAPE', 'SSHF', 'PEV', 'AWS_lag10', 'AWS_lag4', 'AWS_rollmean_7', 'AWS_rollstd_7', 'AWS_rollmean_23', 'AWS_rollstd_23', 'AWS_rollmean_4', 'AWS_rollstd_4']\n",
      "✅ Data shapes - Train: torch.Size([39484, 38, 20]), Val: torch.Size([7553, 38, 20]), Test: torch.Size([10141, 38, 20])\n",
      "Error in fold fold_4: Target size (torch.Size([128, 6])) must be the same as input size (torch.Size([128, 1]))\n",
      "Creating lag features for train set with lags: [10, 4]\n",
      "Creating lag features for val set with lags: [10, 4]\n",
      "Creating lag features for test set with lags: [10, 4]\n",
      "Creating rolling stats for train set with windows: [7, 23, 4]\n",
      "Creating rolling stats for val set with windows: [7, 23, 4]\n",
      "Creating rolling stats for test set with windows: [7, 23, 4]\n",
      "Using 20 features: ['TCW', 'TCLW', 'R250', 'R500', 'R850', 'U850', 'V850', 'EWSS', 'KX', 'CAPE', 'SSHF', 'PEV', 'AWS_lag10', 'AWS_lag4', 'AWS_rollmean_7', 'AWS_rollstd_7', 'AWS_rollmean_23', 'AWS_rollstd_23', 'AWS_rollmean_4', 'AWS_rollstd_4']\n"
     ]
    },
    {
     "name": "stderr",
     "output_type": "stream",
     "text": [
      "[I 2025-04-23 17:20:06,292] Trial 2 finished with value: inf and parameters: {'hidden_size': 228, 'num_layers': 3, 'dropout': 0.3539687221207925, 'lr': 0.00020267248631998403, 'time_step_in': 38, 'time_step_out': 6, 'stride': 3, 'binary_weight': 0.8073993230834776, 'intensity_weight': 1.8340002350523463, 'regression_weight': 0.9165895331528102, 'rain_threshold': 0.16298173221446288, 'num_lags': 2, 'lag_0': 10, 'lag_1': 4, 'num_windows': 3, 'window_0': 7, 'window_1': 23, 'window_2': 4}. Best is trial 1 with value: 1.1765066623687743.\n"
     ]
    },
    {
     "name": "stdout",
     "output_type": "stream",
     "text": [
      "✅ Data shapes - Train: torch.Size([50524, 38, 20]), Val: torch.Size([7034, 38, 20]), Test: torch.Size([9716, 38, 20])\n",
      "Error in fold fold_5: Target size (torch.Size([128, 6])) must be the same as input size (torch.Size([128, 1]))\n",
      "Creating lag features for train set with lags: [11]\n",
      "Creating lag features for val set with lags: [11]\n",
      "Creating lag features for test set with lags: [11]\n",
      "Creating rolling stats for train set with windows: [6]\n",
      "Creating rolling stats for val set with windows: [6]\n",
      "Creating rolling stats for test set with windows: [6]\n",
      "Using 15 features: ['TCW', 'TCLW', 'R250', 'R500', 'R850', 'U850', 'V850', 'EWSS', 'KX', 'CAPE', 'SSHF', 'PEV', 'AWS_lag11', 'AWS_rollmean_6', 'AWS_rollstd_6']\n",
      "✅ Data shapes - Train: torch.Size([9036, 17, 15]), Val: torch.Size([9878, 17, 15]), Test: torch.Size([12943, 17, 15])\n",
      "Error in fold fold_1: Target size (torch.Size([128, 3])) must be the same as input size (torch.Size([128, 1]))\n",
      "Creating lag features for train set with lags: [11]\n",
      "Creating lag features for val set with lags: [11]\n",
      "Creating lag features for test set with lags: [11]\n",
      "Creating rolling stats for train set with windows: [6]\n",
      "Creating rolling stats for val set with windows: [6]\n",
      "Creating rolling stats for test set with windows: [6]\n",
      "Using 15 features: ['TCW', 'TCLW', 'R250', 'R500', 'R850', 'U850', 'V850', 'EWSS', 'KX', 'CAPE', 'SSHF', 'PEV', 'AWS_lag11', 'AWS_rollmean_6', 'AWS_rollstd_6']\n",
      "✅ Data shapes - Train: torch.Size([20076, 17, 15]), Val: torch.Size([9877, 17, 15]), Test: torch.Size([12828, 17, 15])\n",
      "Error in fold fold_2: Target size (torch.Size([128, 3])) must be the same as input size (torch.Size([128, 1]))\n",
      "Creating lag features for train set with lags: [11]\n",
      "Creating lag features for val set with lags: [11]\n",
      "Creating lag features for test set with lags: [11]\n",
      "Creating rolling stats for train set with windows: [6]\n",
      "Creating rolling stats for val set with windows: [6]\n",
      "Creating rolling stats for test set with windows: [6]\n",
      "Using 15 features: ['TCW', 'TCLW', 'R250', 'R500', 'R850', 'U850', 'V850', 'EWSS', 'KX', 'CAPE', 'SSHF', 'PEV', 'AWS_lag11', 'AWS_rollmean_6', 'AWS_rollstd_6']\n",
      "✅ Data shapes - Train: torch.Size([31116, 17, 15]), Val: torch.Size([9703, 17, 15]), Test: torch.Size([12651, 17, 15])\n",
      "Error in fold fold_3: Target size (torch.Size([128, 3])) must be the same as input size (torch.Size([128, 1]))\n",
      "Creating lag features for train set with lags: [11]\n",
      "Creating lag features for val set with lags: [11]\n",
      "Creating lag features for test set with lags: [11]\n",
      "Creating rolling stats for train set with windows: [6]\n",
      "Creating rolling stats for val set with windows: [6]\n",
      "Creating rolling stats for test set with windows: [6]\n",
      "Using 15 features: ['TCW', 'TCLW', 'R250', 'R500', 'R850', 'U850', 'V850', 'EWSS', 'KX', 'CAPE', 'SSHF', 'PEV', 'AWS_lag11', 'AWS_rollmean_6', 'AWS_rollstd_6']\n",
      "✅ Data shapes - Train: torch.Size([42156, 17, 15]), Val: torch.Size([9491, 17, 15]), Test: torch.Size([12351, 17, 15])\n",
      "Error in fold fold_4: Target size (torch.Size([128, 3])) must be the same as input size (torch.Size([128, 1]))\n",
      "Creating lag features for train set with lags: [11]\n",
      "Creating lag features for val set with lags: [11]\n",
      "Creating lag features for test set with lags: [11]\n",
      "Creating rolling stats for train set with windows: [6]\n",
      "Creating rolling stats for val set with windows: [6]\n",
      "Creating rolling stats for test set with windows: [6]\n",
      "Using 15 features: ['TCW', 'TCLW', 'R250', 'R500', 'R850', 'U850', 'V850', 'EWSS', 'KX', 'CAPE', 'SSHF', 'PEV', 'AWS_lag11', 'AWS_rollmean_6', 'AWS_rollstd_6']\n"
     ]
    },
    {
     "name": "stderr",
     "output_type": "stream",
     "text": [
      "[I 2025-04-23 17:20:29,317] Trial 3 finished with value: inf and parameters: {'hidden_size': 176, 'num_layers': 2, 'dropout': 0.4647765915028639, 'lr': 0.0009388611115472179, 'time_step_in': 17, 'time_step_out': 3, 'stride': 3, 'binary_weight': 1.5655825629642675, 'intensity_weight': 0.9854967062727273, 'regression_weight': 1.8959452960528453, 'rain_threshold': 0.18159866426159055, 'num_lags': 1, 'lag_0': 11, 'num_windows': 1, 'window_0': 6}. Best is trial 1 with value: 1.1765066623687743.\n"
     ]
    },
    {
     "name": "stdout",
     "output_type": "stream",
     "text": [
      "✅ Data shapes - Train: torch.Size([53196, 17, 15]), Val: torch.Size([9269, 17, 15]), Test: torch.Size([12159, 17, 15])\n",
      "Error in fold fold_5: Target size (torch.Size([128, 3])) must be the same as input size (torch.Size([128, 1]))\n",
      "Creating lag features for train set with lags: [3, 5, 9]\n",
      "Creating lag features for val set with lags: [3, 5, 9]\n",
      "Creating lag features for test set with lags: [3, 5, 9]\n",
      "Creating rolling stats for train set with windows: [22]\n",
      "Creating rolling stats for val set with windows: [22]\n",
      "Creating rolling stats for test set with windows: [22]\n",
      "Using 17 features: ['TCW', 'TCLW', 'R250', 'R500', 'R850', 'U850', 'V850', 'EWSS', 'KX', 'CAPE', 'SSHF', 'PEV', 'AWS_lag3', 'AWS_lag5', 'AWS_lag9', 'AWS_rollmean_22', 'AWS_rollstd_22']\n",
      "✅ Data shapes - Train: torch.Size([8035, 27, 17]), Val: torch.Size([9308, 27, 17]), Test: torch.Size([12388, 27, 17])\n",
      "Error in fold fold_1: Target size (torch.Size([128, 2])) must be the same as input size (torch.Size([128, 1]))\n",
      "Creating lag features for train set with lags: [3, 5, 9]\n",
      "Creating lag features for val set with lags: [3, 5, 9]\n",
      "Creating lag features for test set with lags: [3, 5, 9]\n",
      "Creating rolling stats for train set with windows: [22]\n",
      "Creating rolling stats for val set with windows: [22]\n",
      "Creating rolling stats for test set with windows: [22]\n",
      "Using 17 features: ['TCW', 'TCLW', 'R250', 'R500', 'R850', 'U850', 'V850', 'EWSS', 'KX', 'CAPE', 'SSHF', 'PEV', 'AWS_lag3', 'AWS_lag5', 'AWS_lag9', 'AWS_rollmean_22', 'AWS_rollstd_22']\n",
      "✅ Data shapes - Train: torch.Size([19074, 27, 17]), Val: torch.Size([9307, 27, 17]), Test: torch.Size([12207, 27, 17])\n",
      "Error in fold fold_2: Target size (torch.Size([128, 2])) must be the same as input size (torch.Size([128, 1]))\n",
      "Creating lag features for train set with lags: [3, 5, 9]\n",
      "Creating lag features for val set with lags: [3, 5, 9]\n",
      "Creating lag features for test set with lags: [3, 5, 9]\n",
      "Creating rolling stats for train set with windows: [22]\n",
      "Creating rolling stats for val set with windows: [22]\n",
      "Creating rolling stats for test set with windows: [22]\n",
      "Using 17 features: ['TCW', 'TCLW', 'R250', 'R500', 'R850', 'U850', 'V850', 'EWSS', 'KX', 'CAPE', 'SSHF', 'PEV', 'AWS_lag3', 'AWS_lag5', 'AWS_lag9', 'AWS_rollmean_22', 'AWS_rollstd_22']\n",
      "✅ Data shapes - Train: torch.Size([30114, 27, 17]), Val: torch.Size([9067, 27, 17]), Test: torch.Size([11931, 27, 17])\n",
      "Error in fold fold_3: Target size (torch.Size([128, 2])) must be the same as input size (torch.Size([128, 1]))\n",
      "Creating lag features for train set with lags: [3, 5, 9]\n",
      "Creating lag features for val set with lags: [3, 5, 9]\n",
      "Creating lag features for test set with lags: [3, 5, 9]\n",
      "Creating rolling stats for train set with windows: [22]\n",
      "Creating rolling stats for val set with windows: [22]\n",
      "Creating rolling stats for test set with windows: [22]\n",
      "Using 17 features: ['TCW', 'TCLW', 'R250', 'R500', 'R850', 'U850', 'V850', 'EWSS', 'KX', 'CAPE', 'SSHF', 'PEV', 'AWS_lag3', 'AWS_lag5', 'AWS_lag9', 'AWS_rollmean_22', 'AWS_rollstd_22']\n",
      "✅ Data shapes - Train: torch.Size([41154, 27, 17]), Val: torch.Size([8756, 27, 17]), Test: torch.Size([11501, 27, 17])\n",
      "Error in fold fold_4: Target size (torch.Size([128, 2])) must be the same as input size (torch.Size([128, 1]))\n",
      "Creating lag features for train set with lags: [3, 5, 9]\n",
      "Creating lag features for val set with lags: [3, 5, 9]\n",
      "Creating lag features for test set with lags: [3, 5, 9]\n",
      "Creating rolling stats for train set with windows: [22]\n",
      "Creating rolling stats for val set with windows: [22]\n",
      "Creating rolling stats for test set with windows: [22]\n",
      "Using 17 features: ['TCW', 'TCLW', 'R250', 'R500', 'R850', 'U850', 'V850', 'EWSS', 'KX', 'CAPE', 'SSHF', 'PEV', 'AWS_lag3', 'AWS_lag5', 'AWS_lag9', 'AWS_rollmean_22', 'AWS_rollstd_22']\n"
     ]
    },
    {
     "name": "stderr",
     "output_type": "stream",
     "text": [
      "[I 2025-04-23 17:21:01,350] Trial 4 finished with value: inf and parameters: {'hidden_size': 177, 'num_layers': 2, 'dropout': 0.0016057807543136682, 'lr': 0.0001816627402745316, 'time_step_in': 27, 'time_step_out': 2, 'stride': 3, 'binary_weight': 0.707449706146227, 'intensity_weight': 1.176210434036373, 'regression_weight': 1.7666403028351159, 'rain_threshold': 0.15129449977735485, 'num_lags': 3, 'lag_0': 3, 'lag_1': 5, 'lag_2': 9, 'num_windows': 1, 'window_0': 22}. Best is trial 1 with value: 1.1765066623687743.\n"
     ]
    },
    {
     "name": "stdout",
     "output_type": "stream",
     "text": [
      "✅ Data shapes - Train: torch.Size([52194, 27, 17]), Val: torch.Size([8424, 27, 17]), Test: torch.Size([11188, 27, 17])\n",
      "Error in fold fold_5: Target size (torch.Size([128, 2])) must be the same as input size (torch.Size([128, 1]))\n",
      "Creating lag features for train set with lags: [1, 3, 11]\n",
      "Creating lag features for val set with lags: [1, 3, 11]\n",
      "Creating lag features for test set with lags: [1, 3, 11]\n",
      "Creating rolling stats for train set with windows: [24, 19]\n",
      "Creating rolling stats for val set with windows: [24, 19]\n",
      "Creating rolling stats for test set with windows: [24, 19]\n",
      "Using 19 features: ['TCW', 'TCLW', 'R250', 'R500', 'R850', 'U850', 'V850', 'EWSS', 'KX', 'CAPE', 'SSHF', 'PEV', 'AWS_lag1', 'AWS_lag3', 'AWS_lag11', 'AWS_rollmean_24', 'AWS_rollstd_24', 'AWS_rollmean_19', 'AWS_rollstd_19']\n",
      "✅ Data shapes - Train: torch.Size([5610, 35, 19]), Val: torch.Size([6714, 35, 19]), Test: torch.Size([9015, 35, 19])\n",
      "  🌀 Epoch 1/5, Total Loss: 6.8537, Binary: 0.6370, Intensity: 0.8884, Regression: 4.2795\n",
      "  🌀 Epoch 2/5, Total Loss: 5.0738, Binary: 0.4710, Intensity: 0.5186, Regression: 3.2667\n",
      "  🌀 Epoch 3/5, Total Loss: 4.8076, Binary: 0.4011, Intensity: 0.4735, Regression: 3.1732\n",
      "  🌀 Epoch 4/5, Total Loss: 4.5399, Binary: 0.3438, Intensity: 0.4281, Regression: 3.0603\n",
      "  🌀 Epoch 5/5, Total Loss: 4.4409, Binary: 0.3252, Intensity: 0.4121, Regression: 3.0142\n",
      "Creating lag features for train set with lags: [1, 3, 11]\n",
      "Creating lag features for val set with lags: [1, 3, 11]\n",
      "Creating lag features for test set with lags: [1, 3, 11]\n",
      "Creating rolling stats for train set with windows: [24, 19]\n",
      "Creating rolling stats for val set with windows: [24, 19]\n",
      "Creating rolling stats for test set with windows: [24, 19]\n",
      "Using 19 features: ['TCW', 'TCLW', 'R250', 'R500', 'R850', 'U850', 'V850', 'EWSS', 'KX', 'CAPE', 'SSHF', 'PEV', 'AWS_lag1', 'AWS_lag3', 'AWS_lag11', 'AWS_rollmean_24', 'AWS_rollstd_24', 'AWS_rollmean_19', 'AWS_rollstd_19']\n",
      "✅ Data shapes - Train: torch.Size([13888, 35, 19]), Val: torch.Size([6692, 35, 19]), Test: torch.Size([8824, 35, 19])\n",
      "  🌀 Epoch 1/5, Total Loss: 6.1527, Binary: 0.5531, Intensity: 0.5872, Regression: 4.0167\n",
      "  🌀 Epoch 2/5, Total Loss: 4.8340, Binary: 0.3665, Intensity: 0.4383, Regression: 3.2703\n",
      "  🌀 Epoch 3/5, Total Loss: 4.6198, Binary: 0.3259, Intensity: 0.4069, Regression: 3.1689\n",
      "  🌀 Epoch 4/5, Total Loss: 4.4433, Binary: 0.3151, Intensity: 0.3971, Regression: 3.0415\n",
      "  🌀 Epoch 5/5, Total Loss: 4.4341, Binary: 0.3103, Intensity: 0.3989, Regression: 3.0393\n",
      "Creating lag features for train set with lags: [1, 3, 11]\n",
      "Creating lag features for val set with lags: [1, 3, 11]\n",
      "Creating lag features for test set with lags: [1, 3, 11]\n",
      "Creating rolling stats for train set with windows: [24, 19]\n",
      "Creating rolling stats for val set with windows: [24, 19]\n",
      "Creating rolling stats for test set with windows: [24, 19]\n",
      "Using 19 features: ['TCW', 'TCLW', 'R250', 'R500', 'R850', 'U850', 'V850', 'EWSS', 'KX', 'CAPE', 'SSHF', 'PEV', 'AWS_lag1', 'AWS_lag3', 'AWS_lag11', 'AWS_rollmean_24', 'AWS_rollstd_24', 'AWS_rollmean_19', 'AWS_rollstd_19']\n",
      "✅ Data shapes - Train: torch.Size([22168, 35, 19]), Val: torch.Size([6494, 35, 19]), Test: torch.Size([8586, 35, 19])\n",
      "  🌀 Epoch 1/5, Total Loss: 5.7831, Binary: 0.4711, Intensity: 0.5470, Regression: 3.8493\n",
      "  🌀 Epoch 2/5, Total Loss: 4.7825, Binary: 0.3262, Intensity: 0.4202, Regression: 3.2975\n",
      "  🌀 Epoch 3/5, Total Loss: 4.6403, Binary: 0.3078, Intensity: 0.4071, Regression: 3.2124\n",
      "  🌀 Epoch 4/5, Total Loss: 4.3375, Binary: 0.3069, Intensity: 0.3943, Regression: 2.9653\n",
      "  🌀 Epoch 5/5, Total Loss: 4.2077, Binary: 0.2955, Intensity: 0.3846, Regression: 2.8784\n",
      "Creating lag features for train set with lags: [1, 3, 11]\n",
      "Creating lag features for val set with lags: [1, 3, 11]\n",
      "Creating lag features for test set with lags: [1, 3, 11]\n",
      "Creating rolling stats for train set with windows: [24, 19]\n",
      "Creating rolling stats for val set with windows: [24, 19]\n",
      "Creating rolling stats for test set with windows: [24, 19]\n",
      "Using 19 features: ['TCW', 'TCLW', 'R250', 'R500', 'R850', 'U850', 'V850', 'EWSS', 'KX', 'CAPE', 'SSHF', 'PEV', 'AWS_lag1', 'AWS_lag3', 'AWS_lag11', 'AWS_rollmean_24', 'AWS_rollstd_24', 'AWS_rollmean_19', 'AWS_rollstd_19']\n",
      "✅ Data shapes - Train: torch.Size([30448, 35, 19]), Val: torch.Size([6202, 35, 19]), Test: torch.Size([8223, 35, 19])\n",
      "  🌀 Epoch 1/5, Total Loss: 5.4703, Binary: 0.4269, Intensity: 0.5375, Regression: 3.6541\n",
      "  🌀 Epoch 2/5, Total Loss: 4.6236, Binary: 0.3091, Intensity: 0.4073, Regression: 3.1961\n",
      "  🌀 Epoch 3/5, Total Loss: 4.4104, Binary: 0.3012, Intensity: 0.3958, Regression: 3.0345\n",
      "  🌀 Epoch 4/5, Total Loss: 4.2800, Binary: 0.2958, Intensity: 0.3880, Regression: 2.9369\n",
      "  🌀 Epoch 5/5, Total Loss: 4.2083, Binary: 0.2914, Intensity: 0.3826, Regression: 2.8863\n",
      "Creating lag features for train set with lags: [1, 3, 11]\n",
      "Creating lag features for val set with lags: [1, 3, 11]\n",
      "Creating lag features for test set with lags: [1, 3, 11]\n",
      "Creating rolling stats for train set with windows: [24, 19]\n",
      "Creating rolling stats for val set with windows: [24, 19]\n",
      "Creating rolling stats for test set with windows: [24, 19]\n",
      "Using 19 features: ['TCW', 'TCLW', 'R250', 'R500', 'R850', 'U850', 'V850', 'EWSS', 'KX', 'CAPE', 'SSHF', 'PEV', 'AWS_lag1', 'AWS_lag3', 'AWS_lag11', 'AWS_rollmean_24', 'AWS_rollstd_24', 'AWS_rollmean_19', 'AWS_rollstd_19']\n",
      "✅ Data shapes - Train: torch.Size([38728, 35, 19]), Val: torch.Size([5938, 35, 19]), Test: torch.Size([7928, 35, 19])\n",
      "  🌀 Epoch 1/5, Total Loss: 5.4281, Binary: 0.4332, Intensity: 0.5060, Regression: 3.6312\n",
      "  🌀 Epoch 2/5, Total Loss: 4.5363, Binary: 0.3200, Intensity: 0.4030, Regression: 3.1093\n",
      "  🌀 Epoch 3/5, Total Loss: 4.3877, Binary: 0.3087, Intensity: 0.3927, Regression: 3.0065\n",
      "  🌀 Epoch 4/5, Total Loss: 4.3143, Binary: 0.3016, Intensity: 0.3883, Regression: 2.9575\n",
      "  🌀 Epoch 5/5, Total Loss: 4.1677, Binary: 0.2959, Intensity: 0.3790, Regression: 2.8478\n"
     ]
    },
    {
     "name": "stderr",
     "output_type": "stream",
     "text": [
      "[I 2025-04-23 17:22:22,081] Trial 5 finished with value: 1.1072408318519593 and parameters: {'hidden_size': 193, 'num_layers': 2, 'dropout': 0.20565669228839661, 'lr': 0.0019146775895582896, 'time_step_in': 35, 'time_step_out': 1, 'stride': 4, 'binary_weight': 1.699392264942209, 'intensity_weight': 0.8271359629672977, 'regression_weight': 1.1768604785324315, 'rain_threshold': 0.07952017147674192, 'num_lags': 3, 'lag_0': 1, 'lag_1': 3, 'lag_2': 11, 'num_windows': 2, 'window_0': 24, 'window_1': 19}. Best is trial 5 with value: 1.1072408318519593.\n"
     ]
    },
    {
     "name": "stdout",
     "output_type": "stream",
     "text": [
      "Creating lag features for train set with lags: [1]\n",
      "Creating lag features for val set with lags: [1]\n",
      "Creating lag features for test set with lags: [1]\n",
      "Creating rolling stats for train set with windows: [17]\n",
      "Creating rolling stats for val set with windows: [17]\n",
      "Creating rolling stats for test set with windows: [17]\n",
      "Using 15 features: ['TCW', 'TCLW', 'R250', 'R500', 'R850', 'U850', 'V850', 'EWSS', 'KX', 'CAPE', 'SSHF', 'PEV', 'AWS_lag1', 'AWS_rollmean_17', 'AWS_rollstd_17']\n",
      "✅ Data shapes - Train: torch.Size([6703, 40, 15]), Val: torch.Size([8570, 40, 15]), Test: torch.Size([11675, 40, 15])\n",
      "  🌀 Epoch 1/5, Total Loss: 5.3009, Binary: 0.6133, Intensity: 0.8047, Regression: 4.4714\n",
      "  🌀 Epoch 2/5, Total Loss: 3.9991, Binary: 0.4433, Intensity: 0.4837, Regression: 3.4782\n",
      "  🌀 Epoch 3/5, Total Loss: 3.7220, Binary: 0.3913, Intensity: 0.4559, Regression: 3.2584\n",
      "  🌀 Epoch 4/5, Total Loss: 3.7357, Binary: 0.3708, Intensity: 0.4390, Regression: 3.3083\n",
      "  🌀 Epoch 5/5, Total Loss: 3.6809, Binary: 0.3512, Intensity: 0.4271, Regression: 3.2798\n",
      "Creating lag features for train set with lags: [1]\n",
      "Creating lag features for val set with lags: [1]\n",
      "Creating lag features for test set with lags: [1]\n",
      "Creating rolling stats for train set with windows: [17]\n",
      "Creating rolling stats for val set with windows: [17]\n",
      "Creating rolling stats for test set with windows: [17]\n",
      "Using 15 features: ['TCW', 'TCLW', 'R250', 'R500', 'R850', 'U850', 'V850', 'EWSS', 'KX', 'CAPE', 'SSHF', 'PEV', 'AWS_lag1', 'AWS_rollmean_17', 'AWS_rollstd_17']\n",
      "✅ Data shapes - Train: torch.Size([17738, 40, 15]), Val: torch.Size([8580, 40, 15]), Test: torch.Size([11395, 40, 15])\n",
      "  🌀 Epoch 1/5, Total Loss: 4.8339, Binary: 0.5767, Intensity: 0.5934, Regression: 4.1508\n",
      "  🌀 Epoch 2/5, Total Loss: 3.9298, Binary: 0.4210, Intensity: 0.4435, Regression: 3.4563\n",
      "  🌀 Epoch 3/5, Total Loss: 3.7406, Binary: 0.3810, Intensity: 0.4290, Regression: 3.3083\n",
      "  🌀 Epoch 4/5, Total Loss: 3.5429, Binary: 0.3274, Intensity: 0.4057, Regression: 3.1729\n",
      "  🌀 Epoch 5/5, Total Loss: 3.4553, Binary: 0.3190, Intensity: 0.3938, Regression: 3.0960\n",
      "Creating lag features for train set with lags: [1]\n",
      "Creating lag features for val set with lags: [1]\n",
      "Creating lag features for test set with lags: [1]\n",
      "Creating rolling stats for train set with windows: [17]\n",
      "Creating rolling stats for val set with windows: [17]\n",
      "Creating rolling stats for test set with windows: [17]\n",
      "Using 15 features: ['TCW', 'TCLW', 'R250', 'R500', 'R850', 'U850', 'V850', 'EWSS', 'KX', 'CAPE', 'SSHF', 'PEV', 'AWS_lag1', 'AWS_rollmean_17', 'AWS_rollstd_17']\n",
      "✅ Data shapes - Train: torch.Size([28778, 40, 15]), Val: torch.Size([8241, 40, 15]), Test: torch.Size([10991, 40, 15])\n",
      "  🌀 Epoch 1/5, Total Loss: 4.2537, Binary: 0.4654, Intensity: 0.5171, Regression: 3.7050\n",
      "  🌀 Epoch 2/5, Total Loss: 3.7455, Binary: 0.3452, Intensity: 0.4298, Regression: 3.3549\n",
      "  🌀 Epoch 3/5, Total Loss: 3.5512, Binary: 0.3225, Intensity: 0.4052, Regression: 3.1880\n",
      "  🌀 Epoch 4/5, Total Loss: 3.3756, Binary: 0.3047, Intensity: 0.3918, Regression: 3.0281\n",
      "  🌀 Epoch 5/5, Total Loss: 3.3643, Binary: 0.3044, Intensity: 0.3887, Regression: 3.0183\n",
      "Creating lag features for train set with lags: [1]\n",
      "Creating lag features for val set with lags: [1]\n",
      "Creating lag features for test set with lags: [1]\n",
      "Creating rolling stats for train set with windows: [17]\n",
      "Creating rolling stats for val set with windows: [17]\n",
      "Creating rolling stats for test set with windows: [17]\n",
      "Using 15 features: ['TCW', 'TCLW', 'R250', 'R500', 'R850', 'U850', 'V850', 'EWSS', 'KX', 'CAPE', 'SSHF', 'PEV', 'AWS_lag1', 'AWS_rollmean_17', 'AWS_rollstd_17']\n",
      "✅ Data shapes - Train: torch.Size([39818, 40, 15]), Val: torch.Size([7787, 40, 15]), Test: torch.Size([10390, 40, 15])\n",
      "  🌀 Epoch 1/5, Total Loss: 4.1129, Binary: 0.4308, Intensity: 0.4875, Regression: 3.6132\n",
      "  🌀 Epoch 2/5, Total Loss: 3.5506, Binary: 0.3171, Intensity: 0.4075, Regression: 3.1921\n",
      "  🌀 Epoch 3/5, Total Loss: 3.4452, Binary: 0.3057, Intensity: 0.4029, Regression: 3.0948\n",
      "  🌀 Epoch 4/5, Total Loss: 3.3287, Binary: 0.2932, Intensity: 0.3924, Regression: 2.9904\n",
      "  🌀 Epoch 5/5, Total Loss: 3.2618, Binary: 0.2908, Intensity: 0.3864, Regression: 2.9249\n",
      "Creating lag features for train set with lags: [1]\n",
      "Creating lag features for val set with lags: [1]\n",
      "Creating lag features for test set with lags: [1]\n",
      "Creating rolling stats for train set with windows: [17]\n",
      "Creating rolling stats for val set with windows: [17]\n",
      "Creating rolling stats for test set with windows: [17]\n",
      "Using 15 features: ['TCW', 'TCLW', 'R250', 'R500', 'R850', 'U850', 'V850', 'EWSS', 'KX', 'CAPE', 'SSHF', 'PEV', 'AWS_lag1', 'AWS_rollmean_17', 'AWS_rollstd_17']\n",
      "✅ Data shapes - Train: torch.Size([50858, 40, 15]), Val: torch.Size([7312, 40, 15]), Test: torch.Size([9993, 40, 15])\n",
      "  🌀 Epoch 1/5, Total Loss: 4.2743, Binary: 0.4980, Intensity: 0.4904, Regression: 3.7071\n",
      "  🌀 Epoch 2/5, Total Loss: 3.6742, Binary: 0.3954, Intensity: 0.4257, Regression: 3.2221\n",
      "  🌀 Epoch 3/5, Total Loss: 3.4759, Binary: 0.3251, Intensity: 0.4009, Regression: 3.1065\n",
      "  🌀 Epoch 4/5, Total Loss: 3.3903, Binary: 0.3050, Intensity: 0.3982, Regression: 3.0393\n"
     ]
    },
    {
     "name": "stderr",
     "output_type": "stream",
     "text": [
      "[I 2025-04-23 17:23:30,515] Trial 6 finished with value: 1.0956500172615051 and parameters: {'hidden_size': 88, 'num_layers': 2, 'dropout': 0.20225490675051983, 'lr': 0.0061678193978420195, 'time_step_in': 40, 'time_step_out': 1, 'stride': 3, 'binary_weight': 1.0809442106466172, 'intensity_weight': 0.6181431963106964, 'regression_weight': 0.9260169023217123, 'rain_threshold': 0.051550977832779545, 'num_lags': 1, 'lag_0': 1, 'num_windows': 1, 'window_0': 17}. Best is trial 6 with value: 1.0956500172615051.\n"
     ]
    },
    {
     "name": "stdout",
     "output_type": "stream",
     "text": [
      "  🌀 Epoch 5/5, Total Loss: 3.3393, Binary: 0.2990, Intensity: 0.3927, Regression: 2.9949\n",
      "Creating lag features for train set with lags: [8, 6, 4]\n",
      "Creating lag features for val set with lags: [8, 6, 4]\n",
      "Creating lag features for test set with lags: [8, 6, 4]\n",
      "Creating rolling stats for train set with windows: [11, 10]\n",
      "Creating rolling stats for val set with windows: [11, 10]\n",
      "Creating rolling stats for test set with windows: [11, 10]\n",
      "Using 19 features: ['TCW', 'TCLW', 'R250', 'R500', 'R850', 'U850', 'V850', 'EWSS', 'KX', 'CAPE', 'SSHF', 'PEV', 'AWS_lag8', 'AWS_lag6', 'AWS_lag4', 'AWS_rollmean_11', 'AWS_rollstd_11', 'AWS_rollmean_10', 'AWS_rollstd_10']\n",
      "✅ Data shapes - Train: torch.Size([8368, 22, 19]), Val: torch.Size([9498, 22, 19]), Test: torch.Size([12569, 22, 19])\n",
      "Error in fold fold_1: Target size (torch.Size([128, 4])) must be the same as input size (torch.Size([128, 1]))\n",
      "Creating lag features for train set with lags: [8, 6, 4]\n",
      "Creating lag features for val set with lags: [8, 6, 4]\n"
     ]
    },
    {
     "name": "stderr",
     "output_type": "stream",
     "text": [
      "/usr/local/lib/python3.10/dist-packages/torch/nn/modules/rnn.py:123: UserWarning: dropout option adds dropout after all but last recurrent layer, so non-zero dropout expects num_layers greater than 1, but got dropout=0.09252717544915084 and num_layers=1\n",
      "  warnings.warn(\n"
     ]
    },
    {
     "name": "stdout",
     "output_type": "stream",
     "text": [
      "Creating lag features for test set with lags: [8, 6, 4]\n",
      "Creating rolling stats for train set with windows: [11, 10]\n",
      "Creating rolling stats for val set with windows: [11, 10]\n",
      "Creating rolling stats for test set with windows: [11, 10]\n",
      "Using 19 features: ['TCW', 'TCLW', 'R250', 'R500', 'R850', 'U850', 'V850', 'EWSS', 'KX', 'CAPE', 'SSHF', 'PEV', 'AWS_lag8', 'AWS_lag6', 'AWS_lag4', 'AWS_rollmean_11', 'AWS_rollstd_11', 'AWS_rollmean_10', 'AWS_rollstd_10']\n",
      "✅ Data shapes - Train: torch.Size([19408, 22, 19]), Val: torch.Size([9497, 22, 19]), Test: torch.Size([12410, 22, 19])\n",
      "Error in fold fold_2: Target size (torch.Size([128, 4])) must be the same as input size (torch.Size([128, 1]))\n",
      "Creating lag features for train set with lags: [8, 6, 4]\n",
      "Creating lag features for val set with lags: [8, 6, 4]\n"
     ]
    },
    {
     "name": "stderr",
     "output_type": "stream",
     "text": [
      "/usr/local/lib/python3.10/dist-packages/torch/nn/modules/rnn.py:123: UserWarning: dropout option adds dropout after all but last recurrent layer, so non-zero dropout expects num_layers greater than 1, but got dropout=0.09252717544915084 and num_layers=1\n",
      "  warnings.warn(\n"
     ]
    },
    {
     "name": "stdout",
     "output_type": "stream",
     "text": [
      "Creating lag features for test set with lags: [8, 6, 4]\n",
      "Creating rolling stats for train set with windows: [11, 10]\n",
      "Creating rolling stats for val set with windows: [11, 10]\n",
      "Creating rolling stats for test set with windows: [11, 10]\n",
      "Using 19 features: ['TCW', 'TCLW', 'R250', 'R500', 'R850', 'U850', 'V850', 'EWSS', 'KX', 'CAPE', 'SSHF', 'PEV', 'AWS_lag8', 'AWS_lag6', 'AWS_lag4', 'AWS_rollmean_11', 'AWS_rollstd_11', 'AWS_rollmean_10', 'AWS_rollstd_10']\n",
      "✅ Data shapes - Train: torch.Size([30448, 22, 19]), Val: torch.Size([9279, 22, 19]), Test: torch.Size([12167, 22, 19])\n",
      "Error in fold fold_3: Target size (torch.Size([128, 4])) must be the same as input size (torch.Size([128, 1]))\n",
      "Creating lag features for train set with lags: [8, 6, 4]\n",
      "Creating lag features for val set with lags: [8, 6, 4]\n"
     ]
    },
    {
     "name": "stderr",
     "output_type": "stream",
     "text": [
      "/usr/local/lib/python3.10/dist-packages/torch/nn/modules/rnn.py:123: UserWarning: dropout option adds dropout after all but last recurrent layer, so non-zero dropout expects num_layers greater than 1, but got dropout=0.09252717544915084 and num_layers=1\n",
      "  warnings.warn(\n"
     ]
    },
    {
     "name": "stdout",
     "output_type": "stream",
     "text": [
      "Creating lag features for test set with lags: [8, 6, 4]\n",
      "Creating rolling stats for train set with windows: [11, 10]\n",
      "Creating rolling stats for val set with windows: [11, 10]\n",
      "Creating rolling stats for test set with windows: [11, 10]\n",
      "Using 19 features: ['TCW', 'TCLW', 'R250', 'R500', 'R850', 'U850', 'V850', 'EWSS', 'KX', 'CAPE', 'SSHF', 'PEV', 'AWS_lag8', 'AWS_lag6', 'AWS_lag4', 'AWS_rollmean_11', 'AWS_rollstd_11', 'AWS_rollmean_10', 'AWS_rollstd_10']\n",
      "✅ Data shapes - Train: torch.Size([41488, 22, 19]), Val: torch.Size([9001, 22, 19]), Test: torch.Size([11781, 22, 19])\n",
      "Error in fold fold_4: Target size (torch.Size([128, 4])) must be the same as input size (torch.Size([128, 1]))\n",
      "Creating lag features for train set with lags: [8, 6, 4]\n",
      "Creating lag features for val set with lags: [8, 6, 4]\n"
     ]
    },
    {
     "name": "stderr",
     "output_type": "stream",
     "text": [
      "/usr/local/lib/python3.10/dist-packages/torch/nn/modules/rnn.py:123: UserWarning: dropout option adds dropout after all but last recurrent layer, so non-zero dropout expects num_layers greater than 1, but got dropout=0.09252717544915084 and num_layers=1\n",
      "  warnings.warn(\n"
     ]
    },
    {
     "name": "stdout",
     "output_type": "stream",
     "text": [
      "Creating lag features for test set with lags: [8, 6, 4]\n",
      "Creating rolling stats for train set with windows: [11, 10]\n",
      "Creating rolling stats for val set with windows: [11, 10]\n",
      "Creating rolling stats for test set with windows: [11, 10]\n",
      "Using 19 features: ['TCW', 'TCLW', 'R250', 'R500', 'R850', 'U850', 'V850', 'EWSS', 'KX', 'CAPE', 'SSHF', 'PEV', 'AWS_lag8', 'AWS_lag6', 'AWS_lag4', 'AWS_rollmean_11', 'AWS_rollstd_11', 'AWS_rollmean_10', 'AWS_rollstd_10']\n"
     ]
    },
    {
     "name": "stderr",
     "output_type": "stream",
     "text": [
      "/usr/local/lib/python3.10/dist-packages/torch/nn/modules/rnn.py:123: UserWarning: dropout option adds dropout after all but last recurrent layer, so non-zero dropout expects num_layers greater than 1, but got dropout=0.09252717544915084 and num_layers=1\n",
      "  warnings.warn(\n",
      "[I 2025-04-23 17:24:03,087] Trial 7 finished with value: inf and parameters: {'hidden_size': 164, 'num_layers': 1, 'dropout': 0.09252717544915084, 'lr': 0.0005717198210789599, 'time_step_in': 22, 'time_step_out': 4, 'stride': 3, 'binary_weight': 0.7812369445279406, 'intensity_weight': 1.6604537351434434, 'regression_weight': 1.6601309602744792, 'rain_threshold': 0.09952385480836191, 'num_lags': 3, 'lag_0': 8, 'lag_1': 6, 'lag_2': 4, 'num_windows': 2, 'window_0': 11, 'window_1': 10}. Best is trial 6 with value: 1.0956500172615051.\n"
     ]
    },
    {
     "name": "stdout",
     "output_type": "stream",
     "text": [
      "✅ Data shapes - Train: torch.Size([52528, 22, 19]), Val: torch.Size([8702, 22, 19]), Test: torch.Size([11511, 22, 19])\n",
      "Error in fold fold_5: Target size (torch.Size([128, 4])) must be the same as input size (torch.Size([128, 1]))\n",
      "Creating lag features for train set with lags: [5, 8, 7]\n",
      "Creating lag features for val set with lags: [5, 8, 7]\n",
      "Creating lag features for test set with lags: [5, 8, 7]\n",
      "Creating rolling stats for train set with windows: [12, 22]\n",
      "Creating rolling stats for val set with windows: [12, 22]\n",
      "Creating rolling stats for test set with windows: [12, 22]\n",
      "Using 19 features: ['TCW', 'TCLW', 'R250', 'R500', 'R850', 'U850', 'V850', 'EWSS', 'KX', 'CAPE', 'SSHF', 'PEV', 'AWS_lag5', 'AWS_lag8', 'AWS_lag7', 'AWS_rollmean_12', 'AWS_rollstd_12', 'AWS_rollmean_22', 'AWS_rollstd_22']\n",
      "✅ Data shapes - Train: torch.Size([27108, 14, 19]), Val: torch.Size([29604, 14, 19]), Test: torch.Size([38900, 14, 19])\n",
      "Error in fold fold_1: Target size (torch.Size([128, 5])) must be the same as input size (torch.Size([128, 1]))\n",
      "Creating lag features for train set with lags: [5, 8, 7]\n",
      "Creating lag features for val set with lags: [5, 8, 7]\n",
      "Creating lag features for test set with lags: [5, 8, 7]\n",
      "Creating rolling stats for train set with windows: [12, 22]\n",
      "Creating rolling stats for val set with windows: [12, 22]\n",
      "Creating rolling stats for test set with windows: [12, 22]\n",
      "Using 19 features: ['TCW', 'TCLW', 'R250', 'R500', 'R850', 'U850', 'V850', 'EWSS', 'KX', 'CAPE', 'SSHF', 'PEV', 'AWS_lag5', 'AWS_lag8', 'AWS_lag7', 'AWS_rollmean_12', 'AWS_rollstd_12', 'AWS_rollmean_22', 'AWS_rollstd_22']\n",
      "✅ Data shapes - Train: torch.Size([60228, 14, 19]), Val: torch.Size([29639, 14, 19]), Test: torch.Size([38503, 14, 19])\n",
      "Error in fold fold_2: Target size (torch.Size([128, 5])) must be the same as input size (torch.Size([128, 1]))\n",
      "Creating lag features for train set with lags: [5, 8, 7]\n",
      "Creating lag features for val set with lags: [5, 8, 7]\n",
      "Creating lag features for test set with lags: [5, 8, 7]\n",
      "Creating rolling stats for train set with windows: [12, 22]\n",
      "Creating rolling stats for val set with windows: [12, 22]\n",
      "Creating rolling stats for test set with windows: [12, 22]\n",
      "Using 19 features: ['TCW', 'TCLW', 'R250', 'R500', 'R850', 'U850', 'V850', 'EWSS', 'KX', 'CAPE', 'SSHF', 'PEV', 'AWS_lag5', 'AWS_lag8', 'AWS_lag7', 'AWS_rollmean_12', 'AWS_rollstd_12', 'AWS_rollmean_22', 'AWS_rollstd_22']\n",
      "✅ Data shapes - Train: torch.Size([93348, 14, 19]), Val: torch.Size([29194, 14, 19]), Test: torch.Size([37812, 14, 19])\n",
      "Error in fold fold_3: Target size (torch.Size([128, 5])) must be the same as input size (torch.Size([128, 1]))\n",
      "Creating lag features for train set with lags: [5, 8, 7]\n",
      "Creating lag features for val set with lags: [5, 8, 7]\n",
      "Creating lag features for test set with lags: [5, 8, 7]\n",
      "Creating rolling stats for train set with windows: [12, 22]\n",
      "Creating rolling stats for val set with windows: [12, 22]\n",
      "Creating rolling stats for test set with windows: [12, 22]\n",
      "Using 19 features: ['TCW', 'TCLW', 'R250', 'R500', 'R850', 'U850', 'V850', 'EWSS', 'KX', 'CAPE', 'SSHF', 'PEV', 'AWS_lag5', 'AWS_lag8', 'AWS_lag7', 'AWS_rollmean_12', 'AWS_rollstd_12', 'AWS_rollmean_22', 'AWS_rollstd_22']\n",
      "✅ Data shapes - Train: torch.Size([126468, 14, 19]), Val: torch.Size([28567, 14, 19]), Test: torch.Size([37155, 14, 19])\n",
      "Error in fold fold_4: Target size (torch.Size([128, 5])) must be the same as input size (torch.Size([128, 1]))\n",
      "Creating lag features for train set with lags: [5, 8, 7]\n",
      "Creating lag features for val set with lags: [5, 8, 7]\n",
      "Creating lag features for test set with lags: [5, 8, 7]\n",
      "Creating rolling stats for train set with windows: [12, 22]\n",
      "Creating rolling stats for val set with windows: [12, 22]\n",
      "Creating rolling stats for test set with windows: [12, 22]\n",
      "Using 19 features: ['TCW', 'TCLW', 'R250', 'R500', 'R850', 'U850', 'V850', 'EWSS', 'KX', 'CAPE', 'SSHF', 'PEV', 'AWS_lag5', 'AWS_lag8', 'AWS_lag7', 'AWS_rollmean_12', 'AWS_rollstd_12', 'AWS_rollmean_22', 'AWS_rollstd_22']\n"
     ]
    },
    {
     "name": "stderr",
     "output_type": "stream",
     "text": [
      "[I 2025-04-23 17:24:57,324] Trial 8 finished with value: inf and parameters: {'hidden_size': 93, 'num_layers': 3, 'dropout': 0.15266494332964253, 'lr': 0.008311423605060876, 'time_step_in': 14, 'time_step_out': 5, 'stride': 1, 'binary_weight': 1.401452530991458, 'intensity_weight': 0.9258299542758033, 'regression_weight': 1.8758341163226215, 'rain_threshold': 0.055339145409518516, 'num_lags': 3, 'lag_0': 5, 'lag_1': 8, 'lag_2': 7, 'num_windows': 2, 'window_0': 12, 'window_1': 22}. Best is trial 6 with value: 1.0956500172615051.\n"
     ]
    },
    {
     "name": "stdout",
     "output_type": "stream",
     "text": [
      "✅ Data shapes - Train: torch.Size([159588, 14, 19]), Val: torch.Size([27918, 14, 19]), Test: torch.Size([36549, 14, 19])\n",
      "Error in fold fold_5: Target size (torch.Size([128, 5])) must be the same as input size (torch.Size([128, 1]))\n",
      "Creating lag features for train set with lags: [9, 7]\n",
      "Creating lag features for val set with lags: [9, 7]\n",
      "Creating lag features for test set with lags: [9, 7]\n",
      "Creating rolling stats for train set with windows: [24, 17, 9]\n",
      "Creating rolling stats for val set with windows: [24, 17, 9]\n",
      "Creating rolling stats for test set with windows: [24, 17, 9]\n",
      "Using 20 features: ['TCW', 'TCLW', 'R250', 'R500', 'R850', 'U850', 'V850', 'EWSS', 'KX', 'CAPE', 'SSHF', 'PEV', 'AWS_lag9', 'AWS_lag7', 'AWS_rollmean_24', 'AWS_rollstd_24', 'AWS_rollmean_17', 'AWS_rollstd_17', 'AWS_rollmean_9', 'AWS_rollstd_9']\n",
      "✅ Data shapes - Train: torch.Size([8889, 44, 20]), Val: torch.Size([12196, 44, 20]), Test: torch.Size([16920, 44, 20])\n",
      "Error in fold fold_1: Target size (torch.Size([128, 4])) must be the same as input size (torch.Size([128, 1]))\n",
      "Creating lag features for train set with lags: [9, 7]\n",
      "Creating lag features for val set with lags: [9, 7]\n",
      "Creating lag features for test set with lags: [9, 7]\n",
      "Creating rolling stats for train set with windows: [24, 17, 9]\n",
      "Creating rolling stats for val set with windows: [24, 17, 9]\n",
      "Creating rolling stats for test set with windows: [24, 17, 9]\n",
      "Using 20 features: ['TCW', 'TCLW', 'R250', 'R500', 'R850', 'U850', 'V850', 'EWSS', 'KX', 'CAPE', 'SSHF', 'PEV', 'AWS_lag9', 'AWS_lag7', 'AWS_rollmean_24', 'AWS_rollstd_24', 'AWS_rollmean_17', 'AWS_rollstd_17', 'AWS_rollmean_9', 'AWS_rollstd_9']\n",
      "✅ Data shapes - Train: torch.Size([25438, 44, 20]), Val: torch.Size([12231, 44, 20]), Test: torch.Size([16346, 44, 20])\n",
      "Error in fold fold_2: Target size (torch.Size([128, 4])) must be the same as input size (torch.Size([128, 1]))\n",
      "Creating lag features for train set with lags: [9, 7]\n",
      "Creating lag features for val set with lags: [9, 7]\n",
      "Creating lag features for test set with lags: [9, 7]\n",
      "Creating rolling stats for train set with windows: [24, 17, 9]\n",
      "Creating rolling stats for val set with windows: [24, 17, 9]\n",
      "Creating rolling stats for test set with windows: [24, 17, 9]\n",
      "Using 20 features: ['TCW', 'TCLW', 'R250', 'R500', 'R850', 'U850', 'V850', 'EWSS', 'KX', 'CAPE', 'SSHF', 'PEV', 'AWS_lag9', 'AWS_lag7', 'AWS_rollmean_24', 'AWS_rollstd_24', 'AWS_rollmean_17', 'AWS_rollstd_17', 'AWS_rollmean_9', 'AWS_rollstd_9']\n",
      "✅ Data shapes - Train: torch.Size([41998, 44, 20]), Val: torch.Size([11657, 44, 20]), Test: torch.Size([15586, 44, 20])\n",
      "Error in fold fold_3: Target size (torch.Size([128, 4])) must be the same as input size (torch.Size([128, 1]))\n",
      "Creating lag features for train set with lags: [9, 7]\n",
      "Creating lag features for val set with lags: [9, 7]\n",
      "Creating lag features for test set with lags: [9, 7]\n",
      "Creating rolling stats for train set with windows: [24, 17, 9]\n",
      "Creating rolling stats for val set with windows: [24, 17, 9]\n",
      "Creating rolling stats for test set with windows: [24, 17, 9]\n",
      "Using 20 features: ['TCW', 'TCLW', 'R250', 'R500', 'R850', 'U850', 'V850', 'EWSS', 'KX', 'CAPE', 'SSHF', 'PEV', 'AWS_lag9', 'AWS_lag7', 'AWS_rollmean_24', 'AWS_rollstd_24', 'AWS_rollmean_17', 'AWS_rollstd_17', 'AWS_rollmean_9', 'AWS_rollstd_9']\n",
      "✅ Data shapes - Train: torch.Size([58558, 44, 20]), Val: torch.Size([10892, 44, 20]), Test: torch.Size([14758, 44, 20])\n",
      "Error in fold fold_4: Target size (torch.Size([128, 4])) must be the same as input size (torch.Size([128, 1]))\n",
      "Creating lag features for train set with lags: [9, 7]\n",
      "Creating lag features for val set with lags: [9, 7]\n",
      "Creating lag features for test set with lags: [9, 7]\n",
      "Creating rolling stats for train set with windows: [24, 17, 9]\n",
      "Creating rolling stats for val set with windows: [24, 17, 9]\n",
      "Creating rolling stats for test set with windows: [24, 17, 9]\n",
      "Using 20 features: ['TCW', 'TCLW', 'R250', 'R500', 'R850', 'U850', 'V850', 'EWSS', 'KX', 'CAPE', 'SSHF', 'PEV', 'AWS_lag9', 'AWS_lag7', 'AWS_rollmean_24', 'AWS_rollstd_24', 'AWS_rollmean_17', 'AWS_rollstd_17', 'AWS_rollmean_9', 'AWS_rollstd_9']\n"
     ]
    },
    {
     "name": "stderr",
     "output_type": "stream",
     "text": [
      "[I 2025-04-23 17:26:08,543] Trial 9 finished with value: inf and parameters: {'hidden_size': 104, 'num_layers': 2, 'dropout': 0.3769079283995232, 'lr': 0.0009338758772293925, 'time_step_in': 44, 'time_step_out': 4, 'stride': 2, 'binary_weight': 1.8225217992464045, 'intensity_weight': 1.2138825407627984, 'regression_weight': 1.8890150509357608, 'rain_threshold': 0.06564376823001852, 'num_lags': 2, 'lag_0': 9, 'lag_1': 7, 'num_windows': 3, 'window_0': 24, 'window_1': 17, 'window_2': 9}. Best is trial 6 with value: 1.0956500172615051.\n"
     ]
    },
    {
     "name": "stdout",
     "output_type": "stream",
     "text": [
      "✅ Data shapes - Train: torch.Size([75118, 44, 20]), Val: torch.Size([10025, 44, 20]), Test: torch.Size([13995, 44, 20])\n",
      "Error in fold fold_5: Target size (torch.Size([128, 4])) must be the same as input size (torch.Size([128, 1]))\n",
      "Creating lag features for train set with lags: [1]\n",
      "Creating lag features for val set with lags: [1]\n",
      "Creating lag features for test set with lags: [1]\n",
      "Creating rolling stats for train set with windows: [19]\n",
      "Creating rolling stats for val set with windows: [19]\n",
      "Creating rolling stats for test set with windows: [19]\n",
      "Using 15 features: ['TCW', 'TCLW', 'R250', 'R500', 'R850', 'U850', 'V850', 'EWSS', 'KX', 'CAPE', 'SSHF', 'PEV', 'AWS_lag1', 'AWS_rollmean_19', 'AWS_rollstd_19']\n",
      "✅ Data shapes - Train: torch.Size([2852, 48, 15]), Val: torch.Size([4028, 48, 15]), Test: torch.Size([5612, 48, 15])\n",
      "Error in fold fold_1: Target size (torch.Size([128, 2])) must be the same as input size (torch.Size([128, 1]))\n",
      "Creating lag features for train set with lags: [1]\n",
      "Creating lag features for val set with lags: [1]\n",
      "Creating lag features for test set with lags: [1]\n"
     ]
    },
    {
     "name": "stderr",
     "output_type": "stream",
     "text": [
      "/usr/local/lib/python3.10/dist-packages/torch/nn/modules/rnn.py:123: UserWarning: dropout option adds dropout after all but last recurrent layer, so non-zero dropout expects num_layers greater than 1, but got dropout=0.2968106787039684 and num_layers=1\n",
      "  warnings.warn(\n"
     ]
    },
    {
     "name": "stdout",
     "output_type": "stream",
     "text": [
      "Creating rolling stats for train set with windows: [19]\n",
      "Creating rolling stats for val set with windows: [19]\n",
      "Creating rolling stats for test set with windows: [19]\n",
      "Using 15 features: ['TCW', 'TCLW', 'R250', 'R500', 'R850', 'U850', 'V850', 'EWSS', 'KX', 'CAPE', 'SSHF', 'PEV', 'AWS_lag1', 'AWS_rollmean_19', 'AWS_rollstd_19']\n",
      "✅ Data shapes - Train: torch.Size([8368, 48, 15]), Val: torch.Size([4050, 48, 15]), Test: torch.Size([5463, 48, 15])\n",
      "Error in fold fold_2: Target size (torch.Size([128, 2])) must be the same as input size (torch.Size([128, 1]))\n",
      "Creating lag features for train set with lags: [1]\n",
      "Creating lag features for val set with lags: [1]\n"
     ]
    },
    {
     "name": "stderr",
     "output_type": "stream",
     "text": [
      "/usr/local/lib/python3.10/dist-packages/torch/nn/modules/rnn.py:123: UserWarning: dropout option adds dropout after all but last recurrent layer, so non-zero dropout expects num_layers greater than 1, but got dropout=0.2968106787039684 and num_layers=1\n",
      "  warnings.warn(\n"
     ]
    },
    {
     "name": "stdout",
     "output_type": "stream",
     "text": [
      "Creating lag features for test set with lags: [1]\n",
      "Creating rolling stats for train set with windows: [19]\n",
      "Creating rolling stats for val set with windows: [19]\n",
      "Creating rolling stats for test set with windows: [19]\n",
      "Using 15 features: ['TCW', 'TCLW', 'R250', 'R500', 'R850', 'U850', 'V850', 'EWSS', 'KX', 'CAPE', 'SSHF', 'PEV', 'AWS_lag1', 'AWS_rollmean_19', 'AWS_rollstd_19']\n",
      "✅ Data shapes - Train: torch.Size([13888, 48, 15]), Val: torch.Size([3896, 48, 15]), Test: torch.Size([5252, 48, 15])\n",
      "Error in fold fold_3: Target size (torch.Size([128, 2])) must be the same as input size (torch.Size([128, 1]))\n",
      "Creating lag features for train set with lags: [1]\n",
      "Creating lag features for val set with lags: [1]\n"
     ]
    },
    {
     "name": "stderr",
     "output_type": "stream",
     "text": [
      "/usr/local/lib/python3.10/dist-packages/torch/nn/modules/rnn.py:123: UserWarning: dropout option adds dropout after all but last recurrent layer, so non-zero dropout expects num_layers greater than 1, but got dropout=0.2968106787039684 and num_layers=1\n",
      "  warnings.warn(\n"
     ]
    },
    {
     "name": "stdout",
     "output_type": "stream",
     "text": [
      "Creating lag features for test set with lags: [1]\n",
      "Creating rolling stats for train set with windows: [19]\n",
      "Creating rolling stats for val set with windows: [19]\n",
      "Creating rolling stats for test set with windows: [19]\n",
      "Using 15 features: ['TCW', 'TCLW', 'R250', 'R500', 'R850', 'U850', 'V850', 'EWSS', 'KX', 'CAPE', 'SSHF', 'PEV', 'AWS_lag1', 'AWS_rollmean_19', 'AWS_rollstd_19']\n",
      "✅ Data shapes - Train: torch.Size([19408, 48, 15]), Val: torch.Size([3632, 48, 15]), Test: torch.Size([4870, 48, 15])\n",
      "Error in fold fold_4: Target size (torch.Size([128, 2])) must be the same as input size (torch.Size([128, 1]))\n",
      "Creating lag features for train set with lags: [1]\n",
      "Creating lag features for val set with lags: [1]\n"
     ]
    },
    {
     "name": "stderr",
     "output_type": "stream",
     "text": [
      "/usr/local/lib/python3.10/dist-packages/torch/nn/modules/rnn.py:123: UserWarning: dropout option adds dropout after all but last recurrent layer, so non-zero dropout expects num_layers greater than 1, but got dropout=0.2968106787039684 and num_layers=1\n",
      "  warnings.warn(\n"
     ]
    },
    {
     "name": "stdout",
     "output_type": "stream",
     "text": [
      "Creating lag features for test set with lags: [1]\n",
      "Creating rolling stats for train set with windows: [19]\n",
      "Creating rolling stats for val set with windows: [19]\n",
      "Creating rolling stats for test set with windows: [19]\n",
      "Using 15 features: ['TCW', 'TCLW', 'R250', 'R500', 'R850', 'U850', 'V850', 'EWSS', 'KX', 'CAPE', 'SSHF', 'PEV', 'AWS_lag1', 'AWS_rollmean_19', 'AWS_rollstd_19']\n"
     ]
    },
    {
     "name": "stderr",
     "output_type": "stream",
     "text": [
      "/usr/local/lib/python3.10/dist-packages/torch/nn/modules/rnn.py:123: UserWarning: dropout option adds dropout after all but last recurrent layer, so non-zero dropout expects num_layers greater than 1, but got dropout=0.2968106787039684 and num_layers=1\n",
      "  warnings.warn(\n",
      "[I 2025-04-23 17:26:33,919] Trial 10 finished with value: inf and parameters: {'hidden_size': 40, 'num_layers': 1, 'dropout': 0.2968106787039684, 'lr': 0.009771126783361594, 'time_step_in': 48, 'time_step_out': 2, 'stride': 6, 'binary_weight': 1.2046262359487105, 'intensity_weight': 0.5262995999566408, 'regression_weight': 0.505828508670684, 'rain_threshold': 0.1294806779189786, 'num_lags': 1, 'lag_0': 1, 'num_windows': 1, 'window_0': 19}. Best is trial 6 with value: 1.0956500172615051.\n"
     ]
    },
    {
     "name": "stdout",
     "output_type": "stream",
     "text": [
      "✅ Data shapes - Train: torch.Size([24928, 48, 15]), Val: torch.Size([3367, 48, 15]), Test: torch.Size([4612, 48, 15])\n",
      "Error in fold fold_5: Target size (torch.Size([128, 2])) must be the same as input size (torch.Size([128, 1]))\n",
      "Creating lag features for train set with lags: [1]\n",
      "Creating lag features for val set with lags: [1]\n",
      "Creating lag features for test set with lags: [1]\n",
      "Creating rolling stats for train set with windows: [21, 6]\n",
      "Creating rolling stats for val set with windows: [21, 6]\n",
      "Creating rolling stats for test set with windows: [21, 6]\n",
      "Using 17 features: ['TCW', 'TCLW', 'R250', 'R500', 'R850', 'U850', 'V850', 'EWSS', 'KX', 'CAPE', 'SSHF', 'PEV', 'AWS_lag1', 'AWS_rollmean_21', 'AWS_rollstd_21', 'AWS_rollmean_6', 'AWS_rollstd_6']\n",
      "✅ Data shapes - Train: torch.Size([4231, 38, 17]), Val: torch.Size([5233, 38, 17]), Test: torch.Size([7120, 38, 17])\n",
      "  🌀 Epoch 1/5, Total Loss: 7.4761, Binary: 0.6677, Intensity: 0.8099, Regression: 5.2047\n",
      "  🌀 Epoch 2/5, Total Loss: 4.8799, Binary: 0.5568, Intensity: 0.4962, Regression: 3.2518\n",
      "  🌀 Epoch 3/5, Total Loss: 4.3579, Binary: 0.4556, Intensity: 0.4531, Regression: 2.9547\n",
      "  🌀 Epoch 4/5, Total Loss: 4.4369, Binary: 0.4220, Intensity: 0.4469, Regression: 3.0699\n",
      "  🌀 Epoch 5/5, Total Loss: 4.2969, Binary: 0.3759, Intensity: 0.4312, Regression: 3.0170\n",
      "Creating lag features for train set with lags: [1]\n",
      "Creating lag features for val set with lags: [1]\n",
      "Creating lag features for test set with lags: [1]\n",
      "Creating rolling stats for train set with windows: [21, 6]\n",
      "Creating rolling stats for val set with windows: [21, 6]\n",
      "Creating rolling stats for test set with windows: [21, 6]\n",
      "Using 17 features: ['TCW', 'TCLW', 'R250', 'R500', 'R850', 'U850', 'V850', 'EWSS', 'KX', 'CAPE', 'SSHF', 'PEV', 'AWS_lag1', 'AWS_rollmean_21', 'AWS_rollstd_21', 'AWS_rollmean_6', 'AWS_rollstd_6']\n",
      "✅ Data shapes - Train: torch.Size([10795, 38, 17]), Val: torch.Size([5253, 38, 17]), Test: torch.Size([6964, 38, 17])\n",
      "  🌀 Epoch 1/5, Total Loss: 5.5259, Binary: 0.5688, Intensity: 0.6555, Regression: 3.7224\n",
      "  🌀 Epoch 2/5, Total Loss: 4.2180, Binary: 0.3925, Intensity: 0.4408, Regression: 2.9228\n",
      "  🌀 Epoch 3/5, Total Loss: 3.8873, Binary: 0.3276, Intensity: 0.3937, Regression: 2.7443\n",
      "  🌀 Epoch 4/5, Total Loss: 3.6526, Binary: 0.2961, Intensity: 0.3715, Regression: 2.5934\n",
      "  🌀 Epoch 5/5, Total Loss: 3.5926, Binary: 0.2931, Intensity: 0.3660, Regression: 2.5481\n",
      "Creating lag features for train set with lags: [1]\n",
      "Creating lag features for val set with lags: [1]\n",
      "Creating lag features for test set with lags: [1]\n",
      "Creating rolling stats for train set with windows: [21, 6]\n",
      "Creating rolling stats for val set with windows: [21, 6]\n",
      "Creating rolling stats for test set with windows: [21, 6]\n",
      "Using 17 features: ['TCW', 'TCLW', 'R250', 'R500', 'R850', 'U850', 'V850', 'EWSS', 'KX', 'CAPE', 'SSHF', 'PEV', 'AWS_lag1', 'AWS_rollmean_21', 'AWS_rollstd_21', 'AWS_rollmean_6', 'AWS_rollstd_6']\n",
      "✅ Data shapes - Train: torch.Size([17361, 38, 17]), Val: torch.Size([5063, 38, 17]), Test: torch.Size([6742, 38, 17])\n",
      "  🌀 Epoch 1/5, Total Loss: 5.1497, Binary: 0.4995, Intensity: 0.6127, Regression: 3.5085\n",
      "  🌀 Epoch 2/5, Total Loss: 4.0956, Binary: 0.3424, Intensity: 0.4134, Regression: 2.8955\n",
      "  🌀 Epoch 3/5, Total Loss: 3.9049, Binary: 0.3095, Intensity: 0.3783, Regression: 2.7902\n",
      "  🌀 Epoch 4/5, Total Loss: 3.8535, Binary: 0.2950, Intensity: 0.3803, Regression: 2.7641\n",
      "  🌀 Epoch 5/5, Total Loss: 3.6859, Binary: 0.2890, Intensity: 0.3661, Regression: 2.6339\n",
      "Creating lag features for train set with lags: [1]\n",
      "Creating lag features for val set with lags: [1]\n",
      "Creating lag features for test set with lags: [1]\n",
      "Creating rolling stats for train set with windows: [21, 6]\n",
      "Creating rolling stats for val set with windows: [21, 6]\n",
      "Creating rolling stats for test set with windows: [21, 6]\n",
      "Using 17 features: ['TCW', 'TCLW', 'R250', 'R500', 'R850', 'U850', 'V850', 'EWSS', 'KX', 'CAPE', 'SSHF', 'PEV', 'AWS_lag1', 'AWS_rollmean_21', 'AWS_rollstd_21', 'AWS_rollmean_6', 'AWS_rollstd_6']\n",
      "✅ Data shapes - Train: torch.Size([24081, 38, 17]), Val: torch.Size([4839, 38, 17]), Test: torch.Size([6451, 38, 17])\n",
      "  🌀 Epoch 1/5, Total Loss: 5.1812, Binary: 0.5004, Intensity: 0.5375, Regression: 3.5678\n",
      "  🌀 Epoch 2/5, Total Loss: 4.0701, Binary: 0.3314, Intensity: 0.4029, Regression: 2.8928\n",
      "  🌀 Epoch 3/5, Total Loss: 3.8870, Binary: 0.2982, Intensity: 0.3870, Regression: 2.7859\n",
      "  🌀 Epoch 4/5, Total Loss: 3.7990, Binary: 0.2936, Intensity: 0.3790, Regression: 2.7195\n",
      "  🌀 Epoch 5/5, Total Loss: 3.7194, Binary: 0.2858, Intensity: 0.3698, Regression: 2.6652\n",
      "Creating lag features for train set with lags: [1]\n",
      "Creating lag features for val set with lags: [1]\n",
      "Creating lag features for test set with lags: [1]\n",
      "Creating rolling stats for train set with windows: [21, 6]\n",
      "Creating rolling stats for val set with windows: [21, 6]\n",
      "Creating rolling stats for test set with windows: [21, 6]\n",
      "Using 17 features: ['TCW', 'TCLW', 'R250', 'R500', 'R850', 'U850', 'V850', 'EWSS', 'KX', 'CAPE', 'SSHF', 'PEV', 'AWS_lag1', 'AWS_rollmean_21', 'AWS_rollstd_21', 'AWS_rollmean_6', 'AWS_rollstd_6']\n",
      "✅ Data shapes - Train: torch.Size([30826, 38, 17]), Val: torch.Size([4584, 38, 17]), Test: torch.Size([6177, 38, 17])\n",
      "  🌀 Epoch 1/5, Total Loss: 4.7737, Binary: 0.4505, Intensity: 0.5415, Regression: 3.2806\n",
      "  🌀 Epoch 2/5, Total Loss: 3.9819, Binary: 0.3142, Intensity: 0.3935, Regression: 2.8436\n",
      "  🌀 Epoch 3/5, Total Loss: 3.7939, Binary: 0.2905, Intensity: 0.3771, Regression: 2.7200\n",
      "  🌀 Epoch 4/5, Total Loss: 3.7453, Binary: 0.2843, Intensity: 0.3751, Regression: 2.6872\n"
     ]
    },
    {
     "name": "stderr",
     "output_type": "stream",
     "text": [
      "[I 2025-04-23 17:27:30,194] Trial 11 finished with value: 1.0109126448631287 and parameters: {'hidden_size': 108, 'num_layers': 2, 'dropout': 0.22265257908807576, 'lr': 0.003054368827111358, 'time_step_in': 38, 'time_step_out': 1, 'stride': 5, 'binary_weight': 1.531871719234051, 'intensity_weight': 0.5139629842877224, 'regression_weight': 1.1599165650240053, 'rain_threshold': 0.07439076668536258, 'num_lags': 1, 'lag_0': 1, 'num_windows': 2, 'window_0': 21, 'window_1': 6}. Best is trial 11 with value: 1.0109126448631287.\n"
     ]
    },
    {
     "name": "stdout",
     "output_type": "stream",
     "text": [
      "  🌀 Epoch 5/5, Total Loss: 3.7096, Binary: 0.2771, Intensity: 0.3745, Regression: 2.6663\n",
      "Creating lag features for train set with lags: [4]\n",
      "Creating lag features for val set with lags: [4]\n",
      "Creating lag features for test set with lags: [4]\n",
      "Creating rolling stats for train set with windows: [15, 3]\n",
      "Creating rolling stats for val set with windows: [15, 3]\n",
      "Creating rolling stats for test set with windows: [15, 3]\n",
      "Using 17 features: ['TCW', 'TCLW', 'R250', 'R500', 'R850', 'U850', 'V850', 'EWSS', 'KX', 'CAPE', 'SSHF', 'PEV', 'AWS_lag4', 'AWS_rollmean_15', 'AWS_rollstd_15', 'AWS_rollmean_3', 'AWS_rollstd_3']\n",
      "✅ Data shapes - Train: torch.Size([3898, 40, 17]), Val: torch.Size([5138, 40, 17]), Test: torch.Size([7019, 40, 17])\n",
      "Error in fold fold_1: Target size (torch.Size([128, 2])) must be the same as input size (torch.Size([128, 1]))\n",
      "Creating lag features for train set with lags: [4]\n",
      "Creating lag features for val set with lags: [4]\n",
      "Creating lag features for test set with lags: [4]\n",
      "Creating rolling stats for train set with windows: [15, 3]\n",
      "Creating rolling stats for val set with windows: [15, 3]\n",
      "Creating rolling stats for test set with windows: [15, 3]\n",
      "Using 17 features: ['TCW', 'TCLW', 'R250', 'R500', 'R850', 'U850', 'V850', 'EWSS', 'KX', 'CAPE', 'SSHF', 'PEV', 'AWS_lag4', 'AWS_rollmean_15', 'AWS_rollstd_15', 'AWS_rollmean_3', 'AWS_rollstd_3']\n",
      "✅ Data shapes - Train: torch.Size([10703, 40, 17]), Val: torch.Size([5155, 40, 17]), Test: torch.Size([6824, 40, 17])\n",
      "Error in fold fold_2: Target size (torch.Size([128, 2])) must be the same as input size (torch.Size([128, 1]))\n",
      "Creating lag features for train set with lags: [4]\n",
      "Creating lag features for val set with lags: [4]\n",
      "Creating lag features for test set with lags: [4]\n",
      "Creating rolling stats for train set with windows: [15, 3]\n",
      "Creating rolling stats for val set with windows: [15, 3]\n",
      "Creating rolling stats for test set with windows: [15, 3]\n",
      "Using 17 features: ['TCW', 'TCLW', 'R250', 'R500', 'R850', 'U850', 'V850', 'EWSS', 'KX', 'CAPE', 'SSHF', 'PEV', 'AWS_lag4', 'AWS_rollmean_15', 'AWS_rollstd_15', 'AWS_rollmean_3', 'AWS_rollstd_3']\n",
      "✅ Data shapes - Train: torch.Size([17360, 40, 17]), Val: torch.Size([4975, 40, 17]), Test: torch.Size([6538, 40, 17])\n",
      "Error in fold fold_3: Target size (torch.Size([128, 2])) must be the same as input size (torch.Size([128, 1]))\n",
      "Creating lag features for train set with lags: [4]\n",
      "Creating lag features for val set with lags: [4]\n",
      "Creating lag features for test set with lags: [4]\n",
      "Creating rolling stats for train set with windows: [15, 3]\n",
      "Creating rolling stats for val set with windows: [15, 3]\n",
      "Creating rolling stats for test set with windows: [15, 3]\n",
      "Using 17 features: ['TCW', 'TCLW', 'R250', 'R500', 'R850', 'U850', 'V850', 'EWSS', 'KX', 'CAPE', 'SSHF', 'PEV', 'AWS_lag4', 'AWS_rollmean_15', 'AWS_rollstd_15', 'AWS_rollmean_3', 'AWS_rollstd_3']\n",
      "✅ Data shapes - Train: torch.Size([23927, 40, 17]), Val: torch.Size([4630, 40, 17]), Test: torch.Size([6240, 40, 17])\n",
      "Error in fold fold_4: Target size (torch.Size([128, 2])) must be the same as input size (torch.Size([128, 1]))\n",
      "Creating lag features for train set with lags: [4]\n",
      "Creating lag features for val set with lags: [4]\n",
      "Creating lag features for test set with lags: [4]\n",
      "Creating rolling stats for train set with windows: [15, 3]\n",
      "Creating rolling stats for val set with windows: [15, 3]\n",
      "Creating rolling stats for test set with windows: [15, 3]\n",
      "Using 17 features: ['TCW', 'TCLW', 'R250', 'R500', 'R850', 'U850', 'V850', 'EWSS', 'KX', 'CAPE', 'SSHF', 'PEV', 'AWS_lag4', 'AWS_rollmean_15', 'AWS_rollstd_15', 'AWS_rollmean_3', 'AWS_rollstd_3']\n"
     ]
    },
    {
     "name": "stderr",
     "output_type": "stream",
     "text": [
      "[I 2025-04-23 17:28:00,384] Trial 12 finished with value: inf and parameters: {'hidden_size': 109, 'num_layers': 2, 'dropout': 0.28912133337311985, 'lr': 0.0033488727317297967, 'time_step_in': 40, 'time_step_out': 2, 'stride': 5, 'binary_weight': 1.1147716149439535, 'intensity_weight': 0.5308577182044054, 'regression_weight': 0.9659708858354876, 'rain_threshold': 0.061971858990429826, 'num_lags': 1, 'lag_0': 4, 'num_windows': 2, 'window_0': 15, 'window_1': 3}. Best is trial 11 with value: 1.0109126448631287.\n"
     ]
    },
    {
     "name": "stdout",
     "output_type": "stream",
     "text": [
      "✅ Data shapes - Train: torch.Size([30493, 40, 17]), Val: torch.Size([4343, 40, 17]), Test: torch.Size([6035, 40, 17])\n",
      "Error in fold fold_5: Target size (torch.Size([128, 2])) must be the same as input size (torch.Size([128, 1]))\n",
      "Creating lag features for train set with lags: [2, 1]\n",
      "Creating lag features for val set with lags: [2, 1]\n",
      "Creating lag features for test set with lags: [2, 1]\n",
      "Creating rolling stats for train set with windows: [20]\n",
      "Creating rolling stats for val set with windows: [20]\n",
      "Creating rolling stats for test set with windows: [20]\n",
      "Using 16 features: ['TCW', 'TCLW', 'R250', 'R500', 'R850', 'U850', 'V850', 'EWSS', 'KX', 'CAPE', 'SSHF', 'PEV', 'AWS_lag2', 'AWS_lag1', 'AWS_rollmean_20', 'AWS_rollstd_20']\n",
      "✅ Data shapes - Train: torch.Size([3898, 42, 16]), Val: torch.Size([5113, 42, 16]), Test: torch.Size([6986, 42, 16])\n",
      "  🌀 Epoch 1/5, Total Loss: 11.1194, Binary: 0.6657, Intensity: 0.7806, Regression: 6.6913\n",
      "  🌀 Epoch 2/5, Total Loss: 7.2785, Binary: 0.6494, Intensity: 0.8205, Regression: 3.9964\n",
      "  🌀 Epoch 3/5, Total Loss: 6.0682, Binary: 0.5485, Intensity: 0.4745, Regression: 3.4374\n",
      "  🌀 Epoch 4/5, Total Loss: 5.9053, Binary: 0.4698, Intensity: 0.4439, Regression: 3.4197\n",
      "  🌀 Epoch 5/5, Total Loss: 5.6638, Binary: 0.3969, Intensity: 0.4513, Regression: 3.3207\n",
      "Creating lag features for train set with lags: [2, 1]\n",
      "Creating lag features for val set with lags: [2, 1]\n",
      "Creating lag features for test set with lags: [2, 1]\n",
      "Creating rolling stats for train set with windows: [20]\n",
      "Creating rolling stats for val set with windows: [20]\n",
      "Creating rolling stats for test set with windows: [20]\n",
      "Using 16 features: ['TCW', 'TCLW', 'R250', 'R500', 'R850', 'U850', 'V850', 'EWSS', 'KX', 'CAPE', 'SSHF', 'PEV', 'AWS_lag2', 'AWS_lag1', 'AWS_rollmean_20', 'AWS_rollstd_20']\n",
      "✅ Data shapes - Train: torch.Size([10461, 42, 16]), Val: torch.Size([5127, 42, 16]), Test: torch.Size([6787, 42, 16])\n",
      "  🌀 Epoch 1/5, Total Loss: 7.8877, Binary: 0.6371, Intensity: 0.7001, Regression: 4.5004\n",
      "  🌀 Epoch 2/5, Total Loss: 6.2717, Binary: 0.4912, Intensity: 0.4553, Regression: 3.6484\n",
      "  🌀 Epoch 3/5, Total Loss: 5.7107, Binary: 0.4139, Intensity: 0.4447, Regression: 3.3398\n",
      "  🌀 Epoch 4/5, Total Loss: 5.5532, Binary: 0.3621, Intensity: 0.4261, Regression: 3.2922\n",
      "  🌀 Epoch 5/5, Total Loss: 5.4143, Binary: 0.3405, Intensity: 0.4069, Regression: 3.2272\n",
      "Creating lag features for train set with lags: [2, 1]\n",
      "Creating lag features for val set with lags: [2, 1]\n",
      "Creating lag features for test set with lags: [2, 1]\n",
      "Creating rolling stats for train set with windows: [20]\n",
      "Creating rolling stats for val set with windows: [20]\n",
      "Creating rolling stats for test set with windows: [20]\n",
      "Using 16 features: ['TCW', 'TCLW', 'R250', 'R500', 'R850', 'U850', 'V850', 'EWSS', 'KX', 'CAPE', 'SSHF', 'PEV', 'AWS_lag2', 'AWS_lag1', 'AWS_rollmean_20', 'AWS_rollstd_20']\n",
      "✅ Data shapes - Train: torch.Size([17225, 42, 16]), Val: torch.Size([4944, 42, 16]), Test: torch.Size([6508, 42, 16])\n",
      "  🌀 Epoch 1/5, Total Loss: 7.1884, Binary: 0.6048, Intensity: 0.5996, Regression: 4.0974\n",
      "  🌀 Epoch 2/5, Total Loss: 5.9222, Binary: 0.4794, Intensity: 0.4427, Regression: 3.4225\n",
      "  🌀 Epoch 3/5, Total Loss: 5.4448, Binary: 0.3680, Intensity: 0.4198, Regression: 3.2136\n",
      "  🌀 Epoch 4/5, Total Loss: 5.2244, Binary: 0.3180, Intensity: 0.3964, Regression: 3.1226\n",
      "  🌀 Epoch 5/5, Total Loss: 5.0449, Binary: 0.3129, Intensity: 0.3877, Regression: 3.0068\n",
      "Creating lag features for train set with lags: [2, 1]\n",
      "Creating lag features for val set with lags: [2, 1]\n",
      "Creating lag features for test set with lags: [2, 1]\n",
      "Creating rolling stats for train set with windows: [20]\n",
      "Creating rolling stats for val set with windows: [20]\n",
      "Creating rolling stats for test set with windows: [20]\n",
      "Using 16 features: ['TCW', 'TCLW', 'R250', 'R500', 'R850', 'U850', 'V850', 'EWSS', 'KX', 'CAPE', 'SSHF', 'PEV', 'AWS_lag2', 'AWS_lag1', 'AWS_rollmean_20', 'AWS_rollstd_20']\n",
      "✅ Data shapes - Train: torch.Size([23926, 42, 16]), Val: torch.Size([4618, 42, 16]), Test: torch.Size([6207, 42, 16])\n",
      "  🌀 Epoch 1/5, Total Loss: 7.4531, Binary: 0.5753, Intensity: 0.5990, Regression: 4.3131\n",
      "  🌀 Epoch 2/5, Total Loss: 5.5526, Binary: 0.3936, Intensity: 0.4441, Regression: 3.2500\n",
      "  🌀 Epoch 3/5, Total Loss: 5.3177, Binary: 0.3611, Intensity: 0.4284, Regression: 3.1270\n",
      "  🌀 Epoch 4/5, Total Loss: 5.2877, Binary: 0.3457, Intensity: 0.4227, Regression: 3.1247\n",
      "  🌀 Epoch 5/5, Total Loss: 5.0639, Binary: 0.3099, Intensity: 0.4027, Regression: 3.0151\n",
      "Creating lag features for train set with lags: [2, 1]\n",
      "Creating lag features for val set with lags: [2, 1]\n",
      "Creating lag features for test set with lags: [2, 1]\n",
      "Creating rolling stats for train set with windows: [20]\n",
      "Creating rolling stats for val set with windows: [20]\n",
      "Creating rolling stats for test set with windows: [20]\n",
      "Using 16 features: ['TCW', 'TCLW', 'R250', 'R500', 'R850', 'U850', 'V850', 'EWSS', 'KX', 'CAPE', 'SSHF', 'PEV', 'AWS_lag2', 'AWS_lag1', 'AWS_rollmean_20', 'AWS_rollstd_20']\n",
      "✅ Data shapes - Train: torch.Size([30493, 42, 16]), Val: torch.Size([4331, 42, 16]), Test: torch.Size([6002, 42, 16])\n",
      "  🌀 Epoch 1/5, Total Loss: 7.0749, Binary: 0.5449, Intensity: 0.5641, Regression: 4.0978\n",
      "  🌀 Epoch 2/5, Total Loss: 5.4180, Binary: 0.4405, Intensity: 0.4274, Regression: 3.1171\n",
      "  🌀 Epoch 3/5, Total Loss: 5.1949, Binary: 0.4064, Intensity: 0.4229, Regression: 2.9979\n",
      "  🌀 Epoch 4/5, Total Loss: 4.8699, Binary: 0.3311, Intensity: 0.3921, Regression: 2.8633\n"
     ]
    },
    {
     "name": "stderr",
     "output_type": "stream",
     "text": [
      "[I 2025-04-23 17:28:45,744] Trial 13 finished with value: 1.1121830940246582 and parameters: {'hidden_size': 59, 'num_layers': 2, 'dropout': 0.11690263435458828, 'lr': 0.003925307607636909, 'time_step_in': 42, 'time_step_out': 1, 'stride': 5, 'binary_weight': 1.4515067037196925, 'intensity_weight': 0.7669027182446124, 'regression_weight': 1.4278975759969552, 'rain_threshold': 0.053820526099482346, 'num_lags': 2, 'lag_0': 2, 'lag_1': 1, 'num_windows': 1, 'window_0': 20}. Best is trial 11 with value: 1.0109126448631287.\n"
     ]
    },
    {
     "name": "stdout",
     "output_type": "stream",
     "text": [
      "  🌀 Epoch 5/5, Total Loss: 4.7496, Binary: 0.3104, Intensity: 0.3844, Regression: 2.8042\n",
      "Creating lag features for train set with lags: [6]\n",
      "Creating lag features for val set with lags: [6]\n",
      "Creating lag features for test set with lags: [6]\n",
      "Creating rolling stats for train set with windows: [17, 7]\n",
      "Creating rolling stats for val set with windows: [17, 7]\n",
      "Creating rolling stats for test set with windows: [17, 7]\n",
      "Using 17 features: ['TCW', 'TCLW', 'R250', 'R500', 'R850', 'U850', 'V850', 'EWSS', 'KX', 'CAPE', 'SSHF', 'PEV', 'AWS_lag6', 'AWS_rollmean_17', 'AWS_rollstd_17', 'AWS_rollmean_7', 'AWS_rollstd_7']\n",
      "✅ Data shapes - Train: torch.Size([5277, 34, 17]), Val: torch.Size([6593, 34, 17]), Test: torch.Size([8961, 34, 17])\n",
      "Error in fold fold_1: Target size (torch.Size([128, 3])) must be the same as input size (torch.Size([128, 1]))\n",
      "Creating lag features for train set with lags: [6]\n",
      "Creating lag features for val set with lags: [6]\n",
      "Creating lag features for test set with lags: [6]\n",
      "Creating rolling stats for train set with windows: [17, 7]\n",
      "Creating rolling stats for val set with windows: [17, 7]\n",
      "Creating rolling stats for test set with windows: [17, 7]\n",
      "Using 17 features: ['TCW', 'TCLW', 'R250', 'R500', 'R850', 'U850', 'V850', 'EWSS', 'KX', 'CAPE', 'SSHF', 'PEV', 'AWS_lag6', 'AWS_rollmean_17', 'AWS_rollstd_17', 'AWS_rollmean_7', 'AWS_rollstd_7']\n",
      "✅ Data shapes - Train: torch.Size([13554, 34, 17]), Val: torch.Size([6623, 34, 17]), Test: torch.Size([8758, 34, 17])\n",
      "Error in fold fold_2: Target size (torch.Size([128, 3])) must be the same as input size (torch.Size([128, 1]))\n",
      "Creating lag features for train set with lags: [6]\n",
      "Creating lag features for val set with lags: [6]\n",
      "Creating lag features for test set with lags: [6]\n",
      "Creating rolling stats for train set with windows: [17, 7]\n",
      "Creating rolling stats for val set with windows: [17, 7]\n",
      "Creating rolling stats for test set with windows: [17, 7]\n",
      "Using 17 features: ['TCW', 'TCLW', 'R250', 'R500', 'R850', 'U850', 'V850', 'EWSS', 'KX', 'CAPE', 'SSHF', 'PEV', 'AWS_lag6', 'AWS_rollmean_17', 'AWS_rollstd_17', 'AWS_rollmean_7', 'AWS_rollstd_7']\n",
      "✅ Data shapes - Train: torch.Size([21834, 34, 17]), Val: torch.Size([6445, 34, 17]), Test: torch.Size([8407, 34, 17])\n",
      "Error in fold fold_3: Target size (torch.Size([128, 3])) must be the same as input size (torch.Size([128, 1]))\n",
      "Creating lag features for train set with lags: [6]\n",
      "Creating lag features for val set with lags: [6]\n",
      "Creating lag features for test set with lags: [6]\n",
      "Creating rolling stats for train set with windows: [17, 7]\n",
      "Creating rolling stats for val set with windows: [17, 7]\n",
      "Creating rolling stats for test set with windows: [17, 7]\n",
      "Using 17 features: ['TCW', 'TCLW', 'R250', 'R500', 'R850', 'U850', 'V850', 'EWSS', 'KX', 'CAPE', 'SSHF', 'PEV', 'AWS_lag6', 'AWS_rollmean_17', 'AWS_rollstd_17', 'AWS_rollmean_7', 'AWS_rollstd_7']\n",
      "✅ Data shapes - Train: torch.Size([30114, 34, 17]), Val: torch.Size([6136, 34, 17]), Test: torch.Size([8150, 34, 17])\n",
      "Error in fold fold_4: Target size (torch.Size([128, 3])) must be the same as input size (torch.Size([128, 1]))\n",
      "Creating lag features for train set with lags: [6]\n",
      "Creating lag features for val set with lags: [6]\n",
      "Creating lag features for test set with lags: [6]\n",
      "Creating rolling stats for train set with windows: [17, 7]\n",
      "Creating rolling stats for val set with windows: [17, 7]\n",
      "Creating rolling stats for test set with windows: [17, 7]\n",
      "Using 17 features: ['TCW', 'TCLW', 'R250', 'R500', 'R850', 'U850', 'V850', 'EWSS', 'KX', 'CAPE', 'SSHF', 'PEV', 'AWS_lag6', 'AWS_rollmean_17', 'AWS_rollstd_17', 'AWS_rollmean_7', 'AWS_rollstd_7']\n"
     ]
    },
    {
     "name": "stderr",
     "output_type": "stream",
     "text": [
      "[I 2025-04-23 17:29:17,918] Trial 14 finished with value: inf and parameters: {'hidden_size': 132, 'num_layers': 2, 'dropout': 0.17950490347006012, 'lr': 0.003966303697427881, 'time_step_in': 34, 'time_step_out': 3, 'stride': 4, 'binary_weight': 1.0153967942256035, 'intensity_weight': 0.6991320513174519, 'regression_weight': 0.726516677769176, 'rain_threshold': 0.10718696621006518, 'num_lags': 1, 'lag_0': 6, 'num_windows': 2, 'window_0': 17, 'window_1': 7}. Best is trial 11 with value: 1.0109126448631287.\n"
     ]
    },
    {
     "name": "stdout",
     "output_type": "stream",
     "text": [
      "✅ Data shapes - Train: torch.Size([38394, 34, 17]), Val: torch.Size([5750, 34, 17]), Test: torch.Size([7826, 34, 17])\n",
      "Error in fold fold_5: Target size (torch.Size([128, 3])) must be the same as input size (torch.Size([128, 1]))\n",
      "Creating lag features for train set with lags: [3]\n",
      "Creating lag features for val set with lags: [3]\n",
      "Creating lag features for test set with lags: [3]\n",
      "Creating rolling stats for train set with windows: [3, 3]\n",
      "Creating rolling stats for val set with windows: [3, 3]\n",
      "Creating rolling stats for test set with windows: [3, 3]\n",
      "Using 17 features: ['TCW', 'TCLW', 'R250', 'R500', 'R850', 'U850', 'V850', 'EWSS', 'KX', 'CAPE', 'SSHF', 'PEV', 'AWS_lag3', 'AWS_rollmean_3', 'AWS_rollstd_3', 'AWS_rollmean_3', 'AWS_rollstd_3']\n",
      "✅ Data shapes - Train: torch.Size([2852, 48, 17]), Val: torch.Size([4028, 48, 17]), Test: torch.Size([5662, 48, 17])\n",
      "  🌀 Epoch 1/5, Total Loss: 12.2053, Binary: 0.6689, Intensity: 0.8691, Regression: 8.0735\n",
      "  🌀 Epoch 2/5, Total Loss: 10.0612, Binary: 0.6636, Intensity: 0.6871, Regression: 6.4955\n",
      "  🌀 Epoch 3/5, Total Loss: 7.6978, Binary: 0.6653, Intensity: 0.9585, Regression: 4.5525\n",
      "  🌀 Epoch 4/5, Total Loss: 5.8388, Binary: 0.6041, Intensity: 0.8745, Regression: 3.2410\n",
      "  🌀 Epoch 5/5, Total Loss: 5.2483, Binary: 0.5478, Intensity: 0.5405, Regression: 3.0060\n",
      "Creating lag features for train set with lags: [3]\n",
      "Creating lag features for val set with lags: [3]\n",
      "Creating lag features for test set with lags: [3]\n",
      "Creating rolling stats for train set with windows: [3, 3]\n",
      "Creating rolling stats for val set with windows: [3, 3]\n",
      "Creating rolling stats for test set with windows: [3, 3]\n",
      "Using 17 features: ['TCW', 'TCLW', 'R250', 'R500', 'R850', 'U850', 'V850', 'EWSS', 'KX', 'CAPE', 'SSHF', 'PEV', 'AWS_lag3', 'AWS_rollmean_3', 'AWS_rollstd_3', 'AWS_rollmean_3', 'AWS_rollstd_3']\n",
      "✅ Data shapes - Train: torch.Size([8368, 48, 17]), Val: torch.Size([4050, 48, 17]), Test: torch.Size([5489, 48, 17])\n",
      "  🌀 Epoch 1/5, Total Loss: 9.4205, Binary: 0.6460, Intensity: 0.7524, Regression: 5.9998\n",
      "  🌀 Epoch 2/5, Total Loss: 5.4531, Binary: 0.5558, Intensity: 0.4584, Regression: 3.1857\n",
      "  🌀 Epoch 3/5, Total Loss: 4.9776, Binary: 0.4702, Intensity: 0.4085, Regression: 2.9688\n",
      "  🌀 Epoch 4/5, Total Loss: 4.6994, Binary: 0.3988, Intensity: 0.4002, Regression: 2.8659\n",
      "  🌀 Epoch 5/5, Total Loss: 4.4760, Binary: 0.3412, Intensity: 0.3852, Regression: 2.7870\n",
      "Creating lag features for train set with lags: [3]\n",
      "Creating lag features for val set with lags: [3]\n",
      "Creating lag features for test set with lags: [3]\n",
      "Creating rolling stats for train set with windows: [3, 3]\n",
      "Creating rolling stats for val set with windows: [3, 3]\n",
      "Creating rolling stats for test set with windows: [3, 3]\n",
      "Using 17 features: ['TCW', 'TCLW', 'R250', 'R500', 'R850', 'U850', 'V850', 'EWSS', 'KX', 'CAPE', 'SSHF', 'PEV', 'AWS_lag3', 'AWS_rollmean_3', 'AWS_rollstd_3', 'AWS_rollmean_3', 'AWS_rollstd_3']\n",
      "✅ Data shapes - Train: torch.Size([13888, 48, 17]), Val: torch.Size([3896, 48, 17]), Test: torch.Size([5258, 48, 17])\n",
      "  🌀 Epoch 1/5, Total Loss: 7.3144, Binary: 0.6235, Intensity: 0.6951, Regression: 4.4269\n",
      "  🌀 Epoch 2/5, Total Loss: 4.9725, Binary: 0.4287, Intensity: 0.4409, Regression: 3.0150\n",
      "  🌀 Epoch 3/5, Total Loss: 4.5307, Binary: 0.3276, Intensity: 0.4088, Regression: 2.8406\n",
      "  🌀 Epoch 4/5, Total Loss: 4.3969, Binary: 0.3011, Intensity: 0.3863, Regression: 2.7867\n",
      "  🌀 Epoch 5/5, Total Loss: 4.3883, Binary: 0.2866, Intensity: 0.3755, Regression: 2.8065\n",
      "Creating lag features for train set with lags: [3]\n",
      "Creating lag features for val set with lags: [3]\n",
      "Creating lag features for test set with lags: [3]\n",
      "Creating rolling stats for train set with windows: [3, 3]\n",
      "Creating rolling stats for val set with windows: [3, 3]\n",
      "Creating rolling stats for test set with windows: [3, 3]\n",
      "Using 17 features: ['TCW', 'TCLW', 'R250', 'R500', 'R850', 'U850', 'V850', 'EWSS', 'KX', 'CAPE', 'SSHF', 'PEV', 'AWS_lag3', 'AWS_rollmean_3', 'AWS_rollstd_3', 'AWS_rollmean_3', 'AWS_rollstd_3']\n",
      "✅ Data shapes - Train: torch.Size([19408, 48, 17]), Val: torch.Size([3643, 48, 17]), Test: torch.Size([4971, 48, 17])\n",
      "  🌀 Epoch 1/5, Total Loss: 7.2998, Binary: 0.6053, Intensity: 0.6244, Regression: 4.4722\n",
      "  🌀 Epoch 2/5, Total Loss: 4.5138, Binary: 0.3825, Intensity: 0.4196, Regression: 2.7391\n",
      "  🌀 Epoch 3/5, Total Loss: 4.1866, Binary: 0.2998, Intensity: 0.3896, Regression: 2.6245\n",
      "  🌀 Epoch 4/5, Total Loss: 4.1809, Binary: 0.2840, Intensity: 0.3789, Regression: 2.6485\n",
      "  🌀 Epoch 5/5, Total Loss: 4.0811, Binary: 0.2727, Intensity: 0.3726, Regression: 2.5911\n",
      "Creating lag features for train set with lags: [3]\n",
      "Creating lag features for val set with lags: [3]\n",
      "Creating lag features for test set with lags: [3]\n",
      "Creating rolling stats for train set with windows: [3, 3]\n",
      "Creating rolling stats for val set with windows: [3, 3]\n",
      "Creating rolling stats for test set with windows: [3, 3]\n",
      "Using 17 features: ['TCW', 'TCLW', 'R250', 'R500', 'R850', 'U850', 'V850', 'EWSS', 'KX', 'CAPE', 'SSHF', 'PEV', 'AWS_lag3', 'AWS_rollmean_3', 'AWS_rollstd_3', 'AWS_rollmean_3', 'AWS_rollstd_3']\n",
      "✅ Data shapes - Train: torch.Size([24928, 48, 17]), Val: torch.Size([3367, 48, 17]), Test: torch.Size([4740, 48, 17])\n",
      "  🌀 Epoch 1/5, Total Loss: 7.4165, Binary: 0.5812, Intensity: 0.6086, Regression: 4.6058\n",
      "  🌀 Epoch 2/5, Total Loss: 4.6809, Binary: 0.4080, Intensity: 0.4233, Regression: 2.8281\n",
      "  🌀 Epoch 3/5, Total Loss: 4.3263, Binary: 0.3159, Intensity: 0.4054, Regression: 2.7016\n",
      "  🌀 Epoch 4/5, Total Loss: 4.2587, Binary: 0.2919, Intensity: 0.3981, Regression: 2.6889\n"
     ]
    },
    {
     "name": "stderr",
     "output_type": "stream",
     "text": [
      "[I 2025-04-23 17:30:05,557] Trial 15 finished with value: 1.0258466482162476 and parameters: {'hidden_size': 74, 'num_layers': 3, 'dropout': 0.0521772578613629, 'lr': 0.002189676394519708, 'time_step_in': 48, 'time_step_out': 1, 'stride': 6, 'binary_weight': 1.9740252415625879, 'intensity_weight': 0.5264003450534892, 'regression_weight': 1.291578739769796, 'rain_threshold': 0.07926951300541812, 'num_lags': 1, 'lag_0': 3, 'num_windows': 2, 'window_0': 3, 'window_1': 3}. Best is trial 11 with value: 1.0109126448631287.\n"
     ]
    },
    {
     "name": "stdout",
     "output_type": "stream",
     "text": [
      "  🌀 Epoch 5/5, Total Loss: 4.0930, Binary: 0.2793, Intensity: 0.3784, Regression: 2.5879\n",
      "Creating lag features for train set with lags: [3, 12]\n",
      "Creating lag features for val set with lags: [3, 12]\n",
      "Creating lag features for test set with lags: [3, 12]\n",
      "Creating rolling stats for train set with windows: [3, 3]\n",
      "Creating rolling stats for val set with windows: [3, 3]\n",
      "Creating rolling stats for test set with windows: [3, 3]\n",
      "Using 18 features: ['TCW', 'TCLW', 'R250', 'R500', 'R850', 'U850', 'V850', 'EWSS', 'KX', 'CAPE', 'SSHF', 'PEV', 'AWS_lag3', 'AWS_lag12', 'AWS_rollmean_3', 'AWS_rollstd_3', 'AWS_rollmean_3', 'AWS_rollstd_3']\n",
      "✅ Data shapes - Train: torch.Size([2852, 47, 18]), Val: torch.Size([4028, 47, 18]), Test: torch.Size([5662, 47, 18])\n",
      "Error in fold fold_1: Target size (torch.Size([128, 2])) must be the same as input size (torch.Size([128, 1]))\n",
      "Creating lag features for train set with lags: [3, 12]\n",
      "Creating lag features for val set with lags: [3, 12]\n",
      "Creating lag features for test set with lags: [3, 12]\n",
      "Creating rolling stats for train set with windows: [3, 3]\n",
      "Creating rolling stats for val set with windows: [3, 3]\n",
      "Creating rolling stats for test set with windows: [3, 3]\n",
      "Using 18 features: ['TCW', 'TCLW', 'R250', 'R500', 'R850', 'U850', 'V850', 'EWSS', 'KX', 'CAPE', 'SSHF', 'PEV', 'AWS_lag3', 'AWS_lag12', 'AWS_rollmean_3', 'AWS_rollstd_3', 'AWS_rollmean_3', 'AWS_rollstd_3']\n",
      "✅ Data shapes - Train: torch.Size([8368, 47, 18]), Val: torch.Size([4050, 47, 18]), Test: torch.Size([5489, 47, 18])\n",
      "Error in fold fold_2: Target size (torch.Size([128, 2])) must be the same as input size (torch.Size([128, 1]))\n",
      "Creating lag features for train set with lags: [3, 12]\n",
      "Creating lag features for val set with lags: [3, 12]\n",
      "Creating lag features for test set with lags: [3, 12]\n",
      "Creating rolling stats for train set with windows: [3, 3]\n",
      "Creating rolling stats for val set with windows: [3, 3]\n",
      "Creating rolling stats for test set with windows: [3, 3]\n",
      "Using 18 features: ['TCW', 'TCLW', 'R250', 'R500', 'R850', 'U850', 'V850', 'EWSS', 'KX', 'CAPE', 'SSHF', 'PEV', 'AWS_lag3', 'AWS_lag12', 'AWS_rollmean_3', 'AWS_rollstd_3', 'AWS_rollmean_3', 'AWS_rollstd_3']\n",
      "✅ Data shapes - Train: torch.Size([13888, 47, 18]), Val: torch.Size([3896, 47, 18]), Test: torch.Size([5258, 47, 18])\n",
      "Error in fold fold_3: Target size (torch.Size([128, 2])) must be the same as input size (torch.Size([128, 1]))\n",
      "Creating lag features for train set with lags: [3, 12]\n",
      "Creating lag features for val set with lags: [3, 12]\n",
      "Creating lag features for test set with lags: [3, 12]\n",
      "Creating rolling stats for train set with windows: [3, 3]\n",
      "Creating rolling stats for val set with windows: [3, 3]\n",
      "Creating rolling stats for test set with windows: [3, 3]\n",
      "Using 18 features: ['TCW', 'TCLW', 'R250', 'R500', 'R850', 'U850', 'V850', 'EWSS', 'KX', 'CAPE', 'SSHF', 'PEV', 'AWS_lag3', 'AWS_lag12', 'AWS_rollmean_3', 'AWS_rollstd_3', 'AWS_rollmean_3', 'AWS_rollstd_3']\n",
      "✅ Data shapes - Train: torch.Size([19408, 47, 18]), Val: torch.Size([3643, 47, 18]), Test: torch.Size([4971, 47, 18])\n",
      "Error in fold fold_4: Target size (torch.Size([128, 2])) must be the same as input size (torch.Size([128, 1]))\n",
      "Creating lag features for train set with lags: [3, 12]\n",
      "Creating lag features for val set with lags: [3, 12]\n",
      "Creating lag features for test set with lags: [3, 12]\n",
      "Creating rolling stats for train set with windows: [3, 3]\n",
      "Creating rolling stats for val set with windows: [3, 3]\n",
      "Creating rolling stats for test set with windows: [3, 3]\n",
      "Using 18 features: ['TCW', 'TCLW', 'R250', 'R500', 'R850', 'U850', 'V850', 'EWSS', 'KX', 'CAPE', 'SSHF', 'PEV', 'AWS_lag3', 'AWS_lag12', 'AWS_rollmean_3', 'AWS_rollstd_3', 'AWS_rollmean_3', 'AWS_rollstd_3']\n"
     ]
    },
    {
     "name": "stderr",
     "output_type": "stream",
     "text": [
      "[I 2025-04-23 17:30:35,396] Trial 16 finished with value: inf and parameters: {'hidden_size': 66, 'num_layers': 3, 'dropout': 0.016770621340097047, 'lr': 0.002107260312252607, 'time_step_in': 47, 'time_step_out': 2, 'stride': 6, 'binary_weight': 1.9890946378239314, 'intensity_weight': 1.065148600602202, 'regression_weight': 1.3645984234083988, 'rain_threshold': 0.0805962264523361, 'num_lags': 2, 'lag_0': 3, 'lag_1': 12, 'num_windows': 2, 'window_0': 3, 'window_1': 3}. Best is trial 11 with value: 1.0109126448631287.\n"
     ]
    },
    {
     "name": "stdout",
     "output_type": "stream",
     "text": [
      "✅ Data shapes - Train: torch.Size([24928, 47, 18]), Val: torch.Size([3367, 47, 18]), Test: torch.Size([4740, 47, 18])\n",
      "Error in fold fold_5: Target size (torch.Size([128, 2])) must be the same as input size (torch.Size([128, 1]))\n",
      "Creating lag features for train set with lags: [4]\n",
      "Creating lag features for val set with lags: [4]\n",
      "Creating lag features for test set with lags: [4]\n",
      "Creating rolling stats for train set with windows: [9, 9, 23]\n",
      "Creating rolling stats for val set with windows: [9, 9, 23]\n",
      "Creating rolling stats for test set with windows: [9, 9, 23]\n",
      "Using 19 features: ['TCW', 'TCLW', 'R250', 'R500', 'R850', 'U850', 'V850', 'EWSS', 'KX', 'CAPE', 'SSHF', 'PEV', 'AWS_lag4', 'AWS_rollmean_9', 'AWS_rollstd_9', 'AWS_rollmean_9', 'AWS_rollstd_9', 'AWS_rollmean_23', 'AWS_rollstd_23']\n",
      "✅ Data shapes - Train: torch.Size([3185, 45, 19]), Val: torch.Size([4162, 45, 19]), Test: torch.Size([5723, 45, 19])\n",
      "Error in fold fold_1: Target size (torch.Size([128, 3])) must be the same as input size (torch.Size([128, 1]))\n",
      "Creating lag features for train set with lags: [4]\n",
      "Creating lag features for val set with lags: [4]\n",
      "Creating lag features for test set with lags: [4]\n",
      "Creating rolling stats for train set with windows: [9, 9, 23]\n",
      "Creating rolling stats for val set with windows: [9, 9, 23]\n",
      "Creating rolling stats for test set with windows: [9, 9, 23]\n",
      "Using 19 features: ['TCW', 'TCLW', 'R250', 'R500', 'R850', 'U850', 'V850', 'EWSS', 'KX', 'CAPE', 'SSHF', 'PEV', 'AWS_lag4', 'AWS_rollmean_9', 'AWS_rollstd_9', 'AWS_rollmean_9', 'AWS_rollstd_9', 'AWS_rollmean_23', 'AWS_rollstd_23']\n",
      "✅ Data shapes - Train: torch.Size([8702, 45, 19]), Val: torch.Size([4131, 45, 19]), Test: torch.Size([5501, 45, 19])\n",
      "Error in fold fold_2: Target size (torch.Size([128, 3])) must be the same as input size (torch.Size([128, 1]))\n",
      "Creating lag features for train set with lags: [4]\n",
      "Creating lag features for val set with lags: [4]\n",
      "Creating lag features for test set with lags: [4]\n",
      "Creating rolling stats for train set with windows: [9, 9, 23]\n",
      "Creating rolling stats for val set with windows: [9, 9, 23]\n",
      "Creating rolling stats for test set with windows: [9, 9, 23]\n",
      "Using 19 features: ['TCW', 'TCLW', 'R250', 'R500', 'R850', 'U850', 'V850', 'EWSS', 'KX', 'CAPE', 'SSHF', 'PEV', 'AWS_lag4', 'AWS_rollmean_9', 'AWS_rollstd_9', 'AWS_rollmean_9', 'AWS_rollstd_9', 'AWS_rollmean_23', 'AWS_rollstd_23']\n",
      "✅ Data shapes - Train: torch.Size([14222, 45, 19]), Val: torch.Size([3943, 45, 19]), Test: torch.Size([5270, 45, 19])\n",
      "Error in fold fold_3: Target size (torch.Size([128, 3])) must be the same as input size (torch.Size([128, 1]))\n",
      "Creating lag features for train set with lags: [4]\n",
      "Creating lag features for val set with lags: [4]\n",
      "Creating lag features for test set with lags: [4]\n",
      "Creating rolling stats for train set with windows: [9, 9, 23]\n",
      "Creating rolling stats for val set with windows: [9, 9, 23]\n",
      "Creating rolling stats for test set with windows: [9, 9, 23]\n",
      "Using 19 features: ['TCW', 'TCLW', 'R250', 'R500', 'R850', 'U850', 'V850', 'EWSS', 'KX', 'CAPE', 'SSHF', 'PEV', 'AWS_lag4', 'AWS_rollmean_9', 'AWS_rollstd_9', 'AWS_rollmean_9', 'AWS_rollstd_9', 'AWS_rollmean_23', 'AWS_rollstd_23']\n",
      "✅ Data shapes - Train: torch.Size([19742, 45, 19]), Val: torch.Size([3673, 45, 19]), Test: torch.Size([5030, 45, 19])\n",
      "Error in fold fold_4: Target size (torch.Size([128, 3])) must be the same as input size (torch.Size([128, 1]))\n",
      "Creating lag features for train set with lags: [4]\n",
      "Creating lag features for val set with lags: [4]\n",
      "Creating lag features for test set with lags: [4]\n",
      "Creating rolling stats for train set with windows: [9, 9, 23]\n",
      "Creating rolling stats for val set with windows: [9, 9, 23]\n",
      "Creating rolling stats for test set with windows: [9, 9, 23]\n",
      "Using 19 features: ['TCW', 'TCLW', 'R250', 'R500', 'R850', 'U850', 'V850', 'EWSS', 'KX', 'CAPE', 'SSHF', 'PEV', 'AWS_lag4', 'AWS_rollmean_9', 'AWS_rollstd_9', 'AWS_rollmean_9', 'AWS_rollstd_9', 'AWS_rollmean_23', 'AWS_rollstd_23']\n"
     ]
    },
    {
     "name": "stderr",
     "output_type": "stream",
     "text": [
      "[I 2025-04-23 17:31:08,598] Trial 17 finished with value: inf and parameters: {'hidden_size': 137, 'num_layers': 3, 'dropout': 0.07435904097621623, 'lr': 0.001721652721766655, 'time_step_in': 45, 'time_step_out': 3, 'stride': 6, 'binary_weight': 0.5253540647794556, 'intensity_weight': 1.53400967547995, 'regression_weight': 1.207620998996288, 'rain_threshold': 0.13391174174563625, 'num_lags': 1, 'lag_0': 4, 'num_windows': 3, 'window_0': 9, 'window_1': 9, 'window_2': 23}. Best is trial 11 with value: 1.0109126448631287.\n"
     ]
    },
    {
     "name": "stdout",
     "output_type": "stream",
     "text": [
      "✅ Data shapes - Train: torch.Size([25262, 45, 19]), Val: torch.Size([3382, 45, 19]), Test: torch.Size([4823, 45, 19])\n",
      "Error in fold fold_5: Target size (torch.Size([128, 3])) must be the same as input size (torch.Size([128, 1]))\n",
      "Creating lag features for train set with lags: [6]\n",
      "Creating lag features for val set with lags: [6]\n",
      "Creating lag features for test set with lags: [6]\n",
      "Creating rolling stats for train set with windows: [3, 6]\n",
      "Creating rolling stats for val set with windows: [3, 6]\n",
      "Creating rolling stats for test set with windows: [3, 6]\n",
      "Using 17 features: ['TCW', 'TCLW', 'R250', 'R500', 'R850', 'U850', 'V850', 'EWSS', 'KX', 'CAPE', 'SSHF', 'PEV', 'AWS_lag6', 'AWS_rollmean_3', 'AWS_rollstd_3', 'AWS_rollmean_6', 'AWS_rollstd_6']\n",
      "✅ Data shapes - Train: torch.Size([4231, 37, 17]), Val: torch.Size([5292, 37, 17]), Test: torch.Size([7156, 37, 17])\n",
      "Error in fold fold_1: Expected input batch_size (1) to match target batch_size (0).\n",
      "Creating lag features for train set with lags: [6]\n",
      "Creating lag features for val set with lags: [6]\n",
      "Creating lag features for test set with lags: [6]\n",
      "Creating rolling stats for train set with windows: [3, 6]\n",
      "Creating rolling stats for val set with windows: [3, 6]\n",
      "Creating rolling stats for test set with windows: [3, 6]\n",
      "Using 17 features: ['TCW', 'TCLW', 'R250', 'R500', 'R850', 'U850', 'V850', 'EWSS', 'KX', 'CAPE', 'SSHF', 'PEV', 'AWS_lag6', 'AWS_rollmean_3', 'AWS_rollstd_3', 'AWS_rollmean_6', 'AWS_rollstd_6']\n",
      "✅ Data shapes - Train: torch.Size([10795, 37, 17]), Val: torch.Size([5306, 37, 17]), Test: torch.Size([6990, 37, 17])\n",
      "  🌀 Epoch 1/5, Total Loss: 11.0970, Binary: 0.6574, Intensity: 0.8056, Regression: 5.9182\n",
      "  🌀 Epoch 2/5, Total Loss: 7.0210, Binary: 0.6143, Intensity: 0.6670, Regression: 3.4151\n",
      "  🌀 Epoch 3/5, Total Loss: 5.8552, Binary: 0.5556, Intensity: 0.4150, Regression: 2.8647\n",
      "  🌀 Epoch 4/5, Total Loss: 5.5995, Binary: 0.5269, Intensity: 0.3913, Regression: 2.7479\n",
      "  🌀 Epoch 5/5, Total Loss: 5.3294, Binary: 0.4817, Intensity: 0.3910, Regression: 2.6310\n",
      "Creating lag features for train set with lags: [6]\n",
      "Creating lag features for val set with lags: [6]\n",
      "Creating lag features for test set with lags: [6]\n",
      "Creating rolling stats for train set with windows: [3, 6]\n",
      "Creating rolling stats for val set with windows: [3, 6]\n",
      "Creating rolling stats for test set with windows: [3, 6]\n",
      "Using 17 features: ['TCW', 'TCLW', 'R250', 'R500', 'R850', 'U850', 'V850', 'EWSS', 'KX', 'CAPE', 'SSHF', 'PEV', 'AWS_lag6', 'AWS_rollmean_3', 'AWS_rollstd_3', 'AWS_rollmean_6', 'AWS_rollstd_6']\n",
      "✅ Data shapes - Train: torch.Size([17559, 37, 17]), Val: torch.Size([5145, 37, 17]), Test: torch.Size([6743, 37, 17])\n",
      "  🌀 Epoch 1/5, Total Loss: 11.3110, Binary: 0.6733, Intensity: 0.8735, Regression: 6.0018\n",
      "  🌀 Epoch 2/5, Total Loss: 6.6584, Binary: 0.6078, Intensity: 0.5380, Regression: 3.2546\n",
      "  🌀 Epoch 3/5, Total Loss: 5.7483, Binary: 0.5439, Intensity: 0.3946, Regression: 2.8208\n",
      "  🌀 Epoch 4/5, Total Loss: 5.4359, Binary: 0.4774, Intensity: 0.3869, Regression: 2.7071\n",
      "  🌀 Epoch 5/5, Total Loss: 5.1705, Binary: 0.3772, Intensity: 0.3942, Regression: 2.6586\n",
      "Creating lag features for train set with lags: [6]\n",
      "Creating lag features for val set with lags: [6]\n",
      "Creating lag features for test set with lags: [6]\n",
      "Creating rolling stats for train set with windows: [3, 6]\n",
      "Creating rolling stats for val set with windows: [3, 6]\n",
      "Creating rolling stats for test set with windows: [3, 6]\n",
      "Using 17 features: ['TCW', 'TCLW', 'R250', 'R500', 'R850', 'U850', 'V850', 'EWSS', 'KX', 'CAPE', 'SSHF', 'PEV', 'AWS_lag6', 'AWS_rollmean_3', 'AWS_rollstd_3', 'AWS_rollmean_6', 'AWS_rollstd_6']\n",
      "✅ Data shapes - Train: torch.Size([24260, 37, 17]), Val: torch.Size([4852, 37, 17]), Test: torch.Size([6482, 37, 17])\n",
      "  🌀 Epoch 1/5, Total Loss: 10.2832, Binary: 0.6752, Intensity: 0.8245, Regression: 5.3617\n",
      "  🌀 Epoch 2/5, Total Loss: 5.9262, Binary: 0.5798, Intensity: 0.4795, Regression: 2.8474\n",
      "  🌀 Epoch 3/5, Total Loss: 5.3915, Binary: 0.4655, Intensity: 0.4068, Regression: 2.6834\n",
      "  🌀 Epoch 4/5, Total Loss: 5.0564, Binary: 0.3475, Intensity: 0.4067, Regression: 2.6162\n",
      "  🌀 Epoch 5/5, Total Loss: 4.9526, Binary: 0.3127, Intensity: 0.3940, Regression: 2.5996\n",
      "Creating lag features for train set with lags: [6]\n",
      "Creating lag features for val set with lags: [6]\n",
      "Creating lag features for test set with lags: [6]\n",
      "Creating rolling stats for train set with windows: [3, 6]\n",
      "Creating rolling stats for val set with windows: [3, 6]\n",
      "Creating rolling stats for test set with windows: [3, 6]\n",
      "Using 17 features: ['TCW', 'TCLW', 'R250', 'R500', 'R850', 'U850', 'V850', 'EWSS', 'KX', 'CAPE', 'SSHF', 'PEV', 'AWS_lag6', 'AWS_rollmean_3', 'AWS_rollstd_3', 'AWS_rollmean_6', 'AWS_rollstd_6']\n",
      "✅ Data shapes - Train: torch.Size([30827, 37, 17]), Val: torch.Size([4609, 37, 17]), Test: torch.Size([6279, 37, 17])\n",
      "  🌀 Epoch 1/5, Total Loss: 9.9869, Binary: 0.6510, Intensity: 0.8593, Regression: 5.1837\n",
      "  🌀 Epoch 2/5, Total Loss: 5.6955, Binary: 0.5426, Intensity: 0.5228, Regression: 2.7237\n",
      "  🌀 Epoch 3/5, Total Loss: 5.2125, Binary: 0.4555, Intensity: 0.4140, Regression: 2.5771\n",
      "  🌀 Epoch 4/5, Total Loss: 4.9555, Binary: 0.3803, Intensity: 0.4165, Regression: 2.5050\n"
     ]
    },
    {
     "name": "stderr",
     "output_type": "stream",
     "text": [
      "[I 2025-04-23 17:31:56,676] Trial 18 finished with value: 0.9371699094772339 and parameters: {'hidden_size': 33, 'num_layers': 3, 'dropout': 0.2603221931442648, 'lr': 0.0014685413143977106, 'time_step_in': 37, 'time_step_out': 1, 'stride': 5, 'binary_weight': 1.9555325512038975, 'intensity_weight': 0.7816173277290759, 'regression_weight': 1.551441205543469, 'rain_threshold': 0.07633697095473296, 'num_lags': 1, 'lag_0': 6, 'num_windows': 2, 'window_0': 3, 'window_1': 6}. Best is trial 18 with value: 0.9371699094772339.\n"
     ]
    },
    {
     "name": "stdout",
     "output_type": "stream",
     "text": [
      "  🌀 Epoch 5/5, Total Loss: 4.8392, Binary: 0.3398, Intensity: 0.4092, Regression: 2.4847\n",
      "Creating lag features for train set with lags: [7, 9]\n",
      "Creating lag features for val set with lags: [7, 9]\n",
      "Creating lag features for test set with lags: [7, 9]\n",
      "Creating rolling stats for train set with windows: [13, 12, 15]\n",
      "Creating rolling stats for val set with windows: [13, 12, 15]\n",
      "Creating rolling stats for test set with windows: [13, 12, 15]\n",
      "Using 20 features: ['TCW', 'TCLW', 'R250', 'R500', 'R850', 'U850', 'V850', 'EWSS', 'KX', 'CAPE', 'SSHF', 'PEV', 'AWS_lag7', 'AWS_lag9', 'AWS_rollmean_13', 'AWS_rollstd_13', 'AWS_rollmean_12', 'AWS_rollstd_12', 'AWS_rollmean_15', 'AWS_rollstd_15']\n",
      "✅ Data shapes - Train: torch.Size([4850, 29, 20]), Val: torch.Size([5548, 29, 20]), Test: torch.Size([7410, 29, 20])\n",
      "Error in fold fold_1: Target size (torch.Size([128, 2])) must be the same as input size (torch.Size([128, 1]))\n",
      "Creating lag features for train set with lags: [7, 9]\n",
      "Creating lag features for val set with lags: [7, 9]\n",
      "Creating lag features for test set with lags: [7, 9]\n"
     ]
    },
    {
     "name": "stderr",
     "output_type": "stream",
     "text": [
      "/usr/local/lib/python3.10/dist-packages/torch/nn/modules/rnn.py:123: UserWarning: dropout option adds dropout after all but last recurrent layer, so non-zero dropout expects num_layers greater than 1, but got dropout=0.28216725968774903 and num_layers=1\n",
      "  warnings.warn(\n"
     ]
    },
    {
     "name": "stdout",
     "output_type": "stream",
     "text": [
      "Creating rolling stats for train set with windows: [13, 12, 15]\n",
      "Creating rolling stats for val set with windows: [13, 12, 15]\n",
      "Creating rolling stats for test set with windows: [13, 12, 15]\n",
      "Using 20 features: ['TCW', 'TCLW', 'R250', 'R500', 'R850', 'U850', 'V850', 'EWSS', 'KX', 'CAPE', 'SSHF', 'PEV', 'AWS_lag7', 'AWS_lag9', 'AWS_rollmean_13', 'AWS_rollstd_13', 'AWS_rollmean_12', 'AWS_rollstd_12', 'AWS_rollmean_15', 'AWS_rollstd_15']\n",
      "✅ Data shapes - Train: torch.Size([11462, 29, 20]), Val: torch.Size([5546, 29, 20]), Test: torch.Size([7295, 29, 20])\n",
      "Error in fold fold_2: Target size (torch.Size([128, 2])) must be the same as input size (torch.Size([128, 1]))\n",
      "Creating lag features for train set with lags: [7, 9]\n",
      "Creating lag features for val set with lags: [7, 9]\n"
     ]
    },
    {
     "name": "stderr",
     "output_type": "stream",
     "text": [
      "/usr/local/lib/python3.10/dist-packages/torch/nn/modules/rnn.py:123: UserWarning: dropout option adds dropout after all but last recurrent layer, so non-zero dropout expects num_layers greater than 1, but got dropout=0.28216725968774903 and num_layers=1\n",
      "  warnings.warn(\n"
     ]
    },
    {
     "name": "stdout",
     "output_type": "stream",
     "text": [
      "Creating lag features for test set with lags: [7, 9]\n",
      "Creating rolling stats for train set with windows: [13, 12, 15]\n",
      "Creating rolling stats for val set with windows: [13, 12, 15]\n",
      "Creating rolling stats for test set with windows: [13, 12, 15]\n",
      "Using 20 features: ['TCW', 'TCLW', 'R250', 'R500', 'R850', 'U850', 'V850', 'EWSS', 'KX', 'CAPE', 'SSHF', 'PEV', 'AWS_lag7', 'AWS_lag9', 'AWS_rollmean_13', 'AWS_rollstd_13', 'AWS_rollmean_12', 'AWS_rollstd_12', 'AWS_rollmean_15', 'AWS_rollstd_15']\n",
      "✅ Data shapes - Train: torch.Size([18029, 29, 20]), Val: torch.Size([5416, 29, 20]), Test: torch.Size([7041, 29, 20])\n",
      "Error in fold fold_3: Target size (torch.Size([128, 2])) must be the same as input size (torch.Size([128, 1]))\n",
      "Creating lag features for train set with lags: [7, 9]\n",
      "Creating lag features for val set with lags: [7, 9]\n"
     ]
    },
    {
     "name": "stderr",
     "output_type": "stream",
     "text": [
      "/usr/local/lib/python3.10/dist-packages/torch/nn/modules/rnn.py:123: UserWarning: dropout option adds dropout after all but last recurrent layer, so non-zero dropout expects num_layers greater than 1, but got dropout=0.28216725968774903 and num_layers=1\n",
      "  warnings.warn(\n"
     ]
    },
    {
     "name": "stdout",
     "output_type": "stream",
     "text": [
      "Creating lag features for test set with lags: [7, 9]\n",
      "Creating rolling stats for train set with windows: [13, 12, 15]\n",
      "Creating rolling stats for val set with windows: [13, 12, 15]\n",
      "Creating rolling stats for test set with windows: [13, 12, 15]\n",
      "Using 20 features: ['TCW', 'TCLW', 'R250', 'R500', 'R850', 'U850', 'V850', 'EWSS', 'KX', 'CAPE', 'SSHF', 'PEV', 'AWS_lag7', 'AWS_lag9', 'AWS_rollmean_13', 'AWS_rollstd_13', 'AWS_rollmean_12', 'AWS_rollstd_12', 'AWS_rollmean_15', 'AWS_rollstd_15']\n",
      "✅ Data shapes - Train: torch.Size([24595, 29, 20]), Val: torch.Size([5264, 29, 20]), Test: torch.Size([6823, 29, 20])\n",
      "Error in fold fold_4: Target size (torch.Size([128, 2])) must be the same as input size (torch.Size([128, 1]))\n",
      "Creating lag features for train set with lags: [7, 9]\n",
      "Creating lag features for val set with lags: [7, 9]\n"
     ]
    },
    {
     "name": "stderr",
     "output_type": "stream",
     "text": [
      "/usr/local/lib/python3.10/dist-packages/torch/nn/modules/rnn.py:123: UserWarning: dropout option adds dropout after all but last recurrent layer, so non-zero dropout expects num_layers greater than 1, but got dropout=0.28216725968774903 and num_layers=1\n",
      "  warnings.warn(\n"
     ]
    },
    {
     "name": "stdout",
     "output_type": "stream",
     "text": [
      "Creating lag features for test set with lags: [7, 9]\n",
      "Creating rolling stats for train set with windows: [13, 12, 15]\n",
      "Creating rolling stats for val set with windows: [13, 12, 15]\n",
      "Creating rolling stats for test set with windows: [13, 12, 15]\n",
      "Using 20 features: ['TCW', 'TCLW', 'R250', 'R500', 'R850', 'U850', 'V850', 'EWSS', 'KX', 'CAPE', 'SSHF', 'PEV', 'AWS_lag7', 'AWS_lag9', 'AWS_rollmean_13', 'AWS_rollstd_13', 'AWS_rollmean_12', 'AWS_rollstd_12', 'AWS_rollmean_15', 'AWS_rollstd_15']\n"
     ]
    },
    {
     "name": "stderr",
     "output_type": "stream",
     "text": [
      "/usr/local/lib/python3.10/dist-packages/torch/nn/modules/rnn.py:123: UserWarning: dropout option adds dropout after all but last recurrent layer, so non-zero dropout expects num_layers greater than 1, but got dropout=0.28216725968774903 and num_layers=1\n",
      "  warnings.warn(\n",
      "[I 2025-04-23 17:32:27,618] Trial 19 finished with value: inf and parameters: {'hidden_size': 42, 'num_layers': 1, 'dropout': 0.28216725968774903, 'lr': 0.001321033912105475, 'time_step_in': 29, 'time_step_out': 2, 'stride': 5, 'binary_weight': 1.5876341379100845, 'intensity_weight': 0.8579094716628972, 'regression_weight': 1.5396726126351952, 'rain_threshold': 0.19755933479288057, 'num_lags': 2, 'lag_0': 7, 'lag_1': 9, 'num_windows': 3, 'window_0': 13, 'window_1': 12, 'window_2': 15}. Best is trial 18 with value: 0.9371699094772339.\n"
     ]
    },
    {
     "name": "stdout",
     "output_type": "stream",
     "text": [
      "✅ Data shapes - Train: torch.Size([31161, 29, 20]), Val: torch.Size([5052, 29, 20]), Test: torch.Size([6638, 29, 20])\n",
      "Error in fold fold_5: Target size (torch.Size([128, 2])) must be the same as input size (torch.Size([128, 1]))\n",
      "✅ Best parameters for 2020-10:\n",
      "  hidden_size: 33\n",
      "  num_layers: 3\n",
      "  dropout: 0.2603221931442648\n",
      "  lr: 0.0014685413143977106\n",
      "  time_step_in: 37\n",
      "  time_step_out: 1\n",
      "  stride: 5\n",
      "  binary_weight: 1.9555325512038975\n",
      "  intensity_weight: 0.7816173277290759\n",
      "  regression_weight: 1.551441205543469\n",
      "  rain_threshold: 0.07633697095473296\n",
      "  num_lags: 1\n",
      "  lag_0: 6\n",
      "  num_windows: 2\n",
      "  window_0: 3\n",
      "  window_1: 6\n",
      "💾 Best parameters saved to hybrid_best_params_2020-10.json\n",
      "\n",
      "📦 Final evaluation on 2020-10, fold_1 test set\n",
      "\n",
      "🚀 Training hybrid model for 2020-10, fold_1 with best parameters\n",
      "Creating lag features for train set with lags: [6]\n",
      "Creating lag features for val set with lags: [6]\n",
      "Creating lag features for test set with lags: [6]\n",
      "Creating rolling stats for train set with windows: [3, 6]\n",
      "Creating rolling stats for val set with windows: [3, 6]\n",
      "Creating rolling stats for test set with windows: [3, 6]\n",
      "Using 17 features: ['TCW', 'TCLW', 'R250', 'R500', 'R850', 'U850', 'V850', 'EWSS', 'KX', 'CAPE', 'SSHF', 'PEV', 'AWS_lag6', 'AWS_rollmean_3', 'AWS_rollstd_3', 'AWS_rollmean_6', 'AWS_rollstd_6']\n",
      "✅ Data shapes - Train: torch.Size([4231, 37, 17]), Val: torch.Size([5292, 37, 17]), Test: torch.Size([7156, 37, 17])\n",
      "🏋️ Training hybrid model on train set...\n",
      "  🌀 Epoch 1/15, Total Loss: 15.3944, Binary: 0.6944, Intensity: 0.9666, Regression: 8.5604\n",
      "❌ Error during optimization for 2020-10: Expected input batch_size (1) to match target batch_size (0).\n",
      "\n",
      "📊 Results by Month:\n",
      "Empty DataFrame\n",
      "Columns: []\n",
      "Index: []\n",
      "💾 Results saved to hybrid_month_results.csv and hybrid_all_fold_results.csv\n"
     ]
    }
   ],
   "source": [
    "# Execute optimization\n",
    "if __name__ == \"__main__\":\n",
    "    print(f\"Running on device: {DEVICE}\")\n",
    "    run_hybrid_optuna_optimization()"
   ]
  }
 ],
 "metadata": {
  "kaggle": {
   "accelerator": "gpu",
   "dataSources": [
    {
     "datasetId": 7085647,
     "sourceId": 11327529,
     "sourceType": "datasetVersion"
    },
    {
     "datasetId": 7091976,
     "sourceId": 11340032,
     "sourceType": "datasetVersion"
    },
    {
     "datasetId": 7117290,
     "sourceId": 11369580,
     "sourceType": "datasetVersion"
    },
    {
     "datasetId": 6984394,
     "isSourceIdPinned": true,
     "sourceId": 11378857,
     "sourceType": "datasetVersion"
    },
    {
     "datasetId": 7142988,
     "sourceId": 11403913,
     "sourceType": "datasetVersion"
    },
    {
     "datasetId": 7173004,
     "sourceId": 11448922,
     "sourceType": "datasetVersion"
    },
    {
     "datasetId": 7186553,
     "sourceId": 11467955,
     "sourceType": "datasetVersion"
    }
   ],
   "dockerImageVersionId": 30919,
   "isGpuEnabled": true,
   "isInternetEnabled": true,
   "language": "python",
   "sourceType": "notebook"
  },
  "kernelspec": {
   "display_name": "Python 3",
   "language": "python",
   "name": "python3"
  },
  "language_info": {
   "codemirror_mode": {
    "name": "ipython",
    "version": 3
   },
   "file_extension": ".py",
   "mimetype": "text/x-python",
   "name": "python",
   "nbconvert_exporter": "python",
   "pygments_lexer": "ipython3",
   "version": "3.10.12"
  },
  "papermill": {
   "default_parameters": {},
   "duration": 3814.473033,
   "end_time": "2025-04-23T17:32:33.597461",
   "environment_variables": {},
   "exception": null,
   "input_path": "__notebook__.ipynb",
   "output_path": "__notebook__.ipynb",
   "parameters": {},
   "start_time": "2025-04-23T16:28:59.124428",
   "version": "2.6.0"
  }
 },
 "nbformat": 4,
 "nbformat_minor": 5
}
