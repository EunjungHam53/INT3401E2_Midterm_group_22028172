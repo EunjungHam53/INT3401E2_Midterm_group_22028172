{
 "cells": [
  {
   "cell_type": "markdown",
   "id": "0bc28b28",
   "metadata": {
    "papermill": {
     "duration": 0.004272,
     "end_time": "2025-04-19T08:47:43.747021",
     "exception": false,
     "start_time": "2025-04-19T08:47:43.742749",
     "status": "completed"
    },
    "tags": []
   },
   "source": [
    "\n",
    "# Random Forest + Optuna Pipeline\n",
    "This notebook builds and evaluates Random Forest models with Optuna hyperparameter optimization over multiple time-based folds."
   ]
  },
  {
   "cell_type": "markdown",
   "id": "c70b2821",
   "metadata": {
    "papermill": {
     "duration": 0.003408,
     "end_time": "2025-04-19T08:47:43.754821",
     "exception": false,
     "start_time": "2025-04-19T08:47:43.751413",
     "status": "completed"
    },
    "tags": []
   },
   "source": [
    "## 1. Imports and Setup"
   ]
  },
  {
   "cell_type": "code",
   "execution_count": 1,
   "id": "136b7215",
   "metadata": {
    "execution": {
     "iopub.execute_input": "2025-04-19T08:47:43.763234Z",
     "iopub.status.busy": "2025-04-19T08:47:43.762898Z",
     "iopub.status.idle": "2025-04-19T08:47:48.345030Z",
     "shell.execute_reply": "2025-04-19T08:47:48.344053Z"
    },
    "papermill": {
     "duration": 4.588834,
     "end_time": "2025-04-19T08:47:48.347152",
     "exception": false,
     "start_time": "2025-04-19T08:47:43.758318",
     "status": "completed"
    },
    "tags": []
   },
   "outputs": [],
   "source": [
    "import pandas as pd\n",
    "import numpy as np\n",
    "from sklearn.ensemble import RandomForestRegressor\n",
    "from sklearn.metrics import mean_squared_error\n",
    "from scipy.stats import pearsonr, ConstantInputWarning\n",
    "import optuna\n",
    "from tqdm import tqdm\n",
    "import joblib\n",
    "import pickle\n",
    "from pathlib import Path\n",
    "import warnings\n",
    "from IPython.display import display\n",
    "import os\n",
    "import matplotlib.pyplot as plt\n",
    "import seaborn as sns\n",
    "\n",
    "# Configure logging and warnings\n",
    "optuna.logging.set_verbosity(optuna.logging.WARNING)\n",
    "warnings.filterwarnings('ignore', category=ConstantInputWarning)\n",
    "pd.set_option('future.no_silent_downcasting', True)"
   ]
  },
  {
   "cell_type": "markdown",
   "id": "e4f36684",
   "metadata": {
    "papermill": {
     "duration": 0.003422,
     "end_time": "2025-04-19T08:47:48.355325",
     "exception": false,
     "start_time": "2025-04-19T08:47:48.351903",
     "status": "completed"
    },
    "tags": []
   },
   "source": [
    "## 2. Configuration"
   ]
  },
  {
   "cell_type": "code",
   "execution_count": 2,
   "id": "9b067c02",
   "metadata": {
    "execution": {
     "iopub.execute_input": "2025-04-19T08:47:48.365053Z",
     "iopub.status.busy": "2025-04-19T08:47:48.364594Z",
     "iopub.status.idle": "2025-04-19T08:47:48.371008Z",
     "shell.execute_reply": "2025-04-19T08:47:48.370229Z"
    },
    "papermill": {
     "duration": 0.013329,
     "end_time": "2025-04-19T08:47:48.372378",
     "exception": false,
     "start_time": "2025-04-19T08:47:48.359049",
     "status": "completed"
    },
    "tags": []
   },
   "outputs": [],
   "source": [
    "class Config:\n",
    "    MONTHS = ['2019-04', '2019-10', '2020-04', '2020-10']\n",
    "    FOLDS = range(1, 6)\n",
    "    SELECTED_FEATURES = [\n",
    "        'ROW', 'COL', 'TCW', 'R250', 'R500', 'R850', 'U850',\n",
    "        'V850', 'EWSS', 'KX', 'CAPE', 'SSHF', 'PEV', 'TCLW',\n",
    "        'CIN', 'IE', 'ISOR', 'SLHF', 'SLOR', 'TCWV', 'U250', 'V250'\n",
    "    ]\n",
    "    TARGET = 'AWS'\n",
    "    CSI_THRESHOLD = 0.01\n",
    "    OPTUNA_TRIALS = 50\n",
    "    RANDOM_STATE = 42\n",
    "    N_JOBS = -1\n",
    "    BASE_DATA_PATH = Path('/kaggle/input/ai-dataknnimputedataset-k-fold')\n",
    "    CACHE_DIR = Path('./cachedir')\n",
    "    OUTPUT_DIR = Path('/kaggle/working')\n",
    "    METRICS = ['RMSE', 'Pearson R', 'Bias', 'CSI']\n",
    "    SAVE_PREDICTIONS = True\n",
    "    SAVE_VALIDATION_PREDICTIONS = False\n",
    "    LAG_STEPS = [1, 2, 3]\n",
    "    WINDOW_SIZES = [3, 6]\n",
    "    USE_LAG_FEATURES = True\n",
    "    USE_ROLLING_STATISTICS = True\n",
    "\n",
    "# Set up caching\n",
    "memory = joblib.Memory(location=Config.CACHE_DIR, verbose=0)"
   ]
  },
  {
   "cell_type": "markdown",
   "id": "b457d314",
   "metadata": {
    "papermill": {
     "duration": 0.003187,
     "end_time": "2025-04-19T08:47:48.379068",
     "exception": false,
     "start_time": "2025-04-19T08:47:48.375881",
     "status": "completed"
    },
    "tags": []
   },
   "source": [
    "## 3. Utility Functions"
   ]
  },
  {
   "cell_type": "code",
   "execution_count": 3,
   "id": "425c2f67",
   "metadata": {
    "execution": {
     "iopub.execute_input": "2025-04-19T08:47:48.387158Z",
     "iopub.status.busy": "2025-04-19T08:47:48.386468Z",
     "iopub.status.idle": "2025-04-19T08:47:48.395698Z",
     "shell.execute_reply": "2025-04-19T08:47:48.394776Z"
    },
    "papermill": {
     "duration": 0.01478,
     "end_time": "2025-04-19T08:47:48.397069",
     "exception": false,
     "start_time": "2025-04-19T08:47:48.382289",
     "status": "completed"
    },
    "tags": []
   },
   "outputs": [],
   "source": [
    "def compute_csi(y_true, y_pred, threshold):\n",
    "    y_true_event = y_true >= threshold\n",
    "    y_pred_event = y_pred >= threshold\n",
    "    tp = np.sum(y_true_event & y_pred_event)\n",
    "    fp = np.sum(~y_true_event & y_pred_event)\n",
    "    fn = np.sum(y_true_event & ~y_pred_event)\n",
    "    denom = tp + fp + fn\n",
    "    return tp / denom if denom != 0 else 0.0\n",
    "\n",
    "\n",
    "def save_predictions(month, fold, y_true, y_pred, dataset_type, location_data=None):\n",
    "    if dataset_type == 'val' and not Config.SAVE_VALIDATION_PREDICTIONS:\n",
    "        return\n",
    "    if not Config.SAVE_PREDICTIONS:\n",
    "        return\n",
    "\n",
    "    pred_dir = Config.OUTPUT_DIR / 'predictions'\n",
    "    pred_dir.mkdir(exist_ok=True)\n",
    "\n",
    "    pred_df = pd.DataFrame({'true': y_true, 'pred': y_pred})\n",
    "    if location_data is not None:\n",
    "        for col in ['ROW', 'COL']:\n",
    "            if col in location_data.columns:\n",
    "                pred_df[col] = location_data[col].values\n",
    "\n",
    "    filename = pred_dir / f\"{month}_fold{fold}_{dataset_type}_predictions.csv\"\n",
    "    pred_df.to_csv(filename, index=False)\n",
    "\n",
    "\n",
    "def check_predictions_variability(model, X, y, threshold=1e-6):\n",
    "    preds = model.predict(X)\n",
    "    return np.std(preds) > threshold\n",
    "\n",
    "\n",
    "def analyze_feature_importance(model, feature_names):\n",
    "    importances = model.feature_importances_\n",
    "    indices = np.argsort(importances)[::-1]\n",
    "    return {feature_names[i]: importances[i] for i in indices}\n",
    "\n",
    "\n",
    "def display_feature_importance(all_models, feature_names):\n",
    "    all_importances = {}\n",
    "    for month, model in all_models.items():\n",
    "        for i, feat in enumerate(feature_names):\n",
    "            all_importances.setdefault(feat, []).append(model.feature_importances_[i])\n",
    "    avg_importances = {f: np.mean(v) for f, v in all_importances.items()}\n",
    "    return avg_importances"
   ]
  },
  {
   "cell_type": "markdown",
   "id": "3f430bbb",
   "metadata": {
    "papermill": {
     "duration": 0.00307,
     "end_time": "2025-04-19T08:47:48.403506",
     "exception": false,
     "start_time": "2025-04-19T08:47:48.400436",
     "status": "completed"
    },
    "tags": []
   },
   "source": [
    "## 4. Feature Engineering Functions"
   ]
  },
  {
   "cell_type": "code",
   "execution_count": 4,
   "id": "48078f18",
   "metadata": {
    "execution": {
     "iopub.execute_input": "2025-04-19T08:47:48.411974Z",
     "iopub.status.busy": "2025-04-19T08:47:48.411649Z",
     "iopub.status.idle": "2025-04-19T08:47:48.431872Z",
     "shell.execute_reply": "2025-04-19T08:47:48.431002Z"
    },
    "papermill": {
     "duration": 0.026541,
     "end_time": "2025-04-19T08:47:48.433427",
     "exception": false,
     "start_time": "2025-04-19T08:47:48.406886",
     "status": "completed"
    },
    "tags": []
   },
   "outputs": [],
   "source": [
    "def create_lag_features(train_df, val_test_df, target_col, lag_steps=[1, 2, 3], group_cols=['ROW', 'COL']):\n",
    "    train_copy = train_df.copy()\n",
    "    val_test_copy = val_test_df.copy()\n",
    "\n",
    "    if 'DATETIME' in train_copy.columns:\n",
    "        train_copy['DATETIME'] = pd.to_datetime(train_copy['DATETIME'])\n",
    "    if 'DATETIME' in val_test_copy.columns:\n",
    "        val_test_copy['DATETIME'] = pd.to_datetime(val_test_copy['DATETIME'])\n",
    "\n",
    "    if 'DATETIME' in train_copy.columns:\n",
    "        train_copy = train_copy.sort_values(by=group_cols + ['DATETIME'])\n",
    "    if 'DATETIME' in val_test_copy.columns:\n",
    "        val_test_copy = val_test_copy.sort_values(by=group_cols + ['DATETIME'])\n",
    "\n",
    "    for lag in lag_steps:\n",
    "        if len(group_cols) > 0:\n",
    "            train_copy[f'{target_col}_lag{lag}'] = train_copy.groupby(group_cols)[target_col].shift(lag)\n",
    "        else:\n",
    "            train_copy[f'{target_col}_lag{lag}'] = train_copy[target_col].shift(lag)\n",
    "\n",
    "    combined_dfs = []\n",
    "\n",
    "    for group_vals, group_df in val_test_copy.groupby(group_cols):\n",
    "        group_filter = dict(zip(group_cols, group_vals)) if isinstance(group_vals, tuple) else {group_cols[0]: group_vals}\n",
    "\n",
    "        history_df = train_copy\n",
    "        for col, val in group_filter.items():\n",
    "            history_df = history_df[history_df[col] == val]\n",
    "\n",
    "        if 'DATETIME' in group_df.columns and 'DATETIME' in history_df.columns:\n",
    "            if not history_df.empty:\n",
    "                latest_history_time = history_df['DATETIME'].max()\n",
    "                valid_history = history_df[history_df['DATETIME'] < group_df['DATETIME'].min()]\n",
    "                combined_df = pd.concat([valid_history, group_df]).sort_values(by='DATETIME')\n",
    "            else:\n",
    "                combined_df = group_df.copy()\n",
    "        else:\n",
    "            combined_df = pd.concat([history_df, group_df])\n",
    "\n",
    "        for lag in lag_steps:\n",
    "            combined_df[f'{target_col}_lag{lag}'] = combined_df[target_col].shift(lag)\n",
    "\n",
    "        if 'DATETIME' in group_df.columns:\n",
    "            result_df = combined_df[combined_df['DATETIME'].isin(group_df['DATETIME'])]\n",
    "        else:\n",
    "            result_df = combined_df.tail(len(group_df))\n",
    "\n",
    "        combined_dfs.append(result_df)\n",
    "\n",
    "    return pd.concat(combined_dfs) if combined_dfs else val_test_copy\n",
    "\n",
    "def create_rolling_statistics(train_df, val_test_df, target_col, window_sizes=[3, 6], group_cols=['ROW', 'COL']):\n",
    "    \"\"\"\n",
    "    Creates rolling window statistics (mean, std) for the target column.\n",
    "    Applies .shift(1) after calculation to prevent data leakage, ensuring\n",
    "    features for time t only use data up to t-1.\n",
    "    \"\"\"\n",
    "    train_copy = train_df.copy()\n",
    "    val_test_copy = val_test_df.copy()\n",
    "\n",
    "    # Ensure DATETIME column exists and is sorted\n",
    "    if 'DATETIME' not in train_copy.columns or 'DATETIME' not in val_test_copy.columns:\n",
    "        print(\"Warning: DATETIME column not found. Skipping rolling statistics.\")\n",
    "        return val_test_copy # Return original df if no datetime\n",
    "\n",
    "    train_copy['DATETIME'] = pd.to_datetime(train_copy['DATETIME'])\n",
    "    val_test_copy['DATETIME'] = pd.to_datetime(val_test_copy['DATETIME'])\n",
    "    train_copy = train_copy.sort_values(by=group_cols + ['DATETIME'])\n",
    "    val_test_copy = val_test_copy.sort_values(by=group_cols + ['DATETIME'])\n",
    "\n",
    "    # --- Pre-calculate shifted rolling stats on training data ---\n",
    "    # This helps provide history for the first few points in val_test_df\n",
    "    # Applying shift(1) here too for consistency and correctness within training history.\n",
    "    for window in window_sizes:\n",
    "        roll_mean_col = f'{target_col}_rollmean_{window}'\n",
    "        roll_std_col = f'{target_col}_rollstd_{window}'\n",
    "\n",
    "        # Calculate rolling stats (includes current point t)\n",
    "        train_copy[roll_mean_col] = train_copy.groupby(group_cols)[target_col].transform(\n",
    "            lambda x: x.rolling(window=window, min_periods=1).mean()\n",
    "        )\n",
    "        train_copy[roll_std_col] = train_copy.groupby(group_cols)[target_col].transform(\n",
    "            lambda x: x.rolling(window=window, min_periods=1).std()\n",
    "        )\n",
    "\n",
    "        # Shift the results by 1 within each group to avoid lookahead bias\n",
    "        train_copy[roll_mean_col] = train_copy.groupby(group_cols)[roll_mean_col].shift(1)\n",
    "        train_copy[roll_std_col] = train_copy.groupby(group_cols)[roll_std_col].shift(1)\n",
    "    # ----------------------------------------------------------\n",
    "\n",
    "    combined_dfs = [] # To store results for each group\n",
    "\n",
    "    # Iterate through each group (e.g., each location) in the validation/test set\n",
    "    for group_vals, group_df in val_test_copy.groupby(group_cols):\n",
    "        # Create a filter dictionary for the current group\n",
    "        group_filter = dict(zip(group_cols, group_vals)) if isinstance(group_vals, tuple) else {group_cols[0]: group_vals}\n",
    "\n",
    "        # Find the relevant historical data for this group from the (modified) training set\n",
    "        history_df = train_copy\n",
    "        for col, val in group_filter.items():\n",
    "            history_df = history_df[history_df[col] == val] # Filter by group values\n",
    "\n",
    "        # Combine historical data (before the current group's start time) and current group data\n",
    "        if not history_df.empty:\n",
    "            # Only use history strictly before the current group's first timestamp\n",
    "            valid_history = history_df[history_df['DATETIME'] < group_df['DATETIME'].min()]\n",
    "            # Concatenate valid history with the current group's data\n",
    "            combined_df = pd.concat([valid_history, group_df], ignore_index=True).sort_values(by='DATETIME')\n",
    "        else:\n",
    "            # If no history for this group, just use the group's data\n",
    "            combined_df = group_df.copy().sort_values(by='DATETIME')\n",
    "\n",
    "        # Calculate rolling statistics on the combined data, then shift\n",
    "        for window in window_sizes:\n",
    "            roll_mean_col = f'{target_col}_rollmean_{window}'\n",
    "            roll_std_col = f'{target_col}_rollstd_{window}'\n",
    "\n",
    "            # Calculate rolling stats (this calculation still includes point t)\n",
    "            combined_df[roll_mean_col] = combined_df[target_col].rolling(\n",
    "                window=window, min_periods=1).mean()\n",
    "            combined_df[roll_std_col] = combined_df[target_col].rolling(\n",
    "                window=window, min_periods=1).std()\n",
    "\n",
    "            # *** THE FIX: Shift the results by 1 ***\n",
    "            # This ensures the feature at row t uses data only up to t-1\n",
    "            combined_df[roll_mean_col] = combined_df[roll_mean_col].shift(1)\n",
    "            combined_df[roll_std_col] = combined_df[roll_std_col].shift(1)\n",
    "            # ***************************************\n",
    "\n",
    "        # Filter the combined dataframe to get only the rows corresponding to the original val/test group\n",
    "        # These rows now have the correctly shifted rolling features\n",
    "        result_df = combined_df[combined_df['DATETIME'].isin(group_df['DATETIME'])].copy() # Use .copy() to avoid SettingWithCopyWarning later\n",
    "        combined_dfs.append(result_df)\n",
    "\n",
    "    # Concatenate results from all groups and sort one last time\n",
    "    if combined_dfs:\n",
    "        final_df = pd.concat(combined_dfs).sort_values(by=group_cols + ['DATETIME'])\n",
    "        # Ensure the index is unique if needed, though sorting usually handles it\n",
    "        final_df = final_df.reset_index(drop=True)\n",
    "        return final_df\n",
    "    else:\n",
    "        # If val_test_copy was empty or had no groups, return the original (potentially empty) copy\n",
    "        return val_test_copy\n",
    "\n",
    "def handle_missing_values(df, lag_steps, window_sizes):\n",
    "    \"\"\"Handle missing values without chained assignment warnings or downcasting issues.\"\"\"\n",
    "    df = df.copy()\n",
    "\n",
    "    # Replace infinities without inplace to avoid downcasting warning\n",
    "    df = df.replace([np.inf, -np.inf], np.nan)\n",
    "\n",
    "    lag_roll_cols = [\n",
    "        col for col in df.columns\n",
    "        if (Config.USE_LAG_FEATURES and any(col.endswith(f\"_lag{lag}\") for lag in lag_steps)) or\n",
    "           (Config.USE_ROLLING_STATISTICS and any(col.endswith(f\"_rollmean_{window}\") for window in window_sizes)) or\n",
    "           (Config.USE_ROLLING_STATISTICS and any(col.endswith(f\"_rollstd_{window}\") for window in window_sizes))\n",
    "    ]\n",
    "\n",
    "    if lag_roll_cols:\n",
    "        df[lag_roll_cols] = df[lag_roll_cols].fillna(0)\n",
    "\n",
    "    return df"
   ]
  },
  {
   "cell_type": "markdown",
   "id": "cc8227e7",
   "metadata": {
    "papermill": {
     "duration": 0.00317,
     "end_time": "2025-04-19T08:47:48.440202",
     "exception": false,
     "start_time": "2025-04-19T08:47:48.437032",
     "status": "completed"
    },
    "tags": []
   },
   "source": [
    "## 5. Data Loading and Processing"
   ]
  },
  {
   "cell_type": "code",
   "execution_count": 5,
   "id": "0b3d8b1a",
   "metadata": {
    "execution": {
     "iopub.execute_input": "2025-04-19T08:47:48.448020Z",
     "iopub.status.busy": "2025-04-19T08:47:48.447684Z",
     "iopub.status.idle": "2025-04-19T08:47:48.464241Z",
     "shell.execute_reply": "2025-04-19T08:47:48.463434Z"
    },
    "papermill": {
     "duration": 0.022181,
     "end_time": "2025-04-19T08:47:48.465684",
     "exception": false,
     "start_time": "2025-04-19T08:47:48.443503",
     "status": "completed"
    },
    "tags": []
   },
   "outputs": [],
   "source": [
    "@memory.cache\n",
    "def load_and_process_data(train_path, val_test_path, selected_features, lag_steps=[1, 2, 3],\n",
    "                            window_sizes=[3, 7], is_test=False):\n",
    "    try:\n",
    "        train_df = pd.read_csv(train_path)\n",
    "        val_test_df = pd.read_csv(val_test_path)\n",
    "    except FileNotFoundError:\n",
    "        raise ValueError(f\"Data file not found\")\n",
    "\n",
    "    if Config.USE_LAG_FEATURES:\n",
    "        val_test_with_lags = create_lag_features(train_df, val_test_df, Config.TARGET, lag_steps, ['ROW', 'COL'])\n",
    "    else:\n",
    "        val_test_with_lags = val_test_df.copy()\n",
    "\n",
    "    if Config.USE_ROLLING_STATISTICS:\n",
    "        val_test_with_features = create_rolling_statistics(train_df, val_test_with_lags, Config.TARGET, window_sizes, ['ROW', 'COL'])\n",
    "    else:\n",
    "        val_test_with_features = val_test_with_lags.copy()\n",
    "\n",
    "    if Config.USE_LAG_FEATURES:\n",
    "        for lag in lag_steps:\n",
    "            train_df[f'{Config.TARGET}_lag{lag}'] = train_df.groupby(['ROW', 'COL'])[Config.TARGET].shift(lag)\n",
    "\n",
    "    if Config.USE_ROLLING_STATISTICS:\n",
    "        for window in window_sizes:\n",
    "            train_df[f'{Config.TARGET}_rollmean_{window}'] = train_df.groupby(['ROW', 'COL'])[Config.TARGET].transform(\n",
    "                lambda x: x.rolling(window, min_periods=1).mean())\n",
    "            train_df[f'{Config.TARGET}_rollstd_{window}'] = train_df.groupby(['ROW', 'COL'])[Config.TARGET].transform(\n",
    "                lambda x: x.rolling(window, min_periods=1).std())\n",
    "\n",
    "    train_df = train_df.drop(columns=['DATETIME'], errors='ignore')\n",
    "    val_test_with_features = val_test_with_features.drop(columns=['DATETIME'], errors='ignore')\n",
    "\n",
    "    train_df = handle_missing_values(train_df, lag_steps, window_sizes)\n",
    "    val_test_with_features = handle_missing_values(val_test_with_features, lag_steps, window_sizes)\n",
    "\n",
    "    train_df.dropna(subset=[Config.TARGET], inplace=True)\n",
    "    val_test_with_features.dropna(subset=[Config.TARGET], inplace=True)\n",
    "\n",
    "    feature_cols = [col for col in train_df.columns\n",
    "                    if col != Config.TARGET and\n",
    "                    (col in selected_features or\n",
    "                     (Config.USE_LAG_FEATURES and any(col.endswith(f\"_lag{lag}\") for lag in lag_steps)) or\n",
    "                     (Config.USE_ROLLING_STATISTICS and any(col.endswith(f\"_rollmean_{window}\") for window in window_sizes)) or\n",
    "                     (Config.USE_ROLLING_STATISTICS and any(col.endswith(f\"_rollstd_{window}\") for window in window_sizes)))]\n",
    "\n",
    "    if is_test:\n",
    "        return (\n",
    "            train_df[feature_cols].values if len(train_df) > 0 else np.zeros((0, len(feature_cols))),\n",
    "            val_test_with_features[feature_cols].values if len(val_test_with_features) > 0 else np.zeros((0, len(feature_cols))),\n",
    "            train_df[Config.TARGET].values if len(train_df) > 0 else np.zeros(0),\n",
    "            val_test_with_features[Config.TARGET].values if len(val_test_with_features) > 0 else np.zeros(0),\n",
    "            feature_cols,\n",
    "            val_test_with_features\n",
    "        )\n",
    "    else:\n",
    "        return (\n",
    "            train_df[feature_cols].values if len(train_df) > 0 else np.zeros((0, len(feature_cols))),\n",
    "            val_test_with_features[feature_cols].values if len(val_test_with_features) > 0 else np.zeros((0, len(feature_cols))),\n",
    "            train_df[Config.TARGET].values if len(train_df) > 0 else np.zeros(0),\n",
    "            val_test_with_features[Config.TARGET].values if len(val_test_with_features) > 0 else np.zeros(0),\n",
    "            feature_cols\n",
    "        )\n",
    "\n",
    "@memory.cache\n",
    "def get_all_data_enhanced(selected_features, lag_steps=[1, 2, 3], window_sizes=[3, 7]):\n",
    "    datasets = {}\n",
    "    feature_names = None\n",
    "\n",
    "    for month in Config.MONTHS:\n",
    "        for fold in Config.FOLDS:\n",
    "            key = f\"{month}_fold{fold}\"\n",
    "            train_path = Config.BASE_DATA_PATH/month/f'fold_{fold}'/'processed_train.csv'\n",
    "            val_path = Config.BASE_DATA_PATH/month/f'fold_{fold}'/'processed_val.csv'\n",
    "\n",
    "            X_train, X_val, y_train, y_val, features = load_and_process_data(\n",
    "                train_path, val_path, selected_features, lag_steps, window_sizes\n",
    "            )\n",
    "\n",
    "            if feature_names is None:\n",
    "                feature_names = features\n",
    "\n",
    "            datasets[key] = (X_train, X_val, y_train, y_val)\n",
    "\n",
    "    return datasets, feature_names"
   ]
  },
  {
   "cell_type": "markdown",
   "id": "f7906f66",
   "metadata": {
    "papermill": {
     "duration": 0.003033,
     "end_time": "2025-04-19T08:47:48.472190",
     "exception": false,
     "start_time": "2025-04-19T08:47:48.469157",
     "status": "completed"
    },
    "tags": []
   },
   "source": [
    "## 6. Model Definition & Optimization"
   ]
  },
  {
   "cell_type": "code",
   "execution_count": 6,
   "id": "50e818b5",
   "metadata": {
    "execution": {
     "iopub.execute_input": "2025-04-19T08:47:48.480243Z",
     "iopub.status.busy": "2025-04-19T08:47:48.479694Z",
     "iopub.status.idle": "2025-04-19T08:47:48.490972Z",
     "shell.execute_reply": "2025-04-19T08:47:48.490229Z"
    },
    "papermill": {
     "duration": 0.016759,
     "end_time": "2025-04-19T08:47:48.492325",
     "exception": false,
     "start_time": "2025-04-19T08:47:48.475566",
     "status": "completed"
    },
    "tags": []
   },
   "outputs": [],
   "source": [
    "def create_model(trial):\n",
    "    return RandomForestRegressor(\n",
    "        n_estimators=trial.suggest_int('n_estimators', 50, 200),\n",
    "        max_depth=trial.suggest_int('max_depth', 5, 25),\n",
    "        min_samples_split=trial.suggest_int('min_samples_split', 2, 10),\n",
    "        min_samples_leaf=trial.suggest_int('min_samples_leaf', 1, 5),\n",
    "        ccp_alpha=trial.suggest_float('ccp_alpha', 0.0, 0.05),\n",
    "        max_features=trial.suggest_categorical('max_features', [1.0, 'sqrt', 'log2']),\n",
    "        bootstrap=trial.suggest_categorical('bootstrap', [True, False]),\n",
    "        criterion='squared_error',\n",
    "        random_state=Config.RANDOM_STATE,\n",
    "        n_jobs=2\n",
    "    )\n",
    "\n",
    "def optimize_month(month, data, feature_names):\n",
    "    def objective(trial):\n",
    "        fold_scores = []\n",
    "        for fold in Config.FOLDS:\n",
    "            X_train, X_val, y_train, y_val = data[f\"{month}_fold{fold}\"]\n",
    "            if X_val.shape[0] == 0:\n",
    "                print(f\"→  Skipping {month} fold {fold}: no val rows\")\n",
    "                continue\n",
    "            model = create_model(trial)\n",
    "            model.fit(X_train, y_train)\n",
    "\n",
    "            if not check_predictions_variability(model, X_val, y_val):\n",
    "                print(f\"Warning: Low prediction variability in {month} fold {fold}\")\n",
    "\n",
    "            preds = model.predict(X_val)\n",
    "            fold_scores.append(np.sqrt(mean_squared_error(y_val, preds)))\n",
    "        #return np.mean(fold_scores)\n",
    "        if not fold_scores:\n",
    "            raise optuna.TrialPruned(f\"{month}: 0 valid folds\")\n",
    "        return float(np.mean(fold_scores))\n",
    "\n",
    "    study = optuna.create_study(direction='minimize', sampler=optuna.samplers.TPESampler(seed=Config.RANDOM_STATE))\n",
    "\n",
    "    with tqdm(total=Config.OPTUNA_TRIALS, desc=f\"Optimizing {month}\") as pbar:\n",
    "        def update_pbar(study, trial):\n",
    "            pbar.update(1)\n",
    "            pbar.set_postfix({\"Best RMSE\": study.best_value})\n",
    "        study.optimize(objective, n_trials=Config.OPTUNA_TRIALS, n_jobs=Config.N_JOBS, callbacks=[update_pbar])\n",
    "\n",
    "    performance = []\n",
    "    best_params = study.best_params\n",
    "    print(f\"\\nBest parameters for {month}: {best_params}\")\n",
    "\n",
    "    for fold in Config.FOLDS:\n",
    "        X_train, X_val, y_train, y_val = data[f\"{month}_fold{fold}\"]\n",
    "        if X_val.shape[0] == 0:\n",
    "                print(f\"→  Skipping performance eval for {month} fold {fold}: no val rows\")\n",
    "                continue\n",
    "        model = RandomForestRegressor(**best_params, n_jobs=2, random_state=Config.RANDOM_STATE)\n",
    "        model.fit(X_train, y_train)\n",
    "\n",
    "        preds = model.predict(X_val)\n",
    "        performance.append({\n",
    "            'Month': month,\n",
    "            'Fold': fold,\n",
    "            'RMSE': np.sqrt(mean_squared_error(y_val, preds)),\n",
    "            'Pearson R': pearsonr(y_val, preds)[0],\n",
    "            'Bias': np.mean(preds - y_val),\n",
    "            'CSI': compute_csi(y_val, preds, Config.CSI_THRESHOLD)\n",
    "        })\n",
    "    return best_params, pd.DataFrame(performance)"
   ]
  },
  {
   "cell_type": "markdown",
   "id": "d28ca386",
   "metadata": {
    "papermill": {
     "duration": 0.003145,
     "end_time": "2025-04-19T08:47:48.499017",
     "exception": false,
     "start_time": "2025-04-19T08:47:48.495872",
     "status": "completed"
    },
    "tags": []
   },
   "source": [
    "## 7. Training"
   ]
  },
  {
   "cell_type": "code",
   "execution_count": 7,
   "id": "d257c622",
   "metadata": {
    "execution": {
     "iopub.execute_input": "2025-04-19T08:47:48.506849Z",
     "iopub.status.busy": "2025-04-19T08:47:48.506548Z",
     "iopub.status.idle": "2025-04-19T14:53:30.477283Z",
     "shell.execute_reply": "2025-04-19T14:53:30.476166Z"
    },
    "papermill": {
     "duration": 21941.977259,
     "end_time": "2025-04-19T14:53:30.479492",
     "exception": false,
     "start_time": "2025-04-19T08:47:48.502233",
     "status": "completed"
    },
    "tags": []
   },
   "outputs": [
    {
     "name": "stdout",
     "output_type": "stream",
     "text": [
      "Using features: ['ROW', 'COL', 'TCW', 'R250', 'R500', 'R850', 'U850', 'V850', 'EWSS', 'KX', 'CAPE', 'SSHF', 'PEV', 'TCLW', 'CIN', 'IE', 'ISOR', 'SLHF', 'SLOR', 'TCWV', 'U250', 'V250']\n",
      "\n",
      "Final features (including generated): ['ROW', 'COL', 'CAPE', 'CIN', 'EWSS', 'IE', 'ISOR', 'KX', 'PEV', 'R250', 'R500', 'R850', 'SLHF', 'SLOR', 'SSHF', 'TCLW', 'TCW', 'TCWV', 'U250', 'U850', 'V250', 'V850', 'AWS_lag1', 'AWS_lag2', 'AWS_lag3', 'AWS_rollmean_3', 'AWS_rollstd_3', 'AWS_rollmean_6', 'AWS_rollstd_6']\n"
     ]
    },
    {
     "name": "stderr",
     "output_type": "stream",
     "text": [
      "Optimizing 2019-04: 100%|██████████| 50/50 [1:06:58<00:00, 80.36s/it, Best RMSE=0.417]\n"
     ]
    },
    {
     "name": "stdout",
     "output_type": "stream",
     "text": [
      "\n",
      "Best parameters for 2019-04: {'n_estimators': 141, 'max_depth': 22, 'min_samples_split': 4, 'min_samples_leaf': 3, 'ccp_alpha': 0.0037870664407954543, 'max_features': 'log2', 'bootstrap': False}\n",
      "\n",
      "Training final model for 2019-04\n"
     ]
    },
    {
     "name": "stderr",
     "output_type": "stream",
     "text": [
      "Optimizing 2019-10: 100%|██████████| 50/50 [1:27:32<00:00, 105.05s/it, Best RMSE=0.829]\n"
     ]
    },
    {
     "name": "stdout",
     "output_type": "stream",
     "text": [
      "\n",
      "Best parameters for 2019-10: {'n_estimators': 59, 'max_depth': 5, 'min_samples_split': 2, 'min_samples_leaf': 1, 'ccp_alpha': 0.0004762951688827274, 'max_features': 'log2', 'bootstrap': False}\n",
      "\n",
      "Training final model for 2019-10\n"
     ]
    },
    {
     "name": "stderr",
     "output_type": "stream",
     "text": [
      "Optimizing 2020-04: 100%|██████████| 50/50 [1:28:45<00:00, 106.51s/it, Best RMSE=0.549]\n"
     ]
    },
    {
     "name": "stdout",
     "output_type": "stream",
     "text": [
      "\n",
      "Best parameters for 2020-04: {'n_estimators': 155, 'max_depth': 6, 'min_samples_split': 8, 'min_samples_leaf': 4, 'ccp_alpha': 0.0059376606540044174, 'max_features': 'log2', 'bootstrap': True}\n",
      "\n",
      "Training final model for 2020-04\n"
     ]
    },
    {
     "name": "stderr",
     "output_type": "stream",
     "text": [
      "Optimizing 2020-10: 100%|██████████| 50/50 [1:52:22<00:00, 134.86s/it, Best RMSE=1.04]\n"
     ]
    },
    {
     "name": "stdout",
     "output_type": "stream",
     "text": [
      "\n",
      "Best parameters for 2020-10: {'n_estimators': 165, 'max_depth': 7, 'min_samples_split': 9, 'min_samples_leaf': 3, 'ccp_alpha': 0.0001286246637192878, 'max_features': 'log2', 'bootstrap': False}\n",
      "\n",
      "Training final model for 2020-10\n",
      "\n",
      "Evaluating 2019-04 on test data\n",
      "\n",
      "Evaluating 2019-10 on test data\n",
      "\n",
      "Evaluating 2020-04 on test data\n",
      "\n",
      "Evaluating 2020-10 on test data\n"
     ]
    }
   ],
   "source": [
    "Config.OUTPUT_DIR.mkdir(parents=True, exist_ok=True)\n",
    "Config.CACHE_DIR.mkdir(parents=True, exist_ok=True)\n",
    "\n",
    "selected_features = Config.SELECTED_FEATURES\n",
    "print(f\"Using features: {selected_features}\")\n",
    "\n",
    "full_data, feature_names = get_all_data_enhanced(selected_features, Config.LAG_STEPS, Config.WINDOW_SIZES)\n",
    "print(f\"\\nFinal features (including generated): {feature_names}\")\n",
    "\n",
    "best_params = {}\n",
    "cv_results = []\n",
    "final_models = {}\n",
    "\n",
    "for month in Config.MONTHS:\n",
    "    params, metrics = optimize_month(month, full_data, feature_names)\n",
    "    best_params[month] = params\n",
    "    cv_results.append(metrics)\n",
    "\n",
    "    print(f\"\\nTraining final model for {month}\")\n",
    "    X_train, X_val, y_train, y_val = full_data[f\"{month}_fold5\"]\n",
    "    model = RandomForestRegressor(\n",
    "        **params,\n",
    "        n_jobs=Config.N_JOBS,\n",
    "        random_state=Config.RANDOM_STATE\n",
    "    )\n",
    "    model.fit(np.vstack([X_train, X_val]), np.concatenate([y_train, y_val]))\n",
    "    final_models[month] = model\n",
    "\n",
    "final_metrics = []\n",
    "for month in Config.MONTHS:\n",
    "    print(f\"\\nEvaluating {month} on test data\")\n",
    "    train_path = Config.BASE_DATA_PATH/month/f'fold_5'/'processed_train.csv'\n",
    "    val_path = Config.BASE_DATA_PATH/month/f'fold_5'/'processed_val.csv'\n",
    "    test_path = Config.BASE_DATA_PATH/month/'fold_5'/'merged_test.csv'\n",
    "\n",
    "    if not os.path.exists(test_path):\n",
    "        print(f\"Test file not found: {test_path}\")\n",
    "        continue\n",
    "\n",
    "    train_df = pd.read_csv(train_path)\n",
    "    val_df = pd.read_csv(val_path)\n",
    "    combined_train = pd.concat([train_df, val_df]).sort_values(['ROW', 'COL', 'DATETIME'])\n",
    "\n",
    "    temp_combined_path = Config.CACHE_DIR / f\"{month}_combined_train_val.csv\"\n",
    "    combined_train.to_csv(temp_combined_path, index=False)\n",
    "\n",
    "    _, X_test, _, y_test, _, test_df = load_and_process_data(\n",
    "        temp_combined_path, test_path, selected_features,\n",
    "        Config.LAG_STEPS, Config.WINDOW_SIZES, is_test=True\n",
    "    )\n",
    "\n",
    "    if len(X_test) == 0:\n",
    "        print(f\"Warning: No test samples remaining after preprocessing for {month}\")\n",
    "        continue\n",
    "\n",
    "    preds = final_models[month].predict(X_test)\n",
    "    std_dev = np.std(preds)\n",
    "    # print(f\"Test prediction standard deviation: {std_dev:.6f}\")\n",
    "\n",
    "    save_predictions(month, 5, y_test, preds, 'test', test_df)\n",
    "\n",
    "    rmse = np.sqrt(mean_squared_error(y_test, preds))\n",
    "    pearson_r = pearsonr(y_test, preds)[0]\n",
    "    bias = np.mean(preds - y_test)\n",
    "    csi = compute_csi(y_test, preds, Config.CSI_THRESHOLD)\n",
    "\n",
    "    final_metrics.append({\n",
    "        'Month': month,\n",
    "        'RMSE': rmse,\n",
    "        'Pearson R': pearson_r,\n",
    "        'Bias': bias,\n",
    "        'CSI': csi\n",
    "    })\n",
    "\n",
    "feature_importance = display_feature_importance(final_models, feature_names)\n",
    "final_results = pd.DataFrame(final_metrics)\n",
    "\n",
    "# Calculate overall average metrics\n",
    "overall_metrics = final_results[Config.METRICS].mean().round(4)\n",
    "overall_metrics['Month'] = 'Overall'\n",
    "final_results = pd.concat([final_results, pd.DataFrame([overall_metrics])], ignore_index=True)\n",
    "\n",
    "filename = f\"{Config.BASE_DATA_PATH.name}_random_forest_performance.csv\"\n",
    "final_results.to_csv(Config.OUTPUT_DIR / filename, index=False)\n",
    "\n",
    "with open(Config.OUTPUT_DIR / 'final_models.pkl', 'wb') as f:\n",
    "    pickle.dump({\n",
    "        'models': final_models,\n",
    "        'best_params': best_params,\n",
    "        'features': feature_names,\n",
    "        'cv_results': cv_results,\n",
    "        'final_results': final_results,\n",
    "        'feature_importance': feature_importance\n",
    "    }, f)"
   ]
  },
  {
   "cell_type": "markdown",
   "id": "497e2fed",
   "metadata": {
    "papermill": {
     "duration": 0.02388,
     "end_time": "2025-04-19T14:53:30.527007",
     "exception": false,
     "start_time": "2025-04-19T14:53:30.503127",
     "status": "completed"
    },
    "tags": []
   },
   "source": [
    "## 8. Display Results"
   ]
  },
  {
   "cell_type": "code",
   "execution_count": 8,
   "id": "6450c39a",
   "metadata": {
    "execution": {
     "iopub.execute_input": "2025-04-19T14:53:30.574700Z",
     "iopub.status.busy": "2025-04-19T14:53:30.574385Z",
     "iopub.status.idle": "2025-04-19T14:53:31.475774Z",
     "shell.execute_reply": "2025-04-19T14:53:31.474474Z"
    },
    "papermill": {
     "duration": 0.927205,
     "end_time": "2025-04-19T14:53:31.477542",
     "exception": false,
     "start_time": "2025-04-19T14:53:30.550337",
     "status": "completed"
    },
    "tags": []
   },
   "outputs": [
    {
     "name": "stdout",
     "output_type": "stream",
     "text": [
      "\n",
      "=== Cross-Validation Summary ===\n"
     ]
    },
    {
     "data": {
      "text/html": [
       "<div>\n",
       "<style scoped>\n",
       "    .dataframe tbody tr th:only-of-type {\n",
       "        vertical-align: middle;\n",
       "    }\n",
       "\n",
       "    .dataframe tbody tr th {\n",
       "        vertical-align: top;\n",
       "    }\n",
       "\n",
       "    .dataframe thead th {\n",
       "        text-align: right;\n",
       "    }\n",
       "</style>\n",
       "<table border=\"1\" class=\"dataframe\">\n",
       "  <thead>\n",
       "    <tr style=\"text-align: right;\">\n",
       "      <th></th>\n",
       "      <th>RMSE</th>\n",
       "      <th>Pearson R</th>\n",
       "      <th>Bias</th>\n",
       "      <th>CSI</th>\n",
       "    </tr>\n",
       "    <tr>\n",
       "      <th>Month</th>\n",
       "      <th></th>\n",
       "      <th></th>\n",
       "      <th></th>\n",
       "      <th></th>\n",
       "    </tr>\n",
       "  </thead>\n",
       "  <tbody>\n",
       "    <tr>\n",
       "      <th>2019-04</th>\n",
       "      <td>0.4165</td>\n",
       "      <td>0.8625</td>\n",
       "      <td>-0.0004</td>\n",
       "      <td>0.2092</td>\n",
       "    </tr>\n",
       "    <tr>\n",
       "      <th>2019-10</th>\n",
       "      <td>0.8294</td>\n",
       "      <td>0.6856</td>\n",
       "      <td>-0.0070</td>\n",
       "      <td>0.2357</td>\n",
       "    </tr>\n",
       "    <tr>\n",
       "      <th>2020-04</th>\n",
       "      <td>0.5488</td>\n",
       "      <td>0.7357</td>\n",
       "      <td>0.0027</td>\n",
       "      <td>0.2443</td>\n",
       "    </tr>\n",
       "    <tr>\n",
       "      <th>2020-10</th>\n",
       "      <td>1.0384</td>\n",
       "      <td>0.8200</td>\n",
       "      <td>-0.0077</td>\n",
       "      <td>0.2863</td>\n",
       "    </tr>\n",
       "  </tbody>\n",
       "</table>\n",
       "</div>"
      ],
      "text/plain": [
       "           RMSE  Pearson R    Bias     CSI\n",
       "Month                                     \n",
       "2019-04  0.4165     0.8625 -0.0004  0.2092\n",
       "2019-10  0.8294     0.6856 -0.0070  0.2357\n",
       "2020-04  0.5488     0.7357  0.0027  0.2443\n",
       "2020-10  1.0384     0.8200 -0.0077  0.2863"
      ]
     },
     "metadata": {},
     "output_type": "display_data"
    },
    {
     "name": "stdout",
     "output_type": "stream",
     "text": [
      "\n",
      "=== Final Test Summary ===\n"
     ]
    },
    {
     "data": {
      "text/html": [
       "<div>\n",
       "<style scoped>\n",
       "    .dataframe tbody tr th:only-of-type {\n",
       "        vertical-align: middle;\n",
       "    }\n",
       "\n",
       "    .dataframe tbody tr th {\n",
       "        vertical-align: top;\n",
       "    }\n",
       "\n",
       "    .dataframe thead th {\n",
       "        text-align: right;\n",
       "    }\n",
       "</style>\n",
       "<table border=\"1\" class=\"dataframe\">\n",
       "  <thead>\n",
       "    <tr style=\"text-align: right;\">\n",
       "      <th></th>\n",
       "      <th>Month</th>\n",
       "      <th>RMSE</th>\n",
       "      <th>Pearson R</th>\n",
       "      <th>Bias</th>\n",
       "      <th>CSI</th>\n",
       "    </tr>\n",
       "  </thead>\n",
       "  <tbody>\n",
       "    <tr>\n",
       "      <th>0</th>\n",
       "      <td>2019-04</td>\n",
       "      <td>1.122774</td>\n",
       "      <td>0.286162</td>\n",
       "      <td>-0.033749</td>\n",
       "      <td>0.073891</td>\n",
       "    </tr>\n",
       "    <tr>\n",
       "      <th>1</th>\n",
       "      <td>2019-10</td>\n",
       "      <td>1.026376</td>\n",
       "      <td>0.434962</td>\n",
       "      <td>0.002017</td>\n",
       "      <td>0.096552</td>\n",
       "    </tr>\n",
       "    <tr>\n",
       "      <th>2</th>\n",
       "      <td>2020-04</td>\n",
       "      <td>0.325147</td>\n",
       "      <td>0.263813</td>\n",
       "      <td>0.065251</td>\n",
       "      <td>0.029203</td>\n",
       "    </tr>\n",
       "    <tr>\n",
       "      <th>3</th>\n",
       "      <td>2020-10</td>\n",
       "      <td>1.032739</td>\n",
       "      <td>0.815178</td>\n",
       "      <td>-0.021451</td>\n",
       "      <td>0.228489</td>\n",
       "    </tr>\n",
       "    <tr>\n",
       "      <th>4</th>\n",
       "      <td>Overall</td>\n",
       "      <td>0.876800</td>\n",
       "      <td>0.450000</td>\n",
       "      <td>0.003000</td>\n",
       "      <td>0.107000</td>\n",
       "    </tr>\n",
       "  </tbody>\n",
       "</table>\n",
       "</div>"
      ],
      "text/plain": [
       "     Month      RMSE  Pearson R      Bias       CSI\n",
       "0  2019-04  1.122774   0.286162 -0.033749  0.073891\n",
       "1  2019-10  1.026376   0.434962  0.002017  0.096552\n",
       "2  2020-04  0.325147   0.263813  0.065251  0.029203\n",
       "3  2020-10  1.032739   0.815178 -0.021451  0.228489\n",
       "4  Overall  0.876800   0.450000  0.003000  0.107000"
      ]
     },
     "metadata": {},
     "output_type": "display_data"
    },
    {
     "data": {
      "image/png": "[encoded data removed]",
      "text/plain": [
       "<Figure size 1000x1160 with 1 Axes>"
      ]
     },
     "metadata": {},
     "output_type": "display_data"
    }
   ],
   "source": [
    "print(\"\\n=== Cross-Validation Summary ===\")\n",
    "\n",
    "cv_results_df = pd.concat(cv_results, ignore_index=True)\n",
    "display(cv_results_df.groupby('Month')[Config.METRICS].mean().round(4))\n",
    "\n",
    "print(\"\\n=== Final Test Summary ===\")\n",
    "display(final_results)\n",
    "\n",
    "# Plot feature importance using Seaborn\n",
    "sorted_importance = sorted(feature_importance.items(), key=lambda item: item[1], reverse=True)\n",
    "features = [item[0] for item in sorted_importance]\n",
    "importance_values = [item[1] for item in sorted_importance]\n",
    "\n",
    "importance_df = pd.DataFrame({\n",
    "    \"Feature\": features,\n",
    "    \"Importance\": importance_values\n",
    "})\n",
    "\n",
    "plt.figure(figsize=(10, max(6, len(features) * 0.4)))\n",
    "sns.set_theme(style=\"whitegrid\")\n",
    "ax = sns.barplot(\n",
    "    data=importance_df,\n",
    "    y=\"Feature\",\n",
    "    x=\"Importance\",\n",
    "    palette=\"viridis\"\n",
    ")\n",
    "ax.set_title(\"Feature Importance from Random Forest\", fontsize=14)\n",
    "ax.set_xlabel(\"Average Importance\", fontsize=12)\n",
    "ax.set_ylabel(\"Feature\", fontsize=12)\n",
    "plt.tight_layout()\n",
    "plt.savefig(Config.OUTPUT_DIR / 'feature_importance.png')\n",
    "plt.show()"
   ]
  }
 ],
 "metadata": {
  "kaggle": {
   "accelerator": "none",
   "dataSources": [
    {
     "datasetId": 7085647,
     "sourceId": 11327529,
     "sourceType": "datasetVersion"
    },
    {
     "datasetId": 7091976,
     "sourceId": 11340032,
     "sourceType": "datasetVersion"
    },
    {
     "datasetId": 7142988,
     "sourceId": 11403913,
     "sourceType": "datasetVersion"
    },
    {
     "datasetId": 7173004,
     "sourceId": 11448922,
     "sourceType": "datasetVersion"
    },
    {
     "datasetId": 7187466,
     "sourceId": 11469278,
     "sourceType": "datasetVersion"
    }
   ],
   "dockerImageVersionId": 31012,
   "isGpuEnabled": false,
   "isInternetEnabled": true,
   "language": "python",
   "sourceType": "notebook"
  },
  "kernelspec": {
   "display_name": "Python 3",
   "language": "python",
   "name": "python3"
  },
  "language_info": {
   "codemirror_mode": {
    "name": "ipython",
    "version": 3
   },
   "file_extension": ".py",
   "mimetype": "text/x-python",
   "name": "python",
   "nbconvert_exporter": "python",
   "pygments_lexer": "ipython3",
   "version": "3.11.11"
  },
  "papermill": {
   "default_parameters": {},
   "duration": 21953.348793,
   "end_time": "2025-04-19T14:53:32.549703",
   "environment_variables": {},
   "exception": null,
   "input_path": "__notebook__.ipynb",
   "output_path": "__notebook__.ipynb",
   "parameters": {},
   "start_time": "2025-04-19T08:47:39.200910",
   "version": "2.6.0"
  }
 },
 "nbformat": 4,
 "nbformat_minor": 5
}
