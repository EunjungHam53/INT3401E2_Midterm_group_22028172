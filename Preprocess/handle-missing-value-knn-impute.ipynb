{
 "cells": [
  {
   "cell_type": "code",
   "execution_count": 1,
   "id": "bd699d3b",
   "metadata": {
    "_cell_guid": "61119946-2f42-4e7d-a33b-aae7594994de",
    "_uuid": "e69a16f1-a59b-4cab-937c-a40d0cc575de",
    "collapsed": false,
    "execution": {
     "iopub.execute_input": "2025-04-14T05:38:46.280166Z",
     "iopub.status.busy": "2025-04-14T05:38:46.279787Z",
     "iopub.status.idle": "2025-04-14T07:06:07.004376Z",
     "shell.execute_reply": "2025-04-14T07:06:07.003275Z"
    },
    "jupyter": {
     "outputs_hidden": false
    },
    "papermill": {
     "duration": 5240.730021,
     "end_time": "2025-04-14T07:06:07.006485",
     "exception": false,
     "start_time": "2025-04-14T05:38:46.276464",
     "status": "completed"
    },
    "tags": []
   },
   "outputs": [
    {
     "name": "stdout",
     "output_type": "stream",
     "text": [
      "Processing /kaggle/input/ai-original-data-only-aws/ai-original-dataset-k-fold/2020-10/fold_4/merged_train.csv and /kaggle/input/ai-original-data-only-aws/ai-original-dataset-k-fold/2020-10/fold_4/merged_val.csv\n"
     ]
    },
    {
     "name": "stderr",
     "output_type": "stream",
     "text": [
      "/usr/local/lib/python3.10/dist-packages/pandas/core/computation/expressions.py:73: RuntimeWarning: invalid value encountered in less\n",
      "  return op(a, b)\n"
     ]
    },
    {
     "name": "stdout",
     "output_type": "stream",
     "text": [
      "Processed train saved to /kaggle/working/2020-10/fold_4/processed_train.csv\n",
      "Processed val saved to /kaggle/working/2020-10/fold_4/processed_val.csv\n",
      "Processing /kaggle/input/ai-original-data-only-aws/ai-original-dataset-k-fold/2020-10/fold_1/merged_train.csv and /kaggle/input/ai-original-data-only-aws/ai-original-dataset-k-fold/2020-10/fold_1/merged_val.csv\n"
     ]
    },
    {
     "name": "stderr",
     "output_type": "stream",
     "text": [
      "/usr/local/lib/python3.10/dist-packages/pandas/core/computation/expressions.py:73: RuntimeWarning: invalid value encountered in less\n",
      "  return op(a, b)\n"
     ]
    },
    {
     "name": "stdout",
     "output_type": "stream",
     "text": [
      "Processed train saved to /kaggle/working/2020-10/fold_1/processed_train.csv\n",
      "Processed val saved to /kaggle/working/2020-10/fold_1/processed_val.csv\n",
      "Processing /kaggle/input/ai-original-data-only-aws/ai-original-dataset-k-fold/2020-10/fold_3/merged_train.csv and /kaggle/input/ai-original-data-only-aws/ai-original-dataset-k-fold/2020-10/fold_3/merged_val.csv\n"
     ]
    },
    {
     "name": "stderr",
     "output_type": "stream",
     "text": [
      "/usr/local/lib/python3.10/dist-packages/pandas/core/computation/expressions.py:73: RuntimeWarning: invalid value encountered in less\n",
      "  return op(a, b)\n"
     ]
    },
    {
     "name": "stdout",
     "output_type": "stream",
     "text": [
      "Processed train saved to /kaggle/working/2020-10/fold_3/processed_train.csv\n",
      "Processed val saved to /kaggle/working/2020-10/fold_3/processed_val.csv\n",
      "Processing /kaggle/input/ai-original-data-only-aws/ai-original-dataset-k-fold/2020-10/fold_2/merged_train.csv and /kaggle/input/ai-original-data-only-aws/ai-original-dataset-k-fold/2020-10/fold_2/merged_val.csv\n"
     ]
    },
    {
     "name": "stderr",
     "output_type": "stream",
     "text": [
      "/usr/local/lib/python3.10/dist-packages/pandas/core/computation/expressions.py:73: RuntimeWarning: invalid value encountered in less\n",
      "  return op(a, b)\n"
     ]
    },
    {
     "name": "stdout",
     "output_type": "stream",
     "text": [
      "Processed train saved to /kaggle/working/2020-10/fold_2/processed_train.csv\n",
      "Processed val saved to /kaggle/working/2020-10/fold_2/processed_val.csv\n",
      "Processing /kaggle/input/ai-original-data-only-aws/ai-original-dataset-k-fold/2020-10/fold_5/merged_train.csv and /kaggle/input/ai-original-data-only-aws/ai-original-dataset-k-fold/2020-10/fold_5/merged_val.csv\n"
     ]
    },
    {
     "name": "stderr",
     "output_type": "stream",
     "text": [
      "/usr/local/lib/python3.10/dist-packages/pandas/core/computation/expressions.py:73: RuntimeWarning: invalid value encountered in less\n",
      "  return op(a, b)\n"
     ]
    },
    {
     "name": "stdout",
     "output_type": "stream",
     "text": [
      "Processed train saved to /kaggle/working/2020-10/fold_5/processed_train.csv\n",
      "Processed val saved to /kaggle/working/2020-10/fold_5/processed_val.csv\n",
      "Processing /kaggle/input/ai-original-data-only-aws/ai-original-dataset-k-fold/2020-04/fold_4/merged_train.csv and /kaggle/input/ai-original-data-only-aws/ai-original-dataset-k-fold/2020-04/fold_4/merged_val.csv\n",
      "Processed train saved to /kaggle/working/2020-04/fold_4/processed_train.csv\n",
      "Processed val saved to /kaggle/working/2020-04/fold_4/processed_val.csv\n",
      "Processing /kaggle/input/ai-original-data-only-aws/ai-original-dataset-k-fold/2020-04/fold_1/merged_train.csv and /kaggle/input/ai-original-data-only-aws/ai-original-dataset-k-fold/2020-04/fold_1/merged_val.csv\n",
      "Processed train saved to /kaggle/working/2020-04/fold_1/processed_train.csv\n",
      "Processed val saved to /kaggle/working/2020-04/fold_1/processed_val.csv\n",
      "Processing /kaggle/input/ai-original-data-only-aws/ai-original-dataset-k-fold/2020-04/fold_3/merged_train.csv and /kaggle/input/ai-original-data-only-aws/ai-original-dataset-k-fold/2020-04/fold_3/merged_val.csv\n",
      "Processed train saved to /kaggle/working/2020-04/fold_3/processed_train.csv\n",
      "Processed val saved to /kaggle/working/2020-04/fold_3/processed_val.csv\n",
      "Processing /kaggle/input/ai-original-data-only-aws/ai-original-dataset-k-fold/2020-04/fold_2/merged_train.csv and /kaggle/input/ai-original-data-only-aws/ai-original-dataset-k-fold/2020-04/fold_2/merged_val.csv\n",
      "Processed train saved to /kaggle/working/2020-04/fold_2/processed_train.csv\n",
      "Processed val saved to /kaggle/working/2020-04/fold_2/processed_val.csv\n",
      "Processing /kaggle/input/ai-original-data-only-aws/ai-original-dataset-k-fold/2020-04/fold_5/merged_train.csv and /kaggle/input/ai-original-data-only-aws/ai-original-dataset-k-fold/2020-04/fold_5/merged_val.csv\n",
      "Processed train saved to /kaggle/working/2020-04/fold_5/processed_train.csv\n",
      "Processed val saved to /kaggle/working/2020-04/fold_5/processed_val.csv\n",
      "Processing /kaggle/input/ai-original-data-only-aws/ai-original-dataset-k-fold/2019-10/fold_4/merged_train.csv and /kaggle/input/ai-original-data-only-aws/ai-original-dataset-k-fold/2019-10/fold_4/merged_val.csv\n"
     ]
    },
    {
     "name": "stderr",
     "output_type": "stream",
     "text": [
      "/usr/local/lib/python3.10/dist-packages/pandas/core/computation/expressions.py:73: RuntimeWarning: invalid value encountered in less\n",
      "  return op(a, b)\n"
     ]
    },
    {
     "name": "stdout",
     "output_type": "stream",
     "text": [
      "Processed train saved to /kaggle/working/2019-10/fold_4/processed_train.csv\n",
      "Processed val saved to /kaggle/working/2019-10/fold_4/processed_val.csv\n",
      "Processing /kaggle/input/ai-original-data-only-aws/ai-original-dataset-k-fold/2019-10/fold_1/merged_train.csv and /kaggle/input/ai-original-data-only-aws/ai-original-dataset-k-fold/2019-10/fold_1/merged_val.csv\n"
     ]
    },
    {
     "name": "stderr",
     "output_type": "stream",
     "text": [
      "/usr/local/lib/python3.10/dist-packages/pandas/core/computation/expressions.py:73: RuntimeWarning: invalid value encountered in less\n",
      "  return op(a, b)\n"
     ]
    },
    {
     "name": "stdout",
     "output_type": "stream",
     "text": [
      "Processed train saved to /kaggle/working/2019-10/fold_1/processed_train.csv\n",
      "Processed val saved to /kaggle/working/2019-10/fold_1/processed_val.csv\n",
      "Processing /kaggle/input/ai-original-data-only-aws/ai-original-dataset-k-fold/2019-10/fold_3/merged_train.csv and /kaggle/input/ai-original-data-only-aws/ai-original-dataset-k-fold/2019-10/fold_3/merged_val.csv\n"
     ]
    },
    {
     "name": "stderr",
     "output_type": "stream",
     "text": [
      "/usr/local/lib/python3.10/dist-packages/pandas/core/computation/expressions.py:73: RuntimeWarning: invalid value encountered in less\n",
      "  return op(a, b)\n"
     ]
    },
    {
     "name": "stdout",
     "output_type": "stream",
     "text": [
      "Processed train saved to /kaggle/working/2019-10/fold_3/processed_train.csv\n",
      "Processed val saved to /kaggle/working/2019-10/fold_3/processed_val.csv\n",
      "Processing /kaggle/input/ai-original-data-only-aws/ai-original-dataset-k-fold/2019-10/fold_2/merged_train.csv and /kaggle/input/ai-original-data-only-aws/ai-original-dataset-k-fold/2019-10/fold_2/merged_val.csv\n"
     ]
    },
    {
     "name": "stderr",
     "output_type": "stream",
     "text": [
      "/usr/local/lib/python3.10/dist-packages/pandas/core/computation/expressions.py:73: RuntimeWarning: invalid value encountered in less\n",
      "  return op(a, b)\n"
     ]
    },
    {
     "name": "stdout",
     "output_type": "stream",
     "text": [
      "Processed train saved to /kaggle/working/2019-10/fold_2/processed_train.csv\n",
      "Processed val saved to /kaggle/working/2019-10/fold_2/processed_val.csv\n",
      "Processing /kaggle/input/ai-original-data-only-aws/ai-original-dataset-k-fold/2019-10/fold_5/merged_train.csv and /kaggle/input/ai-original-data-only-aws/ai-original-dataset-k-fold/2019-10/fold_5/merged_val.csv\n"
     ]
    },
    {
     "name": "stderr",
     "output_type": "stream",
     "text": [
      "/usr/local/lib/python3.10/dist-packages/pandas/core/computation/expressions.py:73: RuntimeWarning: invalid value encountered in less\n",
      "  return op(a, b)\n"
     ]
    },
    {
     "name": "stdout",
     "output_type": "stream",
     "text": [
      "Processed train saved to /kaggle/working/2019-10/fold_5/processed_train.csv\n",
      "Processed val saved to /kaggle/working/2019-10/fold_5/processed_val.csv\n",
      "Processing /kaggle/input/ai-original-data-only-aws/ai-original-dataset-k-fold/2019-04/fold_4/merged_train.csv and /kaggle/input/ai-original-data-only-aws/ai-original-dataset-k-fold/2019-04/fold_4/merged_val.csv\n",
      "Processed train saved to /kaggle/working/2019-04/fold_4/processed_train.csv\n",
      "Processed val saved to /kaggle/working/2019-04/fold_4/processed_val.csv\n",
      "Processing /kaggle/input/ai-original-data-only-aws/ai-original-dataset-k-fold/2019-04/fold_1/merged_train.csv and /kaggle/input/ai-original-data-only-aws/ai-original-dataset-k-fold/2019-04/fold_1/merged_val.csv\n",
      "Processed train saved to /kaggle/working/2019-04/fold_1/processed_train.csv\n",
      "Processed val saved to /kaggle/working/2019-04/fold_1/processed_val.csv\n",
      "Processing /kaggle/input/ai-original-data-only-aws/ai-original-dataset-k-fold/2019-04/fold_3/merged_train.csv and /kaggle/input/ai-original-data-only-aws/ai-original-dataset-k-fold/2019-04/fold_3/merged_val.csv\n",
      "Processed train saved to /kaggle/working/2019-04/fold_3/processed_train.csv\n",
      "Processed val saved to /kaggle/working/2019-04/fold_3/processed_val.csv\n",
      "Processing /kaggle/input/ai-original-data-only-aws/ai-original-dataset-k-fold/2019-04/fold_2/merged_train.csv and /kaggle/input/ai-original-data-only-aws/ai-original-dataset-k-fold/2019-04/fold_2/merged_val.csv\n",
      "Processed train saved to /kaggle/working/2019-04/fold_2/processed_train.csv\n",
      "Processed val saved to /kaggle/working/2019-04/fold_2/processed_val.csv\n",
      "Processing /kaggle/input/ai-original-data-only-aws/ai-original-dataset-k-fold/2019-04/fold_5/merged_train.csv and /kaggle/input/ai-original-data-only-aws/ai-original-dataset-k-fold/2019-04/fold_5/merged_val.csv\n",
      "Processed train saved to /kaggle/working/2019-04/fold_5/processed_train.csv\n",
      "Processed val saved to /kaggle/working/2019-04/fold_5/processed_val.csv\n"
     ]
    },
    {
     "name": "stderr",
     "output_type": "stream",
     "text": [
      "/usr/local/lib/python3.10/dist-packages/pandas/core/computation/expressions.py:73: RuntimeWarning: invalid value encountered in less_equal\n",
      "  return op(a, b)\n",
      "/usr/local/lib/python3.10/dist-packages/pandas/core/computation/expressions.py:73: RuntimeWarning: invalid value encountered in less_equal\n",
      "  return op(a, b)\n",
      "/usr/local/lib/python3.10/dist-packages/pandas/core/computation/expressions.py:73: RuntimeWarning: invalid value encountered in less_equal\n",
      "  return op(a, b)\n",
      "/usr/local/lib/python3.10/dist-packages/pandas/core/computation/expressions.py:73: RuntimeWarning: invalid value encountered in less_equal\n",
      "  return op(a, b)\n",
      "/usr/local/lib/python3.10/dist-packages/pandas/core/computation/expressions.py:73: RuntimeWarning: invalid value encountered in less_equal\n",
      "  return op(a, b)\n",
      "/usr/local/lib/python3.10/dist-packages/pandas/core/computation/expressions.py:73: RuntimeWarning: invalid value encountered in less_equal\n",
      "  return op(a, b)\n",
      "/usr/local/lib/python3.10/dist-packages/pandas/core/computation/expressions.py:73: RuntimeWarning: invalid value encountered in less_equal\n",
      "  return op(a, b)\n",
      "/usr/local/lib/python3.10/dist-packages/pandas/core/computation/expressions.py:73: RuntimeWarning: invalid value encountered in less_equal\n",
      "  return op(a, b)\n",
      "/usr/local/lib/python3.10/dist-packages/pandas/core/computation/expressions.py:73: RuntimeWarning: invalid value encountered in less_equal\n",
      "  return op(a, b)\n",
      "/usr/local/lib/python3.10/dist-packages/pandas/core/computation/expressions.py:73: RuntimeWarning: invalid value encountered in less_equal\n",
      "  return op(a, b)\n",
      "/usr/local/lib/python3.10/dist-packages/pandas/core/computation/expressions.py:73: RuntimeWarning: invalid value encountered in less_equal\n",
      "  return op(a, b)\n",
      "/usr/local/lib/python3.10/dist-packages/pandas/core/computation/expressions.py:73: RuntimeWarning: invalid value encountered in less_equal\n",
      "  return op(a, b)\n",
      "/usr/local/lib/python3.10/dist-packages/pandas/core/computation/expressions.py:73: RuntimeWarning: invalid value encountered in less_equal\n",
      "  return op(a, b)\n",
      "/usr/local/lib/python3.10/dist-packages/pandas/core/computation/expressions.py:73: RuntimeWarning: invalid value encountered in less_equal\n",
      "  return op(a, b)\n",
      "/usr/local/lib/python3.10/dist-packages/pandas/core/computation/expressions.py:73: RuntimeWarning: invalid value encountered in less_equal\n",
      "  return op(a, b)\n",
      "/usr/local/lib/python3.10/dist-packages/pandas/core/computation/expressions.py:73: RuntimeWarning: invalid value encountered in less_equal\n",
      "  return op(a, b)\n",
      "/usr/local/lib/python3.10/dist-packages/pandas/core/computation/expressions.py:73: RuntimeWarning: invalid value encountered in less_equal\n",
      "  return op(a, b)\n",
      "/usr/local/lib/python3.10/dist-packages/pandas/core/computation/expressions.py:73: RuntimeWarning: invalid value encountered in less_equal\n",
      "  return op(a, b)\n",
      "/usr/local/lib/python3.10/dist-packages/pandas/core/computation/expressions.py:73: RuntimeWarning: invalid value encountered in less_equal\n",
      "  return op(a, b)\n",
      "/usr/local/lib/python3.10/dist-packages/pandas/core/computation/expressions.py:73: RuntimeWarning: invalid value encountered in less_equal\n",
      "  return op(a, b)\n",
      "/usr/local/lib/python3.10/dist-packages/pandas/core/computation/expressions.py:73: RuntimeWarning: invalid value encountered in less_equal\n",
      "  return op(a, b)\n",
      "/usr/local/lib/python3.10/dist-packages/pandas/core/computation/expressions.py:73: RuntimeWarning: invalid value encountered in less_equal\n",
      "  return op(a, b)\n",
      "/usr/local/lib/python3.10/dist-packages/pandas/core/computation/expressions.py:73: RuntimeWarning: invalid value encountered in less_equal\n",
      "  return op(a, b)\n",
      "/usr/local/lib/python3.10/dist-packages/pandas/core/computation/expressions.py:73: RuntimeWarning: invalid value encountered in less_equal\n",
      "  return op(a, b)\n",
      "/usr/local/lib/python3.10/dist-packages/pandas/core/computation/expressions.py:73: RuntimeWarning: invalid value encountered in less_equal\n",
      "  return op(a, b)\n",
      "/usr/local/lib/python3.10/dist-packages/pandas/core/computation/expressions.py:73: RuntimeWarning: invalid value encountered in less_equal\n",
      "  return op(a, b)\n",
      "/usr/local/lib/python3.10/dist-packages/pandas/core/computation/expressions.py:73: RuntimeWarning: invalid value encountered in less_equal\n",
      "  return op(a, b)\n",
      "/usr/local/lib/python3.10/dist-packages/pandas/core/computation/expressions.py:73: RuntimeWarning: invalid value encountered in less_equal\n",
      "  return op(a, b)\n",
      "/usr/local/lib/python3.10/dist-packages/pandas/core/computation/expressions.py:73: RuntimeWarning: invalid value encountered in less_equal\n",
      "  return op(a, b)\n",
      "/usr/local/lib/python3.10/dist-packages/pandas/core/computation/expressions.py:73: RuntimeWarning: invalid value encountered in less_equal\n",
      "  return op(a, b)\n",
      "/usr/local/lib/python3.10/dist-packages/pandas/core/computation/expressions.py:73: RuntimeWarning: invalid value encountered in less_equal\n",
      "  return op(a, b)\n",
      "/usr/local/lib/python3.10/dist-packages/pandas/core/computation/expressions.py:73: RuntimeWarning: invalid value encountered in less_equal\n",
      "  return op(a, b)\n",
      "/usr/local/lib/python3.10/dist-packages/pandas/core/computation/expressions.py:73: RuntimeWarning: invalid value encountered in less_equal\n",
      "  return op(a, b)\n",
      "/usr/local/lib/python3.10/dist-packages/pandas/core/computation/expressions.py:73: RuntimeWarning: invalid value encountered in less_equal\n",
      "  return op(a, b)\n",
      "/usr/local/lib/python3.10/dist-packages/pandas/core/computation/expressions.py:73: RuntimeWarning: invalid value encountered in less_equal\n",
      "  return op(a, b)\n"
     ]
    },
    {
     "name": "stdout",
     "output_type": "stream",
     "text": [
      "🌧 Rain Intensity Distribution After Clipping:\n",
      "No Rain: 2105997 samples\n",
      "Slight Rain: 230842 samples\n",
      "Moderate Rain: 83343 samples\n",
      "Heavy Rain: 0 samples\n",
      "Intense Rain: 0 samples\n"
     ]
    }
   ],
   "source": [
    "import numpy as np\n",
    "import pandas as pd\n",
    "import os\n",
    "import shutil\n",
    "from sklearn.impute import KNNImputer\n",
    "\n",
    "def process_and_save(train_path, val_path, output_dir, n_neighbors=5):\n",
    "    print(f\"Processing {train_path} and {val_path}\")\n",
    "    \n",
    "    # Đọc dữ liệu train và val\n",
    "    df_train = pd.read_csv(train_path)\n",
    "    df_val = pd.read_csv(val_path)\n",
    "    df = pd.concat([df_train, df_val], ignore_index=True)\n",
    "\n",
    "    # Làm sạch giá trị AWS không hợp lệ\n",
    "    df['AWS'] = pd.to_numeric(df['AWS'], errors='coerce')\n",
    "    df.loc[df['AWS'] < 0, 'AWS'] = np.nan\n",
    "\n",
    "    # Impute bằng KNNImputer\n",
    "    impute_features = ['ROW', 'COL', 'AWS']\n",
    "    imputer = KNNImputer(n_neighbors=n_neighbors)\n",
    "    df_imputed = df[impute_features].copy()\n",
    "    df_imputed_values = imputer.fit_transform(df_imputed)\n",
    "    df['AWS'] = df_imputed_values[:, 2]  # Gán lại AWS đã được điền\n",
    "\n",
    "    # Lưu lại dữ liệu đã impute\n",
    "    df_train_processed = df.iloc[:len(df_train)]\n",
    "    df_val_processed = df.iloc[len(df_train):]\n",
    "    os.makedirs(output_dir, exist_ok=True)\n",
    "    df_train_processed.to_csv(os.path.join(output_dir, \"processed_train.csv\"), index=False)\n",
    "    df_val_processed.to_csv(os.path.join(output_dir, \"processed_val.csv\"), index=False)\n",
    "\n",
    "    print(f\"Processed train saved to {os.path.join(output_dir, 'processed_train.csv')}\")\n",
    "    print(f\"Processed val saved to {os.path.join(output_dir, 'processed_val.csv')}\")\n",
    "\n",
    "def process_all_datasets(base_root, n_neighbors=5):\n",
    "    dataset_folders = [f for f in os.listdir(base_root) if os.path.isdir(os.path.join(base_root, f))]\n",
    "    for dataset in dataset_folders:\n",
    "        base_path = os.path.join(base_root, dataset)\n",
    "        output_dir = os.path.join(\"/kaggle/working\", dataset)\n",
    "        folds = [f for f in os.listdir(base_path) if f.startswith(\"fold_\")]\n",
    "        for fold in folds:\n",
    "            train_path = os.path.join(base_path, fold, \"merged_train.csv\")\n",
    "            val_path = os.path.join(base_path, fold, \"merged_val.csv\")\n",
    "            if os.path.exists(train_path) and os.path.exists(val_path):\n",
    "                process_and_save(train_path, val_path, os.path.join(output_dir, fold), n_neighbors=n_neighbors)\n",
    "\n",
    "# === STEP 1: Chạy xử lý train/val ===\n",
    "base_root = \"/kaggle/input/ai-original-data-only-aws/ai-original-dataset-k-fold\"\n",
    "process_all_datasets(base_root, n_neighbors=5)\n",
    "\n",
    "# === STEP 2: Copy merged_test.csv vào đúng vị trí ===\n",
    "src_dataset = '/kaggle/input/ai-original-data-only-aws/ai-original-dataset-k-fold'\n",
    "dst_dataset = '/kaggle/working/only-AWS-impute-KNN'\n",
    "shutil.copytree(src_dataset, dst_dataset, dirs_exist_ok=True)\n",
    "\n",
    "src_test_root = '/kaggle/input/ai-original-data-only-aws/ai-original-dataset-k-fold'\n",
    "for subdir in os.listdir(src_test_root):\n",
    "    subdir_path = os.path.join(src_test_root, subdir)\n",
    "    if os.path.isdir(subdir_path):\n",
    "        for fold in os.listdir(subdir_path):\n",
    "            fold_path = os.path.join(subdir_path, fold)\n",
    "            if os.path.isdir(fold_path):\n",
    "                test_file = os.path.join(fold_path, 'merged_test.csv')\n",
    "                if os.path.exists(test_file):\n",
    "                    dst_fold_path = os.path.join(dst_dataset, subdir, fold)\n",
    "                    os.makedirs(dst_fold_path, exist_ok=True)\n",
    "                    shutil.copy2(test_file, dst_fold_path)\n",
    "\n",
    "# === STEP 3: Clip AWS > 10 và thống kê phân phối mưa ===\n",
    "all_dfs = []\n",
    "for subdir, dirs, files in os.walk(dst_dataset):\n",
    "    for file in files:\n",
    "        if file.endswith('.csv'):\n",
    "            file_path = os.path.join(subdir, file)\n",
    "            df = pd.read_csv(file_path)\n",
    "\n",
    "            df.columns = [col.upper() for col in df.columns]\n",
    "            if 'AWS' in df.columns:\n",
    "                df['AWS'] = pd.to_numeric(df['AWS'], errors='coerce')\n",
    "                df['AWS'] = df['AWS'].clip(upper=10)\n",
    "                df.to_csv(file_path, index=False)\n",
    "                all_dfs.append(df)\n",
    "\n",
    "if all_dfs:\n",
    "    full_df = pd.concat(all_dfs, ignore_index=True)\n",
    "    full_df = full_df[full_df['AWS'].notna()]\n",
    "    conditions = {\n",
    "        'No Rain': (full_df['AWS'] == 0.0),\n",
    "        'Slight Rain': (full_df['AWS'] > 0) & (full_df['AWS'] < 2.5),\n",
    "        'Moderate Rain': (full_df['AWS'] >= 2.5) & (full_df['AWS'] <= 10.0),\n",
    "        'Heavy Rain': (full_df['AWS'] > 10.0) & (full_df['AWS'] <= 50),\n",
    "        'Intense Rain': (full_df['AWS'] > 50)\n",
    "    }\n",
    "\n",
    "    print(\"🌧 Rain Intensity Distribution After Clipping:\")\n",
    "    for label, condition in conditions.items():\n",
    "        print(f\"{label}: {condition.sum()} samples\")\n",
    "else:\n",
    "    print(\"⚠ Không có dữ liệu nào chứa cột 'AWS'.\")\n"
   ]
  }
 ],
 "metadata": {
  "kaggle": {
   "accelerator": "none",
   "dataSources": [
    {
     "datasetId": 6984394,
     "isSourceIdPinned": true,
     "sourceId": 11188229,
     "sourceType": "datasetVersion"
    },
    {
     "datasetId": 7085647,
     "sourceId": 11327529,
     "sourceType": "datasetVersion"
    },
    {
     "datasetId": 7091976,
     "sourceId": 11336948,
     "sourceType": "datasetVersion"
    }
   ],
   "dockerImageVersionId": 30918,
   "isGpuEnabled": false,
   "isInternetEnabled": true,
   "language": "python",
   "sourceType": "notebook"
  },
  "kernelspec": {
   "display_name": "Python 3",
   "language": "python",
   "name": "python3"
  },
  "language_info": {
   "codemirror_mode": {
    "name": "ipython",
    "version": 3
   },
   "file_extension": ".py",
   "mimetype": "text/x-python",
   "name": "python",
   "nbconvert_exporter": "python",
   "pygments_lexer": "ipython3",
   "version": "3.10.12"
  },
  "papermill": {
   "default_parameters": {},
   "duration": 5244.81918,
   "end_time": "2025-04-14T07:06:07.739727",
   "environment_variables": {},
   "exception": null,
   "input_path": "__notebook__.ipynb",
   "output_path": "__notebook__.ipynb",
   "parameters": {},
   "start_time": "2025-04-14T05:38:42.920547",
   "version": "2.6.0"
  }
 },
 "nbformat": 4,
 "nbformat_minor": 5
}
